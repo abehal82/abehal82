{
 "cells": [
  {
   "cell_type": "code",
   "execution_count": 1,
   "metadata": {},
   "outputs": [],
   "source": [
    "import pandas as pd\n",
    "import numpy as np\n",
    "import matplotlib.pyplot as plt\n",
    "import seaborn as sns\n",
    "import scipy.stats as stats\n",
    "%matplotlib inline"
   ]
  },
  {
   "cell_type": "code",
   "execution_count": 2,
   "metadata": {},
   "outputs": [],
   "source": [
    "claims = pd.read_csv('C:/Users/ZomAdmin/Desktop/New folder/New folder/Data Science with python/Python Session 5/Main case submission/5. Pandas Case Study 3 - Insurance Claims Case Study/claims.csv')\n",
    "cust_demographics = pd.read_csv('C:/Users/ZomAdmin/Desktop/New folder/New folder/Data Science with python/Python Session 5/Main case submission/5. Pandas Case Study 3 - Insurance Claims Case Study/cust_demographics.csv')"
   ]
  },
  {
   "cell_type": "code",
   "execution_count": 3,
   "metadata": {},
   "outputs": [
    {
     "data": {
      "text/html": [
       "<div>\n",
       "<style scoped>\n",
       "    .dataframe tbody tr th:only-of-type {\n",
       "        vertical-align: middle;\n",
       "    }\n",
       "\n",
       "    .dataframe tbody tr th {\n",
       "        vertical-align: top;\n",
       "    }\n",
       "\n",
       "    .dataframe thead th {\n",
       "        text-align: right;\n",
       "    }\n",
       "</style>\n",
       "<table border=\"1\" class=\"dataframe\">\n",
       "  <thead>\n",
       "    <tr style=\"text-align: right;\">\n",
       "      <th></th>\n",
       "      <th>claim_id</th>\n",
       "      <th>customer_id</th>\n",
       "      <th>incident_cause</th>\n",
       "      <th>claim_date</th>\n",
       "      <th>claim_area</th>\n",
       "      <th>police_report</th>\n",
       "      <th>claim_type</th>\n",
       "      <th>claim_amount</th>\n",
       "      <th>total_policy_claims</th>\n",
       "      <th>fraudulent</th>\n",
       "    </tr>\n",
       "  </thead>\n",
       "  <tbody>\n",
       "    <tr>\n",
       "      <th>0</th>\n",
       "      <td>54004764</td>\n",
       "      <td>21868593</td>\n",
       "      <td>Driver error</td>\n",
       "      <td>11/27/2017</td>\n",
       "      <td>Auto</td>\n",
       "      <td>No</td>\n",
       "      <td>Material only</td>\n",
       "      <td>$2980</td>\n",
       "      <td>1.0</td>\n",
       "      <td>No</td>\n",
       "    </tr>\n",
       "    <tr>\n",
       "      <th>1</th>\n",
       "      <td>33985796</td>\n",
       "      <td>75740424</td>\n",
       "      <td>Crime</td>\n",
       "      <td>10/03/2018</td>\n",
       "      <td>Home</td>\n",
       "      <td>Unknown</td>\n",
       "      <td>Material only</td>\n",
       "      <td>$2980</td>\n",
       "      <td>3.0</td>\n",
       "      <td>No</td>\n",
       "    </tr>\n",
       "    <tr>\n",
       "      <th>2</th>\n",
       "      <td>53522022</td>\n",
       "      <td>30308357</td>\n",
       "      <td>Other driver error</td>\n",
       "      <td>02/02/2018</td>\n",
       "      <td>Auto</td>\n",
       "      <td>No</td>\n",
       "      <td>Material only</td>\n",
       "      <td>$3369.5</td>\n",
       "      <td>1.0</td>\n",
       "      <td>Yes</td>\n",
       "    </tr>\n",
       "    <tr>\n",
       "      <th>3</th>\n",
       "      <td>13015401</td>\n",
       "      <td>47830476</td>\n",
       "      <td>Natural causes</td>\n",
       "      <td>06/17/2018</td>\n",
       "      <td>Auto</td>\n",
       "      <td>No</td>\n",
       "      <td>Material only</td>\n",
       "      <td>$1680</td>\n",
       "      <td>1.0</td>\n",
       "      <td>No</td>\n",
       "    </tr>\n",
       "    <tr>\n",
       "      <th>4</th>\n",
       "      <td>22890252</td>\n",
       "      <td>19269962</td>\n",
       "      <td>Crime</td>\n",
       "      <td>01/13/2018</td>\n",
       "      <td>Auto</td>\n",
       "      <td>No</td>\n",
       "      <td>Material only</td>\n",
       "      <td>$2680</td>\n",
       "      <td>1.0</td>\n",
       "      <td>No</td>\n",
       "    </tr>\n",
       "    <tr>\n",
       "      <th>...</th>\n",
       "      <td>...</td>\n",
       "      <td>...</td>\n",
       "      <td>...</td>\n",
       "      <td>...</td>\n",
       "      <td>...</td>\n",
       "      <td>...</td>\n",
       "      <td>...</td>\n",
       "      <td>...</td>\n",
       "      <td>...</td>\n",
       "      <td>...</td>\n",
       "    </tr>\n",
       "    <tr>\n",
       "      <th>1095</th>\n",
       "      <td>97727122</td>\n",
       "      <td>35951012</td>\n",
       "      <td>Other driver error</td>\n",
       "      <td>06/11/2017</td>\n",
       "      <td>Auto</td>\n",
       "      <td>No</td>\n",
       "      <td>Material only</td>\n",
       "      <td>$3059</td>\n",
       "      <td>4.0</td>\n",
       "      <td>Yes</td>\n",
       "    </tr>\n",
       "    <tr>\n",
       "      <th>1096</th>\n",
       "      <td>10247193</td>\n",
       "      <td>14818669</td>\n",
       "      <td>Natural causes</td>\n",
       "      <td>03/14/2018</td>\n",
       "      <td>Auto</td>\n",
       "      <td>No</td>\n",
       "      <td>Material only</td>\n",
       "      <td>$1520</td>\n",
       "      <td>2.0</td>\n",
       "      <td>No</td>\n",
       "    </tr>\n",
       "    <tr>\n",
       "      <th>1097</th>\n",
       "      <td>79807493</td>\n",
       "      <td>85322831</td>\n",
       "      <td>Other driver error</td>\n",
       "      <td>02/09/2018</td>\n",
       "      <td>Auto</td>\n",
       "      <td>No</td>\n",
       "      <td>Material and injury</td>\n",
       "      <td>$23575</td>\n",
       "      <td>2.0</td>\n",
       "      <td>Yes</td>\n",
       "    </tr>\n",
       "    <tr>\n",
       "      <th>1098</th>\n",
       "      <td>69299345</td>\n",
       "      <td>73449366</td>\n",
       "      <td>Other causes</td>\n",
       "      <td>03/21/2018</td>\n",
       "      <td>Auto</td>\n",
       "      <td>Unknown</td>\n",
       "      <td>Material and injury</td>\n",
       "      <td>$25120</td>\n",
       "      <td>1.0</td>\n",
       "      <td>No</td>\n",
       "    </tr>\n",
       "    <tr>\n",
       "      <th>1099</th>\n",
       "      <td>58809728</td>\n",
       "      <td>43020876</td>\n",
       "      <td>Other driver error</td>\n",
       "      <td>06/04/2017</td>\n",
       "      <td>Auto</td>\n",
       "      <td>Yes</td>\n",
       "      <td>Material and injury</td>\n",
       "      <td>$36685</td>\n",
       "      <td>3.0</td>\n",
       "      <td>Yes</td>\n",
       "    </tr>\n",
       "  </tbody>\n",
       "</table>\n",
       "<p>1100 rows × 10 columns</p>\n",
       "</div>"
      ],
      "text/plain": [
       "      claim_id  customer_id      incident_cause  claim_date claim_area  \\\n",
       "0     54004764     21868593        Driver error  11/27/2017       Auto   \n",
       "1     33985796     75740424               Crime  10/03/2018       Home   \n",
       "2     53522022     30308357  Other driver error  02/02/2018       Auto   \n",
       "3     13015401     47830476      Natural causes  06/17/2018       Auto   \n",
       "4     22890252     19269962               Crime  01/13/2018       Auto   \n",
       "...        ...          ...                 ...         ...        ...   \n",
       "1095  97727122     35951012  Other driver error  06/11/2017       Auto   \n",
       "1096  10247193     14818669      Natural causes  03/14/2018       Auto   \n",
       "1097  79807493     85322831  Other driver error  02/09/2018       Auto   \n",
       "1098  69299345     73449366        Other causes  03/21/2018       Auto   \n",
       "1099  58809728     43020876  Other driver error  06/04/2017       Auto   \n",
       "\n",
       "     police_report           claim_type claim_amount  total_policy_claims  \\\n",
       "0               No        Material only        $2980                  1.0   \n",
       "1          Unknown        Material only        $2980                  3.0   \n",
       "2               No        Material only      $3369.5                  1.0   \n",
       "3               No        Material only        $1680                  1.0   \n",
       "4               No        Material only        $2680                  1.0   \n",
       "...            ...                  ...          ...                  ...   \n",
       "1095            No        Material only        $3059                  4.0   \n",
       "1096            No        Material only        $1520                  2.0   \n",
       "1097            No  Material and injury       $23575                  2.0   \n",
       "1098       Unknown  Material and injury       $25120                  1.0   \n",
       "1099           Yes  Material and injury       $36685                  3.0   \n",
       "\n",
       "     fraudulent  \n",
       "0            No  \n",
       "1            No  \n",
       "2           Yes  \n",
       "3            No  \n",
       "4            No  \n",
       "...         ...  \n",
       "1095        Yes  \n",
       "1096         No  \n",
       "1097        Yes  \n",
       "1098         No  \n",
       "1099        Yes  \n",
       "\n",
       "[1100 rows x 10 columns]"
      ]
     },
     "execution_count": 3,
     "metadata": {},
     "output_type": "execute_result"
    }
   ],
   "source": [
    "claims"
   ]
  },
  {
   "cell_type": "code",
   "execution_count": 4,
   "metadata": {},
   "outputs": [
    {
     "data": {
      "text/html": [
       "<div>\n",
       "<style scoped>\n",
       "    .dataframe tbody tr th:only-of-type {\n",
       "        vertical-align: middle;\n",
       "    }\n",
       "\n",
       "    .dataframe tbody tr th {\n",
       "        vertical-align: top;\n",
       "    }\n",
       "\n",
       "    .dataframe thead th {\n",
       "        text-align: right;\n",
       "    }\n",
       "</style>\n",
       "<table border=\"1\" class=\"dataframe\">\n",
       "  <thead>\n",
       "    <tr style=\"text-align: right;\">\n",
       "      <th></th>\n",
       "      <th>CUST_ID</th>\n",
       "      <th>gender</th>\n",
       "      <th>DateOfBirth</th>\n",
       "      <th>State</th>\n",
       "      <th>Contact</th>\n",
       "      <th>Segment</th>\n",
       "    </tr>\n",
       "  </thead>\n",
       "  <tbody>\n",
       "    <tr>\n",
       "      <th>0</th>\n",
       "      <td>21868593</td>\n",
       "      <td>Female</td>\n",
       "      <td>12-Jan-79</td>\n",
       "      <td>VT</td>\n",
       "      <td>789-916-8172</td>\n",
       "      <td>Platinum</td>\n",
       "    </tr>\n",
       "    <tr>\n",
       "      <th>1</th>\n",
       "      <td>75740424</td>\n",
       "      <td>Female</td>\n",
       "      <td>13-Jan-70</td>\n",
       "      <td>ME</td>\n",
       "      <td>265-543-1264</td>\n",
       "      <td>Silver</td>\n",
       "    </tr>\n",
       "    <tr>\n",
       "      <th>2</th>\n",
       "      <td>30308357</td>\n",
       "      <td>Female</td>\n",
       "      <td>11-Mar-84</td>\n",
       "      <td>TN</td>\n",
       "      <td>798-631-4758</td>\n",
       "      <td>Silver</td>\n",
       "    </tr>\n",
       "    <tr>\n",
       "      <th>3</th>\n",
       "      <td>47830476</td>\n",
       "      <td>Female</td>\n",
       "      <td>01-May-86</td>\n",
       "      <td>MA</td>\n",
       "      <td>413-187-7945</td>\n",
       "      <td>Silver</td>\n",
       "    </tr>\n",
       "    <tr>\n",
       "      <th>4</th>\n",
       "      <td>19269962</td>\n",
       "      <td>Male</td>\n",
       "      <td>13-May-77</td>\n",
       "      <td>NV</td>\n",
       "      <td>956-871-8691</td>\n",
       "      <td>Gold</td>\n",
       "    </tr>\n",
       "    <tr>\n",
       "      <th>...</th>\n",
       "      <td>...</td>\n",
       "      <td>...</td>\n",
       "      <td>...</td>\n",
       "      <td>...</td>\n",
       "      <td>...</td>\n",
       "      <td>...</td>\n",
       "    </tr>\n",
       "    <tr>\n",
       "      <th>1080</th>\n",
       "      <td>79539873</td>\n",
       "      <td>Female</td>\n",
       "      <td>15-Mar-81</td>\n",
       "      <td>ND</td>\n",
       "      <td>459-425-4319</td>\n",
       "      <td>Platinum</td>\n",
       "    </tr>\n",
       "    <tr>\n",
       "      <th>1081</th>\n",
       "      <td>42364152</td>\n",
       "      <td>Female</td>\n",
       "      <td>07-Jul-96</td>\n",
       "      <td>ID</td>\n",
       "      <td>529-462-1635</td>\n",
       "      <td>Silver</td>\n",
       "    </tr>\n",
       "    <tr>\n",
       "      <th>1082</th>\n",
       "      <td>19888166</td>\n",
       "      <td>Male</td>\n",
       "      <td>11-Apr-90</td>\n",
       "      <td>WI</td>\n",
       "      <td>712-651-9613</td>\n",
       "      <td>Gold</td>\n",
       "    </tr>\n",
       "    <tr>\n",
       "      <th>1083</th>\n",
       "      <td>11256802</td>\n",
       "      <td>Female</td>\n",
       "      <td>22-Oct-64</td>\n",
       "      <td>LA</td>\n",
       "      <td>469-345-5617</td>\n",
       "      <td>Silver</td>\n",
       "    </tr>\n",
       "    <tr>\n",
       "      <th>1084</th>\n",
       "      <td>61575264</td>\n",
       "      <td>Male</td>\n",
       "      <td>12-Jul-95</td>\n",
       "      <td>WY</td>\n",
       "      <td>182-385-1392</td>\n",
       "      <td>Gold</td>\n",
       "    </tr>\n",
       "  </tbody>\n",
       "</table>\n",
       "<p>1085 rows × 6 columns</p>\n",
       "</div>"
      ],
      "text/plain": [
       "       CUST_ID  gender DateOfBirth State       Contact   Segment\n",
       "0     21868593  Female   12-Jan-79    VT  789-916-8172  Platinum\n",
       "1     75740424  Female   13-Jan-70    ME  265-543-1264    Silver\n",
       "2     30308357  Female   11-Mar-84    TN  798-631-4758    Silver\n",
       "3     47830476  Female   01-May-86    MA  413-187-7945    Silver\n",
       "4     19269962    Male   13-May-77    NV  956-871-8691      Gold\n",
       "...        ...     ...         ...   ...           ...       ...\n",
       "1080  79539873  Female   15-Mar-81    ND  459-425-4319  Platinum\n",
       "1081  42364152  Female   07-Jul-96    ID  529-462-1635    Silver\n",
       "1082  19888166    Male   11-Apr-90    WI  712-651-9613      Gold\n",
       "1083  11256802  Female   22-Oct-64    LA  469-345-5617    Silver\n",
       "1084  61575264    Male   12-Jul-95    WY  182-385-1392      Gold\n",
       "\n",
       "[1085 rows x 6 columns]"
      ]
     },
     "execution_count": 4,
     "metadata": {},
     "output_type": "execute_result"
    }
   ],
   "source": [
    "cust_demographics"
   ]
  },
  {
   "cell_type": "markdown",
   "metadata": {},
   "source": [
    "# 1. Import claims_data.csv and cust_data.csv which is provided to you and combine the two datasets appropriately to create a 360-degree view of the data. Use the same for the subsequent questions."
   ]
  },
  {
   "cell_type": "code",
   "execution_count": 5,
   "metadata": {},
   "outputs": [],
   "source": [
    "final_data = pd.merge(left=cust_demographics,right=claims,how='left',left_on='CUST_ID',right_on='customer_id')"
   ]
  },
  {
   "cell_type": "code",
   "execution_count": 6,
   "metadata": {},
   "outputs": [
    {
     "data": {
      "text/html": [
       "<div>\n",
       "<style scoped>\n",
       "    .dataframe tbody tr th:only-of-type {\n",
       "        vertical-align: middle;\n",
       "    }\n",
       "\n",
       "    .dataframe tbody tr th {\n",
       "        vertical-align: top;\n",
       "    }\n",
       "\n",
       "    .dataframe thead th {\n",
       "        text-align: right;\n",
       "    }\n",
       "</style>\n",
       "<table border=\"1\" class=\"dataframe\">\n",
       "  <thead>\n",
       "    <tr style=\"text-align: right;\">\n",
       "      <th></th>\n",
       "      <th>CUST_ID</th>\n",
       "      <th>gender</th>\n",
       "      <th>DateOfBirth</th>\n",
       "      <th>State</th>\n",
       "      <th>Contact</th>\n",
       "      <th>Segment</th>\n",
       "      <th>claim_id</th>\n",
       "      <th>customer_id</th>\n",
       "      <th>incident_cause</th>\n",
       "      <th>claim_date</th>\n",
       "      <th>claim_area</th>\n",
       "      <th>police_report</th>\n",
       "      <th>claim_type</th>\n",
       "      <th>claim_amount</th>\n",
       "      <th>total_policy_claims</th>\n",
       "      <th>fraudulent</th>\n",
       "    </tr>\n",
       "  </thead>\n",
       "  <tbody>\n",
       "    <tr>\n",
       "      <th>0</th>\n",
       "      <td>21868593</td>\n",
       "      <td>Female</td>\n",
       "      <td>12-Jan-79</td>\n",
       "      <td>VT</td>\n",
       "      <td>789-916-8172</td>\n",
       "      <td>Platinum</td>\n",
       "      <td>54004764.0</td>\n",
       "      <td>21868593.0</td>\n",
       "      <td>Driver error</td>\n",
       "      <td>11/27/2017</td>\n",
       "      <td>Auto</td>\n",
       "      <td>No</td>\n",
       "      <td>Material only</td>\n",
       "      <td>$2980</td>\n",
       "      <td>1.0</td>\n",
       "      <td>No</td>\n",
       "    </tr>\n",
       "    <tr>\n",
       "      <th>1</th>\n",
       "      <td>75740424</td>\n",
       "      <td>Female</td>\n",
       "      <td>13-Jan-70</td>\n",
       "      <td>ME</td>\n",
       "      <td>265-543-1264</td>\n",
       "      <td>Silver</td>\n",
       "      <td>33985796.0</td>\n",
       "      <td>75740424.0</td>\n",
       "      <td>Crime</td>\n",
       "      <td>10/03/2018</td>\n",
       "      <td>Home</td>\n",
       "      <td>Unknown</td>\n",
       "      <td>Material only</td>\n",
       "      <td>$2980</td>\n",
       "      <td>3.0</td>\n",
       "      <td>No</td>\n",
       "    </tr>\n",
       "  </tbody>\n",
       "</table>\n",
       "</div>"
      ],
      "text/plain": [
       "    CUST_ID  gender DateOfBirth State       Contact   Segment    claim_id  \\\n",
       "0  21868593  Female   12-Jan-79    VT  789-916-8172  Platinum  54004764.0   \n",
       "1  75740424  Female   13-Jan-70    ME  265-543-1264    Silver  33985796.0   \n",
       "\n",
       "   customer_id incident_cause  claim_date claim_area police_report  \\\n",
       "0   21868593.0   Driver error  11/27/2017       Auto            No   \n",
       "1   75740424.0          Crime  10/03/2018       Home       Unknown   \n",
       "\n",
       "      claim_type claim_amount  total_policy_claims fraudulent  \n",
       "0  Material only        $2980                  1.0         No  \n",
       "1  Material only        $2980                  3.0         No  "
      ]
     },
     "execution_count": 6,
     "metadata": {},
     "output_type": "execute_result"
    }
   ],
   "source": [
    "final_data.head(2)"
   ]
  },
  {
   "cell_type": "code",
   "execution_count": 7,
   "metadata": {},
   "outputs": [
    {
     "data": {
      "text/html": [
       "<div>\n",
       "<style scoped>\n",
       "    .dataframe tbody tr th:only-of-type {\n",
       "        vertical-align: middle;\n",
       "    }\n",
       "\n",
       "    .dataframe tbody tr th {\n",
       "        vertical-align: top;\n",
       "    }\n",
       "\n",
       "    .dataframe thead th {\n",
       "        text-align: right;\n",
       "    }\n",
       "</style>\n",
       "<table border=\"1\" class=\"dataframe\">\n",
       "  <thead>\n",
       "    <tr style=\"text-align: right;\">\n",
       "      <th></th>\n",
       "      <th>count</th>\n",
       "      <th>mean</th>\n",
       "      <th>std</th>\n",
       "      <th>min</th>\n",
       "      <th>25%</th>\n",
       "      <th>50%</th>\n",
       "      <th>75%</th>\n",
       "      <th>max</th>\n",
       "    </tr>\n",
       "  </thead>\n",
       "  <tbody>\n",
       "    <tr>\n",
       "      <th>CUST_ID</th>\n",
       "      <td>1092.0</td>\n",
       "      <td>50831621.40</td>\n",
       "      <td>28462146.91</td>\n",
       "      <td>154557.0</td>\n",
       "      <td>26673324.5</td>\n",
       "      <td>49790067.0</td>\n",
       "      <td>76019781.25</td>\n",
       "      <td>99961993.0</td>\n",
       "    </tr>\n",
       "    <tr>\n",
       "      <th>claim_id</th>\n",
       "      <td>1085.0</td>\n",
       "      <td>48915528.40</td>\n",
       "      <td>29128181.62</td>\n",
       "      <td>26832.0</td>\n",
       "      <td>24046062.0</td>\n",
       "      <td>48559754.0</td>\n",
       "      <td>74043997.00</td>\n",
       "      <td>99775483.0</td>\n",
       "    </tr>\n",
       "    <tr>\n",
       "      <th>customer_id</th>\n",
       "      <td>1085.0</td>\n",
       "      <td>50767904.34</td>\n",
       "      <td>28496245.37</td>\n",
       "      <td>154557.0</td>\n",
       "      <td>26450621.0</td>\n",
       "      <td>49759488.0</td>\n",
       "      <td>76093960.00</td>\n",
       "      <td>99961993.0</td>\n",
       "    </tr>\n",
       "    <tr>\n",
       "      <th>total_policy_claims</th>\n",
       "      <td>1075.0</td>\n",
       "      <td>1.59</td>\n",
       "      <td>1.15</td>\n",
       "      <td>1.0</td>\n",
       "      <td>1.0</td>\n",
       "      <td>1.0</td>\n",
       "      <td>2.00</td>\n",
       "      <td>8.0</td>\n",
       "    </tr>\n",
       "  </tbody>\n",
       "</table>\n",
       "</div>"
      ],
      "text/plain": [
       "                      count         mean          std       min         25%  \\\n",
       "CUST_ID              1092.0  50831621.40  28462146.91  154557.0  26673324.5   \n",
       "claim_id             1085.0  48915528.40  29128181.62   26832.0  24046062.0   \n",
       "customer_id          1085.0  50767904.34  28496245.37  154557.0  26450621.0   \n",
       "total_policy_claims  1075.0         1.59         1.15       1.0         1.0   \n",
       "\n",
       "                            50%          75%         max  \n",
       "CUST_ID              49790067.0  76019781.25  99961993.0  \n",
       "claim_id             48559754.0  74043997.00  99775483.0  \n",
       "customer_id          49759488.0  76093960.00  99961993.0  \n",
       "total_policy_claims         1.0         2.00         8.0  "
      ]
     },
     "execution_count": 7,
     "metadata": {},
     "output_type": "execute_result"
    }
   ],
   "source": [
    "round(final_data.describe().T,2,)"
   ]
  },
  {
   "cell_type": "code",
   "execution_count": 8,
   "metadata": {},
   "outputs": [
    {
     "data": {
      "text/html": [
       "<div>\n",
       "<style scoped>\n",
       "    .dataframe tbody tr th:only-of-type {\n",
       "        vertical-align: middle;\n",
       "    }\n",
       "\n",
       "    .dataframe tbody tr th {\n",
       "        vertical-align: top;\n",
       "    }\n",
       "\n",
       "    .dataframe thead th {\n",
       "        text-align: right;\n",
       "    }\n",
       "</style>\n",
       "<table border=\"1\" class=\"dataframe\">\n",
       "  <thead>\n",
       "    <tr style=\"text-align: right;\">\n",
       "      <th></th>\n",
       "      <th>count</th>\n",
       "      <th>unique</th>\n",
       "      <th>top</th>\n",
       "      <th>freq</th>\n",
       "    </tr>\n",
       "  </thead>\n",
       "  <tbody>\n",
       "    <tr>\n",
       "      <th>gender</th>\n",
       "      <td>1092</td>\n",
       "      <td>2</td>\n",
       "      <td>Male</td>\n",
       "      <td>558</td>\n",
       "    </tr>\n",
       "    <tr>\n",
       "      <th>DateOfBirth</th>\n",
       "      <td>1092</td>\n",
       "      <td>1085</td>\n",
       "      <td>01-May-86</td>\n",
       "      <td>2</td>\n",
       "    </tr>\n",
       "    <tr>\n",
       "      <th>State</th>\n",
       "      <td>1092</td>\n",
       "      <td>50</td>\n",
       "      <td>NY</td>\n",
       "      <td>31</td>\n",
       "    </tr>\n",
       "    <tr>\n",
       "      <th>Contact</th>\n",
       "      <td>1092</td>\n",
       "      <td>1085</td>\n",
       "      <td>743-569-4783</td>\n",
       "      <td>2</td>\n",
       "    </tr>\n",
       "    <tr>\n",
       "      <th>Segment</th>\n",
       "      <td>1092</td>\n",
       "      <td>3</td>\n",
       "      <td>Gold</td>\n",
       "      <td>376</td>\n",
       "    </tr>\n",
       "    <tr>\n",
       "      <th>incident_cause</th>\n",
       "      <td>1085</td>\n",
       "      <td>5</td>\n",
       "      <td>Other causes</td>\n",
       "      <td>285</td>\n",
       "    </tr>\n",
       "    <tr>\n",
       "      <th>claim_date</th>\n",
       "      <td>1085</td>\n",
       "      <td>100</td>\n",
       "      <td>04/04/2018</td>\n",
       "      <td>18</td>\n",
       "    </tr>\n",
       "    <tr>\n",
       "      <th>claim_area</th>\n",
       "      <td>1085</td>\n",
       "      <td>2</td>\n",
       "      <td>Auto</td>\n",
       "      <td>970</td>\n",
       "    </tr>\n",
       "    <tr>\n",
       "      <th>police_report</th>\n",
       "      <td>1085</td>\n",
       "      <td>3</td>\n",
       "      <td>No</td>\n",
       "      <td>621</td>\n",
       "    </tr>\n",
       "    <tr>\n",
       "      <th>claim_type</th>\n",
       "      <td>1085</td>\n",
       "      <td>3</td>\n",
       "      <td>Material only</td>\n",
       "      <td>653</td>\n",
       "    </tr>\n",
       "    <tr>\n",
       "      <th>claim_amount</th>\n",
       "      <td>1020</td>\n",
       "      <td>676</td>\n",
       "      <td>$1860</td>\n",
       "      <td>7</td>\n",
       "    </tr>\n",
       "    <tr>\n",
       "      <th>fraudulent</th>\n",
       "      <td>1085</td>\n",
       "      <td>2</td>\n",
       "      <td>No</td>\n",
       "      <td>838</td>\n",
       "    </tr>\n",
       "  </tbody>\n",
       "</table>\n",
       "</div>"
      ],
      "text/plain": [
       "               count unique            top freq\n",
       "gender          1092      2           Male  558\n",
       "DateOfBirth     1092   1085      01-May-86    2\n",
       "State           1092     50             NY   31\n",
       "Contact         1092   1085   743-569-4783    2\n",
       "Segment         1092      3           Gold  376\n",
       "incident_cause  1085      5   Other causes  285\n",
       "claim_date      1085    100     04/04/2018   18\n",
       "claim_area      1085      2           Auto  970\n",
       "police_report   1085      3             No  621\n",
       "claim_type      1085      3  Material only  653\n",
       "claim_amount    1020    676          $1860    7\n",
       "fraudulent      1085      2             No  838"
      ]
     },
     "execution_count": 8,
     "metadata": {},
     "output_type": "execute_result"
    }
   ],
   "source": [
    "final_data.select_dtypes('object').describe().T"
   ]
  },
  {
   "cell_type": "markdown",
   "metadata": {},
   "source": [
    "# 2. Perform a data audit for the datatypes and find out if there are any mismatch within the current datatypes of the columns and their business significance."
   ]
  },
  {
   "cell_type": "code",
   "execution_count": 9,
   "metadata": {},
   "outputs": [
    {
     "data": {
      "text/plain": [
       "CUST_ID                  int64\n",
       "gender                  object\n",
       "DateOfBirth             object\n",
       "State                   object\n",
       "Contact                 object\n",
       "Segment                 object\n",
       "claim_id               float64\n",
       "customer_id            float64\n",
       "incident_cause          object\n",
       "claim_date              object\n",
       "claim_area              object\n",
       "police_report           object\n",
       "claim_type              object\n",
       "claim_amount            object\n",
       "total_policy_claims    float64\n",
       "fraudulent              object\n",
       "dtype: object"
      ]
     },
     "execution_count": 9,
     "metadata": {},
     "output_type": "execute_result"
    }
   ],
   "source": [
    "final_data.dtypes ### As for the datatypes several columns has wrong datatypes as of now will keep changing them going forward\n",
    "##e.g (DateOfBirth,claim_amount,Contact,claim_date,) -- Datatypes should be changed for these columns "
   ]
  },
  {
   "cell_type": "code",
   "execution_count": 10,
   "metadata": {},
   "outputs": [
    {
     "data": {
      "text/html": [
       "<div>\n",
       "<style scoped>\n",
       "    .dataframe tbody tr th:only-of-type {\n",
       "        vertical-align: middle;\n",
       "    }\n",
       "\n",
       "    .dataframe tbody tr th {\n",
       "        vertical-align: top;\n",
       "    }\n",
       "\n",
       "    .dataframe thead th {\n",
       "        text-align: right;\n",
       "    }\n",
       "</style>\n",
       "<table border=\"1\" class=\"dataframe\">\n",
       "  <thead>\n",
       "    <tr style=\"text-align: right;\">\n",
       "      <th></th>\n",
       "      <th>CUST_ID</th>\n",
       "      <th>gender</th>\n",
       "      <th>DateOfBirth</th>\n",
       "      <th>State</th>\n",
       "      <th>Contact</th>\n",
       "      <th>Segment</th>\n",
       "      <th>claim_id</th>\n",
       "      <th>customer_id</th>\n",
       "      <th>incident_cause</th>\n",
       "      <th>claim_date</th>\n",
       "      <th>claim_area</th>\n",
       "      <th>police_report</th>\n",
       "      <th>claim_type</th>\n",
       "      <th>claim_amount</th>\n",
       "      <th>total_policy_claims</th>\n",
       "      <th>fraudulent</th>\n",
       "    </tr>\n",
       "  </thead>\n",
       "  <tbody>\n",
       "    <tr>\n",
       "      <th>0</th>\n",
       "      <td>21868593</td>\n",
       "      <td>Female</td>\n",
       "      <td>12-Jan-79</td>\n",
       "      <td>VT</td>\n",
       "      <td>789-916-8172</td>\n",
       "      <td>Platinum</td>\n",
       "      <td>54004764.0</td>\n",
       "      <td>21868593.0</td>\n",
       "      <td>Driver error</td>\n",
       "      <td>11/27/2017</td>\n",
       "      <td>Auto</td>\n",
       "      <td>No</td>\n",
       "      <td>Material only</td>\n",
       "      <td>$2980</td>\n",
       "      <td>1.0</td>\n",
       "      <td>No</td>\n",
       "    </tr>\n",
       "    <tr>\n",
       "      <th>1</th>\n",
       "      <td>75740424</td>\n",
       "      <td>Female</td>\n",
       "      <td>13-Jan-70</td>\n",
       "      <td>ME</td>\n",
       "      <td>265-543-1264</td>\n",
       "      <td>Silver</td>\n",
       "      <td>33985796.0</td>\n",
       "      <td>75740424.0</td>\n",
       "      <td>Crime</td>\n",
       "      <td>10/03/2018</td>\n",
       "      <td>Home</td>\n",
       "      <td>Unknown</td>\n",
       "      <td>Material only</td>\n",
       "      <td>$2980</td>\n",
       "      <td>3.0</td>\n",
       "      <td>No</td>\n",
       "    </tr>\n",
       "    <tr>\n",
       "      <th>2</th>\n",
       "      <td>30308357</td>\n",
       "      <td>Female</td>\n",
       "      <td>11-Mar-84</td>\n",
       "      <td>TN</td>\n",
       "      <td>798-631-4758</td>\n",
       "      <td>Silver</td>\n",
       "      <td>53522022.0</td>\n",
       "      <td>30308357.0</td>\n",
       "      <td>Other driver error</td>\n",
       "      <td>02/02/2018</td>\n",
       "      <td>Auto</td>\n",
       "      <td>No</td>\n",
       "      <td>Material only</td>\n",
       "      <td>$3369.5</td>\n",
       "      <td>1.0</td>\n",
       "      <td>Yes</td>\n",
       "    </tr>\n",
       "    <tr>\n",
       "      <th>3</th>\n",
       "      <td>30308357</td>\n",
       "      <td>Female</td>\n",
       "      <td>11-Mar-84</td>\n",
       "      <td>TN</td>\n",
       "      <td>798-631-4758</td>\n",
       "      <td>Silver</td>\n",
       "      <td>63017412.0</td>\n",
       "      <td>30308357.0</td>\n",
       "      <td>Driver error</td>\n",
       "      <td>04/04/2018</td>\n",
       "      <td>Auto</td>\n",
       "      <td>No</td>\n",
       "      <td>Material only</td>\n",
       "      <td>$1950</td>\n",
       "      <td>6.0</td>\n",
       "      <td>No</td>\n",
       "    </tr>\n",
       "    <tr>\n",
       "      <th>4</th>\n",
       "      <td>47830476</td>\n",
       "      <td>Female</td>\n",
       "      <td>01-May-86</td>\n",
       "      <td>MA</td>\n",
       "      <td>413-187-7945</td>\n",
       "      <td>Silver</td>\n",
       "      <td>13015401.0</td>\n",
       "      <td>47830476.0</td>\n",
       "      <td>Natural causes</td>\n",
       "      <td>06/17/2018</td>\n",
       "      <td>Auto</td>\n",
       "      <td>No</td>\n",
       "      <td>Material only</td>\n",
       "      <td>$1680</td>\n",
       "      <td>1.0</td>\n",
       "      <td>No</td>\n",
       "    </tr>\n",
       "    <tr>\n",
       "      <th>...</th>\n",
       "      <td>...</td>\n",
       "      <td>...</td>\n",
       "      <td>...</td>\n",
       "      <td>...</td>\n",
       "      <td>...</td>\n",
       "      <td>...</td>\n",
       "      <td>...</td>\n",
       "      <td>...</td>\n",
       "      <td>...</td>\n",
       "      <td>...</td>\n",
       "      <td>...</td>\n",
       "      <td>...</td>\n",
       "      <td>...</td>\n",
       "      <td>...</td>\n",
       "      <td>...</td>\n",
       "      <td>...</td>\n",
       "    </tr>\n",
       "    <tr>\n",
       "      <th>1087</th>\n",
       "      <td>79539873</td>\n",
       "      <td>Female</td>\n",
       "      <td>15-Mar-81</td>\n",
       "      <td>ND</td>\n",
       "      <td>459-425-4319</td>\n",
       "      <td>Platinum</td>\n",
       "      <td>62020796.0</td>\n",
       "      <td>79539873.0</td>\n",
       "      <td>Other driver error</td>\n",
       "      <td>09/06/2018</td>\n",
       "      <td>Auto</td>\n",
       "      <td>Yes</td>\n",
       "      <td>Material only</td>\n",
       "      <td>$1770</td>\n",
       "      <td>1.0</td>\n",
       "      <td>No</td>\n",
       "    </tr>\n",
       "    <tr>\n",
       "      <th>1088</th>\n",
       "      <td>42364152</td>\n",
       "      <td>Female</td>\n",
       "      <td>07-Jul-96</td>\n",
       "      <td>ID</td>\n",
       "      <td>529-462-1635</td>\n",
       "      <td>Silver</td>\n",
       "      <td>63269067.0</td>\n",
       "      <td>42364152.0</td>\n",
       "      <td>Other causes</td>\n",
       "      <td>05/09/2017</td>\n",
       "      <td>Home</td>\n",
       "      <td>No</td>\n",
       "      <td>Material only</td>\n",
       "      <td>$2800</td>\n",
       "      <td>1.0</td>\n",
       "      <td>No</td>\n",
       "    </tr>\n",
       "    <tr>\n",
       "      <th>1089</th>\n",
       "      <td>19888166</td>\n",
       "      <td>Male</td>\n",
       "      <td>11-Apr-90</td>\n",
       "      <td>WI</td>\n",
       "      <td>712-651-9613</td>\n",
       "      <td>Gold</td>\n",
       "      <td>22690595.0</td>\n",
       "      <td>19888166.0</td>\n",
       "      <td>Other driver error</td>\n",
       "      <td>05/15/2017</td>\n",
       "      <td>Auto</td>\n",
       "      <td>Yes</td>\n",
       "      <td>Injury only</td>\n",
       "      <td>$33080</td>\n",
       "      <td>2.0</td>\n",
       "      <td>No</td>\n",
       "    </tr>\n",
       "    <tr>\n",
       "      <th>1090</th>\n",
       "      <td>11256802</td>\n",
       "      <td>Female</td>\n",
       "      <td>22-Oct-64</td>\n",
       "      <td>LA</td>\n",
       "      <td>469-345-5617</td>\n",
       "      <td>Silver</td>\n",
       "      <td>12376894.0</td>\n",
       "      <td>11256802.0</td>\n",
       "      <td>Other driver error</td>\n",
       "      <td>04/18/2017</td>\n",
       "      <td>Auto</td>\n",
       "      <td>No</td>\n",
       "      <td>Material only</td>\n",
       "      <td>$2840</td>\n",
       "      <td>4.0</td>\n",
       "      <td>No</td>\n",
       "    </tr>\n",
       "    <tr>\n",
       "      <th>1091</th>\n",
       "      <td>61575264</td>\n",
       "      <td>Male</td>\n",
       "      <td>12-Jul-95</td>\n",
       "      <td>WY</td>\n",
       "      <td>182-385-1392</td>\n",
       "      <td>Gold</td>\n",
       "      <td>63226031.0</td>\n",
       "      <td>61575264.0</td>\n",
       "      <td>Natural causes</td>\n",
       "      <td>03/16/2017</td>\n",
       "      <td>Auto</td>\n",
       "      <td>No</td>\n",
       "      <td>Material only</td>\n",
       "      <td>$1490</td>\n",
       "      <td>1.0</td>\n",
       "      <td>No</td>\n",
       "    </tr>\n",
       "  </tbody>\n",
       "</table>\n",
       "<p>1092 rows × 16 columns</p>\n",
       "</div>"
      ],
      "text/plain": [
       "       CUST_ID  gender DateOfBirth State       Contact   Segment    claim_id  \\\n",
       "0     21868593  Female   12-Jan-79    VT  789-916-8172  Platinum  54004764.0   \n",
       "1     75740424  Female   13-Jan-70    ME  265-543-1264    Silver  33985796.0   \n",
       "2     30308357  Female   11-Mar-84    TN  798-631-4758    Silver  53522022.0   \n",
       "3     30308357  Female   11-Mar-84    TN  798-631-4758    Silver  63017412.0   \n",
       "4     47830476  Female   01-May-86    MA  413-187-7945    Silver  13015401.0   \n",
       "...        ...     ...         ...   ...           ...       ...         ...   \n",
       "1087  79539873  Female   15-Mar-81    ND  459-425-4319  Platinum  62020796.0   \n",
       "1088  42364152  Female   07-Jul-96    ID  529-462-1635    Silver  63269067.0   \n",
       "1089  19888166    Male   11-Apr-90    WI  712-651-9613      Gold  22690595.0   \n",
       "1090  11256802  Female   22-Oct-64    LA  469-345-5617    Silver  12376894.0   \n",
       "1091  61575264    Male   12-Jul-95    WY  182-385-1392      Gold  63226031.0   \n",
       "\n",
       "      customer_id      incident_cause  claim_date claim_area police_report  \\\n",
       "0      21868593.0        Driver error  11/27/2017       Auto            No   \n",
       "1      75740424.0               Crime  10/03/2018       Home       Unknown   \n",
       "2      30308357.0  Other driver error  02/02/2018       Auto            No   \n",
       "3      30308357.0        Driver error  04/04/2018       Auto            No   \n",
       "4      47830476.0      Natural causes  06/17/2018       Auto            No   \n",
       "...           ...                 ...         ...        ...           ...   \n",
       "1087   79539873.0  Other driver error  09/06/2018       Auto           Yes   \n",
       "1088   42364152.0        Other causes  05/09/2017       Home            No   \n",
       "1089   19888166.0  Other driver error  05/15/2017       Auto           Yes   \n",
       "1090   11256802.0  Other driver error  04/18/2017       Auto            No   \n",
       "1091   61575264.0      Natural causes  03/16/2017       Auto            No   \n",
       "\n",
       "         claim_type claim_amount  total_policy_claims fraudulent  \n",
       "0     Material only        $2980                  1.0         No  \n",
       "1     Material only        $2980                  3.0         No  \n",
       "2     Material only      $3369.5                  1.0        Yes  \n",
       "3     Material only        $1950                  6.0         No  \n",
       "4     Material only        $1680                  1.0         No  \n",
       "...             ...          ...                  ...        ...  \n",
       "1087  Material only        $1770                  1.0         No  \n",
       "1088  Material only        $2800                  1.0         No  \n",
       "1089    Injury only       $33080                  2.0         No  \n",
       "1090  Material only        $2840                  4.0         No  \n",
       "1091  Material only        $1490                  1.0         No  \n",
       "\n",
       "[1092 rows x 16 columns]"
      ]
     },
     "execution_count": 10,
     "metadata": {},
     "output_type": "execute_result"
    }
   ],
   "source": [
    "final_data"
   ]
  },
  {
   "cell_type": "markdown",
   "metadata": {},
   "source": [
    "# 3. Convert the column claim_amount to numeric. Use the appropriate modules/attributes to remove the $ sign."
   ]
  },
  {
   "cell_type": "code",
   "execution_count": 11,
   "metadata": {},
   "outputs": [
    {
     "data": {
      "text/html": [
       "<div>\n",
       "<style scoped>\n",
       "    .dataframe tbody tr th:only-of-type {\n",
       "        vertical-align: middle;\n",
       "    }\n",
       "\n",
       "    .dataframe tbody tr th {\n",
       "        vertical-align: top;\n",
       "    }\n",
       "\n",
       "    .dataframe thead th {\n",
       "        text-align: right;\n",
       "    }\n",
       "</style>\n",
       "<table border=\"1\" class=\"dataframe\">\n",
       "  <thead>\n",
       "    <tr style=\"text-align: right;\">\n",
       "      <th></th>\n",
       "      <th>CUST_ID</th>\n",
       "      <th>gender</th>\n",
       "      <th>DateOfBirth</th>\n",
       "      <th>State</th>\n",
       "      <th>Contact</th>\n",
       "      <th>Segment</th>\n",
       "      <th>claim_id</th>\n",
       "      <th>customer_id</th>\n",
       "      <th>incident_cause</th>\n",
       "      <th>claim_date</th>\n",
       "      <th>claim_area</th>\n",
       "      <th>police_report</th>\n",
       "      <th>claim_type</th>\n",
       "      <th>claim_amount</th>\n",
       "      <th>total_policy_claims</th>\n",
       "      <th>fraudulent</th>\n",
       "    </tr>\n",
       "  </thead>\n",
       "  <tbody>\n",
       "    <tr>\n",
       "      <th>0</th>\n",
       "      <td>21868593</td>\n",
       "      <td>Female</td>\n",
       "      <td>12-Jan-79</td>\n",
       "      <td>VT</td>\n",
       "      <td>789-916-8172</td>\n",
       "      <td>Platinum</td>\n",
       "      <td>54004764.0</td>\n",
       "      <td>21868593.0</td>\n",
       "      <td>Driver error</td>\n",
       "      <td>11/27/2017</td>\n",
       "      <td>Auto</td>\n",
       "      <td>No</td>\n",
       "      <td>Material only</td>\n",
       "      <td>$2980</td>\n",
       "      <td>1.0</td>\n",
       "      <td>No</td>\n",
       "    </tr>\n",
       "  </tbody>\n",
       "</table>\n",
       "</div>"
      ],
      "text/plain": [
       "    CUST_ID  gender DateOfBirth State       Contact   Segment    claim_id  \\\n",
       "0  21868593  Female   12-Jan-79    VT  789-916-8172  Platinum  54004764.0   \n",
       "\n",
       "   customer_id incident_cause  claim_date claim_area police_report  \\\n",
       "0   21868593.0   Driver error  11/27/2017       Auto            No   \n",
       "\n",
       "      claim_type claim_amount  total_policy_claims fraudulent  \n",
       "0  Material only        $2980                  1.0         No  "
      ]
     },
     "execution_count": 11,
     "metadata": {},
     "output_type": "execute_result"
    }
   ],
   "source": [
    "final_data.head(1)"
   ]
  },
  {
   "cell_type": "code",
   "execution_count": 12,
   "metadata": {},
   "outputs": [],
   "source": [
    "final_data['claim_amount'] = pd.to_numeric(final_data['claim_amount'].str.replace('$',''))"
   ]
  },
  {
   "cell_type": "code",
   "execution_count": 13,
   "metadata": {},
   "outputs": [
    {
     "data": {
      "text/plain": [
       "CUST_ID                  int64\n",
       "gender                  object\n",
       "DateOfBirth             object\n",
       "State                   object\n",
       "Contact                 object\n",
       "Segment                 object\n",
       "claim_id               float64\n",
       "customer_id            float64\n",
       "incident_cause          object\n",
       "claim_date              object\n",
       "claim_area              object\n",
       "police_report           object\n",
       "claim_type              object\n",
       "claim_amount           float64\n",
       "total_policy_claims    float64\n",
       "fraudulent              object\n",
       "dtype: object"
      ]
     },
     "execution_count": 13,
     "metadata": {},
     "output_type": "execute_result"
    }
   ],
   "source": [
    "final_data.dtypes ##Here we have changed the datatype of claim_amount made it float"
   ]
  },
  {
   "cell_type": "markdown",
   "metadata": {},
   "source": [
    "# 4. Of all the injury claims, some of them have gone unreported with the police. Create an alert flag (1,0) for all such claims."
   ]
  },
  {
   "cell_type": "code",
   "execution_count": 14,
   "metadata": {},
   "outputs": [],
   "source": [
    "final_data.to_csv('final_data.csv',header=True)"
   ]
  },
  {
   "cell_type": "code",
   "execution_count": 15,
   "metadata": {},
   "outputs": [
    {
     "data": {
      "text/html": [
       "<div>\n",
       "<style scoped>\n",
       "    .dataframe tbody tr th:only-of-type {\n",
       "        vertical-align: middle;\n",
       "    }\n",
       "\n",
       "    .dataframe tbody tr th {\n",
       "        vertical-align: top;\n",
       "    }\n",
       "\n",
       "    .dataframe thead th {\n",
       "        text-align: right;\n",
       "    }\n",
       "</style>\n",
       "<table border=\"1\" class=\"dataframe\">\n",
       "  <thead>\n",
       "    <tr style=\"text-align: right;\">\n",
       "      <th></th>\n",
       "      <th>CUST_ID</th>\n",
       "      <th>gender</th>\n",
       "      <th>DateOfBirth</th>\n",
       "      <th>State</th>\n",
       "      <th>Contact</th>\n",
       "      <th>Segment</th>\n",
       "      <th>claim_id</th>\n",
       "      <th>customer_id</th>\n",
       "      <th>incident_cause</th>\n",
       "      <th>claim_date</th>\n",
       "      <th>claim_area</th>\n",
       "      <th>police_report</th>\n",
       "      <th>claim_type</th>\n",
       "      <th>claim_amount</th>\n",
       "      <th>total_policy_claims</th>\n",
       "      <th>fraudulent</th>\n",
       "    </tr>\n",
       "  </thead>\n",
       "  <tbody>\n",
       "    <tr>\n",
       "      <th>0</th>\n",
       "      <td>21868593</td>\n",
       "      <td>Female</td>\n",
       "      <td>12-Jan-79</td>\n",
       "      <td>VT</td>\n",
       "      <td>789-916-8172</td>\n",
       "      <td>Platinum</td>\n",
       "      <td>54004764.0</td>\n",
       "      <td>21868593.0</td>\n",
       "      <td>Driver error</td>\n",
       "      <td>11/27/2017</td>\n",
       "      <td>Auto</td>\n",
       "      <td>No</td>\n",
       "      <td>Material only</td>\n",
       "      <td>2980.0</td>\n",
       "      <td>1.0</td>\n",
       "      <td>No</td>\n",
       "    </tr>\n",
       "  </tbody>\n",
       "</table>\n",
       "</div>"
      ],
      "text/plain": [
       "    CUST_ID  gender DateOfBirth State       Contact   Segment    claim_id  \\\n",
       "0  21868593  Female   12-Jan-79    VT  789-916-8172  Platinum  54004764.0   \n",
       "\n",
       "   customer_id incident_cause  claim_date claim_area police_report  \\\n",
       "0   21868593.0   Driver error  11/27/2017       Auto            No   \n",
       "\n",
       "      claim_type  claim_amount  total_policy_claims fraudulent  \n",
       "0  Material only        2980.0                  1.0         No  "
      ]
     },
     "execution_count": 15,
     "metadata": {},
     "output_type": "execute_result"
    }
   ],
   "source": [
    "final_data.head(1)"
   ]
  },
  {
   "cell_type": "code",
   "execution_count": 16,
   "metadata": {},
   "outputs": [],
   "source": [
    "claim_data = final_data[['claim_type','police_report']]"
   ]
  },
  {
   "cell_type": "code",
   "execution_count": 17,
   "metadata": {},
   "outputs": [
    {
     "data": {
      "text/html": [
       "<div>\n",
       "<style scoped>\n",
       "    .dataframe tbody tr th:only-of-type {\n",
       "        vertical-align: middle;\n",
       "    }\n",
       "\n",
       "    .dataframe tbody tr th {\n",
       "        vertical-align: top;\n",
       "    }\n",
       "\n",
       "    .dataframe thead th {\n",
       "        text-align: right;\n",
       "    }\n",
       "</style>\n",
       "<table border=\"1\" class=\"dataframe\">\n",
       "  <thead>\n",
       "    <tr style=\"text-align: right;\">\n",
       "      <th></th>\n",
       "      <th>claim_type</th>\n",
       "      <th>police_report</th>\n",
       "    </tr>\n",
       "  </thead>\n",
       "  <tbody>\n",
       "    <tr>\n",
       "      <th>0</th>\n",
       "      <td>Material only</td>\n",
       "      <td>No</td>\n",
       "    </tr>\n",
       "  </tbody>\n",
       "</table>\n",
       "</div>"
      ],
      "text/plain": [
       "      claim_type police_report\n",
       "0  Material only            No"
      ]
     },
     "execution_count": 17,
     "metadata": {},
     "output_type": "execute_result"
    }
   ],
   "source": [
    "claim_data.head(1)"
   ]
  },
  {
   "cell_type": "code",
   "execution_count": 18,
   "metadata": {},
   "outputs": [],
   "source": [
    "final_data['check_flag']=pd.Series(np.where(claim_data.police_report=='Yes',0,1))"
   ]
  },
  {
   "cell_type": "markdown",
   "metadata": {},
   "source": [
    "**check_flag== 0 stands for reported and check_flag== 1 stands for unreported took both the columns (no,unknown) while creating \n",
    "unreported claim check flags**"
   ]
  },
  {
   "cell_type": "code",
   "execution_count": 19,
   "metadata": {},
   "outputs": [
    {
     "data": {
      "text/html": [
       "<div>\n",
       "<style scoped>\n",
       "    .dataframe tbody tr th:only-of-type {\n",
       "        vertical-align: middle;\n",
       "    }\n",
       "\n",
       "    .dataframe tbody tr th {\n",
       "        vertical-align: top;\n",
       "    }\n",
       "\n",
       "    .dataframe thead th {\n",
       "        text-align: right;\n",
       "    }\n",
       "</style>\n",
       "<table border=\"1\" class=\"dataframe\">\n",
       "  <thead>\n",
       "    <tr style=\"text-align: right;\">\n",
       "      <th></th>\n",
       "      <th>CUST_ID</th>\n",
       "      <th>gender</th>\n",
       "      <th>DateOfBirth</th>\n",
       "      <th>State</th>\n",
       "      <th>Contact</th>\n",
       "      <th>Segment</th>\n",
       "      <th>claim_id</th>\n",
       "      <th>customer_id</th>\n",
       "      <th>incident_cause</th>\n",
       "      <th>claim_date</th>\n",
       "      <th>claim_area</th>\n",
       "      <th>police_report</th>\n",
       "      <th>claim_type</th>\n",
       "      <th>claim_amount</th>\n",
       "      <th>total_policy_claims</th>\n",
       "      <th>fraudulent</th>\n",
       "      <th>check_flag</th>\n",
       "    </tr>\n",
       "  </thead>\n",
       "  <tbody>\n",
       "    <tr>\n",
       "      <th>8</th>\n",
       "      <td>21831191</td>\n",
       "      <td>Male</td>\n",
       "      <td>17-May-77</td>\n",
       "      <td>NH</td>\n",
       "      <td>419-712-8513</td>\n",
       "      <td>Gold</td>\n",
       "      <td>24050443.0</td>\n",
       "      <td>21831191.0</td>\n",
       "      <td>Other driver error</td>\n",
       "      <td>10/04/2017</td>\n",
       "      <td>Auto</td>\n",
       "      <td>No</td>\n",
       "      <td>Injury only</td>\n",
       "      <td>38306.5</td>\n",
       "      <td>3.0</td>\n",
       "      <td>Yes</td>\n",
       "      <td>1</td>\n",
       "    </tr>\n",
       "    <tr>\n",
       "      <th>21</th>\n",
       "      <td>63916778</td>\n",
       "      <td>Male</td>\n",
       "      <td>07-Sep-66</td>\n",
       "      <td>IL</td>\n",
       "      <td>146-157-4572</td>\n",
       "      <td>Platinum</td>\n",
       "      <td>7809917.0</td>\n",
       "      <td>63916778.0</td>\n",
       "      <td>Other causes</td>\n",
       "      <td>07/22/2017</td>\n",
       "      <td>Auto</td>\n",
       "      <td>No</td>\n",
       "      <td>Injury only</td>\n",
       "      <td>17800.0</td>\n",
       "      <td>1.0</td>\n",
       "      <td>No</td>\n",
       "      <td>1</td>\n",
       "    </tr>\n",
       "    <tr>\n",
       "      <th>22</th>\n",
       "      <td>17004138</td>\n",
       "      <td>Female</td>\n",
       "      <td>13-Aug-65</td>\n",
       "      <td>WA</td>\n",
       "      <td>436-354-4682</td>\n",
       "      <td>Silver</td>\n",
       "      <td>29205389.0</td>\n",
       "      <td>17004138.0</td>\n",
       "      <td>Natural causes</td>\n",
       "      <td>06/25/2017</td>\n",
       "      <td>Auto</td>\n",
       "      <td>No</td>\n",
       "      <td>Injury only</td>\n",
       "      <td>31380.0</td>\n",
       "      <td>1.0</td>\n",
       "      <td>No</td>\n",
       "      <td>1</td>\n",
       "    </tr>\n",
       "    <tr>\n",
       "      <th>33</th>\n",
       "      <td>80379865</td>\n",
       "      <td>Male</td>\n",
       "      <td>27-Feb-69</td>\n",
       "      <td>NM</td>\n",
       "      <td>427-513-8479</td>\n",
       "      <td>Gold</td>\n",
       "      <td>18210740.0</td>\n",
       "      <td>80379865.0</td>\n",
       "      <td>Natural causes</td>\n",
       "      <td>02/09/2018</td>\n",
       "      <td>Auto</td>\n",
       "      <td>No</td>\n",
       "      <td>Injury only</td>\n",
       "      <td>18580.0</td>\n",
       "      <td>NaN</td>\n",
       "      <td>No</td>\n",
       "      <td>1</td>\n",
       "    </tr>\n",
       "    <tr>\n",
       "      <th>41</th>\n",
       "      <td>27205554</td>\n",
       "      <td>Male</td>\n",
       "      <td>12-Apr-76</td>\n",
       "      <td>RI</td>\n",
       "      <td>521-912-8139</td>\n",
       "      <td>Silver</td>\n",
       "      <td>13167216.0</td>\n",
       "      <td>27205554.0</td>\n",
       "      <td>Driver error</td>\n",
       "      <td>05/14/2018</td>\n",
       "      <td>Auto</td>\n",
       "      <td>No</td>\n",
       "      <td>Injury only</td>\n",
       "      <td>16910.0</td>\n",
       "      <td>1.0</td>\n",
       "      <td>No</td>\n",
       "      <td>1</td>\n",
       "    </tr>\n",
       "    <tr>\n",
       "      <th>...</th>\n",
       "      <td>...</td>\n",
       "      <td>...</td>\n",
       "      <td>...</td>\n",
       "      <td>...</td>\n",
       "      <td>...</td>\n",
       "      <td>...</td>\n",
       "      <td>...</td>\n",
       "      <td>...</td>\n",
       "      <td>...</td>\n",
       "      <td>...</td>\n",
       "      <td>...</td>\n",
       "      <td>...</td>\n",
       "      <td>...</td>\n",
       "      <td>...</td>\n",
       "      <td>...</td>\n",
       "      <td>...</td>\n",
       "      <td>...</td>\n",
       "    </tr>\n",
       "    <tr>\n",
       "      <th>1030</th>\n",
       "      <td>77134414</td>\n",
       "      <td>Male</td>\n",
       "      <td>10-Jul-83</td>\n",
       "      <td>AL</td>\n",
       "      <td>693-239-2865</td>\n",
       "      <td>Silver</td>\n",
       "      <td>30903408.0</td>\n",
       "      <td>77134414.0</td>\n",
       "      <td>Other driver error</td>\n",
       "      <td>01/07/2017</td>\n",
       "      <td>Auto</td>\n",
       "      <td>Unknown</td>\n",
       "      <td>Injury only</td>\n",
       "      <td>28760.0</td>\n",
       "      <td>1.0</td>\n",
       "      <td>No</td>\n",
       "      <td>1</td>\n",
       "    </tr>\n",
       "    <tr>\n",
       "      <th>1039</th>\n",
       "      <td>91002298</td>\n",
       "      <td>Male</td>\n",
       "      <td>09-Apr-98</td>\n",
       "      <td>MA</td>\n",
       "      <td>349-124-3976</td>\n",
       "      <td>Gold</td>\n",
       "      <td>99300549.0</td>\n",
       "      <td>91002298.0</td>\n",
       "      <td>Natural causes</td>\n",
       "      <td>04/05/2017</td>\n",
       "      <td>Auto</td>\n",
       "      <td>No</td>\n",
       "      <td>Injury only</td>\n",
       "      <td>34010.0</td>\n",
       "      <td>1.0</td>\n",
       "      <td>No</td>\n",
       "      <td>1</td>\n",
       "    </tr>\n",
       "    <tr>\n",
       "      <th>1048</th>\n",
       "      <td>41946743</td>\n",
       "      <td>Female</td>\n",
       "      <td>26-Sep-70</td>\n",
       "      <td>WA</td>\n",
       "      <td>756-245-4789</td>\n",
       "      <td>Gold</td>\n",
       "      <td>11179944.0</td>\n",
       "      <td>41946743.0</td>\n",
       "      <td>Other driver error</td>\n",
       "      <td>05/21/2018</td>\n",
       "      <td>Auto</td>\n",
       "      <td>No</td>\n",
       "      <td>Injury only</td>\n",
       "      <td>17870.0</td>\n",
       "      <td>6.0</td>\n",
       "      <td>No</td>\n",
       "      <td>1</td>\n",
       "    </tr>\n",
       "    <tr>\n",
       "      <th>1069</th>\n",
       "      <td>90217818</td>\n",
       "      <td>Female</td>\n",
       "      <td>18-May-80</td>\n",
       "      <td>TN</td>\n",
       "      <td>891-651-8671</td>\n",
       "      <td>Gold</td>\n",
       "      <td>85546357.0</td>\n",
       "      <td>90217818.0</td>\n",
       "      <td>Other driver error</td>\n",
       "      <td>06/04/2017</td>\n",
       "      <td>Auto</td>\n",
       "      <td>No</td>\n",
       "      <td>Injury only</td>\n",
       "      <td>37743.0</td>\n",
       "      <td>1.0</td>\n",
       "      <td>Yes</td>\n",
       "      <td>1</td>\n",
       "    </tr>\n",
       "    <tr>\n",
       "      <th>1081</th>\n",
       "      <td>87596868</td>\n",
       "      <td>Male</td>\n",
       "      <td>18-Nov-61</td>\n",
       "      <td>AZ</td>\n",
       "      <td>573-396-3182</td>\n",
       "      <td>Silver</td>\n",
       "      <td>36599575.0</td>\n",
       "      <td>87596868.0</td>\n",
       "      <td>Driver error</td>\n",
       "      <td>10/09/2018</td>\n",
       "      <td>Auto</td>\n",
       "      <td>Unknown</td>\n",
       "      <td>Injury only</td>\n",
       "      <td>33330.0</td>\n",
       "      <td>2.0</td>\n",
       "      <td>No</td>\n",
       "      <td>1</td>\n",
       "    </tr>\n",
       "  </tbody>\n",
       "</table>\n",
       "<p>125 rows × 17 columns</p>\n",
       "</div>"
      ],
      "text/plain": [
       "       CUST_ID  gender DateOfBirth State       Contact   Segment    claim_id  \\\n",
       "8     21831191    Male   17-May-77    NH  419-712-8513      Gold  24050443.0   \n",
       "21    63916778    Male   07-Sep-66    IL  146-157-4572  Platinum   7809917.0   \n",
       "22    17004138  Female   13-Aug-65    WA  436-354-4682    Silver  29205389.0   \n",
       "33    80379865    Male   27-Feb-69    NM  427-513-8479      Gold  18210740.0   \n",
       "41    27205554    Male   12-Apr-76    RI  521-912-8139    Silver  13167216.0   \n",
       "...        ...     ...         ...   ...           ...       ...         ...   \n",
       "1030  77134414    Male   10-Jul-83    AL  693-239-2865    Silver  30903408.0   \n",
       "1039  91002298    Male   09-Apr-98    MA  349-124-3976      Gold  99300549.0   \n",
       "1048  41946743  Female   26-Sep-70    WA  756-245-4789      Gold  11179944.0   \n",
       "1069  90217818  Female   18-May-80    TN  891-651-8671      Gold  85546357.0   \n",
       "1081  87596868    Male   18-Nov-61    AZ  573-396-3182    Silver  36599575.0   \n",
       "\n",
       "      customer_id      incident_cause  claim_date claim_area police_report  \\\n",
       "8      21831191.0  Other driver error  10/04/2017       Auto            No   \n",
       "21     63916778.0        Other causes  07/22/2017       Auto            No   \n",
       "22     17004138.0      Natural causes  06/25/2017       Auto            No   \n",
       "33     80379865.0      Natural causes  02/09/2018       Auto            No   \n",
       "41     27205554.0        Driver error  05/14/2018       Auto            No   \n",
       "...           ...                 ...         ...        ...           ...   \n",
       "1030   77134414.0  Other driver error  01/07/2017       Auto       Unknown   \n",
       "1039   91002298.0      Natural causes  04/05/2017       Auto            No   \n",
       "1048   41946743.0  Other driver error  05/21/2018       Auto            No   \n",
       "1069   90217818.0  Other driver error  06/04/2017       Auto            No   \n",
       "1081   87596868.0        Driver error  10/09/2018       Auto       Unknown   \n",
       "\n",
       "       claim_type  claim_amount  total_policy_claims fraudulent  check_flag  \n",
       "8     Injury only       38306.5                  3.0        Yes           1  \n",
       "21    Injury only       17800.0                  1.0         No           1  \n",
       "22    Injury only       31380.0                  1.0         No           1  \n",
       "33    Injury only       18580.0                  NaN         No           1  \n",
       "41    Injury only       16910.0                  1.0         No           1  \n",
       "...           ...           ...                  ...        ...         ...  \n",
       "1030  Injury only       28760.0                  1.0         No           1  \n",
       "1039  Injury only       34010.0                  1.0         No           1  \n",
       "1048  Injury only       17870.0                  6.0         No           1  \n",
       "1069  Injury only       37743.0                  1.0        Yes           1  \n",
       "1081  Injury only       33330.0                  2.0         No           1  \n",
       "\n",
       "[125 rows x 17 columns]"
      ]
     },
     "execution_count": 19,
     "metadata": {},
     "output_type": "execute_result"
    }
   ],
   "source": [
    "final_data[(final_data.claim_type=='Injury only')  & (final_data.check_flag==1)]  ###Almost 125 claims have gone unreported:"
   ]
  },
  {
   "cell_type": "markdown",
   "metadata": {},
   "source": [
    "# 5. One customer can claim for insurance more than once and in each claim, multiple categories of claims can be involved. However, customer ID should remain unique.\n",
    "# Retain the most recent observation and delete any duplicated records in the data based on the customer ID column.\n"
   ]
  },
  {
   "cell_type": "code",
   "execution_count": 20,
   "metadata": {},
   "outputs": [
    {
     "data": {
      "text/html": [
       "<div>\n",
       "<style scoped>\n",
       "    .dataframe tbody tr th:only-of-type {\n",
       "        vertical-align: middle;\n",
       "    }\n",
       "\n",
       "    .dataframe tbody tr th {\n",
       "        vertical-align: top;\n",
       "    }\n",
       "\n",
       "    .dataframe thead th {\n",
       "        text-align: right;\n",
       "    }\n",
       "</style>\n",
       "<table border=\"1\" class=\"dataframe\">\n",
       "  <thead>\n",
       "    <tr style=\"text-align: right;\">\n",
       "      <th></th>\n",
       "      <th>CUST_ID</th>\n",
       "      <th>gender</th>\n",
       "      <th>DateOfBirth</th>\n",
       "      <th>State</th>\n",
       "      <th>Contact</th>\n",
       "      <th>Segment</th>\n",
       "      <th>claim_id</th>\n",
       "      <th>customer_id</th>\n",
       "      <th>incident_cause</th>\n",
       "      <th>claim_date</th>\n",
       "      <th>claim_area</th>\n",
       "      <th>police_report</th>\n",
       "      <th>claim_type</th>\n",
       "      <th>claim_amount</th>\n",
       "      <th>total_policy_claims</th>\n",
       "      <th>fraudulent</th>\n",
       "      <th>check_flag</th>\n",
       "    </tr>\n",
       "  </thead>\n",
       "  <tbody>\n",
       "    <tr>\n",
       "      <th>0</th>\n",
       "      <td>21868593</td>\n",
       "      <td>Female</td>\n",
       "      <td>12-Jan-79</td>\n",
       "      <td>VT</td>\n",
       "      <td>789-916-8172</td>\n",
       "      <td>Platinum</td>\n",
       "      <td>54004764.0</td>\n",
       "      <td>21868593.0</td>\n",
       "      <td>Driver error</td>\n",
       "      <td>11/27/2017</td>\n",
       "      <td>Auto</td>\n",
       "      <td>No</td>\n",
       "      <td>Material only</td>\n",
       "      <td>2980.0</td>\n",
       "      <td>1.0</td>\n",
       "      <td>No</td>\n",
       "      <td>1</td>\n",
       "    </tr>\n",
       "  </tbody>\n",
       "</table>\n",
       "</div>"
      ],
      "text/plain": [
       "    CUST_ID  gender DateOfBirth State       Contact   Segment    claim_id  \\\n",
       "0  21868593  Female   12-Jan-79    VT  789-916-8172  Platinum  54004764.0   \n",
       "\n",
       "   customer_id incident_cause  claim_date claim_area police_report  \\\n",
       "0   21868593.0   Driver error  11/27/2017       Auto            No   \n",
       "\n",
       "      claim_type  claim_amount  total_policy_claims fraudulent  check_flag  \n",
       "0  Material only        2980.0                  1.0         No           1  "
      ]
     },
     "execution_count": 20,
     "metadata": {},
     "output_type": "execute_result"
    }
   ],
   "source": [
    "final_data.head(1)"
   ]
  },
  {
   "cell_type": "code",
   "execution_count": 21,
   "metadata": {},
   "outputs": [
    {
     "data": {
      "text/html": [
       "<div>\n",
       "<style scoped>\n",
       "    .dataframe tbody tr th:only-of-type {\n",
       "        vertical-align: middle;\n",
       "    }\n",
       "\n",
       "    .dataframe tbody tr th {\n",
       "        vertical-align: top;\n",
       "    }\n",
       "\n",
       "    .dataframe thead th {\n",
       "        text-align: right;\n",
       "    }\n",
       "</style>\n",
       "<table border=\"1\" class=\"dataframe\">\n",
       "  <thead>\n",
       "    <tr style=\"text-align: right;\">\n",
       "      <th></th>\n",
       "      <th>CUST_ID</th>\n",
       "      <th>gender</th>\n",
       "      <th>DateOfBirth</th>\n",
       "      <th>State</th>\n",
       "      <th>Contact</th>\n",
       "      <th>Segment</th>\n",
       "      <th>claim_id</th>\n",
       "      <th>customer_id</th>\n",
       "      <th>incident_cause</th>\n",
       "      <th>claim_date</th>\n",
       "      <th>claim_area</th>\n",
       "      <th>police_report</th>\n",
       "      <th>claim_type</th>\n",
       "      <th>claim_amount</th>\n",
       "      <th>total_policy_claims</th>\n",
       "      <th>fraudulent</th>\n",
       "      <th>check_flag</th>\n",
       "    </tr>\n",
       "  </thead>\n",
       "  <tbody>\n",
       "    <tr>\n",
       "      <th>3</th>\n",
       "      <td>30308357</td>\n",
       "      <td>Female</td>\n",
       "      <td>11-Mar-84</td>\n",
       "      <td>TN</td>\n",
       "      <td>798-631-4758</td>\n",
       "      <td>Silver</td>\n",
       "      <td>63017412.0</td>\n",
       "      <td>30308357.0</td>\n",
       "      <td>Driver error</td>\n",
       "      <td>04/04/2018</td>\n",
       "      <td>Auto</td>\n",
       "      <td>No</td>\n",
       "      <td>Material only</td>\n",
       "      <td>1950.0</td>\n",
       "      <td>6.0</td>\n",
       "      <td>No</td>\n",
       "      <td>1</td>\n",
       "    </tr>\n",
       "    <tr>\n",
       "      <th>5</th>\n",
       "      <td>47830476</td>\n",
       "      <td>Female</td>\n",
       "      <td>01-May-86</td>\n",
       "      <td>MA</td>\n",
       "      <td>413-187-7945</td>\n",
       "      <td>Silver</td>\n",
       "      <td>91609100.0</td>\n",
       "      <td>47830476.0</td>\n",
       "      <td>Natural causes</td>\n",
       "      <td>04/12/2017</td>\n",
       "      <td>Auto</td>\n",
       "      <td>Unknown</td>\n",
       "      <td>Material only</td>\n",
       "      <td>1440.0</td>\n",
       "      <td>1.0</td>\n",
       "      <td>No</td>\n",
       "      <td>1</td>\n",
       "    </tr>\n",
       "    <tr>\n",
       "      <th>7</th>\n",
       "      <td>19269962</td>\n",
       "      <td>Male</td>\n",
       "      <td>13-May-77</td>\n",
       "      <td>NV</td>\n",
       "      <td>956-871-8691</td>\n",
       "      <td>Gold</td>\n",
       "      <td>39219616.0</td>\n",
       "      <td>19269962.0</td>\n",
       "      <td>Other causes</td>\n",
       "      <td>09/26/2018</td>\n",
       "      <td>Auto</td>\n",
       "      <td>No</td>\n",
       "      <td>Material only</td>\n",
       "      <td>2240.0</td>\n",
       "      <td>2.0</td>\n",
       "      <td>No</td>\n",
       "      <td>1</td>\n",
       "    </tr>\n",
       "    <tr>\n",
       "      <th>9</th>\n",
       "      <td>21831191</td>\n",
       "      <td>Male</td>\n",
       "      <td>17-May-77</td>\n",
       "      <td>NH</td>\n",
       "      <td>419-712-8513</td>\n",
       "      <td>Gold</td>\n",
       "      <td>91475471.0</td>\n",
       "      <td>21831191.0</td>\n",
       "      <td>Driver error</td>\n",
       "      <td>02/09/2018</td>\n",
       "      <td>Auto</td>\n",
       "      <td>Unknown</td>\n",
       "      <td>Material and injury</td>\n",
       "      <td>36810.0</td>\n",
       "      <td>1.0</td>\n",
       "      <td>No</td>\n",
       "      <td>1</td>\n",
       "    </tr>\n",
       "    <tr>\n",
       "      <th>625</th>\n",
       "      <td>84147585</td>\n",
       "      <td>Male</td>\n",
       "      <td>18-Oct-72</td>\n",
       "      <td>AK</td>\n",
       "      <td>743-569-4783</td>\n",
       "      <td>Gold</td>\n",
       "      <td>78221963.0</td>\n",
       "      <td>84147585.0</td>\n",
       "      <td>Driver error</td>\n",
       "      <td>04/10/2018</td>\n",
       "      <td>Auto</td>\n",
       "      <td>Yes</td>\n",
       "      <td>Injury only</td>\n",
       "      <td>14430.0</td>\n",
       "      <td>4.0</td>\n",
       "      <td>No</td>\n",
       "      <td>0</td>\n",
       "    </tr>\n",
       "    <tr>\n",
       "      <th>627</th>\n",
       "      <td>85357756</td>\n",
       "      <td>Male</td>\n",
       "      <td>02-Jan-70</td>\n",
       "      <td>PA</td>\n",
       "      <td>915-698-3649</td>\n",
       "      <td>Platinum</td>\n",
       "      <td>1654201.0</td>\n",
       "      <td>85357756.0</td>\n",
       "      <td>Driver error</td>\n",
       "      <td>06/23/2018</td>\n",
       "      <td>Auto</td>\n",
       "      <td>Unknown</td>\n",
       "      <td>Material only</td>\n",
       "      <td>2510.0</td>\n",
       "      <td>1.0</td>\n",
       "      <td>No</td>\n",
       "      <td>1</td>\n",
       "    </tr>\n",
       "    <tr>\n",
       "      <th>629</th>\n",
       "      <td>53539195</td>\n",
       "      <td>Male</td>\n",
       "      <td>02-Oct-89</td>\n",
       "      <td>NV</td>\n",
       "      <td>914-342-8239</td>\n",
       "      <td>Gold</td>\n",
       "      <td>41779510.0</td>\n",
       "      <td>53539195.0</td>\n",
       "      <td>Driver error</td>\n",
       "      <td>10/03/2018</td>\n",
       "      <td>Home</td>\n",
       "      <td>No</td>\n",
       "      <td>Injury only</td>\n",
       "      <td>25040.0</td>\n",
       "      <td>1.0</td>\n",
       "      <td>No</td>\n",
       "      <td>1</td>\n",
       "    </tr>\n",
       "  </tbody>\n",
       "</table>\n",
       "</div>"
      ],
      "text/plain": [
       "      CUST_ID  gender DateOfBirth State       Contact   Segment    claim_id  \\\n",
       "3    30308357  Female   11-Mar-84    TN  798-631-4758    Silver  63017412.0   \n",
       "5    47830476  Female   01-May-86    MA  413-187-7945    Silver  91609100.0   \n",
       "7    19269962    Male   13-May-77    NV  956-871-8691      Gold  39219616.0   \n",
       "9    21831191    Male   17-May-77    NH  419-712-8513      Gold  91475471.0   \n",
       "625  84147585    Male   18-Oct-72    AK  743-569-4783      Gold  78221963.0   \n",
       "627  85357756    Male   02-Jan-70    PA  915-698-3649  Platinum   1654201.0   \n",
       "629  53539195    Male   02-Oct-89    NV  914-342-8239      Gold  41779510.0   \n",
       "\n",
       "     customer_id  incident_cause  claim_date claim_area police_report  \\\n",
       "3     30308357.0    Driver error  04/04/2018       Auto            No   \n",
       "5     47830476.0  Natural causes  04/12/2017       Auto       Unknown   \n",
       "7     19269962.0    Other causes  09/26/2018       Auto            No   \n",
       "9     21831191.0    Driver error  02/09/2018       Auto       Unknown   \n",
       "625   84147585.0    Driver error  04/10/2018       Auto           Yes   \n",
       "627   85357756.0    Driver error  06/23/2018       Auto       Unknown   \n",
       "629   53539195.0    Driver error  10/03/2018       Home            No   \n",
       "\n",
       "              claim_type  claim_amount  total_policy_claims fraudulent  \\\n",
       "3          Material only        1950.0                  6.0         No   \n",
       "5          Material only        1440.0                  1.0         No   \n",
       "7          Material only        2240.0                  2.0         No   \n",
       "9    Material and injury       36810.0                  1.0         No   \n",
       "625          Injury only       14430.0                  4.0         No   \n",
       "627        Material only        2510.0                  1.0         No   \n",
       "629          Injury only       25040.0                  1.0         No   \n",
       "\n",
       "     check_flag  \n",
       "3             1  \n",
       "5             1  \n",
       "7             1  \n",
       "9             1  \n",
       "625           0  \n",
       "627           1  \n",
       "629           1  "
      ]
     },
     "execution_count": 21,
     "metadata": {},
     "output_type": "execute_result"
    }
   ],
   "source": [
    "final_data[final_data.duplicated('CUST_ID')]"
   ]
  },
  {
   "cell_type": "code",
   "execution_count": 22,
   "metadata": {},
   "outputs": [],
   "source": [
    "final_data.drop_duplicates('CUST_ID',inplace = True) ###Here we have deleted duplicate cust_id"
   ]
  },
  {
   "cell_type": "code",
   "execution_count": 23,
   "metadata": {},
   "outputs": [
    {
     "data": {
      "text/plain": [
       "(1085, 17)"
      ]
     },
     "execution_count": 23,
     "metadata": {},
     "output_type": "execute_result"
    }
   ],
   "source": [
    "final_data.shape ##now 1085 rows remain"
   ]
  },
  {
   "cell_type": "markdown",
   "metadata": {},
   "source": [
    "# 6. Check for missing values and impute the missing values with an appropriate value. (mean for continuous and mode for categorical)"
   ]
  },
  {
   "cell_type": "code",
   "execution_count": 24,
   "metadata": {},
   "outputs": [
    {
     "data": {
      "text/plain": [
       "CUST_ID                 0\n",
       "gender                  0\n",
       "DateOfBirth             0\n",
       "State                   0\n",
       "Contact                 0\n",
       "Segment                 0\n",
       "claim_id                7\n",
       "customer_id             7\n",
       "incident_cause          7\n",
       "claim_date              7\n",
       "claim_area              7\n",
       "police_report           7\n",
       "claim_type              7\n",
       "claim_amount           72\n",
       "total_policy_claims    17\n",
       "fraudulent              7\n",
       "check_flag              0\n",
       "dtype: int64"
      ]
     },
     "execution_count": 24,
     "metadata": {},
     "output_type": "execute_result"
    }
   ],
   "source": [
    "final_data.isna().sum() ##Count of missing value of each column:"
   ]
  },
  {
   "cell_type": "code",
   "execution_count": 25,
   "metadata": {},
   "outputs": [
    {
     "data": {
      "text/plain": [
       "26832.0"
      ]
     },
     "execution_count": 25,
     "metadata": {},
     "output_type": "execute_result"
    }
   ],
   "source": [
    "final_data.claim_id.mode().iloc[0]"
   ]
  },
  {
   "cell_type": "code",
   "execution_count": 26,
   "metadata": {},
   "outputs": [],
   "source": [
    "final_data.claim_id.fillna(final_data.claim_id.mode().iloc[0],inplace = True) ###Here we have impute mode of claim_id as this is\n",
    "##Categorical variable"
   ]
  },
  {
   "cell_type": "code",
   "execution_count": 27,
   "metadata": {},
   "outputs": [
    {
     "data": {
      "text/plain": [
       "154557.0"
      ]
     },
     "execution_count": 27,
     "metadata": {},
     "output_type": "execute_result"
    }
   ],
   "source": [
    "final_data.customer_id.mode().iloc[0]"
   ]
  },
  {
   "cell_type": "code",
   "execution_count": 28,
   "metadata": {},
   "outputs": [],
   "source": [
    "final_data.customer_id.fillna(final_data.customer_id.mode().iloc[0],inplace=True)###Here we have imputed mode for customer_id"
   ]
  },
  {
   "cell_type": "code",
   "execution_count": 29,
   "metadata": {},
   "outputs": [
    {
     "data": {
      "text/plain": [
       "CUST_ID                 0\n",
       "gender                  0\n",
       "DateOfBirth             0\n",
       "State                   0\n",
       "Contact                 0\n",
       "Segment                 0\n",
       "claim_id                0\n",
       "customer_id             0\n",
       "incident_cause          7\n",
       "claim_date              7\n",
       "claim_area              7\n",
       "police_report           7\n",
       "claim_type              7\n",
       "claim_amount           72\n",
       "total_policy_claims    17\n",
       "fraudulent              7\n",
       "check_flag              0\n",
       "dtype: int64"
      ]
     },
     "execution_count": 29,
     "metadata": {},
     "output_type": "execute_result"
    }
   ],
   "source": [
    "final_data.isna().sum()"
   ]
  },
  {
   "cell_type": "code",
   "execution_count": 30,
   "metadata": {},
   "outputs": [],
   "source": [
    "final_data.incident_cause.fillna(final_data.incident_cause.mode().iloc[0],inplace=True)"
   ]
  },
  {
   "cell_type": "code",
   "execution_count": 31,
   "metadata": {},
   "outputs": [],
   "source": [
    "final_data.claim_date.fillna(final_data.claim_date.mode().iloc[0],inplace=True)"
   ]
  },
  {
   "cell_type": "code",
   "execution_count": 32,
   "metadata": {},
   "outputs": [
    {
     "data": {
      "text/plain": [
       "'Auto'"
      ]
     },
     "execution_count": 32,
     "metadata": {},
     "output_type": "execute_result"
    }
   ],
   "source": [
    "final_data.claim_area.mode().iloc[0]"
   ]
  },
  {
   "cell_type": "code",
   "execution_count": 33,
   "metadata": {},
   "outputs": [],
   "source": [
    "final_data.claim_area.fillna(final_data.claim_area.mode().iloc[0],inplace=True)"
   ]
  },
  {
   "cell_type": "code",
   "execution_count": 34,
   "metadata": {},
   "outputs": [],
   "source": [
    "final_data.police_report.fillna(final_data.police_report.mode().iloc[0],inplace=True)"
   ]
  },
  {
   "cell_type": "code",
   "execution_count": 35,
   "metadata": {},
   "outputs": [],
   "source": [
    "final_data.claim_type.fillna(final_data.claim_type.mode().iloc[0],inplace=True)"
   ]
  },
  {
   "cell_type": "code",
   "execution_count": 36,
   "metadata": {},
   "outputs": [
    {
     "data": {
      "text/plain": [
       "CUST_ID                 0\n",
       "gender                  0\n",
       "DateOfBirth             0\n",
       "State                   0\n",
       "Contact                 0\n",
       "Segment                 0\n",
       "claim_id                0\n",
       "customer_id             0\n",
       "incident_cause          0\n",
       "claim_date              0\n",
       "claim_area              0\n",
       "police_report           0\n",
       "claim_type              0\n",
       "claim_amount           72\n",
       "total_policy_claims    17\n",
       "fraudulent              7\n",
       "check_flag              0\n",
       "dtype: int64"
      ]
     },
     "execution_count": 36,
     "metadata": {},
     "output_type": "execute_result"
    }
   ],
   "source": [
    "final_data.isna().sum()"
   ]
  },
  {
   "cell_type": "code",
   "execution_count": 37,
   "metadata": {},
   "outputs": [
    {
     "data": {
      "text/plain": [
       "12470.498519249753"
      ]
     },
     "execution_count": 37,
     "metadata": {},
     "output_type": "execute_result"
    }
   ],
   "source": [
    "final_data.claim_amount.mean()"
   ]
  },
  {
   "cell_type": "code",
   "execution_count": 38,
   "metadata": {},
   "outputs": [],
   "source": [
    "final_data.claim_amount.fillna(final_data.claim_amount.mean(),inplace = True)"
   ]
  },
  {
   "cell_type": "code",
   "execution_count": 39,
   "metadata": {},
   "outputs": [],
   "source": [
    "final_data.total_policy_claims.fillna(final_data.total_policy_claims.mean(),inplace = True)"
   ]
  },
  {
   "cell_type": "code",
   "execution_count": 40,
   "metadata": {},
   "outputs": [],
   "source": [
    "final_data.fraudulent.fillna(final_data.fraudulent.mode().iloc[0],inplace=True)"
   ]
  },
  {
   "cell_type": "code",
   "execution_count": 41,
   "metadata": {},
   "outputs": [
    {
     "data": {
      "text/plain": [
       "CUST_ID                0\n",
       "gender                 0\n",
       "DateOfBirth            0\n",
       "State                  0\n",
       "Contact                0\n",
       "Segment                0\n",
       "claim_id               0\n",
       "customer_id            0\n",
       "incident_cause         0\n",
       "claim_date             0\n",
       "claim_area             0\n",
       "police_report          0\n",
       "claim_type             0\n",
       "claim_amount           0\n",
       "total_policy_claims    0\n",
       "fraudulent             0\n",
       "check_flag             0\n",
       "dtype: int64"
      ]
     },
     "execution_count": 41,
     "metadata": {},
     "output_type": "execute_result"
    }
   ],
   "source": [
    "final_data.isna().sum() ### No missing value left:"
   ]
  },
  {
   "cell_type": "markdown",
   "metadata": {},
   "source": [
    "# 7. Calculate the age of customers in years. Based on the age, categorize the customers according to the below criteria\n",
    "# Children\t< 18 Youth\t18-30 Adult\t30-60 Senior\t> 60\n"
   ]
  },
  {
   "cell_type": "code",
   "execution_count": 42,
   "metadata": {},
   "outputs": [
    {
     "data": {
      "text/html": [
       "<div>\n",
       "<style scoped>\n",
       "    .dataframe tbody tr th:only-of-type {\n",
       "        vertical-align: middle;\n",
       "    }\n",
       "\n",
       "    .dataframe tbody tr th {\n",
       "        vertical-align: top;\n",
       "    }\n",
       "\n",
       "    .dataframe thead th {\n",
       "        text-align: right;\n",
       "    }\n",
       "</style>\n",
       "<table border=\"1\" class=\"dataframe\">\n",
       "  <thead>\n",
       "    <tr style=\"text-align: right;\">\n",
       "      <th></th>\n",
       "      <th>CUST_ID</th>\n",
       "      <th>gender</th>\n",
       "      <th>DateOfBirth</th>\n",
       "      <th>State</th>\n",
       "      <th>Contact</th>\n",
       "      <th>Segment</th>\n",
       "      <th>claim_id</th>\n",
       "      <th>customer_id</th>\n",
       "      <th>incident_cause</th>\n",
       "      <th>claim_date</th>\n",
       "      <th>claim_area</th>\n",
       "      <th>police_report</th>\n",
       "      <th>claim_type</th>\n",
       "      <th>claim_amount</th>\n",
       "      <th>total_policy_claims</th>\n",
       "      <th>fraudulent</th>\n",
       "      <th>check_flag</th>\n",
       "    </tr>\n",
       "  </thead>\n",
       "  <tbody>\n",
       "    <tr>\n",
       "      <th>0</th>\n",
       "      <td>21868593</td>\n",
       "      <td>Female</td>\n",
       "      <td>12-Jan-79</td>\n",
       "      <td>VT</td>\n",
       "      <td>789-916-8172</td>\n",
       "      <td>Platinum</td>\n",
       "      <td>54004764.0</td>\n",
       "      <td>21868593.0</td>\n",
       "      <td>Driver error</td>\n",
       "      <td>11/27/2017</td>\n",
       "      <td>Auto</td>\n",
       "      <td>No</td>\n",
       "      <td>Material only</td>\n",
       "      <td>2980.0</td>\n",
       "      <td>1.0</td>\n",
       "      <td>No</td>\n",
       "      <td>1</td>\n",
       "    </tr>\n",
       "  </tbody>\n",
       "</table>\n",
       "</div>"
      ],
      "text/plain": [
       "    CUST_ID  gender DateOfBirth State       Contact   Segment    claim_id  \\\n",
       "0  21868593  Female   12-Jan-79    VT  789-916-8172  Platinum  54004764.0   \n",
       "\n",
       "   customer_id incident_cause  claim_date claim_area police_report  \\\n",
       "0   21868593.0   Driver error  11/27/2017       Auto            No   \n",
       "\n",
       "      claim_type  claim_amount  total_policy_claims fraudulent  check_flag  \n",
       "0  Material only        2980.0                  1.0         No           1  "
      ]
     },
     "execution_count": 42,
     "metadata": {},
     "output_type": "execute_result"
    }
   ],
   "source": [
    "final_data.head(1)"
   ]
  },
  {
   "cell_type": "code",
   "execution_count": 43,
   "metadata": {},
   "outputs": [],
   "source": [
    "now = pd.Timestamp('now')\n",
    "final_data['DateOfBirth'] = pd.to_datetime(final_data['DateOfBirth'], format='%d-%b-%y')    # 1\n",
    "final_data['DateOfBirth'] = final_data['DateOfBirth'].where(final_data['DateOfBirth'] < now, final_data['DateOfBirth'] -  np.timedelta64(100, 'Y'))   # 2\n",
    "final_data['AGE'] = (now - final_data['DateOfBirth']).astype('<m8[Y]')"
   ]
  },
  {
   "cell_type": "code",
   "execution_count": 44,
   "metadata": {},
   "outputs": [],
   "source": [
    "from numpy import where as IF"
   ]
  },
  {
   "cell_type": "code",
   "execution_count": 45,
   "metadata": {},
   "outputs": [
    {
     "data": {
      "text/html": [
       "<div>\n",
       "<style scoped>\n",
       "    .dataframe tbody tr th:only-of-type {\n",
       "        vertical-align: middle;\n",
       "    }\n",
       "\n",
       "    .dataframe tbody tr th {\n",
       "        vertical-align: top;\n",
       "    }\n",
       "\n",
       "    .dataframe thead th {\n",
       "        text-align: right;\n",
       "    }\n",
       "</style>\n",
       "<table border=\"1\" class=\"dataframe\">\n",
       "  <thead>\n",
       "    <tr style=\"text-align: right;\">\n",
       "      <th></th>\n",
       "      <th>CUST_ID</th>\n",
       "      <th>gender</th>\n",
       "      <th>DateOfBirth</th>\n",
       "      <th>State</th>\n",
       "      <th>Contact</th>\n",
       "      <th>Segment</th>\n",
       "      <th>claim_id</th>\n",
       "      <th>customer_id</th>\n",
       "      <th>incident_cause</th>\n",
       "      <th>claim_date</th>\n",
       "      <th>claim_area</th>\n",
       "      <th>police_report</th>\n",
       "      <th>claim_type</th>\n",
       "      <th>claim_amount</th>\n",
       "      <th>total_policy_claims</th>\n",
       "      <th>fraudulent</th>\n",
       "      <th>check_flag</th>\n",
       "      <th>AGE</th>\n",
       "    </tr>\n",
       "    <tr>\n",
       "      <th>Age_group</th>\n",
       "      <th></th>\n",
       "      <th></th>\n",
       "      <th></th>\n",
       "      <th></th>\n",
       "      <th></th>\n",
       "      <th></th>\n",
       "      <th></th>\n",
       "      <th></th>\n",
       "      <th></th>\n",
       "      <th></th>\n",
       "      <th></th>\n",
       "      <th></th>\n",
       "      <th></th>\n",
       "      <th></th>\n",
       "      <th></th>\n",
       "      <th></th>\n",
       "      <th></th>\n",
       "      <th></th>\n",
       "    </tr>\n",
       "  </thead>\n",
       "  <tbody>\n",
       "    <tr>\n",
       "      <th>Adult</th>\n",
       "      <td>801</td>\n",
       "      <td>801</td>\n",
       "      <td>801</td>\n",
       "      <td>801</td>\n",
       "      <td>801</td>\n",
       "      <td>801</td>\n",
       "      <td>801</td>\n",
       "      <td>801</td>\n",
       "      <td>801</td>\n",
       "      <td>801</td>\n",
       "      <td>801</td>\n",
       "      <td>801</td>\n",
       "      <td>801</td>\n",
       "      <td>801</td>\n",
       "      <td>801</td>\n",
       "      <td>801</td>\n",
       "      <td>801</td>\n",
       "      <td>801</td>\n",
       "    </tr>\n",
       "    <tr>\n",
       "      <th>Senior</th>\n",
       "      <td>13</td>\n",
       "      <td>13</td>\n",
       "      <td>13</td>\n",
       "      <td>13</td>\n",
       "      <td>13</td>\n",
       "      <td>13</td>\n",
       "      <td>13</td>\n",
       "      <td>13</td>\n",
       "      <td>13</td>\n",
       "      <td>13</td>\n",
       "      <td>13</td>\n",
       "      <td>13</td>\n",
       "      <td>13</td>\n",
       "      <td>13</td>\n",
       "      <td>13</td>\n",
       "      <td>13</td>\n",
       "      <td>13</td>\n",
       "      <td>13</td>\n",
       "    </tr>\n",
       "    <tr>\n",
       "      <th>Youth</th>\n",
       "      <td>271</td>\n",
       "      <td>271</td>\n",
       "      <td>271</td>\n",
       "      <td>271</td>\n",
       "      <td>271</td>\n",
       "      <td>271</td>\n",
       "      <td>271</td>\n",
       "      <td>271</td>\n",
       "      <td>271</td>\n",
       "      <td>271</td>\n",
       "      <td>271</td>\n",
       "      <td>271</td>\n",
       "      <td>271</td>\n",
       "      <td>271</td>\n",
       "      <td>271</td>\n",
       "      <td>271</td>\n",
       "      <td>271</td>\n",
       "      <td>271</td>\n",
       "    </tr>\n",
       "  </tbody>\n",
       "</table>\n",
       "</div>"
      ],
      "text/plain": [
       "           CUST_ID  gender  DateOfBirth  State  Contact  Segment  claim_id  \\\n",
       "Age_group                                                                    \n",
       "Adult          801     801          801    801      801      801       801   \n",
       "Senior          13      13           13     13       13       13        13   \n",
       "Youth          271     271          271    271      271      271       271   \n",
       "\n",
       "           customer_id  incident_cause  claim_date  claim_area  police_report  \\\n",
       "Age_group                                                                       \n",
       "Adult              801             801         801         801            801   \n",
       "Senior              13              13          13          13             13   \n",
       "Youth              271             271         271         271            271   \n",
       "\n",
       "           claim_type  claim_amount  total_policy_claims  fraudulent  \\\n",
       "Age_group                                                              \n",
       "Adult             801           801                  801         801   \n",
       "Senior             13            13                   13          13   \n",
       "Youth             271           271                  271         271   \n",
       "\n",
       "           check_flag  AGE  \n",
       "Age_group                   \n",
       "Adult             801  801  \n",
       "Senior             13   13  \n",
       "Youth             271  271  "
      ]
     },
     "execution_count": 45,
     "metadata": {},
     "output_type": "execute_result"
    }
   ],
   "source": [
    "final_data[\"Age_group\"] = IF(final_data.AGE < 18, \"Children\",\n",
    "                        IF(final_data.AGE < 30, \"Youth\",\n",
    "                         IF(final_data.AGE < 60, \"Adult\",\n",
    "                          IF(final_data.AGE < 100, \"Senior\", \"NaN\"))))\n",
    "final_data[\"Age_group\"] = final_data[\"Age_group\"].fillna(final_data[\"Age_group\"].mode())\n",
    "final_data.groupby(by = \"Age_group\").count()"
   ]
  },
  {
   "cell_type": "code",
   "execution_count": 46,
   "metadata": {},
   "outputs": [
    {
     "data": {
      "text/html": [
       "<div>\n",
       "<style scoped>\n",
       "    .dataframe tbody tr th:only-of-type {\n",
       "        vertical-align: middle;\n",
       "    }\n",
       "\n",
       "    .dataframe tbody tr th {\n",
       "        vertical-align: top;\n",
       "    }\n",
       "\n",
       "    .dataframe thead th {\n",
       "        text-align: right;\n",
       "    }\n",
       "</style>\n",
       "<table border=\"1\" class=\"dataframe\">\n",
       "  <thead>\n",
       "    <tr style=\"text-align: right;\">\n",
       "      <th></th>\n",
       "      <th>CUST_ID</th>\n",
       "      <th>gender</th>\n",
       "      <th>DateOfBirth</th>\n",
       "      <th>State</th>\n",
       "      <th>Contact</th>\n",
       "      <th>Segment</th>\n",
       "      <th>claim_id</th>\n",
       "      <th>customer_id</th>\n",
       "      <th>incident_cause</th>\n",
       "      <th>claim_date</th>\n",
       "      <th>claim_area</th>\n",
       "      <th>police_report</th>\n",
       "      <th>claim_type</th>\n",
       "      <th>claim_amount</th>\n",
       "      <th>total_policy_claims</th>\n",
       "      <th>fraudulent</th>\n",
       "      <th>check_flag</th>\n",
       "      <th>AGE</th>\n",
       "      <th>Age_group</th>\n",
       "    </tr>\n",
       "  </thead>\n",
       "  <tbody>\n",
       "    <tr>\n",
       "      <th>0</th>\n",
       "      <td>21868593</td>\n",
       "      <td>Female</td>\n",
       "      <td>1979-01-12</td>\n",
       "      <td>VT</td>\n",
       "      <td>789-916-8172</td>\n",
       "      <td>Platinum</td>\n",
       "      <td>54004764.0</td>\n",
       "      <td>21868593.0</td>\n",
       "      <td>Driver error</td>\n",
       "      <td>11/27/2017</td>\n",
       "      <td>Auto</td>\n",
       "      <td>No</td>\n",
       "      <td>Material only</td>\n",
       "      <td>2980.0</td>\n",
       "      <td>1.0</td>\n",
       "      <td>No</td>\n",
       "      <td>1</td>\n",
       "      <td>41.0</td>\n",
       "      <td>Adult</td>\n",
       "    </tr>\n",
       "  </tbody>\n",
       "</table>\n",
       "</div>"
      ],
      "text/plain": [
       "    CUST_ID  gender DateOfBirth State       Contact   Segment    claim_id  \\\n",
       "0  21868593  Female  1979-01-12    VT  789-916-8172  Platinum  54004764.0   \n",
       "\n",
       "   customer_id incident_cause  claim_date claim_area police_report  \\\n",
       "0   21868593.0   Driver error  11/27/2017       Auto            No   \n",
       "\n",
       "      claim_type  claim_amount  total_policy_claims fraudulent  check_flag  \\\n",
       "0  Material only        2980.0                  1.0         No           1   \n",
       "\n",
       "    AGE Age_group  \n",
       "0  41.0     Adult  "
      ]
     },
     "execution_count": 46,
     "metadata": {},
     "output_type": "execute_result"
    }
   ],
   "source": [
    "final_data.head(1)"
   ]
  },
  {
   "cell_type": "markdown",
   "metadata": {},
   "source": [
    "# 8. What is the average amount claimed by the customers from various segments?"
   ]
  },
  {
   "cell_type": "code",
   "execution_count": 47,
   "metadata": {},
   "outputs": [
    {
     "data": {
      "text/plain": [
       "Segment\n",
       "Gold        12755.710930\n",
       "Platinum    12370.138663\n",
       "Silver      12271.163192\n",
       "Name: claim_amount, dtype: float64"
      ]
     },
     "execution_count": 47,
     "metadata": {},
     "output_type": "execute_result"
    }
   ],
   "source": [
    "final_data.groupby('Segment').claim_amount.mean() ### Average amount claimed by customers from various segments:"
   ]
  },
  {
   "cell_type": "markdown",
   "metadata": {},
   "source": [
    "# 9. What is the total claim amount based on incident cause for all the claims that have been done at least 20 days prior to 1st of October, 2018."
   ]
  },
  {
   "cell_type": "code",
   "execution_count": 48,
   "metadata": {},
   "outputs": [],
   "source": [
    "final_data['claim_date']=pd.to_datetime(final_data.claim_date)"
   ]
  },
  {
   "cell_type": "code",
   "execution_count": 49,
   "metadata": {},
   "outputs": [
    {
     "data": {
      "text/plain": [
       "incident_cause\n",
       "Crime                  738562.5\n",
       "Driver error          3404407.0\n",
       "Natural causes        1366130.5\n",
       "Other causes          4164901.0\n",
       "Other driver error    3468841.5\n",
       "Name: claim_amount, dtype: float64"
      ]
     },
     "execution_count": 49,
     "metadata": {},
     "output_type": "execute_result"
    }
   ],
   "source": [
    "round(final_data[final_data.claim_date <='10-09-2018'].groupby('incident_cause').claim_amount.sum(),1)"
   ]
  },
  {
   "cell_type": "markdown",
   "metadata": {},
   "source": [
    "# 10. How many adults from TX, DE and AK claimed insurance for driver related issues and causes?"
   ]
  },
  {
   "cell_type": "code",
   "execution_count": 50,
   "metadata": {},
   "outputs": [
    {
     "data": {
      "text/html": [
       "<div>\n",
       "<style scoped>\n",
       "    .dataframe tbody tr th:only-of-type {\n",
       "        vertical-align: middle;\n",
       "    }\n",
       "\n",
       "    .dataframe tbody tr th {\n",
       "        vertical-align: top;\n",
       "    }\n",
       "\n",
       "    .dataframe thead th {\n",
       "        text-align: right;\n",
       "    }\n",
       "</style>\n",
       "<table border=\"1\" class=\"dataframe\">\n",
       "  <thead>\n",
       "    <tr style=\"text-align: right;\">\n",
       "      <th></th>\n",
       "      <th>CUST_ID</th>\n",
       "      <th>gender</th>\n",
       "      <th>DateOfBirth</th>\n",
       "      <th>State</th>\n",
       "      <th>Contact</th>\n",
       "      <th>Segment</th>\n",
       "      <th>claim_id</th>\n",
       "      <th>customer_id</th>\n",
       "      <th>incident_cause</th>\n",
       "      <th>claim_date</th>\n",
       "      <th>claim_area</th>\n",
       "      <th>police_report</th>\n",
       "      <th>claim_type</th>\n",
       "      <th>claim_amount</th>\n",
       "      <th>total_policy_claims</th>\n",
       "      <th>fraudulent</th>\n",
       "      <th>check_flag</th>\n",
       "      <th>AGE</th>\n",
       "      <th>Age_group</th>\n",
       "    </tr>\n",
       "  </thead>\n",
       "  <tbody>\n",
       "    <tr>\n",
       "      <th>0</th>\n",
       "      <td>21868593</td>\n",
       "      <td>Female</td>\n",
       "      <td>1979-01-12</td>\n",
       "      <td>VT</td>\n",
       "      <td>789-916-8172</td>\n",
       "      <td>Platinum</td>\n",
       "      <td>54004764.0</td>\n",
       "      <td>21868593.0</td>\n",
       "      <td>Driver error</td>\n",
       "      <td>2017-11-27</td>\n",
       "      <td>Auto</td>\n",
       "      <td>No</td>\n",
       "      <td>Material only</td>\n",
       "      <td>2980.0</td>\n",
       "      <td>1.0</td>\n",
       "      <td>No</td>\n",
       "      <td>1</td>\n",
       "      <td>41.0</td>\n",
       "      <td>Adult</td>\n",
       "    </tr>\n",
       "  </tbody>\n",
       "</table>\n",
       "</div>"
      ],
      "text/plain": [
       "    CUST_ID  gender DateOfBirth State       Contact   Segment    claim_id  \\\n",
       "0  21868593  Female  1979-01-12    VT  789-916-8172  Platinum  54004764.0   \n",
       "\n",
       "   customer_id incident_cause claim_date claim_area police_report  \\\n",
       "0   21868593.0   Driver error 2017-11-27       Auto            No   \n",
       "\n",
       "      claim_type  claim_amount  total_policy_claims fraudulent  check_flag  \\\n",
       "0  Material only        2980.0                  1.0         No           1   \n",
       "\n",
       "    AGE Age_group  \n",
       "0  41.0     Adult  "
      ]
     },
     "execution_count": 50,
     "metadata": {},
     "output_type": "execute_result"
    }
   ],
   "source": [
    "final_data.head(1)"
   ]
  },
  {
   "cell_type": "code",
   "execution_count": 51,
   "metadata": {},
   "outputs": [
    {
     "data": {
      "text/plain": [
       "State\n",
       "AK     8\n",
       "DE    12\n",
       "TX     9\n",
       "Name: Age_group, dtype: int64"
      ]
     },
     "execution_count": 51,
     "metadata": {},
     "output_type": "execute_result"
    }
   ],
   "source": [
    "final_data[(final_data.incident_cause.isin(['Driver error','Other driver error'])) & (final_data.Age_group=='Adult') &\n",
    "           (final_data.State.isin(['TX','DE','AK']))].groupby('State').Age_group.count()"
   ]
  },
  {
   "cell_type": "code",
   "execution_count": 52,
   "metadata": {},
   "outputs": [
    {
     "data": {
      "text/html": [
       "<div>\n",
       "<style scoped>\n",
       "    .dataframe tbody tr th:only-of-type {\n",
       "        vertical-align: middle;\n",
       "    }\n",
       "\n",
       "    .dataframe tbody tr th {\n",
       "        vertical-align: top;\n",
       "    }\n",
       "\n",
       "    .dataframe thead th {\n",
       "        text-align: right;\n",
       "    }\n",
       "</style>\n",
       "<table border=\"1\" class=\"dataframe\">\n",
       "  <thead>\n",
       "    <tr style=\"text-align: right;\">\n",
       "      <th></th>\n",
       "      <th>CUST_ID</th>\n",
       "      <th>gender</th>\n",
       "      <th>DateOfBirth</th>\n",
       "      <th>State</th>\n",
       "      <th>Contact</th>\n",
       "      <th>Segment</th>\n",
       "      <th>claim_id</th>\n",
       "      <th>customer_id</th>\n",
       "      <th>incident_cause</th>\n",
       "      <th>claim_date</th>\n",
       "      <th>claim_area</th>\n",
       "      <th>police_report</th>\n",
       "      <th>claim_type</th>\n",
       "      <th>claim_amount</th>\n",
       "      <th>total_policy_claims</th>\n",
       "      <th>fraudulent</th>\n",
       "      <th>check_flag</th>\n",
       "      <th>AGE</th>\n",
       "      <th>Age_group</th>\n",
       "    </tr>\n",
       "  </thead>\n",
       "  <tbody>\n",
       "    <tr>\n",
       "      <th>524</th>\n",
       "      <td>19796899</td>\n",
       "      <td>Female</td>\n",
       "      <td>1975-12-17 00:00:00</td>\n",
       "      <td>TX</td>\n",
       "      <td>725-873-8239</td>\n",
       "      <td>Gold</td>\n",
       "      <td>9124181.0</td>\n",
       "      <td>19796899.0</td>\n",
       "      <td>Other driver error</td>\n",
       "      <td>2018-04-04</td>\n",
       "      <td>Auto</td>\n",
       "      <td>Yes</td>\n",
       "      <td>Material and injury</td>\n",
       "      <td>24667.5</td>\n",
       "      <td>1.0</td>\n",
       "      <td>Yes</td>\n",
       "      <td>0</td>\n",
       "      <td>44.0</td>\n",
       "      <td>Adult</td>\n",
       "    </tr>\n",
       "    <tr>\n",
       "      <th>574</th>\n",
       "      <td>15820948</td>\n",
       "      <td>Male</td>\n",
       "      <td>1964-02-22 18:00:00</td>\n",
       "      <td>TX</td>\n",
       "      <td>583-641-3184</td>\n",
       "      <td>Silver</td>\n",
       "      <td>53831641.0</td>\n",
       "      <td>15820948.0</td>\n",
       "      <td>Driver error</td>\n",
       "      <td>2017-09-27</td>\n",
       "      <td>Auto</td>\n",
       "      <td>Yes</td>\n",
       "      <td>Material and injury</td>\n",
       "      <td>14570.0</td>\n",
       "      <td>1.0</td>\n",
       "      <td>No</td>\n",
       "      <td>0</td>\n",
       "      <td>56.0</td>\n",
       "      <td>Adult</td>\n",
       "    </tr>\n",
       "    <tr>\n",
       "      <th>657</th>\n",
       "      <td>9205013</td>\n",
       "      <td>Male</td>\n",
       "      <td>1963-12-11 18:00:00</td>\n",
       "      <td>DE</td>\n",
       "      <td>239-368-6759</td>\n",
       "      <td>Platinum</td>\n",
       "      <td>40283824.0</td>\n",
       "      <td>9205013.0</td>\n",
       "      <td>Driver error</td>\n",
       "      <td>2018-06-17</td>\n",
       "      <td>Auto</td>\n",
       "      <td>Yes</td>\n",
       "      <td>Material and injury</td>\n",
       "      <td>23430.0</td>\n",
       "      <td>1.0</td>\n",
       "      <td>No</td>\n",
       "      <td>0</td>\n",
       "      <td>56.0</td>\n",
       "      <td>Adult</td>\n",
       "    </tr>\n",
       "  </tbody>\n",
       "</table>\n",
       "</div>"
      ],
      "text/plain": [
       "      CUST_ID  gender         DateOfBirth State       Contact   Segment  \\\n",
       "524  19796899  Female 1975-12-17 00:00:00    TX  725-873-8239      Gold   \n",
       "574  15820948    Male 1964-02-22 18:00:00    TX  583-641-3184    Silver   \n",
       "657   9205013    Male 1963-12-11 18:00:00    DE  239-368-6759  Platinum   \n",
       "\n",
       "       claim_id  customer_id      incident_cause claim_date claim_area  \\\n",
       "524   9124181.0   19796899.0  Other driver error 2018-04-04       Auto   \n",
       "574  53831641.0   15820948.0        Driver error 2017-09-27       Auto   \n",
       "657  40283824.0    9205013.0        Driver error 2018-06-17       Auto   \n",
       "\n",
       "    police_report           claim_type  claim_amount  total_policy_claims  \\\n",
       "524           Yes  Material and injury       24667.5                  1.0   \n",
       "574           Yes  Material and injury       14570.0                  1.0   \n",
       "657           Yes  Material and injury       23430.0                  1.0   \n",
       "\n",
       "    fraudulent  check_flag   AGE Age_group  \n",
       "524        Yes           0  44.0     Adult  \n",
       "574         No           0  56.0     Adult  \n",
       "657         No           0  56.0     Adult  "
      ]
     },
     "execution_count": 52,
     "metadata": {},
     "output_type": "execute_result"
    }
   ],
   "source": [
    "##IF we want to see how many actually reported to police:\n",
    "final_data[(final_data.incident_cause.isin(['Driver error','Other driver error'])) & (final_data.Age_group=='Adult') &\n",
    "           (final_data.State.isin(['TX','DE','AK']))\n",
    "          & (final_data.police_report=='Yes')]"
   ]
  },
  {
   "cell_type": "markdown",
   "metadata": {},
   "source": [
    "# 11. Draw a pie chart between the aggregated value of claim amount based on gender and segment. Represent the claim amount as a percentage on the pie chart."
   ]
  },
  {
   "cell_type": "code",
   "execution_count": 53,
   "metadata": {},
   "outputs": [
    {
     "data": {
      "text/html": [
       "<div>\n",
       "<style scoped>\n",
       "    .dataframe tbody tr th:only-of-type {\n",
       "        vertical-align: middle;\n",
       "    }\n",
       "\n",
       "    .dataframe tbody tr th {\n",
       "        vertical-align: top;\n",
       "    }\n",
       "\n",
       "    .dataframe thead th {\n",
       "        text-align: right;\n",
       "    }\n",
       "</style>\n",
       "<table border=\"1\" class=\"dataframe\">\n",
       "  <thead>\n",
       "    <tr style=\"text-align: right;\">\n",
       "      <th></th>\n",
       "      <th>CUST_ID</th>\n",
       "      <th>gender</th>\n",
       "      <th>DateOfBirth</th>\n",
       "      <th>State</th>\n",
       "      <th>Contact</th>\n",
       "      <th>Segment</th>\n",
       "      <th>claim_id</th>\n",
       "      <th>customer_id</th>\n",
       "      <th>incident_cause</th>\n",
       "      <th>claim_date</th>\n",
       "      <th>claim_area</th>\n",
       "      <th>police_report</th>\n",
       "      <th>claim_type</th>\n",
       "      <th>claim_amount</th>\n",
       "      <th>total_policy_claims</th>\n",
       "      <th>fraudulent</th>\n",
       "      <th>check_flag</th>\n",
       "      <th>AGE</th>\n",
       "      <th>Age_group</th>\n",
       "    </tr>\n",
       "  </thead>\n",
       "  <tbody>\n",
       "    <tr>\n",
       "      <th>0</th>\n",
       "      <td>21868593</td>\n",
       "      <td>Female</td>\n",
       "      <td>1979-01-12</td>\n",
       "      <td>VT</td>\n",
       "      <td>789-916-8172</td>\n",
       "      <td>Platinum</td>\n",
       "      <td>54004764.0</td>\n",
       "      <td>21868593.0</td>\n",
       "      <td>Driver error</td>\n",
       "      <td>2017-11-27</td>\n",
       "      <td>Auto</td>\n",
       "      <td>No</td>\n",
       "      <td>Material only</td>\n",
       "      <td>2980.0</td>\n",
       "      <td>1.0</td>\n",
       "      <td>No</td>\n",
       "      <td>1</td>\n",
       "      <td>41.0</td>\n",
       "      <td>Adult</td>\n",
       "    </tr>\n",
       "  </tbody>\n",
       "</table>\n",
       "</div>"
      ],
      "text/plain": [
       "    CUST_ID  gender DateOfBirth State       Contact   Segment    claim_id  \\\n",
       "0  21868593  Female  1979-01-12    VT  789-916-8172  Platinum  54004764.0   \n",
       "\n",
       "   customer_id incident_cause claim_date claim_area police_report  \\\n",
       "0   21868593.0   Driver error 2017-11-27       Auto            No   \n",
       "\n",
       "      claim_type  claim_amount  total_policy_claims fraudulent  check_flag  \\\n",
       "0  Material only        2980.0                  1.0         No           1   \n",
       "\n",
       "    AGE Age_group  \n",
       "0  41.0     Adult  "
      ]
     },
     "execution_count": 53,
     "metadata": {},
     "output_type": "execute_result"
    }
   ],
   "source": [
    "final_data.head(1)"
   ]
  },
  {
   "cell_type": "code",
   "execution_count": 54,
   "metadata": {},
   "outputs": [
    {
     "data": {
      "text/plain": [
       "<matplotlib.axes._subplots.AxesSubplot at 0x21215652d48>"
      ]
     },
     "execution_count": 54,
     "metadata": {},
     "output_type": "execute_result"
    },
    {
     "data": {
      "image/png": "[encoded data removed]",
      "text/plain": [
       "<Figure size 432x288 with 1 Axes>"
      ]
     },
     "metadata": {},
     "output_type": "display_data"
    }
   ],
   "source": [
    "final_data.groupby(['gender','Segment']).claim_amount.sum().plot(kind='pie',autopct='%.1f%%')"
   ]
  },
  {
   "cell_type": "markdown",
   "metadata": {},
   "source": [
    "# 12. Among males and females, which gender had claimed the most for any type of driver related issues? E.g. This metric can be compared using a bar chart"
   ]
  },
  {
   "cell_type": "code",
   "execution_count": 55,
   "metadata": {},
   "outputs": [
    {
     "data": {
      "text/html": [
       "<div>\n",
       "<style scoped>\n",
       "    .dataframe tbody tr th:only-of-type {\n",
       "        vertical-align: middle;\n",
       "    }\n",
       "\n",
       "    .dataframe tbody tr th {\n",
       "        vertical-align: top;\n",
       "    }\n",
       "\n",
       "    .dataframe thead th {\n",
       "        text-align: right;\n",
       "    }\n",
       "</style>\n",
       "<table border=\"1\" class=\"dataframe\">\n",
       "  <thead>\n",
       "    <tr style=\"text-align: right;\">\n",
       "      <th></th>\n",
       "      <th>gender</th>\n",
       "      <th>incident_cause</th>\n",
       "    </tr>\n",
       "  </thead>\n",
       "  <tbody>\n",
       "    <tr>\n",
       "      <th>0</th>\n",
       "      <td>Female</td>\n",
       "      <td>Driver error</td>\n",
       "    </tr>\n",
       "    <tr>\n",
       "      <th>1</th>\n",
       "      <td>Female</td>\n",
       "      <td>Crime</td>\n",
       "    </tr>\n",
       "    <tr>\n",
       "      <th>2</th>\n",
       "      <td>Female</td>\n",
       "      <td>Other driver error</td>\n",
       "    </tr>\n",
       "    <tr>\n",
       "      <th>4</th>\n",
       "      <td>Female</td>\n",
       "      <td>Natural causes</td>\n",
       "    </tr>\n",
       "    <tr>\n",
       "      <th>6</th>\n",
       "      <td>Male</td>\n",
       "      <td>Crime</td>\n",
       "    </tr>\n",
       "    <tr>\n",
       "      <th>...</th>\n",
       "      <td>...</td>\n",
       "      <td>...</td>\n",
       "    </tr>\n",
       "    <tr>\n",
       "      <th>1087</th>\n",
       "      <td>Female</td>\n",
       "      <td>Other driver error</td>\n",
       "    </tr>\n",
       "    <tr>\n",
       "      <th>1088</th>\n",
       "      <td>Female</td>\n",
       "      <td>Other causes</td>\n",
       "    </tr>\n",
       "    <tr>\n",
       "      <th>1089</th>\n",
       "      <td>Male</td>\n",
       "      <td>Other driver error</td>\n",
       "    </tr>\n",
       "    <tr>\n",
       "      <th>1090</th>\n",
       "      <td>Female</td>\n",
       "      <td>Other driver error</td>\n",
       "    </tr>\n",
       "    <tr>\n",
       "      <th>1091</th>\n",
       "      <td>Male</td>\n",
       "      <td>Natural causes</td>\n",
       "    </tr>\n",
       "  </tbody>\n",
       "</table>\n",
       "<p>1085 rows × 2 columns</p>\n",
       "</div>"
      ],
      "text/plain": [
       "      gender      incident_cause\n",
       "0     Female        Driver error\n",
       "1     Female               Crime\n",
       "2     Female  Other driver error\n",
       "4     Female      Natural causes\n",
       "6       Male               Crime\n",
       "...      ...                 ...\n",
       "1087  Female  Other driver error\n",
       "1088  Female        Other causes\n",
       "1089    Male  Other driver error\n",
       "1090  Female  Other driver error\n",
       "1091    Male      Natural causes\n",
       "\n",
       "[1085 rows x 2 columns]"
      ]
     },
     "execution_count": 55,
     "metadata": {},
     "output_type": "execute_result"
    }
   ],
   "source": [
    "final_data.loc[:,['gender','incident_cause']]"
   ]
  },
  {
   "cell_type": "code",
   "execution_count": 56,
   "metadata": {},
   "outputs": [],
   "source": [
    "gender_metric = final_data.loc[final_data.gender.isin(['Female','Male']) & final_data.incident_cause.isin(['Driver error','Other driver error']),['gender','incident_cause']]"
   ]
  },
  {
   "cell_type": "code",
   "execution_count": 57,
   "metadata": {},
   "outputs": [
    {
     "data": {
      "image/png": "[encoded data removed]",
      "text/plain": [
       "<Figure size 432x288 with 1 Axes>"
      ]
     },
     "metadata": {
      "needs_background": "light"
     },
     "output_type": "display_data"
    }
   ],
   "source": [
    "gender_metric.pivot_table(index=gender_metric.gender,aggfunc='count').plot(kind='bar',color='g')\n",
    "plt.show()"
   ]
  },
  {
   "cell_type": "markdown",
   "metadata": {},
   "source": [
    "# 13. Which age group had the maximum fraudulent policy claims? Visualize it on a bar chart."
   ]
  },
  {
   "cell_type": "code",
   "execution_count": 58,
   "metadata": {},
   "outputs": [
    {
     "data": {
      "text/html": [
       "<div>\n",
       "<style scoped>\n",
       "    .dataframe tbody tr th:only-of-type {\n",
       "        vertical-align: middle;\n",
       "    }\n",
       "\n",
       "    .dataframe tbody tr th {\n",
       "        vertical-align: top;\n",
       "    }\n",
       "\n",
       "    .dataframe thead th {\n",
       "        text-align: right;\n",
       "    }\n",
       "</style>\n",
       "<table border=\"1\" class=\"dataframe\">\n",
       "  <thead>\n",
       "    <tr style=\"text-align: right;\">\n",
       "      <th></th>\n",
       "      <th>CUST_ID</th>\n",
       "      <th>gender</th>\n",
       "      <th>DateOfBirth</th>\n",
       "      <th>State</th>\n",
       "      <th>Contact</th>\n",
       "      <th>Segment</th>\n",
       "      <th>claim_id</th>\n",
       "      <th>customer_id</th>\n",
       "      <th>incident_cause</th>\n",
       "      <th>claim_date</th>\n",
       "      <th>claim_area</th>\n",
       "      <th>police_report</th>\n",
       "      <th>claim_type</th>\n",
       "      <th>claim_amount</th>\n",
       "      <th>total_policy_claims</th>\n",
       "      <th>fraudulent</th>\n",
       "      <th>check_flag</th>\n",
       "      <th>AGE</th>\n",
       "      <th>Age_group</th>\n",
       "    </tr>\n",
       "  </thead>\n",
       "  <tbody>\n",
       "    <tr>\n",
       "      <th>0</th>\n",
       "      <td>21868593</td>\n",
       "      <td>Female</td>\n",
       "      <td>1979-01-12</td>\n",
       "      <td>VT</td>\n",
       "      <td>789-916-8172</td>\n",
       "      <td>Platinum</td>\n",
       "      <td>54004764.0</td>\n",
       "      <td>21868593.0</td>\n",
       "      <td>Driver error</td>\n",
       "      <td>2017-11-27</td>\n",
       "      <td>Auto</td>\n",
       "      <td>No</td>\n",
       "      <td>Material only</td>\n",
       "      <td>2980.0</td>\n",
       "      <td>1.0</td>\n",
       "      <td>No</td>\n",
       "      <td>1</td>\n",
       "      <td>41.0</td>\n",
       "      <td>Adult</td>\n",
       "    </tr>\n",
       "  </tbody>\n",
       "</table>\n",
       "</div>"
      ],
      "text/plain": [
       "    CUST_ID  gender DateOfBirth State       Contact   Segment    claim_id  \\\n",
       "0  21868593  Female  1979-01-12    VT  789-916-8172  Platinum  54004764.0   \n",
       "\n",
       "   customer_id incident_cause claim_date claim_area police_report  \\\n",
       "0   21868593.0   Driver error 2017-11-27       Auto            No   \n",
       "\n",
       "      claim_type  claim_amount  total_policy_claims fraudulent  check_flag  \\\n",
       "0  Material only        2980.0                  1.0         No           1   \n",
       "\n",
       "    AGE Age_group  \n",
       "0  41.0     Adult  "
      ]
     },
     "execution_count": 58,
     "metadata": {},
     "output_type": "execute_result"
    }
   ],
   "source": [
    "final_data.head(1)"
   ]
  },
  {
   "cell_type": "code",
   "execution_count": 59,
   "metadata": {},
   "outputs": [
    {
     "data": {
      "text/plain": [
       "<matplotlib.axes._subplots.AxesSubplot at 0x21215dff488>"
      ]
     },
     "execution_count": 59,
     "metadata": {},
     "output_type": "execute_result"
    },
    {
     "data": {
      "image/png": "[encoded data removed]",
      "text/plain": [
       "<Figure size 432x288 with 1 Axes>"
      ]
     },
     "metadata": {
      "needs_background": "light"
     },
     "output_type": "display_data"
    }
   ],
   "source": [
    "final_data[['Age_group','fraudulent']].pivot_table(index='Age_group',aggfunc='count').plot(kind='bar')"
   ]
  },
  {
   "cell_type": "code",
   "execution_count": 60,
   "metadata": {},
   "outputs": [],
   "source": [
    "final_data.to_csv('final1_data.csv',header= True)"
   ]
  },
  {
   "cell_type": "code",
   "execution_count": 61,
   "metadata": {},
   "outputs": [
    {
     "data": {
      "text/html": [
       "<div>\n",
       "<style scoped>\n",
       "    .dataframe tbody tr th:only-of-type {\n",
       "        vertical-align: middle;\n",
       "    }\n",
       "\n",
       "    .dataframe tbody tr th {\n",
       "        vertical-align: top;\n",
       "    }\n",
       "\n",
       "    .dataframe thead th {\n",
       "        text-align: right;\n",
       "    }\n",
       "</style>\n",
       "<table border=\"1\" class=\"dataframe\">\n",
       "  <thead>\n",
       "    <tr style=\"text-align: right;\">\n",
       "      <th></th>\n",
       "      <th>fraudulent</th>\n",
       "    </tr>\n",
       "    <tr>\n",
       "      <th>Age_group</th>\n",
       "      <th></th>\n",
       "    </tr>\n",
       "  </thead>\n",
       "  <tbody>\n",
       "    <tr>\n",
       "      <th>Adult</th>\n",
       "      <td>801</td>\n",
       "    </tr>\n",
       "    <tr>\n",
       "      <th>Senior</th>\n",
       "      <td>13</td>\n",
       "    </tr>\n",
       "    <tr>\n",
       "      <th>Youth</th>\n",
       "      <td>271</td>\n",
       "    </tr>\n",
       "  </tbody>\n",
       "</table>\n",
       "</div>"
      ],
      "text/plain": [
       "           fraudulent\n",
       "Age_group            \n",
       "Adult             801\n",
       "Senior             13\n",
       "Youth             271"
      ]
     },
     "execution_count": 61,
     "metadata": {},
     "output_type": "execute_result"
    }
   ],
   "source": [
    "final_data[['Age_group','fraudulent']].pivot_table(index='Age_group',aggfunc='count')"
   ]
  },
  {
   "cell_type": "markdown",
   "metadata": {},
   "source": [
    "**2nd answer of the same ques here we have filtered (fraudulent=='Yes) for the agegroup who actually reported fraud claims**"
   ]
  },
  {
   "cell_type": "code",
   "execution_count": 62,
   "metadata": {},
   "outputs": [
    {
     "data": {
      "text/plain": [
       "<matplotlib.axes._subplots.AxesSubplot at 0x21215edc608>"
      ]
     },
     "execution_count": 62,
     "metadata": {},
     "output_type": "execute_result"
    },
    {
     "data": {
      "image/png": "[encoded data removed]",
      "text/plain": [
       "<Figure size 432x288 with 1 Axes>"
      ]
     },
     "metadata": {
      "needs_background": "light"
     },
     "output_type": "display_data"
    }
   ],
   "source": [
    "final_data.loc[(final_data.fraudulent =='Yes'),['Age_group','fraudulent']].pivot_table(\n",
    "    index='Age_group',aggfunc='count').plot(kind='bar')"
   ]
  },
  {
   "cell_type": "markdown",
   "metadata": {},
   "source": [
    "# 14. Visualize the monthly trend of the total amount that has been claimed by the customers. Ensure that on the “month” axis, the month is in a chronological order not alphabetical order."
   ]
  },
  {
   "cell_type": "code",
   "execution_count": 63,
   "metadata": {},
   "outputs": [],
   "source": [
    "final_data['monthly_trend']=final_data.claim_date.dt.month"
   ]
  },
  {
   "cell_type": "code",
   "execution_count": 64,
   "metadata": {},
   "outputs": [
    {
     "data": {
      "text/plain": [
       "<matplotlib.axes._subplots.AxesSubplot at 0x21215f38788>"
      ]
     },
     "execution_count": 64,
     "metadata": {},
     "output_type": "execute_result"
    },
    {
     "data": {
      "image/png": "[encoded data removed]",
      "text/plain": [
       "<Figure size 432x288 with 1 Axes>"
      ]
     },
     "metadata": {
      "needs_background": "light"
     },
     "output_type": "display_data"
    }
   ],
   "source": [
    "sns.lineplot(x=final_data.claim_amount,y=final_data.monthly_trend)"
   ]
  },
  {
   "cell_type": "code",
   "execution_count": 65,
   "metadata": {},
   "outputs": [
    {
     "data": {
      "text/plain": [
       "<matplotlib.axes._subplots.AxesSubplot at 0x21215fe09c8>"
      ]
     },
     "execution_count": 65,
     "metadata": {},
     "output_type": "execute_result"
    },
    {
     "data": {
      "image/png": "[encoded data removed]",
      "text/plain": [
       "<Figure size 432x288 with 1 Axes>"
      ]
     },
     "metadata": {
      "needs_background": "light"
     },
     "output_type": "display_data"
    }
   ],
   "source": [
    "sns.lineplot(x=final_data.monthly_trend,y=final_data.claim_amount)"
   ]
  },
  {
   "cell_type": "code",
   "execution_count": 66,
   "metadata": {},
   "outputs": [
    {
     "data": {
      "text/plain": [
       "monthly_trend       12.0\n",
       "claim_amount     48150.5\n",
       "dtype: float64"
      ]
     },
     "execution_count": 66,
     "metadata": {},
     "output_type": "execute_result"
    }
   ],
   "source": [
    "final_data[['monthly_trend','claim_amount']].max()"
   ]
  },
  {
   "cell_type": "code",
   "execution_count": 67,
   "metadata": {},
   "outputs": [
    {
     "data": {
      "text/plain": [
       "<matplotlib.axes._subplots.AxesSubplot at 0x21215e8d688>"
      ]
     },
     "execution_count": 67,
     "metadata": {},
     "output_type": "execute_result"
    },
    {
     "data": {
      "image/png": "[encoded data removed]",
      "text/plain": [
       "<Figure size 432x288 with 1 Axes>"
      ]
     },
     "metadata": {
      "needs_background": "light"
     },
     "output_type": "display_data"
    }
   ],
   "source": [
    "final_data.groupby('monthly_trend').claim_amount.sum().plot(grid=True)"
   ]
  },
  {
   "cell_type": "markdown",
   "metadata": {},
   "source": [
    "# 15. What is the average claim amount for gender and age categories and suitably represent the above using a facetted bar chart, one facet that represents fraudulent claims and the other for non-fraudulent claims.\n",
    "\n",
    "# Based on the conclusions from exploratory analysis as well as suitable statistical tests, answer the below questions. Please include a detailed write-up on the parameters taken into consideration, the Hypothesis testing steps, conclusion from the p-values and the business implications of the statements.\n"
   ]
  },
  {
   "cell_type": "code",
   "execution_count": 68,
   "metadata": {},
   "outputs": [
    {
     "data": {
      "text/plain": [
       "gender  Age_group\n",
       "Female  Adult        12034.295839\n",
       "        Senior        8478.199112\n",
       "        Youth        12446.985075\n",
       "Male    Adult        13220.567136\n",
       "        Senior        9836.250000\n",
       "        Youth        11797.139597\n",
       "Name: claim_amount, dtype: float64"
      ]
     },
     "execution_count": 68,
     "metadata": {},
     "output_type": "execute_result"
    }
   ],
   "source": [
    "final_data.groupby(['gender','Age_group']).claim_amount.agg('mean')"
   ]
  },
  {
   "cell_type": "markdown",
   "metadata": {},
   "source": [
    "**Customer who has done the fraud**"
   ]
  },
  {
   "cell_type": "code",
   "execution_count": 69,
   "metadata": {},
   "outputs": [
    {
     "data": {
      "text/plain": [
       "<matplotlib.axes._subplots.AxesSubplot at 0x2121608e1c8>"
      ]
     },
     "execution_count": 69,
     "metadata": {},
     "output_type": "execute_result"
    },
    {
     "data": {
      "image/png": "[encoded data removed]",
      "text/plain": [
       "<Figure size 432x288 with 1 Axes>"
      ]
     },
     "metadata": {
      "needs_background": "light"
     },
     "output_type": "display_data"
    }
   ],
   "source": [
    "final_data.loc[(final_data.fraudulent=='Yes'),['gender','Age_group','claim_amount']].pivot_table(\n",
    "    index='gender',columns='Age_group',values='claim_amount',aggfunc='mean').plot(kind='bar')"
   ]
  },
  {
   "cell_type": "markdown",
   "metadata": {},
   "source": [
    "**Customer with no fraud**"
   ]
  },
  {
   "cell_type": "code",
   "execution_count": 70,
   "metadata": {},
   "outputs": [
    {
     "data": {
      "text/plain": [
       "<matplotlib.axes._subplots.AxesSubplot at 0x21215d71d88>"
      ]
     },
     "execution_count": 70,
     "metadata": {},
     "output_type": "execute_result"
    },
    {
     "data": {
      "image/png": "[encoded data removed]",
      "text/plain": [
       "<Figure size 432x288 with 1 Axes>"
      ]
     },
     "metadata": {
      "needs_background": "light"
     },
     "output_type": "display_data"
    }
   ],
   "source": [
    "final_data.loc[(final_data.fraudulent=='No'),['gender','Age_group','claim_amount']].pivot_table(\n",
    "    index='gender',columns='Age_group',values='claim_amount',aggfunc='mean').plot(kind='bar')"
   ]
  },
  {
   "cell_type": "markdown",
   "metadata": {},
   "source": [
    "# 16. Is there any similarity in the amount claimed by males and females? "
   ]
  },
  {
   "cell_type": "code",
   "execution_count": 71,
   "metadata": {},
   "outputs": [
    {
     "data": {
      "text/plain": [
       "Index(['CUST_ID', 'gender', 'DateOfBirth', 'State', 'Contact', 'Segment',\n",
       "       'claim_id', 'customer_id', 'incident_cause', 'claim_date', 'claim_area',\n",
       "       'police_report', 'claim_type', 'claim_amount', 'total_policy_claims',\n",
       "       'fraudulent', 'check_flag', 'AGE', 'Age_group', 'monthly_trend'],\n",
       "      dtype='object')"
      ]
     },
     "execution_count": 71,
     "metadata": {},
     "output_type": "execute_result"
    }
   ],
   "source": [
    "final_data.columns"
   ]
  },
  {
   "cell_type": "code",
   "execution_count": 72,
   "metadata": {},
   "outputs": [],
   "source": [
    "males = final_data[final_data.gender =='Male']['claim_amount']"
   ]
  },
  {
   "cell_type": "code",
   "execution_count": 73,
   "metadata": {},
   "outputs": [],
   "source": [
    "females = final_data[final_data.gender =='Female']['claim_amount']"
   ]
  },
  {
   "cell_type": "code",
   "execution_count": 74,
   "metadata": {},
   "outputs": [
    {
     "name": "stdout",
     "output_type": "stream",
     "text": [
      "mean of males 12821.54 | mean of Females 12105.6\n",
      "mean of males 183619782.52 | mean of Females 171186413.75\n"
     ]
    }
   ],
   "source": [
    "print('mean of males',round(males.mean(),2),'| mean of Females',round(females.mean(),2))\n",
    "print('mean of males',round(males.var(),2),'| mean of Females',round(females.var(),2))\n",
    "\n",
    "##By this we can conclude that amount \n",
    "##claimed by males was significantly higher than that of females lets see this that how much confident we are on this now "
   ]
  },
  {
   "cell_type": "raw",
   "metadata": {},
   "source": [
    "Ho = There is any similarity in the amount claimed by males and females:\n",
    "Ha = There is No similarity in the amount claimed by males and females\n",
    "\n",
    "C.I = 95%\n",
    "p value = 0.05\n",
    "\n",
    "Business conclusion = Amount claimed by the males is significantly higher than females."
   ]
  },
  {
   "cell_type": "code",
   "execution_count": 75,
   "metadata": {},
   "outputs": [
    {
     "data": {
      "text/plain": [
       "F_onewayResult(statistic=0.7829063822952207, pvalue=0.37645013430145213)"
      ]
     },
     "execution_count": 75,
     "metadata": {},
     "output_type": "execute_result"
    }
   ],
   "source": [
    "stats.f_oneway(males,females) ##Hence we are failing to reject null hypo here as p value is high:"
   ]
  },
  {
   "cell_type": "markdown",
   "metadata": {},
   "source": [
    "# 17. Is there any relationship between age category and segment?"
   ]
  },
  {
   "cell_type": "code",
   "execution_count": 76,
   "metadata": {},
   "outputs": [
    {
     "data": {
      "text/html": [
       "<div>\n",
       "<style scoped>\n",
       "    .dataframe tbody tr th:only-of-type {\n",
       "        vertical-align: middle;\n",
       "    }\n",
       "\n",
       "    .dataframe tbody tr th {\n",
       "        vertical-align: top;\n",
       "    }\n",
       "\n",
       "    .dataframe thead th {\n",
       "        text-align: right;\n",
       "    }\n",
       "</style>\n",
       "<table border=\"1\" class=\"dataframe\">\n",
       "  <thead>\n",
       "    <tr style=\"text-align: right;\">\n",
       "      <th></th>\n",
       "      <th>CUST_ID</th>\n",
       "      <th>gender</th>\n",
       "      <th>DateOfBirth</th>\n",
       "      <th>State</th>\n",
       "      <th>Contact</th>\n",
       "      <th>Segment</th>\n",
       "      <th>claim_id</th>\n",
       "      <th>customer_id</th>\n",
       "      <th>incident_cause</th>\n",
       "      <th>claim_date</th>\n",
       "      <th>claim_area</th>\n",
       "      <th>police_report</th>\n",
       "      <th>claim_type</th>\n",
       "      <th>claim_amount</th>\n",
       "      <th>total_policy_claims</th>\n",
       "      <th>fraudulent</th>\n",
       "      <th>check_flag</th>\n",
       "      <th>AGE</th>\n",
       "      <th>Age_group</th>\n",
       "      <th>monthly_trend</th>\n",
       "    </tr>\n",
       "  </thead>\n",
       "  <tbody>\n",
       "    <tr>\n",
       "      <th>0</th>\n",
       "      <td>21868593</td>\n",
       "      <td>Female</td>\n",
       "      <td>1979-01-12</td>\n",
       "      <td>VT</td>\n",
       "      <td>789-916-8172</td>\n",
       "      <td>Platinum</td>\n",
       "      <td>54004764.0</td>\n",
       "      <td>21868593.0</td>\n",
       "      <td>Driver error</td>\n",
       "      <td>2017-11-27</td>\n",
       "      <td>Auto</td>\n",
       "      <td>No</td>\n",
       "      <td>Material only</td>\n",
       "      <td>2980.0</td>\n",
       "      <td>1.0</td>\n",
       "      <td>No</td>\n",
       "      <td>1</td>\n",
       "      <td>41.0</td>\n",
       "      <td>Adult</td>\n",
       "      <td>11</td>\n",
       "    </tr>\n",
       "  </tbody>\n",
       "</table>\n",
       "</div>"
      ],
      "text/plain": [
       "    CUST_ID  gender DateOfBirth State       Contact   Segment    claim_id  \\\n",
       "0  21868593  Female  1979-01-12    VT  789-916-8172  Platinum  54004764.0   \n",
       "\n",
       "   customer_id incident_cause claim_date claim_area police_report  \\\n",
       "0   21868593.0   Driver error 2017-11-27       Auto            No   \n",
       "\n",
       "      claim_type  claim_amount  total_policy_claims fraudulent  check_flag  \\\n",
       "0  Material only        2980.0                  1.0         No           1   \n",
       "\n",
       "    AGE Age_group  monthly_trend  \n",
       "0  41.0     Adult             11  "
      ]
     },
     "execution_count": 76,
     "metadata": {},
     "output_type": "execute_result"
    }
   ],
   "source": [
    "final_data.head(1)"
   ]
  },
  {
   "cell_type": "markdown",
   "metadata": {},
   "source": [
    "**Taking chi square test as measure to show the relationship between Category(assumed - incident_cause as cat) and Segment**"
   ]
  },
  {
   "cell_type": "code",
   "execution_count": 77,
   "metadata": {},
   "outputs": [],
   "source": [
    "rel_seginc = pd.crosstab(final_data.Segment,final_data.incident_cause)"
   ]
  },
  {
   "cell_type": "code",
   "execution_count": 78,
   "metadata": {},
   "outputs": [
    {
     "data": {
      "text/html": [
       "<div>\n",
       "<style scoped>\n",
       "    .dataframe tbody tr th:only-of-type {\n",
       "        vertical-align: middle;\n",
       "    }\n",
       "\n",
       "    .dataframe tbody tr th {\n",
       "        vertical-align: top;\n",
       "    }\n",
       "\n",
       "    .dataframe thead th {\n",
       "        text-align: right;\n",
       "    }\n",
       "</style>\n",
       "<table border=\"1\" class=\"dataframe\">\n",
       "  <thead>\n",
       "    <tr style=\"text-align: right;\">\n",
       "      <th>incident_cause</th>\n",
       "      <th>Crime</th>\n",
       "      <th>Driver error</th>\n",
       "      <th>Natural causes</th>\n",
       "      <th>Other causes</th>\n",
       "      <th>Other driver error</th>\n",
       "    </tr>\n",
       "    <tr>\n",
       "      <th>Segment</th>\n",
       "      <th></th>\n",
       "      <th></th>\n",
       "      <th></th>\n",
       "      <th></th>\n",
       "      <th></th>\n",
       "    </tr>\n",
       "  </thead>\n",
       "  <tbody>\n",
       "    <tr>\n",
       "      <th>Gold</th>\n",
       "      <td>32</td>\n",
       "      <td>78</td>\n",
       "      <td>59</td>\n",
       "      <td>113</td>\n",
       "      <td>90</td>\n",
       "    </tr>\n",
       "    <tr>\n",
       "      <th>Platinum</th>\n",
       "      <td>38</td>\n",
       "      <td>89</td>\n",
       "      <td>61</td>\n",
       "      <td>97</td>\n",
       "      <td>79</td>\n",
       "    </tr>\n",
       "    <tr>\n",
       "      <th>Silver</th>\n",
       "      <td>38</td>\n",
       "      <td>89</td>\n",
       "      <td>65</td>\n",
       "      <td>81</td>\n",
       "      <td>76</td>\n",
       "    </tr>\n",
       "  </tbody>\n",
       "</table>\n",
       "</div>"
      ],
      "text/plain": [
       "incident_cause  Crime  Driver error  Natural causes  Other causes  \\\n",
       "Segment                                                             \n",
       "Gold               32            78              59           113   \n",
       "Platinum           38            89              61            97   \n",
       "Silver             38            89              65            81   \n",
       "\n",
       "incident_cause  Other driver error  \n",
       "Segment                             \n",
       "Gold                            90  \n",
       "Platinum                        79  \n",
       "Silver                          76  "
      ]
     },
     "execution_count": 78,
     "metadata": {},
     "output_type": "execute_result"
    }
   ],
   "source": [
    "rel_seginc"
   ]
  },
  {
   "cell_type": "raw",
   "metadata": {},
   "source": [
    "1st-  chi square test, 2nd - spearmans rank"
   ]
  },
  {
   "cell_type": "raw",
   "metadata": {},
   "source": [
    "Ho = There is no relationship between Segment and incident_cause\n",
    "Ha = There is relationship between Segment and incident_cause\n",
    "\n",
    "CI = 95%\n",
    "Pvalue=  0.05\n",
    "\n",
    "Test = Chi square test (To see the relationship between two categorical variables)\n",
    "\n",
    "Business conclusion via this test is = There is significant relationship between segment and incident_Cause (Category)."
   ]
  },
  {
   "cell_type": "code",
   "execution_count": 79,
   "metadata": {},
   "outputs": [
    {
     "data": {
      "text/plain": [
       "(7.755959756903044,\n",
       " 0.45766460812010157,\n",
       " 8,\n",
       " array([[37.02857143, 87.77142857, 63.42857143, 99.77142857, 84.        ],\n",
       "        [36.23225806, 85.88387097, 62.06451613, 97.62580645, 82.19354839],\n",
       "        [34.73917051, 82.34470046, 59.50691244, 93.60276498, 78.80645161]]))"
      ]
     },
     "execution_count": 79,
     "metadata": {},
     "output_type": "execute_result"
    }
   ],
   "source": [
    "stats.chi2_contingency(rel_seginc) ##Here p value is high we are failing to reject null hypo"
   ]
  },
  {
   "cell_type": "code",
   "execution_count": 80,
   "metadata": {},
   "outputs": [
    {
     "data": {
      "text/plain": [
       "Index(['CUST_ID', 'gender', 'DateOfBirth', 'State', 'Contact', 'Segment',\n",
       "       'claim_id', 'customer_id', 'incident_cause', 'claim_date', 'claim_area',\n",
       "       'police_report', 'claim_type', 'claim_amount', 'total_policy_claims',\n",
       "       'fraudulent', 'check_flag', 'AGE', 'Age_group', 'monthly_trend'],\n",
       "      dtype='object')"
      ]
     },
     "execution_count": 80,
     "metadata": {},
     "output_type": "execute_result"
    }
   ],
   "source": [
    "final_data.columns"
   ]
  },
  {
   "cell_type": "markdown",
   "metadata": {},
   "source": [
    "**Taking spearsman rank test as measure to show the relationship between Segment and Age(continous variable as dervied from DOB)**"
   ]
  },
  {
   "cell_type": "raw",
   "metadata": {},
   "source": [
    "Ho = There is no relationship between incident_cause and AGE \n",
    "Ha = There is relationship between incident_cause and AGE\n",
    "\n",
    "CI = 95% \n",
    "Pvalue=  0.05\n",
    "\n",
    "Business conclusion via this test is = There is significant relationship between incident_cause and AGE."
   ]
  },
  {
   "cell_type": "code",
   "execution_count": 81,
   "metadata": {},
   "outputs": [
    {
     "data": {
      "text/plain": [
       "SpearmanrResult(correlation=0.012784154783994448, pvalue=0.6740228085155907)"
      ]
     },
     "execution_count": 81,
     "metadata": {},
     "output_type": "execute_result"
    }
   ],
   "source": [
    "stats.spearmanr(final_data.AGE,final_data.Segment) ##P is high hence we are failing to reject null hypo here:"
   ]
  },
  {
   "cell_type": "markdown",
   "metadata": {},
   "source": [
    "# 18. The current year has shown a significant rise in claim amounts as compared to 2016-17 fiscal average which was $10,000."
   ]
  },
  {
   "cell_type": "code",
   "execution_count": 82,
   "metadata": {},
   "outputs": [
    {
     "data": {
      "text/plain": [
       "Index(['CUST_ID', 'gender', 'DateOfBirth', 'State', 'Contact', 'Segment',\n",
       "       'claim_id', 'customer_id', 'incident_cause', 'claim_date', 'claim_area',\n",
       "       'police_report', 'claim_type', 'claim_amount', 'total_policy_claims',\n",
       "       'fraudulent', 'check_flag', 'AGE', 'Age_group', 'monthly_trend'],\n",
       "      dtype='object')"
      ]
     },
     "execution_count": 82,
     "metadata": {},
     "output_type": "execute_result"
    }
   ],
   "source": [
    "final_data.columns"
   ]
  },
  {
   "cell_type": "code",
   "execution_count": 83,
   "metadata": {},
   "outputs": [
    {
     "data": {
      "text/plain": [
       "12470.498519249748"
      ]
     },
     "execution_count": 83,
     "metadata": {},
     "output_type": "execute_result"
    }
   ],
   "source": [
    "final_data.claim_amount.mean()"
   ]
  },
  {
   "cell_type": "raw",
   "metadata": {},
   "source": [
    "Ho = No significant rise in the claim amount this year as compared to previous year \n",
    "Ha = There is signifincat rise in the claim amount this year as compared to previous year\n",
    "\n",
    "CI = 95%\n",
    "P VALUE= 0.005\n",
    "\n",
    "Test = ttest - One sample ttest( To compare the last year mean with current year mean)\n",
    "\n",
    "Business conclusion = There is significant rise in claim amount as compared to previous year."
   ]
  },
  {
   "cell_type": "code",
   "execution_count": 84,
   "metadata": {},
   "outputs": [
    {
     "data": {
      "text/plain": [
       "Ttest_1sampResult(statistic=6.108222642303586, pvalue=1.4021917187052693e-09)"
      ]
     },
     "execution_count": 84,
     "metadata": {},
     "output_type": "execute_result"
    }
   ],
   "source": [
    "stats.ttest_1samp(final_data.claim_amount,10000) ##P is low hence we will reject the null hypo:"
   ]
  },
  {
   "cell_type": "markdown",
   "metadata": {},
   "source": [
    "# 19. Is there any difference between age groups and insurance claims?"
   ]
  },
  {
   "cell_type": "code",
   "execution_count": 85,
   "metadata": {},
   "outputs": [
    {
     "data": {
      "text/plain": [
       "Index(['CUST_ID', 'gender', 'DateOfBirth', 'State', 'Contact', 'Segment',\n",
       "       'claim_id', 'customer_id', 'incident_cause', 'claim_date', 'claim_area',\n",
       "       'police_report', 'claim_type', 'claim_amount', 'total_policy_claims',\n",
       "       'fraudulent', 'check_flag', 'AGE', 'Age_group', 'monthly_trend'],\n",
       "      dtype='object')"
      ]
     },
     "execution_count": 85,
     "metadata": {},
     "output_type": "execute_result"
    }
   ],
   "source": [
    "final_data.columns"
   ]
  },
  {
   "cell_type": "code",
   "execution_count": 86,
   "metadata": {},
   "outputs": [
    {
     "data": {
      "text/plain": [
       "Adult     801\n",
       "Youth     271\n",
       "Senior     13\n",
       "Name: Age_group, dtype: int64"
      ]
     },
     "execution_count": 86,
     "metadata": {},
     "output_type": "execute_result"
    }
   ],
   "source": [
    "final_data.Age_group.value_counts()"
   ]
  },
  {
   "cell_type": "code",
   "execution_count": 87,
   "metadata": {},
   "outputs": [],
   "source": [
    "AdultA1 = final_data[final_data.Age_group =='Adult']['claim_amount'] \n",
    "YouthA1 = final_data[final_data.Age_group =='Youth']['claim_amount']   \n",
    "SeniorA1 = final_data[final_data.Age_group =='Senior']['claim_amount']    "
   ]
  },
  {
   "cell_type": "code",
   "execution_count": 88,
   "metadata": {},
   "outputs": [
    {
     "name": "stdout",
     "output_type": "stream",
     "text": [
      "Adult mean 12640.02 | Youth mean 12120.86 | Senior mean 9313.92\n"
     ]
    }
   ],
   "source": [
    "print('Adult mean',round(AdultA1.mean(),2),'| Youth mean',round(YouthA1.mean(),2),'| Senior mean',round(SeniorA1.mean(),2))\n",
    "##Mean of the adult is higher as compared to other agr groups"
   ]
  },
  {
   "cell_type": "code",
   "execution_count": 89,
   "metadata": {},
   "outputs": [
    {
     "name": "stdout",
     "output_type": "stream",
     "text": [
      "Adult mean 180259185.51 | Youth mean 173234193.57 | Senior mean 102569224.41\n"
     ]
    }
   ],
   "source": [
    "print('Adult mean',round(AdultA1.var(),2),'| Youth mean',round(YouthA1.var(),2),'| Senior mean',round(SeniorA1.var(),2))\n",
    "##Adult age group has claimed the highest claim amount:"
   ]
  },
  {
   "cell_type": "raw",
   "metadata": {},
   "source": [
    "Ho = There is no difference between age groups and insurance claims\n",
    "Ha = There is considerable differnce between age groups and insurance claims\n",
    "\n",
    "CI = 95%\n",
    "Pvalue = 0.005\n",
    "\n",
    "Test = Ftest(To compare means and variances of two or more groups)\n",
    "\n",
    "Business conclusion = There is difference between age groups and insurance claim one age group is claiming much amount as\n",
    "compared the other groups."
   ]
  },
  {
   "cell_type": "code",
   "execution_count": 90,
   "metadata": {},
   "outputs": [
    {
     "data": {
      "text/plain": [
       "F_onewayResult(statistic=0.5226129055586478, pvalue=0.5931187526364)"
      ]
     },
     "execution_count": 90,
     "metadata": {},
     "output_type": "execute_result"
    }
   ],
   "source": [
    "stats.f_oneway(AdultA1,YouthA1,SeniorA1) ## P is high failing to reject null hypothesis"
   ]
  },
  {
   "cell_type": "markdown",
   "metadata": {},
   "source": [
    "# 20. Is there any relationship between total number of policy claims and the claimed amount?"
   ]
  },
  {
   "cell_type": "code",
   "execution_count": 91,
   "metadata": {},
   "outputs": [
    {
     "data": {
      "text/plain": [
       "1.000000    781\n",
       "2.000000    104\n",
       "3.000000     86\n",
       "4.000000     58\n",
       "5.000000     27\n",
       "1.582397     17\n",
       "6.000000      9\n",
       "7.000000      2\n",
       "8.000000      1\n",
       "Name: total_policy_claims, dtype: int64"
      ]
     },
     "execution_count": 91,
     "metadata": {},
     "output_type": "execute_result"
    }
   ],
   "source": [
    "final_data.total_policy_claims.value_counts()"
   ]
  },
  {
   "cell_type": "code",
   "execution_count": 92,
   "metadata": {},
   "outputs": [
    {
     "data": {
      "text/plain": [
       "Index(['CUST_ID', 'gender', 'DateOfBirth', 'State', 'Contact', 'Segment',\n",
       "       'claim_id', 'customer_id', 'incident_cause', 'claim_date', 'claim_area',\n",
       "       'police_report', 'claim_type', 'claim_amount', 'total_policy_claims',\n",
       "       'fraudulent', 'check_flag', 'AGE', 'Age_group', 'monthly_trend'],\n",
       "      dtype='object')"
      ]
     },
     "execution_count": 92,
     "metadata": {},
     "output_type": "execute_result"
    }
   ],
   "source": [
    "final_data.columns"
   ]
  },
  {
   "cell_type": "raw",
   "metadata": {},
   "source": [
    "Ho = There is no relationship between total number of policy claims and claim amount\n",
    "Ha = There is relationship between total number of policy claims and claim amount\n",
    "\n",
    "CI = 95%\n",
    "Pvalue = 0.05\n",
    "\n",
    "Test = Spearsman rank (to show the relationship between one categorical and one continous variable)\n",
    "\n",
    "Business conclusion = There is relationship between total number of policy claims and claim amount:\n",
    "    "
   ]
  },
  {
   "cell_type": "code",
   "execution_count": 94,
   "metadata": {},
   "outputs": [
    {
     "data": {
      "text/plain": [
       "SpearmanrResult(correlation=0.011836443377022865, pvalue=0.6969441493841684)"
      ]
     },
     "execution_count": 94,
     "metadata": {},
     "output_type": "execute_result"
    }
   ],
   "source": [
    "stats.spearmanr(final_data.total_policy_claims,final_data.claim_amount) #P is high hence failing to reject null hypo"
   ]
  },
  {
   "cell_type": "code",
   "execution_count": null,
   "metadata": {},
   "outputs": [],
   "source": []
  },
  {
   "cell_type": "code",
   "execution_count": null,
   "metadata": {},
   "outputs": [],
   "source": []
  }
 ],
 "metadata": {
  "kernelspec": {
   "display_name": "Python 3",
   "language": "python",
   "name": "python3"
  },
  "language_info": {
   "codemirror_mode": {
    "name": "ipython",
    "version": 3
   },
   "file_extension": ".py",
   "mimetype": "text/x-python",
   "name": "python",
   "nbconvert_exporter": "python",
   "pygments_lexer": "ipython3",
   "version": "3.7.6"
  }
 },
 "nbformat": 4,
 "nbformat_minor": 4
}
