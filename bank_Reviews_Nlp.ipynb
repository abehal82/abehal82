{
 "cells": [
  {
   "cell_type": "code",
   "execution_count": 2,
   "metadata": {},
   "outputs": [
    {
     "name": "stderr",
     "output_type": "stream",
     "text": [
      "[nltk_data] Downloading package stopwords to\n",
      "[nltk_data]     C:\\Users\\ZomAdmin\\AppData\\Roaming\\nltk_data...\n",
      "[nltk_data]   Package stopwords is already up-to-date!\n"
     ]
    }
   ],
   "source": [
    "# Text Classifiation using NLP\n",
    "\n",
    "# Importing the libraries\n",
    "import numpy as np\n",
    "import pandas as pd\n",
    "import pickle \n",
    "import nltk\n",
    "from nltk.corpus import stopwords\n",
    "from sklearn.datasets import load_files\n",
    "from nltk.stem import WordNetLemmatizer\n",
    "from sklearn.naive_bayes import GaussianNB\n",
    "from sklearn.model_selection import GridSearchCV\n",
    "import pandas_profiling\n",
    "\n",
    "# Splitting the dataset into the Training set and Test set\n",
    "from sklearn.model_selection import train_test_split\n",
    "\n",
    "import matplotlib.pyplot as plt\n",
    "import seaborn as sns\n",
    "%matplotlib inline\n",
    "\n",
    "\n",
    "nltk.download('stopwords')\n",
    "\n",
    "##Package for regular expressions \n",
    "import re"
   ]
  },
  {
   "cell_type": "code",
   "execution_count": 3,
   "metadata": {},
   "outputs": [],
   "source": [
    "data = pd.read_excel('C:/Users/ZomAdmin/Desktop/Data Science with python/Python Session 28/MAIN CASE STUDIES - ML/5. Bank Reviews-Complaints Analysis/BankReviews.xlsx')"
   ]
  },
  {
   "cell_type": "code",
   "execution_count": 7,
   "metadata": {},
   "outputs": [
    {
     "name": "stdout",
     "output_type": "stream",
     "text": [
      "<class 'pandas.core.frame.DataFrame'>\n",
      "RangeIndex: 505 entries, 0 to 504\n",
      "Data columns (total 4 columns):\n",
      " #   Column    Non-Null Count  Dtype         \n",
      "---  ------    --------------  -----         \n",
      " 0   Date      505 non-null    datetime64[ns]\n",
      " 1   Stars     505 non-null    int64         \n",
      " 2   Reviews   505 non-null    object        \n",
      " 3   BankName  505 non-null    object        \n",
      "dtypes: datetime64[ns](1), int64(1), object(2)\n",
      "memory usage: 15.9+ KB\n"
     ]
    }
   ],
   "source": [
    "data.info()"
   ]
  },
  {
   "cell_type": "code",
   "execution_count": 8,
   "metadata": {},
   "outputs": [
    {
     "data": {
      "text/plain": [
       "(505, 4)"
      ]
     },
     "execution_count": 8,
     "metadata": {},
     "output_type": "execute_result"
    }
   ],
   "source": [
    "data.shape"
   ]
  },
  {
   "cell_type": "code",
   "execution_count": 4,
   "metadata": {},
   "outputs": [
    {
     "data": {
      "application/vnd.jupyter.widget-view+json": {
       "model_id": "e86de5df375d410586f7ae7e147ee7a5",
       "version_major": 2,
       "version_minor": 0
      },
      "text/plain": [
       "HBox(children=(FloatProgress(value=0.0, description='Summarize dataset', max=18.0, style=ProgressStyle(descrip…"
      ]
     },
     "metadata": {},
     "output_type": "display_data"
    },
    {
     "name": "stdout",
     "output_type": "stream",
     "text": [
      "\n"
     ]
    },
    {
     "data": {
      "application/vnd.jupyter.widget-view+json": {
       "model_id": "080afda016514e20a372a58e24182355",
       "version_major": 2,
       "version_minor": 0
      },
      "text/plain": [
       "HBox(children=(FloatProgress(value=0.0, description='Generate report structure', max=1.0, style=ProgressStyle(…"
      ]
     },
     "metadata": {},
     "output_type": "display_data"
    },
    {
     "name": "stdout",
     "output_type": "stream",
     "text": [
      "\n"
     ]
    },
    {
     "data": {
      "application/vnd.jupyter.widget-view+json": {
       "model_id": "7e10e6f9f22f4db8897c85c71153d7bb",
       "version_major": 2,
       "version_minor": 0
      },
      "text/plain": [
       "HBox(children=(FloatProgress(value=0.0, description='Render HTML', max=1.0, style=ProgressStyle(description_wi…"
      ]
     },
     "metadata": {},
     "output_type": "display_data"
    },
    {
     "name": "stdout",
     "output_type": "stream",
     "text": [
      "\n"
     ]
    },
    {
     "data": {
      "application/vnd.jupyter.widget-view+json": {
       "model_id": "6a4ca386ba64469ea7f762d8158d38bd",
       "version_major": 2,
       "version_minor": 0
      },
      "text/plain": [
       "HBox(children=(FloatProgress(value=0.0, description='Export report to file', max=1.0, style=ProgressStyle(desc…"
      ]
     },
     "metadata": {},
     "output_type": "display_data"
    },
    {
     "name": "stdout",
     "output_type": "stream",
     "text": [
      "\n"
     ]
    }
   ],
   "source": [
    "pandas_profiling_data = pandas_profiling.ProfileReport(data)\n",
    "pandas_profiling_data.to_file('pandas_profiling_data.html')"
   ]
  },
  {
   "cell_type": "code",
   "execution_count": 11,
   "metadata": {},
   "outputs": [],
   "source": [
    "main_data = data[['Stars','Reviews']] ## Here we are taking only those columns which are important for our analysis:"
   ]
  },
  {
   "cell_type": "code",
   "execution_count": 12,
   "metadata": {},
   "outputs": [
    {
     "data": {
      "text/html": [
       "<div>\n",
       "<style scoped>\n",
       "    .dataframe tbody tr th:only-of-type {\n",
       "        vertical-align: middle;\n",
       "    }\n",
       "\n",
       "    .dataframe tbody tr th {\n",
       "        vertical-align: top;\n",
       "    }\n",
       "\n",
       "    .dataframe thead th {\n",
       "        text-align: right;\n",
       "    }\n",
       "</style>\n",
       "<table border=\"1\" class=\"dataframe\">\n",
       "  <thead>\n",
       "    <tr style=\"text-align: right;\">\n",
       "      <th></th>\n",
       "      <th>Stars</th>\n",
       "      <th>Reviews</th>\n",
       "    </tr>\n",
       "  </thead>\n",
       "  <tbody>\n",
       "    <tr>\n",
       "      <th>0</th>\n",
       "      <td>5</td>\n",
       "      <td>Great job, Wyndham Capital! Each person was pr...</td>\n",
       "    </tr>\n",
       "    <tr>\n",
       "      <th>1</th>\n",
       "      <td>5</td>\n",
       "      <td>Matthew Richardson is professional and helpful...</td>\n",
       "    </tr>\n",
       "    <tr>\n",
       "      <th>2</th>\n",
       "      <td>5</td>\n",
       "      <td>We had a past experience with Wyndham Mortgage...</td>\n",
       "    </tr>\n",
       "    <tr>\n",
       "      <th>3</th>\n",
       "      <td>5</td>\n",
       "      <td>We have been dealing with Brad Thomka from the...</td>\n",
       "    </tr>\n",
       "    <tr>\n",
       "      <th>4</th>\n",
       "      <td>5</td>\n",
       "      <td>I can't express how grateful I am for the supp...</td>\n",
       "    </tr>\n",
       "    <tr>\n",
       "      <th>...</th>\n",
       "      <td>...</td>\n",
       "      <td>...</td>\n",
       "    </tr>\n",
       "    <tr>\n",
       "      <th>500</th>\n",
       "      <td>1</td>\n",
       "      <td>\\r\\nI never write reviews but had to this time...</td>\n",
       "    </tr>\n",
       "    <tr>\n",
       "      <th>501</th>\n",
       "      <td>1</td>\n",
       "      <td>\\r\\nIt all started when Bob G ran a credit che...</td>\n",
       "    </tr>\n",
       "    <tr>\n",
       "      <th>502</th>\n",
       "      <td>1</td>\n",
       "      <td>\\r\\nWhat a horrible experience. We have excell...</td>\n",
       "    </tr>\n",
       "    <tr>\n",
       "      <th>503</th>\n",
       "      <td>1</td>\n",
       "      <td>\\r\\nRep was extremely professional, friendly, ...</td>\n",
       "    </tr>\n",
       "    <tr>\n",
       "      <th>504</th>\n",
       "      <td>1</td>\n",
       "      <td>\\r\\nI was working with a loan consultant from ...</td>\n",
       "    </tr>\n",
       "  </tbody>\n",
       "</table>\n",
       "<p>505 rows × 2 columns</p>\n",
       "</div>"
      ],
      "text/plain": [
       "     Stars                                            Reviews\n",
       "0        5  Great job, Wyndham Capital! Each person was pr...\n",
       "1        5  Matthew Richardson is professional and helpful...\n",
       "2        5  We had a past experience with Wyndham Mortgage...\n",
       "3        5  We have been dealing with Brad Thomka from the...\n",
       "4        5  I can't express how grateful I am for the supp...\n",
       "..     ...                                                ...\n",
       "500      1  \\r\\nI never write reviews but had to this time...\n",
       "501      1  \\r\\nIt all started when Bob G ran a credit che...\n",
       "502      1  \\r\\nWhat a horrible experience. We have excell...\n",
       "503      1  \\r\\nRep was extremely professional, friendly, ...\n",
       "504      1  \\r\\nI was working with a loan consultant from ...\n",
       "\n",
       "[505 rows x 2 columns]"
      ]
     },
     "execution_count": 12,
     "metadata": {},
     "output_type": "execute_result"
    }
   ],
   "source": [
    "main_data"
   ]
  },
  {
   "cell_type": "markdown",
   "metadata": {},
   "source": [
    "## Defining X and Y variables"
   ]
  },
  {
   "cell_type": "code",
   "execution_count": 150,
   "metadata": {},
   "outputs": [],
   "source": [
    "X, y = main_data.Reviews, main_data.Stars"
   ]
  },
  {
   "cell_type": "code",
   "execution_count": 151,
   "metadata": {},
   "outputs": [
    {
     "data": {
      "text/plain": [
       "0    Great job, Wyndham Capital! Each person was pr...\n",
       "1    Matthew Richardson is professional and helpful...\n",
       "2    We had a past experience with Wyndham Mortgage...\n",
       "3    We have been dealing with Brad Thomka from the...\n",
       "4    I can't express how grateful I am for the supp...\n",
       "Name: Reviews, dtype: object"
      ]
     },
     "execution_count": 151,
     "metadata": {},
     "output_type": "execute_result"
    }
   ],
   "source": [
    "X.head(5) ## Here we have all the reviews "
   ]
  },
  {
   "cell_type": "code",
   "execution_count": 152,
   "metadata": {},
   "outputs": [
    {
     "data": {
      "text/plain": [
       "0    5\n",
       "1    5\n",
       "2    5\n",
       "3    5\n",
       "4    5\n",
       "Name: Stars, dtype: int64"
      ]
     },
     "execution_count": 152,
     "metadata": {},
     "output_type": "execute_result"
    }
   ],
   "source": [
    "y.head(5) ## Here we have target variable"
   ]
  },
  {
   "cell_type": "code",
   "execution_count": 153,
   "metadata": {},
   "outputs": [
    {
     "data": {
      "text/plain": [
       "0      Great job, Wyndham Capital! Each person was pr...\n",
       "1      Matthew Richardson is professional and helpful...\n",
       "2      We had a past experience with Wyndham Mortgage...\n",
       "3      We have been dealing with Brad Thomka from the...\n",
       "4      I can't express how grateful I am for the supp...\n",
       "                             ...                        \n",
       "500    \\r\\nI never write reviews but had to this time...\n",
       "501    \\r\\nIt all started when Bob G ran a credit che...\n",
       "502    \\r\\nWhat a horrible experience. We have excell...\n",
       "503    \\r\\nRep was extremely professional, friendly, ...\n",
       "504    \\r\\nI was working with a loan consultant from ...\n",
       "Name: Reviews, Length: 505, dtype: object"
      ]
     },
     "execution_count": 153,
     "metadata": {},
     "output_type": "execute_result"
    }
   ],
   "source": [
    "X"
   ]
  },
  {
   "cell_type": "code",
   "execution_count": 154,
   "metadata": {},
   "outputs": [
    {
     "data": {
      "text/plain": [
       "pandas.core.series.Series"
      ]
     },
     "execution_count": 154,
     "metadata": {},
     "output_type": "execute_result"
    }
   ],
   "source": [
    "type(X)"
   ]
  },
  {
   "cell_type": "code",
   "execution_count": 158,
   "metadata": {},
   "outputs": [
    {
     "data": {
      "text/plain": [
       "0      Great job, Wyndham Capital! Each person was pr...\n",
       "1      Matthew Richardson is professional and helpful...\n",
       "2      We had a past experience with Wyndham Mortgage...\n",
       "3      We have been dealing with Brad Thomka from the...\n",
       "4      I can't express how grateful I am for the supp...\n",
       "                             ...                        \n",
       "500    \\r\\nI never write reviews but had to this time...\n",
       "501    \\r\\nIt all started when Bob G ran a credit che...\n",
       "502    \\r\\nWhat a horrible experience. We have excell...\n",
       "503    \\r\\nRep was extremely professional, friendly, ...\n",
       "504    \\r\\nI was working with a loan consultant from ...\n",
       "Name: Reviews, Length: 505, dtype: object"
      ]
     },
     "execution_count": 158,
     "metadata": {},
     "output_type": "execute_result"
    }
   ],
   "source": [
    "X"
   ]
  },
  {
   "cell_type": "markdown",
   "metadata": {},
   "source": [
    "### Here we are removing noise from the data using regular expressions"
   ]
  },
  {
   "cell_type": "code",
   "execution_count": 22,
   "metadata": {},
   "outputs": [],
   "source": [
    "# Creating the corpus\n",
    "corpus = []\n",
    "for i in range(0, len(X)):\n",
    "    review = re.sub(r'\\W', ' ', str(X[i])) ## This matches any character which is not unicode word character\n",
    "    review = review.lower()\n",
    "    review = re.sub(r'^br$', ' ', review)\n",
    "    review = re.sub(r'\\s+[a-z]\\s+', ' ',review)\n",
    "    review = re.sub(r'[^a-z]\\s+', '', review)\n",
    "    review = re.sub(r'\\s+', ' ', review)\n",
    "    corpus.append(review) "
   ]
  },
  {
   "cell_type": "code",
   "execution_count": 23,
   "metadata": {},
   "outputs": [
    {
     "data": {
      "text/plain": [
       "['great jobwyndham capitaleach person was professional and helped us move through our refinance process smoothlythank you ',\n",
       " 'matthew richardson is professional and helpfulhe helped us find the correct product for our mortgagethank you very much for the excellent servicematthew ',\n",
       " 'we had past experience with wyndham mortgage and would without question use again and again if neededwyndham went beyond the extra mile to not only right wrong encountered from the servicer we were dealing on our previous loanbut they pulled together and found viable option for us that ultimately saved us moneywe would highly recommend brad thomka and the wyndham capital mortgage team for your mortgage needssincerest thanks wyndhamedlind',\n",
       " 'we have been dealing with brad thomka from the beginning of what started out to be very stressful time for usbut with the help from brad and the entire wyndham mortgage team it was turned into happy endingbrad and wyndham went beyond the extra mile to not only right wrong encountered from the servicer we were dealing on our previous loanbut they pulled together and found viable option for us that ultimately saved us moneywe are indebted and would highly recommend brad thomka and the wyndham capital mortgage team for your mortgage needssincerest thanks wyndhamedlindread less',\n",
       " 'i can express how grateful am for the support that zach provided to me and my family during this home purchasehis customer serviceresponsiveness and professional demeanor is second to nonehe was very thorough and took the time to educate me about the process along the way highly recommend working with zach and wyndham capital ',\n",
       " 'i had the pleasure of working with wyndham capital in september 201as my family and were making home purchase in columbusohfrom the original conversation with the loan officer to underwriting and all the way through closingthe entire team from wyndham was very responsive and professional was very impressed with how smooth their process was and how timely the communication was given how stressful of process home buyingand sellingcan be',\n",
       " 'my experience with mattison was beyond greatly professionally doneshe really cares about her clients needsshe stays on top of everything and if there was misunderstandingshe would be on top of it for youoverall she truly bends her back professionally for her clientsshe is wonderful person ',\n",
       " 'patrick answered all my questions by email immediately and he spent lot of time making sure got the right loan for my situationthe portal they use is extremely easy and we closed on the refinance with weeksvery pleased with the customer service and intend on using patrick again when we refinance later',\n",
       " 'i loved working with this group of peoplethey laughed with me over the phonealways answered my questions and moved the loan along as quickly as possibleknowledgeable staffwhile we were shopping around for lenderone lender badmouthed wyndhamthey lost my business because of itwhen told wyndham about itthey had the class not to say anything negative about another companyjust to get thesell ',\n",
       " 'great web interface for both the loan application and document upload and download featuresquick responses to any questions or concernswillingness to communicate almost exclusively via emailas phone calls weren always an option for us ',\n",
       " 'working with michelle and wyndham went really well for meas first time homeowner and this being my first refinance feel that this process was smooth and successful will definitely recommend michelle to friends and family ',\n",
       " 'usten butler brought the humanity and connection to what can be very stifflifelessand scary transactionnot only thatit is quite possibly the largest purchase my wife and will ever makewe didn simply want to transact with faceless institution lot was riding on picking the right house and making sure everything would work outausten was there for usevery step of the wayit trueausten got us the best dealyesthat also truebut it more than thatfrom when we first starting looking to over year later when we found the home we wantedhis presencepositivityand guidance gave us the confidence to take the step and move into our dream homeit made huge difference for our familywe re right where we want to behave 1kids on our blockand couldn be happierand it all thanks to austen butler help ',\n",
       " 'jay was easy to get hold of if had any questions so that was huge to me because there a lot to do during this whole loan process and you want to know if everything righthe provided as great service as could ve wanted',\n",
       " 'if had million friends would recommend all of them to wyndham capital especially to mark taylor he great he really help with even of the clock thanks million mark mean that from heart appreciate everything you did for me ',\n",
       " 'chaz was fantastic throughout the entire lending processs had my share of challenges with the original underwriter through no fault of chase yet he stepped in quickly to rectify any issues hadhe was the glue that kept this deal together did have some challenges with my first property falling through and the last minute yet chaz kept my spirits up and assisted through quickly transitioning to the new and much better property in the endagaincannot say enough positive things about chazconsummate professional and very responsive would highly recommend doing business with him and plan on staying in touch for future opportunities',\n",
       " 'austen has been awsome in every step of the way with my refi and new home purchasehe explains your best options thoroughly with out any of the s other companies use to get your businessbeing repeat customer says it all ',\n",
       " 'the salesperson kept pushing cash out refi on me even when told him m looking for heloc specificallythen he hangs up on me because said was quoted better rate at td bankridiculous',\n",
       " 'this was the worst experience everit was like they had never gone through the process before could not get complete list of the documents requiredevery other day it was new requestthe appraiser that they hired made so many mistakes had to send in corrections and then during the underwriting process they had to go back and make more correctionswyndum would continue to ask for copies of documents over and over againthere were many documents that had to send and times because theylostthem or was not filed correctlywe went through different people through the process would never use themawful experience ',\n",
       " 'a good rate but very frustrating processconstant delaysdecisions made then changedoverwhelmed underwriting team with week back logrookie mistake related to texas law that caused an additional week waitclosing happened almost weeks after it should havecourteous and professionalbut not very knowledgeable and no sense of urgencywould not recommend',\n",
       " 'they were not upfrontlearn from my mistake trusted the loan officer that my zero point rate is an option before closing the loan because he convinced me to initially sign the good faith estimate with higher rate plus lender creditafter running my numbersthe lower interest is favorable for me and asking for it now m being charge pointsit looks like they are only good in their words at the beginning so please be careful dealing with this lender',\n",
       " 'initiallythe mortgage broker was very friendly and assertiveonce the paper work was filled out and closing on the loan was eminentit became increasingly difficult to reach the broker had to initiate all phone callsit seemed as if had to call to make the process move forwardit took four weeks to get copy of my closing documents and the payoff for my credit card',\n",
       " 'initiallythe mortgage broker was very friendly and assertiveonce the paper work was filled out and closing on the loan was eminentit became increasingly difficult to reach the broker had to initiate all phone callsit seemed as if had to call to make the process move forwardit took four weeks to get copy of my closing documents and the payoff for my credit card',\n",
       " 'i worked with kory and carla at nasbthey were superb team and provided excellentresponsive and knowledgeable service throughout the entire processours was complicated process with refinance and loan and they hung in there with us the entire timeit was great experience working with both of them highly recommend them and will use them in the future for all of my mortgage needs',\n",
       " 'kory was by far the best loan officer have ever worked withwe were dealing with complicated refinance and purchase of two different properties and he was coolcalmprofessional and extremely knowledgeable throughout the entire process wouldn use anyone else moving forwardhis level of integrity and responsiveness is second to nonethanks for everythingkory',\n",
       " 'expert loan officerwell versed in va and the financial impacts of loan component changesthe best have worked with across home buying selling dealsnow advocated for by thereal estate broker in the state due to his ability to close complicated and high pressure dealsshe places him at the top of the list after 3years in the businessprofessionally and patiently answers detailed questions and can rally the expanded nasb teamalso stellarto support your needshe handled my complicated va loan that seemed to change every week while we tried to buy an antebellum hometough compsduring my retirement from the militarytough income verificationwith five families all swapping homestons of contingencieseverything along the way mattered and aaron and the nasb team got it doneeven on weekendsand closed on time with the best interest rate in the market and no added origination feeslookdo not pass up an opportunity to work with him',\n",
       " 'the nasb team went above and beyond for me and my family and closed an important va home loan on time despite many changesmy military retirementand very challenging antebellum home that required the entire nasb team to pull out all the stopsknow the rules and regulationsand guide us through tough va process truly believe we would not have closed on time with different team will only recommend nasb for home loansespecially complicate va loans',\n",
       " 'dallas goodlet and his entire team are deserving special thank youhe was as professional as they come and closed our loan in 1dayswe were with another competitor originally and he calledsaving us thousands over our current lenderit was real pleasure getting to work with this institution and class act like dallasgreat job ',\n",
       " 'commentsto begin my wife and were at the point of signing completion with the leader of online home mortgage servicewe were not satisfied with the origination cost so we applied to lending tree for competitive bidsseveral lender matched or slightly beat nasb but none were convincing at closing on timewe chose nasb because of dallas goodlet believability on the closingthe salesloan service and application process was competitiveassuringprofessionaltimelysupportiveand truthfuldallas goodletbrent custer and the whole nasb team delivered the mortgage on time and at the price promisedwe are completely satisfied and appreciative of the staffproduct and service of your companykudos to all ',\n",
       " 'working with jon was such an amazing experiencefrom the start he offered answers to any questions had since after all this was our first home purchasejon was always phone call away ready to help where neededhe made the stringent home buying process as easy as possible would definitely recommend any potential buyers to work with jon know for myself will be calling him if we ever decide to buy another housethanks jon',\n",
       " 'nasb was amazing to work withthe pre approval process was easy and informationalwe chose our home and closed within 3days of our agreement datethanks nasb for making our first home purchase an amazing experience ',\n",
       " 'jon barrett was great asset to my husband and he made our mortgage loan process extremely simple and quickjon was knowledgeablehelpfulpatient and accuratewe will be passing jon name along to anyone looking for mortgage loan ',\n",
       " 'i can express how incredibly awesome our experience was with working with bryant small at nasbas military familywe have purchased or refinanced many homes and this was by far the best experience we have ever hadbryant makes it easy and took the time to discuss the best options for us ve never met bryantbut you can mistake authenticity and we knew instantly he and nasb were who we were going with',\n",
       " 'best loan officer could have hoped forjeff exceeded my expectationshe worked very hard to get me the best rate possiblehighly recommended',\n",
       " 'adam was great to work with during our refihis attention to detail made this smooth and easy transactionit has been several years since we ve gone thru the home loan process and we were unsure where to startafter talking with adamwe were confident he was the one to help us with our refihe was professionalhelpfulvery knowledgeable about the loan process and answered all of our questions in timely manner would highly recommend adam and would not hesitate to work with him agai',\n",
       " 'great websiteknowledgeableresponsive and always got back to us quickly with answers to our questionsmortgage process can be very tedious and they made it easy ',\n",
       " 'we received offers from multiple banks after our lending tree request for mortgagealex madewell from nasb was by far the best offerhe made the entire process easy and was very knowledgeablethe closing on this home was seamlessno surprises would definitely recommend alex madewell and nasb to anyone looking for mortgage ',\n",
       " 'rob was very helpful in getting this loan closedfew issues on our end we didn know about but he was still able to get it done on time ',\n",
       " 'peter and his team were great to work withthey were professional and prompt with their responsesthey answered all my questions and somehow got us to closing on time despite various roadblocks we encountered ',\n",
       " 'adam came highly recommended and from the first time we spoke with himit was clear whyhe was friendlyprofessionalknowledgeableand worked hard to ensure we were taken care of in all aspectsbeyond the necessary effective communication skillshe brought personal touch after we closed by sending us hand written note of congratulations will recommend him to everyone know buying house ',\n",
       " 'the closing process for va loan went smoothlybut the loan servicing by this so called bank is complete disaster set up our loan for automatic payments using their clunky websiteunlike other banks with which do businessthe nasb website is not intuitive and does not provide confirmation for your entriesfor the first 1monthspayments were automatically debited from my external account as scheduledhoweverwhen the escrow amount changednasb debited the old amount from my account and sent deficiency letter for the balanceunlike every other bank have used in which the amount of the debit was automatically debitednasb sent me credit counseling lettertelling me that they did not apply any of the loan payment and would charge me late payment over double the deficiency of4and changeand suggested credit counseling serviceswhen called their servicing departmentthe representative told me the letter was sent in error and that everything had been adjusted so my account was showing that it was currenttwo weeks later received total of two voice mail messages and an mail in span of 2minutes from nasb default departmentthe woman with whom first spoke was rudesaid she showed no record of my earlier callit was my problemand then hung up on methe second agent man in their default departmentsaid that he did not show that had made any automatic payments and that nasb system was not set up to adjust anythingafter having over 2years of mortgage payments with various banks have never experienced such incompetence and rude service specifically instructed the last agent to request that they sell servicing of our loan to another bank that is capable of actually performing customer service for veteran ',\n",
       " 'miserable experiencethey screwed up everything imaginable and never accepted responsibility for any of their errors wouldnt recommend them for the purchase of doghouse much less purchasing new home ',\n",
       " 'our loan officer was happy to communicate before we committedonce we committed he only communicated with us after questioned items and problems and after questioned why we weren settling before our rate lock expiredwe had no idea where we were in the process unless contacted stevepoorpoor communicationmrkang also wassureour house would appraise for30k more than our house didtalking us into loan that we didn end up appraising for and then causing us to have to refinance at onlylower than our current mortgageour appraiser was disorganized and called twice for pictures he forgothe used poor compswe were contacted several times to look at documents that were expired before we could even sign onwithin minutes of the email notificationsonly good was the actual settlement with very sweet and competent notaryand thank goodness we were donepoor processpoor communicationwe will never recommend nasb and have already told two people refinancing to steer clear',\n",
       " 'started refinance with nick things were going ok then there was problem with credit card fro years earlierwhich must of made the loan not possiblethis would of understoodbut never heard from them againcalled nick several times no response even called his supervisor no response mailed them no responseis this the company you want to due busness',\n",
       " 'this loan started off quite wellour repdonnawas friendly and quick to respond to questionsshe clearly explained how things would unfoldand it all sounded greatwhat didn count on was that the bank never kept single promise she made had the same problem with this bank 1or more times would ask for assurance about somethingdonna would respond that things would be completed as wishedand her promise was violated by the bank every single timefor examplein our first or second conversation explained to donna that my wife would be traveling out of the country 1weeks after beginning the loan processwould it be problem to get the loan closed before thatnot at allshe saidwe should close several weeks before my wife departure1weeks laterthe bank was not ready to closehow did that happendonna would ask us to email documentationwhich we would email back within 1hoursdepending on the occasiondonna would then assure us that the documentation that we sent her was greatand the bank had everything it neededthenweeks laterthey would ask for additional documentationthis happened or more timeslater in the processthey asked for repeats of earlier documentation because the earlier documentation that had provided was nowtoo old cannot tell if this patterns recured because the bank doesn care about customersor because it is just incompetentevery time we complained about additional requests or some promise that wasn keptdonna told us that our complaints were justified and she was sorrybut she was unable or unwilling to rectify the broken promiseswe finally closed 1weeks or so after our initial application can only imagine how long the process would have taken if we had not responded to every request from the bank on the day they made itand if we hadn pushed hard to get this deal donethis bank treats customers with complete disrespectas someone who has owned several properties in my life and has received more than 1home mortgages from different banks can honestly say that this is the worst mortgage experience ve ever hadyou owe it to yourself to work with another bank that is more professional and more respectful of customersif could d rate this bank lower than one star',\n",
       " 'this lender contacted my previous phone number which did not list when registering with this sitevery unprofessionaland very disturbing ',\n",
       " 'i never write reviews but had to this time to prevent anyone from making the same mistake as that mistake was using north american savings bank over other lenders started my refinance with this company with the assurance that it would be standard refinance without any problems and would be completed in minimal amount of timecommunication with the company ',\n",
       " 'it all started when bob ran credit check without my knowledge or consentwhen agreed to use nasbbob told me that they could close in less than weeksit took the day before closing they were still asking for paperworkthe day of closingwhile my household goods were being unpacked was told power of attorney could not be used had to fly to idwhere my wife wastake the docs to notary and fedex them back also had to get bank check to send with the docs because they wouldn accept personal checkthen five days laterwhile driving from id to nc had to coordinate having closing docswhich already sent to themfrom the sale of my other home sent to me so could send to themof the four houses purchased in the past years this was the most stressful read less',\n",
       " 'what horrible experiencewe have excellent creditplenty of incomeetcnasb rep made tons of promises to get us to sign upbut then just few weeks before the closingshe just disappearedand failed to give us lock or firm closing datethankfullywe sensed the problems and immediately contacted local lender that got us the loan on better terms with low',\n",
       " 'rep was extremely professionalfriendlyand helpful when we first spokein factfrom my initial round of calls thought was going to select him out of the five lending tree lendersplus two banks talked to directlybut then when sent an email to all the lenders sayingokthe contract is signed want to select lender and lock my rate tomorrowso please send me your best current rate and fees etcwith these exact loan parametersit took the rep from nasb over week to respondso replied to himthanks but you are too late have selected someone else and already locked my rateover the following few weeks continued to receive emails from him sayingwhen you are ready to proceed with your loanlet me knowwe closed on january 8thand on february 5th got another such email guess he didn really ever read my emails also told him on the phone that he had missed the boatbut that seemed to fall on deaf ears tooat the end of round onehis rates and fees were very competitive thoughpretty near the best of the bunch',\n",
       " 'i was working with loan consultant from nasb and she told me that she would give me rate of 87for 3year fixed loan with total closing cost of230asked her to send me the good faith estimatethe good faith estimate came with total closing cost of292which is about60more than she mentioned during our conversationwhen called her for exp',\n",
       " 'shein every wayis wonderful personbusiness woman and 10considerate of your goals and helping you achieve themshe went about and beyond in helping me make good decisions as well as educate me on options could not have been more happy to connect with her during this process and will definitely use her again in the future if needed',\n",
       " 'mary connolly and her staff as well as upper management were nothing but helpful during the entire processmary is special ladyshe took her time with meunderstood my goals and helped me achieve themshe never made me feel uncomfortable or nervous about our situation and was always available to help when needed herif she did not have the answer she found it for methese are wonderful people to work withread more',\n",
       " 'thanks to reliance capital for helping us get through what we thought would be difficult if not impossible refinancewe ve had some credit issues in the past but lately we ve been working hard on improving our scoreswe are happy that reliance capital was able to work with us and help guide us throughout the process despite our less than stellar financial situationthanks especially to patrick for his excellent customer service and reassurance each step of the wayread more',\n",
       " 'we were initially pretty skeptical about refinancing our homewe ve had personal and family issues that devastated our credit to the point where we felt that it would be waste of time since we never be approvedhowever real need arose when dad declining health demanded we make room in our home so we can keep him close to us and give him the care he needswe weren sure what to expect from patrick at reliancebut we were soon reassured and thoroughly delighted when pat informed us that we were eligible and that he walk us through the entire process personallythere simply are no superlatives sufficient to thank you for your fantastic guidance in getting our home refinancedyou took what we assumed would be challenging home refinance and successfully navigated us through the process to successful conclusionin every single stepyou proved to be friendlypatientpoliteknowledgeableprofessional and consistently available to uswe can remember the last company we dealt with that returned calls and emails in such timely manneryou even personally called on weekends when there were items that needed our attentionwhat more can person ask for in mortgage broker will happily and enthusiastically recommend you to othersthanks patrick for all your support and assistanceread more',\n",
       " 'genna englert provided excellent servicethe process was very smooth and fastmy husband and would recommend reliance first capital to everyone',\n",
       " 'ritu was pleasure to work withshe was positiveenergetic and knowledgeableshe was willing to help run through several different options to make sure we were happy with our planshe helped us see the process through from beginning to end would work with her again',\n",
       " 'reliance was pleasure to work with on my refinancingwith all the documents providedwe went from the start to closing in just few weekswith me on vacation for week in the middle would do business with them again special mention to rituwho was delight and helped keep our processing moving quickly',\n",
       " 'very receptivethoroughquick to close',\n",
       " 'easygoing the extra mile and overcoming obstaclestruthfulhonest and dependablevery professional and friendly',\n",
       " 'new federal regulations made this tedious and time consuming processclosing costs seemed bit highseemed like spent lot of time explaining the obvious',\n",
       " 'very informativeand responsive',\n",
       " 'tim pope was very informative throughout the process from beginning to endunlike other lenders he made this very pleasure able experiencethanks tim',\n",
       " 'it was fast easy and did not have to leave the comforts of our homesteven shatz was so friendly and helped us at every turn would recommended to everyone that needs financing to go through this company',\n",
       " 'working with our agent was quick and very simplewe had to do very little and things were completed well and we were very pleased with the service and result we received',\n",
       " 'teddy represents his company very wellhe is communicativepatienthard working and gets the job done',\n",
       " 'teddy ferrell and binh lai were excellent team membersteddy explained everything from beginning to end and was very honest and up front with all that was required for my transactions to take placehe answered all of my calls and emails in very timely mannervery professional with excellent communication',\n",
       " 'thank you for all of your help kellyyour patience and kindness in assisting us with our loan is greatly appreciatedlook forward to working again together in the future',\n",
       " 'kellyrasool were extremely helpfulit was stressful time for me and my family and they made us feel taken care of and really cared about helping usthank you again will be referring them to family and friends in the future',\n",
       " 'from the very first conversation that had with steve knew that he understood our situation perfectly and he was able to help us achieve our dream of home ownershipwe were given very realistic expectations from the beginning and steve kept in touch with us throughout the processit was relief to work with someone who gave us accurate information and didn string us alongread more',\n",
       " 'the staff was very friendly and great to work withthey kept me well informed throughout the process',\n",
       " 'very informativeand responsive',\n",
       " 'tim pope was very informative throughout the process from beginning to endunlike other lenders he made this very pleasure able experiencethanks tim',\n",
       " 'it was fast easy and did not have to leave the comforts of our homesteven shatz was so friendly and helped us at every turn would recommended to everyone that needs financing to go through this company',\n",
       " 'working with our agent was quick and very simplewe had to do very little and things were completed well and we were very pleased with the service and result we received',\n",
       " 'teddy represents his company very wellhe is communicativepatienthard working and gets the job done',\n",
       " 'teddy ferrell and binh lai were excellent team membersteddy explained everything from beginning to end and was very honest and up front with all that was required for my transactions to take placehe answered all of my calls and emails in very timely mannervery professional with excellent communication',\n",
       " 'thank you for all of your help kellyyour patience and kindness in assisting us with our loan is greatly appreciatedlook forward to working again together in the future',\n",
       " 'kellyrasool were extremely helpfulit was stressful time for me and my family and they made us feel taken care of and really cared about helping usthank you again will be referring them to family and friends in the future',\n",
       " 'from the very first conversation that had with steve knew that he understood our situation perfectly and he was able to help us achieve our dream of home ownershipwe were given very realistic expectations from the beginning and steve kept in touch with us throughout the processit was relief to work with someone who gave us accurate information and didn string us alongread more',\n",
       " 'the staff was very friendly and great to work withthey kept me well informed throughout the process',\n",
       " 'it was pleasure working with robertfrom the very first call he kept me well informed of every step of my refinancinghe also made sure that understood everything completelyhe was fast in responding and helping with any questions had',\n",
       " 'my loan officer was jim heisserhe was fantasticfrom day one he was right on the casehe called daily to let me know how the process was goingevery day we talked felt like was talking to friend and we became friendsjim talked me through til the closing and was informative regarding all things refithe closing went off as scheduled just as jim said it wouldthe guy was right on the money when it came to every detail and has called to make sure things are still going along the right pathdon let this guy go he is the best ve ever dealt withread more',\n",
       " 'steven did phenomenal job working with me to locate refinance that worked for me and my family would highly recommend steven and will recommend my friends and family to him as wellsteven worked tirelessly to ensure that was completely satisfied and kept in the loop on my loan process everyday',\n",
       " ' was looking for way to consolidate my current debt when submitted loan request to lending tree received an email from steven shatz and decided to give him call to see what he could offer based on his reviews on lending treeonce we started talking knew that he was willing to work with me to get my best option on the tablewe settled and closed fairly quickly and he worked through few issues with me right by my sidehe was always phone calltext or email away and never delayed in returning my messages would highly recommend not only reliance first capital but steven shatz for all your mortgage needsread more',\n",
       " 'robert was the best person to do our loan almost makes us wish we could do this againno just kiddingbut he was an amazing person who was concerned and wanted to do whatever he could to make our experience as painless as possiblewe would truely recommend him to friends and familythanks again robert',\n",
       " 'words cannot express my gratitude for john spellmanhe was absolutely amazing from day onehe treated me as if was his only clientalthough know wasn i am sure he did not get paid what he deserved in working with me cannot say enough about him and think reliance is extremely lucky to have himhis patienceunderstandingamazing serviceand knowledge exceeded my expectations beyond measuremy approval and closing went so quickly that my head was almost spinningread more',\n",
       " 'everyone was in contact with at reliance we knowledgeableprofessionaland worked with me to answer any questionshad problem in the courseof my application that was dealt with quickly and was solved would recommend reliance to anyone',\n",
       " 'after spending months trying to complete an application for loan with little or no success found patrick at reliance was kept informed on regular basis of what was happeningwhat was needed and the time line for closinggreat experience',\n",
       " 'wesley white worked tirelessly and patiently to get our loan approved and closed despite our several obstacles and challengeshe was very responsivereassuringand encouragingeven if you have complicated situationyou can trust him to work as hard as possible to help you meet your goalswe would definitely call on him again for all of our lending needs',\n",
       " 'very professional and answered and returned calls very fastgreat communication with the whole process',\n",
       " 'buyer bewareto make it short and sweetshop around and find someone who knows what they are talking aboutthere were certain expenses that had to pay before closingbut was assured would get refundor reliance would pay for it and it would reflect in the final closing documentsthis did not happentermite inspection required by vawas10was told would get this backnopeher answerohthe rules changed some time backand didn know about itwas also toldif it closed latewhich it didreliance would pick up the late fee for my present mortgage which she told me not to payyepthey paid itwith my proceedsthen to pay off the loanwhich was the reason for the refinancethey send me check payable to the lenderand then have to overnight it to the lender so don get hit with another late feewhycould they just do an electronic paymentnot happyread more',\n",
       " 'the team was not aware of some critical information which delayed my refinancing for several monthsfinally upon completion which was also several weeks later than promisedthe pay off checks to my creditors were all wrongdue to late fees and next paymentschris thomas was very cordial and forthcominghe stayed in constant contactbut overallthe company and its delays and incorrect balancesdue to delays would make it impossible for me to recommend the company as wholeread more',\n",
       " 'in response to previous reviewgreg bellezza and reliance capital did refund my appraisal fee',\n",
       " 'if you use reliance first capitoldo not let kenneth watsonhelp you was so frustrated with him he is so arrogantevery time we talked he would always saylet me call you back in about or 1minutes wouldnt hear from him for couple of days and this happened probably to 1timesit wasnt all extremely bad we did have to raise my credit score which took probably month but it took little over months to get everything said and done then he lost some of my paper work we had to get that redone then also had my motorcycle added consolidationit was supposed to be 10percent payoff well didnt get all the money to pay my bike off againlet me call the title company and ill call you back in or 1mindidnt hear from himso called back the next daywhatread more',\n",
       " 'reliance first capital was very professional and did what they said they would doin this day and age that is very rareit made it pleasure doing business with them couldn be more pleasedthanks',\n",
       " ' thought they seemed very nice at firstplayed phone tag then got letter in the mail stateing that was not interested so they would not do anything more on my file left messages andd emailed that that was incorrecthave not heard from them sincemaybe they should have said they were not interestedim in dier straights and need help',\n",
       " 'the experience with reliance was extremely frustrating and aggravatingfirst the loanmgrasked for the usual pile of paperincluding the 4506t to prove paid my taxesfinebut then they wanted copies of my tax returns so they could comparesince when are they tax auditorsunable to find the copy for 201had the irs send us the transcript of itand sent it via poand electronicallybut then it was held up for weeks because the transcript was mailed by usand not the irsnow we are getting ridiculousso we had the irs fax it to them directlyand still they had problem with it authenticitythey received everything we hadwith no discrepanciesyet the loan mgr suggested we go ahead anddummy up copyas long as it would match exactlywe said nothe two separate transcripts were accurateand they could use thoseor we would walkamazing that week later they finally approved itthis guy had emailed and called every daysometimes as many as timeseven during our christmas trip to dallasonly to sit and waitand wonder what the black hole was doingand to make it more annoyinghe had demeaning way of speakingsayingdoes that make senseafter every statementas if couldn understand basic englishone of those things people say when they want people to feel inferiorthey requested the 4506t more timesso we sent them at least to make sureso that didn make sensenor did their inability to accept the irs transcripts sent from the irsnor the harassment for other tax copies while we were visiting my sons in dallas over christmas certainly would not want my friends to feel my frustrationread more',\n",
       " 'person with whom spoke kept interrupting me and telling me hislinerather than listening to what info wantedquite pushyalthohe said he wasn a salesmanclosing costs were astronomical',\n",
       " 'based on results have to give starmy initial conversations was over the course of an hour provided all my info and based on that anthony said he would give me options moving forwardthe next day we talked he had zero options for me and said wasn approvedit was waste of credit pull',\n",
       " 'months after spoke to one person at amerisavegot the information needed and decided not to refi continue to get calls from reliance whose employees do not seem to know what am not interested meansif would have known that clicking one co to get information meant that all other coswould call would have never looked online for informationwhat more do you have to do to get this co to stop callingread more',\n",
       " 'lisa podorson has set my closing date three different dateswhich she has reneged on since august 201mspodorson has continued to asked for documents at the last minuetshe does not return text or phone calls for an entire weekshe did not return my calls until decided to cancel the refinancing and contact the bbbshe has been very unprofessional during this processthis experience was very unpleasantread more',\n",
       " 'worst lending experience of my lifemy point of contact provided incorrect information from the startthis led me to spend money on items such as appraisalwhich cost not quite twice as much as any other appraisal company in the areaand termite inspectionafter putting charges on credit had no choice but to close the loan to pay off new debtoh yesone of those payments they have not made yet and they have yet to explain whywon return my callscan you say hello lawyerread more',\n",
       " ' feel they made promises that they could not keep and made some mistakes that personally cost me around00would have canceled the loan few different times if my finances would have allowed it would not recommend this company to any of my friends',\n",
       " ' had an awful experience with reliance when refinancing my home would not recommend them to anyoneamong other issuesit is now weeks after we closed and am still waiting for the check that was told that would receive at closingnot weeks after closingdo not use this company',\n",
       " 'slowit took over months to close2nd financial disclosure had an increase in borrowing amountservicer said the increase was due to taxes being under estimated whenin factit was an increase in points thought my rate had been lockedthey did not want to use my attorney so went with theirswithout notifying metheir attorney did not do the closing notary came to the house in t shirtthe notary said he could not give legal advice so if we had any legal questions about the documentswe were out of luckdespite paying62for an attorneylater learned their attorney was sanctioned by the nc state bar in 200for conduct related to real estate closingsread more',\n",
       " 'my experience with reliance wasn good at all1st off they ran hard inquires on my credit that did not authorize and am in the process of pursuing potential legal action2nd my rep corey scheduled an appraisal that took weeks to get back and he nothing was done to speed that process up2nd we started this processs in sept and its jan of the next year almost and still not closed and am still getting request from the loan processorits absolutely ridiculous3rd it took so long for them to close that the rate they offered me 7went up to and wasn even notified until got documentation from reliancethey did not lock me in to the initial rate like they should have3rd decided not to use them for the refi because of all the errors and mistakes that were made by them m going to file better business bureau complaint as well as other complaints about my experiencedo not use themread more',\n",
       " 'nothing was as originally statedmy closing costs were much higher than was told in the beginning and didn get the money back that was told wouldwhen complained was told they were only estimateseven my appraisal ended up being20more was given long list of paintingwork that had to be done before could get fha approvaldays after paid to have it all done they switched me over to conventional would not recommend them to friendwhen all the red flags went up throughout the process kept going because was so far in and didn want to start over with someone elsebig mistakeread more',\n",
       " 'we requested offers from three lendersthis bank was the only one that wouldn send us tentative offer to review prior to their sales pitchit showed us that they really wanted to get us on the phone and give the hard salefor this reason would not recommend themif their proposal didn speak for its self without the sales pitch then doubt it would have been mutually beneficial dealread more',\n",
       " ' can say enough about adam and pac bentalk about going the extra mileholy wownight and day difference from anyone else considered and spoke withadam spent soooooo much timeincluding weekendstaking my questionssome of which m pretty sure were stupidbut he always took the time to walk me through and explain things very thoroughlyhe also has wonderfully calm yet passionateknowledgeable yet approachableand charming demeanor that made my mortgageexperienceso much better than could have remotely expectedmade what could easily be unpleasant more than palatableand above allthey made sure was getting the best possible deal for my scenariowhich took some real workno one provided better rateand you moght expect thatyou get what you pay forbut not herenot at all star service at the best rate you can getwhy go anywhere else10going back to adam pac ben when the time comes againand know it willbut honestlydo not go to anyone elsethanks adamlread more',\n",
       " ' can say enough about adambill and pac bentalk about going the extra mileholy wownight and day difference from anyone else considered and spoke withadam spent soooooo much timeincluding weekendstaking my questionssome of which m pretty sure were stupidbut he always took the time to walk me through and explain things very thoroughlyhe also has wonderfully calm yet passionateknowledgeable yet approachableand charming demeanor that made my mortgageexperienceso much better than could have remotely expectedmade what could easily be unpleasant more than palatableand above allthey made sure was getting the best possible deal for my scenariowhich took some real workno one provided better rateand you moght expect thatyou get what you pay forbut not herenot at all star service at the best rate you can getwhy go anywhere else10going back to adam pac ben when the time comes againand know it willbut honestlydo not go to anyone elsethanks adam and billread more',\n",
       " 'jasonjune and the team did an amazing jobthis was our third refinance with pacific beneficial and it closed in weekswe were more than impressed and would recommend them to anyone looking for mortgage or refi in caour loan had no cost and the appraisal was waivedthanks again you guys',\n",
       " 'jasonjune and the team did an amazing jobthis was our third refinance with pacific beneficial and it closed in weekswe were more than impressed and would recommend them to anyone looking for mortgage or refi in caour loan had no cost and the appraisal was waivedthanks again you guys',\n",
       " 'jasonjune and the team did an amazing jobthis was our third refinance with pacific beneficial and it closed in weekswe were more than impressed and would recommend them to anyone looking for mortgage or refi in caour loan had no cost and the appraisal was waivedthanks again you guys',\n",
       " 'shawn is organizedquick to respondtransparentand personablehe was very patient with me first time home buyerin answering all of my questions and explaining processes to mehe made the home buying process as painless as possiblewould recommend to anyone',\n",
       " 'the entire process was extremely stressfuldue to circumstances beyond our controlmichele alvesadam carrion and bill james worked diligently to make sure our refinance was able to be completedbill james was so helpful in getting through themessy issueswe hadhe was extremely patient with my questions and always felt that was the only client pacific beneficial hadyou do not see customer service of such high caliber very often these daysand it was extremely refreshing wouldwithout hesitationrecommend pacific beneficial mortgage company to anyoneread more',\n",
       " 'adam and his team are absolutely wonderful had severalissueswith my refinance that caused additional problemsbut adam and bill worked so hard to help us get in better position wouldwith absolutely no reservationrecommend adamboth adam and bill were so patient with my questions and concerns and helped the refinance go as smoothly as possible was extremely fortunate in finding adam and billread more',\n",
       " 'adam carrion was hands down the bestalways there to answer any questions or let us know next steps and status at anytime of the day or nightprocess was very simple provided few items and adam and his team handled everything elseit was the best experience you can have while refinancing would definitely recommend and will do business again in the futurefastsimple and painlessthank youread more',\n",
       " 'outstandingmy wife and have had many previous loans in the pastthis by far was one of our best experiencesalex jocovic was wonderfulfrom first phone call to the endhe was with us every step of the waynot just salesour situation was complicatedwith 103exchange involved from prior rental new home and all its confusionsill alex jocovic was with us every daywe received status of the progress almost dailyso many coordination with different escrow companiesalex jocovic handled everything professionally and last but not leastthe rates he offered beat the builder finance company which had the builder incentivesthanks alexread more',\n",
       " 'outstandingmy wife and have had many previous loans in the pastthis by far was one of our best experiencesalex jocovic was wonderfulfrom first phone call to the endhe was with us every step of the waynot just salesour situation was complicatedwith 103exchange involved from prior rental new home and all its confusionsill alex jocovic was with us every daywe received status of the progress almost dailyso many coordination with different escrow companiesalex jocovic handled everything professionally and last but not leastthe rates he offered beat the builder finance company which had the builder incentivesthanks alexread more',\n",
       " 'easy and smooth process',\n",
       " 'great experienceandrea helped me get mortgage for my condo in irvine compared few lenders but her customer service made all the difference would definitely recommend her to anyone looking for loan',\n",
       " ' can say enough great things about my loan officeralex jocovic at pacific beneficial mortgage companyfrom start to finishhe was by my side with daily check ins and phone callsdealing with problems as they arose and handling lot of the issues that came up along the wayit was great knowing that someone had my back and offered great advice along the way home purchase is such stressful and scary experience but felt confident knowing that was in great hands with alexyou can go wrongread more',\n",
       " ' can say enough great things about my loan officeralex jocovic at pacific beneficial mortgage companyfrom start to finishhe was by my side with daily check ins and phone callsdealing with problems as they arose and handling lot of the issues that came up along the wayit was great knowing that someone had my back and offered great advice along the way home purchase is such stressful and scary experience but felt confident knowing that was in great hands with alexyou can go wrongread more',\n",
       " 'very professionalkept us up to date with the progress of our loanvery accommodating',\n",
       " 'excellent servicealways called and emailed to give status of our loanvery accommodating',\n",
       " ' felt comfortable working with alexalex was always patient in answering my questions and promptly returned my calls and emailseven my realtor commented on how pleasant it was to work with alexshe asked mewhere did you find him at',\n",
       " ' was little skeptical about using broker that was not familiar with not referred by anyone knowbut just by reading the yelp reviews about alex jocovic decided to gove him and pacific beneficial try am very pleased and satisfied with the entire processalex jocovic was very patient and always promptly returned my calls amd emails felt very comfortable and assured that we would close on timeeven my realtor commented on how easy it was to work with alex would definitely recommend using alexread more',\n",
       " 'during the whole process alex was very attentive to every detailalways kept us informed and was available at all times whenever we had questionswe ve had many business dealings and services provided for us before but our experience with alex was one of the most outsdanding ones we ve ever hadwe will without any hesitation recommend his servicesthank you',\n",
       " 'everything worked great very smooth processwe are very pleasedalex did an incredible job for usthank you',\n",
       " 'when we put an offer on in our homeour realtorsusan lyon in napawas not familiar with either pacific beneficial or alex jocovic and asked us if we were sure about using mortgage company in southern ca when we were up in the norththen the selling realtor tried pushing us to use local lenderafter our initial conversations with alex we knew he was the broker we wanted to work with and my wife agreed so we refused to switch to local lender and are very happy we didalex went above and beyond to get things done for us and was available both way before normal business hours on morning and into the night as wellincluding on weekendsas our purchase progressedsusan caution changed to admiration as she complimented alex and pacific beneficial to us on several occasions for their professionalismresponsiveness and commented on how easy they were making things for her on the loan sidein the endwe were in position to close full week early due to the hard work alex and his team put inwhen it came to closing and sitting down to sign all of the necessary paperwork our escrow officer commented thatthis is great rateyou must have friend at the mortgage companywellwe didn andlike our realtor we had not heard of alex or pacific beneficial before our loan search however we now feel that we do have friend at the mortgage companythank you very much alex and companybetween youyou made daunting task seem so easy and everything went through without glitch from start to finishwe will certainly be recommending you to friendsas will our realtorand we look forward to using your company for any future refinancing or home purchases in the futureread more',\n",
       " 'when we put an offer on in our homeour realtorsusan lyon in napawas not familiar with either pacific beneficial or alex jocovic and asked us if we were sure about using mortgage company in southern ca when we were up in the norththen the selling realtor tried pushing us to use local lenderafter our initial conversations with alex we knew he was the broker we wanted to work with and my wife agreed so we refused to switch to local lender and are very happy we didalex went above and beyond to get things done for us and was available both way before normal business hours on morning and into the night as wellincluding on weekendsas our purchase progressedsusan caution changed to admiration as she complimented alex and pacific beneficial to us on several occasions for their professionalismresponsiveness and commented on how easy they were making things for her on the loan sidein the endwe were in position to close full week early due to the hard work alex and his team put inwhen it came to closing and sitting down to sign all of the necessary paperwork our escrow officer commented thatthis is great rateyou must have friend at the mortgage companywellwe didn andlike our realtor we had not heard of alex or pacific beneficial before our loan search however we now feel that we do have friend at the mortgage companythank you very much alex and companybetween youyou made daunting task seem so easy and everything went through without glitch from start to finishwe will certainly be recommending you to friendsas will our realtorand we look forward to using your company for any future refinancing or home purchases in the futureread more',\n",
       " 'june was extremely attentive and responsive throughout the processin addition she was very courteous and pleasure to work with',\n",
       " 'jason straightforward and extremely attentive throughout the process',\n",
       " 'jason bean and june lee were honest and very responsive',\n",
       " 'it was pleasure working with alex was unfortunate with having to go through two failed escrows due to the conditions of the houses that was in contract withbut alex was patient and helped me through all three of my escrows until finally closed on houseif you are looking for loan officer that is responsive and personable go with alexhe will follow up with you consistently and make sure that you close on timeoverall had an excellent experience working with alex and pacific beneficial mortgageread more',\n",
       " 'it was pleasure working with alex jocovic was unfortunate with having to go through two failed escrows due to the conditions of the houses that was in contract withbut alex was patient and helped me through all three of my escrows until finally closed on houseif you are looking for loan officer that is responsive and personable go with alexhe will follow up with you consistently and make sure that you close on timeoverall had an excellent experience working with alex and pacific beneficial mortgageread more',\n",
       " 'great for first time home buyers',\n",
       " 'kirk was very accommodating to me and my sistersthis is our very first home purchasewe were able to close escrow just in time before our leasing contract is up for our previous apartmentevery questions that we have was mostly answered to our satisfaction even though it becomes repetitive at timesall in allmy family had great experience working with kirk highly recommend him to all first time home buyers for much smoother and faster processalsohe provides great customer serviceread more',\n",
       " ' am writing this review to share what ended up being an unpleasant experience with kirk gay and pacific beneficial mortgage to other potential customers am first time homebuyer and was originally going to go with local mortgage broker for my loanbut wanted to shop around for potential better rateso used lendingtree which is how kirk contacted memy original lender had offered to pay for my home appraisal in writingandwanting to competekirk said he would pay for the appraisalwhich he stated in writingand asked for the letter the other lender had provided so he could get permission to have pacific beneficial pay for my appraisalkirk confirmed would not be paying for the appraisal and was very happy with what kirk was doing to accommodate me as customerhoweverwhen closed on the homethe cost of the appraisal was on my final buyer statement52as kirk had said that would not be paying for the appraisal thought would be reimbursed reached out to kirk via email after close and got no further response thanwe paid for appraisal upfront but we get reimbursed then reached out to kirk two times via email with no response then called the office and spoke to kirk bossadmin who instructed me to reach out to kirk bossadam carrionwhich didit was only then that received an email response from kirk stating that the lender credit receivedwhich was less than the appraisalwas all would receive to cover the costdespite the fact that when was entering into the loan kirk told me that pacific beneficial would be paying for the appraisal and would be receiving lender creditkirk asked me to call himwhich did and left voicemailand he never called me back called kirk again leaving voicemail with no response then began reaching out to his boss adam carrion via email to continue to explain the situationonly then did receive an email from kirk asking me to call himwhich didleft voicemailand received no response then called adam and spoke to him on the phone and only then did receive call from kirkoffering me nominal amount of money stated that wanted to be reimbursed for the entire appraisal amount and he said he would go back to the powers that be to see what he could do never heard from him reached out to kirk and adam via email to check in on status with no responsethe next day reached out againvoicing my displeasure and that was going to take action via reviewsit was only then that received an email from kirk accusing me of extorting him want other potential customers to know about what occurred as not only was misledbut was treated terribly as customer once kirk had been paid his commissionit is extremely disappointing that this brokerage would go to these lengths over52after the fact when they promised this customerread more',\n",
       " 'worked with jasonjuneit couldn have been an easier processcompletely happy with my experiencethe process just depends how fast you respond to their requeststhis was refinanceit was completedfunded within under month',\n",
       " 'worked with jasonjuneit couldn have been an easier processcompletely happy with my experiencethe process just depends how fast you respond to their requeststhis was refinanceit was completedfunded within under monthjune was very helpful m an accountant with lots of questionsshe was very patient with me d ask for different termsloan amountsshe was quick to give me the updated ratesshe definitely has amazing customer service skillsknowledge highly recommendread more',\n",
       " 'everything said about my loan officer holds true for the company he works forthe support staffspecifically summer anderson was as thorough and efficient as rowel and as accommodating and informativein this day and age of doing business without ever meeting the people helping youyou have to be an expert in sizing up people and their product in just few conversations or you could be fortunate enough to find pacific mortgagehonestlymet or exceeded all of their competitors and all of my expectationsread more',\n",
       " 'absolutely the best experience have ever had dealing with loan officeror any other loan related endeavor for that matterrowel was friendlyknowledgeablepatient and extraordinarily helpful in choosing the right loan for me got precisely what was promised in record time and rowel was available and eager to answer all of my questions every step of the waynot only will recommend him to anyone and everyone can will call him when need anything related to my loan in the futureread more',\n",
       " 'provided very timely and friendly service to bring my loan to close quickly',\n",
       " 'friendly and efficient',\n",
       " 'they were quickprofessionalfriendlyand cost effective',\n",
       " 'it was pleasure to work with pacific beneficial on our refinancewe worked with rowel enriquez and he was incredibly responsive any time we had questions or encountered issues would definitely recommend pacific beneficial and gladly call on them services in the future',\n",
       " 'it was pleasure to work with rowel on our refinancehe was incredibly responsive any time we had questions or encountered issues would definitely recommend him and gladly ask for his services in the future',\n",
       " 'had slight difficulty with online documents and signing',\n",
       " 'accommodatingeasy to work withgood products',\n",
       " 'my loan officer was really big helphe was very patientand helped me save some money on the closing costthanks again would definitely refer to friend',\n",
       " 'it was the first time we refinanced our home and kirk was knowledgeable and made it very easy for us throughout the processgreat rate and servicethank you',\n",
       " 'our contact maurice was professional and courteous in all of our discussionshe explained the details and worked to meet our timelineshe was excellent',\n",
       " 'overall very fine jobno cost to meand received the prevailing rate few minor paperwork mistakes which required some repeated forms to be signedbut nothing worth worrying overpeter did very good job',\n",
       " 'probably this was more challenging refinancealex zelada worked very had on thisbut despite numerous assurances of getting close to the finish lineit took over monthsand the 4day rate lock had to be extendedmost of the problem seemed to be with quickenrequests for documents was piecemealand each new request caused delaythis most likely due to quickenand did put everything in holding patternapparently without the brokersknowledgeit was discovered only after my following up to see what the delay wasalso there were few instances of pb staff not fully reading thru correspondence and making assumptions that weren entirely accurate and could have been significant to the borrowerif doing it over would go with local broker with comparable rateread more',\n",
       " ' am writing this review to share what ended up being an unpleasant experience with kirk gay and pacific beneficial mortgage to other potential customers am first time homebuyer and was originally going to go with local mortgage broker for my loanbut wanted to shop around for potential better rateso used lendingtree which is how kirk contacted memy original lender had offered to pay for my home appraisal in writingandwanting to competekirk said he would pay for the appraisalwhich he stated in writingand asked for the letter the other lender had provided so he could get permission to have pacific beneficial pay for my appraisalkirk confirmed would not be paying for the appraisal and was very happy with what kirk was doing to accommodate me as customerhoweverwhen closed on the homethe cost of the appraisal was on my final buyer statement52as kirk had said that would not be paying for the appraisal thought would be reimbursed reached out to kirk via email after close and got no further response thanwe paid for appraisal upfront but we get reimbursed then reached out to kirk two times via email with no response then called the office and spoke to kirk bossadmin who instructed me to reach out to kirk bossadam carrionwhich didit was only then that received an email response from kirk stating that the lender credit receivedwhich was less than the appraisalwas all would receive to cover the costdespite the fact that when was entering into the loan kirk told me that pacific beneficial would be paying for the appraisal and would be receiving lender creditkirk asked me to call himwhich did and left voicemailand he never called me back called kirk again leaving voicemail with no response then began reaching out to his boss adam carrion via email to continue to explain the situationonly then did receive an email from kirk asking me to call himwhich didleft voicemailand received no response then called adam and spoke to him on the phone and only then did receive call from kirkoffering me nominal amount of money stated that wanted to be reimbursed for the entire appraisal amount and he said he would go back to the powers that be to see what he could do never heard from him reached out to kirk and adam via email to check in on status with no responsethe next day reached out againvoicing my displeasure and that was going to take action via reviewsit was only then that received an email from kirk accusing me of extorting him want other potential customers to know about what occurred as not only was misledbut was treated terribly as customer once kirk had been paid his commissionit is extremely disappointing that this brokerage would go to these lengths over52after the fact when they promised this customerread more',\n",
       " 'the intake rep was very nice but the loan officer seemed annoyed by my inquiries for clarificationthat too badall other reviews on the website were very positive on customer service do hope somebody reviews the phone calldidn get past the initial conversationto be fairthis review system required rating for ratefeesresponsiveness was required to pick category and selectedpoorbut honestly don have an opinion on the mattermy preference would have been to leave these blankread more',\n",
       " ' applied to three different lenders and the other two came across as organizedresponsive and caringafter my application was filed and the rate was lockedthey sent me an application to review which had many errors and then it took them over forever to make corrections emailed and called to inquire about the status of my loan and it took nearly week to get reply emailed again later to ask when an appraisal would be orderedand almost another week went by before got replypoor communication with customerseven though applied with another lender the very same week applied with pacific was asked to sign docs with that other lender before an appraisal was even ordered by pacificvery frustratingcannot recommend themread more',\n",
       " 'this company responded to my lending tree applicationand picked them out to work with because their initial mails were polite and professional spoke with broker adam and explained my somewhat complicated situationhe advised me to send financial documentsincluding 1040sw2setcso his folks could make preliminary decision before started an applicaiton immediately sent him all the highly personal paperwork he requested few days later he mailed once sayingeverything looks good but we need to be sureand after thathe never mailedcalledor notified me via mental telepathy e mailed requesting an updatebut nothingarghhhwhy did you waste my timeif your company couldn help meno biggiejust tell mebut getting no update from these folks really makes me paranoid about having shared all of my financial info with themnote to lending treedrop this companynote to applicantsthere are plenty of good companies out thereso steer clear of this oneread more',\n",
       " ' worked with kory and carla at nasbthey were superb team and provided excellentresponsive and knowledgeable service throughout the entire processours was complicated process with refinance and loan and they hung in there with us the entire timeit was great experience working with both of them highly recommend them and will use them in the future for all of my mortgage needsread more',\n",
       " 'kory was by far the best loan officer have ever worked withwe were dealing with complicated refinance and purchase of two different properties and he was coolcalmprofessional and extremely knowledgeable throughout the entire process wouldn use anyone else moving forwardhis level of integrity and responsiveness is second to nonethanks for everythingkoryread more',\n",
       " 'expert loan officerwell versed in va and the financial impacts of loan component changesthe best have worked with across home buying selling dealsnow advocated for by thereal estate broker in the state due to his ability to close complicated and high pressure dealsshe places him at the top of the list after 3years in the businessprofessionally and patiently answers detailed questions and can rally the expanded nasb teamalso stellarto support your needshe handled my complicated va loan that seemed to change every week while we tried to buy an antebellum hometough compsduring my retirement from the militarytough income verificationwith five families all swapping homestons of contingencieseverything along the way mattered and aaron and the nasb team got it doneeven on weekendsand closed on time with the best interest rate in the market and no added origination feeslookdo not pass up an opportunity to work with himread more',\n",
       " 'the nasb team went above and beyond for me and my family and closed an important va home loan on time despite many changesmy military retirementand very challenging antebellum home that required the entire nasb team to pull out all the stopsknow the rules and regulationsand guide us through tough va process truly believe we would not have closed on time with different team will only recommend nasb for home loansespecially complicate va loansread more',\n",
       " 'dallas goodlet and his entire team are deserving special thank youhe was as professional as they come and closed our loan in 1dayswe were with another competitor originally and he calledsaving us thousands over our current lenderit was real pleasure getting to work with this institution and class act like dallasgreat job',\n",
       " 'commentsto begin my wife and were at the point of signing completion with the leader of online home mortgage servicewe were not satisfied with the origination cost so we applied to lending tree for competitive bidsseveral lender matched or slightly beat nasb but none were convincing at closing on timewe chose nasb because of dallas goodlet believability on the closingthe salesloan service and application process was competitiveassuringprofessionaltimelysupportiveand truthfuldallas goodletbrent custer and the whole nasb team delivered the mortgage on time and at the price promisedwe are completely satisfied and appreciative of the staffproduct and service of your companykudos to allread more',\n",
       " 'working with jon was such an amazing experiencefrom the start he offered answers to any questions had since after all this was our first home purchasejon was always phone call away ready to help where neededhe made the stringent home buying process as easy as possible would definitely recommend any potential buyers to work with jon know for myself will be calling him if we ever decide to buy another housethanks jonread more',\n",
       " 'nasb was amazing to work withthe pre approval process was easy and informationalwe chose our home and closed within 3days of our agreement datethanks nasb for making our first home purchase an amazing experience',\n",
       " 'jon barrett was great asset to my husband and he made our mortgage loan process extremely simple and quickjon was knowledgeablehelpfulpatient and accuratewe would suggest anyone shopping for mortgage loan to give jon call',\n",
       " 'jon barrett was great asset to my husband and he made our mortgage loan process extremely simple and quickjon was knowledgeablehelpfulpatient and accuratewe will be passing jon name along to anyone looking for mortgage loan',\n",
       " ' can express how incredibly awesome our experience was with working with bryant small at nasbas military familywe have purchased or refinanced many homes and this was by far the best experience we have ever hadbryant makes it easy and took the time to discuss the best options for us ve never met bryantbut you can mistake authenticity and we knew instantly he and nasb were who we were going withread more',\n",
       " 'best loan officer could have hoped forjeff exceeded my expectationshe worked very hard to get me the best rate possiblehighly recommended',\n",
       " 'adam was great to work with during our refihis attention to detail made this smooth and easy transactionit has been several years since we ve gone thru the home loan process and we were unsure where to startafter talking with adamwe were confident he was the one to help us with our refihe was professionalhelpfulvery knowledgeable about the loan process and answered all of our questions in timely manner would highly recommend adam and would not hesitate to work with him againread more',\n",
       " 'great websiteknowledgeableresponsive and always got back to us quickly with answers to our questionsmortgage process can be very tedious and they made it easy',\n",
       " 'we received offers from multiple banks after our lending tree request for mortgagealex madewell from nasb was by far the best offerhe made the entire process easy and was very knowledgeablethe closing on this home was seamlessno surprises would definitely recommend alex madewell and nasb to anyone looking for mortgage',\n",
       " 'rob was very helpful in getting this loan closedfew issues on our end we didn know about but he was still able to get it done on time',\n",
       " 'peter and his team were great to work withthey were professional and prompt with their responsesthey answered all my questions and somehow got us to closing on time despite various roadblocks we encountered',\n",
       " 'adam came highly recommended and from the first time we spoke with himit was clear whyhe was friendlyprofessionalknowledgeableand worked hard to ensure we were taken care of in all aspectsbeyond the necessary effective communication skillshe brought personal touch after we closed by sending us hand written note of congratulations will recommend him to everyone know buying houseread more',\n",
       " ' real stand up guyfrom the beginning mrbarrett alievatied any uncertainties we faced with buying our first homethis guidance and expertise was certainly what first time homebuyerwould hope forfrom beginning to the very end he stood by us and walked us through the entire processeven down to the wire at closing mrbarrett stepped up and saved us thousands by identifying an errounous mistake in the contractwhen buy again ll call jonthank you jon barrettwe certainly enjoyed working with youread more',\n",
       " ' had the pleasure of working with mrbarrett from nasb and couldn be more pleasefrom the very beginning mrbarrett guided us on our journey with the upmost courtesy and respecteven while closing mrbarrett once again came to the rescue helping me save even more money big thanks to mrbarrett and the team at nasbwhen buy again know who ll call',\n",
       " 'as first time homebuyer was walking blindlybryant became my guide recall telling him don speak mortgageand that was no problem at allbryant was kindunderstandingand genuinely cared throughout the entire process from my online application to the day we became homeownershe was very prompt and always gave clear explanations of what was happeningnext stepsand what path would be in my best interesteven when there were bumps in the road he was there to smooth them out would recommend bryant to anyone seeking financial wisdom in their buying refinancing processread more',\n",
       " 'they got me the best dealthey price matched and did even betterfortunate got to work with them',\n",
       " 'alex was persistentdiligentand thoroughhe was easy to work with and got me an excellent rate on my homenext time buy ll absoltely work with him',\n",
       " 'my wife and have purchased several homes over the years and have worked with number of different mortgage companiesour experience with jeremy and brentcusterhas beenby farthe best we have ever experiencedif we are ever in the market againwe will definitely be back and will recommend nasb to anyone we know who is looking for mortgage',\n",
       " 'great customer servicealways available when called and very respectfulthanks for working extra hard to close on time',\n",
       " ' would like to thank brent for working with ushe kept encouraging us when we felt we would get turned down because of previous lenderbrent and his team did everything possible to meet our deadlinethanks to himwe are now happy home owners',\n",
       " ' first inquired about loan with brentmonths ago then told him wanted to put it all on hold once found out the cost to buy out my leaseaftermonths contacted him in the morning and told him it was time for me to get serioushe responded within the hour and we were rolling againweeks later found home wanted to make an offer onweeks later closed on the homeduring that time always knew what was going onwe talked dailyhe made me feel comfortable through the whole process and always felt like was in controlhonestlypurchasing the home was much easier than thought d recommend him to anyoneread more',\n",
       " 'it had been ten years since bought house and was little nervous of what could afford this time around and going through the process againadam couldn have been better to work withhe was great at communicating and making me feel at easehe got us the best rate and was dream to work withhe completely took the anxiety out of home buyingyou will regret not using himhe is knowledgeable and you can tell he really cares about youread more',\n",
       " 'fred was very niceand always available to address my concernshe seems to really care about his customersgoing through refinance is never very pleasantbut fred did his best to make it as painless as possiblethanks fredbestkary',\n",
       " ' worked with kory klossner loan officer with nasbafter confirming he could offer much lower rate than my financial institutionhe then took the additional time to explain the pros and cons of different loan typesconventional versus va loanskory also took the time to calculate approximate monthly payments and closing costs for each never felt like was being pressured or rushed into decisionin fact felt quite the oppositehe gave me whatever time needed to fully understand my options and make the choice that was right for mebased upon my unique circumstanceskory went above and beyond to make me feel comfortable with what has been the biggest financial decision of my lifethanks korystarsread more',\n",
       " ' worked with kory klossner loan officer with nasbafter confirming he could offer much lower rate than my financial institutionhe then took the additional time to explain the pros and cons of different loan typesconventional versus va loanskory also took the time to calculate approximate monthly payments and closing costs for each never felt like was being pressured or rushed into decisionin fact felt quite the oppositehe gave me whatever time needed to fully understand my options and make the choice that was right for mebased upon my unique circumstanceskory went above and beyond to make me feel comfortable with what has been the biggest financial decision of my lifethanks korystarsread more',\n",
       " ' couldn have been more pleased with aaron customer servicemy father recommended aaron when was looking to buy houseaaron fought to get me the best rate and made sure that everything went as plannedwhen wasn able to move my closing date up to keep my rate interest rateaaron told me not to worry about it and he would cover the cost differencehe did the same thing when we had to pay extra to rush the appraiser to close on time would and will recommend aaron to anyone looking to buy home because know he will do great job like he did for meread more',\n",
       " ' can begin to express my happiness with working with aaronnot only is he professional and knowledgeable but he literally ended up saving me thousands of dollars on my loan thought had good rate until spoke with him and we were able to lower it almost full which saved us hundreds of dollars per month and then he was able to get everything approved closed on very tight timeline of less than weeks highly recommend himread more',\n",
       " 'very responsive and worked hard to get us approvedthe mortgage experience itself can be very stressfulbut jon really made us feel like someone was on our sidethanks again for everything',\n",
       " 'joey was very helpfulwe appreciated his friendly manner and his timely responses',\n",
       " 'our loan officerjoey harteganwas friendly and very helpfulmy wife and were very pleased that we chose nasb to refinance our home',\n",
       " 'my family and shopped around for home mortgages for whilewe currently reside in new jersey and every mortgage company wanted nearly 20k to close found north american savings bank onlineand steve was the person that was assigned to work withhe was wonderful to say the leaststeve would always answer my calls and emails promptlyin additionwhen out of the officesteve always made sure colleague assisted me honestly cannot say enough aboutnasbultimatelythe were able to get me much lower interest rate and monthly payment on my home highly recommend steve to anyoneread more',\n",
       " 'rc was excellent to work withhe is straight shooter and an honorable fellow veteranhe ensured we understood what was happeningwhat to expect and how long it would take can recommend anyone more for your lending needs when working with va loanyou need loan officer whoknowswhat they are doinghe is great at what he does and will personally ensure your closing is on timeeven with an extremely slow appraiser who did not meet deadlines causing delayswe still closed on time thanks to rchis professionalism and his dedication to keep his wordhis team is great to work with as wellread more',\n",
       " 'very smooth experienceworking with va loanclosing on timenasb was extremely easy to work withas veteranyou want lender who understands and easily funds va loans and nasb meets this requirement with five starsother lenders we have worked with in the past do not meet nasb serviceespecially closing on timein my experiencerecommend highly',\n",
       " 'outstanding service and always timely',\n",
       " 'fred went above and beyond to make sure everything went smoothly including making calls while on vacationfred works hard to make your dreams come true',\n",
       " 'fasthelpfulbest service possible heartily recommend them to everyone',\n",
       " 'aaron did everything humanly possible to get me the best rate and terms that he possibly couldhe listened to me and responded to my needs with concerncareand expertise could never have anyone who could have helped me more by being caringknowledgablepatientand responsive individualmany thanks to mrspring',\n",
       " 'aaron was extremely help and very friendly kept his about everything and was always up front with everythingas veteran myselfhe made to go the extra mile for me and always was available to talk and answer questionsthis was my first time buying home and he made as painless as possible for me and my wife nothing but great things to about him and cannot thank him enough for helping us through this processread more',\n",
       " 'their loan officer and his team were amazingthey helped us every step of the way',\n",
       " 'alex was extremely helpful and always available if we had any questions or concernshe kept in constant contact with us and told us exactly what was going to be happening and whenwhen any issues came up he addressed them quickly so we wouldn have to wait longer for the closinghe was always trying to go the extra step to make sure we were taken care of',\n",
       " 'great service and easy',\n",
       " 'such pleasure working with alexcouldn ask for better lender',\n",
       " 'good guy to work withvery responsiveno surprises',\n",
       " 'extremely smooth process with no surprisesbetter than expected interest rate',\n",
       " 'fred was greathe worked around my schedulewas always very responsive and always knew exactly where was in the process and helped me work on what to do next',\n",
       " ' worked with person name andrew leehyhe is very hard workinghonest person with the customers interest not the commission at heart',\n",
       " 'fred was awesome to work withhe is very knowledgeable in his field and is quick to respond to all calls and emailshe made sure the loan stayed on track and we closed on time2days from the day we put contract on the housewe highly recommend fred',\n",
       " ' fine bank with traditional valuesjust greatthe people are real and the bankwalks the talk real pleasure to do business with them',\n",
       " 'joey was knowledgeablevery accessible and maintained positive attitude throughout the complex refinancing processhe was true partnernot just functionary doing paperwork trusted his judgment and he never failed mehe also has great sense of humor',\n",
       " ' was hesitant to use non local mortgage companymy loan officerjeremy was more involved with the process than any local loan company ve used previouslyhis customer service and knowledge has exceeded my expectations don usually recommend peoplebut would consider jeremy as trustedfriend in the mortgage business',\n",
       " ' was hesitant to use non local mortgage companymy loan officerjeremy was more involved with the process than any local loan company ve used previouslyhis customer service and knowledge has exceeded my expectations don usually recommend peoplebut would consider jeremy as trustedfriend in the mortgage business',\n",
       " 'steve got it done when others couldn 3day closing and he even got things done that his supervisor couldn get donesteve was recommended to me by friend and am glad went with himhe was great to work with',\n",
       " 'very professional and customer oriented',\n",
       " 'steve was very responsive and patient with my many questionswe haven bought house in many yearsand this was big move for us can praise him highly enoughhighly recommend',\n",
       " 'the closing process for va loan went smoothlybut the loan servicing by this so called bank is complete disaster set up our loan for automatic payments using their clunky websiteunlike other banks with which do businessthe nasb website is not intuitive and does not provide confirmation for your entriesfor the first 1monthspayments were automatically debited from my external account as scheduledhoweverwhen the escrow amount changednasb debited the old amount from my account and sent deficiency letter for the balanceunlike every other bank have used in which the amount of the debit was automatically debitednasb sent me credit counseling lettertelling me that they did not apply any of the loan payment and would charge me late payment over double the deficiency of4and changeand suggested credit counseling serviceswhen called their servicing departmentthe representative told me the letter was sent in error and that everything had been adjusted so my account was showing that it was currenttwo weeks later received total of two voice mail messages and an mail in span of 2minutes from nasb default departmentthe woman with whom first spoke was rudesaid she showed no record of my earlier callit was my problemand then hung up on methe second agent man in their default departmentsaid that he did not show that had made any automatic payments and that nasb system was not set up to adjust anythingafter having over 2years of mortgage payments with various banks have never experienced such incompetence and rude service specifically instructed the last agent to request that they sell servicing of our loan to another bank that is capable of actually performing customer service for veteranread more',\n",
       " 'miserable experiencethey screwed up everything imaginable and never accepted responsibility for any of their errors wouldnt recommend them for the purchase of doghouse much less purchasing new home',\n",
       " 'our loan officer was happy to communicate before we committedonce we committed he only communicated with us after questioned items and problems and after questioned why we weren settling before our rate lock expiredwe had no idea where we were in the process unless contacted stevepoorpoor communicationmrkang also wassureour house would appraise for30k more than our house didtalking us into loan that we didn end up appraising for and then causing us to have to refinance at onlylower than our current mortgageour appraiser was disorganized and called twice for pictures he forgothe used poor compswe were contacted several times to look at documents that were expired before we could even sign onwithin minutes of the email notificationsonly good was the actual settlement with very sweet and competent notaryand thank goodness we were donepoor processpoor communicationwe will never recommend nasb and have already told two people refinancing to steer clearread more',\n",
       " 'our loan officer was happy to communicate before we committedonce we committed he only communicated with us after questioned items and problems and after questioned why we weren settling before our rate lock expiredwe had no idea where we were in the process unless contacted stevepoorpoor communicationour loan officer also wassureour house would appraise for30k more than it didtalking us into loan we weren interested in and then causing us to have to refinance at onlylower than our current mortgageour appraiser was disorganized and called twice for pictures he forgothe used poor compswe were contacted several times to look at documents that were expired before we could even sign onwithin minutes of the email notificationsonly good was the actual settlement with very sweet and competent notaryand thank goodness we were donepoor processpoor communicationwe will never recommend nasb and have already told two people refinancing to steer clearread more',\n",
       " 'started refinance with nick things were going ok then there was problem with credit card fro years earlierwhich must of made the loan not possiblethis would of understoodbut never heard from them againcalled nick several times no response even called his supervisor no response mailed them no responseis this the company you want to due busness withread more',\n",
       " 'can someone explain why the apr is more than point higher than the interest rateif there arefees',\n",
       " 'this loan started off quite wellour repdonnawas friendly and quick to respond to questionsshe clearly explained how things would unfoldand it all sounded greatwhat didn count on was that the bank never kept single promise she made had the same problem with this bank 1or more times would ask for assurance about somethingdonna would respond that things would be completed as wishedand her promise was violated by the bank every single timefor examplein our first or second conversation explained to donna that my wife would be traveling out of the country 1weeks after beginning the loan processwould it be problem to get the loan closed before thatnot at allshe saidwe should close several weeks before my wife departure1weeks laterthe bank was not ready to closehow did that happendonna would ask us to email documentationwhich we would email back within 1hoursdepending on the occasiondonna would then assure us that the documentation that we sent her was greatand the bank had everything it neededthenweeks laterthey would ask for additional documentationthis happened or more timeslater in the processthey asked for repeats of earlier documentation because the earlier documentation that had provided was nowtoo old cannot tell if this patterns recured because the bank doesn care about customersor because it is just incompetentevery time we complained about additional requests or some promise that wasn keptdonna told us that our complaints were justified and she was sorrybut she was unable or unwilling to rectify the broken promiseswe finally closed 1weeks or so after our initial application can only imagine how long the process would have taken if we had not responded to every request from the bank on the day they made itand if we hadn pushed hard to get this deal donethis bank treats customers with complete disrespectas someone who has owned several properties in my life and has received more than 1home mortgages from different banks can honestly say that this is the worst mortgage experience ve ever hadyou owe it to yourself to work with another bank that is more professional and more respectful of customersif could d rate this bank lower than one starread more',\n",
       " 'built new home and wanted to get small mortgage compared to the value of the propertythe process took much longer than was told it would causing mishandling and reverification of information provided to nasbthere was difference of opinion on what was necessary to close the loan that made the process diffiicult on my family would not recommend north american savings bank as amortgage lenderread more',\n",
       " 'this lender contacted my previous phone number which did not list when registering with this sitevery unprofessionaland very disturbing',\n",
       " ' never write reviews but had to this time to prevent anyone from making the same mistake as that mistake was using north american savings bank over other lenders started my refinance with this company with the assurance that it would be standard refinance without any problems and would be completed in minimal amount of timecommunication with the company was below average after confirmed that would be pursuing loan with them had the impression that the loan officer was more interested in attracting more business than helping methe company uses convoluted email system that sometimes worked but mostly didn this led to frequent emails and phone calls asking for documents to be resentafter having an assessment done on my house and paying for it the communication all but stoppedwhen was able to reach the loan officer was told that would personally have to find additional comps in my area was more than little annoyed as this is what was going to be paying them forhowever compliedafter contacting area realtors and securing what believe were suitable comps forwarded them to the officer week went by before my phone calls and emails were answeredat that time was told that my comps weren sufficient and as result they couldn ensure that my residence was worth anything despite the assessment findingsas result they would not be issuing me loanby the time they decided to do me the honor of informing me of this the rates had risen by half point should warn that the loan officer had way of recording voicemail messages and forwarding them to my voicemail account without calling mehe did this when he had bad news and feel like it was an effort to avoid conversing with me m now stuck with 45assessment that other banks are telling me that can usein other words will have to pay for new assessment m also out the money for credit reports and of course ll be paying higher interest rate on any new loan secure was told by the loan officer that there was no recourse to recoup the money had spent expect to be paying for my mistake for years should point out that refinanced my loan one year ago without any issues strongly urge anyone looking to refinance or obtain new loan to bypass north american savings bank no matter what they promisesave yourself timemoney and lot of aggravationread more',\n",
       " 'it all started when bob ran credit check without my knowledge or consentwhen agreed to use nasbbob told me that they could close in less than weeksit took the day before closing they were still asking for paperworkthe day of closingwhile my household goods were being unpacked was told power of attorney could not be used had to fly to idwhere my wife wastake the docs to notary and fedex them back also had to get bank check to send with the docs because they wouldn accept personal checkthen five days laterwhile driving from id to nc had to coordinate having closing docswhich already sent to themfrom the sale of my other home sent to me so could send to themof the four houses purchased in the past years this was the most stressfulread more',\n",
       " 'what horrible experiencewe have excellent creditplenty of incomeetcnasb rep made tons of promises to get us to sign upbut then just few weeks before the closingshe just disappearedand failed to give us lock or firm closing datethankfullywe sensed the problems and immediately contacted local lender that got us the loan on better terms with lower rates in only weeksnasb rep constantly complained about being too busy and having too many matters to work onthis became very apparent towards the endnot sure to this day why she didn want our business other than they apparently cannot follow through for some reason or another m sure there are good lenders herebut this is not one of themread more',\n",
       " 'rep was extremely professionalfriendlyand helpful when we first spokein factfrom my initial round of calls thought was going to select him out of the five lending tree lendersplus two banks talked to directlybut then when sent an email to all the lenders sayingokthe contract is signed want to select lender and lock my rate tomorrowso please send me your best current rate and fees etcwith these exact loan parametersit took the rep from nasb over week to respondso replied to himthanks but you are too late have selected someone else and already locked my rateover the following few weeks continued to receive emails from him sayingwhen you are ready to proceed with your loanlet me knowwe closed on january 8thand on february 5th got another such email guess he didn really ever read my emails also told him on the phone that he had missed the boatbut that seemed to fall on deaf ears tooat the end of round onehis rates and fees were very competitive thoughpretty near the best of the bunchread more',\n",
       " ' was working with loan consultant from nasb and she told me that she would give me rate of 87for 3year fixed loan with total closing cost of230asked her to send me the good faith estimatethe good faith estimate came with total closing cost of292which is about60more than she mentioned during our conversationwhen called her for explanation of the extra60she said that there is state tax 541which she was not aware ofwhat an explanationshe knew my state from the beginning and repeatedly asked her for totalclosing cost and that time she repeatedly said it will be230as loan consultant she should have known that there is something like state taxthat might come later and should have mentioned that to me am not supposed to know what are the different compoents fees or taxes that apply during closingshe does this everyday and she could have been honest with me from the beginning expected honest communication from loan consultant from nasb bank and did not receive that am very disappointedread more',\n",
       " 'the interest rate offered and time to close being short sold us on the loan so we pursued it despitethe fact that credit check and underwriting was made when per va rules for an irrrl these were not necessary and we were assured by mrowens when first discussing the refinancing they would not be madethe constant errors in the paperworkone huge error was the loan estimate had rolled in initial escrow funding into the loan amount when we expressly communicated at the beginning that we did not want to finance it but pay for it at closing from available fundsanother was not classifying the currently owed property taxes as prepaid for immediate disbursement to the county but trying to collect it at closing rolling it into the initial escrow account to be paid in december just month later during the time nasb intended to sell the mortgagethankfully this was corrected by the closing agentmrowens not being straight with us about nasb intent to sell the mortgage after closinghis statements of first saying nasb would not consider sale and intended to keep the mortgage on its books then after the statement it would be sold appeared in the loan estimate saying sale was not definite but only therejust in case it had to be sold sometime in the futuresince todayjust days after disbursement find out that our mortgage is on the books for immediate sale shows mrowens likely knew of definite sale and tried to mislead us by saying it wasn definitetaking calendar days to address errors and issues in the initial closing document which prevented us from knowing the amount we were financing and the amount we needed to pay at closing which was supposed to be made through certified check until 1minutes prior to arrival at the closing agent place of businesspros allow for the neutral instead of bad rating because thedespitesshow that the customer support during this loan process was extremely poor and unacceptableread more',\n",
       " 'they increased my ratequoted me different closing costs different timestook months to get to closingand needed information that should not have mattered in the least',\n",
       " 'we worked with jon barrett in processing our refinance loanthis was very quick and issue free process appreciated how jon kept us up to date through the whole process explaining the process as we went through it',\n",
       " 'the rate re lock in rule was not followed',\n",
       " 'good newsthe99processing fee was waivedthe rate was locked for 3days but they closed in weeks did not have to pay for an extensionthey have also floated my rate down percent without any feesuntil the closing did not pay anything other than credit history check feenot so good newsthis was very long and frustrating experience do believe that the process took longer than expected mostly because of the busy refinance season might be difficult customer or may be just unlucky but there was always problem with every stage and detail of my refinance experience am trying not to blame theloan consultantbyron housworthfor thiswhenever asked about any time linethe answer was fixedin week or so had to wait for nineweeks to closeit was my luck that his vacation week was in the middle of my processif nasb needs document they will wait until the last minute and then come backoh we need this document or else we can continuewhen you have that one taken care ofthey will wait week or soto get back to you and next week you will hearit turns out we also need this documentthis went on and onthe day before the closing they would email me and saywe just noticed that we didn have your employment verification donehours before closingoh we just found out that we don have your home insurance verification and we can reach them called the insurance company and in ten minutes it was taken care of don know how many times had to hearthis should be okand turns out it is not okmany many times they assured me they have all the information they needbut this was never the casethey were not very carefulthey missed out all the detailsthey wasted weeks and weeks because they were not able to go through check list and see if they have taken care of everythingthey always saywe are too busy with lot of applications believe they shouln accept applications that they can processsample communicationmewhy am being charged for such and suchrespondwe are not charging you for thatmeplease check the final hud line xxrespondsorry didn go down that farmesome of my favorite quotes from themsorrydon come across this too oftenwasn aware of thatthis should workcan you possibly call them againwe need it asapthank you for your patiencetgif had to hear this timesthey are not bad peoplebut you need lot of patience dealing with themdo suggest working with themonly if you are not under any time pressureonly if you can work hard for your own applicationonly if you have lot of patienceoverall feel like nasb is an ok bank to work withbut don think could handle this hassle againread more',\n",
       " 'where as we did not end up taking loan from this company can comment on the fact that the broker matt was quick to try to get my businessas soon as he found that there were complications with the mortgage insurance he stopped having any contact with mehe would not return my callsor emailsonce finally got hold of him he was short with his answers and offer little help when asked for details on the complicationswe went with different company for our loanread more',\n",
       " 'this closing went pretty smooth with the exception of few bumpsthe customer service agent was prompt with responses as well as document transfers was not keen on doing refinance all electronic through email and phonebut have to saythe process was easy and went well got great rate and the closing costs were goodthe only issue had was at closingthe final documents were written for 3year loan and it was suppose to be 2year loanan issue happened at the final writing so did not close on the specified closing dateit happened day later after the papers were rewrittenit was great they were able to resolve it in one daythe bad part was got charged rate lock extension fee as my rate lock expired on the day was suppose to close am sure could have fought them on the fee as it was caused because of their mistake but now was closing on new years eave and did not want to carry the closing over to the new yearread more',\n",
       " 'great customer service and very helpful',\n",
       " 'very helpful and great customer service',\n",
       " 'you can tell about his character and honesty from the very beginning couldn be happierthank you mark',\n",
       " 'buying house is the most stressful thing have donespecially with the developer company had to deal withbut mark and his team were the bestthey were always helpfulon timeand went the extra mile to help me and solve all my questions am really happy chose themfrom the very beginning they showed their professionalism and their customer care skillsfrom the bottom of my heartthank youfor helping me get my first homeread more',\n",
       " 'mark and his team were very helpful and provided great experiencefast closing and competitive rates',\n",
       " 'bob did amazing jobprocess was smooth and stress freedefinitely responded super fast and helpful10satisfied',\n",
       " 'very professional yet personablequick to help with any questions or obstacles to the funding process highly recommend peter lammerts and his team',\n",
       " 'it was pleasure to work with christopher waymire through the processhe made it easy and painlesshis staff and supporting team was awesome highly recommend their company',\n",
       " 'great first time home buying experiencehave already recommended triumph to friends and familythe communication is what really made the differencestephanie and staff were quick to respond to my emailsanswering our questionsand providing reassurancethat is something that seems to belacking these days when it comes to conducting business',\n",
       " ' was trying to decide between triumph lending and much larger company whose name starts with q and they have spaceship logo m so happy went with triumphthe other company got all needy and wouldn stop trying to call me once chose triumphhowevertriumph didn play any games with methey responded more quicklythey took the time to educate medidn use any gimmicky sales techniquesand were pleasant to work with through the whole process m so happy with their workthat m going to use them again when buy rental property next yearread more',\n",
       " 'this was my first home purchashoweverwith peter and monica supportthey made this such an easy and smooth process always hear about the stress and challenges when buying housebut the day peter called and told me we were all good to go and would be closing in couple weeks laughed and honestly thought he was jokingthat how simple and quick they were with my loan was actually able to enjoy the entire process from application to closingtheir response time to emails was unbelievableyou would have response within minutes at almost all hours of the dayall in allthey exceeded the bar with customer servicewould of given them 10stars if it was optionwere extremely fast in the loan processgot me an outstanding rateand continued to call all the way through closing to make sure everything was going wellif you re in the market to buy home or refinance peter and his team are the ones for youthank you so much for all you did can never thank you enoughall the best to youread more',\n",
       " 'andy was an incredible resource and guide throughout our first home buying experiencehe is highly skilledalways willing to helpand perhaps most importantly of allunderstandinghe answered my countless questionseven through text messages at nightwith calm and professional demeanor that absolutely reassured me throughout the closing processwe plan on refinancing in few years and we have the utmost confidence that andy will be able to provide another superior experiencelooking forward to working with you againandyread more',\n",
       " 'thank you peter for always getting back to me right away with any questions and making sure this was smooth process and my loan closed on timewe appreciate this so much',\n",
       " 'found triumph online and reached outwe loved that they were very easy to get hold ofanswered all our questions and went above and beyond to make sure we understood the whole processthe team is very responsive and keeps up with everything you still need going forwardwe closed late on friday and funding happened relatively fast without any hiccupswould hands down recommend them anyone purchasing house as they made the process run smoothlyread more',\n",
       " ' had good gut feeling about triumph lendingbut wasted lot of time checking with few other mortgage companiesthose other companies were all over the mapthere were two never heard back from after the pre approval stageone of them completely ignored one an email sent as follow up to phone callanother waited month to call me backtwo of them promised information and ever provided itthe real prize winner was particularly pushy and was completely unprofessional when informed him had decided to use triumph lending because they re closing costs were thousands of dollars lowerbut everyone worked with at triumphmostly vanessa floresloan officeralina vargasloan processortook every question seriouslynever failed to respond to requestquickly and accuratelyand know it sounds clichebut felt like was more than just number to themthanks to themmy wife and are getting our first homeread more',\n",
       " 'vanessa wasin wordfantasticshe was there for me every step of the waywith perfect balance of professionalism and enthusiasmshe was always very quick to respond to respond to my questions andeven more importantlyher answers were always right did check with few other mortgage companies and their representatives couldn hold candle to herread more',\n",
       " 'it was pleasure with johnbesides all the fees and closing costs being lower than other brokers that reached out tojohn was involved in every step of the wayhe was on top of every element of the transaction and communicated timelynothing was left to chance and even the loan was ready to be funded one week prior to closing dayhaving shopped around and compared other brokers know made great decisionfinancially and for peace of mindgoing with john would not hesitate to recommend his services to anyone looking for home loanread more',\n",
       " 'triumph was extremely efficient was so pleased with the streamlined processes and use of technologythe entire team that we worked with was knowledgeableprovided real time feed backand very personablewe had an awesome experience with triumph and will definitely recommend to other home buyers',\n",
       " 'excellent customer servicehad great experience working with lender marcos mayateam',\n",
       " ' cannot say enough great things about peter and his teampeter was always availablealways responded right away and answered all my questionsnot only did he answer my questionshe took the time to explain everything in detail and made sure understood the answer and or process',\n",
       " 'buying house can be painfulyou have to fill out applicationsproduce proof of financialsetcbut chris and his team made this easythey were so easy to work withvery organized and always ready to answer question or explain why something was neededchris is friendlyknowledgeable and professionalhe always had our best interest in mind and communicated with us every step of the waybest home loan experience we have ever hadread more',\n",
       " 'stephanie was amazingshe was side by side with us during the processanswering all our questions and fighting for usshe did more for us than our own realtor absolutely recommend her and her teamyou guys rock',\n",
       " 'stephanie was amazingwe just bought our first house in houston and we can be more thankful for all the patience and help she gave usworking with her was pleasureshe did more for us than our own realtor and ll never forget itthank you stephanie you re the bestwe highly recommend her',\n",
       " 'great experiencegreat people',\n",
       " 'working with chris was easyhe listens to your needsunderstands them and does his best to meet themhe is openupfronthonestcommunicates quicklythorough and delivers high level of customer servicehis under writing and processing was the best and fastest ve ever seenif you want great loan experience then do business with chrishe won let you downread more',\n",
       " 'great to work withvery responsive to all my inquiries',\n",
       " 'stephaniealina and phillip were great to workthey made the process quick and painlesshighly recommend',\n",
       " 'stephanie was greatshe was pleasure to work with and gave solid advice throughout the processthanks againstephanie',\n",
       " ' really enjoyed the services provided by stephanie drewry and her teamthey were very friendly and professionalthey always responded quickly and had great advice throughout the lending process',\n",
       " 'bob did amazing jobif can give more than stars wouldprocess went so smooth and stress freedefinitely will respond super fast and super helpful10satisfaction',\n",
       " 'stephanie and her team were fantasticthe most helpful and responsive lender ve ever worked withthey really go out of their way to provide the best customer service possiblewould recommend to anyone',\n",
       " 'working with chris was an excellent experiencehe is knowledgeableand he follow up with mein every step of the wayit really make big difference to work with professional like himthank you chris for all the time and effort you put in our deal',\n",
       " 'chris is not hard sell guyhe earns your business by giving you great deal and working hard for youchris was always responsive andmost of the timereached out to me before even contacted himhis follow up is great as well highly recommend himif you do your part and provide the required information to obtain your loanthis man breaks speed records getting it donetwo thumbs upread more',\n",
       " 'chris waymire and his team were spectacular was first time home buyer and was chris triumph lending were suggested to me by mutual friendchris and the triumph team were responsive and were very proactive in every stage of the dealthis guy is the real deal highly recommend financing through chris',\n",
       " 'chris waymire and his team were spectacular was first time home buyer and was chris triumph lending were suggested to me by mutual friendchris and the triumph team were responsive and were very proactive in every stage of the dealthis guy is the real deal highly recommend financing through chris',\n",
       " 'triumph lending has great team that will walk you through the lending process hassle freethey treated me with great care and made sure to answer any questionsthe pre approval process was easy to completeand the team were quick to respond every time needed pre approval letter for bidding on homethey were able to close on our house within month as wellread more',\n",
       " 'stephanie drewry took such wonderful care of uswhile we were purchasing home in another state felt as though we were the only customersbecause we received such personaltimely care',\n",
       " 'from the very beginningthe lending tree took excellent care of uswhile we were buying home in another stateevery daythey stayed on top of each stepto get our closingcompleted on the seller requested datethe lt team worked together like well oiled machine',\n",
       " 'awesome staff that works well together to support customers throughout the lending process marcosmonica and jc did phenomenal job keeping me informed and answering all questions had about my loan and the process',\n",
       " 'marcos and his team were there every step of the way for usevery time we reached outwe received response within minutesthis goes for callstexts and emailsmarcos made this process as easy as could imagine d recommend him and his team at triumph to anyone',\n",
       " ' started process for mortgage loan with triumph lendingnetwork fundingin houstontx was given pre approval quickly with great interest rate was continually informed via email and phone calls thorough the entire process of the loanmy representative from triumph lendingpeter lammertsworked tirelessly to make the best deal possible for me in terms of closing costs and interest rate on top of always being available to answer any questions on loan thatto begin withlooked like it was going to be an easy mortgage loan to processuntil some difficulties on my credit report showed uppeter was very diligent to work on the issues and was able to overcome all of the obstacles in order to do the mortgage closing on time and with my best interest in mind highly recommend peter lammerts and his team for their professionalism and efficient service read more',\n",
       " 'john and his team were greatbest lender process ve had with mortgage',\n",
       " 'marcos is tremendous asset to triumph lendingboth he and katie were extremely helpfulexplaining each step of the waykeeping us informed of all progressand accomplished everything they said they would dowe closed on timeon the last day of the month as plannedin the midst of high tension from all partiesgreat job',\n",
       " 'the team were great to work withexperienced and professional few bumps with seller at the end and triumph pushed through and we closedand on timethank all',\n",
       " 'stephanie did great job and kept me informed at all timesshe seems to have put together an excellent team that all focus on getting the job done and done right',\n",
       " 'it was great experience working with stephanie and her teamthe loan process went so smoothly that we were able to close days earlier than expectedmy realtor had not worked with triumph before but she made the comment at close that the process went so smoothly because of the great lender and title company that we used would definitely reach out to triumph for any of my future lending needsread more',\n",
       " 'bob and triumph beat other lenders rates and were prompt with approval and closing',\n",
       " 'bob called me checking on me and answered questions via email within minutes or no later than an hourhe reassured me when another lender was trying to make me think that there were problems with triumph and followed my gut and stuck with bob and triumphbob and katie were amazingthey beat the other lenders rates by of percentage and saved me on closing costs as wellthe other lender was more strict and closing costs were higherhe is amazing and now we have our home and could not be happierread more',\n",
       " 'went above and beyond to make sure had as much information needed to close on my homegreat job by kevin and team to stay connected and provide timely communication to close earlyhe truly cares about the individual and families and provided great overall experience for one of the more stressful times in someone lifegreat job overall and thanks again for all your hard work and information that was super helpful truly appreciate his approach and confidence he earned with me knowing he will do what is right for us and his customersread more',\n",
       " 'we had the pleasure of working with john guerra for our condo purchasehe made our home loan process much easier than we expectedwill definitely recommend to family and friends',\n",
       " 'stephanie was awesomeworked very hard for us to make sure the loan closed',\n",
       " 'triumph customer service was greatstephanie worked very hard to ensure we closed on time and to address resolve issues that arose prior to closing suggest you use them and specifically request stephanie drewry',\n",
       " 'this is the second time have worked with glen for home mortgageeach time the process went smoothlythis second time we also had janel and salvador helping out was impressed with their responsivenessjanel even answered questions during non business hours and was great with follow up highy recommend them',\n",
       " 'john guerra was super fast in responding and explaining the processit was the easiest loan process have done',\n",
       " ' worked with steven castaneda few years back when we were looking at buildingwe ended up getting pregnant and deciding to hold offsteve did not push or harass me with calls or emails which appreciated few years later when we decided to move forward with sale and purchase remembered how helpful he was and the time he spent explaining things to me before so contacted himhe wasagainvery helpful walking me through it all and answering all my questions about the process knew very little about home buying and really appreciated the timewe just closed on our dream home and everything went very smoothread more',\n",
       " ' worked with steven castaneda few years back when we were looking at buildingwe ended up getting pregnant and deciding to hold offsteve did not push or harass me with calls or emails which appreciated few years later when we decided to move forward with sale and purchase remembered how helpful he was and the time he spent explaining things to me before so contacted himhe was again very helpful waking me through it all and answering all my questions about the process knew very little about home buying and really appreciated the timewe just closed on our dream home and everything went very smoothread more',\n",
       " ' have been working with john for the last few years placed few offers in different houses and no luckbut john was always there having all the documents needed readyjohn attention to detailsresponsiveness and customer service was second to nonehe was there in all the failed offers and it was joy when finally we had an acceptedjohn was always available by phone or email and responding almost immediatelyjohn helped us to make buying home smooth and enjoyable processloan documentation was easy to manageif you are in the process of buying or refinancing your homelook no further than working with john guerraread more',\n",
       " 'matt pierce went above and beyondhe was able to make suggestions that didn know about due to his experiencehe also answers at almost every hour of the week feel like he worked more hours than he should have for the commission he probably received will definitely be contacting him about my next loangreat guynever got annoyed with all my requestsnever felt him express frustrationwouldn blame him if he wasalways pleasant to talk totexting him made the process so much easierread more',\n",
       " 'matt pierce went above and beyondhe was able to make suggestions that didn know about due to his experiencehe also answers at almost every hour of the week feel like he worked more hours than he should have for the commission he probably received will definitely be contacting him about my next loangreat guynever got annoyed with all my requestsnever felt him express frustrationwouldn blame him if he wasalways pleasant to talk totexting him made the process so much easierread more',\n",
       " 'chris waymire is the loan officer that worked with and had been in contact with him for sometime before purchased my homehe was very helpful and knowledgeable about the loan processhe made my loan process very easy and had no problems getting qualified and no delays in the process all the way up to my closing would recommend chris and triumph lending to any of my family and friendschris helped me get into my dream home and am truly thankfulread more',\n",
       " 'very friendlyknowledgeableand willing to answer any questions would highly recommend him for any refinance or home loan',\n",
       " ' just refinanced my house with loansnapthis company is amazingeveryone dealt with was friendlyknowledgeableand willing to answer my questions would highly recommenced loansnap to anyone that is looking to refinance their homemy loan officer was dyllon i would highly recommend himhe is very knowledgeable and makes the whole process seem easy',\n",
       " 'buying home is complicatedthere multiple partiesand competing interestsand it can be really stressful and frustrating experiecnewhat helps enormously is working with lender that is upfront about what it can offer and acceptin terms of type of loantype of propertydownpaymentand timing of close received call from dlj when my previous lender changed terms on me two weeks into escrowand in desperation had filled out the lending tree form in the hope if finding new lenderat the time honestly thought my purchase was going to fall throughthe next day received call from number and lender didn recognizeit was dljam glad answered the phonewithin minutesadan munoz had me back on trackdlj team wasacross the boardknowledgablearticulatewell coordinatedcalm and constructivethey offered product that met my needs perfectlyand got me across the finish line in record timespecial shout out to the focusedunflappableand highly responsive ranee martinezread more',\n",
       " ' appreciated the teams thoroughness and constant updates throughout the entire process',\n",
       " ' just want to thank robert mcclung and janeen cadwell for their kind assistance through the loan processalthough had many questions in the beginningrobert provided the information required to make me feel comfortable with refinancing our homewhat great experience and highly recommend dlj financialthanks again robert and janeen for the great service',\n",
       " ' dealt with robert mcclung and when were hitting some bumps in the road he was persistent and managed to get our business loan throughhe a real professional and knows his business d love to deal with him again if we have the opportunity in the future',\n",
       " 'great person to work with who had never give up attitude',\n",
       " 'incredibly responsive and completed the process with little effort',\n",
       " ' great lender to work with',\n",
       " 'brian is absolutely the best to work withhis response to any question is lightening quick an his attention to detail is second to nonemost of the time dread the loan process but with brian and sekaniit was truly painless and easyif you want loan officer who instills confidence and is dedicated to serving his clientslook no further than brian appreciate the help guysread more',\n",
       " 'ethan our mortgage banker from dlj financial was absolutely pleasure to work withfrom start to finish he kept us updated and in the loopthe process of our heloc was fast as welllisa the processor was very kind and attentivefrom the first phone call had with ethanhe was very detailed and had nothing but my best interest in mineethan has definitely earned my business for many years to comeread more',\n",
       " 'adan is great loan officerhe is always responsiveknowledgeable and has your best interest at hearthe is good to his word and on top of everythingthank you so much adan',\n",
       " 'adan munoz apparently does not sleep because he is responds to any question almost immediately refinanced my home and the process was smooth because adan was so on top of everythinghe got me the best rate and kept his wordmy only concern was that he was slow to give me loan estimate with the agreed upon rate and terms bc it appears they were waiting to see if the rate would go downwhen it didn he honored his wordwhich is really the best thing one can ask forhe is patient and good at explaining thingstrust me bothered him with many questions and he was always kind and professionalclosing went as planned and within 3days trust dlj and adan fully and that means lot with such huge investmentread more',\n",
       " 'super responsive and very thorough will look him up for the next transaction haveall questions or concerns were answered promptlyben',\n",
       " ' worked with anthony and ranee for the refinance of my current fha loananthony was very through and explained everything with detail during the entire process of the loanranee was also super thorough and easy to deal with would have no issue of using them again for my mortgage needsdljs process was mostly all online and worked flawlesslyben',\n",
       " ' had the pleasure of working with anthony for our home refinancemy husband and throughout the yearshave refinanced and acquired many home loans can honestly say that anthony has been the best mortgage banker we have ever had the pleasure of working withanthony was very prompt and responsivealways answering our phone calls and emails within timely manneroften times on his days off or after hours would recommend anthony to anyone that is looking for painless refinance or home loanread more',\n",
       " ' had the pleasure of working with anthony marroquinthroughout the yearsmy husband and have worked with many different companies to refinance or acquire home loanswithout doubtanthony has been the best mortgage banker that we have worked withanthony always responded swiftly two emails and phone callsoften times on his days off or after hoursanthony was always professional and knowledgeablehonestlyhe made us feel like we were his only clientoften timesrefinancing your home is stressful and laborious processanthony made our refinance painlesswe would recommend him 10read more',\n",
       " 'lee team of ethan and angelica did fantastic job making my loan happen had complications and they figured out way to complete the loanvery happyjim',\n",
       " ' agree with her of star reviewshe was easy and clear to work withfrom the hello onvery knowledgeable and direct in her conversations which is my styleshe worked well as team with the processor thatasks for all your documents had very smooth transaction and was successful at having my loan fundedvery happy to have worked with michele and will call her for future dealingsread more',\n",
       " 'just got funded with dlj and it was very smooth transactionmichele neal was pleasurefrom the hello onshe was super communicative professional and available at all timesshe worked with sekani hamiltn who processed the loan and was also in constant contact with methey were great teamsekani was attentiveresponsive and both were very knowledgeable in the fields wouldn hesitate to use dlj in my future for any of their services had good experience working with both of these customerservice oriented people who reflect dljread more',\n",
       " ' had great experience working with adan munoz and his team at dlj financialadan and began working on refinancing options for our home but we decided to relocate and selladan stayed with us and helped us secure mortgage on new homethe process was painless thanks to adanlee kulick and janeen cadwelltheir knowledgekindness and prompt responses to all of my questions and concerns made my whole experience very pleasantwhich has not always been the case when dealing with lenders in the past would definitely recommend dlj financial to anyone looking for new loan or refinancing optionsread more',\n",
       " ' worked with adan munozand the loan processor janeen cadwell on refi and felt like we were all team trying to make this loan happenwe had our ups and downs as most loans will with conditions and underwriting guidelinesbut they got it done for me in the end and am very pleased with the service gotthey are top notch and would recommend them to anybodyread more',\n",
       " 'anthony marroquin and his team were knowledgeable and provided me with clarity through the entire re fi processif you are looking for crediblecost effectiveefficient and solution oriented mortgage brokergo with anthony marroquin and dlj financial',\n",
       " 'anthony marroquin and his team were knowledgeable and provided me with clarity through the entire re fi processif you are looking for crediblecost effectiveefficient and solution oriented mortgage brokergo with anthony marroquin and dlj financial',\n",
       " 'jaclynmaribelfirst time doing refi completely onlinewe have owned several properties for over 4yearsdlj senior mortgage banker jaclyn and maribel were both courteousprofessionalknowledgeable to every extent and made this choice with dljone we wish we had for every property purchase or refi we made in the pastseemless and delivered on every promise made on day onewe couldn have been happier for the service they provided and the manner in which they provided itstar all the way aroundthank you to both of you and your dlj teamread more',\n",
       " 'anthony marroquin was my primary senior mortgage bankeranthony patiently and thoroughly fully explained everything to me step by step from start to finish while exploring all options for the best results went with dlj because of anthonyhis individualized carehis competenceand his commitment to making all the right stuff happenas anyone who is in the financing market knowswhen you begin to research options you are swamped by endless phone calls and texts from dozens of companies all offering everythingbut usually not disclosing the downsides or hidden feesanythony is so savvyfinancially creativethoughtfuland thorough that chose to work with him and dlj versus any other companyanthony walked me through all the steps and requirements from beginning to successful finishthus my stars for anthonyif and when do further refinance will go to anthony marroquin and dlj financial for the best service and optionsread more',\n",
       " 'recently successfully financed home loan through dlj financial andsenior mortgage banker anthony marroquin had discovered that traditional banks and online financing companies were impossible for me to work with because they held against me my record of variable income am self employed freelancer and multi emmy winning reality tv producer who works for more than decade on major network serieshoweverdlj carefully evaluated everythingtreated me as unique person rather than just bunch of standard numbers to be crunched and averagedand they made it all happenstraightforwardlyfully explainedand with no glitchesanthony marroquin patiently and thoroughly fully explained everything to me step by step from start to finish while exploring all options for the best results went with dlj because of anthonyhis individualized carehis competenceand his commitment to making all the right stuff happenas anyone who is in the financing market knowswhen you begin to research options you are swamped by endless phone calls and texts from dozens of companies all offering everythingbut usually not disclosing the downsides or hidden feesanythony is so savvyfinancially creativethoughtfuland thorough that chose to work with him and dlj versus any other companyanthony walked me through all the steps and requirements from beginning to successful finishthus my stars for anthonyif and when do any further financing in the futureit will be with dlj andanthony marroquinthey have my highest recommendationread more',\n",
       " 'we are grateful that we came across adan muñozhe was knowledgablekindand professionalhe always remained calm and helped us with our questions every step of the wayour underwriter was helpful as well and made the process seamlesswe appreciated the secured email system that was used as wellour loan closed earlier than we expected and we are happy with the resultsread more',\n",
       " 'we are grateful that we came across adan muñozhe was knowledgablekindand professionalhe always remained calm and helped us with our questions every step of the wayour underwriter was helpful as well and made the process seamlesswe appreciated the secured email system that was used as wellour loan closed earlier than we expected and we are happy with the resultsread more',\n",
       " 'adan munoz was very responsive to our needs in refinancing our mortgagehe was available to useven after hours when necessary highly recommend dlj financial',\n",
       " 'jaclyn was super friendly and awesome to work withjaclyn is very easy to talk to and explains everything so you understandfive minutes talking to her sold us on going with her firmwe talked to two other companies and neither company could compare to hershe made the whole process very easy and worked hard to give us what we needed would surely call her again should we need anything in the futureread more',\n",
       " 'we were shopping around to refinance and came upon dlj financialthey listened to what we wanted and worked very hard to give us what we neededwe had gotten quotes from two other companies and they couldn even compare to dlj financial our customer service rep jaclyn martin work hard to give us everything we wantedshe explained every step of the process and was always there to answer all of our questionsshe was super friendly and easy to talked to loved working with her and sakani hamiltonthe experience was not stressful and everything went fastwould surely work with them againread more',\n",
       " 'fantastic communicatorand able to offer options you may not have consideredthinks about the big picture and how to best achieve your long term goals',\n",
       " 'it is simple reallydoing re fi is lot of workand can be stressfulwhat you look for in company is one that is going to handle all that for youand work to your best interestas well as present ideas to you that you may not have known were optionsonce your strategy is underwayyou want communicationupdates and overall insight as to how the process is goingand those three things should happen easily and in non invasive waydlj checks off every box mentioned above would highly recommend them to anyone that wants to do re fi correctly and with minimal stressread more',\n",
       " 'this man is amazing said it all in the orginal review would deal with him again and againthank you bryan',\n",
       " ' am going through break up of 1year relationship so things are hard and im trying to find my way forward delt with several pushy finace companys that just didnt likethen came accross bryanthis man was amazing he answered any questions had kept me in the loop and emailed me anything asked foron top of all that he listened to my woes about my current relationshipthis little bit of compassion and humanity is why decided to deal with bryaneverything went smooth and now im going to bring my mother to bryan to get her refi done would use this company in the futurethanks bryanread more',\n",
       " 'bryan was definitely the best loan officer ve come across in yearsexcellent communicatorknowledgeable and on top of the processhighly recommend',\n",
       " ' have purchased properties in ca in the past 1yearsand this was by far the best experience ve had with lenderthey were quickfairdetail oriented and great communicatorsplease note am also in real estateand have had clients go thru terrible experiences with larger institutions recentlybryan is really on top of the process and is very knowledgeablewill be using them again for personal useand also referring them to clientsread more',\n",
       " 'paul did great job from the initial call and email from my inquiry requestto the final stages of the processhe and his staff worked well to get our loan done in timely mannerwere always available and came through with the loan and rate he said he get us d recommend paul and will use him again in the future as the need arises',\n",
       " 'ethan and peter worked tirelessly to close out my loanthey were extra attentive to my questions and explained the whole process in detailthe team was responsive and polite called many institutions but in the end it was dlj and ethan who earned my business can not be happier with the results',\n",
       " 'as first time home buyer the process can be very dauntingbrandon was great guide through the entire process feel that he did his absolute best to provide me with fair ratehe was very responsive and helpful with any and all questions can assure you will use him for my next home purchase',\n",
       " 'absolutely the best service used them twice for my own loan and they are my preferred lender to send my clients tothey answer all questions from application toclosejo ann is extremely knowledgeable and works well with first time or repeat buyersher team makes sure everything goes smoothly and closes on tineexceptional service',\n",
       " ' first met penny several years ago when began getting information for home loanat that time my income was not high enough to secure loanpenny took the time to work with me and gave me the information needed to be able to secure home loan at some future datethat time finally arrived in july of this year and penny helped me through all of the details of financing home loan always felt penny was in my corner from the time that met herpenny is friendly and has very caring way about herbecause of her commitment to me and getting the loan was able to purchase beautiful two bedroom condo which also has finished basementthanks to penny now even have man cave couldn be happierread more',\n",
       " 'we have bought and sold multiple properties in our lifetime and had many experiences with lendersbut the one with brandon mears was unique to say the leastbrandon is true professionalhonestefficient and supportive at level we never experienced beforehis commitment in finding the best loan and saving opportunities for us was quite remarkablehis constant support and frequent communications made us very comfortable with our decision to work with himphone callstextsemails were answered almost immediately and his follow up was impeccableread more',\n",
       " ' worked with sam fazio on home purchasenot only did he provide me with low interest ratelow closing coststhe process itselfwas seamlesshe was detailed in his explanation of the mortgage processintroduced me to everyone on his teamwho were all wonderful as welland my loan was clear to close way ahead of schedulemy realtor and my attorney were super impressed with the service he provided me recommend sam fazio to everyone know who is looking for mortgageread more',\n",
       " ' worked with sam on home purchasenot only did he provide me with low interest ratelow closing coststhe process itselfwas seamlesshe was detailed in his explanation of the mortgage processintroduced me to everyone on his teamwho were all wonderful as welland my loan was clear to close way ahead of schedulemy realtor and my attorney were super impressed with the service he provided me recommend him to everyone know who is looking for mortgageread more',\n",
       " 'friendlyknowledgeableexperienced in the industryone of the best companies ve had to do business withand would and will use again upon my next purchase of home or refinancejim moore and his team are on of the best here in raleigh north carolinayou can look forward to being on of the guaranteed rate familyand just smiling',\n",
       " 'penny has been nothing short of amazingpenny has helped my wife and multiple times get into mortgages that fit usand we are comfortable withshe works hard day and night to make her customers happyand has truly changed our lives for the better',\n",
       " 'penny is pleasure to work withshe works very hard to find the best rates and decisions for our mortgage purposesshe works at fast pace with quick responseswe enjoyed working with penny and have referred her to many peopleour referrals let us know they were happy for the recommendation and couldn have asked to work with someone better strongly encourage you to give penny call with all your mortgage inquiriesread more',\n",
       " 'good servicevery helpful people',\n",
       " ' met mrgermain through my daughter and son in law who have known him and have done business with him for several yearsmrgermain also helped my granddaughter buy her first homewe moved from our home in another state that we lived in for 5yearsthinking this would be very frightening and intimidating process was dreading the whole thingmrgermain made the transition to new home so much easier because of his knowledge and compassion would recommend mrgermain to anyone out there who wants less stressful and very positive experienceread more',\n",
       " 'dean was easy to contact and work with throughout our lending processthe home purchase experience from our pre approval letter to the closing table was excellentdean is extremely responsive and his team provides great tracking for the closingdean has been in the industry for years and provides not only great servicebut tremendous expertisehighly recommend',\n",
       " 'dean has been such huge helphe took my call when he was off work and gave me his undivided attentionhe helped me land my dream home would highly recommend him to anyone looking for lenderand do so on regular basis',\n",
       " 'very profession able and knowledgeable of the industryvery helpful',\n",
       " ' have worked with dean professionallyafter seeing how well his other transactions went decided to use him for my personal loan was very impressed with his knowledge for the loan industry and his professional manner in all aspectsmy refinance went thru without hitch am so happy trusted his advice highly recommend deanplan to use him for my next homeread more',\n",
       " 'dean made the homebuying process so simple for my husband and as first time homeownersit can be so overwhelming trying to find the right rate and learning all the lingodean helped us every step of the way and two years later we are still so happy in our home highly recommend him to anyone looking for someone to help them get their dream home',\n",
       " 'dean was professional and very informative right from the startit was impressive how quickly he returned correspondence and updates on our loan status and questions we hadour conventional loan closed in the time frame dean gave us and he worked hard through some unforeseen issueswe could not be happier and will certainly recommend dean germain and be confident they will receive the same top notch experienceit is clear dean is passionate about his clients and the mortgage productread more',\n",
       " 'this was our first house so of course we were freaking outbut thanks to dean he made the whole process easyhe was very patient in answering my thousands of questions and walked us through every stephe had great communication highly recommend him and when we are ready for our next house he will be who callthanks again for everything',\n",
       " ' spent weeks working with numerous brand name banks and lending intuitions to refinance my home assumed this came after particularly opportune timeas just completed full cycle in my full time employment position had all the documents uploaded within day or my incomecredit score401k balances were all quite respectablehoweverrather than being met with the highest degree of professionalism was met with stumbling blocks of bureaucracythen was very fortunate to find michael and his most dedicated professional staff at guaranteed rate was prepared once again for anythingother than the professionalismsensitivityand quickand at the same time responsibleturnaround immediately receivedthe closing coststitle insuranceetcwere the lowest have ever seen closed this weekoriginal mortgage paid offmoney in my accountall with the most respectable and free flowing experience imaginablethank youmichael and crewjacob koppelread more',\n",
       " 'marcus was great to work withwas always quick to respond to any questions hadwill deff recommend and use in the future',\n",
       " 'our last home purchase was stressful and challenging process to say the leastone so difficult that we were reluctant to embark on the process again since that was the only experience we have knownexpressing the dread of the journey to our realtorhe recommended for us to use guaranteed rate and to trust him on this recommendationwe are so happy that we did because we were absolutely blown away with guaranteed ratethis time around was such breeze because of rick richter and his wonderful teamthey broke down the process beautifullyeliminated any guessworkand were always available for any questions or clarification guarantee that you will have phenomenal experience with guaranteed rateread more',\n",
       " 'our last home purchase was stressful and challenging process to say the leastone so difficult that we were reluctant to embark on the process again since that was the only experience we have knownexpressing the dread of the journey to our realtorhe recommended for us to use guaranteed rate and to trust him on this recommendationwe are so happy that we did because we were absolutely blown away with guaranteed ratethis time around was such breeze because of rick richter and his wonderful teamthey broke down the process beautifullyeliminated any guessworkand were always available for any questions or clarification guarantee that you will have phenomenal experience with guaranteed rateread more',\n",
       " 'guaranteed rate entire team was very helpful and responsiveamazing customer service and appreciate their hardwork',\n",
       " 'simply awesomeresponsive and very helpful',\n",
       " 'jason chandler and his team worked so hard to ensure that we were able to purchase our beautiful home can explain how difficult our situation was and everything that could ve possibly went wrong managed to go wrongwe were so frustratedjason kept us on the right track and helped us resolve all our issues and was able to close our loanwe will forever be grateful for him and his teamthank you guys defiantly recommend this company to everyone needing home loanread more',\n",
       " 'guaranteed rate provided us seamless loan experience from beginning to endwith wonderful service from all the staffwe shopped many lendersbut found guaranteed rate offered the most candid feedbackhonest ratesand reasonable feesthank you',\n",
       " 'rick and his team with guaranteed rate are fantasticour experience was delightful from beginning to endwe recommend rick highlythank you so much for all the hard work to make our buying process go so smoothly',\n",
       " 'tom was pleasure to work with and really took the time to answer all of our questionshe always answered his phone when we called and went above and beyond to make sure we had good experience have since referred three friends to him who all had similar experiencestom is very knowledable and is the best in his industryyou ll be hearing from us againtomthank you for everythingread more',\n",
       " 'this was such an easy and quick processthe team was very responsive to any questions that hadwould definitely use them again and recommend themstars',\n",
       " 'gregory understood my needs and he was able to listen and helped with the processwe closed in timely fashion',\n",
       " ' worked with scott on two mortgage experiences and they both were incrediblehe was in front of all the questions had and made the process stress freehis knowledge of the products and industry is amazing m thankful that our paths crossed and had scott in my corner when went through the mortgage process',\n",
       " 'guaranteed rate was great lender company we chosethis is our second experience using them to buy our houseas other places have been more expensivewe have contacted matt at various hours of the dayand he has been very helpful in explaining the process',\n",
       " 'was quick and easy processthey worked with me to find loan that would fit my circumstancesvery satisfied with the entire processmy third loan through them',\n",
       " 'after my loan process with another lending company fell apartrick richter came to the rescuehe was able to pick up the pieces and complete the whole process fast and efficiently without having to change our original anticipated closing daterick was nothing but kindcourteousand very informative from start to finish would highly recommend the services of rick and his teamread more',\n",
       " 'this process was simple and straight forwardunlike other lenders we were not continually ask to provide the same documentation repeatedlywe were very happy with how quickly and easily the loan took from start to finishthe loan officer matthew mcdevitt was available when neededbut not overbearingwe had previous poor experience with lender that made numerous promiseseven in writingand then as closing approached changed the deal in dramatic fashionwhich was caused us to eventually decide not to move forwardthis deal happened faster than anticipated with literally no hang upswe would totally recommend guaranteed rateto those that question using an online lenderseveral trusted sources pointed us in this directionbut in fairness we considered that we don really personally know our local banker either and lack of face to face interaction does not stop all types of business we take part in dailywe hope to never have to move againbut when we are ready to financewe will check guaranteed rate againread more',\n",
       " ' had fantastic experience working with brian belcer and his team at guaranteed rate while purchasing my first homehe made himself available just about any timeday or nightto walk me through the process and answer all of my questions am very happy with the mortgage was able to obtainand ultimately feel that am much more educated on the process now than was before working with gr highly recommend them to anyone in the market for homeand will absolutely be using them again for all of my future home purchasesread more',\n",
       " ' worked with tracy padgettshe completely professional and always willing to help explain things at any time of the dayshe was great to work withand would definitely recommend her to family and friends',\n",
       " 'our experience with tom exceeded expectationshe was always available to answer my questions via emailphone and texttom and his teamkenwere true professionalsthey delivered on everything they said they wouldcouldn be happier with the home buying process because of themthankful that we choose garanteed rate through lending treethank you tom',\n",
       " 'chuck williams and the richter team made buying our first home great experiencethey gave us quality customer service and helped explain every step of the processthe team was able to work within our tight timeline and the process felt like breezewe feel comfortable knowing we got the right loandefinitely recommending their services to everyone',\n",
       " 'it was quick and easyand they were pleasure to work withany and all questions were answeredrecommend them anytimematt and rich were greatthank you',\n",
       " ' met mrgermain through my daughter and son in law who have known him and have done business with him for several yearsmrgermain also helped my granddaughter buy her first homewe moved from our home in another state that we lived in for 5yearsthinking this would be very frightening and intimidating process was dreading the whole thingmrgermain made the transition to new home so much easier because of his knowledge and compassion would recommend mrgermain to anyone out there who wants less stressful and very positive experienceread more',\n",
       " 'dean was easy to contact and work with throughout our lending processthe home purchase experience from our pre approval letter to the closing table was excellentdean is extremely responsive and his team provides great tracking for the closingdean has been in the industry for years and provides not only great servicebut tremendous expertisehighly recommend',\n",
       " 'dean has been such huge helphe took my call when he was off work and gave me his undivided attentionhe helped me land my dream home would highly recommend him to anyone looking for lenderand do so on regular basis',\n",
       " 'very profession able and knowledgeable of the industryvery helpful',\n",
       " ' have worked with dean professionallyafter seeing how well his other transactions went decided to use him for my personal loan was very impressed with his knowledge for the loan industry and his professional manner in all aspectsmy refinance went thru without hitch am so happy trusted his advice highly recommend deanplan to use him for my next homeread more',\n",
       " 'dean made the homebuying process so simple for my husband and as first time homeownersit can be so overwhelming trying to find the right rate and learning all the lingodean helped us every step of the way and two years later we are still so happy in our home highly recommend him to anyone looking for someone to help them get their dream home',\n",
       " 'dean was professional and very informative right from the startit was impressive how quickly he returned correspondence and updates on our loan status and questions we hadour conventional loan closed in the time frame dean gave us and he worked hard through some unforeseen issueswe could not be happier and will certainly recommend dean germain and be confident they will receive the same top notch experienceit is clear dean is passionate about his clients and the mortgage productread more',\n",
       " 'this was our first house so of course we were freaking outbut thanks to dean he made the whole process easyhe was very patient in answering my thousands of questions and walked us through every stephe had great communication highly recommend him and when we are ready for our next house he will be who callthanks again for everything',\n",
       " ' spent weeks working with numerous brand name banks and lending intuitions to refinance my home assumed this came after particularly opportune timeas just completed full cycle in my full time employment position had all the documents uploaded within day or my incomecredit score401k balances were all quite respectablehoweverrather than being met with the highest degree of professionalism was met with stumbling blocks of bureaucracythen was very fortunate to find michael and his most dedicated professional staff at guaranteed rate was prepared once again for anythingother than the professionalismsensitivityand quickand at the same time responsibleturnaround immediately receivedthe closing coststitle insuranceetcwere the lowest have ever seen closed this weekoriginal mortgage paid offmoney in my accountall with the most respectable and free flowing experience imaginablethank youmichael and crewjacob koppelread more',\n",
       " 'marcus was great to work withwas always quick to respond to any questions hadwill deff recommend and use in the future',\n",
       " 'mike was the bestalways therefor all my questionswe closed the loan in weeks and would refer him to everyone',\n",
       " 'they were very helpfulany questions or concerns they answer very quickly',\n",
       " 'thank yourick richterand your team for completing our mortgage refinance on time and making us feel like valued clientswe so much appreciate the way the entire team were always there for us when we had questions and were able to promptly work through the hurdles of refinancing with professionalismwe are so happy with our rate and with your service',\n",
       " 'the team atguaranteed rate took complicated tax return situation and smoothly sailed it through the usually horrible mortgage processbut some how their tremendous team made it quickcleanand painless got fantastic low rate with an easy loanwhat else can you ask forthank you michelle and the rest of the teamyour the best',\n",
       " 'mike knowledge and enthusiasm are evident in everything he does ve never worked with anyone who responds to emails fastergreat communication and great service',\n",
       " 'mike is one of the most highly rated and successful mortgage brokers in the countryhe also one of the most knowledgeable brokers that know work with mike frequentlyand rely on him to educate me and my clients onand navigate us throughthe latest mortgage regulations am also extremely impressedbecause have seen mike obtain preapproval for client in matter of 3minutesafter normal business hoursread more',\n",
       " ' friend of mine told me that he just refinanced his house for an unbelievable interest rate and wanted to find out what the rates were in the market was little skeptical about how this online process of finding the mortgage refinancing worksbut joe dilucchio of guaranteed rate was fantastic to deal withhe was super helpfulfriendly and ensured that he answered all my questions to ensure that we werent wasting each other timejoe provided different types of optionspatiently explained all of them and went through pros and cons and most importantly didnt try and and sell me anything have met enough folks who will try and force an option on you and want you to buyjoe attitude of building relationships instead of selling deal really resonated with me and will certainly recommend joe to anyone who in interested in financing or refinancing option and will certainly reach out to him for my financing needs in the futureread more',\n",
       " ' am pretty sure they set world record in getting my paperwork done properly and without hassle d recommend doing business with them hands down',\n",
       " ' had great experience working with joanneshe is very experienced and knowledgeableyet patient when answering my questionseven if they were basicshe made everything easy to understand and was accessible during each step of the processwhich definitely helped reduce any doubts or hesitations that came acrossas resultthe process went smoothly and felt confident with my decisions and results would strongly recommend her to anyone else who is the process of buying homeread more',\n",
       " 'awesome experiencevery professionalefficient and great communicationthis team is on top of everything with simpleefficientlatest technology to close fasthighly recommendrick was very professional with all optionsopportunitiesand communicationscompetitive products and recommendations were offered for consideration',\n",
       " ' spoke to one of your customer service rep wasn willing to start the process and or give her personal informationshe hung up the phone without saying anything and left me on the phone very unprofessional',\n",
       " 'bad',\n",
       " 'for some reason this company denied me because they insisted my monthly obligations were more than 1times the actual amount provided all the necessary proof of this error to no availthey clearly listed all of my obligations twice when figuring my debt to credit ratio and paid no attention to the documentation from my creditors showing the accurate informationread more',\n",
       " 'at the end of the 3day periodwe were about to sign our contract for our new mortgageit was250more than what was disclosed to uswe were not able to close and guaranteed rate never told us about the extra cost talked with several supervisorsto whichnothing was dealt with appropriately for service recovercustomer satisfaction or complaint grievance resolution called quicken loans and they were able to help me quickly and were professional would not recommend guaranteed rateread more',\n",
       " ' have never been so frustrated with company apply on mondaythey contact me via phone and email almost immediately but missed the callthe email from the mortgage person said that we could initially communicate by email to get the ball rolling if that workswhich it does when you spend your entire day on the phoneso emailedand emailedand emailedthen kept callingemailed again and even emailed customer serviceand nothing can even get the courtesy of responseeven if its to saygot your emailswe will get back to you as soon as we canwhich would be perfectly finenow have hit on my credit from them and nothing to show for it so now someone else will be getting my businessdon waste your time with themread more',\n",
       " 'unfortunately we were dealing with an agent in the santa clara county area in ca and his name was andrewhe left from another company called alpine mortgage and moved to this company and thats where everything went badresponsiveness towards myselfthe agentand my clients has been slow and every aspect of the transaction has now been delayedasking for papers in the 19th hour has killed our chances of closing this on timeunfortunately andrew has done everything but help us out and be strong customer service rep would not wish his services upon any other home buyervery disappointed on the entirety of this guys professionalismread more',\n",
       " 'adam and his team apparently do not communicate with each otherextremely disorganized and very unprofessional would not recommend',\n",
       " 'while william was finemy loan officerand was at times very goodthis entire experience was horrible when it came down to the actual processing and closingthe underwriter did not tell me about additional items needed until the very last week before closingand feel that she should have been able to give me that list when called to check status to weeks priorat that point was told that everything was good to go and just waiting on the appraisal live in hawaii and buying here means that there is day lag time from when you sign to when the closing is actualthe items she was demanding would take 11business days to get and had already purchased my airline ticketshipped my vehicle and household goodsthere was no compassion and it came across as she was the word of god and would have to bow her willthe company did not even offer any assistance for having to pay for the changes had to do with my time and schedule as well as the airfarethey only care when it comes to getting your moneywith buying being stressful as it isthis was uncalled for from the companies side and they need to reevaluate their processes and get the understanding of what real customer service isit is respect of the customer and their time and livesstay far away from this companyread more',\n",
       " 'lending tree matching me up with companies that don offer the product requested',\n",
       " 'arbor mortgage failed me in more ways too list then notthe government shut down did not help the situation but should of never been in that situation in the first place if this company would increase their communication and dedication to the costumer then may be would recommend thembut for now no chance',\n",
       " ' was contacted via email by jody martin twice answered her questions then never heard from her againthat not what call good customer serviceif they were unable to approve me for mortgage that finebut at least let me know',\n",
       " 'aweful experience in terms of servicefollow up and overall experience would not recommend to anyoneat least the louisville ky officemy loan was submitted on may 2and was told by my loan mgr daniel dunlop that should expect closing in 3daysit august 2and still haven closedworse part is it takes on average days for anyone there to follow up to my phone callmy loan mgr daniel dunlop stopped working with me because he said he wasn making enough money from my loan and was pulled offthis was after weeks of not hearing from anyone to find out what was going on with my loan finally called the corporate office in chicago when no one was calling me backthey had freddy western the branch manager call me and his follow up is worse than daniel they may advertise low apr but it comes at big price and is just now worth itread more',\n",
       " 'was not able to provide viable product for my needswas rude when was confused and upset about their inability to help',\n",
       " 'called me after 6seconds of submitting my lending tree formasked if they could run some numbers by mewhich later found out was pulling my credit score without my permissiondidnt ask any specificsjust emailed preapproval letter with horrible rate',\n",
       " ' spoke to this lender for quite some time and gave them all of the information needed and they even pulled my creditthanks for the negative ding on my credit score nowand they said they were sending out information for me to continue with refinancenothing was ever sent called back and was told that someone else sends out the information and they would send it the next daynothingpoor poor poor customer service and waste of timeread more',\n",
       " 'positivecompleted mortgage refinance reducing my apr from 2to howeverthe rate was available at several competitorsseveral of whom offered lower fees was also refinancing to reinstate my va certificate of eligibility toward purchase of homesince the rate was available elsewhere hired gr based on the broker claim that the transaction could be completed within weeks or less formally began the process with guaranteed rate on july based on broker feedback that the transaction was in underwriting on july 23rdwe planned the closing date on our new home purchase for month later and alerted vathis refinance didn close with gr until full month lateraug 2and the loan was funded on aug 2came within days of missing rate lock date on the other new home purchase mortgage because of thiscommunications from the broker was horribleas mentionedin parallel with this effort was going through the process of obtaining home purchase mortgage from another companyso have great basis of comparison received no information from guaranteed rate without having to ask for itwhen did receive informationit was minimaltypicallyyesornoanswerso had to follow up with additional questions to get clarification on details don do this for livingthat why hired gr definitely did not receive my money worthif m to believe the brokermy loan package spent weeks in underwritingbtwmy credit scores are all above 77so there was no issue therewhen askedthe broker never offered any rationale for the delaywhen asked by gr sent this same review two weeks agosurprise haven heard word back from them apologizing for their complete lack of customer servicetrust meyou can do better than these guysread more',\n",
       " ' tried emailing the lenderand it got sent back to me tried calling the lender and all got was busy signal couldn get hold of anyone',\n",
       " 'they called me and asked about the city in nh that we where looking at and when told him we might consider ma as well he hung up on me',\n",
       " ' would not recommend this mortgage company at allthey were very prompt to answer but as soon as they got the appraisal and find out wasn able to refinance they didn return any of my callsin fact had to call to find out the appraisal reportbad service',\n",
       " ' am new to home buyingbefore make such huge decision like to ask lots of questionsincluding questions about how mortgages work want to make sure am informed enough to at least have shot at making an intelligent decision had asked similar questions of several other lenders who contacted me through this site and they were all very polite and happy to answer my questionsaaron howeverseemed to have an attitude from the moment picked up the phone and appeared to become more annoyed as asked more questionshis general tone was one of rudeness and condescensionthe conversation endedwhen aaron cut me off in the middle of question and saidwell let me ask you thiswhat didn you understand about what just saidat that point informed him that our conversation was over and would not be doing business with his company m not sure why aaron and guaranteed rateincthink it acceptable to treat people this waybut if you have expectations similar to mineyou may disappointed with their serviceon the bright sidethey aren the only game in townthere are plenty of other companies in this business who will treat you better than aaronread more',\n",
       " ' waspre approvedby guaranteed rate after they had all of my informationincluding an extensive application and full access to my credit informationof course stopped dealing with other lenders who had made offers then entered into months long process of responding to multiple requests for documentationeverything had been clearly spelled out in my applicationbut they needed corroborationwhenever sent somethingthey would call few days later and say thatunderwritingrequired something elseand that it was all on account of the new govtregulationsand note that was looking to consolidate the 1st and 2d mortgages on my homeand that the total was asking for was less than 2of my home valuefinally received call from my loan contact saying that my credit card balance was too highand they couldn give me loan unless paid it off firstthis was information they had had all alongbefore theypre approvedmein factmy primary reason for re financing was to get my monthly mortgage payments lower and to pay off that credit card balance basically said that their response was not acceptableand we eventually got it donehowever would never recommend themthe only thing would give them high points for is responsivenessat least until agreed to go with themthey got back to me quicker than anyone didn go with other lenders who were offering similar rates because they weren getting back to me as fast as gauranteed rateonce went with themhoweverthe process dragged on for monthsand they almost weren going to give me the loanbuyers bewareread more',\n",
       " ' worked with kory and carla at nasbthey were superb team and provided excellentresponsive and knowledgeable service throughout the entire processours was complicated process with refinance and loan and they hung in there with us the entire timeit was great experience working with both of them highly recommend them and will use them in the future for all of my mortgage needsread more',\n",
       " 'kory was by far the best loan officer have ever worked withwe were dealing with complicated refinance and purchase of two different properties and he was coolcalmprofessional and extremely knowledgeable throughout the entire process wouldn use anyone else moving forwardhis level of integrity and responsiveness is second to nonethanks for everythingkoryread more',\n",
       " 'expert loan officerwell versed in va and the financial impacts of loan component changesthe best have worked with across home buying selling dealsnow advocated for by thereal estate broker in the state due to his ability to close complicated and high pressure dealsshe places him at the top of the list after 3years in the businessprofessionally and patiently answers detailed questions and can rally the expanded nasb teamalso stellarto support your needshe handled my complicated va loan that seemed to change every week while we tried to buy an antebellum hometough compsduring my retirement from the militarytough income verificationwith five families all swapping homestons of contingencieseverything along the way mattered and aaron and the nasb team got it doneeven on weekendsand closed on time with the best interest rate in the market and no added origination feeslookdo not pass up an opportunity to work with himread more',\n",
       " 'the nasb team went above and beyond for me and my family and closed an important va home loan on time despite many changesmy military retirementand very challenging antebellum home that required the entire nasb team to pull out all the stopsknow the rules and regulationsand guide us through tough va process truly believe we would not have closed on time with different team will only recommend nasb for home loansespecially complicate va loansread more',\n",
       " 'dallas goodlet and his entire team are deserving special thank youhe was as professional as they come and closed our loan in 1dayswe were with another competitor originally and he calledsaving us thousands over our current lenderit was real pleasure getting to work with this institution and class act like dallasgreat job',\n",
       " 'commentsto begin my wife and were at the point of signing completion with the leader of online home mortgage servicewe were not satisfied with the origination cost so we applied to lending tree for competitive bidsseveral lender matched or slightly beat nasb but none were convincing at closing on timewe chose nasb because of dallas goodlet believability on the closingthe salesloan service and application process was competitiveassuringprofessionaltimelysupportiveand truthfuldallas goodletbrent custer and the whole nasb team delivered the mortgage on time and at the price promisedwe are completely satisfied and appreciative of the staffproduct and service of your companykudos to allread more',\n",
       " 'working with jon was such an amazing experiencefrom the start he offered answers to any questions had since after all this was our first home purchasejon was always phone call away ready to help where neededhe made the stringent home buying process as easy as possible would definitely recommend any potential buyers to work with jon know for myself will be calling him if we ever decide to buy another housethanks jonread more',\n",
       " 'nasb was amazing to work withthe pre approval process was easy and informationalwe chose our home and closed within 3days of our agreement datethanks nasb for making our first home purchase an amazing experience',\n",
       " 'jon barrett was great asset to my husband and he made our mortgage loan process extremely simple and quickjon was knowledgeablehelpfulpatient and accuratewe would suggest anyone shopping for mortgage loan to give jon call',\n",
       " 'jon barrett was great asset to my husband and he made our mortgage loan process extremely simple and quickjon was knowledgeablehelpfulpatient and accuratewe will be passing jon name along to anyone looking for mortgage loan',\n",
       " ' can express how incredibly awesome our experience was with working with bryant small at nasbas military familywe have purchased or refinanced many homes and this was by far the best experience we have ever hadbryant makes it easy and took the time to discuss the best options for us ve never met bryantbut you can mistake authenticity and we knew instantly he and nasb were who we were going withread more',\n",
       " 'best loan officer could have hoped forjeff exceeded my expectationshe worked very hard to get me the best rate possiblehighly recommended',\n",
       " 'adam was great to work with during our refihis attention to detail made this smooth and easy transactionit has been several years since we ve gone thru the home loan process and we were unsure where to startafter talking with adamwe were confident he was the one to help us with our refihe was professionalhelpfulvery knowledgeable about the loan process and answered all of our questions in timely manner would highly recommend adam and would not hesitate to work with him againread more',\n",
       " 'great websiteknowledgeableresponsive and always got back to us quickly with answers to our questionsmortgage process can be very tedious and they made it easy',\n",
       " 'we received offers from multiple banks after our lending tree request for mortgagealex madewell from nasb was by far the best offerhe made the entire process easy and was very knowledgeablethe closing on this home was seamlessno surprises would definitely recommend alex madewell and nasb to anyone looking for mortgage',\n",
       " 'rob was very helpful in getting this loan closedfew issues on our end we didn know about but he was still able to get it done on time',\n",
       " 'peter and his team were great to work withthey were professional and prompt with their responsesthey answered all my questions and somehow got us to closing on time despite various roadblocks we encountered',\n",
       " 'adam came highly recommended and from the first time we spoke with himit was clear whyhe was friendlyprofessionalknowledgeableand worked hard to ensure we were taken care of in all aspectsbeyond the necessary effective communication skillshe brought personal touch after we closed by sending us hand written note of congratulations will recommend him to everyone know buying houseread more',\n",
       " ' real stand up guyfrom the beginning mrbarrett alievatied any uncertainties we faced with buying our first homethis guidance and expertise was certainly what first time homebuyerwould hope forfrom beginning to the very end he stood by us and walked us through the entire processeven down to the wire at closing mrbarrett stepped up and saved us thousands by identifying an errounous mistake in the contractwhen buy again ll call jonthank you jon barrettwe certainly enjoyed working with youread more',\n",
       " ' had the pleasure of working with mrbarrett from nasb and couldn be more pleasefrom the very beginning mrbarrett guided us on our journey with the upmost courtesy and respecteven while closing mrbarrett once again came to the rescue helping me save even more money big thanks to mrbarrett and the team at nasbwhen buy again know who ll call',\n",
       " 'as first time homebuyer was walking blindlybryant became my guide recall telling him don speak mortgageand that was no problem at allbryant was kindunderstandingand genuinely cared throughout the entire process from my online application to the day we became homeownershe was very prompt and always gave clear explanations of what was happeningnext stepsand what path would be in my best interesteven when there were bumps in the road he was there to smooth them out would recommend bryant to anyone seeking financial wisdom in their buying refinancing processread more',\n",
       " 'they got me the best dealthey price matched and did even betterfortunate got to work with them',\n",
       " 'alex was persistentdiligentand thoroughhe was easy to work with and got me an excellent rate on my homenext time buy ll absoltely work with him',\n",
       " 'my wife and have purchased several homes over the years and have worked with number of different mortgage companiesour experience with jeremy and brentcusterhas beenby farthe best we have ever experiencedif we are ever in the market againwe will definitely be back and will recommend nasb to anyone we know who is looking for mortgage',\n",
       " 'great customer servicealways available when called and very respectfulthanks for working extra hard to close on time',\n",
       " ' would like to thank brent for working with ushe kept encouraging us when we felt we would get turned down because of previous lenderbrent and his team did everything possible to meet our deadlinethanks to himwe are now happy home owners',\n",
       " ' first inquired about loan with brentmonths ago then told him wanted to put it all on hold once found out the cost to buy out my leaseaftermonths contacted him in the morning and told him it was time for me to get serioushe responded within the hour and we were rolling againweeks later found home wanted to make an offer onweeks later closed on the homeduring that time always knew what was going onwe talked dailyhe made me feel comfortable through the whole process and always felt like was in controlhonestlypurchasing the home was much easier than thought d recommend him to anyoneread more',\n",
       " 'it had been ten years since bought house and was little nervous of what could afford this time around and going through the process againadam couldn have been better to work withhe was great at communicating and making me feel at easehe got us the best rate and was dream to work withhe completely took the anxiety out of home buyingyou will regret not using himhe is knowledgeable and you can tell he really cares about youread more',\n",
       " 'fred was very niceand always available to address my concernshe seems to really care about his customersgoing through refinance is never very pleasantbut fred did his best to make it as painless as possiblethanks fredbestkary',\n",
       " ' worked with kory klossner loan officer with nasbafter confirming he could offer much lower rate than my financial institutionhe then took the additional time to explain the pros and cons of different loan typesconventional versus va loanskory also took the time to calculate approximate monthly payments and closing costs for each never felt like was being pressured or rushed into decisionin fact felt quite the oppositehe gave me whatever time needed to fully understand my options and make the choice that was right for mebased upon my unique circumstanceskory went above and beyond to make me feel comfortable with what has been the biggest financial decision of my lifethanks korystarsread more',\n",
       " ' worked with kory klossner loan officer with nasbafter confirming he could offer much lower rate than my financial institutionhe then took the additional time to explain the pros and cons of different loan typesconventional versus va loanskory also took the time to calculate approximate monthly payments and closing costs for each never felt like was being pressured or rushed into decisionin fact felt quite the oppositehe gave me whatever time needed to fully understand my options and make the choice that was right for mebased upon my unique circumstanceskory went above and beyond to make me feel comfortable with what has been the biggest financial decision of my lifethanks korystarsread more',\n",
       " ' couldn have been more pleased with aaron customer servicemy father recommended aaron when was looking to buy houseaaron fought to get me the best rate and made sure that everything went as plannedwhen wasn able to move my closing date up to keep my rate interest rateaaron told me not to worry about it and he would cover the cost differencehe did the same thing when we had to pay extra to rush the appraiser to close on time would and will recommend aaron to anyone looking to buy home because know he will do great job like he did for meread more',\n",
       " ' can begin to express my happiness with working with aaronnot only is he professional and knowledgeable but he literally ended up saving me thousands of dollars on my loan thought had good rate until spoke with him and we were able to lower it almost full which saved us hundreds of dollars per month and then he was able to get everything approved closed on very tight timeline of less than weeks highly recommend himread more',\n",
       " 'very responsive and worked hard to get us approvedthe mortgage experience itself can be very stressfulbut jon really made us feel like someone was on our sidethanks again for everything',\n",
       " 'joey was very helpfulwe appreciated his friendly manner and his timely responses',\n",
       " 'our loan officerjoey harteganwas friendly and very helpfulmy wife and were very pleased that we chose nasb to refinance our home',\n",
       " 'my family and shopped around for home mortgages for whilewe currently reside in new jersey and every mortgage company wanted nearly 20k to close found north american savings bank onlineand steve was the person that was assigned to work withhe was wonderful to say the leaststeve would always answer my calls and emails promptlyin additionwhen out of the officesteve always made sure colleague assisted me honestly cannot say enough aboutnasbultimatelythe were able to get me much lower interest rate and monthly payment on my home highly recommend steve to anyoneread more',\n",
       " 'rc was excellent to work withhe is straight shooter and an honorable fellow veteranhe ensured we understood what was happeningwhat to expect and how long it would take can recommend anyone more for your lending needs when working with va loanyou need loan officer whoknowswhat they are doinghe is great at what he does and will personally ensure your closing is on timeeven with an extremely slow appraiser who did not meet deadlines causing delayswe still closed on time thanks to rchis professionalism and his dedication to keep his wordhis team is great to work with as wellread more',\n",
       " 'very smooth experienceworking with va loanclosing on timenasb was extremely easy to work withas veteranyou want lender who understands and easily funds va loans and nasb meets this requirement with five starsother lenders we have worked with in the past do not meet nasb serviceespecially closing on timein my experiencerecommend highly',\n",
       " 'outstanding service and always timely',\n",
       " 'fred went above and beyond to make sure everything went smoothly including making calls while on vacationfred works hard to make your dreams come true',\n",
       " 'fasthelpfulbest service possible heartily recommend them to everyone',\n",
       " 'aaron did everything humanly possible to get me the best rate and terms that he possibly couldhe listened to me and responded to my needs with concerncareand expertise could never have anyone who could have helped me more by being caringknowledgablepatientand responsive individualmany thanks to mrspring',\n",
       " 'aaron was extremely help and very friendly kept his about everything and was always up front with everythingas veteran myselfhe made to go the extra mile for me and always was available to talk and answer questionsthis was my first time buying home and he made as painless as possible for me and my wife nothing but great things to about him and cannot thank him enough for helping us through this processread more',\n",
       " 'their loan officer and his team were amazingthey helped us every step of the way',\n",
       " 'alex was extremely helpful and always available if we had any questions or concernshe kept in constant contact with us and told us exactly what was going to be happening and whenwhen any issues came up he addressed them quickly so we wouldn have to wait longer for the closinghe was always trying to go the extra step to make sure we were taken care of',\n",
       " 'great service and easy',\n",
       " 'such pleasure working with alexcouldn ask for better lender',\n",
       " 'good guy to work withvery responsiveno surprises',\n",
       " 'extremely smooth process with no surprisesbetter than expected interest rate',\n",
       " 'fred was greathe worked around my schedulewas always very responsive and always knew exactly where was in the process and helped me work on what to do next',\n",
       " ' worked with person name andrew leehyhe is very hard workinghonest person with the customers interest not the commission at heart',\n",
       " 'fred was awesome to work withhe is very knowledgeable in his field and is quick to respond to all calls and emailshe made sure the loan stayed on track and we closed on time2days from the day we put contract on the housewe highly recommend fred',\n",
       " ' fine bank with traditional valuesjust greatthe people are real and the bankwalks the talk real pleasure to do business with them',\n",
       " 'joey was knowledgeablevery accessible and maintained positive attitude throughout the complex refinancing processhe was true partnernot just functionary doing paperwork trusted his judgment and he never failed mehe also has great sense of humor',\n",
       " ' was hesitant to use non local mortgage companymy loan officerjeremy was more involved with the process than any local loan company ve used previouslyhis customer service and knowledge has exceeded my expectations don usually recommend peoplebut would consider jeremy as trustedfriend in the mortgage business',\n",
       " ' was hesitant to use non local mortgage companymy loan officerjeremy was more involved with the process than any local loan company ve used previouslyhis customer service and knowledge has exceeded my expectations don usually recommend peoplebut would consider jeremy as trustedfriend in the mortgage business',\n",
       " 'steve got it done when others couldn 3day closing and he even got things done that his supervisor couldn get donesteve was recommended to me by friend and am glad went with himhe was great to work with',\n",
       " 'very professional and customer oriented',\n",
       " 'steve was very responsive and patient with my many questionswe haven bought house in many yearsand this was big move for us can praise him highly enoughhighly recommend',\n",
       " 'great bank with great productseasily the best bank ve worked with',\n",
       " 'dallas is very experienced and knowledgeableabove allhe understand that customer service is to be no less than 10rain or shine dallas was always available and never once missed deadline or commitment to followupwhile nasb obviously has given dallas the tools and resources to be successfuldallas is the reason our experience was so stellar',\n",
       " ' was extremely impressed with the proffessionalismthe quality and speed of the quotesthe ability to communicate through my preferred methods and the speed to closeafter speaking to several other loan officersit was jon barrett at nasb that won us overwe couldnt have been happier with the servicegreat work',\n",
       " ' was extremely impressed with the proffessionalismquality and speed of the quotesthe ability to communicate through my preferred methods and the speed to closeafter speaking to several other loan officersit was jon barrett at nasb that won us overwe couldnt have been happier with the servicegreat work',\n",
       " 'rc malcolm was excellenthe stayed on top of everything to ensure that we were able to close on the projected close dateeverything went very smooth and would recommend rc to anyone looking for mortgage lender',\n",
       " 'excellent servicerc stayed on top of everythign to make sure we closed on target would recommend to anyone looking for home loan',\n",
       " 'they completed everything on time to get us through quick closingso helpful',\n",
       " 'brad was helpful through the entire processas first time home buyersmy fianceand felt so much better with brad expertise and guidance',\n",
       " ' will recommend everyone know to nasb and dallas goodlet had the best experience possible ve had many mortgages over my lifetime and this was by farthe most pleasurablewe received great ratethe fees were lowand the service that dallas provides is unmatched mnot talking just about the mortgage industryhis service is the best ve experienced in any industrymaybe everdallas may want to quit the mortgage business and start customer service consultation businessvery satisfied customerread more',\n",
       " 'our refinance process was dream once we spoke with dallasand chose him and his bankmy husband spoke to quite few lenders and when we got on the phone with dallasour choice was firmwhy is he greatbecause know we drove him crazywe made it extra stressful on him by being technologically illiterateas matter of fact m having my grandson type the reviewdallas was so patient and understanding with uswe had to snail mail all of the documentswe had million questions for himand he was professional the entire timehe has to be one of the kindest and most empathetic people ve ever came across m 5years old and ve had manymanyhome buying and refinancing experiencesand by farthis was the easiest and most pleasurableif you want someone who truly has your best interests at heart and someone you can completely trustthen give dallas call ve already recommended my daughter to himread more',\n",
       " 'the closing process for va loan went smoothlybut the loan servicing by this so called bank is complete disaster set up our loan for automatic payments using their clunky websiteunlike other banks with which do businessthe nasb website is not intuitive and does not provide confirmation for your entriesfor the first 1monthspayments were automatically debited from my external account as scheduledhoweverwhen the escrow amount changednasb debited the old amount from my account and sent deficiency letter for the balanceunlike every other bank have used in which the amount of the debit was automatically debitednasb sent me credit counseling lettertelling me that they did not apply any of the loan payment and would charge me late payment over double the deficiency of4and changeand suggested credit counseling serviceswhen called their servicing departmentthe representative told me the letter was sent in error and that everything had been adjusted so my account was showing that it was currenttwo weeks later received total of two voice mail messages and an mail in span of 2minutes from nasb default departmentthe woman with whom first spoke was rudesaid she showed no record of my earlier callit was my problemand then hung up on methe second agent man in their default departmentsaid that he did not show that had made any automatic payments and that nasb system was not set up to adjust anythingafter having over 2years of mortgage payments with various banks have never experienced such incompetence and rude service specifically instructed the last agent to request that they sell servicing of our loan to another bank that is capable of actually performing customer service for veteranread more',\n",
       " 'miserable experiencethey screwed up everything imaginable and never accepted responsibility for any of their errors wouldnt recommend them for the purchase of doghouse much less purchasing new home',\n",
       " 'our loan officer was happy to communicate before we committedonce we committed he only communicated with us after questioned items and problems and after questioned why we weren settling before our rate lock expiredwe had no idea where we were in the process unless contacted stevepoorpoor communicationmrkang also wassureour house would appraise for30k more than our house didtalking us into loan that we didn end up appraising for and then causing us to have to refinance at onlylower than our current mortgageour appraiser was disorganized and called twice for pictures he forgothe used poor compswe were contacted several times to look at documents that were expired before we could even sign onwithin minutes of the email notificationsonly good was the actual settlement with very sweet and competent notaryand thank goodness we were donepoor processpoor communicationwe will never recommend nasb and have already told two people refinancing to steer clearread more',\n",
       " 'our loan officer was happy to communicate before we committedonce we committed he only communicated with us after questioned items and problems and after questioned why we weren settling before our rate lock expiredwe had no idea where we were in the process unless contacted stevepoorpoor communicationour loan officer also wassureour house would appraise for30k more than it didtalking us into loan we weren interested in and then causing us to have to refinance at onlylower than our current mortgageour appraiser was disorganized and called twice for pictures he forgothe used poor compswe were contacted several times to look at documents that were expired before we could even sign onwithin minutes of the email notificationsonly good was the actual settlement with very sweet and competent notaryand thank goodness we were donepoor processpoor communicationwe will never recommend nasb and have already told two people refinancing to steer clearread more',\n",
       " 'started refinance with nick things were going ok then there was problem with credit card fro years earlierwhich must of made the loan not possiblethis would of understoodbut never heard from them againcalled nick several times no response even called his supervisor no response mailed them no responseis this the company you want to due busness withread more',\n",
       " 'can someone explain why the apr is more than point higher than the interest rateif there arefees',\n",
       " 'this loan started off quite wellour repdonnawas friendly and quick to respond to questionsshe clearly explained how things would unfoldand it all sounded greatwhat didn count on was that the bank never kept single promise she made had the same problem with this bank 1or more times would ask for assurance about somethingdonna would respond that things would be completed as wishedand her promise was violated by the bank every single timefor examplein our first or second conversation explained to donna that my wife would be traveling out of the country 1weeks after beginning the loan processwould it be problem to get the loan closed before thatnot at allshe saidwe should close several weeks before my wife departure1weeks laterthe bank was not ready to closehow did that happendonna would ask us to email documentationwhich we would email back within 1hoursdepending on the occasiondonna would then assure us that the documentation that we sent her was greatand the bank had everything it neededthenweeks laterthey would ask for additional documentationthis happened or more timeslater in the processthey asked for repeats of earlier documentation because the earlier documentation that had provided was nowtoo old cannot tell if this patterns recured because the bank doesn care about customersor because it is just incompetentevery time we complained about additional requests or some promise that wasn keptdonna told us that our complaints were justified and she was sorrybut she was unable or unwilling to rectify the broken promiseswe finally closed 1weeks or so after our initial application can only imagine how long the process would have taken if we had not responded to every request from the bank on the day they made itand if we hadn pushed hard to get this deal donethis bank treats customers with complete disrespectas someone who has owned several properties in my life and has received more than 1home mortgages from different banks can honestly say that this is the worst mortgage experience ve ever hadyou owe it to yourself to work with another bank that is more professional and more respectful of customersif could d rate this bank lower than one starread more',\n",
       " 'built new home and wanted to get small mortgage compared to the value of the propertythe process took much longer than was told it would causing mishandling and reverification of information provided to nasbthere was difference of opinion on what was necessary to close the loan that made the process diffiicult on my family would not recommend north american savings bank as amortgage lenderread more',\n",
       " 'this lender contacted my previous phone number which did not list when registering with this sitevery unprofessionaland very disturbing',\n",
       " ' never write reviews but had to this time to prevent anyone from making the same mistake as that mistake was using north american savings bank over other lenders started my refinance with this company with the assurance that it would be standard refinance without any problems and would be completed in minimal amount of timecommunication with the company was below average after confirmed that would be pursuing loan with them had the impression that the loan officer was more interested in attracting more business than helping methe company uses convoluted email system that sometimes worked but mostly didn this led to frequent emails and phone calls asking for documents to be resentafter having an assessment done on my house and paying for it the communication all but stoppedwhen was able to reach the loan officer was told that would personally have to find additional comps in my area was more than little annoyed as this is what was going to be paying them forhowever compliedafter contacting area realtors and securing what believe were suitable comps forwarded them to the officer week went by before my phone calls and emails were answeredat that time was told that my comps weren sufficient and as result they couldn ensure that my residence was worth anything despite the assessment findingsas result they would not be issuing me loanby the time they decided to do me the honor of informing me of this the rates had risen by half point should warn that the loan officer had way of recording voicemail messages and forwarding them to my voicemail account without calling mehe did this when he had bad news and feel like it was an effort to avoid conversing with me m now stuck with 45assessment that other banks are telling me that can usein other words will have to pay for new assessment m also out the money for credit reports and of course ll be paying higher interest rate on any new loan secure was told by the loan officer that there was no recourse to recoup the money had spent expect to be paying for my mistake for years should point out that refinanced my loan one year ago without any issues strongly urge anyone looking to refinance or obtain new loan to bypass north american savings bank no matter what they promisesave yourself timemoney and lot of aggravationread more',\n",
       " 'it all started when bob ran credit check without my knowledge or consentwhen agreed to use nasbbob told me that they could close in less than weeksit took the day before closing they were still asking for paperworkthe day of closingwhile my household goods were being unpacked was told power of attorney could not be used had to fly to idwhere my wife wastake the docs to notary and fedex them back also had to get bank check to send with the docs because they wouldn accept personal checkthen five days laterwhile driving from id to nc had to coordinate having closing docswhich already sent to themfrom the sale of my other home sent to me so could send to themof the four houses purchased in the past years this was the most stressfulread more',\n",
       " 'what horrible experiencewe have excellent creditplenty of incomeetcnasb rep made tons of promises to get us to sign upbut then just few weeks before the closingshe just disappearedand failed to give us lock or firm closing datethankfullywe sensed the problems and immediately contacted local lender that got us the loan on better terms with lower rates in only weeksnasb rep constantly complained about being too busy and having too many matters to work onthis became very apparent towards the endnot sure to this day why she didn want our business other than they apparently cannot follow through for some reason or another m sure there are good lenders herebut this is not one of themread more',\n",
       " 'rep was extremely professionalfriendlyand helpful when we first spokein factfrom my initial round of calls thought was going to select him out of the five lending tree lendersplus two banks talked to directlybut then when sent an email to all the lenders sayingokthe contract is signed want to select lender and lock my rate tomorrowso please send me your best current rate and fees etcwith these exact loan parametersit took the rep from nasb over week to respondso replied to himthanks but you are too late have selected someone else and already locked my rateover the following few weeks continued to receive emails from him sayingwhen you are ready to proceed with your loanlet me knowwe closed on january 8thand on february 5th got another such email guess he didn really ever read my emails also told him on the phone that he had missed the boatbut that seemed to fall on deaf ears tooat the end of round onehis rates and fees were very competitive thoughpretty near the best of the bunchread more',\n",
       " ' was working with loan consultant from nasb and she told me that she would give me rate of 87for 3year fixed loan with total closing cost of230asked her to send me the good faith estimatethe good faith estimate came with total closing cost of292which is about60more than she mentioned during our conversationwhen called her for explanation of the extra60she said that there is state tax 541which she was not aware ofwhat an explanationshe knew my state from the beginning and repeatedly asked her for totalclosing cost and that time she repeatedly said it will be230as loan consultant she should have known that there is something like state taxthat might come later and should have mentioned that to me am not supposed to know what are the different compoents fees or taxes that apply during closingshe does this everyday and she could have been honest with me from the beginning expected honest communication from loan consultant from nasb bank and did not receive that am very disappointedread more']"
      ]
     },
     "execution_count": 23,
     "metadata": {},
     "output_type": "execute_result"
    }
   ],
   "source": [
    "corpus ## Here by using regular expressions we have removed all the backward slashes, numerics,"
   ]
  },
  {
   "cell_type": "markdown",
   "metadata": {},
   "source": [
    "### Here we are running combination sentence tokenizer and word_lemmatizer to correct the document gramatically"
   ]
  },
  {
   "cell_type": "code",
   "execution_count": 26,
   "metadata": {},
   "outputs": [],
   "source": [
    "from nltk.stem import WordNetLemmatizer\n",
    "lemmatizer = WordNetLemmatizer()\n",
    "\n",
    "# Lemmatization\n",
    "for i in range(len(corpus)):\n",
    "    words = nltk.word_tokenize(corpus[i])\n",
    "    words = [lemmatizer.lemmatize(word) for word in words]\n",
    "    corpus[i] = ' '.join(words)   ## Here we have lemmatized all the words:"
   ]
  },
  {
   "cell_type": "code",
   "execution_count": 27,
   "metadata": {},
   "outputs": [
    {
     "data": {
      "text/plain": [
       "['great jobwyndham capitaleach person wa professional and helped u move through our refinance process smoothlythank you',\n",
       " 'matthew richardson is professional and helpfulhe helped u find the correct product for our mortgagethank you very much for the excellent servicematthew',\n",
       " 'we had past experience with wyndham mortgage and would without question use again and again if neededwyndham went beyond the extra mile to not only right wrong encountered from the servicer we were dealing on our previous loanbut they pulled together and found viable option for u that ultimately saved u moneywe would highly recommend brad thomka and the wyndham capital mortgage team for your mortgage needssincerest thanks wyndhamedlind',\n",
       " 'we have been dealing with brad thomka from the beginning of what started out to be very stressful time for usbut with the help from brad and the entire wyndham mortgage team it wa turned into happy endingbrad and wyndham went beyond the extra mile to not only right wrong encountered from the servicer we were dealing on our previous loanbut they pulled together and found viable option for u that ultimately saved u moneywe are indebted and would highly recommend brad thomka and the wyndham capital mortgage team for your mortgage needssincerest thanks wyndhamedlindread le',\n",
       " 'i can express how grateful am for the support that zach provided to me and my family during this home purchasehis customer serviceresponsiveness and professional demeanor is second to nonehe wa very thorough and took the time to educate me about the process along the way highly recommend working with zach and wyndham capital',\n",
       " 'i had the pleasure of working with wyndham capital in september 201as my family and were making home purchase in columbusohfrom the original conversation with the loan officer to underwriting and all the way through closingthe entire team from wyndham wa very responsive and professional wa very impressed with how smooth their process wa and how timely the communication wa given how stressful of process home buyingand sellingcan be',\n",
       " 'my experience with mattison wa beyond greatly professionally doneshe really care about her client needsshe stay on top of everything and if there wa misunderstandingshe would be on top of it for youoverall she truly bend her back professionally for her clientsshe is wonderful person',\n",
       " 'patrick answered all my question by email immediately and he spent lot of time making sure got the right loan for my situationthe portal they use is extremely easy and we closed on the refinance with weeksvery pleased with the customer service and intend on using patrick again when we refinance later',\n",
       " 'i loved working with this group of peoplethey laughed with me over the phonealways answered my question and moved the loan along a quickly a possibleknowledgeable staffwhile we were shopping around for lenderone lender badmouthed wyndhamthey lost my business because of itwhen told wyndham about itthey had the class not to say anything negative about another companyjust to get thesell',\n",
       " 'great web interface for both the loan application and document upload and download featuresquick response to any question or concernswillingness to communicate almost exclusively via emailas phone call weren always an option for u',\n",
       " 'working with michelle and wyndham went really well for meas first time homeowner and this being my first refinance feel that this process wa smooth and successful will definitely recommend michelle to friend and family',\n",
       " 'usten butler brought the humanity and connection to what can be very stifflifelessand scary transactionnot only thatit is quite possibly the largest purchase my wife and will ever makewe didn simply want to transact with faceless institution lot wa riding on picking the right house and making sure everything would work outausten wa there for usevery step of the wayit trueausten got u the best dealyesthat also truebut it more than thatfrom when we first starting looking to over year later when we found the home we wantedhis presencepositivityand guidance gave u the confidence to take the step and move into our dream homeit made huge difference for our familywe re right where we want to behave 1kids on our blockand couldn be happierand it all thanks to austen butler help',\n",
       " 'jay wa easy to get hold of if had any question so that wa huge to me because there a lot to do during this whole loan process and you want to know if everything righthe provided a great service a could ve wanted',\n",
       " 'if had million friend would recommend all of them to wyndham capital especially to mark taylor he great he really help with even of the clock thanks million mark mean that from heart appreciate everything you did for me',\n",
       " 'chaz wa fantastic throughout the entire lending process had my share of challenge with the original underwriter through no fault of chase yet he stepped in quickly to rectify any issue hadhe wa the glue that kept this deal together did have some challenge with my first property falling through and the last minute yet chaz kept my spirit up and assisted through quickly transitioning to the new and much better property in the endagaincannot say enough positive thing about chazconsummate professional and very responsive would highly recommend doing business with him and plan on staying in touch for future opportunity',\n",
       " 'austen ha been awsome in every step of the way with my refi and new home purchasehe explains your best option thoroughly with out any of the s other company use to get your businessbeing repeat customer say it all',\n",
       " 'the salesperson kept pushing cash out refi on me even when told him m looking for heloc specificallythen he hang up on me because said wa quoted better rate at td bankridiculous',\n",
       " 'this wa the worst experience everit wa like they had never gone through the process before could not get complete list of the document requiredevery other day it wa new requestthe appraiser that they hired made so many mistake had to send in correction and then during the underwriting process they had to go back and make more correctionswyndum would continue to ask for copy of document over and over againthere were many document that had to send and time because theylostthem or wa not filed correctlywe went through different people through the process would never use themawful experience',\n",
       " 'a good rate but very frustrating processconstant delaysdecisions made then changedoverwhelmed underwriting team with week back logrookie mistake related to texas law that caused an additional week waitclosing happened almost week after it should havecourteous and professionalbut not very knowledgeable and no sense of urgencywould not recommend',\n",
       " 'they were not upfrontlearn from my mistake trusted the loan officer that my zero point rate is an option before closing the loan because he convinced me to initially sign the good faith estimate with higher rate plus lender creditafter running my numbersthe lower interest is favorable for me and asking for it now m being charge pointsit look like they are only good in their word at the beginning so please be careful dealing with this lender',\n",
       " 'initiallythe mortgage broker wa very friendly and assertiveonce the paper work wa filled out and closing on the loan wa eminentit became increasingly difficult to reach the broker had to initiate all phone callsit seemed a if had to call to make the process move forwardit took four week to get copy of my closing document and the payoff for my credit card',\n",
       " 'initiallythe mortgage broker wa very friendly and assertiveonce the paper work wa filled out and closing on the loan wa eminentit became increasingly difficult to reach the broker had to initiate all phone callsit seemed a if had to call to make the process move forwardit took four week to get copy of my closing document and the payoff for my credit card',\n",
       " 'i worked with kory and carla at nasbthey were superb team and provided excellentresponsive and knowledgeable service throughout the entire processours wa complicated process with refinance and loan and they hung in there with u the entire timeit wa great experience working with both of them highly recommend them and will use them in the future for all of my mortgage need',\n",
       " 'kory wa by far the best loan officer have ever worked withwe were dealing with complicated refinance and purchase of two different property and he wa coolcalmprofessional and extremely knowledgeable throughout the entire process wouldn use anyone else moving forwardhis level of integrity and responsiveness is second to nonethanks for everythingkory',\n",
       " 'expert loan officerwell versed in va and the financial impact of loan component changesthe best have worked with across home buying selling dealsnow advocated for by thereal estate broker in the state due to his ability to close complicated and high pressure dealsshe place him at the top of the list after 3years in the businessprofessionally and patiently answer detailed question and can rally the expanded nasb teamalso stellarto support your needshe handled my complicated va loan that seemed to change every week while we tried to buy an antebellum hometough compsduring my retirement from the militarytough income verificationwith five family all swapping homestons of contingencieseverything along the way mattered and aaron and the nasb team got it doneeven on weekendsand closed on time with the best interest rate in the market and no added origination feeslookdo not pas up an opportunity to work with him',\n",
       " 'the nasb team went above and beyond for me and my family and closed an important va home loan on time despite many changesmy military retirementand very challenging antebellum home that required the entire nasb team to pull out all the stopsknow the rule and regulationsand guide u through tough va process truly believe we would not have closed on time with different team will only recommend nasb for home loansespecially complicate va loan',\n",
       " 'dallas goodlet and his entire team are deserving special thank youhe wa a professional a they come and closed our loan in 1dayswe were with another competitor originally and he calledsaving u thousand over our current lenderit wa real pleasure getting to work with this institution and class act like dallasgreat job',\n",
       " 'commentsto begin my wife and were at the point of signing completion with the leader of online home mortgage servicewe were not satisfied with the origination cost so we applied to lending tree for competitive bidsseveral lender matched or slightly beat nasb but none were convincing at closing on timewe chose nasb because of dallas goodlet believability on the closingthe salesloan service and application process wa competitiveassuringprofessionaltimelysupportiveand truthfuldallas goodletbrent custer and the whole nasb team delivered the mortgage on time and at the price promisedwe are completely satisfied and appreciative of the staffproduct and service of your companykudos to all',\n",
       " 'working with jon wa such an amazing experiencefrom the start he offered answer to any question had since after all this wa our first home purchasejon wa always phone call away ready to help where neededhe made the stringent home buying process a easy a possible would definitely recommend any potential buyer to work with jon know for myself will be calling him if we ever decide to buy another housethanks jon',\n",
       " 'nasb wa amazing to work withthe pre approval process wa easy and informationalwe chose our home and closed within 3days of our agreement datethanks nasb for making our first home purchase an amazing experience',\n",
       " 'jon barrett wa great asset to my husband and he made our mortgage loan process extremely simple and quickjon wa knowledgeablehelpfulpatient and accuratewe will be passing jon name along to anyone looking for mortgage loan',\n",
       " 'i can express how incredibly awesome our experience wa with working with bryant small at nasbas military familywe have purchased or refinanced many home and this wa by far the best experience we have ever hadbryant make it easy and took the time to discus the best option for u ve never met bryantbut you can mistake authenticity and we knew instantly he and nasb were who we were going with',\n",
       " 'best loan officer could have hoped forjeff exceeded my expectationshe worked very hard to get me the best rate possiblehighly recommended',\n",
       " 'adam wa great to work with during our refihis attention to detail made this smooth and easy transactionit ha been several year since we ve gone thru the home loan process and we were unsure where to startafter talking with adamwe were confident he wa the one to help u with our refihe wa professionalhelpfulvery knowledgeable about the loan process and answered all of our question in timely manner would highly recommend adam and would not hesitate to work with him agai',\n",
       " 'great websiteknowledgeableresponsive and always got back to u quickly with answer to our questionsmortgage process can be very tedious and they made it easy',\n",
       " 'we received offer from multiple bank after our lending tree request for mortgagealex madewell from nasb wa by far the best offerhe made the entire process easy and wa very knowledgeablethe closing on this home wa seamlessno surprise would definitely recommend alex madewell and nasb to anyone looking for mortgage',\n",
       " 'rob wa very helpful in getting this loan closedfew issue on our end we didn know about but he wa still able to get it done on time',\n",
       " 'peter and his team were great to work withthey were professional and prompt with their responsesthey answered all my question and somehow got u to closing on time despite various roadblock we encountered',\n",
       " 'adam came highly recommended and from the first time we spoke with himit wa clear whyhe wa friendlyprofessionalknowledgeableand worked hard to ensure we were taken care of in all aspectsbeyond the necessary effective communication skillshe brought personal touch after we closed by sending u hand written note of congratulation will recommend him to everyone know buying house',\n",
       " 'the closing process for va loan went smoothlybut the loan servicing by this so called bank is complete disaster set up our loan for automatic payment using their clunky websiteunlike other bank with which do businessthe nasb website is not intuitive and doe not provide confirmation for your entriesfor the first 1monthspayments were automatically debited from my external account a scheduledhoweverwhen the escrow amount changednasb debited the old amount from my account and sent deficiency letter for the balanceunlike every other bank have used in which the amount of the debit wa automatically debitednasb sent me credit counseling lettertelling me that they did not apply any of the loan payment and would charge me late payment over double the deficiency of4and changeand suggested credit counseling serviceswhen called their servicing departmentthe representative told me the letter wa sent in error and that everything had been adjusted so my account wa showing that it wa currenttwo week later received total of two voice mail message and an mail in span of 2minutes from nasb default departmentthe woman with whom first spoke wa rudesaid she showed no record of my earlier callit wa my problemand then hung up on methe second agent man in their default departmentsaid that he did not show that had made any automatic payment and that nasb system wa not set up to adjust anythingafter having over 2years of mortgage payment with various bank have never experienced such incompetence and rude service specifically instructed the last agent to request that they sell servicing of our loan to another bank that is capable of actually performing customer service for veteran',\n",
       " 'miserable experiencethey screwed up everything imaginable and never accepted responsibility for any of their error wouldnt recommend them for the purchase of doghouse much le purchasing new home',\n",
       " 'our loan officer wa happy to communicate before we committedonce we committed he only communicated with u after questioned item and problem and after questioned why we weren settling before our rate lock expiredwe had no idea where we were in the process unless contacted stevepoorpoor communicationmrkang also wassureour house would appraise for30k more than our house didtalking u into loan that we didn end up appraising for and then causing u to have to refinance at onlylower than our current mortgageour appraiser wa disorganized and called twice for picture he forgothe used poor compswe were contacted several time to look at document that were expired before we could even sign onwithin minute of the email notificationsonly good wa the actual settlement with very sweet and competent notaryand thank goodness we were donepoor processpoor communicationwe will never recommend nasb and have already told two people refinancing to steer clear',\n",
       " 'started refinance with nick thing were going ok then there wa problem with credit card fro year earlierwhich must of made the loan not possiblethis would of understoodbut never heard from them againcalled nick several time no response even called his supervisor no response mailed them no responseis this the company you want to due busness',\n",
       " 'this loan started off quite wellour repdonnawas friendly and quick to respond to questionsshe clearly explained how thing would unfoldand it all sounded greatwhat didn count on wa that the bank never kept single promise she made had the same problem with this bank 1or more time would ask for assurance about somethingdonna would respond that thing would be completed a wishedand her promise wa violated by the bank every single timefor examplein our first or second conversation explained to donna that my wife would be traveling out of the country 1weeks after beginning the loan processwould it be problem to get the loan closed before thatnot at allshe saidwe should close several week before my wife departure1weeks laterthe bank wa not ready to closehow did that happendonna would ask u to email documentationwhich we would email back within 1hoursdepending on the occasiondonna would then assure u that the documentation that we sent her wa greatand the bank had everything it neededthenweeks laterthey would ask for additional documentationthis happened or more timeslater in the processthey asked for repeat of earlier documentation because the earlier documentation that had provided wa nowtoo old can not tell if this pattern recured because the bank doesn care about customersor because it is just incompetentevery time we complained about additional request or some promise that wasn keptdonna told u that our complaint were justified and she wa sorrybut she wa unable or unwilling to rectify the broken promiseswe finally closed 1weeks or so after our initial application can only imagine how long the process would have taken if we had not responded to every request from the bank on the day they made itand if we hadn pushed hard to get this deal donethis bank treat customer with complete disrespectas someone who ha owned several property in my life and ha received more than 1home mortgage from different bank can honestly say that this is the worst mortgage experience ve ever hadyou owe it to yourself to work with another bank that is more professional and more respectful of customersif could d rate this bank lower than one star',\n",
       " 'this lender contacted my previous phone number which did not list when registering with this sitevery unprofessionaland very disturbing',\n",
       " 'i never write review but had to this time to prevent anyone from making the same mistake a that mistake wa using north american saving bank over other lender started my refinance with this company with the assurance that it would be standard refinance without any problem and would be completed in minimal amount of timecommunication with the company',\n",
       " 'it all started when bob ran credit check without my knowledge or consentwhen agreed to use nasbbob told me that they could close in le than weeksit took the day before closing they were still asking for paperworkthe day of closingwhile my household good were being unpacked wa told power of attorney could not be used had to fly to idwhere my wife wastake the doc to notary and fedex them back also had to get bank check to send with the doc because they wouldn accept personal checkthen five day laterwhile driving from id to nc had to coordinate having closing docswhich already sent to themfrom the sale of my other home sent to me so could send to themof the four house purchased in the past year this wa the most stressful read le',\n",
       " 'what horrible experiencewe have excellent creditplenty of incomeetcnasb rep made ton of promise to get u to sign upbut then just few week before the closingshe just disappearedand failed to give u lock or firm closing datethankfullywe sensed the problem and immediately contacted local lender that got u the loan on better term with low',\n",
       " 'rep wa extremely professionalfriendlyand helpful when we first spokein factfrom my initial round of call thought wa going to select him out of the five lending tree lendersplus two bank talked to directlybut then when sent an email to all the lender sayingokthe contract is signed want to select lender and lock my rate tomorrowso please send me your best current rate and fee etcwith these exact loan parametersit took the rep from nasb over week to respondso replied to himthanks but you are too late have selected someone else and already locked my rateover the following few week continued to receive email from him sayingwhen you are ready to proceed with your loanlet me knowwe closed on january 8thand on february 5th got another such email guess he didn really ever read my email also told him on the phone that he had missed the boatbut that seemed to fall on deaf ear tooat the end of round onehis rate and fee were very competitive thoughpretty near the best of the bunch',\n",
       " 'i wa working with loan consultant from nasb and she told me that she would give me rate of 87for 3year fixed loan with total closing cost of230asked her to send me the good faith estimatethe good faith estimate came with total closing cost of292which is about60more than she mentioned during our conversationwhen called her for exp',\n",
       " 'shein every wayis wonderful personbusiness woman and 10considerate of your goal and helping you achieve themshe went about and beyond in helping me make good decision a well a educate me on option could not have been more happy to connect with her during this process and will definitely use her again in the future if needed',\n",
       " 'mary connolly and her staff a well a upper management were nothing but helpful during the entire processmary is special ladyshe took her time with meunderstood my goal and helped me achieve themshe never made me feel uncomfortable or nervous about our situation and wa always available to help when needed herif she did not have the answer she found it for methese are wonderful people to work withread more',\n",
       " 'thanks to reliance capital for helping u get through what we thought would be difficult if not impossible refinancewe ve had some credit issue in the past but lately we ve been working hard on improving our scoreswe are happy that reliance capital wa able to work with u and help guide u throughout the process despite our le than stellar financial situationthanks especially to patrick for his excellent customer service and reassurance each step of the wayread more',\n",
       " 'we were initially pretty skeptical about refinancing our homewe ve had personal and family issue that devastated our credit to the point where we felt that it would be waste of time since we never be approvedhowever real need arose when dad declining health demanded we make room in our home so we can keep him close to u and give him the care he needswe weren sure what to expect from patrick at reliancebut we were soon reassured and thoroughly delighted when pat informed u that we were eligible and that he walk u through the entire process personallythere simply are no superlative sufficient to thank you for your fantastic guidance in getting our home refinancedyou took what we assumed would be challenging home refinance and successfully navigated u through the process to successful conclusionin every single stepyou proved to be friendlypatientpoliteknowledgeableprofessional and consistently available to uswe can remember the last company we dealt with that returned call and email in such timely manneryou even personally called on weekend when there were item that needed our attentionwhat more can person ask for in mortgage broker will happily and enthusiastically recommend you to othersthanks patrick for all your support and assistanceread more',\n",
       " 'genna englert provided excellent servicethe process wa very smooth and fastmy husband and would recommend reliance first capital to everyone',\n",
       " 'ritu wa pleasure to work withshe wa positiveenergetic and knowledgeableshe wa willing to help run through several different option to make sure we were happy with our planshe helped u see the process through from beginning to end would work with her again',\n",
       " 'reliance wa pleasure to work with on my refinancingwith all the document providedwe went from the start to closing in just few weekswith me on vacation for week in the middle would do business with them again special mention to rituwho wa delight and helped keep our processing moving quickly',\n",
       " 'very receptivethoroughquick to close',\n",
       " 'easygoing the extra mile and overcoming obstaclestruthfulhonest and dependablevery professional and friendly',\n",
       " 'new federal regulation made this tedious and time consuming processclosing cost seemed bit highseemed like spent lot of time explaining the obvious',\n",
       " 'very informativeand responsive',\n",
       " 'tim pope wa very informative throughout the process from beginning to endunlike other lender he made this very pleasure able experiencethanks tim',\n",
       " 'it wa fast easy and did not have to leave the comfort of our homesteven shatz wa so friendly and helped u at every turn would recommended to everyone that need financing to go through this company',\n",
       " 'working with our agent wa quick and very simplewe had to do very little and thing were completed well and we were very pleased with the service and result we received',\n",
       " 'teddy represents his company very wellhe is communicativepatienthard working and get the job done',\n",
       " 'teddy ferrell and binh lai were excellent team membersteddy explained everything from beginning to end and wa very honest and up front with all that wa required for my transaction to take placehe answered all of my call and email in very timely mannervery professional with excellent communication',\n",
       " 'thank you for all of your help kellyyour patience and kindness in assisting u with our loan is greatly appreciatedlook forward to working again together in the future',\n",
       " 'kellyrasool were extremely helpfulit wa stressful time for me and my family and they made u feel taken care of and really cared about helping usthank you again will be referring them to family and friend in the future',\n",
       " 'from the very first conversation that had with steve knew that he understood our situation perfectly and he wa able to help u achieve our dream of home ownershipwe were given very realistic expectation from the beginning and steve kept in touch with u throughout the processit wa relief to work with someone who gave u accurate information and didn string u alongread more',\n",
       " 'the staff wa very friendly and great to work withthey kept me well informed throughout the process',\n",
       " 'very informativeand responsive',\n",
       " 'tim pope wa very informative throughout the process from beginning to endunlike other lender he made this very pleasure able experiencethanks tim',\n",
       " 'it wa fast easy and did not have to leave the comfort of our homesteven shatz wa so friendly and helped u at every turn would recommended to everyone that need financing to go through this company',\n",
       " 'working with our agent wa quick and very simplewe had to do very little and thing were completed well and we were very pleased with the service and result we received',\n",
       " 'teddy represents his company very wellhe is communicativepatienthard working and get the job done',\n",
       " 'teddy ferrell and binh lai were excellent team membersteddy explained everything from beginning to end and wa very honest and up front with all that wa required for my transaction to take placehe answered all of my call and email in very timely mannervery professional with excellent communication',\n",
       " 'thank you for all of your help kellyyour patience and kindness in assisting u with our loan is greatly appreciatedlook forward to working again together in the future',\n",
       " 'kellyrasool were extremely helpfulit wa stressful time for me and my family and they made u feel taken care of and really cared about helping usthank you again will be referring them to family and friend in the future',\n",
       " 'from the very first conversation that had with steve knew that he understood our situation perfectly and he wa able to help u achieve our dream of home ownershipwe were given very realistic expectation from the beginning and steve kept in touch with u throughout the processit wa relief to work with someone who gave u accurate information and didn string u alongread more',\n",
       " 'the staff wa very friendly and great to work withthey kept me well informed throughout the process',\n",
       " 'it wa pleasure working with robertfrom the very first call he kept me well informed of every step of my refinancinghe also made sure that understood everything completelyhe wa fast in responding and helping with any question had',\n",
       " 'my loan officer wa jim heisserhe wa fantasticfrom day one he wa right on the casehe called daily to let me know how the process wa goingevery day we talked felt like wa talking to friend and we became friendsjim talked me through til the closing and wa informative regarding all thing refithe closing went off a scheduled just a jim said it wouldthe guy wa right on the money when it came to every detail and ha called to make sure thing are still going along the right pathdon let this guy go he is the best ve ever dealt withread more',\n",
       " 'steven did phenomenal job working with me to locate refinance that worked for me and my family would highly recommend steven and will recommend my friend and family to him a wellsteven worked tirelessly to ensure that wa completely satisfied and kept in the loop on my loan process everyday',\n",
       " 'wa looking for way to consolidate my current debt when submitted loan request to lending tree received an email from steven shatz and decided to give him call to see what he could offer based on his review on lending treeonce we started talking knew that he wa willing to work with me to get my best option on the tablewe settled and closed fairly quickly and he worked through few issue with me right by my sidehe wa always phone calltext or email away and never delayed in returning my message would highly recommend not only reliance first capital but steven shatz for all your mortgage needsread more',\n",
       " 'robert wa the best person to do our loan almost make u wish we could do this againno just kiddingbut he wa an amazing person who wa concerned and wanted to do whatever he could to make our experience a painless a possiblewe would truely recommend him to friend and familythanks again robert',\n",
       " 'word can not express my gratitude for john spellmanhe wa absolutely amazing from day onehe treated me a if wa his only clientalthough know wasn i am sure he did not get paid what he deserved in working with me can not say enough about him and think reliance is extremely lucky to have himhis patienceunderstandingamazing serviceand knowledge exceeded my expectation beyond measuremy approval and closing went so quickly that my head wa almost spinningread more',\n",
       " 'everyone wa in contact with at reliance we knowledgeableprofessionaland worked with me to answer any questionshad problem in the courseof my application that wa dealt with quickly and wa solved would recommend reliance to anyone',\n",
       " 'after spending month trying to complete an application for loan with little or no success found patrick at reliance wa kept informed on regular basis of what wa happeningwhat wa needed and the time line for closinggreat experience',\n",
       " 'wesley white worked tirelessly and patiently to get our loan approved and closed despite our several obstacle and challengeshe wa very responsivereassuringand encouragingeven if you have complicated situationyou can trust him to work a hard a possible to help you meet your goalswe would definitely call on him again for all of our lending need',\n",
       " 'very professional and answered and returned call very fastgreat communication with the whole process',\n",
       " 'buyer bewareto make it short and sweetshop around and find someone who know what they are talking aboutthere were certain expense that had to pay before closingbut wa assured would get refundor reliance would pay for it and it would reflect in the final closing documentsthis did not happentermite inspection required by vawas10was told would get this backnopeher answerohthe rule changed some time backand didn know about itwas also toldif it closed latewhich it didreliance would pick up the late fee for my present mortgage which she told me not to payyepthey paid itwith my proceedsthen to pay off the loanwhich wa the reason for the refinancethey send me check payable to the lenderand then have to overnight it to the lender so don get hit with another late feewhycould they just do an electronic paymentnot happyread more',\n",
       " 'the team wa not aware of some critical information which delayed my refinancing for several monthsfinally upon completion which wa also several week later than promisedthe pay off check to my creditor were all wrongdue to late fee and next paymentschris thomas wa very cordial and forthcominghe stayed in constant contactbut overallthe company and it delay and incorrect balancesdue to delay would make it impossible for me to recommend the company a wholeread more',\n",
       " 'in response to previous reviewgreg bellezza and reliance capital did refund my appraisal fee',\n",
       " 'if you use reliance first capitoldo not let kenneth watsonhelp you wa so frustrated with him he is so arrogantevery time we talked he would always saylet me call you back in about or 1minutes wouldnt hear from him for couple of day and this happened probably to 1timesit wasnt all extremely bad we did have to raise my credit score which took probably month but it took little over month to get everything said and done then he lost some of my paper work we had to get that redone then also had my motorcycle added consolidationit wa supposed to be 10percent payoff well didnt get all the money to pay my bike off againlet me call the title company and ill call you back in or 1mindidnt hear from himso called back the next daywhatread more',\n",
       " 'reliance first capital wa very professional and did what they said they would doin this day and age that is very rareit made it pleasure doing business with them couldn be more pleasedthanks',\n",
       " 'thought they seemed very nice at firstplayed phone tag then got letter in the mail stateing that wa not interested so they would not do anything more on my file left message andd emailed that that wa incorrecthave not heard from them sincemaybe they should have said they were not interestedim in dier straight and need help',\n",
       " 'the experience with reliance wa extremely frustrating and aggravatingfirst the loanmgrasked for the usual pile of paperincluding the 4506t to prove paid my taxesfinebut then they wanted copy of my tax return so they could comparesince when are they tax auditorsunable to find the copy for 201had the irs send u the transcript of itand sent it via poand electronicallybut then it wa held up for week because the transcript wa mailed by usand not the irsnow we are getting ridiculousso we had the irs fax it to them directlyand still they had problem with it authenticitythey received everything we hadwith no discrepanciesyet the loan mgr suggested we go ahead anddummy up copyas long a it would match exactlywe said nothe two separate transcript were accurateand they could use thoseor we would walkamazing that week later they finally approved itthis guy had emailed and called every daysometimes a many a timeseven during our christmas trip to dallasonly to sit and waitand wonder what the black hole wa doingand to make it more annoyinghe had demeaning way of speakingsayingdoes that make senseafter every statementas if couldn understand basic englishone of those thing people say when they want people to feel inferiorthey requested the 4506t more timesso we sent them at least to make sureso that didn make sensenor did their inability to accept the irs transcript sent from the irsnor the harassment for other tax copy while we were visiting my son in dallas over christmas certainly would not want my friend to feel my frustrationread more',\n",
       " 'person with whom spoke kept interrupting me and telling me hislinerather than listening to what info wantedquite pushyalthohe said he wasn a salesmanclosing cost were astronomical',\n",
       " 'based on result have to give starmy initial conversation wa over the course of an hour provided all my info and based on that anthony said he would give me option moving forwardthe next day we talked he had zero option for me and said wasn approvedit wa waste of credit pull',\n",
       " 'month after spoke to one person at amerisavegot the information needed and decided not to refi continue to get call from reliance whose employee do not seem to know what am not interested meansif would have known that clicking one co to get information meant that all other coswould call would have never looked online for informationwhat more do you have to do to get this co to stop callingread more',\n",
       " 'lisa podorson ha set my closing date three different dateswhich she ha reneged on since august 201mspodorson ha continued to asked for document at the last minuetshe doe not return text or phone call for an entire weekshe did not return my call until decided to cancel the refinancing and contact the bbbshe ha been very unprofessional during this processthis experience wa very unpleasantread more',\n",
       " 'worst lending experience of my lifemy point of contact provided incorrect information from the startthis led me to spend money on item such a appraisalwhich cost not quite twice a much a any other appraisal company in the areaand termite inspectionafter putting charge on credit had no choice but to close the loan to pay off new debtoh yesone of those payment they have not made yet and they have yet to explain whywon return my callscan you say hello lawyerread more',\n",
       " 'feel they made promise that they could not keep and made some mistake that personally cost me around00would have canceled the loan few different time if my finance would have allowed it would not recommend this company to any of my friend',\n",
       " 'had an awful experience with reliance when refinancing my home would not recommend them to anyoneamong other issuesit is now week after we closed and am still waiting for the check that wa told that would receive at closingnot week after closingdo not use this company',\n",
       " 'slowit took over month to close2nd financial disclosure had an increase in borrowing amountservicer said the increase wa due to tax being under estimated whenin factit wa an increase in point thought my rate had been lockedthey did not want to use my attorney so went with theirswithout notifying metheir attorney did not do the closing notary came to the house in t shirtthe notary said he could not give legal advice so if we had any legal question about the documentswe were out of luckdespite paying62for an attorneylater learned their attorney wa sanctioned by the nc state bar in 200for conduct related to real estate closingsread more',\n",
       " 'my experience with reliance wasn good at all1st off they ran hard inquires on my credit that did not authorize and am in the process of pursuing potential legal action2nd my rep corey scheduled an appraisal that took week to get back and he nothing wa done to speed that process up2nd we started this process in sept and it jan of the next year almost and still not closed and am still getting request from the loan processorits absolutely ridiculous3rd it took so long for them to close that the rate they offered me 7went up to and wasn even notified until got documentation from reliancethey did not lock me in to the initial rate like they should have3rd decided not to use them for the refi because of all the error and mistake that were made by them m going to file better business bureau complaint a well a other complaint about my experiencedo not use themread more',\n",
       " 'nothing wa a originally statedmy closing cost were much higher than wa told in the beginning and didn get the money back that wa told wouldwhen complained wa told they were only estimateseven my appraisal ended up being20more wa given long list of paintingwork that had to be done before could get fha approvaldays after paid to have it all done they switched me over to conventional would not recommend them to friendwhen all the red flag went up throughout the process kept going because wa so far in and didn want to start over with someone elsebig mistakeread more',\n",
       " 'we requested offer from three lendersthis bank wa the only one that wouldn send u tentative offer to review prior to their sale pitchit showed u that they really wanted to get u on the phone and give the hard salefor this reason would not recommend themif their proposal didn speak for it self without the sale pitch then doubt it would have been mutually beneficial dealread more',\n",
       " 'can say enough about adam and pac bentalk about going the extra mileholy wownight and day difference from anyone else considered and spoke withadam spent soooooo much timeincluding weekendstaking my questionssome of which m pretty sure were stupidbut he always took the time to walk me through and explain thing very thoroughlyhe also ha wonderfully calm yet passionateknowledgeable yet approachableand charming demeanor that made my mortgageexperienceso much better than could have remotely expectedmade what could easily be unpleasant more than palatableand above allthey made sure wa getting the best possible deal for my scenariowhich took some real workno one provided better rateand you moght expect thatyou get what you pay forbut not herenot at all star service at the best rate you can getwhy go anywhere else10going back to adam pac ben when the time come againand know it willbut honestlydo not go to anyone elsethanks adamlread more',\n",
       " 'can say enough about adambill and pac bentalk about going the extra mileholy wownight and day difference from anyone else considered and spoke withadam spent soooooo much timeincluding weekendstaking my questionssome of which m pretty sure were stupidbut he always took the time to walk me through and explain thing very thoroughlyhe also ha wonderfully calm yet passionateknowledgeable yet approachableand charming demeanor that made my mortgageexperienceso much better than could have remotely expectedmade what could easily be unpleasant more than palatableand above allthey made sure wa getting the best possible deal for my scenariowhich took some real workno one provided better rateand you moght expect thatyou get what you pay forbut not herenot at all star service at the best rate you can getwhy go anywhere else10going back to adam pac ben when the time come againand know it willbut honestlydo not go to anyone elsethanks adam and billread more',\n",
       " 'jasonjune and the team did an amazing jobthis wa our third refinance with pacific beneficial and it closed in weekswe were more than impressed and would recommend them to anyone looking for mortgage or refi in caour loan had no cost and the appraisal wa waivedthanks again you guy',\n",
       " 'jasonjune and the team did an amazing jobthis wa our third refinance with pacific beneficial and it closed in weekswe were more than impressed and would recommend them to anyone looking for mortgage or refi in caour loan had no cost and the appraisal wa waivedthanks again you guy',\n",
       " 'jasonjune and the team did an amazing jobthis wa our third refinance with pacific beneficial and it closed in weekswe were more than impressed and would recommend them to anyone looking for mortgage or refi in caour loan had no cost and the appraisal wa waivedthanks again you guy',\n",
       " 'shawn is organizedquick to respondtransparentand personablehe wa very patient with me first time home buyerin answering all of my question and explaining process to mehe made the home buying process a painless a possiblewould recommend to anyone',\n",
       " 'the entire process wa extremely stressfuldue to circumstance beyond our controlmichele alvesadam carrion and bill james worked diligently to make sure our refinance wa able to be completedbill james wa so helpful in getting through themessy issueswe hadhe wa extremely patient with my question and always felt that wa the only client pacific beneficial hadyou do not see customer service of such high caliber very often these daysand it wa extremely refreshing wouldwithout hesitationrecommend pacific beneficial mortgage company to anyoneread more',\n",
       " 'adam and his team are absolutely wonderful had severalissueswith my refinance that caused additional problemsbut adam and bill worked so hard to help u get in better position wouldwith absolutely no reservationrecommend adamboth adam and bill were so patient with my question and concern and helped the refinance go a smoothly a possible wa extremely fortunate in finding adam and billread more',\n",
       " 'adam carrion wa hand down the bestalways there to answer any question or let u know next step and status at anytime of the day or nightprocess wa very simple provided few item and adam and his team handled everything elseit wa the best experience you can have while refinancing would definitely recommend and will do business again in the futurefastsimple and painlessthank youread more',\n",
       " 'outstandingmy wife and have had many previous loan in the pastthis by far wa one of our best experiencesalex jocovic wa wonderfulfrom first phone call to the endhe wa with u every step of the waynot just salesour situation wa complicatedwith 103exchange involved from prior rental new home and all it confusionsill alex jocovic wa with u every daywe received status of the progress almost dailyso many coordination with different escrow companiesalex jocovic handled everything professionally and last but not leastthe rate he offered beat the builder finance company which had the builder incentivesthanks alexread more',\n",
       " 'outstandingmy wife and have had many previous loan in the pastthis by far wa one of our best experiencesalex jocovic wa wonderfulfrom first phone call to the endhe wa with u every step of the waynot just salesour situation wa complicatedwith 103exchange involved from prior rental new home and all it confusionsill alex jocovic wa with u every daywe received status of the progress almost dailyso many coordination with different escrow companiesalex jocovic handled everything professionally and last but not leastthe rate he offered beat the builder finance company which had the builder incentivesthanks alexread more',\n",
       " 'easy and smooth process',\n",
       " 'great experienceandrea helped me get mortgage for my condo in irvine compared few lender but her customer service made all the difference would definitely recommend her to anyone looking for loan',\n",
       " 'can say enough great thing about my loan officeralex jocovic at pacific beneficial mortgage companyfrom start to finishhe wa by my side with daily check in and phone callsdealing with problem a they arose and handling lot of the issue that came up along the wayit wa great knowing that someone had my back and offered great advice along the way home purchase is such stressful and scary experience but felt confident knowing that wa in great hand with alexyou can go wrongread more',\n",
       " 'can say enough great thing about my loan officeralex jocovic at pacific beneficial mortgage companyfrom start to finishhe wa by my side with daily check in and phone callsdealing with problem a they arose and handling lot of the issue that came up along the wayit wa great knowing that someone had my back and offered great advice along the way home purchase is such stressful and scary experience but felt confident knowing that wa in great hand with alexyou can go wrongread more',\n",
       " 'very professionalkept u up to date with the progress of our loanvery accommodating',\n",
       " 'excellent servicealways called and emailed to give status of our loanvery accommodating',\n",
       " 'felt comfortable working with alexalex wa always patient in answering my question and promptly returned my call and emailseven my realtor commented on how pleasant it wa to work with alexshe asked mewhere did you find him at',\n",
       " 'wa little skeptical about using broker that wa not familiar with not referred by anyone knowbut just by reading the yelp review about alex jocovic decided to gove him and pacific beneficial try am very pleased and satisfied with the entire processalex jocovic wa very patient and always promptly returned my call amd email felt very comfortable and assured that we would close on timeeven my realtor commented on how easy it wa to work with alex would definitely recommend using alexread more',\n",
       " 'during the whole process alex wa very attentive to every detailalways kept u informed and wa available at all time whenever we had questionswe ve had many business dealing and service provided for u before but our experience with alex wa one of the most outsdanding one we ve ever hadwe will without any hesitation recommend his servicesthank you',\n",
       " 'everything worked great very smooth processwe are very pleasedalex did an incredible job for usthank you',\n",
       " 'when we put an offer on in our homeour realtorsusan lyon in napawas not familiar with either pacific beneficial or alex jocovic and asked u if we were sure about using mortgage company in southern ca when we were up in the norththen the selling realtor tried pushing u to use local lenderafter our initial conversation with alex we knew he wa the broker we wanted to work with and my wife agreed so we refused to switch to local lender and are very happy we didalex went above and beyond to get thing done for u and wa available both way before normal business hour on morning and into the night a wellincluding on weekendsas our purchase progressedsusan caution changed to admiration a she complimented alex and pacific beneficial to u on several occasion for their professionalismresponsiveness and commented on how easy they were making thing for her on the loan sidein the endwe were in position to close full week early due to the hard work alex and his team put inwhen it came to closing and sitting down to sign all of the necessary paperwork our escrow officer commented thatthis is great rateyou must have friend at the mortgage companywellwe didn andlike our realtor we had not heard of alex or pacific beneficial before our loan search however we now feel that we do have friend at the mortgage companythank you very much alex and companybetween youyou made daunting task seem so easy and everything went through without glitch from start to finishwe will certainly be recommending you to friendsas will our realtorand we look forward to using your company for any future refinancing or home purchase in the futureread more',\n",
       " 'when we put an offer on in our homeour realtorsusan lyon in napawas not familiar with either pacific beneficial or alex jocovic and asked u if we were sure about using mortgage company in southern ca when we were up in the norththen the selling realtor tried pushing u to use local lenderafter our initial conversation with alex we knew he wa the broker we wanted to work with and my wife agreed so we refused to switch to local lender and are very happy we didalex went above and beyond to get thing done for u and wa available both way before normal business hour on morning and into the night a wellincluding on weekendsas our purchase progressedsusan caution changed to admiration a she complimented alex and pacific beneficial to u on several occasion for their professionalismresponsiveness and commented on how easy they were making thing for her on the loan sidein the endwe were in position to close full week early due to the hard work alex and his team put inwhen it came to closing and sitting down to sign all of the necessary paperwork our escrow officer commented thatthis is great rateyou must have friend at the mortgage companywellwe didn andlike our realtor we had not heard of alex or pacific beneficial before our loan search however we now feel that we do have friend at the mortgage companythank you very much alex and companybetween youyou made daunting task seem so easy and everything went through without glitch from start to finishwe will certainly be recommending you to friendsas will our realtorand we look forward to using your company for any future refinancing or home purchase in the futureread more',\n",
       " 'june wa extremely attentive and responsive throughout the processin addition she wa very courteous and pleasure to work with',\n",
       " 'jason straightforward and extremely attentive throughout the process',\n",
       " 'jason bean and june lee were honest and very responsive',\n",
       " 'it wa pleasure working with alex wa unfortunate with having to go through two failed escrow due to the condition of the house that wa in contract withbut alex wa patient and helped me through all three of my escrow until finally closed on houseif you are looking for loan officer that is responsive and personable go with alexhe will follow up with you consistently and make sure that you close on timeoverall had an excellent experience working with alex and pacific beneficial mortgageread more',\n",
       " 'it wa pleasure working with alex jocovic wa unfortunate with having to go through two failed escrow due to the condition of the house that wa in contract withbut alex wa patient and helped me through all three of my escrow until finally closed on houseif you are looking for loan officer that is responsive and personable go with alexhe will follow up with you consistently and make sure that you close on timeoverall had an excellent experience working with alex and pacific beneficial mortgageread more',\n",
       " 'great for first time home buyer',\n",
       " 'kirk wa very accommodating to me and my sistersthis is our very first home purchasewe were able to close escrow just in time before our leasing contract is up for our previous apartmentevery question that we have wa mostly answered to our satisfaction even though it becomes repetitive at timesall in allmy family had great experience working with kirk highly recommend him to all first time home buyer for much smoother and faster processalsohe provides great customer serviceread more',\n",
       " 'am writing this review to share what ended up being an unpleasant experience with kirk gay and pacific beneficial mortgage to other potential customer am first time homebuyer and wa originally going to go with local mortgage broker for my loanbut wanted to shop around for potential better rateso used lendingtree which is how kirk contacted memy original lender had offered to pay for my home appraisal in writingandwanting to competekirk said he would pay for the appraisalwhich he stated in writingand asked for the letter the other lender had provided so he could get permission to have pacific beneficial pay for my appraisalkirk confirmed would not be paying for the appraisal and wa very happy with what kirk wa doing to accommodate me a customerhoweverwhen closed on the homethe cost of the appraisal wa on my final buyer statement52as kirk had said that would not be paying for the appraisal thought would be reimbursed reached out to kirk via email after close and got no further response thanwe paid for appraisal upfront but we get reimbursed then reached out to kirk two time via email with no response then called the office and spoke to kirk bossadmin who instructed me to reach out to kirk bossadam carrionwhich didit wa only then that received an email response from kirk stating that the lender credit receivedwhich wa le than the appraisalwas all would receive to cover the costdespite the fact that when wa entering into the loan kirk told me that pacific beneficial would be paying for the appraisal and would be receiving lender creditkirk asked me to call himwhich did and left voicemailand he never called me back called kirk again leaving voicemail with no response then began reaching out to his bos adam carrion via email to continue to explain the situationonly then did receive an email from kirk asking me to call himwhich didleft voicemailand received no response then called adam and spoke to him on the phone and only then did receive call from kirkoffering me nominal amount of money stated that wanted to be reimbursed for the entire appraisal amount and he said he would go back to the power that be to see what he could do never heard from him reached out to kirk and adam via email to check in on status with no responsethe next day reached out againvoicing my displeasure and that wa going to take action via reviewsit wa only then that received an email from kirk accusing me of extorting him want other potential customer to know about what occurred a not only wa misledbut wa treated terribly a customer once kirk had been paid his commissionit is extremely disappointing that this brokerage would go to these length over52after the fact when they promised this customerread more',\n",
       " 'worked with jasonjuneit couldn have been an easier processcompletely happy with my experiencethe process just depends how fast you respond to their requeststhis wa refinanceit wa completedfunded within under month',\n",
       " 'worked with jasonjuneit couldn have been an easier processcompletely happy with my experiencethe process just depends how fast you respond to their requeststhis wa refinanceit wa completedfunded within under monthjune wa very helpful m an accountant with lot of questionsshe wa very patient with me d ask for different termsloan amountsshe wa quick to give me the updated ratesshe definitely ha amazing customer service skillsknowledge highly recommendread more',\n",
       " 'everything said about my loan officer hold true for the company he work forthe support staffspecifically summer anderson wa a thorough and efficient a rowel and a accommodating and informativein this day and age of doing business without ever meeting the people helping youyou have to be an expert in sizing up people and their product in just few conversation or you could be fortunate enough to find pacific mortgagehonestlymet or exceeded all of their competitor and all of my expectationsread more',\n",
       " 'absolutely the best experience have ever had dealing with loan officeror any other loan related endeavor for that matterrowel wa friendlyknowledgeablepatient and extraordinarily helpful in choosing the right loan for me got precisely what wa promised in record time and rowel wa available and eager to answer all of my question every step of the waynot only will recommend him to anyone and everyone can will call him when need anything related to my loan in the futureread more',\n",
       " 'provided very timely and friendly service to bring my loan to close quickly',\n",
       " 'friendly and efficient',\n",
       " 'they were quickprofessionalfriendlyand cost effective',\n",
       " 'it wa pleasure to work with pacific beneficial on our refinancewe worked with rowel enriquez and he wa incredibly responsive any time we had question or encountered issue would definitely recommend pacific beneficial and gladly call on them service in the future',\n",
       " 'it wa pleasure to work with rowel on our refinancehe wa incredibly responsive any time we had question or encountered issue would definitely recommend him and gladly ask for his service in the future',\n",
       " 'had slight difficulty with online document and signing',\n",
       " 'accommodatingeasy to work withgood product',\n",
       " 'my loan officer wa really big helphe wa very patientand helped me save some money on the closing costthanks again would definitely refer to friend',\n",
       " 'it wa the first time we refinanced our home and kirk wa knowledgeable and made it very easy for u throughout the processgreat rate and servicethank you',\n",
       " 'our contact maurice wa professional and courteous in all of our discussionshe explained the detail and worked to meet our timelineshe wa excellent',\n",
       " 'overall very fine jobno cost to meand received the prevailing rate few minor paperwork mistake which required some repeated form to be signedbut nothing worth worrying overpeter did very good job',\n",
       " 'probably this wa more challenging refinancealex zelada worked very had on thisbut despite numerous assurance of getting close to the finish lineit took over monthsand the 4day rate lock had to be extendedmost of the problem seemed to be with quickenrequests for document wa piecemealand each new request caused delaythis most likely due to quickenand did put everything in holding patternapparently without the brokersknowledgeit wa discovered only after my following up to see what the delay wasalso there were few instance of pb staff not fully reading thru correspondence and making assumption that weren entirely accurate and could have been significant to the borrowerif doing it over would go with local broker with comparable rateread more',\n",
       " 'am writing this review to share what ended up being an unpleasant experience with kirk gay and pacific beneficial mortgage to other potential customer am first time homebuyer and wa originally going to go with local mortgage broker for my loanbut wanted to shop around for potential better rateso used lendingtree which is how kirk contacted memy original lender had offered to pay for my home appraisal in writingandwanting to competekirk said he would pay for the appraisalwhich he stated in writingand asked for the letter the other lender had provided so he could get permission to have pacific beneficial pay for my appraisalkirk confirmed would not be paying for the appraisal and wa very happy with what kirk wa doing to accommodate me a customerhoweverwhen closed on the homethe cost of the appraisal wa on my final buyer statement52as kirk had said that would not be paying for the appraisal thought would be reimbursed reached out to kirk via email after close and got no further response thanwe paid for appraisal upfront but we get reimbursed then reached out to kirk two time via email with no response then called the office and spoke to kirk bossadmin who instructed me to reach out to kirk bossadam carrionwhich didit wa only then that received an email response from kirk stating that the lender credit receivedwhich wa le than the appraisalwas all would receive to cover the costdespite the fact that when wa entering into the loan kirk told me that pacific beneficial would be paying for the appraisal and would be receiving lender creditkirk asked me to call himwhich did and left voicemailand he never called me back called kirk again leaving voicemail with no response then began reaching out to his bos adam carrion via email to continue to explain the situationonly then did receive an email from kirk asking me to call himwhich didleft voicemailand received no response then called adam and spoke to him on the phone and only then did receive call from kirkoffering me nominal amount of money stated that wanted to be reimbursed for the entire appraisal amount and he said he would go back to the power that be to see what he could do never heard from him reached out to kirk and adam via email to check in on status with no responsethe next day reached out againvoicing my displeasure and that wa going to take action via reviewsit wa only then that received an email from kirk accusing me of extorting him want other potential customer to know about what occurred a not only wa misledbut wa treated terribly a customer once kirk had been paid his commissionit is extremely disappointing that this brokerage would go to these length over52after the fact when they promised this customerread more',\n",
       " 'the intake rep wa very nice but the loan officer seemed annoyed by my inquiry for clarificationthat too badall other review on the website were very positive on customer service do hope somebody review the phone calldidn get past the initial conversationto be fairthis review system required rating for ratefeesresponsiveness wa required to pick category and selectedpoorbut honestly don have an opinion on the mattermy preference would have been to leave these blankread more',\n",
       " 'applied to three different lender and the other two came across a organizedresponsive and caringafter my application wa filed and the rate wa lockedthey sent me an application to review which had many error and then it took them over forever to make correction emailed and called to inquire about the status of my loan and it took nearly week to get reply emailed again later to ask when an appraisal would be orderedand almost another week went by before got replypoor communication with customerseven though applied with another lender the very same week applied with pacific wa asked to sign doc with that other lender before an appraisal wa even ordered by pacificvery frustratingcannot recommend themread more',\n",
       " 'this company responded to my lending tree applicationand picked them out to work with because their initial mail were polite and professional spoke with broker adam and explained my somewhat complicated situationhe advised me to send financial documentsincluding 1040sw2setcso his folk could make preliminary decision before started an applicaiton immediately sent him all the highly personal paperwork he requested few day later he mailed once sayingeverything look good but we need to be sureand after thathe never mailedcalledor notified me via mental telepathy e mailed requesting an updatebut nothingarghhhwhy did you waste my timeif your company couldn help meno biggiejust tell mebut getting no update from these folk really make me paranoid about having shared all of my financial info with themnote to lending treedrop this companynote to applicantsthere are plenty of good company out thereso steer clear of this oneread more',\n",
       " 'worked with kory and carla at nasbthey were superb team and provided excellentresponsive and knowledgeable service throughout the entire processours wa complicated process with refinance and loan and they hung in there with u the entire timeit wa great experience working with both of them highly recommend them and will use them in the future for all of my mortgage needsread more',\n",
       " 'kory wa by far the best loan officer have ever worked withwe were dealing with complicated refinance and purchase of two different property and he wa coolcalmprofessional and extremely knowledgeable throughout the entire process wouldn use anyone else moving forwardhis level of integrity and responsiveness is second to nonethanks for everythingkoryread more',\n",
       " 'expert loan officerwell versed in va and the financial impact of loan component changesthe best have worked with across home buying selling dealsnow advocated for by thereal estate broker in the state due to his ability to close complicated and high pressure dealsshe place him at the top of the list after 3years in the businessprofessionally and patiently answer detailed question and can rally the expanded nasb teamalso stellarto support your needshe handled my complicated va loan that seemed to change every week while we tried to buy an antebellum hometough compsduring my retirement from the militarytough income verificationwith five family all swapping homestons of contingencieseverything along the way mattered and aaron and the nasb team got it doneeven on weekendsand closed on time with the best interest rate in the market and no added origination feeslookdo not pas up an opportunity to work with himread more',\n",
       " 'the nasb team went above and beyond for me and my family and closed an important va home loan on time despite many changesmy military retirementand very challenging antebellum home that required the entire nasb team to pull out all the stopsknow the rule and regulationsand guide u through tough va process truly believe we would not have closed on time with different team will only recommend nasb for home loansespecially complicate va loansread more',\n",
       " 'dallas goodlet and his entire team are deserving special thank youhe wa a professional a they come and closed our loan in 1dayswe were with another competitor originally and he calledsaving u thousand over our current lenderit wa real pleasure getting to work with this institution and class act like dallasgreat job',\n",
       " 'commentsto begin my wife and were at the point of signing completion with the leader of online home mortgage servicewe were not satisfied with the origination cost so we applied to lending tree for competitive bidsseveral lender matched or slightly beat nasb but none were convincing at closing on timewe chose nasb because of dallas goodlet believability on the closingthe salesloan service and application process wa competitiveassuringprofessionaltimelysupportiveand truthfuldallas goodletbrent custer and the whole nasb team delivered the mortgage on time and at the price promisedwe are completely satisfied and appreciative of the staffproduct and service of your companykudos to allread more',\n",
       " 'working with jon wa such an amazing experiencefrom the start he offered answer to any question had since after all this wa our first home purchasejon wa always phone call away ready to help where neededhe made the stringent home buying process a easy a possible would definitely recommend any potential buyer to work with jon know for myself will be calling him if we ever decide to buy another housethanks jonread more',\n",
       " 'nasb wa amazing to work withthe pre approval process wa easy and informationalwe chose our home and closed within 3days of our agreement datethanks nasb for making our first home purchase an amazing experience',\n",
       " 'jon barrett wa great asset to my husband and he made our mortgage loan process extremely simple and quickjon wa knowledgeablehelpfulpatient and accuratewe would suggest anyone shopping for mortgage loan to give jon call',\n",
       " 'jon barrett wa great asset to my husband and he made our mortgage loan process extremely simple and quickjon wa knowledgeablehelpfulpatient and accuratewe will be passing jon name along to anyone looking for mortgage loan',\n",
       " 'can express how incredibly awesome our experience wa with working with bryant small at nasbas military familywe have purchased or refinanced many home and this wa by far the best experience we have ever hadbryant make it easy and took the time to discus the best option for u ve never met bryantbut you can mistake authenticity and we knew instantly he and nasb were who we were going withread more',\n",
       " 'best loan officer could have hoped forjeff exceeded my expectationshe worked very hard to get me the best rate possiblehighly recommended',\n",
       " 'adam wa great to work with during our refihis attention to detail made this smooth and easy transactionit ha been several year since we ve gone thru the home loan process and we were unsure where to startafter talking with adamwe were confident he wa the one to help u with our refihe wa professionalhelpfulvery knowledgeable about the loan process and answered all of our question in timely manner would highly recommend adam and would not hesitate to work with him againread more',\n",
       " 'great websiteknowledgeableresponsive and always got back to u quickly with answer to our questionsmortgage process can be very tedious and they made it easy',\n",
       " 'we received offer from multiple bank after our lending tree request for mortgagealex madewell from nasb wa by far the best offerhe made the entire process easy and wa very knowledgeablethe closing on this home wa seamlessno surprise would definitely recommend alex madewell and nasb to anyone looking for mortgage',\n",
       " 'rob wa very helpful in getting this loan closedfew issue on our end we didn know about but he wa still able to get it done on time',\n",
       " 'peter and his team were great to work withthey were professional and prompt with their responsesthey answered all my question and somehow got u to closing on time despite various roadblock we encountered',\n",
       " 'adam came highly recommended and from the first time we spoke with himit wa clear whyhe wa friendlyprofessionalknowledgeableand worked hard to ensure we were taken care of in all aspectsbeyond the necessary effective communication skillshe brought personal touch after we closed by sending u hand written note of congratulation will recommend him to everyone know buying houseread more',\n",
       " 'real stand up guyfrom the beginning mrbarrett alievatied any uncertainty we faced with buying our first homethis guidance and expertise wa certainly what first time homebuyerwould hope forfrom beginning to the very end he stood by u and walked u through the entire processeven down to the wire at closing mrbarrett stepped up and saved u thousand by identifying an errounous mistake in the contractwhen buy again ll call jonthank you jon barrettwe certainly enjoyed working with youread more',\n",
       " 'had the pleasure of working with mrbarrett from nasb and couldn be more pleasefrom the very beginning mrbarrett guided u on our journey with the upmost courtesy and respecteven while closing mrbarrett once again came to the rescue helping me save even more money big thanks to mrbarrett and the team at nasbwhen buy again know who ll call',\n",
       " 'a first time homebuyer wa walking blindlybryant became my guide recall telling him don speak mortgageand that wa no problem at allbryant wa kindunderstandingand genuinely cared throughout the entire process from my online application to the day we became homeownershe wa very prompt and always gave clear explanation of what wa happeningnext stepsand what path would be in my best interesteven when there were bump in the road he wa there to smooth them out would recommend bryant to anyone seeking financial wisdom in their buying refinancing processread more',\n",
       " 'they got me the best dealthey price matched and did even betterfortunate got to work with them',\n",
       " 'alex wa persistentdiligentand thoroughhe wa easy to work with and got me an excellent rate on my homenext time buy ll absoltely work with him',\n",
       " 'my wife and have purchased several home over the year and have worked with number of different mortgage companiesour experience with jeremy and brentcusterhas beenby farthe best we have ever experiencedif we are ever in the market againwe will definitely be back and will recommend nasb to anyone we know who is looking for mortgage',\n",
       " 'great customer servicealways available when called and very respectfulthanks for working extra hard to close on time',\n",
       " 'would like to thank brent for working with ushe kept encouraging u when we felt we would get turned down because of previous lenderbrent and his team did everything possible to meet our deadlinethanks to himwe are now happy home owner',\n",
       " 'first inquired about loan with brentmonths ago then told him wanted to put it all on hold once found out the cost to buy out my leaseaftermonths contacted him in the morning and told him it wa time for me to get serioushe responded within the hour and we were rolling againweeks later found home wanted to make an offer onweeks later closed on the homeduring that time always knew what wa going onwe talked dailyhe made me feel comfortable through the whole process and always felt like wa in controlhonestlypurchasing the home wa much easier than thought d recommend him to anyoneread more',\n",
       " 'it had been ten year since bought house and wa little nervous of what could afford this time around and going through the process againadam couldn have been better to work withhe wa great at communicating and making me feel at easehe got u the best rate and wa dream to work withhe completely took the anxiety out of home buyingyou will regret not using himhe is knowledgeable and you can tell he really care about youread more',\n",
       " 'fred wa very niceand always available to address my concernshe seems to really care about his customersgoing through refinance is never very pleasantbut fred did his best to make it a painless a possiblethanks fredbestkary',\n",
       " 'worked with kory klossner loan officer with nasbafter confirming he could offer much lower rate than my financial institutionhe then took the additional time to explain the pro and con of different loan typesconventional versus va loanskory also took the time to calculate approximate monthly payment and closing cost for each never felt like wa being pressured or rushed into decisionin fact felt quite the oppositehe gave me whatever time needed to fully understand my option and make the choice that wa right for mebased upon my unique circumstanceskory went above and beyond to make me feel comfortable with what ha been the biggest financial decision of my lifethanks korystarsread more',\n",
       " 'worked with kory klossner loan officer with nasbafter confirming he could offer much lower rate than my financial institutionhe then took the additional time to explain the pro and con of different loan typesconventional versus va loanskory also took the time to calculate approximate monthly payment and closing cost for each never felt like wa being pressured or rushed into decisionin fact felt quite the oppositehe gave me whatever time needed to fully understand my option and make the choice that wa right for mebased upon my unique circumstanceskory went above and beyond to make me feel comfortable with what ha been the biggest financial decision of my lifethanks korystarsread more',\n",
       " 'couldn have been more pleased with aaron customer servicemy father recommended aaron when wa looking to buy houseaaron fought to get me the best rate and made sure that everything went a plannedwhen wasn able to move my closing date up to keep my rate interest rateaaron told me not to worry about it and he would cover the cost differencehe did the same thing when we had to pay extra to rush the appraiser to close on time would and will recommend aaron to anyone looking to buy home because know he will do great job like he did for meread more',\n",
       " 'can begin to express my happiness with working with aaronnot only is he professional and knowledgeable but he literally ended up saving me thousand of dollar on my loan thought had good rate until spoke with him and we were able to lower it almost full which saved u hundred of dollar per month and then he wa able to get everything approved closed on very tight timeline of le than week highly recommend himread more',\n",
       " 'very responsive and worked hard to get u approvedthe mortgage experience itself can be very stressfulbut jon really made u feel like someone wa on our sidethanks again for everything',\n",
       " 'joey wa very helpfulwe appreciated his friendly manner and his timely response',\n",
       " 'our loan officerjoey harteganwas friendly and very helpfulmy wife and were very pleased that we chose nasb to refinance our home',\n",
       " 'my family and shopped around for home mortgage for whilewe currently reside in new jersey and every mortgage company wanted nearly 20k to close found north american saving bank onlineand steve wa the person that wa assigned to work withhe wa wonderful to say the leaststeve would always answer my call and email promptlyin additionwhen out of the officesteve always made sure colleague assisted me honestly can not say enough aboutnasbultimatelythe were able to get me much lower interest rate and monthly payment on my home highly recommend steve to anyoneread more',\n",
       " 'rc wa excellent to work withhe is straight shooter and an honorable fellow veteranhe ensured we understood what wa happeningwhat to expect and how long it would take can recommend anyone more for your lending need when working with va loanyou need loan officer whoknowswhat they are doinghe is great at what he doe and will personally ensure your closing is on timeeven with an extremely slow appraiser who did not meet deadline causing delayswe still closed on time thanks to rchis professionalism and his dedication to keep his wordhis team is great to work with a wellread more',\n",
       " 'very smooth experienceworking with va loanclosing on timenasb wa extremely easy to work withas veteranyou want lender who understands and easily fund va loan and nasb meet this requirement with five starsother lender we have worked with in the past do not meet nasb serviceespecially closing on timein my experiencerecommend highly',\n",
       " 'outstanding service and always timely',\n",
       " 'fred went above and beyond to make sure everything went smoothly including making call while on vacationfred work hard to make your dream come true',\n",
       " 'fasthelpfulbest service possible heartily recommend them to everyone',\n",
       " 'aaron did everything humanly possible to get me the best rate and term that he possibly couldhe listened to me and responded to my need with concerncareand expertise could never have anyone who could have helped me more by being caringknowledgablepatientand responsive individualmany thanks to mrspring',\n",
       " 'aaron wa extremely help and very friendly kept his about everything and wa always up front with everythingas veteran myselfhe made to go the extra mile for me and always wa available to talk and answer questionsthis wa my first time buying home and he made a painless a possible for me and my wife nothing but great thing to about him and can not thank him enough for helping u through this processread more',\n",
       " 'their loan officer and his team were amazingthey helped u every step of the way',\n",
       " 'alex wa extremely helpful and always available if we had any question or concernshe kept in constant contact with u and told u exactly what wa going to be happening and whenwhen any issue came up he addressed them quickly so we wouldn have to wait longer for the closinghe wa always trying to go the extra step to make sure we were taken care of',\n",
       " 'great service and easy',\n",
       " 'such pleasure working with alexcouldn ask for better lender',\n",
       " 'good guy to work withvery responsiveno surprise',\n",
       " 'extremely smooth process with no surprisesbetter than expected interest rate',\n",
       " 'fred wa greathe worked around my schedulewas always very responsive and always knew exactly where wa in the process and helped me work on what to do next',\n",
       " 'worked with person name andrew leehyhe is very hard workinghonest person with the customer interest not the commission at heart',\n",
       " 'fred wa awesome to work withhe is very knowledgeable in his field and is quick to respond to all call and emailshe made sure the loan stayed on track and we closed on time2days from the day we put contract on the housewe highly recommend fred',\n",
       " 'fine bank with traditional valuesjust greatthe people are real and the bankwalks the talk real pleasure to do business with them',\n",
       " 'joey wa knowledgeablevery accessible and maintained positive attitude throughout the complex refinancing processhe wa true partnernot just functionary doing paperwork trusted his judgment and he never failed mehe also ha great sense of humor',\n",
       " 'wa hesitant to use non local mortgage companymy loan officerjeremy wa more involved with the process than any local loan company ve used previouslyhis customer service and knowledge ha exceeded my expectation don usually recommend peoplebut would consider jeremy a trustedfriend in the mortgage business',\n",
       " 'wa hesitant to use non local mortgage companymy loan officerjeremy wa more involved with the process than any local loan company ve used previouslyhis customer service and knowledge ha exceeded my expectation don usually recommend peoplebut would consider jeremy a trustedfriend in the mortgage business',\n",
       " 'steve got it done when others couldn 3day closing and he even got thing done that his supervisor couldn get donesteve wa recommended to me by friend and am glad went with himhe wa great to work with',\n",
       " 'very professional and customer oriented',\n",
       " 'steve wa very responsive and patient with my many questionswe haven bought house in many yearsand this wa big move for u can praise him highly enoughhighly recommend',\n",
       " 'the closing process for va loan went smoothlybut the loan servicing by this so called bank is complete disaster set up our loan for automatic payment using their clunky websiteunlike other bank with which do businessthe nasb website is not intuitive and doe not provide confirmation for your entriesfor the first 1monthspayments were automatically debited from my external account a scheduledhoweverwhen the escrow amount changednasb debited the old amount from my account and sent deficiency letter for the balanceunlike every other bank have used in which the amount of the debit wa automatically debitednasb sent me credit counseling lettertelling me that they did not apply any of the loan payment and would charge me late payment over double the deficiency of4and changeand suggested credit counseling serviceswhen called their servicing departmentthe representative told me the letter wa sent in error and that everything had been adjusted so my account wa showing that it wa currenttwo week later received total of two voice mail message and an mail in span of 2minutes from nasb default departmentthe woman with whom first spoke wa rudesaid she showed no record of my earlier callit wa my problemand then hung up on methe second agent man in their default departmentsaid that he did not show that had made any automatic payment and that nasb system wa not set up to adjust anythingafter having over 2years of mortgage payment with various bank have never experienced such incompetence and rude service specifically instructed the last agent to request that they sell servicing of our loan to another bank that is capable of actually performing customer service for veteranread more',\n",
       " 'miserable experiencethey screwed up everything imaginable and never accepted responsibility for any of their error wouldnt recommend them for the purchase of doghouse much le purchasing new home',\n",
       " 'our loan officer wa happy to communicate before we committedonce we committed he only communicated with u after questioned item and problem and after questioned why we weren settling before our rate lock expiredwe had no idea where we were in the process unless contacted stevepoorpoor communicationmrkang also wassureour house would appraise for30k more than our house didtalking u into loan that we didn end up appraising for and then causing u to have to refinance at onlylower than our current mortgageour appraiser wa disorganized and called twice for picture he forgothe used poor compswe were contacted several time to look at document that were expired before we could even sign onwithin minute of the email notificationsonly good wa the actual settlement with very sweet and competent notaryand thank goodness we were donepoor processpoor communicationwe will never recommend nasb and have already told two people refinancing to steer clearread more',\n",
       " 'our loan officer wa happy to communicate before we committedonce we committed he only communicated with u after questioned item and problem and after questioned why we weren settling before our rate lock expiredwe had no idea where we were in the process unless contacted stevepoorpoor communicationour loan officer also wassureour house would appraise for30k more than it didtalking u into loan we weren interested in and then causing u to have to refinance at onlylower than our current mortgageour appraiser wa disorganized and called twice for picture he forgothe used poor compswe were contacted several time to look at document that were expired before we could even sign onwithin minute of the email notificationsonly good wa the actual settlement with very sweet and competent notaryand thank goodness we were donepoor processpoor communicationwe will never recommend nasb and have already told two people refinancing to steer clearread more',\n",
       " 'started refinance with nick thing were going ok then there wa problem with credit card fro year earlierwhich must of made the loan not possiblethis would of understoodbut never heard from them againcalled nick several time no response even called his supervisor no response mailed them no responseis this the company you want to due busness withread more',\n",
       " 'can someone explain why the apr is more than point higher than the interest rateif there arefees',\n",
       " 'this loan started off quite wellour repdonnawas friendly and quick to respond to questionsshe clearly explained how thing would unfoldand it all sounded greatwhat didn count on wa that the bank never kept single promise she made had the same problem with this bank 1or more time would ask for assurance about somethingdonna would respond that thing would be completed a wishedand her promise wa violated by the bank every single timefor examplein our first or second conversation explained to donna that my wife would be traveling out of the country 1weeks after beginning the loan processwould it be problem to get the loan closed before thatnot at allshe saidwe should close several week before my wife departure1weeks laterthe bank wa not ready to closehow did that happendonna would ask u to email documentationwhich we would email back within 1hoursdepending on the occasiondonna would then assure u that the documentation that we sent her wa greatand the bank had everything it neededthenweeks laterthey would ask for additional documentationthis happened or more timeslater in the processthey asked for repeat of earlier documentation because the earlier documentation that had provided wa nowtoo old can not tell if this pattern recured because the bank doesn care about customersor because it is just incompetentevery time we complained about additional request or some promise that wasn keptdonna told u that our complaint were justified and she wa sorrybut she wa unable or unwilling to rectify the broken promiseswe finally closed 1weeks or so after our initial application can only imagine how long the process would have taken if we had not responded to every request from the bank on the day they made itand if we hadn pushed hard to get this deal donethis bank treat customer with complete disrespectas someone who ha owned several property in my life and ha received more than 1home mortgage from different bank can honestly say that this is the worst mortgage experience ve ever hadyou owe it to yourself to work with another bank that is more professional and more respectful of customersif could d rate this bank lower than one starread more',\n",
       " 'built new home and wanted to get small mortgage compared to the value of the propertythe process took much longer than wa told it would causing mishandling and reverification of information provided to nasbthere wa difference of opinion on what wa necessary to close the loan that made the process diffiicult on my family would not recommend north american saving bank a amortgage lenderread more',\n",
       " 'this lender contacted my previous phone number which did not list when registering with this sitevery unprofessionaland very disturbing',\n",
       " 'never write review but had to this time to prevent anyone from making the same mistake a that mistake wa using north american saving bank over other lender started my refinance with this company with the assurance that it would be standard refinance without any problem and would be completed in minimal amount of timecommunication with the company wa below average after confirmed that would be pursuing loan with them had the impression that the loan officer wa more interested in attracting more business than helping methe company us convoluted email system that sometimes worked but mostly didn this led to frequent email and phone call asking for document to be resentafter having an assessment done on my house and paying for it the communication all but stoppedwhen wa able to reach the loan officer wa told that would personally have to find additional comp in my area wa more than little annoyed a this is what wa going to be paying them forhowever compliedafter contacting area realtor and securing what believe were suitable comp forwarded them to the officer week went by before my phone call and email were answeredat that time wa told that my comp weren sufficient and a result they couldn ensure that my residence wa worth anything despite the assessment findingsas result they would not be issuing me loanby the time they decided to do me the honor of informing me of this the rate had risen by half point should warn that the loan officer had way of recording voicemail message and forwarding them to my voicemail account without calling mehe did this when he had bad news and feel like it wa an effort to avoid conversing with me m now stuck with 45assessment that other bank are telling me that can usein other word will have to pay for new assessment m also out the money for credit report and of course ll be paying higher interest rate on any new loan secure wa told by the loan officer that there wa no recourse to recoup the money had spent expect to be paying for my mistake for year should point out that refinanced my loan one year ago without any issue strongly urge anyone looking to refinance or obtain new loan to bypass north american saving bank no matter what they promisesave yourself timemoney and lot of aggravationread more',\n",
       " 'it all started when bob ran credit check without my knowledge or consentwhen agreed to use nasbbob told me that they could close in le than weeksit took the day before closing they were still asking for paperworkthe day of closingwhile my household good were being unpacked wa told power of attorney could not be used had to fly to idwhere my wife wastake the doc to notary and fedex them back also had to get bank check to send with the doc because they wouldn accept personal checkthen five day laterwhile driving from id to nc had to coordinate having closing docswhich already sent to themfrom the sale of my other home sent to me so could send to themof the four house purchased in the past year this wa the most stressfulread more',\n",
       " 'what horrible experiencewe have excellent creditplenty of incomeetcnasb rep made ton of promise to get u to sign upbut then just few week before the closingshe just disappearedand failed to give u lock or firm closing datethankfullywe sensed the problem and immediately contacted local lender that got u the loan on better term with lower rate in only weeksnasb rep constantly complained about being too busy and having too many matter to work onthis became very apparent towards the endnot sure to this day why she didn want our business other than they apparently can not follow through for some reason or another m sure there are good lender herebut this is not one of themread more',\n",
       " 'rep wa extremely professionalfriendlyand helpful when we first spokein factfrom my initial round of call thought wa going to select him out of the five lending tree lendersplus two bank talked to directlybut then when sent an email to all the lender sayingokthe contract is signed want to select lender and lock my rate tomorrowso please send me your best current rate and fee etcwith these exact loan parametersit took the rep from nasb over week to respondso replied to himthanks but you are too late have selected someone else and already locked my rateover the following few week continued to receive email from him sayingwhen you are ready to proceed with your loanlet me knowwe closed on january 8thand on february 5th got another such email guess he didn really ever read my email also told him on the phone that he had missed the boatbut that seemed to fall on deaf ear tooat the end of round onehis rate and fee were very competitive thoughpretty near the best of the bunchread more',\n",
       " 'wa working with loan consultant from nasb and she told me that she would give me rate of 87for 3year fixed loan with total closing cost of230asked her to send me the good faith estimatethe good faith estimate came with total closing cost of292which is about60more than she mentioned during our conversationwhen called her for explanation of the extra60she said that there is state tax 541which she wa not aware ofwhat an explanationshe knew my state from the beginning and repeatedly asked her for totalclosing cost and that time she repeatedly said it will be230as loan consultant she should have known that there is something like state taxthat might come later and should have mentioned that to me am not supposed to know what are the different compoents fee or tax that apply during closingshe doe this everyday and she could have been honest with me from the beginning expected honest communication from loan consultant from nasb bank and did not receive that am very disappointedread more',\n",
       " 'the interest rate offered and time to close being short sold u on the loan so we pursued it despitethe fact that credit check and underwriting wa made when per va rule for an irrrl these were not necessary and we were assured by mrowens when first discussing the refinancing they would not be madethe constant error in the paperworkone huge error wa the loan estimate had rolled in initial escrow funding into the loan amount when we expressly communicated at the beginning that we did not want to finance it but pay for it at closing from available fundsanother wa not classifying the currently owed property tax a prepaid for immediate disbursement to the county but trying to collect it at closing rolling it into the initial escrow account to be paid in december just month later during the time nasb intended to sell the mortgagethankfully this wa corrected by the closing agentmrowens not being straight with u about nasb intent to sell the mortgage after closinghis statement of first saying nasb would not consider sale and intended to keep the mortgage on it book then after the statement it would be sold appeared in the loan estimate saying sale wa not definite but only therejust in case it had to be sold sometime in the futuresince todayjust day after disbursement find out that our mortgage is on the book for immediate sale show mrowens likely knew of definite sale and tried to mislead u by saying it wasn definitetaking calendar day to address error and issue in the initial closing document which prevented u from knowing the amount we were financing and the amount we needed to pay at closing which wa supposed to be made through certified check until 1minutes prior to arrival at the closing agent place of businesspros allow for the neutral instead of bad rating because thedespitesshow that the customer support during this loan process wa extremely poor and unacceptableread more',\n",
       " 'they increased my ratequoted me different closing cost different timestook month to get to closingand needed information that should not have mattered in the least',\n",
       " 'we worked with jon barrett in processing our refinance loanthis wa very quick and issue free process appreciated how jon kept u up to date through the whole process explaining the process a we went through it',\n",
       " 'the rate re lock in rule wa not followed',\n",
       " 'good newsthe99processing fee wa waivedthe rate wa locked for 3days but they closed in week did not have to pay for an extensionthey have also floated my rate down percent without any feesuntil the closing did not pay anything other than credit history check feenot so good newsthis wa very long and frustrating experience do believe that the process took longer than expected mostly because of the busy refinance season might be difficult customer or may be just unlucky but there wa always problem with every stage and detail of my refinance experience am trying not to blame theloan consultantbyron housworthfor thiswhenever asked about any time linethe answer wa fixedin week or so had to wait for nineweeks to closeit wa my luck that his vacation week wa in the middle of my processif nasb need document they will wait until the last minute and then come backoh we need this document or else we can continuewhen you have that one taken care ofthey will wait week or soto get back to you and next week you will hearit turn out we also need this documentthis went on and onthe day before the closing they would email me and saywe just noticed that we didn have your employment verification donehours before closingoh we just found out that we don have your home insurance verification and we can reach them called the insurance company and in ten minute it wa taken care of don know how many time had to hearthis should be okand turn out it is not okmany many time they assured me they have all the information they needbut this wa never the casethey were not very carefulthey missed out all the detailsthey wasted week and week because they were not able to go through check list and see if they have taken care of everythingthey always saywe are too busy with lot of application believe they shouln accept application that they can processsample communicationmewhy am being charged for such and suchrespondwe are not charging you for thatmeplease check the final hud line xxrespondsorry didn go down that farmesome of my favorite quote from themsorrydon come across this too oftenwasn aware of thatthis should workcan you possibly call them againwe need it asapthank you for your patiencetgif had to hear this timesthey are not bad peoplebut you need lot of patience dealing with themdo suggest working with themonly if you are not under any time pressureonly if you can work hard for your own applicationonly if you have lot of patienceoverall feel like nasb is an ok bank to work withbut don think could handle this hassle againread more',\n",
       " 'where a we did not end up taking loan from this company can comment on the fact that the broker matt wa quick to try to get my businessas soon a he found that there were complication with the mortgage insurance he stopped having any contact with mehe would not return my callsor emailsonce finally got hold of him he wa short with his answer and offer little help when asked for detail on the complicationswe went with different company for our loanread more',\n",
       " 'this closing went pretty smooth with the exception of few bumpsthe customer service agent wa prompt with response a well a document transfer wa not keen on doing refinance all electronic through email and phonebut have to saythe process wa easy and went well got great rate and the closing cost were goodthe only issue had wa at closingthe final document were written for 3year loan and it wa suppose to be 2year loanan issue happened at the final writing so did not close on the specified closing dateit happened day later after the paper were rewrittenit wa great they were able to resolve it in one daythe bad part wa got charged rate lock extension fee a my rate lock expired on the day wa suppose to close am sure could have fought them on the fee a it wa caused because of their mistake but now wa closing on new year eave and did not want to carry the closing over to the new yearread more',\n",
       " 'great customer service and very helpful',\n",
       " 'very helpful and great customer service',\n",
       " 'you can tell about his character and honesty from the very beginning couldn be happierthank you mark',\n",
       " 'buying house is the most stressful thing have donespecially with the developer company had to deal withbut mark and his team were the bestthey were always helpfulon timeand went the extra mile to help me and solve all my question am really happy chose themfrom the very beginning they showed their professionalism and their customer care skillsfrom the bottom of my heartthank youfor helping me get my first homeread more',\n",
       " 'mark and his team were very helpful and provided great experiencefast closing and competitive rate',\n",
       " 'bob did amazing jobprocess wa smooth and stress freedefinitely responded super fast and helpful10satisfied',\n",
       " 'very professional yet personablequick to help with any question or obstacle to the funding process highly recommend peter lammerts and his team',\n",
       " 'it wa pleasure to work with christopher waymire through the processhe made it easy and painlesshis staff and supporting team wa awesome highly recommend their company',\n",
       " 'great first time home buying experiencehave already recommended triumph to friend and familythe communication is what really made the differencestephanie and staff were quick to respond to my emailsanswering our questionsand providing reassurancethat is something that seems to belacking these day when it come to conducting business',\n",
       " 'wa trying to decide between triumph lending and much larger company whose name start with q and they have spaceship logo m so happy went with triumphthe other company got all needy and wouldn stop trying to call me once chose triumphhowevertriumph didn play any game with methey responded more quicklythey took the time to educate medidn use any gimmicky sale techniquesand were pleasant to work with through the whole process m so happy with their workthat m going to use them again when buy rental property next yearread more',\n",
       " 'this wa my first home purchashoweverwith peter and monica supportthey made this such an easy and smooth process always hear about the stress and challenge when buying housebut the day peter called and told me we were all good to go and would be closing in couple week laughed and honestly thought he wa jokingthat how simple and quick they were with my loan wa actually able to enjoy the entire process from application to closingtheir response time to email wa unbelievableyou would have response within minute at almost all hour of the dayall in allthey exceeded the bar with customer servicewould of given them 10stars if it wa optionwere extremely fast in the loan processgot me an outstanding rateand continued to call all the way through closing to make sure everything wa going wellif you re in the market to buy home or refinance peter and his team are the one for youthank you so much for all you did can never thank you enoughall the best to youread more',\n",
       " 'andy wa an incredible resource and guide throughout our first home buying experiencehe is highly skilledalways willing to helpand perhaps most importantly of allunderstandinghe answered my countless questionseven through text message at nightwith calm and professional demeanor that absolutely reassured me throughout the closing processwe plan on refinancing in few year and we have the utmost confidence that andy will be able to provide another superior experiencelooking forward to working with you againandyread more',\n",
       " 'thank you peter for always getting back to me right away with any question and making sure this wa smooth process and my loan closed on timewe appreciate this so much',\n",
       " 'found triumph online and reached outwe loved that they were very easy to get hold ofanswered all our question and went above and beyond to make sure we understood the whole processthe team is very responsive and keep up with everything you still need going forwardwe closed late on friday and funding happened relatively fast without any hiccupswould hand down recommend them anyone purchasing house a they made the process run smoothlyread more',\n",
       " 'had good gut feeling about triumph lendingbut wasted lot of time checking with few other mortgage companiesthose other company were all over the mapthere were two never heard back from after the pre approval stageone of them completely ignored one an email sent a follow up to phone callanother waited month to call me backtwo of them promised information and ever provided itthe real prize winner wa particularly pushy and wa completely unprofessional when informed him had decided to use triumph lending because they re closing cost were thousand of dollar lowerbut everyone worked with at triumphmostly vanessa floresloan officeralina vargasloan processortook every question seriouslynever failed to respond to requestquickly and accuratelyand know it sound clichebut felt like wa more than just number to themthanks to themmy wife and are getting our first homeread more',\n",
       " 'vanessa wasin wordfantasticshe wa there for me every step of the waywith perfect balance of professionalism and enthusiasmshe wa always very quick to respond to respond to my question andeven more importantlyher answer were always right did check with few other mortgage company and their representative couldn hold candle to herread more',\n",
       " 'it wa pleasure with johnbesides all the fee and closing cost being lower than other broker that reached out tojohn wa involved in every step of the wayhe wa on top of every element of the transaction and communicated timelynothing wa left to chance and even the loan wa ready to be funded one week prior to closing dayhaving shopped around and compared other broker know made great decisionfinancially and for peace of mindgoing with john would not hesitate to recommend his service to anyone looking for home loanread more',\n",
       " 'triumph wa extremely efficient wa so pleased with the streamlined process and use of technologythe entire team that we worked with wa knowledgeableprovided real time feed backand very personablewe had an awesome experience with triumph and will definitely recommend to other home buyer',\n",
       " 'excellent customer servicehad great experience working with lender marcos mayateam',\n",
       " 'can not say enough great thing about peter and his teampeter wa always availablealways responded right away and answered all my questionsnot only did he answer my questionshe took the time to explain everything in detail and made sure understood the answer and or process',\n",
       " 'buying house can be painfulyou have to fill out applicationsproduce proof of financialsetcbut chris and his team made this easythey were so easy to work withvery organized and always ready to answer question or explain why something wa neededchris is friendlyknowledgeable and professionalhe always had our best interest in mind and communicated with u every step of the waybest home loan experience we have ever hadread more',\n",
       " 'stephanie wa amazingshe wa side by side with u during the processanswering all our question and fighting for usshe did more for u than our own realtor absolutely recommend her and her teamyou guy rock',\n",
       " 'stephanie wa amazingwe just bought our first house in houston and we can be more thankful for all the patience and help she gave usworking with her wa pleasureshe did more for u than our own realtor and ll never forget itthank you stephanie you re the bestwe highly recommend her',\n",
       " 'great experiencegreat people',\n",
       " 'working with chris wa easyhe listens to your needsunderstands them and doe his best to meet themhe is openupfronthonestcommunicates quicklythorough and delivers high level of customer servicehis under writing and processing wa the best and fastest ve ever seenif you want great loan experience then do business with chrishe won let you downread more',\n",
       " 'great to work withvery responsive to all my inquiry',\n",
       " 'stephaniealina and phillip were great to workthey made the process quick and painlesshighly recommend',\n",
       " 'stephanie wa greatshe wa pleasure to work with and gave solid advice throughout the processthanks againstephanie',\n",
       " 'really enjoyed the service provided by stephanie drewry and her teamthey were very friendly and professionalthey always responded quickly and had great advice throughout the lending process',\n",
       " 'bob did amazing jobif can give more than star wouldprocess went so smooth and stress freedefinitely will respond super fast and super helpful10satisfaction',\n",
       " 'stephanie and her team were fantasticthe most helpful and responsive lender ve ever worked withthey really go out of their way to provide the best customer service possiblewould recommend to anyone',\n",
       " 'working with chris wa an excellent experiencehe is knowledgeableand he follow up with mein every step of the wayit really make big difference to work with professional like himthank you chris for all the time and effort you put in our deal',\n",
       " 'chris is not hard sell guyhe earns your business by giving you great deal and working hard for youchris wa always responsive andmost of the timereached out to me before even contacted himhis follow up is great a well highly recommend himif you do your part and provide the required information to obtain your loanthis man break speed record getting it donetwo thumb upread more',\n",
       " 'chris waymire and his team were spectacular wa first time home buyer and wa chris triumph lending were suggested to me by mutual friendchris and the triumph team were responsive and were very proactive in every stage of the dealthis guy is the real deal highly recommend financing through chris',\n",
       " 'chris waymire and his team were spectacular wa first time home buyer and wa chris triumph lending were suggested to me by mutual friendchris and the triumph team were responsive and were very proactive in every stage of the dealthis guy is the real deal highly recommend financing through chris',\n",
       " 'triumph lending ha great team that will walk you through the lending process hassle freethey treated me with great care and made sure to answer any questionsthe pre approval process wa easy to completeand the team were quick to respond every time needed pre approval letter for bidding on homethey were able to close on our house within month a wellread more',\n",
       " 'stephanie drewry took such wonderful care of uswhile we were purchasing home in another state felt a though we were the only customersbecause we received such personaltimely care',\n",
       " 'from the very beginningthe lending tree took excellent care of uswhile we were buying home in another stateevery daythey stayed on top of each stepto get our closingcompleted on the seller requested datethe lt team worked together like well oiled machine',\n",
       " 'awesome staff that work well together to support customer throughout the lending process marcosmonica and jc did phenomenal job keeping me informed and answering all question had about my loan and the process',\n",
       " 'marcos and his team were there every step of the way for usevery time we reached outwe received response within minutesthis go for callstexts and emailsmarcos made this process a easy a could imagine d recommend him and his team at triumph to anyone',\n",
       " 'started process for mortgage loan with triumph lendingnetwork fundingin houstontx wa given pre approval quickly with great interest rate wa continually informed via email and phone call thorough the entire process of the loanmy representative from triumph lendingpeter lammertsworked tirelessly to make the best deal possible for me in term of closing cost and interest rate on top of always being available to answer any question on loan thatto begin withlooked like it wa going to be an easy mortgage loan to processuntil some difficulty on my credit report showed uppeter wa very diligent to work on the issue and wa able to overcome all of the obstacle in order to do the mortgage closing on time and with my best interest in mind highly recommend peter lammerts and his team for their professionalism and efficient service read more',\n",
       " 'john and his team were greatbest lender process ve had with mortgage',\n",
       " 'marcos is tremendous asset to triumph lendingboth he and katie were extremely helpfulexplaining each step of the waykeeping u informed of all progressand accomplished everything they said they would dowe closed on timeon the last day of the month a plannedin the midst of high tension from all partiesgreat job',\n",
       " 'the team were great to work withexperienced and professional few bump with seller at the end and triumph pushed through and we closedand on timethank all',\n",
       " 'stephanie did great job and kept me informed at all timesshe seems to have put together an excellent team that all focus on getting the job done and done right',\n",
       " 'it wa great experience working with stephanie and her teamthe loan process went so smoothly that we were able to close day earlier than expectedmy realtor had not worked with triumph before but she made the comment at close that the process went so smoothly because of the great lender and title company that we used would definitely reach out to triumph for any of my future lending needsread more',\n",
       " 'bob and triumph beat other lender rate and were prompt with approval and closing',\n",
       " 'bob called me checking on me and answered question via email within minute or no later than an hourhe reassured me when another lender wa trying to make me think that there were problem with triumph and followed my gut and stuck with bob and triumphbob and katie were amazingthey beat the other lender rate by of percentage and saved me on closing cost a wellthe other lender wa more strict and closing cost were higherhe is amazing and now we have our home and could not be happierread more',\n",
       " 'went above and beyond to make sure had a much information needed to close on my homegreat job by kevin and team to stay connected and provide timely communication to close earlyhe truly care about the individual and family and provided great overall experience for one of the more stressful time in someone lifegreat job overall and thanks again for all your hard work and information that wa super helpful truly appreciate his approach and confidence he earned with me knowing he will do what is right for u and his customersread more',\n",
       " 'we had the pleasure of working with john guerra for our condo purchasehe made our home loan process much easier than we expectedwill definitely recommend to family and friend',\n",
       " 'stephanie wa awesomeworked very hard for u to make sure the loan closed',\n",
       " 'triumph customer service wa greatstephanie worked very hard to ensure we closed on time and to address resolve issue that arose prior to closing suggest you use them and specifically request stephanie drewry',\n",
       " 'this is the second time have worked with glen for home mortgageeach time the process went smoothlythis second time we also had janel and salvador helping out wa impressed with their responsivenessjanel even answered question during non business hour and wa great with follow up highy recommend them',\n",
       " 'john guerra wa super fast in responding and explaining the processit wa the easiest loan process have done',\n",
       " 'worked with steven castaneda few year back when we were looking at buildingwe ended up getting pregnant and deciding to hold offsteve did not push or harass me with call or email which appreciated few year later when we decided to move forward with sale and purchase remembered how helpful he wa and the time he spent explaining thing to me before so contacted himhe wasagainvery helpful walking me through it all and answering all my question about the process knew very little about home buying and really appreciated the timewe just closed on our dream home and everything went very smoothread more',\n",
       " 'worked with steven castaneda few year back when we were looking at buildingwe ended up getting pregnant and deciding to hold offsteve did not push or harass me with call or email which appreciated few year later when we decided to move forward with sale and purchase remembered how helpful he wa and the time he spent explaining thing to me before so contacted himhe wa again very helpful waking me through it all and answering all my question about the process knew very little about home buying and really appreciated the timewe just closed on our dream home and everything went very smoothread more',\n",
       " 'have been working with john for the last few year placed few offer in different house and no luckbut john wa always there having all the document needed readyjohn attention to detailsresponsiveness and customer service wa second to nonehe wa there in all the failed offer and it wa joy when finally we had an acceptedjohn wa always available by phone or email and responding almost immediatelyjohn helped u to make buying home smooth and enjoyable processloan documentation wa easy to manageif you are in the process of buying or refinancing your homelook no further than working with john guerraread more',\n",
       " 'matt pierce went above and beyondhe wa able to make suggestion that didn know about due to his experiencehe also answer at almost every hour of the week feel like he worked more hour than he should have for the commission he probably received will definitely be contacting him about my next loangreat guynever got annoyed with all my requestsnever felt him express frustrationwouldn blame him if he wasalways pleasant to talk totexting him made the process so much easierread more',\n",
       " 'matt pierce went above and beyondhe wa able to make suggestion that didn know about due to his experiencehe also answer at almost every hour of the week feel like he worked more hour than he should have for the commission he probably received will definitely be contacting him about my next loangreat guynever got annoyed with all my requestsnever felt him express frustrationwouldn blame him if he wasalways pleasant to talk totexting him made the process so much easierread more',\n",
       " 'chris waymire is the loan officer that worked with and had been in contact with him for sometime before purchased my homehe wa very helpful and knowledgeable about the loan processhe made my loan process very easy and had no problem getting qualified and no delay in the process all the way up to my closing would recommend chris and triumph lending to any of my family and friendschris helped me get into my dream home and am truly thankfulread more',\n",
       " 'very friendlyknowledgeableand willing to answer any question would highly recommend him for any refinance or home loan',\n",
       " 'just refinanced my house with loansnapthis company is amazingeveryone dealt with wa friendlyknowledgeableand willing to answer my question would highly recommenced loansnap to anyone that is looking to refinance their homemy loan officer wa dyllon i would highly recommend himhe is very knowledgeable and make the whole process seem easy',\n",
       " 'buying home is complicatedthere multiple partiesand competing interestsand it can be really stressful and frustrating experiecnewhat help enormously is working with lender that is upfront about what it can offer and acceptin term of type of loantype of propertydownpaymentand timing of close received call from dlj when my previous lender changed term on me two week into escrowand in desperation had filled out the lending tree form in the hope if finding new lenderat the time honestly thought my purchase wa going to fall throughthe next day received call from number and lender didn recognizeit wa dljam glad answered the phonewithin minutesadan munoz had me back on trackdlj team wasacross the boardknowledgablearticulatewell coordinatedcalm and constructivethey offered product that met my need perfectlyand got me across the finish line in record timespecial shout out to the focusedunflappableand highly responsive ranee martinezread more',\n",
       " 'appreciated the team thoroughness and constant update throughout the entire process',\n",
       " 'just want to thank robert mcclung and janeen cadwell for their kind assistance through the loan processalthough had many question in the beginningrobert provided the information required to make me feel comfortable with refinancing our homewhat great experience and highly recommend dlj financialthanks again robert and janeen for the great service',\n",
       " 'dealt with robert mcclung and when were hitting some bump in the road he wa persistent and managed to get our business loan throughhe a real professional and know his business d love to deal with him again if we have the opportunity in the future',\n",
       " 'great person to work with who had never give up attitude',\n",
       " 'incredibly responsive and completed the process with little effort',\n",
       " 'great lender to work with',\n",
       " 'brian is absolutely the best to work withhis response to any question is lightening quick an his attention to detail is second to nonemost of the time dread the loan process but with brian and sekaniit wa truly painless and easyif you want loan officer who instills confidence and is dedicated to serving his clientslook no further than brian appreciate the help guysread more',\n",
       " 'ethan our mortgage banker from dlj financial wa absolutely pleasure to work withfrom start to finish he kept u updated and in the loopthe process of our heloc wa fast a welllisa the processor wa very kind and attentivefrom the first phone call had with ethanhe wa very detailed and had nothing but my best interest in mineethan ha definitely earned my business for many year to comeread more',\n",
       " 'adan is great loan officerhe is always responsiveknowledgeable and ha your best interest at hearthe is good to his word and on top of everythingthank you so much adan',\n",
       " 'adan munoz apparently doe not sleep because he is responds to any question almost immediately refinanced my home and the process wa smooth because adan wa so on top of everythinghe got me the best rate and kept his wordmy only concern wa that he wa slow to give me loan estimate with the agreed upon rate and term bc it appears they were waiting to see if the rate would go downwhen it didn he honored his wordwhich is really the best thing one can ask forhe is patient and good at explaining thingstrust me bothered him with many question and he wa always kind and professionalclosing went a planned and within 3days trust dlj and adan fully and that mean lot with such huge investmentread more',\n",
       " 'super responsive and very thorough will look him up for the next transaction haveall question or concern were answered promptlyben',\n",
       " 'worked with anthony and ranee for the refinance of my current fha loananthony wa very through and explained everything with detail during the entire process of the loanranee wa also super thorough and easy to deal with would have no issue of using them again for my mortgage needsdljs process wa mostly all online and worked flawlesslyben',\n",
       " 'had the pleasure of working with anthony for our home refinancemy husband and throughout the yearshave refinanced and acquired many home loan can honestly say that anthony ha been the best mortgage banker we have ever had the pleasure of working withanthony wa very prompt and responsivealways answering our phone call and email within timely manneroften time on his day off or after hour would recommend anthony to anyone that is looking for painless refinance or home loanread more',\n",
       " 'had the pleasure of working with anthony marroquinthroughout the yearsmy husband and have worked with many different company to refinance or acquire home loanswithout doubtanthony ha been the best mortgage banker that we have worked withanthony always responded swiftly two email and phone callsoften time on his day off or after hoursanthony wa always professional and knowledgeablehonestlyhe made u feel like we were his only clientoften timesrefinancing your home is stressful and laborious processanthony made our refinance painlesswe would recommend him 10read more',\n",
       " 'lee team of ethan and angelica did fantastic job making my loan happen had complication and they figured out way to complete the loanvery happyjim',\n",
       " 'agree with her of star reviewshe wa easy and clear to work withfrom the hello onvery knowledgeable and direct in her conversation which is my styleshe worked well a team with the processor thatasks for all your document had very smooth transaction and wa successful at having my loan fundedvery happy to have worked with michele and will call her for future dealingsread more',\n",
       " 'just got funded with dlj and it wa very smooth transactionmichele neal wa pleasurefrom the hello onshe wa super communicative professional and available at all timesshe worked with sekani hamiltn who processed the loan and wa also in constant contact with methey were great teamsekani wa attentiveresponsive and both were very knowledgeable in the field wouldn hesitate to use dlj in my future for any of their service had good experience working with both of these customerservice oriented people who reflect dljread more',\n",
       " 'had great experience working with adan munoz and his team at dlj financialadan and began working on refinancing option for our home but we decided to relocate and selladan stayed with u and helped u secure mortgage on new homethe process wa painless thanks to adanlee kulick and janeen cadwelltheir knowledgekindness and prompt response to all of my question and concern made my whole experience very pleasantwhich ha not always been the case when dealing with lender in the past would definitely recommend dlj financial to anyone looking for new loan or refinancing optionsread more',\n",
       " 'worked with adan munozand the loan processor janeen cadwell on refi and felt like we were all team trying to make this loan happenwe had our ups and down a most loan will with condition and underwriting guidelinesbut they got it done for me in the end and am very pleased with the service gotthey are top notch and would recommend them to anybodyread more',\n",
       " 'anthony marroquin and his team were knowledgeable and provided me with clarity through the entire re fi processif you are looking for crediblecost effectiveefficient and solution oriented mortgage brokergo with anthony marroquin and dlj financial',\n",
       " 'anthony marroquin and his team were knowledgeable and provided me with clarity through the entire re fi processif you are looking for crediblecost effectiveefficient and solution oriented mortgage brokergo with anthony marroquin and dlj financial',\n",
       " 'jaclynmaribelfirst time doing refi completely onlinewe have owned several property for over 4yearsdlj senior mortgage banker jaclyn and maribel were both courteousprofessionalknowledgeable to every extent and made this choice with dljone we wish we had for every property purchase or refi we made in the pastseemless and delivered on every promise made on day onewe couldn have been happier for the service they provided and the manner in which they provided itstar all the way aroundthank you to both of you and your dlj teamread more',\n",
       " 'anthony marroquin wa my primary senior mortgage bankeranthony patiently and thoroughly fully explained everything to me step by step from start to finish while exploring all option for the best result went with dlj because of anthonyhis individualized carehis competenceand his commitment to making all the right stuff happenas anyone who is in the financing market knowswhen you begin to research option you are swamped by endless phone call and text from dozen of company all offering everythingbut usually not disclosing the downside or hidden feesanythony is so savvyfinancially creativethoughtfuland thorough that chose to work with him and dlj versus any other companyanthony walked me through all the step and requirement from beginning to successful finishthus my star for anthonyif and when do further refinance will go to anthony marroquin and dlj financial for the best service and optionsread more',\n",
       " 'recently successfully financed home loan through dlj financial andsenior mortgage banker anthony marroquin had discovered that traditional bank and online financing company were impossible for me to work with because they held against me my record of variable income am self employed freelancer and multi emmy winning reality tv producer who work for more than decade on major network serieshoweverdlj carefully evaluated everythingtreated me a unique person rather than just bunch of standard number to be crunched and averagedand they made it all happenstraightforwardlyfully explainedand with no glitchesanthony marroquin patiently and thoroughly fully explained everything to me step by step from start to finish while exploring all option for the best result went with dlj because of anthonyhis individualized carehis competenceand his commitment to making all the right stuff happenas anyone who is in the financing market knowswhen you begin to research option you are swamped by endless phone call and text from dozen of company all offering everythingbut usually not disclosing the downside or hidden feesanythony is so savvyfinancially creativethoughtfuland thorough that chose to work with him and dlj versus any other companyanthony walked me through all the step and requirement from beginning to successful finishthus my star for anthonyif and when do any further financing in the futureit will be with dlj andanthony marroquinthey have my highest recommendationread more',\n",
       " 'we are grateful that we came across adan muñozhe wa knowledgablekindand professionalhe always remained calm and helped u with our question every step of the wayour underwriter wa helpful a well and made the process seamlesswe appreciated the secured email system that wa used a wellour loan closed earlier than we expected and we are happy with the resultsread more',\n",
       " 'we are grateful that we came across adan muñozhe wa knowledgablekindand professionalhe always remained calm and helped u with our question every step of the wayour underwriter wa helpful a well and made the process seamlesswe appreciated the secured email system that wa used a wellour loan closed earlier than we expected and we are happy with the resultsread more',\n",
       " 'adan munoz wa very responsive to our need in refinancing our mortgagehe wa available to useven after hour when necessary highly recommend dlj financial',\n",
       " 'jaclyn wa super friendly and awesome to work withjaclyn is very easy to talk to and explains everything so you understandfive minute talking to her sold u on going with her firmwe talked to two other company and neither company could compare to hershe made the whole process very easy and worked hard to give u what we needed would surely call her again should we need anything in the futureread more',\n",
       " 'we were shopping around to refinance and came upon dlj financialthey listened to what we wanted and worked very hard to give u what we neededwe had gotten quote from two other company and they couldn even compare to dlj financial our customer service rep jaclyn martin work hard to give u everything we wantedshe explained every step of the process and wa always there to answer all of our questionsshe wa super friendly and easy to talked to loved working with her and sakani hamiltonthe experience wa not stressful and everything went fastwould surely work with them againread more',\n",
       " 'fantastic communicatorand able to offer option you may not have consideredthinks about the big picture and how to best achieve your long term goal',\n",
       " 'it is simple reallydoing re fi is lot of workand can be stressfulwhat you look for in company is one that is going to handle all that for youand work to your best interestas well a present idea to you that you may not have known were optionsonce your strategy is underwayyou want communicationupdates and overall insight a to how the process is goingand those three thing should happen easily and in non invasive waydlj check off every box mentioned above would highly recommend them to anyone that want to do re fi correctly and with minimal stressread more',\n",
       " 'this man is amazing said it all in the orginal review would deal with him again and againthank you bryan',\n",
       " 'am going through break up of 1year relationship so thing are hard and im trying to find my way forward delt with several pushy finace company that just didnt likethen came accross bryanthis man wa amazing he answered any question had kept me in the loop and emailed me anything asked foron top of all that he listened to my woe about my current relationshipthis little bit of compassion and humanity is why decided to deal with bryaneverything went smooth and now im going to bring my mother to bryan to get her refi done would use this company in the futurethanks bryanread more',\n",
       " 'bryan wa definitely the best loan officer ve come across in yearsexcellent communicatorknowledgeable and on top of the processhighly recommend',\n",
       " 'have purchased property in ca in the past 1yearsand this wa by far the best experience ve had with lenderthey were quickfairdetail oriented and great communicatorsplease note am also in real estateand have had client go thru terrible experience with larger institution recentlybryan is really on top of the process and is very knowledgeablewill be using them again for personal useand also referring them to clientsread more',\n",
       " 'paul did great job from the initial call and email from my inquiry requestto the final stage of the processhe and his staff worked well to get our loan done in timely mannerwere always available and came through with the loan and rate he said he get u d recommend paul and will use him again in the future a the need arises',\n",
       " 'ethan and peter worked tirelessly to close out my loanthey were extra attentive to my question and explained the whole process in detailthe team wa responsive and polite called many institution but in the end it wa dlj and ethan who earned my business can not be happier with the result',\n",
       " 'a first time home buyer the process can be very dauntingbrandon wa great guide through the entire process feel that he did his absolute best to provide me with fair ratehe wa very responsive and helpful with any and all question can assure you will use him for my next home purchase',\n",
       " 'absolutely the best service used them twice for my own loan and they are my preferred lender to send my client tothey answer all question from application toclosejo ann is extremely knowledgeable and work well with first time or repeat buyersher team make sure everything go smoothly and close on tineexceptional service',\n",
       " 'first met penny several year ago when began getting information for home loanat that time my income wa not high enough to secure loanpenny took the time to work with me and gave me the information needed to be able to secure home loan at some future datethat time finally arrived in july of this year and penny helped me through all of the detail of financing home loan always felt penny wa in my corner from the time that met herpenny is friendly and ha very caring way about herbecause of her commitment to me and getting the loan wa able to purchase beautiful two bedroom condo which also ha finished basementthanks to penny now even have man cave couldn be happierread more',\n",
       " 'we have bought and sold multiple property in our lifetime and had many experience with lendersbut the one with brandon mears wa unique to say the leastbrandon is true professionalhonestefficient and supportive at level we never experienced beforehis commitment in finding the best loan and saving opportunity for u wa quite remarkablehis constant support and frequent communication made u very comfortable with our decision to work with himphone callstextsemails were answered almost immediately and his follow up wa impeccableread more',\n",
       " 'worked with sam fazio on home purchasenot only did he provide me with low interest ratelow closing coststhe process itselfwas seamlesshe wa detailed in his explanation of the mortgage processintroduced me to everyone on his teamwho were all wonderful a welland my loan wa clear to close way ahead of schedulemy realtor and my attorney were super impressed with the service he provided me recommend sam fazio to everyone know who is looking for mortgageread more',\n",
       " 'worked with sam on home purchasenot only did he provide me with low interest ratelow closing coststhe process itselfwas seamlesshe wa detailed in his explanation of the mortgage processintroduced me to everyone on his teamwho were all wonderful a welland my loan wa clear to close way ahead of schedulemy realtor and my attorney were super impressed with the service he provided me recommend him to everyone know who is looking for mortgageread more',\n",
       " 'friendlyknowledgeableexperienced in the industryone of the best company ve had to do business withand would and will use again upon my next purchase of home or refinancejim moore and his team are on of the best here in raleigh north carolinayou can look forward to being on of the guaranteed rate familyand just smiling',\n",
       " 'penny ha been nothing short of amazingpenny ha helped my wife and multiple time get into mortgage that fit usand we are comfortable withshe work hard day and night to make her customer happyand ha truly changed our life for the better',\n",
       " 'penny is pleasure to work withshe work very hard to find the best rate and decision for our mortgage purposesshe work at fast pace with quick responseswe enjoyed working with penny and have referred her to many peopleour referral let u know they were happy for the recommendation and couldn have asked to work with someone better strongly encourage you to give penny call with all your mortgage inquiriesread more',\n",
       " 'good servicevery helpful people',\n",
       " 'met mrgermain through my daughter and son in law who have known him and have done business with him for several yearsmrgermain also helped my granddaughter buy her first homewe moved from our home in another state that we lived in for 5yearsthinking this would be very frightening and intimidating process wa dreading the whole thingmrgermain made the transition to new home so much easier because of his knowledge and compassion would recommend mrgermain to anyone out there who want le stressful and very positive experienceread more',\n",
       " 'dean wa easy to contact and work with throughout our lending processthe home purchase experience from our pre approval letter to the closing table wa excellentdean is extremely responsive and his team provides great tracking for the closingdean ha been in the industry for year and provides not only great servicebut tremendous expertisehighly recommend',\n",
       " 'dean ha been such huge helphe took my call when he wa off work and gave me his undivided attentionhe helped me land my dream home would highly recommend him to anyone looking for lenderand do so on regular basis',\n",
       " 'very profession able and knowledgeable of the industryvery helpful',\n",
       " 'have worked with dean professionallyafter seeing how well his other transaction went decided to use him for my personal loan wa very impressed with his knowledge for the loan industry and his professional manner in all aspectsmy refinance went thru without hitch am so happy trusted his advice highly recommend deanplan to use him for my next homeread more',\n",
       " 'dean made the homebuying process so simple for my husband and a first time homeownersit can be so overwhelming trying to find the right rate and learning all the lingodean helped u every step of the way and two year later we are still so happy in our home highly recommend him to anyone looking for someone to help them get their dream home',\n",
       " 'dean wa professional and very informative right from the startit wa impressive how quickly he returned correspondence and update on our loan status and question we hadour conventional loan closed in the time frame dean gave u and he worked hard through some unforeseen issueswe could not be happier and will certainly recommend dean germain and be confident they will receive the same top notch experienceit is clear dean is passionate about his client and the mortgage productread more',\n",
       " 'this wa our first house so of course we were freaking outbut thanks to dean he made the whole process easyhe wa very patient in answering my thousand of question and walked u through every stephe had great communication highly recommend him and when we are ready for our next house he will be who callthanks again for everything',\n",
       " 'spent week working with numerous brand name bank and lending intuition to refinance my home assumed this came after particularly opportune timeas just completed full cycle in my full time employment position had all the document uploaded within day or my incomecredit score401k balance were all quite respectablehoweverrather than being met with the highest degree of professionalism wa met with stumbling block of bureaucracythen wa very fortunate to find michael and his most dedicated professional staff at guaranteed rate wa prepared once again for anythingother than the professionalismsensitivityand quickand at the same time responsibleturnaround immediately receivedthe closing coststitle insuranceetcwere the lowest have ever seen closed this weekoriginal mortgage paid offmoney in my accountall with the most respectable and free flowing experience imaginablethank youmichael and crewjacob koppelread more',\n",
       " 'marcus wa great to work withwas always quick to respond to any question hadwill deff recommend and use in the future',\n",
       " 'our last home purchase wa stressful and challenging process to say the leastone so difficult that we were reluctant to embark on the process again since that wa the only experience we have knownexpressing the dread of the journey to our realtorhe recommended for u to use guaranteed rate and to trust him on this recommendationwe are so happy that we did because we were absolutely blown away with guaranteed ratethis time around wa such breeze because of rick richter and his wonderful teamthey broke down the process beautifullyeliminated any guessworkand were always available for any question or clarification guarantee that you will have phenomenal experience with guaranteed rateread more',\n",
       " 'our last home purchase wa stressful and challenging process to say the leastone so difficult that we were reluctant to embark on the process again since that wa the only experience we have knownexpressing the dread of the journey to our realtorhe recommended for u to use guaranteed rate and to trust him on this recommendationwe are so happy that we did because we were absolutely blown away with guaranteed ratethis time around wa such breeze because of rick richter and his wonderful teamthey broke down the process beautifullyeliminated any guessworkand were always available for any question or clarification guarantee that you will have phenomenal experience with guaranteed rateread more',\n",
       " 'guaranteed rate entire team wa very helpful and responsiveamazing customer service and appreciate their hardwork',\n",
       " 'simply awesomeresponsive and very helpful',\n",
       " 'jason chandler and his team worked so hard to ensure that we were able to purchase our beautiful home can explain how difficult our situation wa and everything that could ve possibly went wrong managed to go wrongwe were so frustratedjason kept u on the right track and helped u resolve all our issue and wa able to close our loanwe will forever be grateful for him and his teamthank you guy defiantly recommend this company to everyone needing home loanread more',\n",
       " 'guaranteed rate provided u seamless loan experience from beginning to endwith wonderful service from all the staffwe shopped many lendersbut found guaranteed rate offered the most candid feedbackhonest ratesand reasonable feesthank you',\n",
       " 'rick and his team with guaranteed rate are fantasticour experience wa delightful from beginning to endwe recommend rick highlythank you so much for all the hard work to make our buying process go so smoothly',\n",
       " 'tom wa pleasure to work with and really took the time to answer all of our questionshe always answered his phone when we called and went above and beyond to make sure we had good experience have since referred three friend to him who all had similar experiencestom is very knowledable and is the best in his industryyou ll be hearing from u againtomthank you for everythingread more',\n",
       " 'this wa such an easy and quick processthe team wa very responsive to any question that hadwould definitely use them again and recommend themstars',\n",
       " 'gregory understood my need and he wa able to listen and helped with the processwe closed in timely fashion',\n",
       " 'worked with scott on two mortgage experience and they both were incrediblehe wa in front of all the question had and made the process stress freehis knowledge of the product and industry is amazing m thankful that our path crossed and had scott in my corner when went through the mortgage process',\n",
       " 'guaranteed rate wa great lender company we chosethis is our second experience using them to buy our houseas other place have been more expensivewe have contacted matt at various hour of the dayand he ha been very helpful in explaining the process',\n",
       " 'wa quick and easy processthey worked with me to find loan that would fit my circumstancesvery satisfied with the entire processmy third loan through them',\n",
       " 'after my loan process with another lending company fell apartrick richter came to the rescuehe wa able to pick up the piece and complete the whole process fast and efficiently without having to change our original anticipated closing daterick wa nothing but kindcourteousand very informative from start to finish would highly recommend the service of rick and his teamread more',\n",
       " 'this process wa simple and straight forwardunlike other lender we were not continually ask to provide the same documentation repeatedlywe were very happy with how quickly and easily the loan took from start to finishthe loan officer matthew mcdevitt wa available when neededbut not overbearingwe had previous poor experience with lender that made numerous promiseseven in writingand then a closing approached changed the deal in dramatic fashionwhich wa caused u to eventually decide not to move forwardthis deal happened faster than anticipated with literally no hang upswe would totally recommend guaranteed rateto those that question using an online lenderseveral trusted source pointed u in this directionbut in fairness we considered that we don really personally know our local banker either and lack of face to face interaction doe not stop all type of business we take part in dailywe hope to never have to move againbut when we are ready to financewe will check guaranteed rate againread more',\n",
       " 'had fantastic experience working with brian belcer and his team at guaranteed rate while purchasing my first homehe made himself available just about any timeday or nightto walk me through the process and answer all of my question am very happy with the mortgage wa able to obtainand ultimately feel that am much more educated on the process now than wa before working with gr highly recommend them to anyone in the market for homeand will absolutely be using them again for all of my future home purchasesread more',\n",
       " 'worked with tracy padgettshe completely professional and always willing to help explain thing at any time of the dayshe wa great to work withand would definitely recommend her to family and friend',\n",
       " 'our experience with tom exceeded expectationshe wa always available to answer my question via emailphone and texttom and his teamkenwere true professionalsthey delivered on everything they said they wouldcouldn be happier with the home buying process because of themthankful that we choose garanteed rate through lending treethank you tom',\n",
       " 'chuck williams and the richter team made buying our first home great experiencethey gave u quality customer service and helped explain every step of the processthe team wa able to work within our tight timeline and the process felt like breezewe feel comfortable knowing we got the right loandefinitely recommending their service to everyone',\n",
       " 'it wa quick and easyand they were pleasure to work withany and all question were answeredrecommend them anytimematt and rich were greatthank you',\n",
       " 'met mrgermain through my daughter and son in law who have known him and have done business with him for several yearsmrgermain also helped my granddaughter buy her first homewe moved from our home in another state that we lived in for 5yearsthinking this would be very frightening and intimidating process wa dreading the whole thingmrgermain made the transition to new home so much easier because of his knowledge and compassion would recommend mrgermain to anyone out there who want le stressful and very positive experienceread more',\n",
       " 'dean wa easy to contact and work with throughout our lending processthe home purchase experience from our pre approval letter to the closing table wa excellentdean is extremely responsive and his team provides great tracking for the closingdean ha been in the industry for year and provides not only great servicebut tremendous expertisehighly recommend',\n",
       " 'dean ha been such huge helphe took my call when he wa off work and gave me his undivided attentionhe helped me land my dream home would highly recommend him to anyone looking for lenderand do so on regular basis',\n",
       " 'very profession able and knowledgeable of the industryvery helpful',\n",
       " 'have worked with dean professionallyafter seeing how well his other transaction went decided to use him for my personal loan wa very impressed with his knowledge for the loan industry and his professional manner in all aspectsmy refinance went thru without hitch am so happy trusted his advice highly recommend deanplan to use him for my next homeread more',\n",
       " 'dean made the homebuying process so simple for my husband and a first time homeownersit can be so overwhelming trying to find the right rate and learning all the lingodean helped u every step of the way and two year later we are still so happy in our home highly recommend him to anyone looking for someone to help them get their dream home',\n",
       " 'dean wa professional and very informative right from the startit wa impressive how quickly he returned correspondence and update on our loan status and question we hadour conventional loan closed in the time frame dean gave u and he worked hard through some unforeseen issueswe could not be happier and will certainly recommend dean germain and be confident they will receive the same top notch experienceit is clear dean is passionate about his client and the mortgage productread more',\n",
       " 'this wa our first house so of course we were freaking outbut thanks to dean he made the whole process easyhe wa very patient in answering my thousand of question and walked u through every stephe had great communication highly recommend him and when we are ready for our next house he will be who callthanks again for everything',\n",
       " 'spent week working with numerous brand name bank and lending intuition to refinance my home assumed this came after particularly opportune timeas just completed full cycle in my full time employment position had all the document uploaded within day or my incomecredit score401k balance were all quite respectablehoweverrather than being met with the highest degree of professionalism wa met with stumbling block of bureaucracythen wa very fortunate to find michael and his most dedicated professional staff at guaranteed rate wa prepared once again for anythingother than the professionalismsensitivityand quickand at the same time responsibleturnaround immediately receivedthe closing coststitle insuranceetcwere the lowest have ever seen closed this weekoriginal mortgage paid offmoney in my accountall with the most respectable and free flowing experience imaginablethank youmichael and crewjacob koppelread more',\n",
       " 'marcus wa great to work withwas always quick to respond to any question hadwill deff recommend and use in the future',\n",
       " 'mike wa the bestalways therefor all my questionswe closed the loan in week and would refer him to everyone',\n",
       " 'they were very helpfulany question or concern they answer very quickly',\n",
       " 'thank yourick richterand your team for completing our mortgage refinance on time and making u feel like valued clientswe so much appreciate the way the entire team were always there for u when we had question and were able to promptly work through the hurdle of refinancing with professionalismwe are so happy with our rate and with your service',\n",
       " 'the team atguaranteed rate took complicated tax return situation and smoothly sailed it through the usually horrible mortgage processbut some how their tremendous team made it quickcleanand painless got fantastic low rate with an easy loanwhat else can you ask forthank you michelle and the rest of the teamyour the best',\n",
       " 'mike knowledge and enthusiasm are evident in everything he doe ve never worked with anyone who responds to email fastergreat communication and great service',\n",
       " 'mike is one of the most highly rated and successful mortgage broker in the countryhe also one of the most knowledgeable broker that know work with mike frequentlyand rely on him to educate me and my client onand navigate u throughthe latest mortgage regulation am also extremely impressedbecause have seen mike obtain preapproval for client in matter of 3minutesafter normal business hoursread more',\n",
       " 'friend of mine told me that he just refinanced his house for an unbelievable interest rate and wanted to find out what the rate were in the market wa little skeptical about how this online process of finding the mortgage refinancing worksbut joe dilucchio of guaranteed rate wa fantastic to deal withhe wa super helpfulfriendly and ensured that he answered all my question to ensure that we werent wasting each other timejoe provided different type of optionspatiently explained all of them and went through pro and con and most importantly didnt try and and sell me anything have met enough folk who will try and force an option on you and want you to buyjoe attitude of building relationship instead of selling deal really resonated with me and will certainly recommend joe to anyone who in interested in financing or refinancing option and will certainly reach out to him for my financing need in the futureread more',\n",
       " 'am pretty sure they set world record in getting my paperwork done properly and without hassle d recommend doing business with them hand down',\n",
       " 'had great experience working with joanneshe is very experienced and knowledgeableyet patient when answering my questionseven if they were basicshe made everything easy to understand and wa accessible during each step of the processwhich definitely helped reduce any doubt or hesitation that came acrossas resultthe process went smoothly and felt confident with my decision and result would strongly recommend her to anyone else who is the process of buying homeread more',\n",
       " 'awesome experiencevery professionalefficient and great communicationthis team is on top of everything with simpleefficientlatest technology to close fasthighly recommendrick wa very professional with all optionsopportunitiesand communicationscompetitive product and recommendation were offered for consideration',\n",
       " 'spoke to one of your customer service rep wasn willing to start the process and or give her personal informationshe hung up the phone without saying anything and left me on the phone very unprofessional',\n",
       " 'bad',\n",
       " 'for some reason this company denied me because they insisted my monthly obligation were more than 1times the actual amount provided all the necessary proof of this error to no availthey clearly listed all of my obligation twice when figuring my debt to credit ratio and paid no attention to the documentation from my creditor showing the accurate informationread more',\n",
       " 'at the end of the 3day periodwe were about to sign our contract for our new mortgageit was250more than what wa disclosed to uswe were not able to close and guaranteed rate never told u about the extra cost talked with several supervisorsto whichnothing wa dealt with appropriately for service recovercustomer satisfaction or complaint grievance resolution called quicken loan and they were able to help me quickly and were professional would not recommend guaranteed rateread more',\n",
       " 'have never been so frustrated with company apply on mondaythey contact me via phone and email almost immediately but missed the callthe email from the mortgage person said that we could initially communicate by email to get the ball rolling if that workswhich it doe when you spend your entire day on the phoneso emailedand emailedand emailedthen kept callingemailed again and even emailed customer serviceand nothing can even get the courtesy of responseeven if it to saygot your emailswe will get back to you a soon a we canwhich would be perfectly finenow have hit on my credit from them and nothing to show for it so now someone else will be getting my businessdon waste your time with themread more',\n",
       " 'unfortunately we were dealing with an agent in the santa clara county area in ca and his name wa andrewhe left from another company called alpine mortgage and moved to this company and thats where everything went badresponsiveness towards myselfthe agentand my client ha been slow and every aspect of the transaction ha now been delayedasking for paper in the 19th hour ha killed our chance of closing this on timeunfortunately andrew ha done everything but help u out and be strong customer service rep would not wish his service upon any other home buyervery disappointed on the entirety of this guy professionalismread more',\n",
       " 'adam and his team apparently do not communicate with each otherextremely disorganized and very unprofessional would not recommend',\n",
       " 'while william wa finemy loan officerand wa at time very goodthis entire experience wa horrible when it came down to the actual processing and closingthe underwriter did not tell me about additional item needed until the very last week before closingand feel that she should have been able to give me that list when called to check status to week priorat that point wa told that everything wa good to go and just waiting on the appraisal live in hawaii and buying here mean that there is day lag time from when you sign to when the closing is actualthe item she wa demanding would take 11business day to get and had already purchased my airline ticketshipped my vehicle and household goodsthere wa no compassion and it came across a she wa the word of god and would have to bow her willthe company did not even offer any assistance for having to pay for the change had to do with my time and schedule a well a the airfarethey only care when it come to getting your moneywith buying being stressful a it isthis wa uncalled for from the company side and they need to reevaluate their process and get the understanding of what real customer service isit is respect of the customer and their time and livesstay far away from this companyread more',\n",
       " 'lending tree matching me up with company that don offer the product requested',\n",
       " 'arbor mortgage failed me in more way too list then notthe government shut down did not help the situation but should of never been in that situation in the first place if this company would increase their communication and dedication to the costumer then may be would recommend thembut for now no chance',\n",
       " 'wa contacted via email by jody martin twice answered her question then never heard from her againthat not what call good customer serviceif they were unable to approve me for mortgage that finebut at least let me know',\n",
       " 'aweful experience in term of servicefollow up and overall experience would not recommend to anyoneat least the louisville ky officemy loan wa submitted on may 2and wa told by my loan mgr daniel dunlop that should expect closing in 3daysit august 2and still haven closedworse part is it take on average day for anyone there to follow up to my phone callmy loan mgr daniel dunlop stopped working with me because he said he wasn making enough money from my loan and wa pulled offthis wa after week of not hearing from anyone to find out what wa going on with my loan finally called the corporate office in chicago when no one wa calling me backthey had freddy western the branch manager call me and his follow up is worse than daniel they may advertise low apr but it come at big price and is just now worth itread more',\n",
       " 'wa not able to provide viable product for my needswas rude when wa confused and upset about their inability to help',\n",
       " 'called me after 6seconds of submitting my lending tree formasked if they could run some number by mewhich later found out wa pulling my credit score without my permissiondidnt ask any specificsjust emailed preapproval letter with horrible rate',\n",
       " 'spoke to this lender for quite some time and gave them all of the information needed and they even pulled my creditthanks for the negative ding on my credit score nowand they said they were sending out information for me to continue with refinancenothing wa ever sent called back and wa told that someone else sends out the information and they would send it the next daynothingpoor poor poor customer service and waste of timeread more',\n",
       " 'positivecompleted mortgage refinance reducing my apr from 2to howeverthe rate wa available at several competitorsseveral of whom offered lower fee wa also refinancing to reinstate my va certificate of eligibility toward purchase of homesince the rate wa available elsewhere hired gr based on the broker claim that the transaction could be completed within week or le formally began the process with guaranteed rate on july based on broker feedback that the transaction wa in underwriting on july 23rdwe planned the closing date on our new home purchase for month later and alerted vathis refinance didn close with gr until full month lateraug 2and the loan wa funded on aug 2came within day of missing rate lock date on the other new home purchase mortgage because of thiscommunications from the broker wa horribleas mentionedin parallel with this effort wa going through the process of obtaining home purchase mortgage from another companyso have great basis of comparison received no information from guaranteed rate without having to ask for itwhen did receive informationit wa minimaltypicallyyesornoanswerso had to follow up with additional question to get clarification on detail don do this for livingthat why hired gr definitely did not receive my money worthif m to believe the brokermy loan package spent week in underwritingbtwmy credit score are all above 77so there wa no issue therewhen askedthe broker never offered any rationale for the delaywhen asked by gr sent this same review two week agosurprise haven heard word back from them apologizing for their complete lack of customer servicetrust meyou can do better than these guysread more',\n",
       " 'tried emailing the lenderand it got sent back to me tried calling the lender and all got wa busy signal couldn get hold of anyone',\n",
       " 'they called me and asked about the city in nh that we where looking at and when told him we might consider ma a well he hung up on me',\n",
       " 'would not recommend this mortgage company at allthey were very prompt to answer but a soon a they got the appraisal and find out wasn able to refinance they didn return any of my callsin fact had to call to find out the appraisal reportbad service',\n",
       " 'am new to home buyingbefore make such huge decision like to ask lot of questionsincluding question about how mortgage work want to make sure am informed enough to at least have shot at making an intelligent decision had asked similar question of several other lender who contacted me through this site and they were all very polite and happy to answer my questionsaaron howeverseemed to have an attitude from the moment picked up the phone and appeared to become more annoyed a asked more questionshis general tone wa one of rudeness and condescensionthe conversation endedwhen aaron cut me off in the middle of question and saidwell let me ask you thiswhat didn you understand about what just saidat that point informed him that our conversation wa over and would not be doing business with his company m not sure why aaron and guaranteed rateincthink it acceptable to treat people this waybut if you have expectation similar to mineyou may disappointed with their serviceon the bright sidethey aren the only game in townthere are plenty of other company in this business who will treat you better than aaronread more',\n",
       " 'waspre approvedby guaranteed rate after they had all of my informationincluding an extensive application and full access to my credit informationof course stopped dealing with other lender who had made offer then entered into month long process of responding to multiple request for documentationeverything had been clearly spelled out in my applicationbut they needed corroborationwhenever sent somethingthey would call few day later and say thatunderwritingrequired something elseand that it wa all on account of the new govtregulationsand note that wa looking to consolidate the 1st and 2d mortgage on my homeand that the total wa asking for wa le than 2of my home valuefinally received call from my loan contact saying that my credit card balance wa too highand they couldn give me loan unless paid it off firstthis wa information they had had all alongbefore theypre approvedmein factmy primary reason for re financing wa to get my monthly mortgage payment lower and to pay off that credit card balance basically said that their response wa not acceptableand we eventually got it donehowever would never recommend themthe only thing would give them high point for is responsivenessat least until agreed to go with themthey got back to me quicker than anyone didn go with other lender who were offering similar rate because they weren getting back to me a fast a gauranteed rateonce went with themhoweverthe process dragged on for monthsand they almost weren going to give me the loanbuyers bewareread more',\n",
       " 'worked with kory and carla at nasbthey were superb team and provided excellentresponsive and knowledgeable service throughout the entire processours wa complicated process with refinance and loan and they hung in there with u the entire timeit wa great experience working with both of them highly recommend them and will use them in the future for all of my mortgage needsread more',\n",
       " 'kory wa by far the best loan officer have ever worked withwe were dealing with complicated refinance and purchase of two different property and he wa coolcalmprofessional and extremely knowledgeable throughout the entire process wouldn use anyone else moving forwardhis level of integrity and responsiveness is second to nonethanks for everythingkoryread more',\n",
       " 'expert loan officerwell versed in va and the financial impact of loan component changesthe best have worked with across home buying selling dealsnow advocated for by thereal estate broker in the state due to his ability to close complicated and high pressure dealsshe place him at the top of the list after 3years in the businessprofessionally and patiently answer detailed question and can rally the expanded nasb teamalso stellarto support your needshe handled my complicated va loan that seemed to change every week while we tried to buy an antebellum hometough compsduring my retirement from the militarytough income verificationwith five family all swapping homestons of contingencieseverything along the way mattered and aaron and the nasb team got it doneeven on weekendsand closed on time with the best interest rate in the market and no added origination feeslookdo not pas up an opportunity to work with himread more',\n",
       " 'the nasb team went above and beyond for me and my family and closed an important va home loan on time despite many changesmy military retirementand very challenging antebellum home that required the entire nasb team to pull out all the stopsknow the rule and regulationsand guide u through tough va process truly believe we would not have closed on time with different team will only recommend nasb for home loansespecially complicate va loansread more',\n",
       " 'dallas goodlet and his entire team are deserving special thank youhe wa a professional a they come and closed our loan in 1dayswe were with another competitor originally and he calledsaving u thousand over our current lenderit wa real pleasure getting to work with this institution and class act like dallasgreat job',\n",
       " 'commentsto begin my wife and were at the point of signing completion with the leader of online home mortgage servicewe were not satisfied with the origination cost so we applied to lending tree for competitive bidsseveral lender matched or slightly beat nasb but none were convincing at closing on timewe chose nasb because of dallas goodlet believability on the closingthe salesloan service and application process wa competitiveassuringprofessionaltimelysupportiveand truthfuldallas goodletbrent custer and the whole nasb team delivered the mortgage on time and at the price promisedwe are completely satisfied and appreciative of the staffproduct and service of your companykudos to allread more',\n",
       " 'working with jon wa such an amazing experiencefrom the start he offered answer to any question had since after all this wa our first home purchasejon wa always phone call away ready to help where neededhe made the stringent home buying process a easy a possible would definitely recommend any potential buyer to work with jon know for myself will be calling him if we ever decide to buy another housethanks jonread more',\n",
       " 'nasb wa amazing to work withthe pre approval process wa easy and informationalwe chose our home and closed within 3days of our agreement datethanks nasb for making our first home purchase an amazing experience',\n",
       " 'jon barrett wa great asset to my husband and he made our mortgage loan process extremely simple and quickjon wa knowledgeablehelpfulpatient and accuratewe would suggest anyone shopping for mortgage loan to give jon call',\n",
       " 'jon barrett wa great asset to my husband and he made our mortgage loan process extremely simple and quickjon wa knowledgeablehelpfulpatient and accuratewe will be passing jon name along to anyone looking for mortgage loan',\n",
       " 'can express how incredibly awesome our experience wa with working with bryant small at nasbas military familywe have purchased or refinanced many home and this wa by far the best experience we have ever hadbryant make it easy and took the time to discus the best option for u ve never met bryantbut you can mistake authenticity and we knew instantly he and nasb were who we were going withread more',\n",
       " 'best loan officer could have hoped forjeff exceeded my expectationshe worked very hard to get me the best rate possiblehighly recommended',\n",
       " 'adam wa great to work with during our refihis attention to detail made this smooth and easy transactionit ha been several year since we ve gone thru the home loan process and we were unsure where to startafter talking with adamwe were confident he wa the one to help u with our refihe wa professionalhelpfulvery knowledgeable about the loan process and answered all of our question in timely manner would highly recommend adam and would not hesitate to work with him againread more',\n",
       " 'great websiteknowledgeableresponsive and always got back to u quickly with answer to our questionsmortgage process can be very tedious and they made it easy',\n",
       " 'we received offer from multiple bank after our lending tree request for mortgagealex madewell from nasb wa by far the best offerhe made the entire process easy and wa very knowledgeablethe closing on this home wa seamlessno surprise would definitely recommend alex madewell and nasb to anyone looking for mortgage',\n",
       " 'rob wa very helpful in getting this loan closedfew issue on our end we didn know about but he wa still able to get it done on time',\n",
       " 'peter and his team were great to work withthey were professional and prompt with their responsesthey answered all my question and somehow got u to closing on time despite various roadblock we encountered',\n",
       " 'adam came highly recommended and from the first time we spoke with himit wa clear whyhe wa friendlyprofessionalknowledgeableand worked hard to ensure we were taken care of in all aspectsbeyond the necessary effective communication skillshe brought personal touch after we closed by sending u hand written note of congratulation will recommend him to everyone know buying houseread more',\n",
       " 'real stand up guyfrom the beginning mrbarrett alievatied any uncertainty we faced with buying our first homethis guidance and expertise wa certainly what first time homebuyerwould hope forfrom beginning to the very end he stood by u and walked u through the entire processeven down to the wire at closing mrbarrett stepped up and saved u thousand by identifying an errounous mistake in the contractwhen buy again ll call jonthank you jon barrettwe certainly enjoyed working with youread more',\n",
       " 'had the pleasure of working with mrbarrett from nasb and couldn be more pleasefrom the very beginning mrbarrett guided u on our journey with the upmost courtesy and respecteven while closing mrbarrett once again came to the rescue helping me save even more money big thanks to mrbarrett and the team at nasbwhen buy again know who ll call',\n",
       " 'a first time homebuyer wa walking blindlybryant became my guide recall telling him don speak mortgageand that wa no problem at allbryant wa kindunderstandingand genuinely cared throughout the entire process from my online application to the day we became homeownershe wa very prompt and always gave clear explanation of what wa happeningnext stepsand what path would be in my best interesteven when there were bump in the road he wa there to smooth them out would recommend bryant to anyone seeking financial wisdom in their buying refinancing processread more',\n",
       " 'they got me the best dealthey price matched and did even betterfortunate got to work with them',\n",
       " 'alex wa persistentdiligentand thoroughhe wa easy to work with and got me an excellent rate on my homenext time buy ll absoltely work with him',\n",
       " 'my wife and have purchased several home over the year and have worked with number of different mortgage companiesour experience with jeremy and brentcusterhas beenby farthe best we have ever experiencedif we are ever in the market againwe will definitely be back and will recommend nasb to anyone we know who is looking for mortgage',\n",
       " 'great customer servicealways available when called and very respectfulthanks for working extra hard to close on time',\n",
       " 'would like to thank brent for working with ushe kept encouraging u when we felt we would get turned down because of previous lenderbrent and his team did everything possible to meet our deadlinethanks to himwe are now happy home owner',\n",
       " 'first inquired about loan with brentmonths ago then told him wanted to put it all on hold once found out the cost to buy out my leaseaftermonths contacted him in the morning and told him it wa time for me to get serioushe responded within the hour and we were rolling againweeks later found home wanted to make an offer onweeks later closed on the homeduring that time always knew what wa going onwe talked dailyhe made me feel comfortable through the whole process and always felt like wa in controlhonestlypurchasing the home wa much easier than thought d recommend him to anyoneread more',\n",
       " 'it had been ten year since bought house and wa little nervous of what could afford this time around and going through the process againadam couldn have been better to work withhe wa great at communicating and making me feel at easehe got u the best rate and wa dream to work withhe completely took the anxiety out of home buyingyou will regret not using himhe is knowledgeable and you can tell he really care about youread more',\n",
       " 'fred wa very niceand always available to address my concernshe seems to really care about his customersgoing through refinance is never very pleasantbut fred did his best to make it a painless a possiblethanks fredbestkary',\n",
       " 'worked with kory klossner loan officer with nasbafter confirming he could offer much lower rate than my financial institutionhe then took the additional time to explain the pro and con of different loan typesconventional versus va loanskory also took the time to calculate approximate monthly payment and closing cost for each never felt like wa being pressured or rushed into decisionin fact felt quite the oppositehe gave me whatever time needed to fully understand my option and make the choice that wa right for mebased upon my unique circumstanceskory went above and beyond to make me feel comfortable with what ha been the biggest financial decision of my lifethanks korystarsread more',\n",
       " 'worked with kory klossner loan officer with nasbafter confirming he could offer much lower rate than my financial institutionhe then took the additional time to explain the pro and con of different loan typesconventional versus va loanskory also took the time to calculate approximate monthly payment and closing cost for each never felt like wa being pressured or rushed into decisionin fact felt quite the oppositehe gave me whatever time needed to fully understand my option and make the choice that wa right for mebased upon my unique circumstanceskory went above and beyond to make me feel comfortable with what ha been the biggest financial decision of my lifethanks korystarsread more',\n",
       " 'couldn have been more pleased with aaron customer servicemy father recommended aaron when wa looking to buy houseaaron fought to get me the best rate and made sure that everything went a plannedwhen wasn able to move my closing date up to keep my rate interest rateaaron told me not to worry about it and he would cover the cost differencehe did the same thing when we had to pay extra to rush the appraiser to close on time would and will recommend aaron to anyone looking to buy home because know he will do great job like he did for meread more',\n",
       " 'can begin to express my happiness with working with aaronnot only is he professional and knowledgeable but he literally ended up saving me thousand of dollar on my loan thought had good rate until spoke with him and we were able to lower it almost full which saved u hundred of dollar per month and then he wa able to get everything approved closed on very tight timeline of le than week highly recommend himread more',\n",
       " 'very responsive and worked hard to get u approvedthe mortgage experience itself can be very stressfulbut jon really made u feel like someone wa on our sidethanks again for everything',\n",
       " 'joey wa very helpfulwe appreciated his friendly manner and his timely response',\n",
       " 'our loan officerjoey harteganwas friendly and very helpfulmy wife and were very pleased that we chose nasb to refinance our home',\n",
       " 'my family and shopped around for home mortgage for whilewe currently reside in new jersey and every mortgage company wanted nearly 20k to close found north american saving bank onlineand steve wa the person that wa assigned to work withhe wa wonderful to say the leaststeve would always answer my call and email promptlyin additionwhen out of the officesteve always made sure colleague assisted me honestly can not say enough aboutnasbultimatelythe were able to get me much lower interest rate and monthly payment on my home highly recommend steve to anyoneread more',\n",
       " 'rc wa excellent to work withhe is straight shooter and an honorable fellow veteranhe ensured we understood what wa happeningwhat to expect and how long it would take can recommend anyone more for your lending need when working with va loanyou need loan officer whoknowswhat they are doinghe is great at what he doe and will personally ensure your closing is on timeeven with an extremely slow appraiser who did not meet deadline causing delayswe still closed on time thanks to rchis professionalism and his dedication to keep his wordhis team is great to work with a wellread more',\n",
       " 'very smooth experienceworking with va loanclosing on timenasb wa extremely easy to work withas veteranyou want lender who understands and easily fund va loan and nasb meet this requirement with five starsother lender we have worked with in the past do not meet nasb serviceespecially closing on timein my experiencerecommend highly',\n",
       " 'outstanding service and always timely',\n",
       " 'fred went above and beyond to make sure everything went smoothly including making call while on vacationfred work hard to make your dream come true',\n",
       " 'fasthelpfulbest service possible heartily recommend them to everyone',\n",
       " 'aaron did everything humanly possible to get me the best rate and term that he possibly couldhe listened to me and responded to my need with concerncareand expertise could never have anyone who could have helped me more by being caringknowledgablepatientand responsive individualmany thanks to mrspring',\n",
       " 'aaron wa extremely help and very friendly kept his about everything and wa always up front with everythingas veteran myselfhe made to go the extra mile for me and always wa available to talk and answer questionsthis wa my first time buying home and he made a painless a possible for me and my wife nothing but great thing to about him and can not thank him enough for helping u through this processread more',\n",
       " 'their loan officer and his team were amazingthey helped u every step of the way',\n",
       " 'alex wa extremely helpful and always available if we had any question or concernshe kept in constant contact with u and told u exactly what wa going to be happening and whenwhen any issue came up he addressed them quickly so we wouldn have to wait longer for the closinghe wa always trying to go the extra step to make sure we were taken care of',\n",
       " 'great service and easy',\n",
       " 'such pleasure working with alexcouldn ask for better lender',\n",
       " 'good guy to work withvery responsiveno surprise',\n",
       " 'extremely smooth process with no surprisesbetter than expected interest rate',\n",
       " 'fred wa greathe worked around my schedulewas always very responsive and always knew exactly where wa in the process and helped me work on what to do next',\n",
       " 'worked with person name andrew leehyhe is very hard workinghonest person with the customer interest not the commission at heart',\n",
       " 'fred wa awesome to work withhe is very knowledgeable in his field and is quick to respond to all call and emailshe made sure the loan stayed on track and we closed on time2days from the day we put contract on the housewe highly recommend fred',\n",
       " 'fine bank with traditional valuesjust greatthe people are real and the bankwalks the talk real pleasure to do business with them',\n",
       " 'joey wa knowledgeablevery accessible and maintained positive attitude throughout the complex refinancing processhe wa true partnernot just functionary doing paperwork trusted his judgment and he never failed mehe also ha great sense of humor',\n",
       " 'wa hesitant to use non local mortgage companymy loan officerjeremy wa more involved with the process than any local loan company ve used previouslyhis customer service and knowledge ha exceeded my expectation don usually recommend peoplebut would consider jeremy a trustedfriend in the mortgage business',\n",
       " 'wa hesitant to use non local mortgage companymy loan officerjeremy wa more involved with the process than any local loan company ve used previouslyhis customer service and knowledge ha exceeded my expectation don usually recommend peoplebut would consider jeremy a trustedfriend in the mortgage business',\n",
       " 'steve got it done when others couldn 3day closing and he even got thing done that his supervisor couldn get donesteve wa recommended to me by friend and am glad went with himhe wa great to work with',\n",
       " 'very professional and customer oriented',\n",
       " 'steve wa very responsive and patient with my many questionswe haven bought house in many yearsand this wa big move for u can praise him highly enoughhighly recommend',\n",
       " 'great bank with great productseasily the best bank ve worked with',\n",
       " 'dallas is very experienced and knowledgeableabove allhe understand that customer service is to be no le than 10rain or shine dallas wa always available and never once missed deadline or commitment to followupwhile nasb obviously ha given dallas the tool and resource to be successfuldallas is the reason our experience wa so stellar',\n",
       " 'wa extremely impressed with the proffessionalismthe quality and speed of the quotesthe ability to communicate through my preferred method and the speed to closeafter speaking to several other loan officersit wa jon barrett at nasb that won u overwe couldnt have been happier with the servicegreat work',\n",
       " 'wa extremely impressed with the proffessionalismquality and speed of the quotesthe ability to communicate through my preferred method and the speed to closeafter speaking to several other loan officersit wa jon barrett at nasb that won u overwe couldnt have been happier with the servicegreat work',\n",
       " 'rc malcolm wa excellenthe stayed on top of everything to ensure that we were able to close on the projected close dateeverything went very smooth and would recommend rc to anyone looking for mortgage lender',\n",
       " 'excellent servicerc stayed on top of everythign to make sure we closed on target would recommend to anyone looking for home loan',\n",
       " 'they completed everything on time to get u through quick closingso helpful',\n",
       " 'brad wa helpful through the entire processas first time home buyersmy fianceand felt so much better with brad expertise and guidance',\n",
       " 'will recommend everyone know to nasb and dallas goodlet had the best experience possible ve had many mortgage over my lifetime and this wa by farthe most pleasurablewe received great ratethe fee were lowand the service that dallas provides is unmatched mnot talking just about the mortgage industryhis service is the best ve experienced in any industrymaybe everdallas may want to quit the mortgage business and start customer service consultation businessvery satisfied customerread more',\n",
       " 'our refinance process wa dream once we spoke with dallasand chose him and his bankmy husband spoke to quite few lender and when we got on the phone with dallasour choice wa firmwhy is he greatbecause know we drove him crazywe made it extra stressful on him by being technologically illiterateas matter of fact m having my grandson type the reviewdallas wa so patient and understanding with uswe had to snail mail all of the documentswe had million question for himand he wa professional the entire timehe ha to be one of the kindest and most empathetic people ve ever came across m 5years old and ve had manymanyhome buying and refinancing experiencesand by farthis wa the easiest and most pleasurableif you want someone who truly ha your best interest at heart and someone you can completely trustthen give dallas call ve already recommended my daughter to himread more',\n",
       " 'the closing process for va loan went smoothlybut the loan servicing by this so called bank is complete disaster set up our loan for automatic payment using their clunky websiteunlike other bank with which do businessthe nasb website is not intuitive and doe not provide confirmation for your entriesfor the first 1monthspayments were automatically debited from my external account a scheduledhoweverwhen the escrow amount changednasb debited the old amount from my account and sent deficiency letter for the balanceunlike every other bank have used in which the amount of the debit wa automatically debitednasb sent me credit counseling lettertelling me that they did not apply any of the loan payment and would charge me late payment over double the deficiency of4and changeand suggested credit counseling serviceswhen called their servicing departmentthe representative told me the letter wa sent in error and that everything had been adjusted so my account wa showing that it wa currenttwo week later received total of two voice mail message and an mail in span of 2minutes from nasb default departmentthe woman with whom first spoke wa rudesaid she showed no record of my earlier callit wa my problemand then hung up on methe second agent man in their default departmentsaid that he did not show that had made any automatic payment and that nasb system wa not set up to adjust anythingafter having over 2years of mortgage payment with various bank have never experienced such incompetence and rude service specifically instructed the last agent to request that they sell servicing of our loan to another bank that is capable of actually performing customer service for veteranread more',\n",
       " 'miserable experiencethey screwed up everything imaginable and never accepted responsibility for any of their error wouldnt recommend them for the purchase of doghouse much le purchasing new home',\n",
       " 'our loan officer wa happy to communicate before we committedonce we committed he only communicated with u after questioned item and problem and after questioned why we weren settling before our rate lock expiredwe had no idea where we were in the process unless contacted stevepoorpoor communicationmrkang also wassureour house would appraise for30k more than our house didtalking u into loan that we didn end up appraising for and then causing u to have to refinance at onlylower than our current mortgageour appraiser wa disorganized and called twice for picture he forgothe used poor compswe were contacted several time to look at document that were expired before we could even sign onwithin minute of the email notificationsonly good wa the actual settlement with very sweet and competent notaryand thank goodness we were donepoor processpoor communicationwe will never recommend nasb and have already told two people refinancing to steer clearread more',\n",
       " 'our loan officer wa happy to communicate before we committedonce we committed he only communicated with u after questioned item and problem and after questioned why we weren settling before our rate lock expiredwe had no idea where we were in the process unless contacted stevepoorpoor communicationour loan officer also wassureour house would appraise for30k more than it didtalking u into loan we weren interested in and then causing u to have to refinance at onlylower than our current mortgageour appraiser wa disorganized and called twice for picture he forgothe used poor compswe were contacted several time to look at document that were expired before we could even sign onwithin minute of the email notificationsonly good wa the actual settlement with very sweet and competent notaryand thank goodness we were donepoor processpoor communicationwe will never recommend nasb and have already told two people refinancing to steer clearread more',\n",
       " 'started refinance with nick thing were going ok then there wa problem with credit card fro year earlierwhich must of made the loan not possiblethis would of understoodbut never heard from them againcalled nick several time no response even called his supervisor no response mailed them no responseis this the company you want to due busness withread more',\n",
       " 'can someone explain why the apr is more than point higher than the interest rateif there arefees',\n",
       " 'this loan started off quite wellour repdonnawas friendly and quick to respond to questionsshe clearly explained how thing would unfoldand it all sounded greatwhat didn count on wa that the bank never kept single promise she made had the same problem with this bank 1or more time would ask for assurance about somethingdonna would respond that thing would be completed a wishedand her promise wa violated by the bank every single timefor examplein our first or second conversation explained to donna that my wife would be traveling out of the country 1weeks after beginning the loan processwould it be problem to get the loan closed before thatnot at allshe saidwe should close several week before my wife departure1weeks laterthe bank wa not ready to closehow did that happendonna would ask u to email documentationwhich we would email back within 1hoursdepending on the occasiondonna would then assure u that the documentation that we sent her wa greatand the bank had everything it neededthenweeks laterthey would ask for additional documentationthis happened or more timeslater in the processthey asked for repeat of earlier documentation because the earlier documentation that had provided wa nowtoo old can not tell if this pattern recured because the bank doesn care about customersor because it is just incompetentevery time we complained about additional request or some promise that wasn keptdonna told u that our complaint were justified and she wa sorrybut she wa unable or unwilling to rectify the broken promiseswe finally closed 1weeks or so after our initial application can only imagine how long the process would have taken if we had not responded to every request from the bank on the day they made itand if we hadn pushed hard to get this deal donethis bank treat customer with complete disrespectas someone who ha owned several property in my life and ha received more than 1home mortgage from different bank can honestly say that this is the worst mortgage experience ve ever hadyou owe it to yourself to work with another bank that is more professional and more respectful of customersif could d rate this bank lower than one starread more',\n",
       " 'built new home and wanted to get small mortgage compared to the value of the propertythe process took much longer than wa told it would causing mishandling and reverification of information provided to nasbthere wa difference of opinion on what wa necessary to close the loan that made the process diffiicult on my family would not recommend north american saving bank a amortgage lenderread more',\n",
       " 'this lender contacted my previous phone number which did not list when registering with this sitevery unprofessionaland very disturbing',\n",
       " 'never write review but had to this time to prevent anyone from making the same mistake a that mistake wa using north american saving bank over other lender started my refinance with this company with the assurance that it would be standard refinance without any problem and would be completed in minimal amount of timecommunication with the company wa below average after confirmed that would be pursuing loan with them had the impression that the loan officer wa more interested in attracting more business than helping methe company us convoluted email system that sometimes worked but mostly didn this led to frequent email and phone call asking for document to be resentafter having an assessment done on my house and paying for it the communication all but stoppedwhen wa able to reach the loan officer wa told that would personally have to find additional comp in my area wa more than little annoyed a this is what wa going to be paying them forhowever compliedafter contacting area realtor and securing what believe were suitable comp forwarded them to the officer week went by before my phone call and email were answeredat that time wa told that my comp weren sufficient and a result they couldn ensure that my residence wa worth anything despite the assessment findingsas result they would not be issuing me loanby the time they decided to do me the honor of informing me of this the rate had risen by half point should warn that the loan officer had way of recording voicemail message and forwarding them to my voicemail account without calling mehe did this when he had bad news and feel like it wa an effort to avoid conversing with me m now stuck with 45assessment that other bank are telling me that can usein other word will have to pay for new assessment m also out the money for credit report and of course ll be paying higher interest rate on any new loan secure wa told by the loan officer that there wa no recourse to recoup the money had spent expect to be paying for my mistake for year should point out that refinanced my loan one year ago without any issue strongly urge anyone looking to refinance or obtain new loan to bypass north american saving bank no matter what they promisesave yourself timemoney and lot of aggravationread more',\n",
       " 'it all started when bob ran credit check without my knowledge or consentwhen agreed to use nasbbob told me that they could close in le than weeksit took the day before closing they were still asking for paperworkthe day of closingwhile my household good were being unpacked wa told power of attorney could not be used had to fly to idwhere my wife wastake the doc to notary and fedex them back also had to get bank check to send with the doc because they wouldn accept personal checkthen five day laterwhile driving from id to nc had to coordinate having closing docswhich already sent to themfrom the sale of my other home sent to me so could send to themof the four house purchased in the past year this wa the most stressfulread more',\n",
       " 'what horrible experiencewe have excellent creditplenty of incomeetcnasb rep made ton of promise to get u to sign upbut then just few week before the closingshe just disappearedand failed to give u lock or firm closing datethankfullywe sensed the problem and immediately contacted local lender that got u the loan on better term with lower rate in only weeksnasb rep constantly complained about being too busy and having too many matter to work onthis became very apparent towards the endnot sure to this day why she didn want our business other than they apparently can not follow through for some reason or another m sure there are good lender herebut this is not one of themread more',\n",
       " 'rep wa extremely professionalfriendlyand helpful when we first spokein factfrom my initial round of call thought wa going to select him out of the five lending tree lendersplus two bank talked to directlybut then when sent an email to all the lender sayingokthe contract is signed want to select lender and lock my rate tomorrowso please send me your best current rate and fee etcwith these exact loan parametersit took the rep from nasb over week to respondso replied to himthanks but you are too late have selected someone else and already locked my rateover the following few week continued to receive email from him sayingwhen you are ready to proceed with your loanlet me knowwe closed on january 8thand on february 5th got another such email guess he didn really ever read my email also told him on the phone that he had missed the boatbut that seemed to fall on deaf ear tooat the end of round onehis rate and fee were very competitive thoughpretty near the best of the bunchread more',\n",
       " 'wa working with loan consultant from nasb and she told me that she would give me rate of 87for 3year fixed loan with total closing cost of230asked her to send me the good faith estimatethe good faith estimate came with total closing cost of292which is about60more than she mentioned during our conversationwhen called her for explanation of the extra60she said that there is state tax 541which she wa not aware ofwhat an explanationshe knew my state from the beginning and repeatedly asked her for totalclosing cost and that time she repeatedly said it will be230as loan consultant she should have known that there is something like state taxthat might come later and should have mentioned that to me am not supposed to know what are the different compoents fee or tax that apply during closingshe doe this everyday and she could have been honest with me from the beginning expected honest communication from loan consultant from nasb bank and did not receive that am very disappointedread more']"
      ]
     },
     "execution_count": 27,
     "metadata": {},
     "output_type": "execute_result"
    }
   ],
   "source": [
    "corpus"
   ]
  },
  {
   "cell_type": "code",
   "execution_count": 35,
   "metadata": {},
   "outputs": [
    {
     "data": {
      "text/plain": [
       "505"
      ]
     },
     "execution_count": 35,
     "metadata": {},
     "output_type": "execute_result"
    }
   ],
   "source": [
    "len(corpus)"
   ]
  },
  {
   "cell_type": "code",
   "execution_count": 36,
   "metadata": {},
   "outputs": [
    {
     "data": {
      "text/plain": [
       "505"
      ]
     },
     "execution_count": 36,
     "metadata": {},
     "output_type": "execute_result"
    }
   ],
   "source": [
    "len(y)"
   ]
  },
  {
   "cell_type": "markdown",
   "metadata": {},
   "source": [
    "### min_df = 3 means it will show only those words that are present in atleast three docs ,, why are doing this  = here we have bank reviews we might have some words which are not even present in 3 docs so we want to remoe those words"
   ]
  },
  {
   "cell_type": "markdown",
   "metadata": {},
   "source": [
    "### max_df = means if any word is present in more than 70% docs we dont want those words as wellm"
   ]
  },
  {
   "cell_type": "code",
   "execution_count": 37,
   "metadata": {},
   "outputs": [],
   "source": [
    "# Creating the Tf-Idf model directly ## We are also removing stop words from english language\n",
    "from sklearn.feature_extraction.text import TfidfVectorizer\n",
    "vectorizer = TfidfVectorizer(max_features = 505, min_df = 3, max_df = 0.7, stop_words = stopwords.words('english'))\n",
    "X = vectorizer.fit_transform(corpus).toarray()"
   ]
  },
  {
   "cell_type": "code",
   "execution_count": 40,
   "metadata": {},
   "outputs": [
    {
     "data": {
      "text/plain": [
       "['aaron',\n",
       " 'able',\n",
       " 'absolutely',\n",
       " 'account',\n",
       " 'across',\n",
       " 'actual',\n",
       " 'adam',\n",
       " 'adan',\n",
       " 'additional',\n",
       " 'advice',\n",
       " 'agent',\n",
       " 'agreed',\n",
       " 'alex',\n",
       " 'almost',\n",
       " 'along',\n",
       " 'already',\n",
       " 'also',\n",
       " 'always',\n",
       " 'amazing',\n",
       " 'american',\n",
       " 'amount',\n",
       " 'another',\n",
       " 'answer',\n",
       " 'answered',\n",
       " 'answering',\n",
       " 'anthony',\n",
       " 'anyone',\n",
       " 'anything',\n",
       " 'application',\n",
       " 'apply',\n",
       " 'appraisal',\n",
       " 'appraiser',\n",
       " 'appreciate',\n",
       " 'appreciated',\n",
       " 'approval',\n",
       " 'around',\n",
       " 'ask',\n",
       " 'asked',\n",
       " 'asking',\n",
       " 'assurance',\n",
       " 'attention',\n",
       " 'attorney',\n",
       " 'automatic',\n",
       " 'available',\n",
       " 'away',\n",
       " 'awesome',\n",
       " 'back',\n",
       " 'bad',\n",
       " 'bank',\n",
       " 'barrett',\n",
       " 'beat',\n",
       " 'became',\n",
       " 'begin',\n",
       " 'beginning',\n",
       " 'believe',\n",
       " 'beneficial',\n",
       " 'best',\n",
       " 'better',\n",
       " 'beyond',\n",
       " 'big',\n",
       " 'bob',\n",
       " 'brad',\n",
       " 'broker',\n",
       " 'business',\n",
       " 'buy',\n",
       " 'buyer',\n",
       " 'buying',\n",
       " 'call',\n",
       " 'called',\n",
       " 'calling',\n",
       " 'came',\n",
       " 'capital',\n",
       " 'card',\n",
       " 'care',\n",
       " 'causing',\n",
       " 'certainly',\n",
       " 'challenging',\n",
       " 'check',\n",
       " 'choice',\n",
       " 'chose',\n",
       " 'chris',\n",
       " 'clear',\n",
       " 'client',\n",
       " 'close',\n",
       " 'closed',\n",
       " 'closing',\n",
       " 'come',\n",
       " 'comfortable',\n",
       " 'communicate',\n",
       " 'communicated',\n",
       " 'communication',\n",
       " 'company',\n",
       " 'competitive',\n",
       " 'complaint',\n",
       " 'complete',\n",
       " 'completed',\n",
       " 'completely',\n",
       " 'complicated',\n",
       " 'confident',\n",
       " 'constant',\n",
       " 'consultant',\n",
       " 'contact',\n",
       " 'contacted',\n",
       " 'contract',\n",
       " 'conversation',\n",
       " 'cost',\n",
       " 'could',\n",
       " 'counseling',\n",
       " 'credit',\n",
       " 'current',\n",
       " 'customer',\n",
       " 'dallas',\n",
       " 'date',\n",
       " 'day',\n",
       " 'deal',\n",
       " 'dealing',\n",
       " 'dean',\n",
       " 'decided',\n",
       " 'decision',\n",
       " 'definitely',\n",
       " 'departmentthe',\n",
       " 'despite',\n",
       " 'detail',\n",
       " 'detailed',\n",
       " 'difference',\n",
       " 'different',\n",
       " 'difficult',\n",
       " 'disorganized',\n",
       " 'dlj',\n",
       " 'doc',\n",
       " 'document',\n",
       " 'documentation',\n",
       " 'doe',\n",
       " 'done',\n",
       " 'dream',\n",
       " 'due',\n",
       " 'earlier',\n",
       " 'easier',\n",
       " 'easy',\n",
       " 'else',\n",
       " 'email',\n",
       " 'emailed',\n",
       " 'encountered',\n",
       " 'end',\n",
       " 'ended',\n",
       " 'enough',\n",
       " 'ensure',\n",
       " 'entire',\n",
       " 'error',\n",
       " 'escrow',\n",
       " 'estimate',\n",
       " 'even',\n",
       " 'ever',\n",
       " 'every',\n",
       " 'everyone',\n",
       " 'everything',\n",
       " 'exceeded',\n",
       " 'excellent',\n",
       " 'expect',\n",
       " 'expectation',\n",
       " 'expected',\n",
       " 'experience',\n",
       " 'experienced',\n",
       " 'explain',\n",
       " 'explained',\n",
       " 'explaining',\n",
       " 'express',\n",
       " 'extra',\n",
       " 'extremely',\n",
       " 'fact',\n",
       " 'failed',\n",
       " 'faith',\n",
       " 'family',\n",
       " 'fantastic',\n",
       " 'far',\n",
       " 'fast',\n",
       " 'fee',\n",
       " 'feel',\n",
       " 'felt',\n",
       " 'final',\n",
       " 'finally',\n",
       " 'financial',\n",
       " 'financing',\n",
       " 'find',\n",
       " 'first',\n",
       " 'five',\n",
       " 'follow',\n",
       " 'forward',\n",
       " 'found',\n",
       " 'fred',\n",
       " 'friend',\n",
       " 'friendly',\n",
       " 'full',\n",
       " 'fully',\n",
       " 'future',\n",
       " 'gave',\n",
       " 'get',\n",
       " 'getting',\n",
       " 'give',\n",
       " 'given',\n",
       " 'go',\n",
       " 'going',\n",
       " 'good',\n",
       " 'goodlet',\n",
       " 'got',\n",
       " 'great',\n",
       " 'guaranteed',\n",
       " 'guide',\n",
       " 'guy',\n",
       " 'ha',\n",
       " 'hand',\n",
       " 'happened',\n",
       " 'happier',\n",
       " 'happy',\n",
       " 'hard',\n",
       " 'heard',\n",
       " 'help',\n",
       " 'helped',\n",
       " 'helpful',\n",
       " 'helping',\n",
       " 'high',\n",
       " 'highly',\n",
       " 'himhe',\n",
       " 'hold',\n",
       " 'home',\n",
       " 'honest',\n",
       " 'honestly',\n",
       " 'horrible',\n",
       " 'hour',\n",
       " 'house',\n",
       " 'huge',\n",
       " 'hung',\n",
       " 'husband',\n",
       " 'idea',\n",
       " 'immediately',\n",
       " 'impressed',\n",
       " 'information',\n",
       " 'informed',\n",
       " 'initial',\n",
       " 'interest',\n",
       " 'interested',\n",
       " 'involved',\n",
       " 'issue',\n",
       " 'item',\n",
       " 'job',\n",
       " 'jocovic',\n",
       " 'john',\n",
       " 'jon',\n",
       " 'keep',\n",
       " 'kept',\n",
       " 'kirk',\n",
       " 'knew',\n",
       " 'know',\n",
       " 'knowing',\n",
       " 'knowledge',\n",
       " 'knowledgeable',\n",
       " 'known',\n",
       " 'kory',\n",
       " 'last',\n",
       " 'late',\n",
       " 'later',\n",
       " 'le',\n",
       " 'lender',\n",
       " 'lending',\n",
       " 'let',\n",
       " 'letter',\n",
       " 'like',\n",
       " 'list',\n",
       " 'little',\n",
       " 'loan',\n",
       " 'local',\n",
       " 'lock',\n",
       " 'long',\n",
       " 'look',\n",
       " 'looking',\n",
       " 'lot',\n",
       " 'lower',\n",
       " 'made',\n",
       " 'madewell',\n",
       " 'mail',\n",
       " 'make',\n",
       " 'making',\n",
       " 'man',\n",
       " 'manner',\n",
       " 'many',\n",
       " 'market',\n",
       " 'marroquin',\n",
       " 'may',\n",
       " 'meet',\n",
       " 'message',\n",
       " 'met',\n",
       " 'minute',\n",
       " 'mistake',\n",
       " 'money',\n",
       " 'month',\n",
       " 'monthly',\n",
       " 'mortgage',\n",
       " 'move',\n",
       " 'mrbarrett',\n",
       " 'much',\n",
       " 'multiple',\n",
       " 'name',\n",
       " 'nasb',\n",
       " 'necessary',\n",
       " 'need',\n",
       " 'needed',\n",
       " 'never',\n",
       " 'new',\n",
       " 'next',\n",
       " 'north',\n",
       " 'nothing',\n",
       " 'number',\n",
       " 'offer',\n",
       " 'offered',\n",
       " 'officer',\n",
       " 'old',\n",
       " 'one',\n",
       " 'online',\n",
       " 'option',\n",
       " 'pacific',\n",
       " 'paid',\n",
       " 'painless',\n",
       " 'paperwork',\n",
       " 'past',\n",
       " 'patient',\n",
       " 'patiently',\n",
       " 'patrick',\n",
       " 'pay',\n",
       " 'paying',\n",
       " 'payment',\n",
       " 'penny',\n",
       " 'people',\n",
       " 'person',\n",
       " 'personal',\n",
       " 'personally',\n",
       " 'peter',\n",
       " 'phone',\n",
       " 'pleased',\n",
       " 'pleasure',\n",
       " 'point',\n",
       " 'poor',\n",
       " 'positive',\n",
       " 'possible',\n",
       " 'potential',\n",
       " 'pre',\n",
       " 'previous',\n",
       " 'problem',\n",
       " 'process',\n",
       " 'product',\n",
       " 'professional',\n",
       " 'professionalism',\n",
       " 'promise',\n",
       " 'prompt',\n",
       " 'property',\n",
       " 'provide',\n",
       " 'provided',\n",
       " 'provides',\n",
       " 'purchase',\n",
       " 'purchased',\n",
       " 'purchasing',\n",
       " 'put',\n",
       " 'question',\n",
       " 'questioned',\n",
       " 'quick',\n",
       " 'quickly',\n",
       " 'quite',\n",
       " 'rate',\n",
       " 'reach',\n",
       " 'reached',\n",
       " 'ready',\n",
       " 'real',\n",
       " 'really',\n",
       " 'realtor',\n",
       " 'reason',\n",
       " 'receive',\n",
       " 'received',\n",
       " 'recommend',\n",
       " 'recommended',\n",
       " 'record',\n",
       " 'refi',\n",
       " 'refinance',\n",
       " 'refinanced',\n",
       " 'refinancing',\n",
       " 'reliance',\n",
       " 'rep',\n",
       " 'request',\n",
       " 'required',\n",
       " 'respond',\n",
       " 'responded',\n",
       " 'response',\n",
       " 'responsive',\n",
       " 'result',\n",
       " 'return',\n",
       " 'review',\n",
       " 'right',\n",
       " 'said',\n",
       " 'sale',\n",
       " 'satisfied',\n",
       " 'saved',\n",
       " 'saving',\n",
       " 'say',\n",
       " 'second',\n",
       " 'see',\n",
       " 'seemed',\n",
       " 'sell',\n",
       " 'send',\n",
       " 'sent',\n",
       " 'service',\n",
       " 'servicing',\n",
       " 'set',\n",
       " 'several',\n",
       " 'sign',\n",
       " 'simple',\n",
       " 'since',\n",
       " 'single',\n",
       " 'situation',\n",
       " 'smooth',\n",
       " 'smoothly',\n",
       " 'someone',\n",
       " 'spent',\n",
       " 'spoke',\n",
       " 'staff',\n",
       " 'star',\n",
       " 'start',\n",
       " 'started',\n",
       " 'state',\n",
       " 'status',\n",
       " 'stayed',\n",
       " 'steer',\n",
       " 'step',\n",
       " 'stephanie',\n",
       " 'steve',\n",
       " 'still',\n",
       " 'stressful',\n",
       " 'super',\n",
       " 'support',\n",
       " 'sure',\n",
       " 'system',\n",
       " 'take',\n",
       " 'taken',\n",
       " 'talk',\n",
       " 'talked',\n",
       " 'talking',\n",
       " 'tax',\n",
       " 'team',\n",
       " 'tell',\n",
       " 'term',\n",
       " 'thank',\n",
       " 'thanks',\n",
       " 'thing',\n",
       " 'thorough',\n",
       " 'thought',\n",
       " 'thousand',\n",
       " 'three',\n",
       " 'throughout',\n",
       " 'thru',\n",
       " 'time',\n",
       " 'timely',\n",
       " 'together',\n",
       " 'told',\n",
       " 'took',\n",
       " 'top',\n",
       " 'total',\n",
       " 'transaction',\n",
       " 'tree',\n",
       " 'tried',\n",
       " 'triumph',\n",
       " 'true',\n",
       " 'truly',\n",
       " 'trying',\n",
       " 'twice',\n",
       " 'two',\n",
       " 'understand',\n",
       " 'understood',\n",
       " 'upon',\n",
       " 'use',\n",
       " 'used',\n",
       " 'using',\n",
       " 'usually',\n",
       " 'va',\n",
       " 'various',\n",
       " 'versus',\n",
       " 'via',\n",
       " 'wa',\n",
       " 'want',\n",
       " 'wanted',\n",
       " 'way',\n",
       " 'week',\n",
       " 'well',\n",
       " 'went',\n",
       " 'whole',\n",
       " 'wife',\n",
       " 'willing',\n",
       " 'withhe',\n",
       " 'within',\n",
       " 'without',\n",
       " 'wonderful',\n",
       " 'word',\n",
       " 'work',\n",
       " 'worked',\n",
       " 'working',\n",
       " 'would',\n",
       " 'wyndham',\n",
       " 'year',\n",
       " 'yet']"
      ]
     },
     "execution_count": 40,
     "metadata": {},
     "output_type": "execute_result"
    }
   ],
   "source": [
    "vectorizer.get_feature_names() ## Feature names"
   ]
  },
  {
   "cell_type": "code",
   "execution_count": 38,
   "metadata": {},
   "outputs": [
    {
     "data": {
      "text/plain": [
       "array([[0.        , 0.        , 0.        , ..., 0.        , 0.        ,\n",
       "        0.        ],\n",
       "       [0.        , 0.        , 0.        , ..., 0.        , 0.        ,\n",
       "        0.        ],\n",
       "       [0.        , 0.        , 0.        , ..., 0.42609737, 0.        ,\n",
       "        0.        ],\n",
       "       ...,\n",
       "       [0.        , 0.        , 0.        , ..., 0.        , 0.        ,\n",
       "        0.        ],\n",
       "       [0.        , 0.        , 0.        , ..., 0.        , 0.        ,\n",
       "        0.        ],\n",
       "       [0.        , 0.        , 0.        , ..., 0.        , 0.        ,\n",
       "        0.        ]])"
      ]
     },
     "execution_count": 38,
     "metadata": {},
     "output_type": "execute_result"
    }
   ],
   "source": [
    "X ## Here we have now tf-idf value for every variable"
   ]
  },
  {
   "cell_type": "code",
   "execution_count": 42,
   "metadata": {},
   "outputs": [],
   "source": [
    "data=pd.DataFrame(X,columns = list(vectorizer.get_feature_names())) ## Giving TDF value of every word "
   ]
  },
  {
   "cell_type": "markdown",
   "metadata": {},
   "source": [
    "### Concatinating Y variable as well"
   ]
  },
  {
   "cell_type": "code",
   "execution_count": 44,
   "metadata": {},
   "outputs": [],
   "source": [
    "final_data=pd.concat([data,y],axis=1)"
   ]
  },
  {
   "cell_type": "code",
   "execution_count": 45,
   "metadata": {},
   "outputs": [
    {
     "data": {
      "text/html": [
       "<div>\n",
       "<style scoped>\n",
       "    .dataframe tbody tr th:only-of-type {\n",
       "        vertical-align: middle;\n",
       "    }\n",
       "\n",
       "    .dataframe tbody tr th {\n",
       "        vertical-align: top;\n",
       "    }\n",
       "\n",
       "    .dataframe thead th {\n",
       "        text-align: right;\n",
       "    }\n",
       "</style>\n",
       "<table border=\"1\" class=\"dataframe\">\n",
       "  <thead>\n",
       "    <tr style=\"text-align: right;\">\n",
       "      <th></th>\n",
       "      <th>aaron</th>\n",
       "      <th>able</th>\n",
       "      <th>absolutely</th>\n",
       "      <th>account</th>\n",
       "      <th>across</th>\n",
       "      <th>actual</th>\n",
       "      <th>adam</th>\n",
       "      <th>adan</th>\n",
       "      <th>additional</th>\n",
       "      <th>advice</th>\n",
       "      <th>...</th>\n",
       "      <th>wonderful</th>\n",
       "      <th>word</th>\n",
       "      <th>work</th>\n",
       "      <th>worked</th>\n",
       "      <th>working</th>\n",
       "      <th>would</th>\n",
       "      <th>wyndham</th>\n",
       "      <th>year</th>\n",
       "      <th>yet</th>\n",
       "      <th>Stars</th>\n",
       "    </tr>\n",
       "  </thead>\n",
       "  <tbody>\n",
       "    <tr>\n",
       "      <th>0</th>\n",
       "      <td>0.0</td>\n",
       "      <td>0.0</td>\n",
       "      <td>0.0</td>\n",
       "      <td>0.0</td>\n",
       "      <td>0.0</td>\n",
       "      <td>0.0</td>\n",
       "      <td>0.0</td>\n",
       "      <td>0.0</td>\n",
       "      <td>0.0</td>\n",
       "      <td>0.0</td>\n",
       "      <td>...</td>\n",
       "      <td>0.0</td>\n",
       "      <td>0.0</td>\n",
       "      <td>0.0</td>\n",
       "      <td>0.0</td>\n",
       "      <td>0.000000</td>\n",
       "      <td>0.000000</td>\n",
       "      <td>0.000000</td>\n",
       "      <td>0.0</td>\n",
       "      <td>0.0</td>\n",
       "      <td>5</td>\n",
       "    </tr>\n",
       "    <tr>\n",
       "      <th>1</th>\n",
       "      <td>0.0</td>\n",
       "      <td>0.0</td>\n",
       "      <td>0.0</td>\n",
       "      <td>0.0</td>\n",
       "      <td>0.0</td>\n",
       "      <td>0.0</td>\n",
       "      <td>0.0</td>\n",
       "      <td>0.0</td>\n",
       "      <td>0.0</td>\n",
       "      <td>0.0</td>\n",
       "      <td>...</td>\n",
       "      <td>0.0</td>\n",
       "      <td>0.0</td>\n",
       "      <td>0.0</td>\n",
       "      <td>0.0</td>\n",
       "      <td>0.000000</td>\n",
       "      <td>0.000000</td>\n",
       "      <td>0.000000</td>\n",
       "      <td>0.0</td>\n",
       "      <td>0.0</td>\n",
       "      <td>5</td>\n",
       "    </tr>\n",
       "    <tr>\n",
       "      <th>2</th>\n",
       "      <td>0.0</td>\n",
       "      <td>0.0</td>\n",
       "      <td>0.0</td>\n",
       "      <td>0.0</td>\n",
       "      <td>0.0</td>\n",
       "      <td>0.0</td>\n",
       "      <td>0.0</td>\n",
       "      <td>0.0</td>\n",
       "      <td>0.0</td>\n",
       "      <td>0.0</td>\n",
       "      <td>...</td>\n",
       "      <td>0.0</td>\n",
       "      <td>0.0</td>\n",
       "      <td>0.0</td>\n",
       "      <td>0.0</td>\n",
       "      <td>0.000000</td>\n",
       "      <td>0.189153</td>\n",
       "      <td>0.426097</td>\n",
       "      <td>0.0</td>\n",
       "      <td>0.0</td>\n",
       "      <td>5</td>\n",
       "    </tr>\n",
       "    <tr>\n",
       "      <th>3</th>\n",
       "      <td>0.0</td>\n",
       "      <td>0.0</td>\n",
       "      <td>0.0</td>\n",
       "      <td>0.0</td>\n",
       "      <td>0.0</td>\n",
       "      <td>0.0</td>\n",
       "      <td>0.0</td>\n",
       "      <td>0.0</td>\n",
       "      <td>0.0</td>\n",
       "      <td>0.0</td>\n",
       "      <td>...</td>\n",
       "      <td>0.0</td>\n",
       "      <td>0.0</td>\n",
       "      <td>0.0</td>\n",
       "      <td>0.0</td>\n",
       "      <td>0.000000</td>\n",
       "      <td>0.068566</td>\n",
       "      <td>0.463369</td>\n",
       "      <td>0.0</td>\n",
       "      <td>0.0</td>\n",
       "      <td>5</td>\n",
       "    </tr>\n",
       "    <tr>\n",
       "      <th>4</th>\n",
       "      <td>0.0</td>\n",
       "      <td>0.0</td>\n",
       "      <td>0.0</td>\n",
       "      <td>0.0</td>\n",
       "      <td>0.0</td>\n",
       "      <td>0.0</td>\n",
       "      <td>0.0</td>\n",
       "      <td>0.0</td>\n",
       "      <td>0.0</td>\n",
       "      <td>0.0</td>\n",
       "      <td>...</td>\n",
       "      <td>0.0</td>\n",
       "      <td>0.0</td>\n",
       "      <td>0.0</td>\n",
       "      <td>0.0</td>\n",
       "      <td>0.178359</td>\n",
       "      <td>0.000000</td>\n",
       "      <td>0.302295</td>\n",
       "      <td>0.0</td>\n",
       "      <td>0.0</td>\n",
       "      <td>5</td>\n",
       "    </tr>\n",
       "  </tbody>\n",
       "</table>\n",
       "<p>5 rows × 506 columns</p>\n",
       "</div>"
      ],
      "text/plain": [
       "   aaron  able  absolutely  account  across  actual  adam  adan  additional  \\\n",
       "0    0.0   0.0         0.0      0.0     0.0     0.0   0.0   0.0         0.0   \n",
       "1    0.0   0.0         0.0      0.0     0.0     0.0   0.0   0.0         0.0   \n",
       "2    0.0   0.0         0.0      0.0     0.0     0.0   0.0   0.0         0.0   \n",
       "3    0.0   0.0         0.0      0.0     0.0     0.0   0.0   0.0         0.0   \n",
       "4    0.0   0.0         0.0      0.0     0.0     0.0   0.0   0.0         0.0   \n",
       "\n",
       "   advice  ...  wonderful  word  work  worked   working     would   wyndham  \\\n",
       "0     0.0  ...        0.0   0.0   0.0     0.0  0.000000  0.000000  0.000000   \n",
       "1     0.0  ...        0.0   0.0   0.0     0.0  0.000000  0.000000  0.000000   \n",
       "2     0.0  ...        0.0   0.0   0.0     0.0  0.000000  0.189153  0.426097   \n",
       "3     0.0  ...        0.0   0.0   0.0     0.0  0.000000  0.068566  0.463369   \n",
       "4     0.0  ...        0.0   0.0   0.0     0.0  0.178359  0.000000  0.302295   \n",
       "\n",
       "   year  yet  Stars  \n",
       "0   0.0  0.0      5  \n",
       "1   0.0  0.0      5  \n",
       "2   0.0  0.0      5  \n",
       "3   0.0  0.0      5  \n",
       "4   0.0  0.0      5  \n",
       "\n",
       "[5 rows x 506 columns]"
      ]
     },
     "execution_count": 45,
     "metadata": {},
     "output_type": "execute_result"
    }
   ],
   "source": [
    "final_data.head() ## Here we have our final data prepared now for further analysis"
   ]
  },
  {
   "cell_type": "markdown",
   "metadata": {},
   "source": [
    "### Train and Testing Split"
   ]
  },
  {
   "cell_type": "code",
   "execution_count": 54,
   "metadata": {},
   "outputs": [],
   "source": [
    "features=final_data.columns.difference(['Stars'])"
   ]
  },
  {
   "cell_type": "code",
   "execution_count": 56,
   "metadata": {},
   "outputs": [],
   "source": [
    "train_x,test_x,train_y,test_y = train_test_split(final_data[features],final_data.Stars,test_size = 0.3,random_state=1)"
   ]
  },
  {
   "cell_type": "code",
   "execution_count": 57,
   "metadata": {},
   "outputs": [
    {
     "data": {
      "text/plain": [
       "(353, 505)"
      ]
     },
     "execution_count": 57,
     "metadata": {},
     "output_type": "execute_result"
    }
   ],
   "source": [
    "train_x.shape"
   ]
  },
  {
   "cell_type": "code",
   "execution_count": 58,
   "metadata": {},
   "outputs": [
    {
     "data": {
      "text/plain": [
       "(152, 505)"
      ]
     },
     "execution_count": 58,
     "metadata": {},
     "output_type": "execute_result"
    }
   ],
   "source": [
    "test_x.shape"
   ]
  },
  {
   "cell_type": "code",
   "execution_count": 59,
   "metadata": {},
   "outputs": [
    {
     "data": {
      "text/plain": [
       "(353,)"
      ]
     },
     "execution_count": 59,
     "metadata": {},
     "output_type": "execute_result"
    }
   ],
   "source": [
    "train_y.shape"
   ]
  },
  {
   "cell_type": "code",
   "execution_count": 60,
   "metadata": {},
   "outputs": [
    {
     "data": {
      "text/plain": [
       "(152,)"
      ]
     },
     "execution_count": 60,
     "metadata": {},
     "output_type": "execute_result"
    }
   ],
   "source": [
    "test_y.shape"
   ]
  },
  {
   "cell_type": "markdown",
   "metadata": {},
   "source": [
    "<center>\n",
    "<h1>Logistic Regression"
   ]
  },
  {
   "cell_type": "code",
   "execution_count": 61,
   "metadata": {},
   "outputs": [],
   "source": [
    "from sklearn.linear_model import LogisticRegression"
   ]
  },
  {
   "cell_type": "code",
   "execution_count": 63,
   "metadata": {},
   "outputs": [],
   "source": [
    "logreg=LogisticRegression()"
   ]
  },
  {
   "cell_type": "code",
   "execution_count": 64,
   "metadata": {},
   "outputs": [
    {
     "data": {
      "text/plain": [
       "LogisticRegression(C=1.0, class_weight=None, dual=False, fit_intercept=True,\n",
       "                   intercept_scaling=1, l1_ratio=None, max_iter=100,\n",
       "                   multi_class='auto', n_jobs=None, penalty='l2',\n",
       "                   random_state=None, solver='lbfgs', tol=0.0001, verbose=0,\n",
       "                   warm_start=False)"
      ]
     },
     "execution_count": 64,
     "metadata": {},
     "output_type": "execute_result"
    }
   ],
   "source": [
    "logreg.fit(train_x,train_y)"
   ]
  },
  {
   "cell_type": "markdown",
   "metadata": {},
   "source": [
    "### Predictions"
   ]
  },
  {
   "cell_type": "code",
   "execution_count": 67,
   "metadata": {},
   "outputs": [],
   "source": [
    "train_predictions = pd.DataFrame({'actual':train_y,'predicted':logreg.predict(train_x)})"
   ]
  },
  {
   "cell_type": "code",
   "execution_count": 68,
   "metadata": {},
   "outputs": [],
   "source": [
    "test_predictions = pd.DataFrame({'actual':test_y,'predicted':logreg.predict(test_x)})"
   ]
  },
  {
   "cell_type": "code",
   "execution_count": 71,
   "metadata": {},
   "outputs": [
    {
     "data": {
      "text/html": [
       "<div>\n",
       "<style scoped>\n",
       "    .dataframe tbody tr th:only-of-type {\n",
       "        vertical-align: middle;\n",
       "    }\n",
       "\n",
       "    .dataframe tbody tr th {\n",
       "        vertical-align: top;\n",
       "    }\n",
       "\n",
       "    .dataframe thead th {\n",
       "        text-align: right;\n",
       "    }\n",
       "</style>\n",
       "<table border=\"1\" class=\"dataframe\">\n",
       "  <thead>\n",
       "    <tr style=\"text-align: right;\">\n",
       "      <th></th>\n",
       "      <th>actual</th>\n",
       "      <th>predicted</th>\n",
       "    </tr>\n",
       "  </thead>\n",
       "  <tbody>\n",
       "    <tr>\n",
       "      <th>307</th>\n",
       "      <td>5</td>\n",
       "      <td>5</td>\n",
       "    </tr>\n",
       "    <tr>\n",
       "      <th>343</th>\n",
       "      <td>5</td>\n",
       "      <td>5</td>\n",
       "    </tr>\n",
       "    <tr>\n",
       "      <th>47</th>\n",
       "      <td>1</td>\n",
       "      <td>1</td>\n",
       "    </tr>\n",
       "  </tbody>\n",
       "</table>\n",
       "</div>"
      ],
      "text/plain": [
       "     actual  predicted\n",
       "307       5          5\n",
       "343       5          5\n",
       "47        1          1"
      ]
     },
     "execution_count": 71,
     "metadata": {},
     "output_type": "execute_result"
    }
   ],
   "source": [
    "test_predictions.head(3)"
   ]
  },
  {
   "cell_type": "code",
   "execution_count": 72,
   "metadata": {},
   "outputs": [
    {
     "data": {
      "text/html": [
       "<div>\n",
       "<style scoped>\n",
       "    .dataframe tbody tr th:only-of-type {\n",
       "        vertical-align: middle;\n",
       "    }\n",
       "\n",
       "    .dataframe tbody tr th {\n",
       "        vertical-align: top;\n",
       "    }\n",
       "\n",
       "    .dataframe thead th {\n",
       "        text-align: right;\n",
       "    }\n",
       "</style>\n",
       "<table border=\"1\" class=\"dataframe\">\n",
       "  <thead>\n",
       "    <tr style=\"text-align: right;\">\n",
       "      <th></th>\n",
       "      <th>actual</th>\n",
       "      <th>predicted</th>\n",
       "    </tr>\n",
       "  </thead>\n",
       "  <tbody>\n",
       "    <tr>\n",
       "      <th>13</th>\n",
       "      <td>5</td>\n",
       "      <td>5</td>\n",
       "    </tr>\n",
       "    <tr>\n",
       "      <th>61</th>\n",
       "      <td>5</td>\n",
       "      <td>5</td>\n",
       "    </tr>\n",
       "    <tr>\n",
       "      <th>376</th>\n",
       "      <td>5</td>\n",
       "      <td>5</td>\n",
       "    </tr>\n",
       "  </tbody>\n",
       "</table>\n",
       "</div>"
      ],
      "text/plain": [
       "     actual  predicted\n",
       "13        5          5\n",
       "61        5          5\n",
       "376       5          5"
      ]
     },
     "execution_count": 72,
     "metadata": {},
     "output_type": "execute_result"
    }
   ],
   "source": [
    "train_predictions.head(3)"
   ]
  },
  {
   "cell_type": "code",
   "execution_count": 75,
   "metadata": {},
   "outputs": [
    {
     "name": "stdout",
     "output_type": "stream",
     "text": [
      "train_accuracy:  0.8810198300283286\n",
      "test_accuracy:  0.8486842105263158\n"
     ]
    }
   ],
   "source": [
    "#Evelution of train and test accuracy\n",
    "from sklearn import metrics\n",
    "train_accuracy=metrics.accuracy_score(train_predictions.actual,train_predictions.predicted)\n",
    "print('train_accuracy: ',train_accuracy)\n",
    "\n",
    "test_accuracy=metrics.accuracy_score(test_predictions.actual,test_predictions.predicted)\n",
    "print('test_accuracy: ',test_accuracy)"
   ]
  },
  {
   "cell_type": "code",
   "execution_count": 81,
   "metadata": {},
   "outputs": [],
   "source": [
    "# Creating a confusion matrix\n",
    "cm = metrics.confusion_matrix(train_predictions.actual,train_predictions.predicted)"
   ]
  },
  {
   "cell_type": "code",
   "execution_count": 82,
   "metadata": {},
   "outputs": [
    {
     "data": {
      "text/plain": [
       "array([[ 22,  42],\n",
       "       [  0, 289]], dtype=int64)"
      ]
     },
     "execution_count": 82,
     "metadata": {},
     "output_type": "execute_result"
    }
   ],
   "source": [
    "cm"
   ]
  },
  {
   "cell_type": "code",
   "execution_count": 83,
   "metadata": {},
   "outputs": [
    {
     "data": {
      "text/plain": [
       "Text(0.5, 15.0, 'Predicted label')"
      ]
     },
     "execution_count": 83,
     "metadata": {},
     "output_type": "execute_result"
    },
    {
     "data": {
      "image/png": "[encoded data removed]",
      "text/plain": [
       "<Figure size 432x288 with 2 Axes>"
      ]
     },
     "metadata": {
      "needs_background": "light"
     },
     "output_type": "display_data"
    }
   ],
   "source": [
    "sns.heatmap(cm, annot=True,  fmt='.2f', xticklabels = [\"1\", \"5\"] , yticklabels = [\"1\", \"5\"] )\n",
    "plt.ylabel('True label')\n",
    "plt.xlabel('Predicted label')"
   ]
  },
  {
   "cell_type": "code",
   "execution_count": 86,
   "metadata": {},
   "outputs": [],
   "source": [
    "cm2=metrics.confusion_matrix(test_predictions.actual,test_predictions.predicted)"
   ]
  },
  {
   "cell_type": "code",
   "execution_count": 87,
   "metadata": {},
   "outputs": [
    {
     "data": {
      "text/plain": [
       "Text(0.5, 15.0, 'Predicted label')"
      ]
     },
     "execution_count": 87,
     "metadata": {},
     "output_type": "execute_result"
    },
    {
     "data": {
      "image/png": "[encoded data removed]",
      "text/plain": [
       "<Figure size 432x288 with 2 Axes>"
      ]
     },
     "metadata": {
      "needs_background": "light"
     },
     "output_type": "display_data"
    }
   ],
   "source": [
    "sns.heatmap(cm2, annot=True,  fmt='.2f', xticklabels = [\"1\", \"5\"] , yticklabels = [\"1\", \"5\"] )\n",
    "plt.ylabel('True label')\n",
    "plt.xlabel('Predicted label')"
   ]
  },
  {
   "cell_type": "markdown",
   "metadata": {},
   "source": [
    "<center>\n",
    "<h1>Naive Bayes"
   ]
  },
  {
   "cell_type": "code",
   "execution_count": 94,
   "metadata": {},
   "outputs": [],
   "source": [
    "from sklearn.naive_bayes import GaussianNB\n",
    "from sklearn.model_selection import GridSearchCV"
   ]
  },
  {
   "cell_type": "code",
   "execution_count": 96,
   "metadata": {},
   "outputs": [],
   "source": [
    "nb_clf=GaussianNB()"
   ]
  },
  {
   "cell_type": "code",
   "execution_count": 98,
   "metadata": {},
   "outputs": [
    {
     "data": {
      "text/plain": [
       "GaussianNB(priors=None, var_smoothing=1e-09)"
      ]
     },
     "execution_count": 98,
     "metadata": {},
     "output_type": "execute_result"
    }
   ],
   "source": [
    "nb_clf.fit(train_x,train_y)"
   ]
  },
  {
   "cell_type": "code",
   "execution_count": 99,
   "metadata": {},
   "outputs": [],
   "source": [
    "train_predictions_naive_bayes = pd.DataFrame({'actual':train_y,'predicted':nb_clf.predict(train_x)})"
   ]
  },
  {
   "cell_type": "code",
   "execution_count": 100,
   "metadata": {},
   "outputs": [],
   "source": [
    "test_predictions_naive_bayes = pd.DataFrame({'actual':test_y,'predicted':nb_clf.predict(test_x)})"
   ]
  },
  {
   "cell_type": "code",
   "execution_count": 102,
   "metadata": {},
   "outputs": [
    {
     "data": {
      "text/html": [
       "<div>\n",
       "<style scoped>\n",
       "    .dataframe tbody tr th:only-of-type {\n",
       "        vertical-align: middle;\n",
       "    }\n",
       "\n",
       "    .dataframe tbody tr th {\n",
       "        vertical-align: top;\n",
       "    }\n",
       "\n",
       "    .dataframe thead th {\n",
       "        text-align: right;\n",
       "    }\n",
       "</style>\n",
       "<table border=\"1\" class=\"dataframe\">\n",
       "  <thead>\n",
       "    <tr style=\"text-align: right;\">\n",
       "      <th></th>\n",
       "      <th>actual</th>\n",
       "      <th>predicted</th>\n",
       "    </tr>\n",
       "  </thead>\n",
       "  <tbody>\n",
       "    <tr>\n",
       "      <th>307</th>\n",
       "      <td>5</td>\n",
       "      <td>5</td>\n",
       "    </tr>\n",
       "    <tr>\n",
       "      <th>343</th>\n",
       "      <td>5</td>\n",
       "      <td>5</td>\n",
       "    </tr>\n",
       "    <tr>\n",
       "      <th>47</th>\n",
       "      <td>1</td>\n",
       "      <td>1</td>\n",
       "    </tr>\n",
       "    <tr>\n",
       "      <th>67</th>\n",
       "      <td>5</td>\n",
       "      <td>5</td>\n",
       "    </tr>\n",
       "  </tbody>\n",
       "</table>\n",
       "</div>"
      ],
      "text/plain": [
       "     actual  predicted\n",
       "307       5          5\n",
       "343       5          5\n",
       "47        1          1\n",
       "67        5          5"
      ]
     },
     "execution_count": 102,
     "metadata": {},
     "output_type": "execute_result"
    }
   ],
   "source": [
    "test_predictions_naive_bayes.head(4)"
   ]
  },
  {
   "cell_type": "code",
   "execution_count": 101,
   "metadata": {},
   "outputs": [
    {
     "data": {
      "text/html": [
       "<div>\n",
       "<style scoped>\n",
       "    .dataframe tbody tr th:only-of-type {\n",
       "        vertical-align: middle;\n",
       "    }\n",
       "\n",
       "    .dataframe tbody tr th {\n",
       "        vertical-align: top;\n",
       "    }\n",
       "\n",
       "    .dataframe thead th {\n",
       "        text-align: right;\n",
       "    }\n",
       "</style>\n",
       "<table border=\"1\" class=\"dataframe\">\n",
       "  <thead>\n",
       "    <tr style=\"text-align: right;\">\n",
       "      <th></th>\n",
       "      <th>actual</th>\n",
       "      <th>predicted</th>\n",
       "    </tr>\n",
       "  </thead>\n",
       "  <tbody>\n",
       "    <tr>\n",
       "      <th>13</th>\n",
       "      <td>5</td>\n",
       "      <td>5</td>\n",
       "    </tr>\n",
       "    <tr>\n",
       "      <th>61</th>\n",
       "      <td>5</td>\n",
       "      <td>5</td>\n",
       "    </tr>\n",
       "    <tr>\n",
       "      <th>376</th>\n",
       "      <td>5</td>\n",
       "      <td>5</td>\n",
       "    </tr>\n",
       "    <tr>\n",
       "      <th>39</th>\n",
       "      <td>1</td>\n",
       "      <td>1</td>\n",
       "    </tr>\n",
       "  </tbody>\n",
       "</table>\n",
       "</div>"
      ],
      "text/plain": [
       "     actual  predicted\n",
       "13        5          5\n",
       "61        5          5\n",
       "376       5          5\n",
       "39        1          1"
      ]
     },
     "execution_count": 101,
     "metadata": {},
     "output_type": "execute_result"
    }
   ],
   "source": [
    "train_predictions_naive_bayes.head(4)"
   ]
  },
  {
   "cell_type": "code",
   "execution_count": 107,
   "metadata": {},
   "outputs": [
    {
     "name": "stdout",
     "output_type": "stream",
     "text": [
      "train_accuracy 0.9065155807365439\n",
      "test_accuracy 0.8881578947368421\n"
     ]
    }
   ],
   "source": [
    "print('train_accuracy',metrics.accuracy_score(train_predictions_naive_bayes.actual,train_predictions_naive_bayes.predicted))\n",
    "print('test_accuracy',metrics.accuracy_score(test_predictions_naive_bayes.actual,test_predictions_naive_bayes.predicted))"
   ]
  },
  {
   "cell_type": "code",
   "execution_count": 108,
   "metadata": {},
   "outputs": [],
   "source": [
    "cm3=metrics.confusion_matrix(train_predictions_naive_bayes.actual,train_predictions_naive_bayes.predicted)"
   ]
  },
  {
   "cell_type": "code",
   "execution_count": 109,
   "metadata": {},
   "outputs": [
    {
     "data": {
      "text/plain": [
       "Text(0.5, 15.0, 'Predicted label')"
      ]
     },
     "execution_count": 109,
     "metadata": {},
     "output_type": "execute_result"
    },
    {
     "data": {
      "image/png": "[encoded data removed]",
      "text/plain": [
       "<Figure size 432x288 with 2 Axes>"
      ]
     },
     "metadata": {
      "needs_background": "light"
     },
     "output_type": "display_data"
    }
   ],
   "source": [
    "sns.heatmap(cm3, annot=True,  fmt='.2f', xticklabels = [\"1\", \"5\"] , yticklabels = [\"1\", \"5\"] )\n",
    "plt.ylabel('True label')\n",
    "plt.xlabel('Predicted label')"
   ]
  },
  {
   "cell_type": "markdown",
   "metadata": {},
   "source": [
    "<center>\n",
    "<h1>Boosting"
   ]
  },
  {
   "cell_type": "code",
   "execution_count": 114,
   "metadata": {},
   "outputs": [],
   "source": [
    "from sklearn.ensemble import AdaBoostClassifier, GradientBoostingClassifier\n",
    "from sklearn.model_selection import GridSearchCV"
   ]
  },
  {
   "cell_type": "code",
   "execution_count": 121,
   "metadata": {},
   "outputs": [],
   "source": [
    "pargrid_ada = {'n_estimators': [100, 200, 400, 600, 800],\n",
    "               'learning_rate': [10 ** x for x in range(-3, 3)]}"
   ]
  },
  {
   "cell_type": "code",
   "execution_count": 122,
   "metadata": {},
   "outputs": [],
   "source": [
    "ada=AdaBoostClassifier()"
   ]
  },
  {
   "cell_type": "code",
   "execution_count": 123,
   "metadata": {},
   "outputs": [],
   "source": [
    "gsc=GridSearchCV(ada,pargrid_ada,cv=4,verbose = True)"
   ]
  },
  {
   "cell_type": "code",
   "execution_count": 124,
   "metadata": {},
   "outputs": [
    {
     "name": "stdout",
     "output_type": "stream",
     "text": [
      "Fitting 4 folds for each of 30 candidates, totalling 120 fits\n"
     ]
    },
    {
     "name": "stderr",
     "output_type": "stream",
     "text": [
      "[Parallel(n_jobs=1)]: Using backend SequentialBackend with 1 concurrent workers.\n",
      "C:\\Users\\ZomAdmin\\anaconda3\\lib\\site-packages\\sklearn\\ensemble\\_weight_boosting.py:557: RuntimeWarning: overflow encountered in exp\n",
      "  (estimator_weight < 0)))\n",
      "C:\\Users\\ZomAdmin\\anaconda3\\lib\\site-packages\\sklearn\\ensemble\\_weight_boosting.py:163: RuntimeWarning: invalid value encountered in true_divide\n",
      "  sample_weight /= sample_weight_sum\n",
      "C:\\Users\\ZomAdmin\\anaconda3\\lib\\site-packages\\sklearn\\model_selection\\_validation.py:536: FitFailedWarning: Estimator fit failed. The score on this train-test partition for these parameters will be set to nan. Details: \n",
      "ValueError: Input contains NaN, infinity or a value too large for dtype('float64').\n",
      "\n",
      "  FitFailedWarning)\n",
      "C:\\Users\\ZomAdmin\\anaconda3\\lib\\site-packages\\sklearn\\ensemble\\_weight_boosting.py:557: RuntimeWarning: overflow encountered in exp\n",
      "  (estimator_weight < 0)))\n",
      "C:\\Users\\ZomAdmin\\anaconda3\\lib\\site-packages\\sklearn\\ensemble\\_weight_boosting.py:163: RuntimeWarning: invalid value encountered in true_divide\n",
      "  sample_weight /= sample_weight_sum\n",
      "C:\\Users\\ZomAdmin\\anaconda3\\lib\\site-packages\\sklearn\\model_selection\\_validation.py:536: FitFailedWarning: Estimator fit failed. The score on this train-test partition for these parameters will be set to nan. Details: \n",
      "ValueError: Input contains NaN, infinity or a value too large for dtype('float64').\n",
      "\n",
      "  FitFailedWarning)\n",
      "C:\\Users\\ZomAdmin\\anaconda3\\lib\\site-packages\\sklearn\\ensemble\\_weight_boosting.py:557: RuntimeWarning: overflow encountered in exp\n",
      "  (estimator_weight < 0)))\n",
      "C:\\Users\\ZomAdmin\\anaconda3\\lib\\site-packages\\sklearn\\ensemble\\_weight_boosting.py:163: RuntimeWarning: invalid value encountered in true_divide\n",
      "  sample_weight /= sample_weight_sum\n",
      "C:\\Users\\ZomAdmin\\anaconda3\\lib\\site-packages\\sklearn\\model_selection\\_validation.py:536: FitFailedWarning: Estimator fit failed. The score on this train-test partition for these parameters will be set to nan. Details: \n",
      "ValueError: Input contains NaN, infinity or a value too large for dtype('float64').\n",
      "\n",
      "  FitFailedWarning)\n",
      "C:\\Users\\ZomAdmin\\anaconda3\\lib\\site-packages\\sklearn\\ensemble\\_weight_boosting.py:557: RuntimeWarning: overflow encountered in exp\n",
      "  (estimator_weight < 0)))\n",
      "C:\\Users\\ZomAdmin\\anaconda3\\lib\\site-packages\\sklearn\\ensemble\\_weight_boosting.py:163: RuntimeWarning: invalid value encountered in true_divide\n",
      "  sample_weight /= sample_weight_sum\n",
      "C:\\Users\\ZomAdmin\\anaconda3\\lib\\site-packages\\sklearn\\model_selection\\_validation.py:536: FitFailedWarning: Estimator fit failed. The score on this train-test partition for these parameters will be set to nan. Details: \n",
      "ValueError: Input contains NaN, infinity or a value too large for dtype('float64').\n",
      "\n",
      "  FitFailedWarning)\n",
      "C:\\Users\\ZomAdmin\\anaconda3\\lib\\site-packages\\sklearn\\ensemble\\_weight_boosting.py:557: RuntimeWarning: overflow encountered in exp\n",
      "  (estimator_weight < 0)))\n",
      "C:\\Users\\ZomAdmin\\anaconda3\\lib\\site-packages\\sklearn\\ensemble\\_weight_boosting.py:163: RuntimeWarning: invalid value encountered in true_divide\n",
      "  sample_weight /= sample_weight_sum\n",
      "C:\\Users\\ZomAdmin\\anaconda3\\lib\\site-packages\\sklearn\\model_selection\\_validation.py:536: FitFailedWarning: Estimator fit failed. The score on this train-test partition for these parameters will be set to nan. Details: \n",
      "ValueError: Input contains NaN, infinity or a value too large for dtype('float64').\n",
      "\n",
      "  FitFailedWarning)\n",
      "C:\\Users\\ZomAdmin\\anaconda3\\lib\\site-packages\\sklearn\\ensemble\\_weight_boosting.py:557: RuntimeWarning: overflow encountered in exp\n",
      "  (estimator_weight < 0)))\n",
      "C:\\Users\\ZomAdmin\\anaconda3\\lib\\site-packages\\sklearn\\ensemble\\_weight_boosting.py:163: RuntimeWarning: invalid value encountered in true_divide\n",
      "  sample_weight /= sample_weight_sum\n",
      "C:\\Users\\ZomAdmin\\anaconda3\\lib\\site-packages\\sklearn\\model_selection\\_validation.py:536: FitFailedWarning: Estimator fit failed. The score on this train-test partition for these parameters will be set to nan. Details: \n",
      "ValueError: Input contains NaN, infinity or a value too large for dtype('float64').\n",
      "\n",
      "  FitFailedWarning)\n",
      "C:\\Users\\ZomAdmin\\anaconda3\\lib\\site-packages\\sklearn\\ensemble\\_weight_boosting.py:557: RuntimeWarning: overflow encountered in exp\n",
      "  (estimator_weight < 0)))\n",
      "C:\\Users\\ZomAdmin\\anaconda3\\lib\\site-packages\\sklearn\\ensemble\\_weight_boosting.py:163: RuntimeWarning: invalid value encountered in true_divide\n",
      "  sample_weight /= sample_weight_sum\n",
      "C:\\Users\\ZomAdmin\\anaconda3\\lib\\site-packages\\sklearn\\model_selection\\_validation.py:536: FitFailedWarning: Estimator fit failed. The score on this train-test partition for these parameters will be set to nan. Details: \n",
      "ValueError: Input contains NaN, infinity or a value too large for dtype('float64').\n",
      "\n",
      "  FitFailedWarning)\n",
      "C:\\Users\\ZomAdmin\\anaconda3\\lib\\site-packages\\sklearn\\ensemble\\_weight_boosting.py:557: RuntimeWarning: overflow encountered in exp\n",
      "  (estimator_weight < 0)))\n",
      "C:\\Users\\ZomAdmin\\anaconda3\\lib\\site-packages\\sklearn\\ensemble\\_weight_boosting.py:163: RuntimeWarning: invalid value encountered in true_divide\n",
      "  sample_weight /= sample_weight_sum\n",
      "C:\\Users\\ZomAdmin\\anaconda3\\lib\\site-packages\\sklearn\\model_selection\\_validation.py:536: FitFailedWarning: Estimator fit failed. The score on this train-test partition for these parameters will be set to nan. Details: \n",
      "ValueError: Input contains NaN, infinity or a value too large for dtype('float64').\n",
      "\n",
      "  FitFailedWarning)\n",
      "C:\\Users\\ZomAdmin\\anaconda3\\lib\\site-packages\\sklearn\\ensemble\\_weight_boosting.py:557: RuntimeWarning: overflow encountered in exp\n",
      "  (estimator_weight < 0)))\n",
      "C:\\Users\\ZomAdmin\\anaconda3\\lib\\site-packages\\sklearn\\ensemble\\_weight_boosting.py:163: RuntimeWarning: invalid value encountered in true_divide\n",
      "  sample_weight /= sample_weight_sum\n",
      "C:\\Users\\ZomAdmin\\anaconda3\\lib\\site-packages\\sklearn\\model_selection\\_validation.py:536: FitFailedWarning: Estimator fit failed. The score on this train-test partition for these parameters will be set to nan. Details: \n",
      "ValueError: Input contains NaN, infinity or a value too large for dtype('float64').\n",
      "\n",
      "  FitFailedWarning)\n",
      "C:\\Users\\ZomAdmin\\anaconda3\\lib\\site-packages\\sklearn\\ensemble\\_weight_boosting.py:557: RuntimeWarning: overflow encountered in exp\n",
      "  (estimator_weight < 0)))\n",
      "C:\\Users\\ZomAdmin\\anaconda3\\lib\\site-packages\\sklearn\\ensemble\\_weight_boosting.py:163: RuntimeWarning: invalid value encountered in true_divide\n",
      "  sample_weight /= sample_weight_sum\n",
      "C:\\Users\\ZomAdmin\\anaconda3\\lib\\site-packages\\sklearn\\model_selection\\_validation.py:536: FitFailedWarning: Estimator fit failed. The score on this train-test partition for these parameters will be set to nan. Details: \n",
      "ValueError: Input contains NaN, infinity or a value too large for dtype('float64').\n",
      "\n",
      "  FitFailedWarning)\n",
      "C:\\Users\\ZomAdmin\\anaconda3\\lib\\site-packages\\sklearn\\ensemble\\_weight_boosting.py:557: RuntimeWarning: overflow encountered in exp\n",
      "  (estimator_weight < 0)))\n",
      "C:\\Users\\ZomAdmin\\anaconda3\\lib\\site-packages\\sklearn\\ensemble\\_weight_boosting.py:163: RuntimeWarning: invalid value encountered in true_divide\n",
      "  sample_weight /= sample_weight_sum\n",
      "C:\\Users\\ZomAdmin\\anaconda3\\lib\\site-packages\\sklearn\\model_selection\\_validation.py:536: FitFailedWarning: Estimator fit failed. The score on this train-test partition for these parameters will be set to nan. Details: \n",
      "ValueError: Input contains NaN, infinity or a value too large for dtype('float64').\n",
      "\n",
      "  FitFailedWarning)\n",
      "C:\\Users\\ZomAdmin\\anaconda3\\lib\\site-packages\\sklearn\\ensemble\\_weight_boosting.py:557: RuntimeWarning: overflow encountered in exp\n",
      "  (estimator_weight < 0)))\n",
      "C:\\Users\\ZomAdmin\\anaconda3\\lib\\site-packages\\sklearn\\ensemble\\_weight_boosting.py:163: RuntimeWarning: invalid value encountered in true_divide\n",
      "  sample_weight /= sample_weight_sum\n",
      "C:\\Users\\ZomAdmin\\anaconda3\\lib\\site-packages\\sklearn\\model_selection\\_validation.py:536: FitFailedWarning: Estimator fit failed. The score on this train-test partition for these parameters will be set to nan. Details: \n",
      "ValueError: Input contains NaN, infinity or a value too large for dtype('float64').\n",
      "\n",
      "  FitFailedWarning)\n",
      "C:\\Users\\ZomAdmin\\anaconda3\\lib\\site-packages\\sklearn\\ensemble\\_weight_boosting.py:557: RuntimeWarning: overflow encountered in exp\n",
      "  (estimator_weight < 0)))\n",
      "C:\\Users\\ZomAdmin\\anaconda3\\lib\\site-packages\\sklearn\\ensemble\\_weight_boosting.py:163: RuntimeWarning: invalid value encountered in true_divide\n",
      "  sample_weight /= sample_weight_sum\n"
     ]
    },
    {
     "name": "stderr",
     "output_type": "stream",
     "text": [
      "C:\\Users\\ZomAdmin\\anaconda3\\lib\\site-packages\\sklearn\\model_selection\\_validation.py:536: FitFailedWarning: Estimator fit failed. The score on this train-test partition for these parameters will be set to nan. Details: \n",
      "ValueError: Input contains NaN, infinity or a value too large for dtype('float64').\n",
      "\n",
      "  FitFailedWarning)\n",
      "C:\\Users\\ZomAdmin\\anaconda3\\lib\\site-packages\\sklearn\\ensemble\\_weight_boosting.py:557: RuntimeWarning: overflow encountered in exp\n",
      "  (estimator_weight < 0)))\n",
      "C:\\Users\\ZomAdmin\\anaconda3\\lib\\site-packages\\sklearn\\ensemble\\_weight_boosting.py:163: RuntimeWarning: invalid value encountered in true_divide\n",
      "  sample_weight /= sample_weight_sum\n",
      "C:\\Users\\ZomAdmin\\anaconda3\\lib\\site-packages\\sklearn\\model_selection\\_validation.py:536: FitFailedWarning: Estimator fit failed. The score on this train-test partition for these parameters will be set to nan. Details: \n",
      "ValueError: Input contains NaN, infinity or a value too large for dtype('float64').\n",
      "\n",
      "  FitFailedWarning)\n",
      "C:\\Users\\ZomAdmin\\anaconda3\\lib\\site-packages\\sklearn\\ensemble\\_weight_boosting.py:557: RuntimeWarning: overflow encountered in exp\n",
      "  (estimator_weight < 0)))\n",
      "C:\\Users\\ZomAdmin\\anaconda3\\lib\\site-packages\\sklearn\\ensemble\\_weight_boosting.py:163: RuntimeWarning: invalid value encountered in true_divide\n",
      "  sample_weight /= sample_weight_sum\n",
      "C:\\Users\\ZomAdmin\\anaconda3\\lib\\site-packages\\sklearn\\model_selection\\_validation.py:536: FitFailedWarning: Estimator fit failed. The score on this train-test partition for these parameters will be set to nan. Details: \n",
      "ValueError: Input contains NaN, infinity or a value too large for dtype('float64').\n",
      "\n",
      "  FitFailedWarning)\n",
      "C:\\Users\\ZomAdmin\\anaconda3\\lib\\site-packages\\sklearn\\ensemble\\_weight_boosting.py:557: RuntimeWarning: overflow encountered in exp\n",
      "  (estimator_weight < 0)))\n",
      "C:\\Users\\ZomAdmin\\anaconda3\\lib\\site-packages\\sklearn\\ensemble\\_weight_boosting.py:163: RuntimeWarning: invalid value encountered in true_divide\n",
      "  sample_weight /= sample_weight_sum\n",
      "C:\\Users\\ZomAdmin\\anaconda3\\lib\\site-packages\\sklearn\\model_selection\\_validation.py:536: FitFailedWarning: Estimator fit failed. The score on this train-test partition for these parameters will be set to nan. Details: \n",
      "ValueError: Input contains NaN, infinity or a value too large for dtype('float64').\n",
      "\n",
      "  FitFailedWarning)\n",
      "C:\\Users\\ZomAdmin\\anaconda3\\lib\\site-packages\\sklearn\\ensemble\\_weight_boosting.py:557: RuntimeWarning: overflow encountered in exp\n",
      "  (estimator_weight < 0)))\n",
      "C:\\Users\\ZomAdmin\\anaconda3\\lib\\site-packages\\sklearn\\ensemble\\_weight_boosting.py:163: RuntimeWarning: invalid value encountered in true_divide\n",
      "  sample_weight /= sample_weight_sum\n",
      "C:\\Users\\ZomAdmin\\anaconda3\\lib\\site-packages\\sklearn\\model_selection\\_validation.py:536: FitFailedWarning: Estimator fit failed. The score on this train-test partition for these parameters will be set to nan. Details: \n",
      "ValueError: Input contains NaN, infinity or a value too large for dtype('float64').\n",
      "\n",
      "  FitFailedWarning)\n",
      "C:\\Users\\ZomAdmin\\anaconda3\\lib\\site-packages\\sklearn\\ensemble\\_weight_boosting.py:557: RuntimeWarning: overflow encountered in exp\n",
      "  (estimator_weight < 0)))\n",
      "C:\\Users\\ZomAdmin\\anaconda3\\lib\\site-packages\\sklearn\\ensemble\\_weight_boosting.py:163: RuntimeWarning: invalid value encountered in true_divide\n",
      "  sample_weight /= sample_weight_sum\n",
      "C:\\Users\\ZomAdmin\\anaconda3\\lib\\site-packages\\sklearn\\model_selection\\_validation.py:536: FitFailedWarning: Estimator fit failed. The score on this train-test partition for these parameters will be set to nan. Details: \n",
      "ValueError: Input contains NaN, infinity or a value too large for dtype('float64').\n",
      "\n",
      "  FitFailedWarning)\n",
      "C:\\Users\\ZomAdmin\\anaconda3\\lib\\site-packages\\sklearn\\ensemble\\_weight_boosting.py:557: RuntimeWarning: overflow encountered in exp\n",
      "  (estimator_weight < 0)))\n",
      "C:\\Users\\ZomAdmin\\anaconda3\\lib\\site-packages\\sklearn\\ensemble\\_weight_boosting.py:163: RuntimeWarning: invalid value encountered in true_divide\n",
      "  sample_weight /= sample_weight_sum\n",
      "C:\\Users\\ZomAdmin\\anaconda3\\lib\\site-packages\\sklearn\\model_selection\\_validation.py:536: FitFailedWarning: Estimator fit failed. The score on this train-test partition for these parameters will be set to nan. Details: \n",
      "ValueError: Input contains NaN, infinity or a value too large for dtype('float64').\n",
      "\n",
      "  FitFailedWarning)\n",
      "C:\\Users\\ZomAdmin\\anaconda3\\lib\\site-packages\\sklearn\\ensemble\\_weight_boosting.py:557: RuntimeWarning: overflow encountered in exp\n",
      "  (estimator_weight < 0)))\n",
      "C:\\Users\\ZomAdmin\\anaconda3\\lib\\site-packages\\sklearn\\ensemble\\_weight_boosting.py:163: RuntimeWarning: invalid value encountered in true_divide\n",
      "  sample_weight /= sample_weight_sum\n",
      "C:\\Users\\ZomAdmin\\anaconda3\\lib\\site-packages\\sklearn\\model_selection\\_validation.py:536: FitFailedWarning: Estimator fit failed. The score on this train-test partition for these parameters will be set to nan. Details: \n",
      "ValueError: Input contains NaN, infinity or a value too large for dtype('float64').\n",
      "\n",
      "  FitFailedWarning)\n",
      "[Parallel(n_jobs=1)]: Done 120 out of 120 | elapsed:  3.4min finished\n"
     ]
    },
    {
     "data": {
      "text/plain": [
       "GridSearchCV(cv=4, error_score=nan,\n",
       "             estimator=AdaBoostClassifier(algorithm='SAMME.R',\n",
       "                                          base_estimator=None,\n",
       "                                          learning_rate=1.0, n_estimators=50,\n",
       "                                          random_state=None),\n",
       "             iid='deprecated', n_jobs=None,\n",
       "             param_grid={'learning_rate': [0.001, 0.01, 0.1, 1, 10, 100],\n",
       "                         'n_estimators': [100, 200, 400, 600, 800]},\n",
       "             pre_dispatch='2*n_jobs', refit=True, return_train_score=False,\n",
       "             scoring=None, verbose=True)"
      ]
     },
     "execution_count": 124,
     "metadata": {},
     "output_type": "execute_result"
    }
   ],
   "source": [
    "gsc.fit(train_x,train_y)"
   ]
  },
  {
   "cell_type": "code",
   "execution_count": 125,
   "metadata": {},
   "outputs": [
    {
     "data": {
      "text/plain": [
       "{'learning_rate': 1, 'n_estimators': 200}"
      ]
     },
     "execution_count": 125,
     "metadata": {},
     "output_type": "execute_result"
    }
   ],
   "source": [
    "gsc.best_params_"
   ]
  },
  {
   "cell_type": "code",
   "execution_count": 126,
   "metadata": {},
   "outputs": [],
   "source": [
    "ada2=AdaBoostClassifier(learning_rate=1,n_estimators=200)"
   ]
  },
  {
   "cell_type": "code",
   "execution_count": 128,
   "metadata": {},
   "outputs": [
    {
     "data": {
      "text/plain": [
       "AdaBoostClassifier(algorithm='SAMME.R', base_estimator=None, learning_rate=1,\n",
       "                   n_estimators=200, random_state=None)"
      ]
     },
     "execution_count": 128,
     "metadata": {},
     "output_type": "execute_result"
    }
   ],
   "source": [
    "ada2.fit(train_x,train_y)"
   ]
  },
  {
   "cell_type": "markdown",
   "metadata": {},
   "source": [
    "### Predictions"
   ]
  },
  {
   "cell_type": "code",
   "execution_count": 130,
   "metadata": {},
   "outputs": [],
   "source": [
    "train_predictions_AdaBoosting = pd.DataFrame({'actual':train_y,'predicted':ada2.predict(train_x)})\n",
    "test_predictions_AdaBoosting = pd.DataFrame({'actual':test_y,'predicted':ada2.predict(test_x)})"
   ]
  },
  {
   "cell_type": "code",
   "execution_count": 132,
   "metadata": {},
   "outputs": [
    {
     "data": {
      "text/html": [
       "<div>\n",
       "<style scoped>\n",
       "    .dataframe tbody tr th:only-of-type {\n",
       "        vertical-align: middle;\n",
       "    }\n",
       "\n",
       "    .dataframe tbody tr th {\n",
       "        vertical-align: top;\n",
       "    }\n",
       "\n",
       "    .dataframe thead th {\n",
       "        text-align: right;\n",
       "    }\n",
       "</style>\n",
       "<table border=\"1\" class=\"dataframe\">\n",
       "  <thead>\n",
       "    <tr style=\"text-align: right;\">\n",
       "      <th></th>\n",
       "      <th>actual</th>\n",
       "      <th>predicted</th>\n",
       "    </tr>\n",
       "  </thead>\n",
       "  <tbody>\n",
       "    <tr>\n",
       "      <th>307</th>\n",
       "      <td>5</td>\n",
       "      <td>5</td>\n",
       "    </tr>\n",
       "    <tr>\n",
       "      <th>343</th>\n",
       "      <td>5</td>\n",
       "      <td>5</td>\n",
       "    </tr>\n",
       "    <tr>\n",
       "      <th>47</th>\n",
       "      <td>1</td>\n",
       "      <td>1</td>\n",
       "    </tr>\n",
       "    <tr>\n",
       "      <th>67</th>\n",
       "      <td>5</td>\n",
       "      <td>5</td>\n",
       "    </tr>\n",
       "    <tr>\n",
       "      <th>361</th>\n",
       "      <td>5</td>\n",
       "      <td>5</td>\n",
       "    </tr>\n",
       "  </tbody>\n",
       "</table>\n",
       "</div>"
      ],
      "text/plain": [
       "     actual  predicted\n",
       "307       5          5\n",
       "343       5          5\n",
       "47        1          1\n",
       "67        5          5\n",
       "361       5          5"
      ]
     },
     "execution_count": 132,
     "metadata": {},
     "output_type": "execute_result"
    }
   ],
   "source": [
    "test_predictions_AdaBoosting.head(5)"
   ]
  },
  {
   "cell_type": "code",
   "execution_count": 131,
   "metadata": {},
   "outputs": [
    {
     "data": {
      "text/html": [
       "<div>\n",
       "<style scoped>\n",
       "    .dataframe tbody tr th:only-of-type {\n",
       "        vertical-align: middle;\n",
       "    }\n",
       "\n",
       "    .dataframe tbody tr th {\n",
       "        vertical-align: top;\n",
       "    }\n",
       "\n",
       "    .dataframe thead th {\n",
       "        text-align: right;\n",
       "    }\n",
       "</style>\n",
       "<table border=\"1\" class=\"dataframe\">\n",
       "  <thead>\n",
       "    <tr style=\"text-align: right;\">\n",
       "      <th></th>\n",
       "      <th>actual</th>\n",
       "      <th>predicted</th>\n",
       "    </tr>\n",
       "  </thead>\n",
       "  <tbody>\n",
       "    <tr>\n",
       "      <th>13</th>\n",
       "      <td>5</td>\n",
       "      <td>5</td>\n",
       "    </tr>\n",
       "    <tr>\n",
       "      <th>61</th>\n",
       "      <td>5</td>\n",
       "      <td>5</td>\n",
       "    </tr>\n",
       "    <tr>\n",
       "      <th>376</th>\n",
       "      <td>5</td>\n",
       "      <td>5</td>\n",
       "    </tr>\n",
       "    <tr>\n",
       "      <th>39</th>\n",
       "      <td>1</td>\n",
       "      <td>1</td>\n",
       "    </tr>\n",
       "    <tr>\n",
       "      <th>364</th>\n",
       "      <td>5</td>\n",
       "      <td>5</td>\n",
       "    </tr>\n",
       "  </tbody>\n",
       "</table>\n",
       "</div>"
      ],
      "text/plain": [
       "     actual  predicted\n",
       "13        5          5\n",
       "61        5          5\n",
       "376       5          5\n",
       "39        1          1\n",
       "364       5          5"
      ]
     },
     "execution_count": 131,
     "metadata": {},
     "output_type": "execute_result"
    }
   ],
   "source": [
    "train_predictions_AdaBoosting.head(5)"
   ]
  },
  {
   "cell_type": "code",
   "execution_count": 135,
   "metadata": {},
   "outputs": [
    {
     "name": "stdout",
     "output_type": "stream",
     "text": [
      "train_accuracy 0.9971671388101983\n",
      "test_accuracy 0.9276315789473685\n"
     ]
    }
   ],
   "source": [
    "print('train_accuracy',metrics.accuracy_score(train_predictions_AdaBoosting.actual,train_predictions_AdaBoosting.predicted))\n",
    "print('test_accuracy',metrics.accuracy_score(test_predictions_AdaBoosting.actual,test_predictions_AdaBoosting.predicted))"
   ]
  },
  {
   "cell_type": "markdown",
   "metadata": {},
   "source": [
    "## Confusion matrix"
   ]
  },
  {
   "cell_type": "code",
   "execution_count": 137,
   "metadata": {},
   "outputs": [],
   "source": [
    "cm4 = metrics.confusion_matrix(train_predictions_AdaBoosting.actual,train_predictions_AdaBoosting.predicted)"
   ]
  },
  {
   "cell_type": "code",
   "execution_count": 138,
   "metadata": {},
   "outputs": [],
   "source": [
    "cm5 = metrics.confusion_matrix(test_predictions_AdaBoosting.actual,test_predictions_AdaBoosting.predicted)"
   ]
  },
  {
   "cell_type": "code",
   "execution_count": 140,
   "metadata": {},
   "outputs": [
    {
     "data": {
      "text/plain": [
       "Text(0.5, 15.0, 'Predicted label')"
      ]
     },
     "execution_count": 140,
     "metadata": {},
     "output_type": "execute_result"
    },
    {
     "data": {
      "image/png": "[encoded data removed]",
      "text/plain": [
       "<Figure size 432x288 with 2 Axes>"
      ]
     },
     "metadata": {
      "needs_background": "light"
     },
     "output_type": "display_data"
    }
   ],
   "source": [
    "sns.heatmap(cm4, annot=True,  fmt='.2f', xticklabels = [\"1\", \"5\"] , yticklabels = [\"1\", \"5\"] )\n",
    "plt.ylabel('True label')\n",
    "plt.xlabel('Predicted label')"
   ]
  },
  {
   "cell_type": "code",
   "execution_count": 139,
   "metadata": {},
   "outputs": [
    {
     "data": {
      "text/plain": [
       "Text(0.5, 15.0, 'Predicted label')"
      ]
     },
     "execution_count": 139,
     "metadata": {},
     "output_type": "execute_result"
    },
    {
     "data": {
      "image/png": "[encoded data removed]",
      "text/plain": [
       "<Figure size 432x288 with 2 Axes>"
      ]
     },
     "metadata": {
      "needs_background": "light"
     },
     "output_type": "display_data"
    }
   ],
   "source": [
    "sns.heatmap(cm5, annot=True,  fmt='.2f', xticklabels = [\"1\", \"5\"] , yticklabels = [\"1\", \"5\"] )\n",
    "plt.ylabel('True label')\n",
    "plt.xlabel('Predicted label')"
   ]
  },
  {
   "cell_type": "markdown",
   "metadata": {},
   "source": [
    "## Accuracy of all the models"
   ]
  },
  {
   "cell_type": "code",
   "execution_count": 148,
   "metadata": {},
   "outputs": [
    {
     "name": "stdout",
     "output_type": "stream",
     "text": [
      "Training Logistic regression 0.8810198300283286\n",
      "Testing Logistic regression 0.8486842105263158\n",
      "Training Naive Bayes 0.9065155807365439\n",
      "Testing Naive Bayes 0.8881578947368421\n",
      "Training Ada Boosting 0.9971671388101983\n",
      "Testing Ada Boosting 0.9276315789473685\n"
     ]
    }
   ],
   "source": [
    "print('Training Logistic regression' ,metrics.accuracy_score(train_predictions.actual,train_predictions.predicted))\n",
    "print('Testing Logistic regression' ,metrics.accuracy_score(test_predictions.actual,test_predictions.predicted))\n",
    "print('Training Naive Bayes' ,metrics.accuracy_score(train_predictions_naive_bayes.actual,train_predictions_naive_bayes.predicted))\n",
    "print('Testing Naive Bayes' ,metrics.accuracy_score(test_predictions_naive_bayes.actual,test_predictions_naive_bayes.predicted))\n",
    "print('Training Ada Boosting' ,metrics.accuracy_score(train_predictions_AdaBoosting.actual,train_predictions_AdaBoosting.predicted))\n",
    "print('Testing Ada Boosting' ,metrics.accuracy_score(test_predictions_AdaBoosting.actual,test_predictions_AdaBoosting.predicted))"
   ]
  },
  {
   "cell_type": "markdown",
   "metadata": {},
   "source": [
    "### Ada Boosting was performing best in our case"
   ]
  },
  {
   "cell_type": "code",
   "execution_count": null,
   "metadata": {},
   "outputs": [],
   "source": []
  },
  {
   "cell_type": "code",
   "execution_count": null,
   "metadata": {},
   "outputs": [],
   "source": []
  },
  {
   "cell_type": "code",
   "execution_count": null,
   "metadata": {},
   "outputs": [],
   "source": []
  },
  {
   "cell_type": "code",
   "execution_count": null,
   "metadata": {},
   "outputs": [],
   "source": []
  },
  {
   "cell_type": "code",
   "execution_count": null,
   "metadata": {},
   "outputs": [],
   "source": []
  }
 ],
 "metadata": {
  "kernelspec": {
   "display_name": "Python 3",
   "language": "python",
   "name": "python3"
  },
  "language_info": {
   "codemirror_mode": {
    "name": "ipython",
    "version": 3
   },
   "file_extension": ".py",
   "mimetype": "text/x-python",
   "name": "python",
   "nbconvert_exporter": "python",
   "pygments_lexer": "ipython3",
   "version": "3.7.6"
  }
 },
 "nbformat": 4,
 "nbformat_minor": 4
}
