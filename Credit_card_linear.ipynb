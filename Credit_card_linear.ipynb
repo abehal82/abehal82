{
 "cells": [
  {
   "cell_type": "code",
   "execution_count": 2,
   "metadata": {},
   "outputs": [],
   "source": [
    "import pandas as pd\n",
    "import numpy as np\n",
    "import matplotlib.pyplot as plt\n",
    "import seaborn as sns\n",
    "import scipy.stats as stats\n",
    "import pandas_profiling\n",
    "\n",
    "%matplotlib inline\n",
    "\n",
    "import statsmodels.formula.api as smf\n",
    "from sklearn.model_selection import train_test_split\n",
    "from sklearn.metrics import r2_score,mean_squared_error, mean_absolute_error\n",
    "from sklearn.linear_model import LinearRegression\n",
    "\n",
    "from statsmodels.stats.outliers_influence import variance_inflation_factor\n",
    "from patsy import dmatrices\n",
    "\n",
    "# Feature Selection based on importance\n",
    "from sklearn.feature_selection import f_regression\n",
    "\n",
    "## Error measures\n",
    "from sklearn import metrics\n",
    "\n",
    "## Decision tree package:\n",
    "from sklearn.model_selection import GridSearchCV\n",
    "from sklearn.tree import DecisionTreeRegressor "
   ]
  },
  {
   "cell_type": "code",
   "execution_count": 3,
   "metadata": {},
   "outputs": [],
   "source": [
    "data = pd.read_excel('C:/Users/ZomAdmin/Desktop/Data Science with python/Python Session 28/MAIN CASE STUDIES - ML/1. Predicting Credit Card Spend & Identifying Key Drivers/Data Set.xlsx')"
   ]
  },
  {
   "cell_type": "code",
   "execution_count": 4,
   "metadata": {},
   "outputs": [
    {
     "data": {
      "text/plain": [
       "(5000, 130)"
      ]
     },
     "execution_count": 4,
     "metadata": {},
     "output_type": "execute_result"
    }
   ],
   "source": [
    "data.shape"
   ]
  },
  {
   "cell_type": "code",
   "execution_count": 5,
   "metadata": {},
   "outputs": [
    {
     "name": "stdout",
     "output_type": "stream",
     "text": [
      "<class 'pandas.core.frame.DataFrame'>\n",
      "RangeIndex: 5000 entries, 0 to 4999\n",
      "Columns: 130 entries, custid to response_03\n",
      "dtypes: float64(31), int64(97), object(2)\n",
      "memory usage: 5.0+ MB\n"
     ]
    }
   ],
   "source": [
    "data.info() ## Data consist 5k rows and 130 columns:"
   ]
  },
  {
   "cell_type": "code",
   "execution_count": 7,
   "metadata": {},
   "outputs": [
    {
     "data": {
      "text/plain": [
       "Index(['custid', 'region', 'townsize', 'gender', 'age', 'agecat', 'birthmonth',\n",
       "       'ed', 'edcat', 'jobcat',\n",
       "       ...\n",
       "       'owncd', 'ownpda', 'ownpc', 'ownipod', 'owngame', 'ownfax', 'news',\n",
       "       'response_01', 'response_02', 'response_03'],\n",
       "      dtype='object', length=130)"
      ]
     },
     "execution_count": 7,
     "metadata": {},
     "output_type": "execute_result"
    }
   ],
   "source": [
    "data.columns"
   ]
  },
  {
   "cell_type": "code",
   "execution_count": 8,
   "metadata": {},
   "outputs": [
    {
     "data": {
      "application/vnd.jupyter.widget-view+json": {
       "model_id": "1c2608cabf1f46ac9aa13dec45c2e73b",
       "version_major": 2,
       "version_minor": 0
      },
      "text/plain": [
       "HBox(children=(FloatProgress(value=0.0, description='Summarize dataset', max=144.0, style=ProgressStyle(descri…"
      ]
     },
     "metadata": {},
     "output_type": "display_data"
    },
    {
     "name": "stdout",
     "output_type": "stream",
     "text": [
      "\n"
     ]
    },
    {
     "data": {
      "application/vnd.jupyter.widget-view+json": {
       "model_id": "97bef471a098479c88fc4a5bb6428e02",
       "version_major": 2,
       "version_minor": 0
      },
      "text/plain": [
       "HBox(children=(FloatProgress(value=0.0, description='Generate report structure', max=1.0, style=ProgressStyle(…"
      ]
     },
     "metadata": {},
     "output_type": "display_data"
    },
    {
     "name": "stdout",
     "output_type": "stream",
     "text": [
      "\n"
     ]
    },
    {
     "data": {
      "application/vnd.jupyter.widget-view+json": {
       "model_id": "63137965ea4541e4b58457b49add72d7",
       "version_major": 2,
       "version_minor": 0
      },
      "text/plain": [
       "HBox(children=(FloatProgress(value=0.0, description='Render HTML', max=1.0, style=ProgressStyle(description_wi…"
      ]
     },
     "metadata": {},
     "output_type": "display_data"
    },
    {
     "name": "stdout",
     "output_type": "stream",
     "text": [
      "\n"
     ]
    },
    {
     "data": {
      "application/vnd.jupyter.widget-view+json": {
       "model_id": "8d411acaf3a445f9bfd27b8dd3dfa194",
       "version_major": 2,
       "version_minor": 0
      },
      "text/plain": [
       "HBox(children=(FloatProgress(value=0.0, description='Export report to file', max=1.0, style=ProgressStyle(desc…"
      ]
     },
     "metadata": {},
     "output_type": "display_data"
    },
    {
     "name": "stdout",
     "output_type": "stream",
     "text": [
      "\n"
     ]
    }
   ],
   "source": [
    "profiling_data=pandas_profiling.ProfileReport(data)\n",
    "profiling_data.to_file(\"profiling_data.html\")"
   ]
  },
  {
   "cell_type": "markdown",
   "metadata": {},
   "source": [
    "## Seggragating continous and categorical data "
   ]
  },
  {
   "cell_type": "markdown",
   "metadata": {},
   "source": [
    "##### Categorical vairables"
   ]
  },
  {
   "cell_type": "code",
   "execution_count": 4,
   "metadata": {},
   "outputs": [],
   "source": [
    "Cat_var = data[['region','townsize','gender','agecat','birthmonth','edcat','jobcat','union','employ','empcat','retire','inccat',\n",
    "      'default','jobsat','marital','spousedcat','homeown','hometype','address','addresscat','cars','carown','cartype',\n",
    "      'carcatvalue','carbought','carbuy','commute','commutecat','commutecar','commutemotorcycle','commutecarpool','commutebus',\n",
    "      'commuterail','commutepublic','commutebike','commutewalk','commutenonmotor','telecommute','reason','polview','polparty',\n",
    "      'polcontrib','vote','card','cardtype','cardbenefit','cardfee','cardtenure','cardtenurecat','card2','card2type',\n",
    "      'card2benefit','card2fee','card2tenure','card2tenurecat','active','bfast','churn','tollfree','equip','callcard','wireless',\n",
    "      'multline','voice','pager','internet','callid','callwait','forward','confer','ebill','owntv','ownvcr','owndvd','owncd',\n",
    "      'ownpda','ownpc','ownipod','owngame','ownfax','news','response_01','response_02','response_03']]"
   ]
  },
  {
   "cell_type": "markdown",
   "metadata": {},
   "source": [
    "##### Continous variables"
   ]
  },
  {
   "cell_type": "code",
   "execution_count": 5,
   "metadata": {},
   "outputs": [],
   "source": [
    "cont_var = data[['age','ed','income','lninc','debtinc','creddebt','lncreddebt','othdebt','lnothdebt','spoused','reside','pets','pets_cats',\n",
    "'pets_dogs','pets_birds','pets_reptiles','pets_small','pets_saltfish','pets_freshfish','carvalue','commutetime','cardspent',\n",
    "     'card2spent','tenure','longmon','lnlongmon','longten','lnlongten','tollmon','lntollmon','tollten','lntollten','hourstv',\n",
    "     'equipmon','lnequipmon','equipten','lnequipten','cardmon','lncardmon','cardten','lncardten','wiremon','lnwiremon','wireten'\n",
    "      ,'lnwireten']]"
   ]
  },
  {
   "cell_type": "code",
   "execution_count": 6,
   "metadata": {},
   "outputs": [],
   "source": [
    "# An utility function to create dummy variable\n",
    "def create_dummies(df, colname):\n",
    "    col_dummies = pd.get_dummies(df[colname], prefix = colname, drop_first = True)\n",
    "    df = pd.concat([df, col_dummies], axis = 1)\n",
    "    df.drop(colname, axis = 1, inplace = True )\n",
    "    return df"
   ]
  },
  {
   "cell_type": "code",
   "execution_count": 8,
   "metadata": {},
   "outputs": [],
   "source": [
    "# Missing value imputation for categorical and continuous variables\n",
    "def missing_imputation(x, stats = 'mean'):\n",
    "    if (x.dtypes == 'float64') | (x.dtypes == 'int64'):\n",
    "        x = x.fillna(x.mean()) if stats == 'mean' else x.fillna(x.median())\n",
    "    else:\n",
    "        x = x.fillna(x.mode())\n",
    "    return x"
   ]
  },
  {
   "cell_type": "code",
   "execution_count": 9,
   "metadata": {},
   "outputs": [],
   "source": [
    "# Create Data audit Report for categorical variables\n",
    "def categorical_var_summary( x ):\n",
    "    Mode = x.value_counts().sort_values(ascending = False)[0:1].reset_index()\n",
    "    return pd.Series([x.count(), x.isnull().sum(), Mode.iloc[0, 0], Mode.iloc[0, 1], \n",
    "                          round(Mode.iloc[0, 1] * 100/x.count(), 2)], \n",
    "                  index = ['N', 'NMISS', 'MODE', 'FREQ', 'PERCENT'])"
   ]
  },
  {
   "cell_type": "code",
   "execution_count": 10,
   "metadata": {},
   "outputs": [],
   "source": [
    "# Create Data audit Report for continuous variables\n",
    "def continuous_var_summary(x):\n",
    "    return pd.Series([x.count(), x.isnull().sum(), x.sum(), x.mean(), x.median(),  \n",
    "                      x.std(), x.var(), x.min(), x.quantile(0.01), x.quantile(0.05),\n",
    "                          x.quantile(0.10),x.quantile(0.25),x.quantile(0.50),x.quantile(0.75), \n",
    "                              x.quantile(0.90),x.quantile(0.95), x.quantile(0.99),x.max()], \n",
    "                  index = ['N', 'NMISS', 'SUM', 'MEAN','MEDIAN', 'STD', 'VAR', 'MIN', 'P1', \n",
    "                               'P5' ,'P10' ,'P25' ,'P50' ,'P75' ,'P90' ,'P95' ,'P99' ,'MAX'])"
   ]
  },
  {
   "cell_type": "markdown",
   "metadata": {},
   "source": [
    "# EDA - Exploratory data analysis"
   ]
  },
  {
   "cell_type": "code",
   "execution_count": 13,
   "metadata": {},
   "outputs": [
    {
     "data": {
      "text/html": [
       "<div>\n",
       "<style scoped>\n",
       "    .dataframe tbody tr th:only-of-type {\n",
       "        vertical-align: middle;\n",
       "    }\n",
       "\n",
       "    .dataframe tbody tr th {\n",
       "        vertical-align: top;\n",
       "    }\n",
       "\n",
       "    .dataframe thead th {\n",
       "        text-align: right;\n",
       "    }\n",
       "</style>\n",
       "<table border=\"1\" class=\"dataframe\">\n",
       "  <thead>\n",
       "    <tr style=\"text-align: right;\">\n",
       "      <th></th>\n",
       "      <th>age</th>\n",
       "      <th>ed</th>\n",
       "      <th>income</th>\n",
       "      <th>lninc</th>\n",
       "      <th>debtinc</th>\n",
       "      <th>creddebt</th>\n",
       "      <th>lncreddebt</th>\n",
       "      <th>othdebt</th>\n",
       "      <th>lnothdebt</th>\n",
       "      <th>spoused</th>\n",
       "      <th>...</th>\n",
       "      <th>equipten</th>\n",
       "      <th>lnequipten</th>\n",
       "      <th>cardmon</th>\n",
       "      <th>lncardmon</th>\n",
       "      <th>cardten</th>\n",
       "      <th>lncardten</th>\n",
       "      <th>wiremon</th>\n",
       "      <th>lnwiremon</th>\n",
       "      <th>wireten</th>\n",
       "      <th>lnwireten</th>\n",
       "    </tr>\n",
       "  </thead>\n",
       "  <tbody>\n",
       "    <tr>\n",
       "      <th>N</th>\n",
       "      <td>5000.000000</td>\n",
       "      <td>5000.000000</td>\n",
       "      <td>5000.000000</td>\n",
       "      <td>5000.000000</td>\n",
       "      <td>5000.000000</td>\n",
       "      <td>5000.000000</td>\n",
       "      <td>4999.000000</td>\n",
       "      <td>5000.000000</td>\n",
       "      <td>4999.000000</td>\n",
       "      <td>5000.000000</td>\n",
       "      <td>...</td>\n",
       "      <td>5.000000e+03</td>\n",
       "      <td>1704.000000</td>\n",
       "      <td>5000.000000</td>\n",
       "      <td>3581.000000</td>\n",
       "      <td>4.998000e+03</td>\n",
       "      <td>3578.000000</td>\n",
       "      <td>5000.000000</td>\n",
       "      <td>1344.000000</td>\n",
       "      <td>5.000000e+03</td>\n",
       "      <td>1344.000000</td>\n",
       "    </tr>\n",
       "    <tr>\n",
       "      <th>NMISS</th>\n",
       "      <td>0.000000</td>\n",
       "      <td>0.000000</td>\n",
       "      <td>0.000000</td>\n",
       "      <td>0.000000</td>\n",
       "      <td>0.000000</td>\n",
       "      <td>0.000000</td>\n",
       "      <td>1.000000</td>\n",
       "      <td>0.000000</td>\n",
       "      <td>1.000000</td>\n",
       "      <td>0.000000</td>\n",
       "      <td>...</td>\n",
       "      <td>0.000000e+00</td>\n",
       "      <td>3296.000000</td>\n",
       "      <td>0.000000</td>\n",
       "      <td>1419.000000</td>\n",
       "      <td>2.000000e+00</td>\n",
       "      <td>1422.000000</td>\n",
       "      <td>0.000000</td>\n",
       "      <td>3656.000000</td>\n",
       "      <td>0.000000e+00</td>\n",
       "      <td>3656.000000</td>\n",
       "    </tr>\n",
       "    <tr>\n",
       "      <th>SUM</th>\n",
       "      <td>235128.000000</td>\n",
       "      <td>72715.000000</td>\n",
       "      <td>273798.000000</td>\n",
       "      <td>18499.546992</td>\n",
       "      <td>49770.800000</td>\n",
       "      <td>9286.628229</td>\n",
       "      <td>-652.137155</td>\n",
       "      <td>18272.300771</td>\n",
       "      <td>3483.879384</td>\n",
       "      <td>30564.000000</td>\n",
       "      <td>...</td>\n",
       "      <td>2.350882e+06</td>\n",
       "      <td>11497.393056</td>\n",
       "      <td>77219.250000</td>\n",
       "      <td>10419.752778</td>\n",
       "      <td>3.600951e+06</td>\n",
       "      <td>22993.332638</td>\n",
       "      <td>53505.950000</td>\n",
       "      <td>4845.120915</td>\n",
       "      <td>2.109923e+06</td>\n",
       "      <td>9150.129457</td>\n",
       "    </tr>\n",
       "    <tr>\n",
       "      <th>MEAN</th>\n",
       "      <td>47.025600</td>\n",
       "      <td>14.543000</td>\n",
       "      <td>54.759600</td>\n",
       "      <td>3.699909</td>\n",
       "      <td>9.954160</td>\n",
       "      <td>1.857326</td>\n",
       "      <td>-0.130454</td>\n",
       "      <td>3.654460</td>\n",
       "      <td>0.696915</td>\n",
       "      <td>6.112800</td>\n",
       "      <td>...</td>\n",
       "      <td>4.701764e+02</td>\n",
       "      <td>6.747296</td>\n",
       "      <td>15.443850</td>\n",
       "      <td>2.909733</td>\n",
       "      <td>7.204784e+02</td>\n",
       "      <td>6.426309</td>\n",
       "      <td>10.701190</td>\n",
       "      <td>3.605001</td>\n",
       "      <td>4.219846e+02</td>\n",
       "      <td>6.808132</td>\n",
       "    </tr>\n",
       "    <tr>\n",
       "      <th>MEDIAN</th>\n",
       "      <td>47.000000</td>\n",
       "      <td>14.000000</td>\n",
       "      <td>38.000000</td>\n",
       "      <td>3.637586</td>\n",
       "      <td>8.800000</td>\n",
       "      <td>0.926437</td>\n",
       "      <td>-0.076106</td>\n",
       "      <td>2.098540</td>\n",
       "      <td>0.741537</td>\n",
       "      <td>-1.000000</td>\n",
       "      <td>...</td>\n",
       "      <td>0.000000e+00</td>\n",
       "      <td>7.050556</td>\n",
       "      <td>13.750000</td>\n",
       "      <td>2.904165</td>\n",
       "      <td>4.250000e+02</td>\n",
       "      <td>6.639876</td>\n",
       "      <td>0.000000</td>\n",
       "      <td>3.597997</td>\n",
       "      <td>0.000000e+00</td>\n",
       "      <td>7.147185</td>\n",
       "    </tr>\n",
       "    <tr>\n",
       "      <th>STD</th>\n",
       "      <td>17.770338</td>\n",
       "      <td>3.281083</td>\n",
       "      <td>55.377511</td>\n",
       "      <td>0.747072</td>\n",
       "      <td>6.399783</td>\n",
       "      <td>3.415732</td>\n",
       "      <td>1.273058</td>\n",
       "      <td>5.395172</td>\n",
       "      <td>1.128578</td>\n",
       "      <td>7.743518</td>\n",
       "      <td>...</td>\n",
       "      <td>9.122206e+02</td>\n",
       "      <td>1.199234</td>\n",
       "      <td>15.007569</td>\n",
       "      <td>0.564859</td>\n",
       "      <td>9.222255e+02</td>\n",
       "      <td>1.172050</td>\n",
       "      <td>19.799837</td>\n",
       "      <td>0.390102</td>\n",
       "      <td>1.001003e+03</td>\n",
       "      <td>1.283967</td>\n",
       "    </tr>\n",
       "    <tr>\n",
       "      <th>VAR</th>\n",
       "      <td>315.784902</td>\n",
       "      <td>10.765504</td>\n",
       "      <td>3066.668742</td>\n",
       "      <td>0.558116</td>\n",
       "      <td>40.957226</td>\n",
       "      <td>11.667225</td>\n",
       "      <td>1.620678</td>\n",
       "      <td>29.107876</td>\n",
       "      <td>1.273689</td>\n",
       "      <td>59.962069</td>\n",
       "      <td>...</td>\n",
       "      <td>8.321465e+05</td>\n",
       "      <td>1.438161</td>\n",
       "      <td>225.227130</td>\n",
       "      <td>0.319066</td>\n",
       "      <td>8.504999e+05</td>\n",
       "      <td>1.373700</td>\n",
       "      <td>392.033527</td>\n",
       "      <td>0.152179</td>\n",
       "      <td>1.002008e+06</td>\n",
       "      <td>1.648571</td>\n",
       "    </tr>\n",
       "    <tr>\n",
       "      <th>MIN</th>\n",
       "      <td>18.000000</td>\n",
       "      <td>6.000000</td>\n",
       "      <td>9.000000</td>\n",
       "      <td>2.197225</td>\n",
       "      <td>0.000000</td>\n",
       "      <td>0.000000</td>\n",
       "      <td>-6.597334</td>\n",
       "      <td>0.000000</td>\n",
       "      <td>-4.092107</td>\n",
       "      <td>-1.000000</td>\n",
       "      <td>...</td>\n",
       "      <td>0.000000e+00</td>\n",
       "      <td>2.489065</td>\n",
       "      <td>0.000000</td>\n",
       "      <td>1.178655</td>\n",
       "      <td>0.000000e+00</td>\n",
       "      <td>1.558145</td>\n",
       "      <td>0.000000</td>\n",
       "      <td>2.541602</td>\n",
       "      <td>0.000000e+00</td>\n",
       "      <td>2.541602</td>\n",
       "    </tr>\n",
       "    <tr>\n",
       "      <th>P1</th>\n",
       "      <td>18.000000</td>\n",
       "      <td>8.000000</td>\n",
       "      <td>9.000000</td>\n",
       "      <td>2.197225</td>\n",
       "      <td>0.700000</td>\n",
       "      <td>0.033160</td>\n",
       "      <td>-3.401690</td>\n",
       "      <td>0.114299</td>\n",
       "      <td>-2.168241</td>\n",
       "      <td>-1.000000</td>\n",
       "      <td>...</td>\n",
       "      <td>0.000000e+00</td>\n",
       "      <td>3.169937</td>\n",
       "      <td>0.000000</td>\n",
       "      <td>1.658228</td>\n",
       "      <td>0.000000e+00</td>\n",
       "      <td>2.484907</td>\n",
       "      <td>0.000000</td>\n",
       "      <td>2.806811</td>\n",
       "      <td>0.000000e+00</td>\n",
       "      <td>3.039749</td>\n",
       "    </tr>\n",
       "    <tr>\n",
       "      <th>P5</th>\n",
       "      <td>20.000000</td>\n",
       "      <td>9.000000</td>\n",
       "      <td>13.000000</td>\n",
       "      <td>2.564949</td>\n",
       "      <td>1.900000</td>\n",
       "      <td>0.101088</td>\n",
       "      <td>-2.291604</td>\n",
       "      <td>0.287692</td>\n",
       "      <td>-1.243483</td>\n",
       "      <td>-1.000000</td>\n",
       "      <td>...</td>\n",
       "      <td>0.000000e+00</td>\n",
       "      <td>4.251230</td>\n",
       "      <td>0.000000</td>\n",
       "      <td>1.981001</td>\n",
       "      <td>0.000000e+00</td>\n",
       "      <td>4.094345</td>\n",
       "      <td>0.000000</td>\n",
       "      <td>2.992964</td>\n",
       "      <td>0.000000e+00</td>\n",
       "      <td>4.114134</td>\n",
       "    </tr>\n",
       "    <tr>\n",
       "      <th>P10</th>\n",
       "      <td>23.000000</td>\n",
       "      <td>10.000000</td>\n",
       "      <td>16.000000</td>\n",
       "      <td>2.772589</td>\n",
       "      <td>2.800000</td>\n",
       "      <td>0.175682</td>\n",
       "      <td>-1.737842</td>\n",
       "      <td>0.457997</td>\n",
       "      <td>-0.780312</td>\n",
       "      <td>-1.000000</td>\n",
       "      <td>...</td>\n",
       "      <td>0.000000e+00</td>\n",
       "      <td>5.033244</td>\n",
       "      <td>0.000000</td>\n",
       "      <td>2.169054</td>\n",
       "      <td>0.000000e+00</td>\n",
       "      <td>4.941642</td>\n",
       "      <td>0.000000</td>\n",
       "      <td>3.118613</td>\n",
       "      <td>0.000000e+00</td>\n",
       "      <td>4.881065</td>\n",
       "    </tr>\n",
       "    <tr>\n",
       "      <th>P25</th>\n",
       "      <td>31.000000</td>\n",
       "      <td>12.000000</td>\n",
       "      <td>24.000000</td>\n",
       "      <td>3.178054</td>\n",
       "      <td>5.100000</td>\n",
       "      <td>0.385520</td>\n",
       "      <td>-0.952685</td>\n",
       "      <td>0.980301</td>\n",
       "      <td>-0.018987</td>\n",
       "      <td>-1.000000</td>\n",
       "      <td>...</td>\n",
       "      <td>0.000000e+00</td>\n",
       "      <td>6.171570</td>\n",
       "      <td>0.000000</td>\n",
       "      <td>2.545531</td>\n",
       "      <td>0.000000e+00</td>\n",
       "      <td>5.857933</td>\n",
       "      <td>0.000000</td>\n",
       "      <td>3.330417</td>\n",
       "      <td>0.000000e+00</td>\n",
       "      <td>6.158091</td>\n",
       "    </tr>\n",
       "    <tr>\n",
       "      <th>P50</th>\n",
       "      <td>47.000000</td>\n",
       "      <td>14.000000</td>\n",
       "      <td>38.000000</td>\n",
       "      <td>3.637586</td>\n",
       "      <td>8.800000</td>\n",
       "      <td>0.926437</td>\n",
       "      <td>-0.076106</td>\n",
       "      <td>2.098540</td>\n",
       "      <td>0.741537</td>\n",
       "      <td>-1.000000</td>\n",
       "      <td>...</td>\n",
       "      <td>0.000000e+00</td>\n",
       "      <td>7.050556</td>\n",
       "      <td>13.750000</td>\n",
       "      <td>2.904165</td>\n",
       "      <td>4.250000e+02</td>\n",
       "      <td>6.639876</td>\n",
       "      <td>0.000000</td>\n",
       "      <td>3.597997</td>\n",
       "      <td>0.000000e+00</td>\n",
       "      <td>7.147185</td>\n",
       "    </tr>\n",
       "    <tr>\n",
       "      <th>P75</th>\n",
       "      <td>62.000000</td>\n",
       "      <td>17.000000</td>\n",
       "      <td>67.000000</td>\n",
       "      <td>4.204693</td>\n",
       "      <td>13.600000</td>\n",
       "      <td>2.063820</td>\n",
       "      <td>0.724665</td>\n",
       "      <td>4.314780</td>\n",
       "      <td>1.462053</td>\n",
       "      <td>14.000000</td>\n",
       "      <td>...</td>\n",
       "      <td>5.101625e+02</td>\n",
       "      <td>7.649835</td>\n",
       "      <td>22.750000</td>\n",
       "      <td>3.295837</td>\n",
       "      <td>1.080000e+03</td>\n",
       "      <td>7.218910</td>\n",
       "      <td>20.962500</td>\n",
       "      <td>3.865193</td>\n",
       "      <td>8.996250e+01</td>\n",
       "      <td>7.755376</td>\n",
       "    </tr>\n",
       "    <tr>\n",
       "      <th>P90</th>\n",
       "      <td>72.000000</td>\n",
       "      <td>19.000000</td>\n",
       "      <td>109.100000</td>\n",
       "      <td>4.692261</td>\n",
       "      <td>18.600000</td>\n",
       "      <td>4.299470</td>\n",
       "      <td>1.458625</td>\n",
       "      <td>8.062046</td>\n",
       "      <td>2.087178</td>\n",
       "      <td>16.000000</td>\n",
       "      <td>...</td>\n",
       "      <td>1.912325e+03</td>\n",
       "      <td>7.977833</td>\n",
       "      <td>34.000000</td>\n",
       "      <td>3.637586</td>\n",
       "      <td>1.871500e+03</td>\n",
       "      <td>7.673223</td>\n",
       "      <td>40.860000</td>\n",
       "      <td>4.102643</td>\n",
       "      <td>1.778535e+03</td>\n",
       "      <td>8.106616</td>\n",
       "    </tr>\n",
       "    <tr>\n",
       "      <th>P95</th>\n",
       "      <td>76.000000</td>\n",
       "      <td>20.000000</td>\n",
       "      <td>147.000000</td>\n",
       "      <td>4.990433</td>\n",
       "      <td>22.200000</td>\n",
       "      <td>6.373010</td>\n",
       "      <td>1.852297</td>\n",
       "      <td>11.815981</td>\n",
       "      <td>2.469586</td>\n",
       "      <td>18.000000</td>\n",
       "      <td>...</td>\n",
       "      <td>2.600990e+03</td>\n",
       "      <td>8.117631</td>\n",
       "      <td>42.000000</td>\n",
       "      <td>3.839452</td>\n",
       "      <td>2.455750e+03</td>\n",
       "      <td>7.923257</td>\n",
       "      <td>51.305000</td>\n",
       "      <td>4.267282</td>\n",
       "      <td>2.687923e+03</td>\n",
       "      <td>8.310817</td>\n",
       "    </tr>\n",
       "    <tr>\n",
       "      <th>P99</th>\n",
       "      <td>79.000000</td>\n",
       "      <td>21.000000</td>\n",
       "      <td>272.010000</td>\n",
       "      <td>5.605839</td>\n",
       "      <td>29.200000</td>\n",
       "      <td>14.280358</td>\n",
       "      <td>2.658910</td>\n",
       "      <td>24.064260</td>\n",
       "      <td>3.180802</td>\n",
       "      <td>20.000000</td>\n",
       "      <td>...</td>\n",
       "      <td>3.679457e+03</td>\n",
       "      <td>8.369037</td>\n",
       "      <td>64.250000</td>\n",
       "      <td>4.239162</td>\n",
       "      <td>4.011200e+03</td>\n",
       "      <td>8.392151</td>\n",
       "      <td>78.304000</td>\n",
       "      <td>4.577186</td>\n",
       "      <td>4.530186e+03</td>\n",
       "      <td>8.690117</td>\n",
       "    </tr>\n",
       "    <tr>\n",
       "      <th>MAX</th>\n",
       "      <td>79.000000</td>\n",
       "      <td>23.000000</td>\n",
       "      <td>1073.000000</td>\n",
       "      <td>6.978214</td>\n",
       "      <td>43.100000</td>\n",
       "      <td>109.072596</td>\n",
       "      <td>4.692014</td>\n",
       "      <td>141.459150</td>\n",
       "      <td>4.952011</td>\n",
       "      <td>24.000000</td>\n",
       "      <td>...</td>\n",
       "      <td>6.525300e+03</td>\n",
       "      <td>8.783442</td>\n",
       "      <td>188.500000</td>\n",
       "      <td>5.239098</td>\n",
       "      <td>1.370500e+04</td>\n",
       "      <td>9.525516</td>\n",
       "      <td>186.250000</td>\n",
       "      <td>5.227090</td>\n",
       "      <td>1.285865e+04</td>\n",
       "      <td>9.461772</td>\n",
       "    </tr>\n",
       "  </tbody>\n",
       "</table>\n",
       "<p>18 rows × 45 columns</p>\n",
       "</div>"
      ],
      "text/plain": [
       "                  age            ed         income         lninc  \\\n",
       "N         5000.000000   5000.000000    5000.000000   5000.000000   \n",
       "NMISS        0.000000      0.000000       0.000000      0.000000   \n",
       "SUM     235128.000000  72715.000000  273798.000000  18499.546992   \n",
       "MEAN        47.025600     14.543000      54.759600      3.699909   \n",
       "MEDIAN      47.000000     14.000000      38.000000      3.637586   \n",
       "STD         17.770338      3.281083      55.377511      0.747072   \n",
       "VAR        315.784902     10.765504    3066.668742      0.558116   \n",
       "MIN         18.000000      6.000000       9.000000      2.197225   \n",
       "P1          18.000000      8.000000       9.000000      2.197225   \n",
       "P5          20.000000      9.000000      13.000000      2.564949   \n",
       "P10         23.000000     10.000000      16.000000      2.772589   \n",
       "P25         31.000000     12.000000      24.000000      3.178054   \n",
       "P50         47.000000     14.000000      38.000000      3.637586   \n",
       "P75         62.000000     17.000000      67.000000      4.204693   \n",
       "P90         72.000000     19.000000     109.100000      4.692261   \n",
       "P95         76.000000     20.000000     147.000000      4.990433   \n",
       "P99         79.000000     21.000000     272.010000      5.605839   \n",
       "MAX         79.000000     23.000000    1073.000000      6.978214   \n",
       "\n",
       "             debtinc     creddebt   lncreddebt       othdebt    lnothdebt  \\\n",
       "N        5000.000000  5000.000000  4999.000000   5000.000000  4999.000000   \n",
       "NMISS       0.000000     0.000000     1.000000      0.000000     1.000000   \n",
       "SUM     49770.800000  9286.628229  -652.137155  18272.300771  3483.879384   \n",
       "MEAN        9.954160     1.857326    -0.130454      3.654460     0.696915   \n",
       "MEDIAN      8.800000     0.926437    -0.076106      2.098540     0.741537   \n",
       "STD         6.399783     3.415732     1.273058      5.395172     1.128578   \n",
       "VAR        40.957226    11.667225     1.620678     29.107876     1.273689   \n",
       "MIN         0.000000     0.000000    -6.597334      0.000000    -4.092107   \n",
       "P1          0.700000     0.033160    -3.401690      0.114299    -2.168241   \n",
       "P5          1.900000     0.101088    -2.291604      0.287692    -1.243483   \n",
       "P10         2.800000     0.175682    -1.737842      0.457997    -0.780312   \n",
       "P25         5.100000     0.385520    -0.952685      0.980301    -0.018987   \n",
       "P50         8.800000     0.926437    -0.076106      2.098540     0.741537   \n",
       "P75        13.600000     2.063820     0.724665      4.314780     1.462053   \n",
       "P90        18.600000     4.299470     1.458625      8.062046     2.087178   \n",
       "P95        22.200000     6.373010     1.852297     11.815981     2.469586   \n",
       "P99        29.200000    14.280358     2.658910     24.064260     3.180802   \n",
       "MAX        43.100000   109.072596     4.692014    141.459150     4.952011   \n",
       "\n",
       "             spoused  ...      equipten    lnequipten       cardmon  \\\n",
       "N        5000.000000  ...  5.000000e+03   1704.000000   5000.000000   \n",
       "NMISS       0.000000  ...  0.000000e+00   3296.000000      0.000000   \n",
       "SUM     30564.000000  ...  2.350882e+06  11497.393056  77219.250000   \n",
       "MEAN        6.112800  ...  4.701764e+02      6.747296     15.443850   \n",
       "MEDIAN     -1.000000  ...  0.000000e+00      7.050556     13.750000   \n",
       "STD         7.743518  ...  9.122206e+02      1.199234     15.007569   \n",
       "VAR        59.962069  ...  8.321465e+05      1.438161    225.227130   \n",
       "MIN        -1.000000  ...  0.000000e+00      2.489065      0.000000   \n",
       "P1         -1.000000  ...  0.000000e+00      3.169937      0.000000   \n",
       "P5         -1.000000  ...  0.000000e+00      4.251230      0.000000   \n",
       "P10        -1.000000  ...  0.000000e+00      5.033244      0.000000   \n",
       "P25        -1.000000  ...  0.000000e+00      6.171570      0.000000   \n",
       "P50        -1.000000  ...  0.000000e+00      7.050556     13.750000   \n",
       "P75        14.000000  ...  5.101625e+02      7.649835     22.750000   \n",
       "P90        16.000000  ...  1.912325e+03      7.977833     34.000000   \n",
       "P95        18.000000  ...  2.600990e+03      8.117631     42.000000   \n",
       "P99        20.000000  ...  3.679457e+03      8.369037     64.250000   \n",
       "MAX        24.000000  ...  6.525300e+03      8.783442    188.500000   \n",
       "\n",
       "           lncardmon       cardten     lncardten       wiremon    lnwiremon  \\\n",
       "N        3581.000000  4.998000e+03   3578.000000   5000.000000  1344.000000   \n",
       "NMISS    1419.000000  2.000000e+00   1422.000000      0.000000  3656.000000   \n",
       "SUM     10419.752778  3.600951e+06  22993.332638  53505.950000  4845.120915   \n",
       "MEAN        2.909733  7.204784e+02      6.426309     10.701190     3.605001   \n",
       "MEDIAN      2.904165  4.250000e+02      6.639876      0.000000     3.597997   \n",
       "STD         0.564859  9.222255e+02      1.172050     19.799837     0.390102   \n",
       "VAR         0.319066  8.504999e+05      1.373700    392.033527     0.152179   \n",
       "MIN         1.178655  0.000000e+00      1.558145      0.000000     2.541602   \n",
       "P1          1.658228  0.000000e+00      2.484907      0.000000     2.806811   \n",
       "P5          1.981001  0.000000e+00      4.094345      0.000000     2.992964   \n",
       "P10         2.169054  0.000000e+00      4.941642      0.000000     3.118613   \n",
       "P25         2.545531  0.000000e+00      5.857933      0.000000     3.330417   \n",
       "P50         2.904165  4.250000e+02      6.639876      0.000000     3.597997   \n",
       "P75         3.295837  1.080000e+03      7.218910     20.962500     3.865193   \n",
       "P90         3.637586  1.871500e+03      7.673223     40.860000     4.102643   \n",
       "P95         3.839452  2.455750e+03      7.923257     51.305000     4.267282   \n",
       "P99         4.239162  4.011200e+03      8.392151     78.304000     4.577186   \n",
       "MAX         5.239098  1.370500e+04      9.525516    186.250000     5.227090   \n",
       "\n",
       "             wireten    lnwireten  \n",
       "N       5.000000e+03  1344.000000  \n",
       "NMISS   0.000000e+00  3656.000000  \n",
       "SUM     2.109923e+06  9150.129457  \n",
       "MEAN    4.219846e+02     6.808132  \n",
       "MEDIAN  0.000000e+00     7.147185  \n",
       "STD     1.001003e+03     1.283967  \n",
       "VAR     1.002008e+06     1.648571  \n",
       "MIN     0.000000e+00     2.541602  \n",
       "P1      0.000000e+00     3.039749  \n",
       "P5      0.000000e+00     4.114134  \n",
       "P10     0.000000e+00     4.881065  \n",
       "P25     0.000000e+00     6.158091  \n",
       "P50     0.000000e+00     7.147185  \n",
       "P75     8.996250e+01     7.755376  \n",
       "P90     1.778535e+03     8.106616  \n",
       "P95     2.687923e+03     8.310817  \n",
       "P99     4.530186e+03     8.690117  \n",
       "MAX     1.285865e+04     9.461772  \n",
       "\n",
       "[18 rows x 45 columns]"
      ]
     },
     "execution_count": 13,
     "metadata": {},
     "output_type": "execute_result"
    }
   ],
   "source": [
    "cont_var.apply(lambda x:continuous_var_summary(x))"
   ]
  },
  {
   "cell_type": "code",
   "execution_count": 12,
   "metadata": {},
   "outputs": [],
   "source": [
    "cont_var_description = cont_var.apply(lambda x:continuous_var_summary(x)) ## We have detected outliers here:"
   ]
  },
  {
   "cell_type": "code",
   "execution_count": 14,
   "metadata": {},
   "outputs": [],
   "source": [
    "cont_var_description.to_csv('cont_var_description.csv',header = True)"
   ]
  },
  {
   "cell_type": "code",
   "execution_count": 15,
   "metadata": {},
   "outputs": [
    {
     "data": {
      "text/plain": [
       "<matplotlib.axes._subplots.AxesSubplot at 0x1c9725296c8>"
      ]
     },
     "execution_count": 15,
     "metadata": {},
     "output_type": "execute_result"
    },
    {
     "data": {
      "image/png": "[encoded data removed]",
      "text/plain": [
       "<Figure size 432x288 with 2 Axes>"
      ]
     },
     "metadata": {
      "needs_background": "light"
     },
     "output_type": "display_data"
    }
   ],
   "source": [
    "sns.heatmap(cont_var.isna()) ## We can see there are large number of variables who have missing values:"
   ]
  },
  {
   "cell_type": "markdown",
   "metadata": {},
   "source": [
    "### Outlier Treatment"
   ]
  },
  {
   "cell_type": "code",
   "execution_count": 17,
   "metadata": {},
   "outputs": [],
   "source": [
    "cont_var = cont_var.apply(lambda x: x.clip(lower = x.quantile(0.01),upper = x.quantile(0.99))) ## Here we have treated the outliers"
   ]
  },
  {
   "cell_type": "code",
   "execution_count": 18,
   "metadata": {},
   "outputs": [],
   "source": [
    "cont_var.to_csv('cont_var.csv',header = True)"
   ]
  },
  {
   "cell_type": "code",
   "execution_count": 17,
   "metadata": {},
   "outputs": [
    {
     "data": {
      "text/html": [
       "<div>\n",
       "<style scoped>\n",
       "    .dataframe tbody tr th:only-of-type {\n",
       "        vertical-align: middle;\n",
       "    }\n",
       "\n",
       "    .dataframe tbody tr th {\n",
       "        vertical-align: top;\n",
       "    }\n",
       "\n",
       "    .dataframe thead th {\n",
       "        text-align: right;\n",
       "    }\n",
       "</style>\n",
       "<table border=\"1\" class=\"dataframe\">\n",
       "  <thead>\n",
       "    <tr style=\"text-align: right;\">\n",
       "      <th></th>\n",
       "      <th>age</th>\n",
       "      <th>ed</th>\n",
       "      <th>income</th>\n",
       "      <th>lninc</th>\n",
       "      <th>debtinc</th>\n",
       "      <th>creddebt</th>\n",
       "      <th>lncreddebt</th>\n",
       "      <th>othdebt</th>\n",
       "      <th>lnothdebt</th>\n",
       "      <th>spoused</th>\n",
       "      <th>...</th>\n",
       "      <th>equipten</th>\n",
       "      <th>lnequipten</th>\n",
       "      <th>cardmon</th>\n",
       "      <th>lncardmon</th>\n",
       "      <th>cardten</th>\n",
       "      <th>lncardten</th>\n",
       "      <th>wiremon</th>\n",
       "      <th>lnwiremon</th>\n",
       "      <th>wireten</th>\n",
       "      <th>lnwireten</th>\n",
       "    </tr>\n",
       "  </thead>\n",
       "  <tbody>\n",
       "    <tr>\n",
       "      <th>N</th>\n",
       "      <td>5000.000000</td>\n",
       "      <td>5000.000000</td>\n",
       "      <td>5000.000000</td>\n",
       "      <td>5000.000000</td>\n",
       "      <td>5000.000000</td>\n",
       "      <td>5000.000000</td>\n",
       "      <td>4999.000000</td>\n",
       "      <td>5000.000000</td>\n",
       "      <td>4999.000000</td>\n",
       "      <td>5000.000000</td>\n",
       "      <td>...</td>\n",
       "      <td>5.000000e+03</td>\n",
       "      <td>1704.000000</td>\n",
       "      <td>5000.000000</td>\n",
       "      <td>3581.000000</td>\n",
       "      <td>4.998000e+03</td>\n",
       "      <td>3578.000000</td>\n",
       "      <td>5000.000000</td>\n",
       "      <td>1344.000000</td>\n",
       "      <td>5.000000e+03</td>\n",
       "      <td>1344.000000</td>\n",
       "    </tr>\n",
       "    <tr>\n",
       "      <th>NMISS</th>\n",
       "      <td>0.000000</td>\n",
       "      <td>0.000000</td>\n",
       "      <td>0.000000</td>\n",
       "      <td>0.000000</td>\n",
       "      <td>0.000000</td>\n",
       "      <td>0.000000</td>\n",
       "      <td>1.000000</td>\n",
       "      <td>0.000000</td>\n",
       "      <td>1.000000</td>\n",
       "      <td>0.000000</td>\n",
       "      <td>...</td>\n",
       "      <td>0.000000e+00</td>\n",
       "      <td>3296.000000</td>\n",
       "      <td>0.000000</td>\n",
       "      <td>1419.000000</td>\n",
       "      <td>2.000000e+00</td>\n",
       "      <td>1422.000000</td>\n",
       "      <td>0.000000</td>\n",
       "      <td>3656.000000</td>\n",
       "      <td>0.000000e+00</td>\n",
       "      <td>3656.000000</td>\n",
       "    </tr>\n",
       "    <tr>\n",
       "      <th>SUM</th>\n",
       "      <td>235128.000000</td>\n",
       "      <td>72721.000000</td>\n",
       "      <td>268149.500000</td>\n",
       "      <td>18485.246078</td>\n",
       "      <td>49570.600000</td>\n",
       "      <td>8791.844708</td>\n",
       "      <td>-638.770486</td>\n",
       "      <td>17612.530669</td>\n",
       "      <td>3491.232703</td>\n",
       "      <td>30477.000000</td>\n",
       "      <td>...</td>\n",
       "      <td>2.316992e+06</td>\n",
       "      <td>11498.329814</td>\n",
       "      <td>76334.750000</td>\n",
       "      <td>10417.422617</td>\n",
       "      <td>3.534781e+06</td>\n",
       "      <td>23004.958941</td>\n",
       "      <td>52651.350000</td>\n",
       "      <td>4844.080103</td>\n",
       "      <td>2.049800e+06</td>\n",
       "      <td>9150.154882</td>\n",
       "    </tr>\n",
       "    <tr>\n",
       "      <th>MEAN</th>\n",
       "      <td>47.025600</td>\n",
       "      <td>14.544200</td>\n",
       "      <td>53.629900</td>\n",
       "      <td>3.697049</td>\n",
       "      <td>9.914120</td>\n",
       "      <td>1.758369</td>\n",
       "      <td>-0.127780</td>\n",
       "      <td>3.522506</td>\n",
       "      <td>0.698386</td>\n",
       "      <td>6.095400</td>\n",
       "      <td>...</td>\n",
       "      <td>4.633984e+02</td>\n",
       "      <td>6.747846</td>\n",
       "      <td>15.266950</td>\n",
       "      <td>2.909082</td>\n",
       "      <td>7.072391e+02</td>\n",
       "      <td>6.429558</td>\n",
       "      <td>10.530270</td>\n",
       "      <td>3.604226</td>\n",
       "      <td>4.099600e+02</td>\n",
       "      <td>6.808151</td>\n",
       "    </tr>\n",
       "    <tr>\n",
       "      <th>MEDIAN</th>\n",
       "      <td>47.000000</td>\n",
       "      <td>14.000000</td>\n",
       "      <td>38.000000</td>\n",
       "      <td>3.637586</td>\n",
       "      <td>8.800000</td>\n",
       "      <td>0.926437</td>\n",
       "      <td>-0.076106</td>\n",
       "      <td>2.098540</td>\n",
       "      <td>0.741537</td>\n",
       "      <td>-1.000000</td>\n",
       "      <td>...</td>\n",
       "      <td>0.000000e+00</td>\n",
       "      <td>7.050556</td>\n",
       "      <td>13.750000</td>\n",
       "      <td>2.904165</td>\n",
       "      <td>4.250000e+02</td>\n",
       "      <td>6.639876</td>\n",
       "      <td>0.000000</td>\n",
       "      <td>3.597997</td>\n",
       "      <td>0.000000e+00</td>\n",
       "      <td>7.147185</td>\n",
       "    </tr>\n",
       "    <tr>\n",
       "      <th>STD</th>\n",
       "      <td>17.770338</td>\n",
       "      <td>3.242553</td>\n",
       "      <td>46.567698</td>\n",
       "      <td>0.738495</td>\n",
       "      <td>6.241691</td>\n",
       "      <td>2.380681</td>\n",
       "      <td>1.241398</td>\n",
       "      <td>4.221760</td>\n",
       "      <td>1.104530</td>\n",
       "      <td>7.709565</td>\n",
       "      <td>...</td>\n",
       "      <td>8.828328e+02</td>\n",
       "      <td>1.190092</td>\n",
       "      <td>14.156339</td>\n",
       "      <td>0.555100</td>\n",
       "      <td>8.483399e+02</td>\n",
       "      <td>1.146504</td>\n",
       "      <td>19.021280</td>\n",
       "      <td>0.382289</td>\n",
       "      <td>9.300074e+02</td>\n",
       "      <td>1.273410</td>\n",
       "    </tr>\n",
       "    <tr>\n",
       "      <th>VAR</th>\n",
       "      <td>315.784902</td>\n",
       "      <td>10.514149</td>\n",
       "      <td>2168.550537</td>\n",
       "      <td>0.545375</td>\n",
       "      <td>38.958700</td>\n",
       "      <td>5.667644</td>\n",
       "      <td>1.541068</td>\n",
       "      <td>17.823256</td>\n",
       "      <td>1.219987</td>\n",
       "      <td>59.437386</td>\n",
       "      <td>...</td>\n",
       "      <td>7.793938e+05</td>\n",
       "      <td>1.416320</td>\n",
       "      <td>200.401931</td>\n",
       "      <td>0.308136</td>\n",
       "      <td>7.196806e+05</td>\n",
       "      <td>1.314471</td>\n",
       "      <td>361.809101</td>\n",
       "      <td>0.146145</td>\n",
       "      <td>8.649138e+05</td>\n",
       "      <td>1.621573</td>\n",
       "    </tr>\n",
       "    <tr>\n",
       "      <th>MIN</th>\n",
       "      <td>18.000000</td>\n",
       "      <td>8.000000</td>\n",
       "      <td>9.000000</td>\n",
       "      <td>2.197225</td>\n",
       "      <td>0.700000</td>\n",
       "      <td>0.033160</td>\n",
       "      <td>-3.401690</td>\n",
       "      <td>0.114299</td>\n",
       "      <td>-2.168241</td>\n",
       "      <td>-1.000000</td>\n",
       "      <td>...</td>\n",
       "      <td>0.000000e+00</td>\n",
       "      <td>3.169937</td>\n",
       "      <td>0.000000</td>\n",
       "      <td>1.658228</td>\n",
       "      <td>0.000000e+00</td>\n",
       "      <td>2.484907</td>\n",
       "      <td>0.000000</td>\n",
       "      <td>2.806811</td>\n",
       "      <td>0.000000e+00</td>\n",
       "      <td>3.039749</td>\n",
       "    </tr>\n",
       "    <tr>\n",
       "      <th>P1</th>\n",
       "      <td>18.000000</td>\n",
       "      <td>8.000000</td>\n",
       "      <td>9.000000</td>\n",
       "      <td>2.197225</td>\n",
       "      <td>0.700000</td>\n",
       "      <td>0.033166</td>\n",
       "      <td>-3.401599</td>\n",
       "      <td>0.114312</td>\n",
       "      <td>-2.168229</td>\n",
       "      <td>-1.000000</td>\n",
       "      <td>...</td>\n",
       "      <td>0.000000e+00</td>\n",
       "      <td>3.170180</td>\n",
       "      <td>0.000000</td>\n",
       "      <td>1.658228</td>\n",
       "      <td>0.000000e+00</td>\n",
       "      <td>2.484907</td>\n",
       "      <td>0.000000</td>\n",
       "      <td>2.810508</td>\n",
       "      <td>0.000000e+00</td>\n",
       "      <td>3.039749</td>\n",
       "    </tr>\n",
       "    <tr>\n",
       "      <th>P5</th>\n",
       "      <td>20.000000</td>\n",
       "      <td>9.000000</td>\n",
       "      <td>13.000000</td>\n",
       "      <td>2.564949</td>\n",
       "      <td>1.900000</td>\n",
       "      <td>0.101088</td>\n",
       "      <td>-2.291604</td>\n",
       "      <td>0.287692</td>\n",
       "      <td>-1.243483</td>\n",
       "      <td>-1.000000</td>\n",
       "      <td>...</td>\n",
       "      <td>0.000000e+00</td>\n",
       "      <td>4.251230</td>\n",
       "      <td>0.000000</td>\n",
       "      <td>1.981001</td>\n",
       "      <td>0.000000e+00</td>\n",
       "      <td>4.094345</td>\n",
       "      <td>0.000000</td>\n",
       "      <td>2.992964</td>\n",
       "      <td>0.000000e+00</td>\n",
       "      <td>4.114134</td>\n",
       "    </tr>\n",
       "    <tr>\n",
       "      <th>P10</th>\n",
       "      <td>23.000000</td>\n",
       "      <td>10.000000</td>\n",
       "      <td>16.000000</td>\n",
       "      <td>2.772589</td>\n",
       "      <td>2.800000</td>\n",
       "      <td>0.175682</td>\n",
       "      <td>-1.737842</td>\n",
       "      <td>0.457997</td>\n",
       "      <td>-0.780312</td>\n",
       "      <td>-1.000000</td>\n",
       "      <td>...</td>\n",
       "      <td>0.000000e+00</td>\n",
       "      <td>5.033244</td>\n",
       "      <td>0.000000</td>\n",
       "      <td>2.169054</td>\n",
       "      <td>0.000000e+00</td>\n",
       "      <td>4.941642</td>\n",
       "      <td>0.000000</td>\n",
       "      <td>3.118613</td>\n",
       "      <td>0.000000e+00</td>\n",
       "      <td>4.881065</td>\n",
       "    </tr>\n",
       "    <tr>\n",
       "      <th>P25</th>\n",
       "      <td>31.000000</td>\n",
       "      <td>12.000000</td>\n",
       "      <td>24.000000</td>\n",
       "      <td>3.178054</td>\n",
       "      <td>5.100000</td>\n",
       "      <td>0.385520</td>\n",
       "      <td>-0.952685</td>\n",
       "      <td>0.980301</td>\n",
       "      <td>-0.018987</td>\n",
       "      <td>-1.000000</td>\n",
       "      <td>...</td>\n",
       "      <td>0.000000e+00</td>\n",
       "      <td>6.171570</td>\n",
       "      <td>0.000000</td>\n",
       "      <td>2.545531</td>\n",
       "      <td>0.000000e+00</td>\n",
       "      <td>5.857933</td>\n",
       "      <td>0.000000</td>\n",
       "      <td>3.330417</td>\n",
       "      <td>0.000000e+00</td>\n",
       "      <td>6.158091</td>\n",
       "    </tr>\n",
       "    <tr>\n",
       "      <th>P50</th>\n",
       "      <td>47.000000</td>\n",
       "      <td>14.000000</td>\n",
       "      <td>38.000000</td>\n",
       "      <td>3.637586</td>\n",
       "      <td>8.800000</td>\n",
       "      <td>0.926437</td>\n",
       "      <td>-0.076106</td>\n",
       "      <td>2.098540</td>\n",
       "      <td>0.741537</td>\n",
       "      <td>-1.000000</td>\n",
       "      <td>...</td>\n",
       "      <td>0.000000e+00</td>\n",
       "      <td>7.050556</td>\n",
       "      <td>13.750000</td>\n",
       "      <td>2.904165</td>\n",
       "      <td>4.250000e+02</td>\n",
       "      <td>6.639876</td>\n",
       "      <td>0.000000</td>\n",
       "      <td>3.597997</td>\n",
       "      <td>0.000000e+00</td>\n",
       "      <td>7.147185</td>\n",
       "    </tr>\n",
       "    <tr>\n",
       "      <th>P75</th>\n",
       "      <td>62.000000</td>\n",
       "      <td>17.000000</td>\n",
       "      <td>67.000000</td>\n",
       "      <td>4.204693</td>\n",
       "      <td>13.600000</td>\n",
       "      <td>2.063820</td>\n",
       "      <td>0.724665</td>\n",
       "      <td>4.314780</td>\n",
       "      <td>1.462053</td>\n",
       "      <td>14.000000</td>\n",
       "      <td>...</td>\n",
       "      <td>5.101625e+02</td>\n",
       "      <td>7.649835</td>\n",
       "      <td>22.750000</td>\n",
       "      <td>3.295837</td>\n",
       "      <td>1.080000e+03</td>\n",
       "      <td>7.218910</td>\n",
       "      <td>20.962500</td>\n",
       "      <td>3.865193</td>\n",
       "      <td>8.996250e+01</td>\n",
       "      <td>7.755376</td>\n",
       "    </tr>\n",
       "    <tr>\n",
       "      <th>P90</th>\n",
       "      <td>72.000000</td>\n",
       "      <td>19.000000</td>\n",
       "      <td>109.100000</td>\n",
       "      <td>4.692261</td>\n",
       "      <td>18.600000</td>\n",
       "      <td>4.299470</td>\n",
       "      <td>1.458625</td>\n",
       "      <td>8.062046</td>\n",
       "      <td>2.087178</td>\n",
       "      <td>16.000000</td>\n",
       "      <td>...</td>\n",
       "      <td>1.912325e+03</td>\n",
       "      <td>7.977833</td>\n",
       "      <td>34.000000</td>\n",
       "      <td>3.637586</td>\n",
       "      <td>1.871500e+03</td>\n",
       "      <td>7.673223</td>\n",
       "      <td>40.860000</td>\n",
       "      <td>4.102643</td>\n",
       "      <td>1.778535e+03</td>\n",
       "      <td>8.106616</td>\n",
       "    </tr>\n",
       "    <tr>\n",
       "      <th>P95</th>\n",
       "      <td>76.000000</td>\n",
       "      <td>20.000000</td>\n",
       "      <td>147.000000</td>\n",
       "      <td>4.990433</td>\n",
       "      <td>22.200000</td>\n",
       "      <td>6.373010</td>\n",
       "      <td>1.852297</td>\n",
       "      <td>11.815981</td>\n",
       "      <td>2.469586</td>\n",
       "      <td>18.000000</td>\n",
       "      <td>...</td>\n",
       "      <td>2.600990e+03</td>\n",
       "      <td>8.117631</td>\n",
       "      <td>42.000000</td>\n",
       "      <td>3.839452</td>\n",
       "      <td>2.455750e+03</td>\n",
       "      <td>7.923257</td>\n",
       "      <td>51.305000</td>\n",
       "      <td>4.267282</td>\n",
       "      <td>2.687923e+03</td>\n",
       "      <td>8.310817</td>\n",
       "    </tr>\n",
       "    <tr>\n",
       "      <th>P99</th>\n",
       "      <td>79.000000</td>\n",
       "      <td>21.000000</td>\n",
       "      <td>272.000100</td>\n",
       "      <td>5.605802</td>\n",
       "      <td>29.200000</td>\n",
       "      <td>14.280004</td>\n",
       "      <td>2.658861</td>\n",
       "      <td>24.062466</td>\n",
       "      <td>3.180655</td>\n",
       "      <td>20.000000</td>\n",
       "      <td>...</td>\n",
       "      <td>3.679450e+03</td>\n",
       "      <td>8.369034</td>\n",
       "      <td>64.250000</td>\n",
       "      <td>4.238011</td>\n",
       "      <td>4.010036e+03</td>\n",
       "      <td>8.391750</td>\n",
       "      <td>78.300040</td>\n",
       "      <td>4.574790</td>\n",
       "      <td>4.530101e+03</td>\n",
       "      <td>8.683811</td>\n",
       "    </tr>\n",
       "    <tr>\n",
       "      <th>MAX</th>\n",
       "      <td>79.000000</td>\n",
       "      <td>21.000000</td>\n",
       "      <td>272.010000</td>\n",
       "      <td>5.605839</td>\n",
       "      <td>29.200000</td>\n",
       "      <td>14.280358</td>\n",
       "      <td>2.658910</td>\n",
       "      <td>24.064260</td>\n",
       "      <td>3.180802</td>\n",
       "      <td>20.000000</td>\n",
       "      <td>...</td>\n",
       "      <td>3.679457e+03</td>\n",
       "      <td>8.369037</td>\n",
       "      <td>64.250000</td>\n",
       "      <td>4.239162</td>\n",
       "      <td>4.011200e+03</td>\n",
       "      <td>8.392151</td>\n",
       "      <td>78.304000</td>\n",
       "      <td>4.577186</td>\n",
       "      <td>4.530186e+03</td>\n",
       "      <td>8.690117</td>\n",
       "    </tr>\n",
       "  </tbody>\n",
       "</table>\n",
       "<p>18 rows × 45 columns</p>\n",
       "</div>"
      ],
      "text/plain": [
       "                  age            ed         income         lninc  \\\n",
       "N         5000.000000   5000.000000    5000.000000   5000.000000   \n",
       "NMISS        0.000000      0.000000       0.000000      0.000000   \n",
       "SUM     235128.000000  72721.000000  268149.500000  18485.246078   \n",
       "MEAN        47.025600     14.544200      53.629900      3.697049   \n",
       "MEDIAN      47.000000     14.000000      38.000000      3.637586   \n",
       "STD         17.770338      3.242553      46.567698      0.738495   \n",
       "VAR        315.784902     10.514149    2168.550537      0.545375   \n",
       "MIN         18.000000      8.000000       9.000000      2.197225   \n",
       "P1          18.000000      8.000000       9.000000      2.197225   \n",
       "P5          20.000000      9.000000      13.000000      2.564949   \n",
       "P10         23.000000     10.000000      16.000000      2.772589   \n",
       "P25         31.000000     12.000000      24.000000      3.178054   \n",
       "P50         47.000000     14.000000      38.000000      3.637586   \n",
       "P75         62.000000     17.000000      67.000000      4.204693   \n",
       "P90         72.000000     19.000000     109.100000      4.692261   \n",
       "P95         76.000000     20.000000     147.000000      4.990433   \n",
       "P99         79.000000     21.000000     272.000100      5.605802   \n",
       "MAX         79.000000     21.000000     272.010000      5.605839   \n",
       "\n",
       "             debtinc     creddebt   lncreddebt       othdebt    lnothdebt  \\\n",
       "N        5000.000000  5000.000000  4999.000000   5000.000000  4999.000000   \n",
       "NMISS       0.000000     0.000000     1.000000      0.000000     1.000000   \n",
       "SUM     49570.600000  8791.844708  -638.770486  17612.530669  3491.232703   \n",
       "MEAN        9.914120     1.758369    -0.127780      3.522506     0.698386   \n",
       "MEDIAN      8.800000     0.926437    -0.076106      2.098540     0.741537   \n",
       "STD         6.241691     2.380681     1.241398      4.221760     1.104530   \n",
       "VAR        38.958700     5.667644     1.541068     17.823256     1.219987   \n",
       "MIN         0.700000     0.033160    -3.401690      0.114299    -2.168241   \n",
       "P1          0.700000     0.033166    -3.401599      0.114312    -2.168229   \n",
       "P5          1.900000     0.101088    -2.291604      0.287692    -1.243483   \n",
       "P10         2.800000     0.175682    -1.737842      0.457997    -0.780312   \n",
       "P25         5.100000     0.385520    -0.952685      0.980301    -0.018987   \n",
       "P50         8.800000     0.926437    -0.076106      2.098540     0.741537   \n",
       "P75        13.600000     2.063820     0.724665      4.314780     1.462053   \n",
       "P90        18.600000     4.299470     1.458625      8.062046     2.087178   \n",
       "P95        22.200000     6.373010     1.852297     11.815981     2.469586   \n",
       "P99        29.200000    14.280004     2.658861     24.062466     3.180655   \n",
       "MAX        29.200000    14.280358     2.658910     24.064260     3.180802   \n",
       "\n",
       "             spoused  ...      equipten    lnequipten       cardmon  \\\n",
       "N        5000.000000  ...  5.000000e+03   1704.000000   5000.000000   \n",
       "NMISS       0.000000  ...  0.000000e+00   3296.000000      0.000000   \n",
       "SUM     30477.000000  ...  2.316992e+06  11498.329814  76334.750000   \n",
       "MEAN        6.095400  ...  4.633984e+02      6.747846     15.266950   \n",
       "MEDIAN     -1.000000  ...  0.000000e+00      7.050556     13.750000   \n",
       "STD         7.709565  ...  8.828328e+02      1.190092     14.156339   \n",
       "VAR        59.437386  ...  7.793938e+05      1.416320    200.401931   \n",
       "MIN        -1.000000  ...  0.000000e+00      3.169937      0.000000   \n",
       "P1         -1.000000  ...  0.000000e+00      3.170180      0.000000   \n",
       "P5         -1.000000  ...  0.000000e+00      4.251230      0.000000   \n",
       "P10        -1.000000  ...  0.000000e+00      5.033244      0.000000   \n",
       "P25        -1.000000  ...  0.000000e+00      6.171570      0.000000   \n",
       "P50        -1.000000  ...  0.000000e+00      7.050556     13.750000   \n",
       "P75        14.000000  ...  5.101625e+02      7.649835     22.750000   \n",
       "P90        16.000000  ...  1.912325e+03      7.977833     34.000000   \n",
       "P95        18.000000  ...  2.600990e+03      8.117631     42.000000   \n",
       "P99        20.000000  ...  3.679450e+03      8.369034     64.250000   \n",
       "MAX        20.000000  ...  3.679457e+03      8.369037     64.250000   \n",
       "\n",
       "           lncardmon       cardten     lncardten       wiremon    lnwiremon  \\\n",
       "N        3581.000000  4.998000e+03   3578.000000   5000.000000  1344.000000   \n",
       "NMISS    1419.000000  2.000000e+00   1422.000000      0.000000  3656.000000   \n",
       "SUM     10417.422617  3.534781e+06  23004.958941  52651.350000  4844.080103   \n",
       "MEAN        2.909082  7.072391e+02      6.429558     10.530270     3.604226   \n",
       "MEDIAN      2.904165  4.250000e+02      6.639876      0.000000     3.597997   \n",
       "STD         0.555100  8.483399e+02      1.146504     19.021280     0.382289   \n",
       "VAR         0.308136  7.196806e+05      1.314471    361.809101     0.146145   \n",
       "MIN         1.658228  0.000000e+00      2.484907      0.000000     2.806811   \n",
       "P1          1.658228  0.000000e+00      2.484907      0.000000     2.810508   \n",
       "P5          1.981001  0.000000e+00      4.094345      0.000000     2.992964   \n",
       "P10         2.169054  0.000000e+00      4.941642      0.000000     3.118613   \n",
       "P25         2.545531  0.000000e+00      5.857933      0.000000     3.330417   \n",
       "P50         2.904165  4.250000e+02      6.639876      0.000000     3.597997   \n",
       "P75         3.295837  1.080000e+03      7.218910     20.962500     3.865193   \n",
       "P90         3.637586  1.871500e+03      7.673223     40.860000     4.102643   \n",
       "P95         3.839452  2.455750e+03      7.923257     51.305000     4.267282   \n",
       "P99         4.238011  4.010036e+03      8.391750     78.300040     4.574790   \n",
       "MAX         4.239162  4.011200e+03      8.392151     78.304000     4.577186   \n",
       "\n",
       "             wireten    lnwireten  \n",
       "N       5.000000e+03  1344.000000  \n",
       "NMISS   0.000000e+00  3656.000000  \n",
       "SUM     2.049800e+06  9150.154882  \n",
       "MEAN    4.099600e+02     6.808151  \n",
       "MEDIAN  0.000000e+00     7.147185  \n",
       "STD     9.300074e+02     1.273410  \n",
       "VAR     8.649138e+05     1.621573  \n",
       "MIN     0.000000e+00     3.039749  \n",
       "P1      0.000000e+00     3.039749  \n",
       "P5      0.000000e+00     4.114134  \n",
       "P10     0.000000e+00     4.881065  \n",
       "P25     0.000000e+00     6.158091  \n",
       "P50     0.000000e+00     7.147185  \n",
       "P75     8.996250e+01     7.755376  \n",
       "P90     1.778535e+03     8.106616  \n",
       "P95     2.687923e+03     8.310817  \n",
       "P99     4.530101e+03     8.683811  \n",
       "MAX     4.530186e+03     8.690117  \n",
       "\n",
       "[18 rows x 45 columns]"
      ]
     },
     "execution_count": 17,
     "metadata": {},
     "output_type": "execute_result"
    }
   ],
   "source": [
    "cont_var.apply(continuous_var_summary) ## Now we can see that outliers have been treated:"
   ]
  },
  {
   "cell_type": "markdown",
   "metadata": {},
   "source": [
    "### Treatment of missing values:"
   ]
  },
  {
   "cell_type": "code",
   "execution_count": null,
   "metadata": {},
   "outputs": [],
   "source": [
    "cont_var.isna().sum().sort_values(ascending = False).head(15) \n",
    "## We see that some of the columns have high number of missing values"
   ]
  },
  {
   "cell_type": "code",
   "execution_count": 26,
   "metadata": {},
   "outputs": [],
   "source": [
    "missing_variables = cont_var.isna().sum().sort_values(ascending = False).head(15) "
   ]
  },
  {
   "cell_type": "code",
   "execution_count": 28,
   "metadata": {},
   "outputs": [],
   "source": [
    "missing_variables = pd.DataFrame({'Variables':missing_variables})"
   ]
  },
  {
   "cell_type": "code",
   "execution_count": 30,
   "metadata": {},
   "outputs": [],
   "source": [
    "missing_variables.to_csv('missing_variables.csv',header = True)"
   ]
  },
  {
   "cell_type": "markdown",
   "metadata": {},
   "source": [
    "### We can see that some of the columns have more than 70% data as missing value hence we can drop those columns"
   ]
  },
  {
   "cell_type": "code",
   "execution_count": 31,
   "metadata": {},
   "outputs": [
    {
     "data": {
      "text/html": [
       "<div>\n",
       "<style scoped>\n",
       "    .dataframe tbody tr th:only-of-type {\n",
       "        vertical-align: middle;\n",
       "    }\n",
       "\n",
       "    .dataframe tbody tr th {\n",
       "        vertical-align: top;\n",
       "    }\n",
       "\n",
       "    .dataframe thead th {\n",
       "        text-align: right;\n",
       "    }\n",
       "</style>\n",
       "<table border=\"1\" class=\"dataframe\">\n",
       "  <thead>\n",
       "    <tr style=\"text-align: right;\">\n",
       "      <th></th>\n",
       "      <th>0</th>\n",
       "    </tr>\n",
       "  </thead>\n",
       "  <tbody>\n",
       "    <tr>\n",
       "      <th>lnwireten</th>\n",
       "      <td>73.12</td>\n",
       "    </tr>\n",
       "    <tr>\n",
       "      <th>lnwiremon</th>\n",
       "      <td>73.12</td>\n",
       "    </tr>\n",
       "    <tr>\n",
       "      <th>lnequipten</th>\n",
       "      <td>65.92</td>\n",
       "    </tr>\n",
       "    <tr>\n",
       "      <th>lnequipmon</th>\n",
       "      <td>65.92</td>\n",
       "    </tr>\n",
       "    <tr>\n",
       "      <th>lntollten</th>\n",
       "      <td>52.44</td>\n",
       "    </tr>\n",
       "    <tr>\n",
       "      <th>lntollmon</th>\n",
       "      <td>52.44</td>\n",
       "    </tr>\n",
       "    <tr>\n",
       "      <th>lncardten</th>\n",
       "      <td>28.44</td>\n",
       "    </tr>\n",
       "    <tr>\n",
       "      <th>lncardmon</th>\n",
       "      <td>28.38</td>\n",
       "    </tr>\n",
       "    <tr>\n",
       "      <th>longten</th>\n",
       "      <td>0.06</td>\n",
       "    </tr>\n",
       "    <tr>\n",
       "      <th>lnlongten</th>\n",
       "      <td>0.06</td>\n",
       "    </tr>\n",
       "    <tr>\n",
       "      <th>cardten</th>\n",
       "      <td>0.04</td>\n",
       "    </tr>\n",
       "    <tr>\n",
       "      <th>commutetime</th>\n",
       "      <td>0.04</td>\n",
       "    </tr>\n",
       "    <tr>\n",
       "      <th>lncreddebt</th>\n",
       "      <td>0.02</td>\n",
       "    </tr>\n",
       "    <tr>\n",
       "      <th>lnothdebt</th>\n",
       "      <td>0.02</td>\n",
       "    </tr>\n",
       "    <tr>\n",
       "      <th>tollmon</th>\n",
       "      <td>0.00</td>\n",
       "    </tr>\n",
       "    <tr>\n",
       "      <th>tollten</th>\n",
       "      <td>0.00</td>\n",
       "    </tr>\n",
       "    <tr>\n",
       "      <th>equipten</th>\n",
       "      <td>0.00</td>\n",
       "    </tr>\n",
       "    <tr>\n",
       "      <th>hourstv</th>\n",
       "      <td>0.00</td>\n",
       "    </tr>\n",
       "    <tr>\n",
       "      <th>equipmon</th>\n",
       "      <td>0.00</td>\n",
       "    </tr>\n",
       "    <tr>\n",
       "      <th>longmon</th>\n",
       "      <td>0.00</td>\n",
       "    </tr>\n",
       "    <tr>\n",
       "      <th>cardmon</th>\n",
       "      <td>0.00</td>\n",
       "    </tr>\n",
       "    <tr>\n",
       "      <th>wiremon</th>\n",
       "      <td>0.00</td>\n",
       "    </tr>\n",
       "    <tr>\n",
       "      <th>wireten</th>\n",
       "      <td>0.00</td>\n",
       "    </tr>\n",
       "    <tr>\n",
       "      <th>lnlongmon</th>\n",
       "      <td>0.00</td>\n",
       "    </tr>\n",
       "    <tr>\n",
       "      <th>age</th>\n",
       "      <td>0.00</td>\n",
       "    </tr>\n",
       "    <tr>\n",
       "      <th>tenure</th>\n",
       "      <td>0.00</td>\n",
       "    </tr>\n",
       "    <tr>\n",
       "      <th>ed</th>\n",
       "      <td>0.00</td>\n",
       "    </tr>\n",
       "    <tr>\n",
       "      <th>income</th>\n",
       "      <td>0.00</td>\n",
       "    </tr>\n",
       "    <tr>\n",
       "      <th>lninc</th>\n",
       "      <td>0.00</td>\n",
       "    </tr>\n",
       "    <tr>\n",
       "      <th>debtinc</th>\n",
       "      <td>0.00</td>\n",
       "    </tr>\n",
       "    <tr>\n",
       "      <th>creddebt</th>\n",
       "      <td>0.00</td>\n",
       "    </tr>\n",
       "    <tr>\n",
       "      <th>othdebt</th>\n",
       "      <td>0.00</td>\n",
       "    </tr>\n",
       "    <tr>\n",
       "      <th>spoused</th>\n",
       "      <td>0.00</td>\n",
       "    </tr>\n",
       "    <tr>\n",
       "      <th>reside</th>\n",
       "      <td>0.00</td>\n",
       "    </tr>\n",
       "    <tr>\n",
       "      <th>pets</th>\n",
       "      <td>0.00</td>\n",
       "    </tr>\n",
       "    <tr>\n",
       "      <th>pets_cats</th>\n",
       "      <td>0.00</td>\n",
       "    </tr>\n",
       "    <tr>\n",
       "      <th>pets_dogs</th>\n",
       "      <td>0.00</td>\n",
       "    </tr>\n",
       "    <tr>\n",
       "      <th>pets_birds</th>\n",
       "      <td>0.00</td>\n",
       "    </tr>\n",
       "    <tr>\n",
       "      <th>pets_reptiles</th>\n",
       "      <td>0.00</td>\n",
       "    </tr>\n",
       "    <tr>\n",
       "      <th>pets_small</th>\n",
       "      <td>0.00</td>\n",
       "    </tr>\n",
       "    <tr>\n",
       "      <th>pets_saltfish</th>\n",
       "      <td>0.00</td>\n",
       "    </tr>\n",
       "    <tr>\n",
       "      <th>pets_freshfish</th>\n",
       "      <td>0.00</td>\n",
       "    </tr>\n",
       "    <tr>\n",
       "      <th>carvalue</th>\n",
       "      <td>0.00</td>\n",
       "    </tr>\n",
       "    <tr>\n",
       "      <th>cardspent</th>\n",
       "      <td>0.00</td>\n",
       "    </tr>\n",
       "    <tr>\n",
       "      <th>card2spent</th>\n",
       "      <td>0.00</td>\n",
       "    </tr>\n",
       "  </tbody>\n",
       "</table>\n",
       "</div>"
      ],
      "text/plain": [
       "                    0\n",
       "lnwireten       73.12\n",
       "lnwiremon       73.12\n",
       "lnequipten      65.92\n",
       "lnequipmon      65.92\n",
       "lntollten       52.44\n",
       "lntollmon       52.44\n",
       "lncardten       28.44\n",
       "lncardmon       28.38\n",
       "longten          0.06\n",
       "lnlongten        0.06\n",
       "cardten          0.04\n",
       "commutetime      0.04\n",
       "lncreddebt       0.02\n",
       "lnothdebt        0.02\n",
       "tollmon          0.00\n",
       "tollten          0.00\n",
       "equipten         0.00\n",
       "hourstv          0.00\n",
       "equipmon         0.00\n",
       "longmon          0.00\n",
       "cardmon          0.00\n",
       "wiremon          0.00\n",
       "wireten          0.00\n",
       "lnlongmon        0.00\n",
       "age              0.00\n",
       "tenure           0.00\n",
       "ed               0.00\n",
       "income           0.00\n",
       "lninc            0.00\n",
       "debtinc          0.00\n",
       "creddebt         0.00\n",
       "othdebt          0.00\n",
       "spoused          0.00\n",
       "reside           0.00\n",
       "pets             0.00\n",
       "pets_cats        0.00\n",
       "pets_dogs        0.00\n",
       "pets_birds       0.00\n",
       "pets_reptiles    0.00\n",
       "pets_small       0.00\n",
       "pets_saltfish    0.00\n",
       "pets_freshfish   0.00\n",
       "carvalue         0.00\n",
       "cardspent        0.00\n",
       "card2spent       0.00"
      ]
     },
     "execution_count": 31,
     "metadata": {},
     "output_type": "execute_result"
    }
   ],
   "source": [
    "pd.DataFrame(cont_var.isna().sum() *100 / cont_var.isna().count()).sort_values(0,ascending = False)"
   ]
  },
  {
   "cell_type": "markdown",
   "metadata": {},
   "source": [
    "### Here we have dropped the columns with high number of missing values"
   ]
  },
  {
   "cell_type": "code",
   "execution_count": 32,
   "metadata": {},
   "outputs": [],
   "source": [
    "cont_var.drop(columns = ['lnwireten','lnwiremon','lnequipten','lnequipmon','lntollten','lntollmon','lncardten','lncardmon'],\n",
    "             axis = 1,inplace = True)"
   ]
  },
  {
   "cell_type": "markdown",
   "metadata": {},
   "source": [
    "### Imputing values with mean for rest of the missing values columns"
   ]
  },
  {
   "cell_type": "code",
   "execution_count": 33,
   "metadata": {},
   "outputs": [],
   "source": [
    "cont_var = cont_var.apply(lambda x:missing_imputation(x))"
   ]
  },
  {
   "cell_type": "code",
   "execution_count": 34,
   "metadata": {},
   "outputs": [
    {
     "data": {
      "text/plain": [
       "<matplotlib.axes._subplots.AxesSubplot at 0x1c96984c348>"
      ]
     },
     "execution_count": 34,
     "metadata": {},
     "output_type": "execute_result"
    },
    {
     "data": {
      "image/png": "[encoded data removed]",
      "text/plain": [
       "<Figure size 432x288 with 2 Axes>"
      ]
     },
     "metadata": {
      "needs_background": "light"
     },
     "output_type": "display_data"
    }
   ],
   "source": [
    "sns.heatmap(cont_var.isna()) ## Now we can see missing values have been imputed with mean:"
   ]
  },
  {
   "cell_type": "markdown",
   "metadata": {},
   "source": [
    "## Target Variable or Y variable"
   ]
  },
  {
   "cell_type": "code",
   "execution_count": 35,
   "metadata": {},
   "outputs": [],
   "source": [
    "cont_var['spending']=cont_var.cardspent + cont_var.card2spent ## Here we have created target variable"
   ]
  },
  {
   "cell_type": "markdown",
   "metadata": {},
   "source": [
    "## No missing value in our Target Variable"
   ]
  },
  {
   "cell_type": "code",
   "execution_count": 36,
   "metadata": {},
   "outputs": [
    {
     "data": {
      "text/plain": [
       "0"
      ]
     },
     "execution_count": 36,
     "metadata": {},
     "output_type": "execute_result"
    }
   ],
   "source": [
    "cont_var.spending.isna().sum() "
   ]
  },
  {
   "cell_type": "markdown",
   "metadata": {},
   "source": [
    "## Dummy variables"
   ]
  },
  {
   "cell_type": "markdown",
   "metadata": {},
   "source": [
    "### Here we have created dummy variables with categorical features"
   ]
  },
  {
   "cell_type": "code",
   "execution_count": 37,
   "metadata": {},
   "outputs": [
    {
     "name": "stderr",
     "output_type": "stream",
     "text": [
      "C:\\Users\\ZomAdmin\\anaconda3\\lib\\site-packages\\ipykernel_launcher.py:3: SettingWithCopyWarning: \n",
      "A value is trying to be set on a copy of a slice from a DataFrame.\n",
      "Try using .loc[row_indexer,col_indexer] = value instead\n",
      "\n",
      "See the caveats in the documentation: https://pandas.pydata.org/pandas-docs/stable/user_guide/indexing.html#returning-a-view-versus-a-copy\n",
      "  This is separate from the ipykernel package so we can avoid doing imports until\n"
     ]
    }
   ],
   "source": [
    "for c_feature in Cat_var.columns:\n",
    "    \n",
    "    Cat_var[c_feature] = Cat_var[c_feature].astype('category')\n",
    "    \n",
    "    Cat_var = create_dummies(Cat_var, c_feature) "
   ]
  },
  {
   "cell_type": "code",
   "execution_count": 38,
   "metadata": {},
   "outputs": [
    {
     "data": {
      "text/html": [
       "<div>\n",
       "<style scoped>\n",
       "    .dataframe tbody tr th:only-of-type {\n",
       "        vertical-align: middle;\n",
       "    }\n",
       "\n",
       "    .dataframe tbody tr th {\n",
       "        vertical-align: top;\n",
       "    }\n",
       "\n",
       "    .dataframe thead th {\n",
       "        text-align: right;\n",
       "    }\n",
       "</style>\n",
       "<table border=\"1\" class=\"dataframe\">\n",
       "  <thead>\n",
       "    <tr style=\"text-align: right;\">\n",
       "      <th></th>\n",
       "      <th>region_2</th>\n",
       "      <th>region_3</th>\n",
       "      <th>region_4</th>\n",
       "      <th>region_5</th>\n",
       "      <th>townsize_2.0</th>\n",
       "      <th>townsize_3.0</th>\n",
       "      <th>townsize_4.0</th>\n",
       "      <th>townsize_5.0</th>\n",
       "      <th>gender_1</th>\n",
       "      <th>agecat_3</th>\n",
       "      <th>...</th>\n",
       "      <th>owncd_1</th>\n",
       "      <th>ownpda_1</th>\n",
       "      <th>ownpc_1</th>\n",
       "      <th>ownipod_1</th>\n",
       "      <th>owngame_1</th>\n",
       "      <th>ownfax_1</th>\n",
       "      <th>news_1</th>\n",
       "      <th>response_01_1</th>\n",
       "      <th>response_02_1</th>\n",
       "      <th>response_03_1</th>\n",
       "    </tr>\n",
       "  </thead>\n",
       "  <tbody>\n",
       "    <tr>\n",
       "      <th>0</th>\n",
       "      <td>0</td>\n",
       "      <td>0</td>\n",
       "      <td>0</td>\n",
       "      <td>0</td>\n",
       "      <td>1</td>\n",
       "      <td>0</td>\n",
       "      <td>0</td>\n",
       "      <td>0</td>\n",
       "      <td>1</td>\n",
       "      <td>0</td>\n",
       "      <td>...</td>\n",
       "      <td>0</td>\n",
       "      <td>0</td>\n",
       "      <td>0</td>\n",
       "      <td>1</td>\n",
       "      <td>1</td>\n",
       "      <td>0</td>\n",
       "      <td>0</td>\n",
       "      <td>0</td>\n",
       "      <td>1</td>\n",
       "      <td>0</td>\n",
       "    </tr>\n",
       "    <tr>\n",
       "      <th>1</th>\n",
       "      <td>0</td>\n",
       "      <td>0</td>\n",
       "      <td>0</td>\n",
       "      <td>1</td>\n",
       "      <td>0</td>\n",
       "      <td>0</td>\n",
       "      <td>0</td>\n",
       "      <td>1</td>\n",
       "      <td>0</td>\n",
       "      <td>0</td>\n",
       "      <td>...</td>\n",
       "      <td>1</td>\n",
       "      <td>1</td>\n",
       "      <td>1</td>\n",
       "      <td>1</td>\n",
       "      <td>1</td>\n",
       "      <td>1</td>\n",
       "      <td>1</td>\n",
       "      <td>0</td>\n",
       "      <td>0</td>\n",
       "      <td>0</td>\n",
       "    </tr>\n",
       "    <tr>\n",
       "      <th>2</th>\n",
       "      <td>0</td>\n",
       "      <td>1</td>\n",
       "      <td>0</td>\n",
       "      <td>0</td>\n",
       "      <td>0</td>\n",
       "      <td>0</td>\n",
       "      <td>1</td>\n",
       "      <td>0</td>\n",
       "      <td>1</td>\n",
       "      <td>0</td>\n",
       "      <td>...</td>\n",
       "      <td>1</td>\n",
       "      <td>0</td>\n",
       "      <td>0</td>\n",
       "      <td>0</td>\n",
       "      <td>0</td>\n",
       "      <td>0</td>\n",
       "      <td>1</td>\n",
       "      <td>0</td>\n",
       "      <td>0</td>\n",
       "      <td>0</td>\n",
       "    </tr>\n",
       "    <tr>\n",
       "      <th>3</th>\n",
       "      <td>0</td>\n",
       "      <td>0</td>\n",
       "      <td>1</td>\n",
       "      <td>0</td>\n",
       "      <td>0</td>\n",
       "      <td>1</td>\n",
       "      <td>0</td>\n",
       "      <td>0</td>\n",
       "      <td>0</td>\n",
       "      <td>0</td>\n",
       "      <td>...</td>\n",
       "      <td>1</td>\n",
       "      <td>0</td>\n",
       "      <td>1</td>\n",
       "      <td>1</td>\n",
       "      <td>1</td>\n",
       "      <td>0</td>\n",
       "      <td>1</td>\n",
       "      <td>1</td>\n",
       "      <td>0</td>\n",
       "      <td>0</td>\n",
       "    </tr>\n",
       "    <tr>\n",
       "      <th>4</th>\n",
       "      <td>1</td>\n",
       "      <td>0</td>\n",
       "      <td>0</td>\n",
       "      <td>0</td>\n",
       "      <td>1</td>\n",
       "      <td>0</td>\n",
       "      <td>0</td>\n",
       "      <td>0</td>\n",
       "      <td>0</td>\n",
       "      <td>1</td>\n",
       "      <td>...</td>\n",
       "      <td>1</td>\n",
       "      <td>0</td>\n",
       "      <td>1</td>\n",
       "      <td>0</td>\n",
       "      <td>1</td>\n",
       "      <td>0</td>\n",
       "      <td>0</td>\n",
       "      <td>0</td>\n",
       "      <td>1</td>\n",
       "      <td>0</td>\n",
       "    </tr>\n",
       "    <tr>\n",
       "      <th>...</th>\n",
       "      <td>...</td>\n",
       "      <td>...</td>\n",
       "      <td>...</td>\n",
       "      <td>...</td>\n",
       "      <td>...</td>\n",
       "      <td>...</td>\n",
       "      <td>...</td>\n",
       "      <td>...</td>\n",
       "      <td>...</td>\n",
       "      <td>...</td>\n",
       "      <td>...</td>\n",
       "      <td>...</td>\n",
       "      <td>...</td>\n",
       "      <td>...</td>\n",
       "      <td>...</td>\n",
       "      <td>...</td>\n",
       "      <td>...</td>\n",
       "      <td>...</td>\n",
       "      <td>...</td>\n",
       "      <td>...</td>\n",
       "      <td>...</td>\n",
       "    </tr>\n",
       "    <tr>\n",
       "      <th>4995</th>\n",
       "      <td>1</td>\n",
       "      <td>0</td>\n",
       "      <td>0</td>\n",
       "      <td>0</td>\n",
       "      <td>1</td>\n",
       "      <td>0</td>\n",
       "      <td>0</td>\n",
       "      <td>0</td>\n",
       "      <td>0</td>\n",
       "      <td>0</td>\n",
       "      <td>...</td>\n",
       "      <td>1</td>\n",
       "      <td>0</td>\n",
       "      <td>0</td>\n",
       "      <td>0</td>\n",
       "      <td>0</td>\n",
       "      <td>0</td>\n",
       "      <td>1</td>\n",
       "      <td>0</td>\n",
       "      <td>0</td>\n",
       "      <td>0</td>\n",
       "    </tr>\n",
       "    <tr>\n",
       "      <th>4996</th>\n",
       "      <td>0</td>\n",
       "      <td>1</td>\n",
       "      <td>0</td>\n",
       "      <td>0</td>\n",
       "      <td>0</td>\n",
       "      <td>1</td>\n",
       "      <td>0</td>\n",
       "      <td>0</td>\n",
       "      <td>0</td>\n",
       "      <td>0</td>\n",
       "      <td>...</td>\n",
       "      <td>1</td>\n",
       "      <td>0</td>\n",
       "      <td>0</td>\n",
       "      <td>0</td>\n",
       "      <td>0</td>\n",
       "      <td>0</td>\n",
       "      <td>0</td>\n",
       "      <td>0</td>\n",
       "      <td>0</td>\n",
       "      <td>0</td>\n",
       "    </tr>\n",
       "    <tr>\n",
       "      <th>4997</th>\n",
       "      <td>0</td>\n",
       "      <td>0</td>\n",
       "      <td>1</td>\n",
       "      <td>0</td>\n",
       "      <td>0</td>\n",
       "      <td>0</td>\n",
       "      <td>0</td>\n",
       "      <td>1</td>\n",
       "      <td>0</td>\n",
       "      <td>0</td>\n",
       "      <td>...</td>\n",
       "      <td>1</td>\n",
       "      <td>1</td>\n",
       "      <td>0</td>\n",
       "      <td>0</td>\n",
       "      <td>0</td>\n",
       "      <td>0</td>\n",
       "      <td>1</td>\n",
       "      <td>0</td>\n",
       "      <td>0</td>\n",
       "      <td>0</td>\n",
       "    </tr>\n",
       "    <tr>\n",
       "      <th>4998</th>\n",
       "      <td>0</td>\n",
       "      <td>0</td>\n",
       "      <td>0</td>\n",
       "      <td>0</td>\n",
       "      <td>0</td>\n",
       "      <td>0</td>\n",
       "      <td>0</td>\n",
       "      <td>0</td>\n",
       "      <td>0</td>\n",
       "      <td>0</td>\n",
       "      <td>...</td>\n",
       "      <td>1</td>\n",
       "      <td>0</td>\n",
       "      <td>1</td>\n",
       "      <td>1</td>\n",
       "      <td>1</td>\n",
       "      <td>0</td>\n",
       "      <td>1</td>\n",
       "      <td>0</td>\n",
       "      <td>0</td>\n",
       "      <td>0</td>\n",
       "    </tr>\n",
       "    <tr>\n",
       "      <th>4999</th>\n",
       "      <td>0</td>\n",
       "      <td>1</td>\n",
       "      <td>0</td>\n",
       "      <td>0</td>\n",
       "      <td>0</td>\n",
       "      <td>0</td>\n",
       "      <td>0</td>\n",
       "      <td>1</td>\n",
       "      <td>1</td>\n",
       "      <td>0</td>\n",
       "      <td>...</td>\n",
       "      <td>1</td>\n",
       "      <td>0</td>\n",
       "      <td>0</td>\n",
       "      <td>0</td>\n",
       "      <td>0</td>\n",
       "      <td>0</td>\n",
       "      <td>0</td>\n",
       "      <td>0</td>\n",
       "      <td>0</td>\n",
       "      <td>0</td>\n",
       "    </tr>\n",
       "  </tbody>\n",
       "</table>\n",
       "<p>5000 rows × 356 columns</p>\n",
       "</div>"
      ],
      "text/plain": [
       "      region_2  region_3  region_4  region_5  townsize_2.0  townsize_3.0  \\\n",
       "0            0         0         0         0             1             0   \n",
       "1            0         0         0         1             0             0   \n",
       "2            0         1         0         0             0             0   \n",
       "3            0         0         1         0             0             1   \n",
       "4            1         0         0         0             1             0   \n",
       "...        ...       ...       ...       ...           ...           ...   \n",
       "4995         1         0         0         0             1             0   \n",
       "4996         0         1         0         0             0             1   \n",
       "4997         0         0         1         0             0             0   \n",
       "4998         0         0         0         0             0             0   \n",
       "4999         0         1         0         0             0             0   \n",
       "\n",
       "      townsize_4.0  townsize_5.0  gender_1  agecat_3  ...  owncd_1  ownpda_1  \\\n",
       "0                0             0         1         0  ...        0         0   \n",
       "1                0             1         0         0  ...        1         1   \n",
       "2                1             0         1         0  ...        1         0   \n",
       "3                0             0         0         0  ...        1         0   \n",
       "4                0             0         0         1  ...        1         0   \n",
       "...            ...           ...       ...       ...  ...      ...       ...   \n",
       "4995             0             0         0         0  ...        1         0   \n",
       "4996             0             0         0         0  ...        1         0   \n",
       "4997             0             1         0         0  ...        1         1   \n",
       "4998             0             0         0         0  ...        1         0   \n",
       "4999             0             1         1         0  ...        1         0   \n",
       "\n",
       "      ownpc_1  ownipod_1  owngame_1  ownfax_1  news_1  response_01_1  \\\n",
       "0           0          1          1         0       0              0   \n",
       "1           1          1          1         1       1              0   \n",
       "2           0          0          0         0       1              0   \n",
       "3           1          1          1         0       1              1   \n",
       "4           1          0          1         0       0              0   \n",
       "...       ...        ...        ...       ...     ...            ...   \n",
       "4995        0          0          0         0       1              0   \n",
       "4996        0          0          0         0       0              0   \n",
       "4997        0          0          0         0       1              0   \n",
       "4998        1          1          1         0       1              0   \n",
       "4999        0          0          0         0       0              0   \n",
       "\n",
       "      response_02_1  response_03_1  \n",
       "0                 1              0  \n",
       "1                 0              0  \n",
       "2                 0              0  \n",
       "3                 0              0  \n",
       "4                 1              0  \n",
       "...             ...            ...  \n",
       "4995              0              0  \n",
       "4996              0              0  \n",
       "4997              0              0  \n",
       "4998              0              0  \n",
       "4999              0              0  \n",
       "\n",
       "[5000 rows x 356 columns]"
      ]
     },
     "execution_count": 38,
     "metadata": {},
     "output_type": "execute_result"
    }
   ],
   "source": [
    "Cat_var"
   ]
  },
  {
   "cell_type": "markdown",
   "metadata": {},
   "source": [
    "## Forming dataset"
   ]
  },
  {
   "cell_type": "code",
   "execution_count": 39,
   "metadata": {},
   "outputs": [],
   "source": [
    "final_data = pd.concat([cont_var,Cat_var],axis=1)"
   ]
  },
  {
   "cell_type": "code",
   "execution_count": 40,
   "metadata": {},
   "outputs": [
    {
     "data": {
      "text/plain": [
       "(5000, 394)"
      ]
     },
     "execution_count": 40,
     "metadata": {},
     "output_type": "execute_result"
    }
   ],
   "source": [
    "final_data.shape ## Our final data has 5k rows and 394 columns"
   ]
  },
  {
   "cell_type": "code",
   "execution_count": 41,
   "metadata": {},
   "outputs": [
    {
     "name": "stdout",
     "output_type": "stream",
     "text": [
      "<class 'pandas.core.frame.DataFrame'>\n",
      "RangeIndex: 5000 entries, 0 to 4999\n",
      "Columns: 394 entries, age to response_03_1\n",
      "dtypes: float64(24), int64(14), uint8(356)\n",
      "memory usage: 3.1 MB\n"
     ]
    }
   ],
   "source": [
    "final_data.info() "
   ]
  },
  {
   "cell_type": "code",
   "execution_count": 42,
   "metadata": {},
   "outputs": [],
   "source": [
    "final_data.to_csv('final_data.csv',header = True)"
   ]
  },
  {
   "cell_type": "markdown",
   "metadata": {},
   "source": [
    "## Assumption 1 - Y should be normally distributed or errors should be normally distributed"
   ]
  },
  {
   "cell_type": "code",
   "execution_count": 43,
   "metadata": {},
   "outputs": [
    {
     "data": {
      "text/plain": [
       "<matplotlib.axes._subplots.AxesSubplot at 0x1c971640fc8>"
      ]
     },
     "execution_count": 43,
     "metadata": {},
     "output_type": "execute_result"
    },
    {
     "data": {
      "image/png": "[encoded data removed]",
      "text/plain": [
       "<Figure size 432x288 with 1 Axes>"
      ]
     },
     "metadata": {
      "needs_background": "light"
     },
     "output_type": "display_data"
    }
   ],
   "source": [
    "sns.distplot(final_data.spending) ## We can see y is bit positive skewed "
   ]
  },
  {
   "cell_type": "markdown",
   "metadata": {},
   "source": [
    "### QQ plot for normality check"
   ]
  },
  {
   "cell_type": "code",
   "execution_count": 44,
   "metadata": {},
   "outputs": [
    {
     "data": {
      "image/png": "[encoded data removed]",
      "text/plain": [
       "<Figure size 432x288 with 1 Axes>"
      ]
     },
     "metadata": {
      "needs_background": "light"
     },
     "output_type": "display_data"
    }
   ],
   "source": [
    "stats.probplot(final_data.spending, dist = 'norm',plot = plt)\n",
    "plt.show()"
   ]
  },
  {
   "cell_type": "code",
   "execution_count": 45,
   "metadata": {},
   "outputs": [
    {
     "data": {
      "text/plain": [
       "1.5894777645599651"
      ]
     },
     "execution_count": 45,
     "metadata": {},
     "output_type": "execute_result"
    }
   ],
   "source": [
    "final_data.spending.skew() ## Positively skewed "
   ]
  },
  {
   "cell_type": "markdown",
   "metadata": {},
   "source": [
    "## Log transformation"
   ]
  },
  {
   "cell_type": "code",
   "execution_count": 46,
   "metadata": {},
   "outputs": [
    {
     "data": {
      "text/plain": [
       "<matplotlib.axes._subplots.AxesSubplot at 0x1c9724f6808>"
      ]
     },
     "execution_count": 46,
     "metadata": {},
     "output_type": "execute_result"
    },
    {
     "data": {
      "image/png": "[encoded data removed]",
      "text/plain": [
       "<Figure size 432x288 with 1 Axes>"
      ]
     },
     "metadata": {
      "needs_background": "light"
     },
     "output_type": "display_data"
    }
   ],
   "source": [
    "sns.distplot(np.log(final_data.spending)) ## Close to normal distribution"
   ]
  },
  {
   "cell_type": "code",
   "execution_count": 47,
   "metadata": {},
   "outputs": [
    {
     "data": {
      "image/png": "[encoded data removed]",
      "text/plain": [
       "<Figure size 432x288 with 1 Axes>"
      ]
     },
     "metadata": {
      "needs_background": "light"
     },
     "output_type": "display_data"
    }
   ],
   "source": [
    "stats.probplot(np.log(final_data.spending), dist = 'norm',plot = plt) ## Now this is close to normal dist\n",
    "plt.show()"
   ]
  },
  {
   "cell_type": "code",
   "execution_count": 48,
   "metadata": {},
   "outputs": [
    {
     "data": {
      "text/plain": [
       "-0.33833191076128283"
      ]
     },
     "execution_count": 48,
     "metadata": {},
     "output_type": "execute_result"
    }
   ],
   "source": [
    "np.log(final_data.spending).skew() ## Close to normal dist"
   ]
  },
  {
   "cell_type": "markdown",
   "metadata": {},
   "source": [
    "### Here we have saved Y variable after log transformation"
   ]
  },
  {
   "cell_type": "code",
   "execution_count": 49,
   "metadata": {},
   "outputs": [],
   "source": [
    "final_data['log_spending'] = np.log(final_data.spending) "
   ]
  },
  {
   "cell_type": "code",
   "execution_count": 51,
   "metadata": {},
   "outputs": [],
   "source": [
    "Y_variable = final_data[['spending','log_spending']]"
   ]
  },
  {
   "cell_type": "code",
   "execution_count": 52,
   "metadata": {},
   "outputs": [],
   "source": [
    "Y_variable.to_csv('Y_variable.csv',header = True)"
   ]
  },
  {
   "cell_type": "markdown",
   "metadata": {},
   "source": [
    "## Assumption 2 -  Independent variable should have linear relationship with dependent variable"
   ]
  },
  {
   "cell_type": "code",
   "execution_count": 37,
   "metadata": {},
   "outputs": [
    {
     "data": {
      "text/plain": [
       "<seaborn.axisgrid.JointGrid at 0x1986a3655c8>"
      ]
     },
     "execution_count": 37,
     "metadata": {},
     "output_type": "execute_result"
    },
    {
     "data": {
      "image/png": "[encoded data removed]",
      "text/plain": [
       "<Figure size 432x432 with 3 Axes>"
      ]
     },
     "metadata": {
      "needs_background": "light"
     },
     "output_type": "display_data"
    }
   ],
   "source": [
    "sns.jointplot(final_data.agecat_6,final_data.log_spending)"
   ]
  },
  {
   "cell_type": "markdown",
   "metadata": {},
   "source": [
    "### Here we have renamed few variables"
   ]
  },
  {
   "cell_type": "code",
   "execution_count": 53,
   "metadata": {},
   "outputs": [],
   "source": [
    "final_data.rename({'townsize_2.0':'townsize_2','townsize_3.0':'town_size_3'},axis=1,inplace = True)"
   ]
  },
  {
   "cell_type": "code",
   "execution_count": 54,
   "metadata": {},
   "outputs": [],
   "source": [
    "final_data.rename({'townsize_4.0':'townsize_4','townsize_5.0':'town_size_5'},axis = 1,inplace = True)"
   ]
  },
  {
   "cell_type": "markdown",
   "metadata": {},
   "source": [
    "# CORELATION"
   ]
  },
  {
   "cell_type": "markdown",
   "metadata": {},
   "source": [
    "## Columns having corr value with respect to target variable greater then 0.1 or less than -0.075 have been saved, rest were removed.\n"
   ]
  },
  {
   "cell_type": "code",
   "execution_count": 55,
   "metadata": {},
   "outputs": [
    {
     "data": {
      "text/html": [
       "<div>\n",
       "<style scoped>\n",
       "    .dataframe tbody tr th:only-of-type {\n",
       "        vertical-align: middle;\n",
       "    }\n",
       "\n",
       "    .dataframe tbody tr th {\n",
       "        vertical-align: top;\n",
       "    }\n",
       "\n",
       "    .dataframe thead th {\n",
       "        text-align: right;\n",
       "    }\n",
       "</style>\n",
       "<table border=\"1\" class=\"dataframe\">\n",
       "  <thead>\n",
       "    <tr style=\"text-align: right;\">\n",
       "      <th></th>\n",
       "      <th>age</th>\n",
       "      <th>ed</th>\n",
       "      <th>income</th>\n",
       "      <th>lninc</th>\n",
       "      <th>debtinc</th>\n",
       "      <th>creddebt</th>\n",
       "      <th>lncreddebt</th>\n",
       "      <th>othdebt</th>\n",
       "      <th>lnothdebt</th>\n",
       "      <th>spoused</th>\n",
       "      <th>...</th>\n",
       "      <th>ownpda_1</th>\n",
       "      <th>ownpc_1</th>\n",
       "      <th>ownipod_1</th>\n",
       "      <th>owngame_1</th>\n",
       "      <th>ownfax_1</th>\n",
       "      <th>news_1</th>\n",
       "      <th>response_01_1</th>\n",
       "      <th>response_02_1</th>\n",
       "      <th>response_03_1</th>\n",
       "      <th>log_spending</th>\n",
       "    </tr>\n",
       "  </thead>\n",
       "  <tbody>\n",
       "    <tr>\n",
       "      <th>age</th>\n",
       "      <td>1.000000</td>\n",
       "      <td>-0.093966</td>\n",
       "      <td>0.208287</td>\n",
       "      <td>0.142984</td>\n",
       "      <td>0.039031</td>\n",
       "      <td>0.142401</td>\n",
       "      <td>0.108046</td>\n",
       "      <td>0.154514</td>\n",
       "      <td>0.127005</td>\n",
       "      <td>-0.002796</td>\n",
       "      <td>...</td>\n",
       "      <td>-0.074423</td>\n",
       "      <td>-0.133284</td>\n",
       "      <td>-0.217524</td>\n",
       "      <td>-0.235226</td>\n",
       "      <td>-0.042090</td>\n",
       "      <td>0.365204</td>\n",
       "      <td>0.015140</td>\n",
       "      <td>0.013175</td>\n",
       "      <td>-0.026231</td>\n",
       "      <td>0.005798</td>\n",
       "    </tr>\n",
       "    <tr>\n",
       "      <th>ed</th>\n",
       "      <td>-0.093966</td>\n",
       "      <td>1.000000</td>\n",
       "      <td>0.186802</td>\n",
       "      <td>0.206332</td>\n",
       "      <td>0.013871</td>\n",
       "      <td>0.122362</td>\n",
       "      <td>0.129920</td>\n",
       "      <td>0.135869</td>\n",
       "      <td>0.154458</td>\n",
       "      <td>0.113928</td>\n",
       "      <td>...</td>\n",
       "      <td>0.300016</td>\n",
       "      <td>0.435623</td>\n",
       "      <td>0.369831</td>\n",
       "      <td>0.377019</td>\n",
       "      <td>0.276163</td>\n",
       "      <td>-0.073510</td>\n",
       "      <td>-0.117333</td>\n",
       "      <td>0.073750</td>\n",
       "      <td>0.107912</td>\n",
       "      <td>0.098166</td>\n",
       "    </tr>\n",
       "    <tr>\n",
       "      <th>income</th>\n",
       "      <td>0.208287</td>\n",
       "      <td>0.186802</td>\n",
       "      <td>1.000000</td>\n",
       "      <td>0.898175</td>\n",
       "      <td>0.011586</td>\n",
       "      <td>0.627577</td>\n",
       "      <td>0.531252</td>\n",
       "      <td>0.696227</td>\n",
       "      <td>0.597842</td>\n",
       "      <td>0.035491</td>\n",
       "      <td>...</td>\n",
       "      <td>0.145061</td>\n",
       "      <td>0.049270</td>\n",
       "      <td>0.032922</td>\n",
       "      <td>0.040452</td>\n",
       "      <td>0.149388</td>\n",
       "      <td>0.138730</td>\n",
       "      <td>-0.002440</td>\n",
       "      <td>0.062896</td>\n",
       "      <td>0.053011</td>\n",
       "      <td>0.355694</td>\n",
       "    </tr>\n",
       "    <tr>\n",
       "      <th>lninc</th>\n",
       "      <td>0.142984</td>\n",
       "      <td>0.206332</td>\n",
       "      <td>0.898175</td>\n",
       "      <td>1.000000</td>\n",
       "      <td>0.013177</td>\n",
       "      <td>0.566972</td>\n",
       "      <td>0.583808</td>\n",
       "      <td>0.636801</td>\n",
       "      <td>0.666061</td>\n",
       "      <td>0.045417</td>\n",
       "      <td>...</td>\n",
       "      <td>0.155503</td>\n",
       "      <td>0.057608</td>\n",
       "      <td>0.061468</td>\n",
       "      <td>0.060089</td>\n",
       "      <td>0.146191</td>\n",
       "      <td>0.108047</td>\n",
       "      <td>-0.001206</td>\n",
       "      <td>0.061287</td>\n",
       "      <td>0.060666</td>\n",
       "      <td>0.405218</td>\n",
       "    </tr>\n",
       "    <tr>\n",
       "      <th>debtinc</th>\n",
       "      <td>0.039031</td>\n",
       "      <td>0.013871</td>\n",
       "      <td>0.011586</td>\n",
       "      <td>0.013177</td>\n",
       "      <td>1.000000</td>\n",
       "      <td>0.462599</td>\n",
       "      <td>0.552941</td>\n",
       "      <td>0.526967</td>\n",
       "      <td>0.628006</td>\n",
       "      <td>-0.040150</td>\n",
       "      <td>...</td>\n",
       "      <td>0.000553</td>\n",
       "      <td>0.008897</td>\n",
       "      <td>0.014713</td>\n",
       "      <td>0.005524</td>\n",
       "      <td>0.003251</td>\n",
       "      <td>0.005278</td>\n",
       "      <td>0.006831</td>\n",
       "      <td>0.003684</td>\n",
       "      <td>0.019776</td>\n",
       "      <td>0.015695</td>\n",
       "    </tr>\n",
       "    <tr>\n",
       "      <th>...</th>\n",
       "      <td>...</td>\n",
       "      <td>...</td>\n",
       "      <td>...</td>\n",
       "      <td>...</td>\n",
       "      <td>...</td>\n",
       "      <td>...</td>\n",
       "      <td>...</td>\n",
       "      <td>...</td>\n",
       "      <td>...</td>\n",
       "      <td>...</td>\n",
       "      <td>...</td>\n",
       "      <td>...</td>\n",
       "      <td>...</td>\n",
       "      <td>...</td>\n",
       "      <td>...</td>\n",
       "      <td>...</td>\n",
       "      <td>...</td>\n",
       "      <td>...</td>\n",
       "      <td>...</td>\n",
       "      <td>...</td>\n",
       "      <td>...</td>\n",
       "    </tr>\n",
       "    <tr>\n",
       "      <th>news_1</th>\n",
       "      <td>0.365204</td>\n",
       "      <td>-0.073510</td>\n",
       "      <td>0.138730</td>\n",
       "      <td>0.108047</td>\n",
       "      <td>0.005278</td>\n",
       "      <td>0.084178</td>\n",
       "      <td>0.058396</td>\n",
       "      <td>0.103931</td>\n",
       "      <td>0.076190</td>\n",
       "      <td>0.090556</td>\n",
       "      <td>...</td>\n",
       "      <td>-0.037949</td>\n",
       "      <td>-0.061753</td>\n",
       "      <td>-0.099716</td>\n",
       "      <td>-0.089811</td>\n",
       "      <td>-0.024573</td>\n",
       "      <td>1.000000</td>\n",
       "      <td>0.020919</td>\n",
       "      <td>0.030136</td>\n",
       "      <td>-0.011148</td>\n",
       "      <td>0.028816</td>\n",
       "    </tr>\n",
       "    <tr>\n",
       "      <th>response_01_1</th>\n",
       "      <td>0.015140</td>\n",
       "      <td>-0.117333</td>\n",
       "      <td>-0.002440</td>\n",
       "      <td>-0.001206</td>\n",
       "      <td>0.006831</td>\n",
       "      <td>0.000131</td>\n",
       "      <td>-0.002961</td>\n",
       "      <td>0.008473</td>\n",
       "      <td>0.007010</td>\n",
       "      <td>-0.007956</td>\n",
       "      <td>...</td>\n",
       "      <td>-0.023472</td>\n",
       "      <td>-0.107194</td>\n",
       "      <td>-0.069870</td>\n",
       "      <td>-0.096176</td>\n",
       "      <td>-0.014592</td>\n",
       "      <td>0.020919</td>\n",
       "      <td>1.000000</td>\n",
       "      <td>-0.015601</td>\n",
       "      <td>-0.018781</td>\n",
       "      <td>-0.008874</td>\n",
       "    </tr>\n",
       "    <tr>\n",
       "      <th>response_02_1</th>\n",
       "      <td>0.013175</td>\n",
       "      <td>0.073750</td>\n",
       "      <td>0.062896</td>\n",
       "      <td>0.061287</td>\n",
       "      <td>0.003684</td>\n",
       "      <td>0.029992</td>\n",
       "      <td>0.025132</td>\n",
       "      <td>0.052684</td>\n",
       "      <td>0.049590</td>\n",
       "      <td>0.032120</td>\n",
       "      <td>...</td>\n",
       "      <td>0.021608</td>\n",
       "      <td>0.039891</td>\n",
       "      <td>0.015485</td>\n",
       "      <td>0.011744</td>\n",
       "      <td>0.032549</td>\n",
       "      <td>0.030136</td>\n",
       "      <td>-0.015601</td>\n",
       "      <td>1.000000</td>\n",
       "      <td>0.028266</td>\n",
       "      <td>0.027171</td>\n",
       "    </tr>\n",
       "    <tr>\n",
       "      <th>response_03_1</th>\n",
       "      <td>-0.026231</td>\n",
       "      <td>0.107912</td>\n",
       "      <td>0.053011</td>\n",
       "      <td>0.060666</td>\n",
       "      <td>0.019776</td>\n",
       "      <td>0.040907</td>\n",
       "      <td>0.054076</td>\n",
       "      <td>0.041894</td>\n",
       "      <td>0.045314</td>\n",
       "      <td>0.001544</td>\n",
       "      <td>...</td>\n",
       "      <td>0.077116</td>\n",
       "      <td>0.089388</td>\n",
       "      <td>0.072791</td>\n",
       "      <td>0.094278</td>\n",
       "      <td>0.093360</td>\n",
       "      <td>-0.011148</td>\n",
       "      <td>-0.018781</td>\n",
       "      <td>0.028266</td>\n",
       "      <td>1.000000</td>\n",
       "      <td>0.061761</td>\n",
       "    </tr>\n",
       "    <tr>\n",
       "      <th>log_spending</th>\n",
       "      <td>0.005798</td>\n",
       "      <td>0.098166</td>\n",
       "      <td>0.355694</td>\n",
       "      <td>0.405218</td>\n",
       "      <td>0.015695</td>\n",
       "      <td>0.232935</td>\n",
       "      <td>0.252264</td>\n",
       "      <td>0.260581</td>\n",
       "      <td>0.273848</td>\n",
       "      <td>0.030032</td>\n",
       "      <td>...</td>\n",
       "      <td>0.069264</td>\n",
       "      <td>0.044011</td>\n",
       "      <td>0.041506</td>\n",
       "      <td>0.042280</td>\n",
       "      <td>0.062556</td>\n",
       "      <td>0.028816</td>\n",
       "      <td>-0.008874</td>\n",
       "      <td>0.027171</td>\n",
       "      <td>0.061761</td>\n",
       "      <td>1.000000</td>\n",
       "    </tr>\n",
       "  </tbody>\n",
       "</table>\n",
       "<p>395 rows × 395 columns</p>\n",
       "</div>"
      ],
      "text/plain": [
       "                    age        ed    income     lninc   debtinc  creddebt  \\\n",
       "age            1.000000 -0.093966  0.208287  0.142984  0.039031  0.142401   \n",
       "ed            -0.093966  1.000000  0.186802  0.206332  0.013871  0.122362   \n",
       "income         0.208287  0.186802  1.000000  0.898175  0.011586  0.627577   \n",
       "lninc          0.142984  0.206332  0.898175  1.000000  0.013177  0.566972   \n",
       "debtinc        0.039031  0.013871  0.011586  0.013177  1.000000  0.462599   \n",
       "...                 ...       ...       ...       ...       ...       ...   \n",
       "news_1         0.365204 -0.073510  0.138730  0.108047  0.005278  0.084178   \n",
       "response_01_1  0.015140 -0.117333 -0.002440 -0.001206  0.006831  0.000131   \n",
       "response_02_1  0.013175  0.073750  0.062896  0.061287  0.003684  0.029992   \n",
       "response_03_1 -0.026231  0.107912  0.053011  0.060666  0.019776  0.040907   \n",
       "log_spending   0.005798  0.098166  0.355694  0.405218  0.015695  0.232935   \n",
       "\n",
       "               lncreddebt   othdebt  lnothdebt   spoused  ...  ownpda_1  \\\n",
       "age              0.108046  0.154514   0.127005 -0.002796  ... -0.074423   \n",
       "ed               0.129920  0.135869   0.154458  0.113928  ...  0.300016   \n",
       "income           0.531252  0.696227   0.597842  0.035491  ...  0.145061   \n",
       "lninc            0.583808  0.636801   0.666061  0.045417  ...  0.155503   \n",
       "debtinc          0.552941  0.526967   0.628006 -0.040150  ...  0.000553   \n",
       "...                   ...       ...        ...       ...  ...       ...   \n",
       "news_1           0.058396  0.103931   0.076190  0.090556  ... -0.037949   \n",
       "response_01_1   -0.002961  0.008473   0.007010 -0.007956  ... -0.023472   \n",
       "response_02_1    0.025132  0.052684   0.049590  0.032120  ...  0.021608   \n",
       "response_03_1    0.054076  0.041894   0.045314  0.001544  ...  0.077116   \n",
       "log_spending     0.252264  0.260581   0.273848  0.030032  ...  0.069264   \n",
       "\n",
       "                ownpc_1  ownipod_1  owngame_1  ownfax_1    news_1  \\\n",
       "age           -0.133284  -0.217524  -0.235226 -0.042090  0.365204   \n",
       "ed             0.435623   0.369831   0.377019  0.276163 -0.073510   \n",
       "income         0.049270   0.032922   0.040452  0.149388  0.138730   \n",
       "lninc          0.057608   0.061468   0.060089  0.146191  0.108047   \n",
       "debtinc        0.008897   0.014713   0.005524  0.003251  0.005278   \n",
       "...                 ...        ...        ...       ...       ...   \n",
       "news_1        -0.061753  -0.099716  -0.089811 -0.024573  1.000000   \n",
       "response_01_1 -0.107194  -0.069870  -0.096176 -0.014592  0.020919   \n",
       "response_02_1  0.039891   0.015485   0.011744  0.032549  0.030136   \n",
       "response_03_1  0.089388   0.072791   0.094278  0.093360 -0.011148   \n",
       "log_spending   0.044011   0.041506   0.042280  0.062556  0.028816   \n",
       "\n",
       "               response_01_1  response_02_1  response_03_1  log_spending  \n",
       "age                 0.015140       0.013175      -0.026231      0.005798  \n",
       "ed                 -0.117333       0.073750       0.107912      0.098166  \n",
       "income             -0.002440       0.062896       0.053011      0.355694  \n",
       "lninc              -0.001206       0.061287       0.060666      0.405218  \n",
       "debtinc             0.006831       0.003684       0.019776      0.015695  \n",
       "...                      ...            ...            ...           ...  \n",
       "news_1              0.020919       0.030136      -0.011148      0.028816  \n",
       "response_01_1       1.000000      -0.015601      -0.018781     -0.008874  \n",
       "response_02_1      -0.015601       1.000000       0.028266      0.027171  \n",
       "response_03_1      -0.018781       0.028266       1.000000      0.061761  \n",
       "log_spending       -0.008874       0.027171       0.061761      1.000000  \n",
       "\n",
       "[395 rows x 395 columns]"
      ]
     },
     "execution_count": 55,
     "metadata": {},
     "output_type": "execute_result"
    }
   ],
   "source": [
    "cor = final_data.corr()\n",
    "cor"
   ]
  },
  {
   "cell_type": "code",
   "execution_count": 56,
   "metadata": {},
   "outputs": [],
   "source": [
    "cor.to_csv('cor.csv',header = True)"
   ]
  },
  {
   "cell_type": "code",
   "execution_count": 57,
   "metadata": {},
   "outputs": [
    {
     "data": {
      "text/html": [
       "<div>\n",
       "<style scoped>\n",
       "    .dataframe tbody tr th:only-of-type {\n",
       "        vertical-align: middle;\n",
       "    }\n",
       "\n",
       "    .dataframe tbody tr th {\n",
       "        vertical-align: top;\n",
       "    }\n",
       "\n",
       "    .dataframe thead th {\n",
       "        text-align: right;\n",
       "    }\n",
       "</style>\n",
       "<table border=\"1\" class=\"dataframe\">\n",
       "  <thead>\n",
       "    <tr style=\"text-align: right;\">\n",
       "      <th></th>\n",
       "      <th>income</th>\n",
       "      <th>lninc</th>\n",
       "      <th>creddebt</th>\n",
       "      <th>lncreddebt</th>\n",
       "      <th>othdebt</th>\n",
       "      <th>lnothdebt</th>\n",
       "      <th>carvalue</th>\n",
       "      <th>cardspent</th>\n",
       "      <th>card2spent</th>\n",
       "      <th>spending</th>\n",
       "      <th>...</th>\n",
       "      <th>owncd_1</th>\n",
       "      <th>log_spending</th>\n",
       "      <th>gender_1</th>\n",
       "      <th>agecat_6</th>\n",
       "      <th>retire_1</th>\n",
       "      <th>carown_0</th>\n",
       "      <th>carcatvalue_1</th>\n",
       "      <th>card_2</th>\n",
       "      <th>card_3</th>\n",
       "      <th>card2_3</th>\n",
       "    </tr>\n",
       "  </thead>\n",
       "  <tbody>\n",
       "    <tr>\n",
       "      <th>0</th>\n",
       "      <td>31.0</td>\n",
       "      <td>3.433987</td>\n",
       "      <td>1.200909</td>\n",
       "      <td>0.183079</td>\n",
       "      <td>2.240091</td>\n",
       "      <td>0.806516</td>\n",
       "      <td>14.30000</td>\n",
       "      <td>81.66</td>\n",
       "      <td>67.80</td>\n",
       "      <td>149.46</td>\n",
       "      <td>...</td>\n",
       "      <td>0</td>\n",
       "      <td>5.007029</td>\n",
       "      <td>1</td>\n",
       "      <td>0</td>\n",
       "      <td>0</td>\n",
       "      <td>0</td>\n",
       "      <td>1</td>\n",
       "      <td>0</td>\n",
       "      <td>1</td>\n",
       "      <td>0</td>\n",
       "    </tr>\n",
       "    <tr>\n",
       "      <th>1</th>\n",
       "      <td>15.0</td>\n",
       "      <td>2.708050</td>\n",
       "      <td>1.222020</td>\n",
       "      <td>0.200505</td>\n",
       "      <td>1.567980</td>\n",
       "      <td>0.449788</td>\n",
       "      <td>6.80000</td>\n",
       "      <td>42.60</td>\n",
       "      <td>34.94</td>\n",
       "      <td>77.54</td>\n",
       "      <td>...</td>\n",
       "      <td>1</td>\n",
       "      <td>4.350794</td>\n",
       "      <td>0</td>\n",
       "      <td>0</td>\n",
       "      <td>0</td>\n",
       "      <td>0</td>\n",
       "      <td>1</td>\n",
       "      <td>1</td>\n",
       "      <td>0</td>\n",
       "      <td>0</td>\n",
       "    </tr>\n",
       "    <tr>\n",
       "      <th>2</th>\n",
       "      <td>35.0</td>\n",
       "      <td>3.555348</td>\n",
       "      <td>0.928620</td>\n",
       "      <td>-0.074056</td>\n",
       "      <td>2.536380</td>\n",
       "      <td>0.930738</td>\n",
       "      <td>18.80000</td>\n",
       "      <td>184.22</td>\n",
       "      <td>175.75</td>\n",
       "      <td>359.97</td>\n",
       "      <td>...</td>\n",
       "      <td>1</td>\n",
       "      <td>5.886021</td>\n",
       "      <td>1</td>\n",
       "      <td>1</td>\n",
       "      <td>0</td>\n",
       "      <td>0</td>\n",
       "      <td>1</td>\n",
       "      <td>1</td>\n",
       "      <td>0</td>\n",
       "      <td>0</td>\n",
       "    </tr>\n",
       "    <tr>\n",
       "      <th>3</th>\n",
       "      <td>20.0</td>\n",
       "      <td>2.995732</td>\n",
       "      <td>0.033166</td>\n",
       "      <td>-3.401599</td>\n",
       "      <td>1.117200</td>\n",
       "      <td>0.110826</td>\n",
       "      <td>8.70000</td>\n",
       "      <td>340.99</td>\n",
       "      <td>18.42</td>\n",
       "      <td>359.41</td>\n",
       "      <td>...</td>\n",
       "      <td>1</td>\n",
       "      <td>5.884464</td>\n",
       "      <td>0</td>\n",
       "      <td>0</td>\n",
       "      <td>0</td>\n",
       "      <td>0</td>\n",
       "      <td>1</td>\n",
       "      <td>1</td>\n",
       "      <td>0</td>\n",
       "      <td>1</td>\n",
       "    </tr>\n",
       "    <tr>\n",
       "      <th>4</th>\n",
       "      <td>23.0</td>\n",
       "      <td>3.135494</td>\n",
       "      <td>0.214659</td>\n",
       "      <td>-1.538705</td>\n",
       "      <td>0.176341</td>\n",
       "      <td>-1.735336</td>\n",
       "      <td>10.60000</td>\n",
       "      <td>255.10</td>\n",
       "      <td>252.73</td>\n",
       "      <td>507.83</td>\n",
       "      <td>...</td>\n",
       "      <td>1</td>\n",
       "      <td>6.230147</td>\n",
       "      <td>0</td>\n",
       "      <td>0</td>\n",
       "      <td>0</td>\n",
       "      <td>1</td>\n",
       "      <td>1</td>\n",
       "      <td>0</td>\n",
       "      <td>0</td>\n",
       "      <td>0</td>\n",
       "    </tr>\n",
       "    <tr>\n",
       "      <th>...</th>\n",
       "      <td>...</td>\n",
       "      <td>...</td>\n",
       "      <td>...</td>\n",
       "      <td>...</td>\n",
       "      <td>...</td>\n",
       "      <td>...</td>\n",
       "      <td>...</td>\n",
       "      <td>...</td>\n",
       "      <td>...</td>\n",
       "      <td>...</td>\n",
       "      <td>...</td>\n",
       "      <td>...</td>\n",
       "      <td>...</td>\n",
       "      <td>...</td>\n",
       "      <td>...</td>\n",
       "      <td>...</td>\n",
       "      <td>...</td>\n",
       "      <td>...</td>\n",
       "      <td>...</td>\n",
       "      <td>...</td>\n",
       "      <td>...</td>\n",
       "    </tr>\n",
       "    <tr>\n",
       "      <th>4995</th>\n",
       "      <td>196.0</td>\n",
       "      <td>5.278115</td>\n",
       "      <td>7.934080</td>\n",
       "      <td>2.071167</td>\n",
       "      <td>7.745920</td>\n",
       "      <td>2.047166</td>\n",
       "      <td>64.50000</td>\n",
       "      <td>872.11</td>\n",
       "      <td>553.56</td>\n",
       "      <td>1425.67</td>\n",
       "      <td>...</td>\n",
       "      <td>1</td>\n",
       "      <td>7.262397</td>\n",
       "      <td>0</td>\n",
       "      <td>1</td>\n",
       "      <td>0</td>\n",
       "      <td>0</td>\n",
       "      <td>0</td>\n",
       "      <td>0</td>\n",
       "      <td>0</td>\n",
       "      <td>1</td>\n",
       "    </tr>\n",
       "    <tr>\n",
       "      <th>4996</th>\n",
       "      <td>83.0</td>\n",
       "      <td>4.418841</td>\n",
       "      <td>3.336600</td>\n",
       "      <td>1.204952</td>\n",
       "      <td>9.113400</td>\n",
       "      <td>2.209746</td>\n",
       "      <td>40.00000</td>\n",
       "      <td>210.81</td>\n",
       "      <td>155.54</td>\n",
       "      <td>366.35</td>\n",
       "      <td>...</td>\n",
       "      <td>1</td>\n",
       "      <td>5.903589</td>\n",
       "      <td>0</td>\n",
       "      <td>0</td>\n",
       "      <td>0</td>\n",
       "      <td>0</td>\n",
       "      <td>0</td>\n",
       "      <td>0</td>\n",
       "      <td>1</td>\n",
       "      <td>0</td>\n",
       "    </tr>\n",
       "    <tr>\n",
       "      <th>4997</th>\n",
       "      <td>108.0</td>\n",
       "      <td>4.682131</td>\n",
       "      <td>3.557520</td>\n",
       "      <td>1.269064</td>\n",
       "      <td>8.106480</td>\n",
       "      <td>2.092664</td>\n",
       "      <td>53.60000</td>\n",
       "      <td>884.08</td>\n",
       "      <td>643.67</td>\n",
       "      <td>1527.75</td>\n",
       "      <td>...</td>\n",
       "      <td>1</td>\n",
       "      <td>7.331551</td>\n",
       "      <td>0</td>\n",
       "      <td>1</td>\n",
       "      <td>0</td>\n",
       "      <td>0</td>\n",
       "      <td>0</td>\n",
       "      <td>0</td>\n",
       "      <td>0</td>\n",
       "      <td>0</td>\n",
       "    </tr>\n",
       "    <tr>\n",
       "      <th>4998</th>\n",
       "      <td>189.0</td>\n",
       "      <td>5.241747</td>\n",
       "      <td>5.021352</td>\n",
       "      <td>1.613699</td>\n",
       "      <td>15.390648</td>\n",
       "      <td>2.733760</td>\n",
       "      <td>92.00001</td>\n",
       "      <td>381.35</td>\n",
       "      <td>371.60</td>\n",
       "      <td>752.95</td>\n",
       "      <td>...</td>\n",
       "      <td>1</td>\n",
       "      <td>6.623999</td>\n",
       "      <td>0</td>\n",
       "      <td>0</td>\n",
       "      <td>0</td>\n",
       "      <td>0</td>\n",
       "      <td>0</td>\n",
       "      <td>0</td>\n",
       "      <td>1</td>\n",
       "      <td>0</td>\n",
       "    </tr>\n",
       "    <tr>\n",
       "      <th>4999</th>\n",
       "      <td>77.0</td>\n",
       "      <td>4.343805</td>\n",
       "      <td>2.267650</td>\n",
       "      <td>0.818744</td>\n",
       "      <td>2.506350</td>\n",
       "      <td>0.918828</td>\n",
       "      <td>49.30000</td>\n",
       "      <td>269.72</td>\n",
       "      <td>138.14</td>\n",
       "      <td>407.86</td>\n",
       "      <td>...</td>\n",
       "      <td>1</td>\n",
       "      <td>6.010924</td>\n",
       "      <td>1</td>\n",
       "      <td>0</td>\n",
       "      <td>0</td>\n",
       "      <td>0</td>\n",
       "      <td>0</td>\n",
       "      <td>0</td>\n",
       "      <td>1</td>\n",
       "      <td>0</td>\n",
       "    </tr>\n",
       "  </tbody>\n",
       "</table>\n",
       "<p>5000 rows × 29 columns</p>\n",
       "</div>"
      ],
      "text/plain": [
       "      income     lninc  creddebt  lncreddebt    othdebt  lnothdebt  carvalue  \\\n",
       "0       31.0  3.433987  1.200909    0.183079   2.240091   0.806516  14.30000   \n",
       "1       15.0  2.708050  1.222020    0.200505   1.567980   0.449788   6.80000   \n",
       "2       35.0  3.555348  0.928620   -0.074056   2.536380   0.930738  18.80000   \n",
       "3       20.0  2.995732  0.033166   -3.401599   1.117200   0.110826   8.70000   \n",
       "4       23.0  3.135494  0.214659   -1.538705   0.176341  -1.735336  10.60000   \n",
       "...      ...       ...       ...         ...        ...        ...       ...   \n",
       "4995   196.0  5.278115  7.934080    2.071167   7.745920   2.047166  64.50000   \n",
       "4996    83.0  4.418841  3.336600    1.204952   9.113400   2.209746  40.00000   \n",
       "4997   108.0  4.682131  3.557520    1.269064   8.106480   2.092664  53.60000   \n",
       "4998   189.0  5.241747  5.021352    1.613699  15.390648   2.733760  92.00001   \n",
       "4999    77.0  4.343805  2.267650    0.818744   2.506350   0.918828  49.30000   \n",
       "\n",
       "      cardspent  card2spent  spending  ...  owncd_1  log_spending  gender_1  \\\n",
       "0         81.66       67.80    149.46  ...        0      5.007029         1   \n",
       "1         42.60       34.94     77.54  ...        1      4.350794         0   \n",
       "2        184.22      175.75    359.97  ...        1      5.886021         1   \n",
       "3        340.99       18.42    359.41  ...        1      5.884464         0   \n",
       "4        255.10      252.73    507.83  ...        1      6.230147         0   \n",
       "...         ...         ...       ...  ...      ...           ...       ...   \n",
       "4995     872.11      553.56   1425.67  ...        1      7.262397         0   \n",
       "4996     210.81      155.54    366.35  ...        1      5.903589         0   \n",
       "4997     884.08      643.67   1527.75  ...        1      7.331551         0   \n",
       "4998     381.35      371.60    752.95  ...        1      6.623999         0   \n",
       "4999     269.72      138.14    407.86  ...        1      6.010924         1   \n",
       "\n",
       "      agecat_6  retire_1  carown_0  carcatvalue_1  card_2  card_3  card2_3  \n",
       "0            0         0         0              1       0       1        0  \n",
       "1            0         0         0              1       1       0        0  \n",
       "2            1         0         0              1       1       0        0  \n",
       "3            0         0         0              1       1       0        1  \n",
       "4            0         0         1              1       0       0        0  \n",
       "...        ...       ...       ...            ...     ...     ...      ...  \n",
       "4995         1         0         0              0       0       0        1  \n",
       "4996         0         0         0              0       0       1        0  \n",
       "4997         1         0         0              0       0       0        0  \n",
       "4998         0         0         0              0       0       1        0  \n",
       "4999         0         0         0              0       0       1        0  \n",
       "\n",
       "[5000 rows x 29 columns]"
      ]
     },
     "execution_count": 57,
     "metadata": {},
     "output_type": "execute_result"
    }
   ],
   "source": [
    "cor = pd.DataFrame(cor['log_spending'])\n",
    "c1 = cor[cor['log_spending'] > 0.1]\n",
    "c2 = cor[cor['log_spending'] < -0.075]\n",
    "c3 = pd.concat([c1,c2],axis=0)\n",
    "c3.reset_index(inplace=True)\n",
    "c3.columns = ['col','value']\n",
    "credit_new = final_data[c3.col]\n",
    "credit_new"
   ]
  },
  {
   "cell_type": "markdown",
   "metadata": {},
   "source": [
    "# F_REGRESSION"
   ]
  },
  {
   "cell_type": "code",
   "execution_count": 58,
   "metadata": {},
   "outputs": [],
   "source": [
    "features=credit_new.columns.difference(['log_spending'])"
   ]
  },
  {
   "cell_type": "code",
   "execution_count": 59,
   "metadata": {},
   "outputs": [],
   "source": [
    "variables=final_data[features]\n",
    "target=final_data.log_spending"
   ]
  },
  {
   "cell_type": "code",
   "execution_count": 60,
   "metadata": {},
   "outputs": [],
   "source": [
    "col_ser=pd.Series(variables.columns)"
   ]
  },
  {
   "cell_type": "code",
   "execution_count": 61,
   "metadata": {},
   "outputs": [],
   "source": [
    "# do the f_regression\n",
    "F_values, p_values  = f_regression( variables, target )\n",
    "# combine the output in dataframe\n",
    "F_regression_op = pd.DataFrame([col_ser, F_values.round(2), p_values.round()]).T\n",
    "\n",
    "# add the column names\n",
    "F_regression_op.columns = ['Features', 'F_values', 'p_values', ]"
   ]
  },
  {
   "cell_type": "code",
   "execution_count": 62,
   "metadata": {},
   "outputs": [
    {
     "data": {
      "text/html": [
       "<div>\n",
       "<style scoped>\n",
       "    .dataframe tbody tr th:only-of-type {\n",
       "        vertical-align: middle;\n",
       "    }\n",
       "\n",
       "    .dataframe tbody tr th {\n",
       "        vertical-align: top;\n",
       "    }\n",
       "\n",
       "    .dataframe thead th {\n",
       "        text-align: right;\n",
       "    }\n",
       "</style>\n",
       "<table border=\"1\" class=\"dataframe\">\n",
       "  <thead>\n",
       "    <tr style=\"text-align: right;\">\n",
       "      <th></th>\n",
       "      <th>Features</th>\n",
       "      <th>F_values</th>\n",
       "      <th>p_values</th>\n",
       "    </tr>\n",
       "  </thead>\n",
       "  <tbody>\n",
       "    <tr>\n",
       "      <th>0</th>\n",
       "      <td>agecat_5</td>\n",
       "      <td>57.9</td>\n",
       "      <td>0</td>\n",
       "    </tr>\n",
       "    <tr>\n",
       "      <th>1</th>\n",
       "      <td>agecat_6</td>\n",
       "      <td>47.17</td>\n",
       "      <td>0</td>\n",
       "    </tr>\n",
       "    <tr>\n",
       "      <th>2</th>\n",
       "      <td>carcatvalue_1</td>\n",
       "      <td>438.28</td>\n",
       "      <td>0</td>\n",
       "    </tr>\n",
       "    <tr>\n",
       "      <th>3</th>\n",
       "      <td>carcatvalue_3</td>\n",
       "      <td>361.75</td>\n",
       "      <td>0</td>\n",
       "    </tr>\n",
       "    <tr>\n",
       "      <th>4</th>\n",
       "      <td>card2_3</td>\n",
       "      <td>38.55</td>\n",
       "      <td>0</td>\n",
       "    </tr>\n",
       "    <tr>\n",
       "      <th>5</th>\n",
       "      <td>card2spent</td>\n",
       "      <td>6786.69</td>\n",
       "      <td>0</td>\n",
       "    </tr>\n",
       "    <tr>\n",
       "      <th>6</th>\n",
       "      <td>card_2</td>\n",
       "      <td>72.73</td>\n",
       "      <td>0</td>\n",
       "    </tr>\n",
       "    <tr>\n",
       "      <th>7</th>\n",
       "      <td>card_3</td>\n",
       "      <td>60.69</td>\n",
       "      <td>0</td>\n",
       "    </tr>\n",
       "    <tr>\n",
       "      <th>8</th>\n",
       "      <td>cardspent</td>\n",
       "      <td>13556.3</td>\n",
       "      <td>0</td>\n",
       "    </tr>\n",
       "    <tr>\n",
       "      <th>9</th>\n",
       "      <td>carown_0</td>\n",
       "      <td>135.37</td>\n",
       "      <td>0</td>\n",
       "    </tr>\n",
       "    <tr>\n",
       "      <th>10</th>\n",
       "      <td>carown_1</td>\n",
       "      <td>77.54</td>\n",
       "      <td>0</td>\n",
       "    </tr>\n",
       "    <tr>\n",
       "      <th>11</th>\n",
       "      <td>carvalue</td>\n",
       "      <td>518.48</td>\n",
       "      <td>0</td>\n",
       "    </tr>\n",
       "    <tr>\n",
       "      <th>12</th>\n",
       "      <td>creddebt</td>\n",
       "      <td>286.74</td>\n",
       "      <td>0</td>\n",
       "    </tr>\n",
       "    <tr>\n",
       "      <th>13</th>\n",
       "      <td>gender_1</td>\n",
       "      <td>31.21</td>\n",
       "      <td>0</td>\n",
       "    </tr>\n",
       "    <tr>\n",
       "      <th>14</th>\n",
       "      <td>inccat_3</td>\n",
       "      <td>59.23</td>\n",
       "      <td>0</td>\n",
       "    </tr>\n",
       "    <tr>\n",
       "      <th>15</th>\n",
       "      <td>inccat_4</td>\n",
       "      <td>158.22</td>\n",
       "      <td>0</td>\n",
       "    </tr>\n",
       "    <tr>\n",
       "      <th>16</th>\n",
       "      <td>inccat_5</td>\n",
       "      <td>259.88</td>\n",
       "      <td>0</td>\n",
       "    </tr>\n",
       "    <tr>\n",
       "      <th>17</th>\n",
       "      <td>income</td>\n",
       "      <td>723.93</td>\n",
       "      <td>0</td>\n",
       "    </tr>\n",
       "    <tr>\n",
       "      <th>18</th>\n",
       "      <td>lncreddebt</td>\n",
       "      <td>339.67</td>\n",
       "      <td>0</td>\n",
       "    </tr>\n",
       "    <tr>\n",
       "      <th>19</th>\n",
       "      <td>lninc</td>\n",
       "      <td>981.91</td>\n",
       "      <td>0</td>\n",
       "    </tr>\n",
       "    <tr>\n",
       "      <th>20</th>\n",
       "      <td>lnothdebt</td>\n",
       "      <td>405.2</td>\n",
       "      <td>0</td>\n",
       "    </tr>\n",
       "    <tr>\n",
       "      <th>21</th>\n",
       "      <td>othdebt</td>\n",
       "      <td>364.1</td>\n",
       "      <td>0</td>\n",
       "    </tr>\n",
       "    <tr>\n",
       "      <th>22</th>\n",
       "      <td>owncd_1</td>\n",
       "      <td>112.5</td>\n",
       "      <td>0</td>\n",
       "    </tr>\n",
       "    <tr>\n",
       "      <th>23</th>\n",
       "      <td>owndvd_1</td>\n",
       "      <td>138.96</td>\n",
       "      <td>0</td>\n",
       "    </tr>\n",
       "    <tr>\n",
       "      <th>24</th>\n",
       "      <td>ownvcr_1</td>\n",
       "      <td>127.42</td>\n",
       "      <td>0</td>\n",
       "    </tr>\n",
       "    <tr>\n",
       "      <th>25</th>\n",
       "      <td>reason_2</td>\n",
       "      <td>113.48</td>\n",
       "      <td>0</td>\n",
       "    </tr>\n",
       "    <tr>\n",
       "      <th>26</th>\n",
       "      <td>retire_1</td>\n",
       "      <td>207.42</td>\n",
       "      <td>0</td>\n",
       "    </tr>\n",
       "    <tr>\n",
       "      <th>27</th>\n",
       "      <td>spending</td>\n",
       "      <td>23805.7</td>\n",
       "      <td>0</td>\n",
       "    </tr>\n",
       "  </tbody>\n",
       "</table>\n",
       "</div>"
      ],
      "text/plain": [
       "         Features F_values p_values\n",
       "0        agecat_5     57.9        0\n",
       "1        agecat_6    47.17        0\n",
       "2   carcatvalue_1   438.28        0\n",
       "3   carcatvalue_3   361.75        0\n",
       "4         card2_3    38.55        0\n",
       "5      card2spent  6786.69        0\n",
       "6          card_2    72.73        0\n",
       "7          card_3    60.69        0\n",
       "8       cardspent  13556.3        0\n",
       "9        carown_0   135.37        0\n",
       "10       carown_1    77.54        0\n",
       "11       carvalue   518.48        0\n",
       "12       creddebt   286.74        0\n",
       "13       gender_1    31.21        0\n",
       "14       inccat_3    59.23        0\n",
       "15       inccat_4   158.22        0\n",
       "16       inccat_5   259.88        0\n",
       "17         income   723.93        0\n",
       "18     lncreddebt   339.67        0\n",
       "19          lninc   981.91        0\n",
       "20      lnothdebt    405.2        0\n",
       "21        othdebt    364.1        0\n",
       "22        owncd_1    112.5        0\n",
       "23       owndvd_1   138.96        0\n",
       "24       ownvcr_1   127.42        0\n",
       "25       reason_2   113.48        0\n",
       "26       retire_1   207.42        0\n",
       "27       spending  23805.7        0"
      ]
     },
     "execution_count": 62,
     "metadata": {},
     "output_type": "execute_result"
    }
   ],
   "source": [
    "F_regression_op"
   ]
  },
  {
   "cell_type": "markdown",
   "metadata": {},
   "source": [
    "## Assumption 3 - X variables should not have relationship with each other they should only be related to Y (There should be less multicolinearity)"
   ]
  },
  {
   "cell_type": "markdown",
   "metadata": {},
   "source": [
    "### High VIF of the variable means information in that variable has already been explained by other X variables present in the model"
   ]
  },
  {
   "cell_type": "code",
   "execution_count": 63,
   "metadata": {},
   "outputs": [
    {
     "data": {
      "text/plain": [
       "'agecat_5+agecat_6+carcatvalue_1+carcatvalue_3+card2_3+card2spent+card_2+card_3+cardspent+carown_0+carown_1+carvalue+creddebt+gender_1+inccat_3+inccat_4+inccat_5+income+lncreddebt+lninc+lnothdebt+othdebt+owncd_1+owndvd_1+ownvcr_1+reason_2+retire_1+spending'"
      ]
     },
     "execution_count": 63,
     "metadata": {},
     "output_type": "execute_result"
    }
   ],
   "source": [
    "'+'.join(col_ser)"
   ]
  },
  {
   "cell_type": "code",
   "execution_count": 64,
   "metadata": {},
   "outputs": [
    {
     "name": "stderr",
     "output_type": "stream",
     "text": [
      "C:\\Users\\ZomAdmin\\anaconda3\\lib\\site-packages\\statsmodels\\stats\\outliers_influence.py:193: RuntimeWarning: divide by zero encountered in double_scalars\n",
      "  vif = 1. / (1. - r_squared_i)\n"
     ]
    },
    {
     "data": {
      "text/html": [
       "<div>\n",
       "<style scoped>\n",
       "    .dataframe tbody tr th:only-of-type {\n",
       "        vertical-align: middle;\n",
       "    }\n",
       "\n",
       "    .dataframe tbody tr th {\n",
       "        vertical-align: top;\n",
       "    }\n",
       "\n",
       "    .dataframe thead th {\n",
       "        text-align: right;\n",
       "    }\n",
       "</style>\n",
       "<table border=\"1\" class=\"dataframe\">\n",
       "  <thead>\n",
       "    <tr style=\"text-align: right;\">\n",
       "      <th></th>\n",
       "      <th>Features</th>\n",
       "      <th>VIF_Factor</th>\n",
       "    </tr>\n",
       "  </thead>\n",
       "  <tbody>\n",
       "    <tr>\n",
       "      <th>0</th>\n",
       "      <td>Intercept</td>\n",
       "      <td>286.0</td>\n",
       "    </tr>\n",
       "  </tbody>\n",
       "</table>\n",
       "</div>"
      ],
      "text/plain": [
       "    Features  VIF_Factor\n",
       "0  Intercept       286.0"
      ]
     },
     "execution_count": 64,
     "metadata": {},
     "output_type": "execute_result"
    }
   ],
   "source": [
    "model_param = 'log_spending ~ ' + ' + '.join(col_ser)\n",
    "# separate the Y and X variables\n",
    "y, X = dmatrices( model_param, final_data, return_type = 'dataframe' )\n",
    "\n",
    "# For each X, calculate VIF and save in dataframe\n",
    "vif = pd.DataFrame()\n",
    "\n",
    "vif['Features'] = X.columns\n",
    "vif['VIF_Factor'] = [ variance_inflation_factor(X.values, i) for i in range(X.shape[1]) ]\n",
    "\n",
    "# display the output\n",
    "vif.round(1).head(1)"
   ]
  },
  {
   "cell_type": "code",
   "execution_count": 65,
   "metadata": {},
   "outputs": [
    {
     "data": {
      "text/html": [
       "<div>\n",
       "<style scoped>\n",
       "    .dataframe tbody tr th:only-of-type {\n",
       "        vertical-align: middle;\n",
       "    }\n",
       "\n",
       "    .dataframe tbody tr th {\n",
       "        vertical-align: top;\n",
       "    }\n",
       "\n",
       "    .dataframe thead th {\n",
       "        text-align: right;\n",
       "    }\n",
       "</style>\n",
       "<table border=\"1\" class=\"dataframe\">\n",
       "  <thead>\n",
       "    <tr style=\"text-align: right;\">\n",
       "      <th></th>\n",
       "      <th>Features</th>\n",
       "      <th>VIF_Factor</th>\n",
       "    </tr>\n",
       "  </thead>\n",
       "  <tbody>\n",
       "    <tr>\n",
       "      <th>28</th>\n",
       "      <td>spending</td>\n",
       "      <td>inf</td>\n",
       "    </tr>\n",
       "    <tr>\n",
       "      <th>6</th>\n",
       "      <td>card2spent</td>\n",
       "      <td>inf</td>\n",
       "    </tr>\n",
       "    <tr>\n",
       "      <th>9</th>\n",
       "      <td>cardspent</td>\n",
       "      <td>inf</td>\n",
       "    </tr>\n",
       "    <tr>\n",
       "      <th>0</th>\n",
       "      <td>Intercept</td>\n",
       "      <td>285.989626</td>\n",
       "    </tr>\n",
       "    <tr>\n",
       "      <th>18</th>\n",
       "      <td>income</td>\n",
       "      <td>19.447382</td>\n",
       "    </tr>\n",
       "    <tr>\n",
       "      <th>20</th>\n",
       "      <td>lninc</td>\n",
       "      <td>17.909658</td>\n",
       "    </tr>\n",
       "    <tr>\n",
       "      <th>12</th>\n",
       "      <td>carvalue</td>\n",
       "      <td>14.650935</td>\n",
       "    </tr>\n",
       "    <tr>\n",
       "      <th>11</th>\n",
       "      <td>carown_1</td>\n",
       "      <td>8.230252</td>\n",
       "    </tr>\n",
       "    <tr>\n",
       "      <th>17</th>\n",
       "      <td>inccat_5</td>\n",
       "      <td>7.977975</td>\n",
       "    </tr>\n",
       "    <tr>\n",
       "      <th>10</th>\n",
       "      <td>carown_0</td>\n",
       "      <td>6.299564</td>\n",
       "    </tr>\n",
       "    <tr>\n",
       "      <th>4</th>\n",
       "      <td>carcatvalue_3</td>\n",
       "      <td>4.939239</td>\n",
       "    </tr>\n",
       "    <tr>\n",
       "      <th>21</th>\n",
       "      <td>lnothdebt</td>\n",
       "      <td>4.626296</td>\n",
       "    </tr>\n",
       "    <tr>\n",
       "      <th>22</th>\n",
       "      <td>othdebt</td>\n",
       "      <td>4.512935</td>\n",
       "    </tr>\n",
       "    <tr>\n",
       "      <th>3</th>\n",
       "      <td>carcatvalue_1</td>\n",
       "      <td>4.146121</td>\n",
       "    </tr>\n",
       "    <tr>\n",
       "      <th>16</th>\n",
       "      <td>inccat_4</td>\n",
       "      <td>4.076005</td>\n",
       "    </tr>\n",
       "    <tr>\n",
       "      <th>19</th>\n",
       "      <td>lncreddebt</td>\n",
       "      <td>3.676425</td>\n",
       "    </tr>\n",
       "    <tr>\n",
       "      <th>13</th>\n",
       "      <td>creddebt</td>\n",
       "      <td>3.585305</td>\n",
       "    </tr>\n",
       "    <tr>\n",
       "      <th>27</th>\n",
       "      <td>retire_1</td>\n",
       "      <td>2.469584</td>\n",
       "    </tr>\n",
       "    <tr>\n",
       "      <th>15</th>\n",
       "      <td>inccat_3</td>\n",
       "      <td>2.298696</td>\n",
       "    </tr>\n",
       "    <tr>\n",
       "      <th>2</th>\n",
       "      <td>agecat_6</td>\n",
       "      <td>2.091850</td>\n",
       "    </tr>\n",
       "    <tr>\n",
       "      <th>25</th>\n",
       "      <td>ownvcr_1</td>\n",
       "      <td>1.574296</td>\n",
       "    </tr>\n",
       "    <tr>\n",
       "      <th>24</th>\n",
       "      <td>owndvd_1</td>\n",
       "      <td>1.523126</td>\n",
       "    </tr>\n",
       "    <tr>\n",
       "      <th>23</th>\n",
       "      <td>owncd_1</td>\n",
       "      <td>1.514300</td>\n",
       "    </tr>\n",
       "    <tr>\n",
       "      <th>1</th>\n",
       "      <td>agecat_5</td>\n",
       "      <td>1.334311</td>\n",
       "    </tr>\n",
       "    <tr>\n",
       "      <th>8</th>\n",
       "      <td>card_3</td>\n",
       "      <td>1.281213</td>\n",
       "    </tr>\n",
       "    <tr>\n",
       "      <th>7</th>\n",
       "      <td>card_2</td>\n",
       "      <td>1.180851</td>\n",
       "    </tr>\n",
       "    <tr>\n",
       "      <th>5</th>\n",
       "      <td>card2_3</td>\n",
       "      <td>1.178544</td>\n",
       "    </tr>\n",
       "    <tr>\n",
       "      <th>26</th>\n",
       "      <td>reason_2</td>\n",
       "      <td>1.029286</td>\n",
       "    </tr>\n",
       "    <tr>\n",
       "      <th>14</th>\n",
       "      <td>gender_1</td>\n",
       "      <td>1.015007</td>\n",
       "    </tr>\n",
       "  </tbody>\n",
       "</table>\n",
       "</div>"
      ],
      "text/plain": [
       "         Features  VIF_Factor\n",
       "28       spending         inf\n",
       "6      card2spent         inf\n",
       "9       cardspent         inf\n",
       "0       Intercept  285.989626\n",
       "18         income   19.447382\n",
       "20          lninc   17.909658\n",
       "12       carvalue   14.650935\n",
       "11       carown_1    8.230252\n",
       "17       inccat_5    7.977975\n",
       "10       carown_0    6.299564\n",
       "4   carcatvalue_3    4.939239\n",
       "21      lnothdebt    4.626296\n",
       "22        othdebt    4.512935\n",
       "3   carcatvalue_1    4.146121\n",
       "16       inccat_4    4.076005\n",
       "19     lncreddebt    3.676425\n",
       "13       creddebt    3.585305\n",
       "27       retire_1    2.469584\n",
       "15       inccat_3    2.298696\n",
       "2        agecat_6    2.091850\n",
       "25       ownvcr_1    1.574296\n",
       "24       owndvd_1    1.523126\n",
       "23        owncd_1    1.514300\n",
       "1        agecat_5    1.334311\n",
       "8          card_3    1.281213\n",
       "7          card_2    1.180851\n",
       "5         card2_3    1.178544\n",
       "26       reason_2    1.029286\n",
       "14       gender_1    1.015007"
      ]
     },
     "execution_count": 65,
     "metadata": {},
     "output_type": "execute_result"
    }
   ],
   "source": [
    "vif.sort_values('VIF_Factor',ascending = False)"
   ]
  },
  {
   "cell_type": "markdown",
   "metadata": {},
   "source": [
    "## 2nd Iteration for VIF to remove some insignificant variables"
   ]
  },
  {
   "cell_type": "code",
   "execution_count": 66,
   "metadata": {},
   "outputs": [],
   "source": [
    "prama='''log_spending ~ agecat_5+carcatvalue_1+card2_3+card_2+card_3+carown_0+gender_1+inccat_3+inccat_4+lncreddebt+othdebt+owncd_1+owndvd_1+ownvcr_1+reason_2+retire_1+spending'''"
   ]
  },
  {
   "cell_type": "code",
   "execution_count": 67,
   "metadata": {},
   "outputs": [
    {
     "data": {
      "text/html": [
       "<div>\n",
       "<style scoped>\n",
       "    .dataframe tbody tr th:only-of-type {\n",
       "        vertical-align: middle;\n",
       "    }\n",
       "\n",
       "    .dataframe tbody tr th {\n",
       "        vertical-align: top;\n",
       "    }\n",
       "\n",
       "    .dataframe thead th {\n",
       "        text-align: right;\n",
       "    }\n",
       "</style>\n",
       "<table border=\"1\" class=\"dataframe\">\n",
       "  <thead>\n",
       "    <tr style=\"text-align: right;\">\n",
       "      <th></th>\n",
       "      <th>Features</th>\n",
       "      <th>VIF_Factor</th>\n",
       "    </tr>\n",
       "  </thead>\n",
       "  <tbody>\n",
       "    <tr>\n",
       "      <th>0</th>\n",
       "      <td>Intercept</td>\n",
       "      <td>34.1</td>\n",
       "    </tr>\n",
       "  </tbody>\n",
       "</table>\n",
       "</div>"
      ],
      "text/plain": [
       "    Features  VIF_Factor\n",
       "0  Intercept        34.1"
      ]
     },
     "execution_count": 67,
     "metadata": {},
     "output_type": "execute_result"
    }
   ],
   "source": [
    "y, X = dmatrices( prama, final_data, return_type = 'dataframe' )\n",
    "\n",
    "# For each X, calculate VIF and save in dataframe\n",
    "vif2 = pd.DataFrame()\n",
    "\n",
    "vif2['Features'] = X.columns\n",
    "vif2['VIF_Factor'] = [ variance_inflation_factor(X.values, i) for i in range(X.shape[1]) ]\n",
    "\n",
    "# display the output\n",
    "vif2.round(1).head(1)"
   ]
  },
  {
   "cell_type": "code",
   "execution_count": 68,
   "metadata": {},
   "outputs": [
    {
     "data": {
      "text/html": [
       "<div>\n",
       "<style scoped>\n",
       "    .dataframe tbody tr th:only-of-type {\n",
       "        vertical-align: middle;\n",
       "    }\n",
       "\n",
       "    .dataframe tbody tr th {\n",
       "        vertical-align: top;\n",
       "    }\n",
       "\n",
       "    .dataframe thead th {\n",
       "        text-align: right;\n",
       "    }\n",
       "</style>\n",
       "<table border=\"1\" class=\"dataframe\">\n",
       "  <thead>\n",
       "    <tr style=\"text-align: right;\">\n",
       "      <th></th>\n",
       "      <th>Features</th>\n",
       "      <th>VIF_Factor</th>\n",
       "    </tr>\n",
       "  </thead>\n",
       "  <tbody>\n",
       "    <tr>\n",
       "      <th>0</th>\n",
       "      <td>Intercept</td>\n",
       "      <td>34.138360</td>\n",
       "    </tr>\n",
       "    <tr>\n",
       "      <th>2</th>\n",
       "      <td>carcatvalue_1</td>\n",
       "      <td>1.943682</td>\n",
       "    </tr>\n",
       "    <tr>\n",
       "      <th>11</th>\n",
       "      <td>othdebt</td>\n",
       "      <td>1.628097</td>\n",
       "    </tr>\n",
       "    <tr>\n",
       "      <th>10</th>\n",
       "      <td>lncreddebt</td>\n",
       "      <td>1.600237</td>\n",
       "    </tr>\n",
       "    <tr>\n",
       "      <th>14</th>\n",
       "      <td>ownvcr_1</td>\n",
       "      <td>1.507366</td>\n",
       "    </tr>\n",
       "    <tr>\n",
       "      <th>12</th>\n",
       "      <td>owncd_1</td>\n",
       "      <td>1.458576</td>\n",
       "    </tr>\n",
       "    <tr>\n",
       "      <th>13</th>\n",
       "      <td>owndvd_1</td>\n",
       "      <td>1.455402</td>\n",
       "    </tr>\n",
       "    <tr>\n",
       "      <th>8</th>\n",
       "      <td>inccat_3</td>\n",
       "      <td>1.387105</td>\n",
       "    </tr>\n",
       "    <tr>\n",
       "      <th>9</th>\n",
       "      <td>inccat_4</td>\n",
       "      <td>1.375296</td>\n",
       "    </tr>\n",
       "    <tr>\n",
       "      <th>5</th>\n",
       "      <td>card_3</td>\n",
       "      <td>1.277943</td>\n",
       "    </tr>\n",
       "    <tr>\n",
       "      <th>17</th>\n",
       "      <td>spending</td>\n",
       "      <td>1.228598</td>\n",
       "    </tr>\n",
       "    <tr>\n",
       "      <th>6</th>\n",
       "      <td>carown_0</td>\n",
       "      <td>1.197212</td>\n",
       "    </tr>\n",
       "    <tr>\n",
       "      <th>16</th>\n",
       "      <td>retire_1</td>\n",
       "      <td>1.188664</td>\n",
       "    </tr>\n",
       "    <tr>\n",
       "      <th>4</th>\n",
       "      <td>card_2</td>\n",
       "      <td>1.177360</td>\n",
       "    </tr>\n",
       "    <tr>\n",
       "      <th>3</th>\n",
       "      <td>card2_3</td>\n",
       "      <td>1.177060</td>\n",
       "    </tr>\n",
       "    <tr>\n",
       "      <th>1</th>\n",
       "      <td>agecat_5</td>\n",
       "      <td>1.100709</td>\n",
       "    </tr>\n",
       "    <tr>\n",
       "      <th>15</th>\n",
       "      <td>reason_2</td>\n",
       "      <td>1.027091</td>\n",
       "    </tr>\n",
       "    <tr>\n",
       "      <th>7</th>\n",
       "      <td>gender_1</td>\n",
       "      <td>1.012721</td>\n",
       "    </tr>\n",
       "  </tbody>\n",
       "</table>\n",
       "</div>"
      ],
      "text/plain": [
       "         Features  VIF_Factor\n",
       "0       Intercept   34.138360\n",
       "2   carcatvalue_1    1.943682\n",
       "11        othdebt    1.628097\n",
       "10     lncreddebt    1.600237\n",
       "14       ownvcr_1    1.507366\n",
       "12        owncd_1    1.458576\n",
       "13       owndvd_1    1.455402\n",
       "8        inccat_3    1.387105\n",
       "9        inccat_4    1.375296\n",
       "5          card_3    1.277943\n",
       "17       spending    1.228598\n",
       "6        carown_0    1.197212\n",
       "16       retire_1    1.188664\n",
       "4          card_2    1.177360\n",
       "3         card2_3    1.177060\n",
       "1        agecat_5    1.100709\n",
       "15       reason_2    1.027091\n",
       "7        gender_1    1.012721"
      ]
     },
     "execution_count": 68,
     "metadata": {},
     "output_type": "execute_result"
    }
   ],
   "source": [
    "vif2.sort_values('VIF_Factor',ascending = False)"
   ]
  },
  {
   "cell_type": "code",
   "execution_count": 69,
   "metadata": {},
   "outputs": [
    {
     "data": {
      "text/plain": [
       "Features      18\n",
       "VIF_Factor    18\n",
       "dtype: int64"
      ]
     },
     "execution_count": 69,
     "metadata": {},
     "output_type": "execute_result"
    }
   ],
   "source": [
    "vif2.count()"
   ]
  },
  {
   "cell_type": "code",
   "execution_count": 71,
   "metadata": {},
   "outputs": [],
   "source": [
    "vif2.to_csv('vif2.csv',header = True)"
   ]
  },
  {
   "cell_type": "code",
   "execution_count": 72,
   "metadata": {},
   "outputs": [],
   "source": [
    "feature_columns2 = list(set(vif2.loc[:, 'Features']).difference(['Intercept']))"
   ]
  },
  {
   "cell_type": "code",
   "execution_count": 75,
   "metadata": {},
   "outputs": [],
   "source": [
    "Final_x_variables = pd.DataFrame({'Final_Features':feature_columns2})"
   ]
  },
  {
   "cell_type": "code",
   "execution_count": 76,
   "metadata": {},
   "outputs": [],
   "source": [
    "Final_x_variables.to_csv('Final_x_variables.csv',header = True)"
   ]
  },
  {
   "cell_type": "markdown",
   "metadata": {},
   "source": [
    "# Model Building"
   ]
  },
  {
   "cell_type": "code",
   "execution_count": 77,
   "metadata": {},
   "outputs": [],
   "source": [
    "train,test=train_test_split(final_data,test_size = 0.3,random_state=2)"
   ]
  },
  {
   "cell_type": "code",
   "execution_count": 78,
   "metadata": {},
   "outputs": [],
   "source": [
    "param='log_spending ~ '+'+'.join(feature_columns2)"
   ]
  },
  {
   "cell_type": "code",
   "execution_count": 79,
   "metadata": {},
   "outputs": [],
   "source": [
    "modelone=smf.ols(param,train).fit()"
   ]
  },
  {
   "cell_type": "code",
   "execution_count": 80,
   "metadata": {},
   "outputs": [
    {
     "name": "stdout",
     "output_type": "stream",
     "text": [
      "                            OLS Regression Results                            \n",
      "==============================================================================\n",
      "Dep. Variable:           log_spending   R-squared:                       0.831\n",
      "Model:                            OLS   Adj. R-squared:                  0.831\n",
      "Method:                 Least Squares   F-statistic:                     1010.\n",
      "Date:                Thu, 27 Aug 2020   Prob (F-statistic):               0.00\n",
      "Time:                        23:54:16   Log-Likelihood:                -386.22\n",
      "No. Observations:                3500   AIC:                             808.4\n",
      "Df Residuals:                    3482   BIC:                             919.3\n",
      "Df Model:                          17                                         \n",
      "Covariance Type:            nonrobust                                         \n",
      "=================================================================================\n",
      "                    coef    std err          t      P>|t|      [0.025      0.975]\n",
      "---------------------------------------------------------------------------------\n",
      "Intercept         5.0293      0.027    185.659      0.000       4.976       5.082\n",
      "ownvcr_1          0.0337      0.020      1.649      0.099      -0.006       0.074\n",
      "inccat_3          0.0547      0.014      3.817      0.000       0.027       0.083\n",
      "gender_1         -0.0100      0.009     -1.085      0.278      -0.028       0.008\n",
      "agecat_5         -0.0313      0.011     -2.787      0.005      -0.053      -0.009\n",
      "owncd_1           0.0594      0.022      2.643      0.008       0.015       0.104\n",
      "owndvd_1          0.0307      0.020      1.558      0.119      -0.008       0.069\n",
      "spending          0.0018   1.57e-05    113.940      0.000       0.002       0.002\n",
      "othdebt          -0.0011      0.001     -0.803      0.422      -0.004       0.002\n",
      "card_2           -0.0105      0.011     -0.915      0.360      -0.033       0.012\n",
      "reason_2          0.0537      0.019      2.880      0.004       0.017       0.090\n",
      "card_3           -0.0206      0.012     -1.696      0.090      -0.044       0.003\n",
      "card2_3          -0.0335      0.011     -3.026      0.002      -0.055      -0.012\n",
      "inccat_4          0.0270      0.016      1.686      0.092      -0.004       0.058\n",
      "retire_1         -0.0668      0.014     -4.728      0.000      -0.094      -0.039\n",
      "carown_0         -0.0455      0.014     -3.353      0.001      -0.072      -0.019\n",
      "carcatvalue_1     0.0183      0.013      1.430      0.153      -0.007       0.044\n",
      "lncreddebt        0.0107      0.005      2.271      0.023       0.001       0.020\n",
      "==============================================================================\n",
      "Omnibus:                     1462.395   Durbin-Watson:                   2.022\n",
      "Prob(Omnibus):                  0.000   Jarque-Bera (JB):             6045.958\n",
      "Skew:                          -2.062   Prob(JB):                         0.00\n",
      "Kurtosis:                       7.945   Cond. No.                     3.97e+03\n",
      "==============================================================================\n",
      "\n",
      "Warnings:\n",
      "[1] Standard Errors assume that the covariance matrix of the errors is correctly specified.\n",
      "[2] The condition number is large, 3.97e+03. This might indicate that there are\n",
      "strong multicollinearity or other numerical problems.\n"
     ]
    }
   ],
   "source": [
    "print(modelone.summary())"
   ]
  },
  {
   "cell_type": "markdown",
   "metadata": {},
   "source": [
    "## We can see there is difference between R2 and Adjr2"
   ]
  },
  {
   "cell_type": "code",
   "execution_count": 81,
   "metadata": {},
   "outputs": [
    {
     "data": {
      "text/plain": [
       "0.8313802984979466"
      ]
     },
     "execution_count": 81,
     "metadata": {},
     "output_type": "execute_result"
    }
   ],
   "source": [
    "modelone.rsquared"
   ]
  },
  {
   "cell_type": "code",
   "execution_count": 82,
   "metadata": {},
   "outputs": [
    {
     "data": {
      "text/plain": [
       "0.8305570546939446"
      ]
     },
     "execution_count": 82,
     "metadata": {},
     "output_type": "execute_result"
    }
   ],
   "source": [
    "modelone.rsquared_adj"
   ]
  },
  {
   "cell_type": "markdown",
   "metadata": {},
   "source": [
    "## Predictions"
   ]
  },
  {
   "cell_type": "code",
   "execution_count": 83,
   "metadata": {},
   "outputs": [
    {
     "name": "stdout",
     "output_type": "stream",
     "text": [
      "No of obs in training:  3500  |  No of obs in testing:  1500\n"
     ]
    }
   ],
   "source": [
    "# verify the no of obs in training and testing after split\n",
    "\n",
    "print('No of obs in training: ', len(train), ' | ', 'No of obs in testing: ', len(test))"
   ]
  },
  {
   "cell_type": "markdown",
   "metadata": {},
   "source": [
    "## Predicting spend pn training data"
   ]
  },
  {
   "cell_type": "code",
   "execution_count": 84,
   "metadata": {},
   "outputs": [
    {
     "name": "stderr",
     "output_type": "stream",
     "text": [
      "C:\\Users\\ZomAdmin\\anaconda3\\lib\\site-packages\\ipykernel_launcher.py:2: SettingWithCopyWarning: \n",
      "A value is trying to be set on a copy of a slice from a DataFrame.\n",
      "Try using .loc[row_indexer,col_indexer] = value instead\n",
      "\n",
      "See the caveats in the documentation: https://pandas.pydata.org/pandas-docs/stable/user_guide/indexing.html#returning-a-view-versus-a-copy\n",
      "  \n"
     ]
    }
   ],
   "source": [
    "# Step 4: predict the sales on the training data\n",
    "train['pred_spend'] = np.exp(modelone.predict(train))"
   ]
  },
  {
   "cell_type": "code",
   "execution_count": 85,
   "metadata": {},
   "outputs": [
    {
     "data": {
      "text/html": [
       "<div>\n",
       "<style scoped>\n",
       "    .dataframe tbody tr th:only-of-type {\n",
       "        vertical-align: middle;\n",
       "    }\n",
       "\n",
       "    .dataframe tbody tr th {\n",
       "        vertical-align: top;\n",
       "    }\n",
       "\n",
       "    .dataframe thead th {\n",
       "        text-align: right;\n",
       "    }\n",
       "</style>\n",
       "<table border=\"1\" class=\"dataframe\">\n",
       "  <thead>\n",
       "    <tr style=\"text-align: right;\">\n",
       "      <th></th>\n",
       "      <th>spending</th>\n",
       "      <th>pred_spend</th>\n",
       "    </tr>\n",
       "  </thead>\n",
       "  <tbody>\n",
       "    <tr>\n",
       "      <th>2416</th>\n",
       "      <td>600.97</td>\n",
       "      <td>462.421990</td>\n",
       "    </tr>\n",
       "    <tr>\n",
       "      <th>2417</th>\n",
       "      <td>604.09</td>\n",
       "      <td>553.138899</td>\n",
       "    </tr>\n",
       "    <tr>\n",
       "      <th>2513</th>\n",
       "      <td>517.89</td>\n",
       "      <td>454.308710</td>\n",
       "    </tr>\n",
       "    <tr>\n",
       "      <th>1698</th>\n",
       "      <td>748.64</td>\n",
       "      <td>689.435146</td>\n",
       "    </tr>\n",
       "    <tr>\n",
       "      <th>3322</th>\n",
       "      <td>431.36</td>\n",
       "      <td>341.829299</td>\n",
       "    </tr>\n",
       "    <tr>\n",
       "      <th>...</th>\n",
       "      <td>...</td>\n",
       "      <td>...</td>\n",
       "    </tr>\n",
       "    <tr>\n",
       "      <th>3335</th>\n",
       "      <td>191.20</td>\n",
       "      <td>206.586083</td>\n",
       "    </tr>\n",
       "    <tr>\n",
       "      <th>1099</th>\n",
       "      <td>656.33</td>\n",
       "      <td>557.958789</td>\n",
       "    </tr>\n",
       "    <tr>\n",
       "      <th>2514</th>\n",
       "      <td>238.29</td>\n",
       "      <td>259.661752</td>\n",
       "    </tr>\n",
       "    <tr>\n",
       "      <th>3606</th>\n",
       "      <td>302.56</td>\n",
       "      <td>294.728212</td>\n",
       "    </tr>\n",
       "    <tr>\n",
       "      <th>2575</th>\n",
       "      <td>550.48</td>\n",
       "      <td>441.253354</td>\n",
       "    </tr>\n",
       "  </tbody>\n",
       "</table>\n",
       "<p>3500 rows × 2 columns</p>\n",
       "</div>"
      ],
      "text/plain": [
       "      spending  pred_spend\n",
       "2416    600.97  462.421990\n",
       "2417    604.09  553.138899\n",
       "2513    517.89  454.308710\n",
       "1698    748.64  689.435146\n",
       "3322    431.36  341.829299\n",
       "...        ...         ...\n",
       "3335    191.20  206.586083\n",
       "1099    656.33  557.958789\n",
       "2514    238.29  259.661752\n",
       "3606    302.56  294.728212\n",
       "2575    550.48  441.253354\n",
       "\n",
       "[3500 rows x 2 columns]"
      ]
     },
     "execution_count": 85,
     "metadata": {},
     "output_type": "execute_result"
    }
   ],
   "source": [
    "train[['spending','pred_spend']]"
   ]
  },
  {
   "cell_type": "code",
   "execution_count": 86,
   "metadata": {},
   "outputs": [
    {
     "name": "stderr",
     "output_type": "stream",
     "text": [
      "C:\\Users\\ZomAdmin\\anaconda3\\lib\\site-packages\\ipykernel_launcher.py:2: SettingWithCopyWarning: \n",
      "A value is trying to be set on a copy of a slice from a DataFrame.\n",
      "Try using .loc[row_indexer,col_indexer] = value instead\n",
      "\n",
      "See the caveats in the documentation: https://pandas.pydata.org/pandas-docs/stable/user_guide/indexing.html#returning-a-view-versus-a-copy\n",
      "  \n"
     ]
    }
   ],
   "source": [
    "# Step 5: predict the sales on the testing/validation data\n",
    "test['pred_spend'] = np.exp(modelone.predict(test))"
   ]
  },
  {
   "cell_type": "code",
   "execution_count": 87,
   "metadata": {},
   "outputs": [
    {
     "data": {
      "text/html": [
       "<div>\n",
       "<style scoped>\n",
       "    .dataframe tbody tr th:only-of-type {\n",
       "        vertical-align: middle;\n",
       "    }\n",
       "\n",
       "    .dataframe tbody tr th {\n",
       "        vertical-align: top;\n",
       "    }\n",
       "\n",
       "    .dataframe thead th {\n",
       "        text-align: right;\n",
       "    }\n",
       "</style>\n",
       "<table border=\"1\" class=\"dataframe\">\n",
       "  <thead>\n",
       "    <tr style=\"text-align: right;\">\n",
       "      <th></th>\n",
       "      <th>spending</th>\n",
       "      <th>pred_spend</th>\n",
       "    </tr>\n",
       "  </thead>\n",
       "  <tbody>\n",
       "    <tr>\n",
       "      <th>3566</th>\n",
       "      <td>499.15</td>\n",
       "      <td>412.252822</td>\n",
       "    </tr>\n",
       "    <tr>\n",
       "      <th>4252</th>\n",
       "      <td>407.08</td>\n",
       "      <td>344.577356</td>\n",
       "    </tr>\n",
       "    <tr>\n",
       "      <th>1918</th>\n",
       "      <td>232.08</td>\n",
       "      <td>255.650951</td>\n",
       "    </tr>\n",
       "    <tr>\n",
       "      <th>4111</th>\n",
       "      <td>231.82</td>\n",
       "      <td>246.989238</td>\n",
       "    </tr>\n",
       "    <tr>\n",
       "      <th>1471</th>\n",
       "      <td>256.02</td>\n",
       "      <td>261.203730</td>\n",
       "    </tr>\n",
       "    <tr>\n",
       "      <th>...</th>\n",
       "      <td>...</td>\n",
       "      <td>...</td>\n",
       "    </tr>\n",
       "    <tr>\n",
       "      <th>570</th>\n",
       "      <td>204.63</td>\n",
       "      <td>253.126931</td>\n",
       "    </tr>\n",
       "    <tr>\n",
       "      <th>4853</th>\n",
       "      <td>295.04</td>\n",
       "      <td>278.527817</td>\n",
       "    </tr>\n",
       "    <tr>\n",
       "      <th>768</th>\n",
       "      <td>144.77</td>\n",
       "      <td>192.674916</td>\n",
       "    </tr>\n",
       "    <tr>\n",
       "      <th>2085</th>\n",
       "      <td>588.32</td>\n",
       "      <td>457.484175</td>\n",
       "    </tr>\n",
       "    <tr>\n",
       "      <th>4836</th>\n",
       "      <td>309.45</td>\n",
       "      <td>283.831255</td>\n",
       "    </tr>\n",
       "  </tbody>\n",
       "</table>\n",
       "<p>1500 rows × 2 columns</p>\n",
       "</div>"
      ],
      "text/plain": [
       "      spending  pred_spend\n",
       "3566    499.15  412.252822\n",
       "4252    407.08  344.577356\n",
       "1918    232.08  255.650951\n",
       "4111    231.82  246.989238\n",
       "1471    256.02  261.203730\n",
       "...        ...         ...\n",
       "570     204.63  253.126931\n",
       "4853    295.04  278.527817\n",
       "768     144.77  192.674916\n",
       "2085    588.32  457.484175\n",
       "4836    309.45  283.831255\n",
       "\n",
       "[1500 rows x 2 columns]"
      ]
     },
     "execution_count": 87,
     "metadata": {},
     "output_type": "execute_result"
    }
   ],
   "source": [
    "test[['spending','pred_spend']]"
   ]
  },
  {
   "cell_type": "markdown",
   "metadata": {},
   "source": [
    "## Model evaluation and accuracy measures"
   ]
  },
  {
   "cell_type": "markdown",
   "metadata": {},
   "source": [
    "### Mean Errors"
   ]
  },
  {
   "cell_type": "code",
   "execution_count": 89,
   "metadata": {},
   "outputs": [
    {
     "data": {
      "text/plain": [
       "spending      494.620505\n",
       "pred_spend    517.058315\n",
       "dtype: float64"
      ]
     },
     "execution_count": 89,
     "metadata": {},
     "output_type": "execute_result"
    }
   ],
   "source": [
    "train[['spending','pred_spend']].mean() ## We can see that means are different for both the variables hence there are errors:"
   ]
  },
  {
   "cell_type": "code",
   "execution_count": 90,
   "metadata": {},
   "outputs": [
    {
     "data": {
      "text/plain": [
       "spending      486.637923\n",
       "pred_spend    496.486035\n",
       "dtype: float64"
      ]
     },
     "execution_count": 90,
     "metadata": {},
     "output_type": "execute_result"
    }
   ],
   "source": [
    "test[['spending','pred_spend']].mean() ## We can see that means are different for both the variables hence there are errors:"
   ]
  },
  {
   "cell_type": "markdown",
   "metadata": {},
   "source": [
    "### MSE and RMSE"
   ]
  },
  {
   "cell_type": "code",
   "execution_count": 91,
   "metadata": {},
   "outputs": [],
   "source": [
    "from sklearn import metrics"
   ]
  },
  {
   "cell_type": "code",
   "execution_count": 94,
   "metadata": {},
   "outputs": [
    {
     "name": "stdout",
     "output_type": "stream",
     "text": [
      "MSE_Train 100131.93779968274 | RMSE_Train 316.43630923091416\n",
      "MSE_Test 80671.30639209539 | RMSE_Test 284.0269465950289\n"
     ]
    }
   ],
   "source": [
    "mse_train = metrics.mean_squared_error(train.spending,train.pred_spend)\n",
    "mse_test=metrics.mean_squared_error(test.spending,test.pred_spend)\n",
    "#------------------------------------------------------------\n",
    "RMSE_train=np.sqrt(mse_train)\n",
    "RMSE_test=np.sqrt(mse_test)\n",
    "\n",
    "print('MSE_Train',mse_train,'|','RMSE_Train',RMSE_train)\n",
    "print('MSE_Test',mse_test,'|','RMSE_Test',RMSE_test)"
   ]
  },
  {
   "cell_type": "markdown",
   "metadata": {},
   "source": [
    "### Correlation"
   ]
  },
  {
   "cell_type": "markdown",
   "metadata": {},
   "source": [
    "### Here we are seeing that errors are high for the majority of data"
   ]
  },
  {
   "cell_type": "code",
   "execution_count": 95,
   "metadata": {},
   "outputs": [
    {
     "data": {
      "text/plain": [
       "<matplotlib.axes._subplots.AxesSubplot at 0x1c971716848>"
      ]
     },
     "execution_count": 95,
     "metadata": {},
     "output_type": "execute_result"
    },
    {
     "data": {
      "image/png": "[encoded data removed]",
      "text/plain": [
       "<Figure size 432x288 with 2 Axes>"
      ]
     },
     "metadata": {
      "needs_background": "light"
     },
     "output_type": "display_data"
    }
   ],
   "source": [
    "sns.heatmap(train[['spending','pred_spend']].corr(),annot = True)"
   ]
  },
  {
   "cell_type": "code",
   "execution_count": 90,
   "metadata": {},
   "outputs": [
    {
     "data": {
      "text/plain": [
       "<matplotlib.axes._subplots.AxesSubplot at 0x1986178e488>"
      ]
     },
     "execution_count": 90,
     "metadata": {},
     "output_type": "execute_result"
    },
    {
     "data": {
      "image/png": "[encoded data removed]",
      "text/plain": [
       "<Figure size 432x288 with 2 Axes>"
      ]
     },
     "metadata": {
      "needs_background": "light"
     },
     "output_type": "display_data"
    }
   ],
   "source": [
    "sns.heatmap(test[['spending','pred_spend']].corr(),annot = True)"
   ]
  },
  {
   "cell_type": "markdown",
   "metadata": {},
   "source": [
    "## Scatter plots"
   ]
  },
  {
   "cell_type": "code",
   "execution_count": 92,
   "metadata": {},
   "outputs": [
    {
     "data": {
      "text/plain": [
       "<matplotlib.axes._subplots.AxesSubplot at 0x1986a1b5ac8>"
      ]
     },
     "execution_count": 92,
     "metadata": {},
     "output_type": "execute_result"
    },
    {
     "data": {
      "image/png": "[encoded data removed]",
      "text/plain": [
       "<Figure size 432x288 with 1 Axes>"
      ]
     },
     "metadata": {
      "needs_background": "light"
     },
     "output_type": "display_data"
    }
   ],
   "source": [
    "sns.scatterplot(test.spending,test.pred_spend) ## Straight line is tilting downwards due to high number of errors"
   ]
  },
  {
   "cell_type": "markdown",
   "metadata": {},
   "source": [
    "### Here we can see that errors are high our model is predicting more than double values in predictions "
   ]
  },
  {
   "cell_type": "markdown",
   "metadata": {},
   "source": [
    "## MAE AND MAPE - Mean absolute error and Mean absolute percentage Error"
   ]
  },
  {
   "cell_type": "code",
   "execution_count": 96,
   "metadata": {},
   "outputs": [
    {
     "name": "stdout",
     "output_type": "stream",
     "text": [
      "MAPE of training data:  0.222  |  MAPE of testing data:  0.203\n",
      "MAE_TRAIN 112.82098334862994 | MAE_TEST 104.59977683578428\n"
     ]
    }
   ],
   "source": [
    "# Step 6: accuracy metrics (a. MAPE: Mean Absolute Percentage Error)\n",
    "MAE_TRAIN = metrics.mean_absolute_error(train.spending,train.pred_spend)\n",
    "MAE_TEST = metrics.mean_absolute_error(test.spending,test.pred_spend)\n",
    "\n",
    "MAPE_train = '%.3f' % np.mean(np.abs(train['spending'] - train['pred_spend'])/train['spending'])\n",
    "MAPE_test = '%.3f' % np.mean(np.abs(test['spending'] - test['pred_spend'])/test['spending'])\n",
    "\n",
    "# print the values of MAPE for train and test\n",
    "print('MAPE of training data: ', MAPE_train,  ' | ', 'MAPE of testing data: ', MAPE_test)\n",
    "print('MAE_TRAIN',MAE_TRAIN,'|','MAE_TEST',MAE_TEST)"
   ]
  },
  {
   "cell_type": "markdown",
   "metadata": {},
   "source": [
    "## Decile analysis"
   ]
  },
  {
   "cell_type": "markdown",
   "metadata": {},
   "source": [
    "### We can see that our output is not good directionally errors are very high on almost each decile"
   ]
  },
  {
   "cell_type": "code",
   "execution_count": 97,
   "metadata": {},
   "outputs": [
    {
     "name": "stderr",
     "output_type": "stream",
     "text": [
      "C:\\Users\\ZomAdmin\\anaconda3\\lib\\site-packages\\ipykernel_launcher.py:1: SettingWithCopyWarning: \n",
      "A value is trying to be set on a copy of a slice from a DataFrame.\n",
      "Try using .loc[row_indexer,col_indexer] = value instead\n",
      "\n",
      "See the caveats in the documentation: https://pandas.pydata.org/pandas-docs/stable/user_guide/indexing.html#returning-a-view-versus-a-copy\n",
      "  \"\"\"Entry point for launching an IPython kernel.\n"
     ]
    }
   ],
   "source": [
    "test['Deciles'] = pd.qcut(test.pred_spend,10,labels = False)"
   ]
  },
  {
   "cell_type": "code",
   "execution_count": 100,
   "metadata": {},
   "outputs": [
    {
     "data": {
      "text/html": [
       "<div>\n",
       "<style scoped>\n",
       "    .dataframe tbody tr th:only-of-type {\n",
       "        vertical-align: middle;\n",
       "    }\n",
       "\n",
       "    .dataframe tbody tr th {\n",
       "        vertical-align: top;\n",
       "    }\n",
       "\n",
       "    .dataframe thead th {\n",
       "        text-align: right;\n",
       "    }\n",
       "</style>\n",
       "<table border=\"1\" class=\"dataframe\">\n",
       "  <thead>\n",
       "    <tr style=\"text-align: right;\">\n",
       "      <th></th>\n",
       "      <th>Deciles</th>\n",
       "      <th>spending</th>\n",
       "      <th>pred_spend</th>\n",
       "    </tr>\n",
       "  </thead>\n",
       "  <tbody>\n",
       "    <tr>\n",
       "      <th>0</th>\n",
       "      <td>9</td>\n",
       "      <td>1194.386303</td>\n",
       "      <td>1662.768506</td>\n",
       "    </tr>\n",
       "    <tr>\n",
       "      <th>1</th>\n",
       "      <td>8</td>\n",
       "      <td>759.240133</td>\n",
       "      <td>665.456975</td>\n",
       "    </tr>\n",
       "    <tr>\n",
       "      <th>2</th>\n",
       "      <td>7</td>\n",
       "      <td>595.506400</td>\n",
       "      <td>494.405456</td>\n",
       "    </tr>\n",
       "    <tr>\n",
       "      <th>3</th>\n",
       "      <td>6</td>\n",
       "      <td>514.385600</td>\n",
       "      <td>421.918455</td>\n",
       "    </tr>\n",
       "    <tr>\n",
       "      <th>4</th>\n",
       "      <td>5</td>\n",
       "      <td>438.264800</td>\n",
       "      <td>371.165365</td>\n",
       "    </tr>\n",
       "    <tr>\n",
       "      <th>5</th>\n",
       "      <td>4</td>\n",
       "      <td>382.083467</td>\n",
       "      <td>330.651759</td>\n",
       "    </tr>\n",
       "    <tr>\n",
       "      <th>6</th>\n",
       "      <td>3</td>\n",
       "      <td>327.907800</td>\n",
       "      <td>297.915851</td>\n",
       "    </tr>\n",
       "    <tr>\n",
       "      <th>7</th>\n",
       "      <td>2</td>\n",
       "      <td>282.210467</td>\n",
       "      <td>272.075248</td>\n",
       "    </tr>\n",
       "    <tr>\n",
       "      <th>8</th>\n",
       "      <td>1</td>\n",
       "      <td>228.701867</td>\n",
       "      <td>245.400824</td>\n",
       "    </tr>\n",
       "    <tr>\n",
       "      <th>9</th>\n",
       "      <td>0</td>\n",
       "      <td>143.692393</td>\n",
       "      <td>203.101914</td>\n",
       "    </tr>\n",
       "  </tbody>\n",
       "</table>\n",
       "</div>"
      ],
      "text/plain": [
       "   Deciles     spending   pred_spend\n",
       "0        9  1194.386303  1662.768506\n",
       "1        8   759.240133   665.456975\n",
       "2        7   595.506400   494.405456\n",
       "3        6   514.385600   421.918455\n",
       "4        5   438.264800   371.165365\n",
       "5        4   382.083467   330.651759\n",
       "6        3   327.907800   297.915851\n",
       "7        2   282.210467   272.075248\n",
       "8        1   228.701867   245.400824\n",
       "9        0   143.692393   203.101914"
      ]
     },
     "execution_count": 100,
     "metadata": {},
     "output_type": "execute_result"
    }
   ],
   "source": [
    "test.groupby('Deciles')[['spending','pred_spend']].mean().sort_index(ascending = False).reset_index()"
   ]
  },
  {
   "cell_type": "code",
   "execution_count": 99,
   "metadata": {},
   "outputs": [],
   "source": [
    "deciles_Linear_regression_model = test.groupby('Deciles')[['spending','pred_spend']].mean().sort_index(ascending = False).reset_index()"
   ]
  },
  {
   "cell_type": "code",
   "execution_count": 101,
   "metadata": {},
   "outputs": [],
   "source": [
    "deciles_Linear_regression_model.to_csv('deciles_Linear_regression_model.csv',header = True)"
   ]
  },
  {
   "cell_type": "markdown",
   "metadata": {},
   "source": [
    "### Lets check that our errors are normally distributed or not"
   ]
  },
  {
   "cell_type": "code",
   "execution_count": 102,
   "metadata": {},
   "outputs": [
    {
     "name": "stderr",
     "output_type": "stream",
     "text": [
      "C:\\Users\\ZomAdmin\\anaconda3\\lib\\site-packages\\ipykernel_launcher.py:1: SettingWithCopyWarning: \n",
      "A value is trying to be set on a copy of a slice from a DataFrame.\n",
      "Try using .loc[row_indexer,col_indexer] = value instead\n",
      "\n",
      "See the caveats in the documentation: https://pandas.pydata.org/pandas-docs/stable/user_guide/indexing.html#returning-a-view-versus-a-copy\n",
      "  \"\"\"Entry point for launching an IPython kernel.\n"
     ]
    }
   ],
   "source": [
    "test['errors']=test.spending - test.pred_spend"
   ]
  },
  {
   "cell_type": "code",
   "execution_count": 103,
   "metadata": {},
   "outputs": [
    {
     "data": {
      "text/plain": [
       "<matplotlib.axes._subplots.AxesSubplot at 0x1c971cda948>"
      ]
     },
     "execution_count": 103,
     "metadata": {},
     "output_type": "execute_result"
    },
    {
     "data": {
      "image/png": "[encoded data removed]",
      "text/plain": [
       "<Figure size 432x288 with 1 Axes>"
      ]
     },
     "metadata": {
      "needs_background": "light"
     },
     "output_type": "display_data"
    }
   ],
   "source": [
    "sns.distplot(test.errors)"
   ]
  },
  {
   "cell_type": "markdown",
   "metadata": {},
   "source": [
    "## Assumption 4 - Errors should be homoscedastic accross different values of Y"
   ]
  },
  {
   "cell_type": "markdown",
   "metadata": {},
   "source": [
    "### Here we can see that errors are homoscedastic across the Y there is no heteroscedasticity present in errors"
   ]
  },
  {
   "cell_type": "code",
   "execution_count": 104,
   "metadata": {},
   "outputs": [
    {
     "data": {
      "text/plain": [
       "<matplotlib.axes._subplots.AxesSubplot at 0x1c971f9dc08>"
      ]
     },
     "execution_count": 104,
     "metadata": {},
     "output_type": "execute_result"
    },
    {
     "data": {
      "image/png": "[encoded data removed]",
      "text/plain": [
       "<Figure size 432x288 with 1 Axes>"
      ]
     },
     "metadata": {
      "needs_background": "light"
     },
     "output_type": "display_data"
    }
   ],
   "source": [
    "sns.scatterplot(test.spending,test.errors)"
   ]
  },
  {
   "cell_type": "markdown",
   "metadata": {},
   "source": [
    "## Assumption 5 - There should not be any autocorrelation in errors"
   ]
  },
  {
   "cell_type": "markdown",
   "metadata": {},
   "source": [
    "### Via this model our durbin watson is coming under 10% of 2 ( Durbin-Watson:  2.022) hence we can say that autocorrelation is not present in errors"
   ]
  },
  {
   "cell_type": "markdown",
   "metadata": {},
   "source": [
    "<center>\n",
    "<h1> Decision Tree"
   ]
  },
  {
   "cell_type": "markdown",
   "metadata": {},
   "source": [
    "### CART MSE - CLASSIFICATION AND REGRESSION TREES FOR MEAN SQUARED ERRORS"
   ]
  },
  {
   "cell_type": "code",
   "execution_count": 105,
   "metadata": {},
   "outputs": [],
   "source": [
    "from sklearn.model_selection import GridSearchCV\n",
    "from sklearn.tree import DecisionTreeRegressor"
   ]
  },
  {
   "cell_type": "code",
   "execution_count": 106,
   "metadata": {},
   "outputs": [],
   "source": [
    "dtr = DecisionTreeRegressor()"
   ]
  },
  {
   "cell_type": "code",
   "execution_count": 107,
   "metadata": {},
   "outputs": [],
   "source": [
    "param_grid={'max_depth':np.arange(1,4),\n",
    "'max_features':np.arange(1,19),\n",
    "'criterion':['mse']}"
   ]
  },
  {
   "cell_type": "code",
   "execution_count": 108,
   "metadata": {},
   "outputs": [],
   "source": [
    "tree_reg = GridSearchCV(dtr,param_grid,cv=10)"
   ]
  },
  {
   "cell_type": "code",
   "execution_count": 109,
   "metadata": {},
   "outputs": [
    {
     "name": "stderr",
     "output_type": "stream",
     "text": [
      "C:\\Users\\ZomAdmin\\anaconda3\\lib\\site-packages\\sklearn\\model_selection\\_validation.py:536: FitFailedWarning: Estimator fit failed. The score on this train-test partition for these parameters will be set to nan. Details: \n",
      "ValueError: max_features must be in (0, n_features]\n",
      "\n",
      "  FitFailedWarning)\n",
      "C:\\Users\\ZomAdmin\\anaconda3\\lib\\site-packages\\sklearn\\model_selection\\_validation.py:536: FitFailedWarning: Estimator fit failed. The score on this train-test partition for these parameters will be set to nan. Details: \n",
      "ValueError: max_features must be in (0, n_features]\n",
      "\n",
      "  FitFailedWarning)\n",
      "C:\\Users\\ZomAdmin\\anaconda3\\lib\\site-packages\\sklearn\\model_selection\\_validation.py:536: FitFailedWarning: Estimator fit failed. The score on this train-test partition for these parameters will be set to nan. Details: \n",
      "ValueError: max_features must be in (0, n_features]\n",
      "\n",
      "  FitFailedWarning)\n",
      "C:\\Users\\ZomAdmin\\anaconda3\\lib\\site-packages\\sklearn\\model_selection\\_validation.py:536: FitFailedWarning: Estimator fit failed. The score on this train-test partition for these parameters will be set to nan. Details: \n",
      "ValueError: max_features must be in (0, n_features]\n",
      "\n",
      "  FitFailedWarning)\n",
      "C:\\Users\\ZomAdmin\\anaconda3\\lib\\site-packages\\sklearn\\model_selection\\_validation.py:536: FitFailedWarning: Estimator fit failed. The score on this train-test partition for these parameters will be set to nan. Details: \n",
      "ValueError: max_features must be in (0, n_features]\n",
      "\n",
      "  FitFailedWarning)\n",
      "C:\\Users\\ZomAdmin\\anaconda3\\lib\\site-packages\\sklearn\\model_selection\\_validation.py:536: FitFailedWarning: Estimator fit failed. The score on this train-test partition for these parameters will be set to nan. Details: \n",
      "ValueError: max_features must be in (0, n_features]\n",
      "\n",
      "  FitFailedWarning)\n",
      "C:\\Users\\ZomAdmin\\anaconda3\\lib\\site-packages\\sklearn\\model_selection\\_validation.py:536: FitFailedWarning: Estimator fit failed. The score on this train-test partition for these parameters will be set to nan. Details: \n",
      "ValueError: max_features must be in (0, n_features]\n",
      "\n",
      "  FitFailedWarning)\n",
      "C:\\Users\\ZomAdmin\\anaconda3\\lib\\site-packages\\sklearn\\model_selection\\_validation.py:536: FitFailedWarning: Estimator fit failed. The score on this train-test partition for these parameters will be set to nan. Details: \n",
      "ValueError: max_features must be in (0, n_features]\n",
      "\n",
      "  FitFailedWarning)\n",
      "C:\\Users\\ZomAdmin\\anaconda3\\lib\\site-packages\\sklearn\\model_selection\\_validation.py:536: FitFailedWarning: Estimator fit failed. The score on this train-test partition for these parameters will be set to nan. Details: \n",
      "ValueError: max_features must be in (0, n_features]\n",
      "\n",
      "  FitFailedWarning)\n",
      "C:\\Users\\ZomAdmin\\anaconda3\\lib\\site-packages\\sklearn\\model_selection\\_validation.py:536: FitFailedWarning: Estimator fit failed. The score on this train-test partition for these parameters will be set to nan. Details: \n",
      "ValueError: max_features must be in (0, n_features]\n",
      "\n",
      "  FitFailedWarning)\n",
      "C:\\Users\\ZomAdmin\\anaconda3\\lib\\site-packages\\sklearn\\model_selection\\_validation.py:536: FitFailedWarning: Estimator fit failed. The score on this train-test partition for these parameters will be set to nan. Details: \n",
      "ValueError: max_features must be in (0, n_features]\n",
      "\n",
      "  FitFailedWarning)\n",
      "C:\\Users\\ZomAdmin\\anaconda3\\lib\\site-packages\\sklearn\\model_selection\\_validation.py:536: FitFailedWarning: Estimator fit failed. The score on this train-test partition for these parameters will be set to nan. Details: \n",
      "ValueError: max_features must be in (0, n_features]\n",
      "\n",
      "  FitFailedWarning)\n",
      "C:\\Users\\ZomAdmin\\anaconda3\\lib\\site-packages\\sklearn\\model_selection\\_validation.py:536: FitFailedWarning: Estimator fit failed. The score on this train-test partition for these parameters will be set to nan. Details: \n",
      "ValueError: max_features must be in (0, n_features]\n",
      "\n",
      "  FitFailedWarning)\n",
      "C:\\Users\\ZomAdmin\\anaconda3\\lib\\site-packages\\sklearn\\model_selection\\_validation.py:536: FitFailedWarning: Estimator fit failed. The score on this train-test partition for these parameters will be set to nan. Details: \n",
      "ValueError: max_features must be in (0, n_features]\n",
      "\n",
      "  FitFailedWarning)\n",
      "C:\\Users\\ZomAdmin\\anaconda3\\lib\\site-packages\\sklearn\\model_selection\\_validation.py:536: FitFailedWarning: Estimator fit failed. The score on this train-test partition for these parameters will be set to nan. Details: \n",
      "ValueError: max_features must be in (0, n_features]\n",
      "\n",
      "  FitFailedWarning)\n",
      "C:\\Users\\ZomAdmin\\anaconda3\\lib\\site-packages\\sklearn\\model_selection\\_validation.py:536: FitFailedWarning: Estimator fit failed. The score on this train-test partition for these parameters will be set to nan. Details: \n",
      "ValueError: max_features must be in (0, n_features]\n",
      "\n",
      "  FitFailedWarning)\n",
      "C:\\Users\\ZomAdmin\\anaconda3\\lib\\site-packages\\sklearn\\model_selection\\_validation.py:536: FitFailedWarning: Estimator fit failed. The score on this train-test partition for these parameters will be set to nan. Details: \n",
      "ValueError: max_features must be in (0, n_features]\n",
      "\n",
      "  FitFailedWarning)\n",
      "C:\\Users\\ZomAdmin\\anaconda3\\lib\\site-packages\\sklearn\\model_selection\\_validation.py:536: FitFailedWarning: Estimator fit failed. The score on this train-test partition for these parameters will be set to nan. Details: \n",
      "ValueError: max_features must be in (0, n_features]\n",
      "\n",
      "  FitFailedWarning)\n",
      "C:\\Users\\ZomAdmin\\anaconda3\\lib\\site-packages\\sklearn\\model_selection\\_validation.py:536: FitFailedWarning: Estimator fit failed. The score on this train-test partition for these parameters will be set to nan. Details: \n",
      "ValueError: max_features must be in (0, n_features]\n",
      "\n",
      "  FitFailedWarning)\n",
      "C:\\Users\\ZomAdmin\\anaconda3\\lib\\site-packages\\sklearn\\model_selection\\_validation.py:536: FitFailedWarning: Estimator fit failed. The score on this train-test partition for these parameters will be set to nan. Details: \n",
      "ValueError: max_features must be in (0, n_features]\n",
      "\n",
      "  FitFailedWarning)\n",
      "C:\\Users\\ZomAdmin\\anaconda3\\lib\\site-packages\\sklearn\\model_selection\\_validation.py:536: FitFailedWarning: Estimator fit failed. The score on this train-test partition for these parameters will be set to nan. Details: \n",
      "ValueError: max_features must be in (0, n_features]\n",
      "\n",
      "  FitFailedWarning)\n",
      "C:\\Users\\ZomAdmin\\anaconda3\\lib\\site-packages\\sklearn\\model_selection\\_validation.py:536: FitFailedWarning: Estimator fit failed. The score on this train-test partition for these parameters will be set to nan. Details: \n",
      "ValueError: max_features must be in (0, n_features]\n",
      "\n",
      "  FitFailedWarning)\n",
      "C:\\Users\\ZomAdmin\\anaconda3\\lib\\site-packages\\sklearn\\model_selection\\_validation.py:536: FitFailedWarning: Estimator fit failed. The score on this train-test partition for these parameters will be set to nan. Details: \n",
      "ValueError: max_features must be in (0, n_features]\n",
      "\n",
      "  FitFailedWarning)\n",
      "C:\\Users\\ZomAdmin\\anaconda3\\lib\\site-packages\\sklearn\\model_selection\\_validation.py:536: FitFailedWarning: Estimator fit failed. The score on this train-test partition for these parameters will be set to nan. Details: \n",
      "ValueError: max_features must be in (0, n_features]\n",
      "\n",
      "  FitFailedWarning)\n",
      "C:\\Users\\ZomAdmin\\anaconda3\\lib\\site-packages\\sklearn\\model_selection\\_validation.py:536: FitFailedWarning: Estimator fit failed. The score on this train-test partition for these parameters will be set to nan. Details: \n",
      "ValueError: max_features must be in (0, n_features]\n",
      "\n",
      "  FitFailedWarning)\n",
      "C:\\Users\\ZomAdmin\\anaconda3\\lib\\site-packages\\sklearn\\model_selection\\_validation.py:536: FitFailedWarning: Estimator fit failed. The score on this train-test partition for these parameters will be set to nan. Details: \n",
      "ValueError: max_features must be in (0, n_features]\n",
      "\n",
      "  FitFailedWarning)\n",
      "C:\\Users\\ZomAdmin\\anaconda3\\lib\\site-packages\\sklearn\\model_selection\\_validation.py:536: FitFailedWarning: Estimator fit failed. The score on this train-test partition for these parameters will be set to nan. Details: \n",
      "ValueError: max_features must be in (0, n_features]\n",
      "\n",
      "  FitFailedWarning)\n",
      "C:\\Users\\ZomAdmin\\anaconda3\\lib\\site-packages\\sklearn\\model_selection\\_validation.py:536: FitFailedWarning: Estimator fit failed. The score on this train-test partition for these parameters will be set to nan. Details: \n",
      "ValueError: max_features must be in (0, n_features]\n",
      "\n",
      "  FitFailedWarning)\n",
      "C:\\Users\\ZomAdmin\\anaconda3\\lib\\site-packages\\sklearn\\model_selection\\_validation.py:536: FitFailedWarning: Estimator fit failed. The score on this train-test partition for these parameters will be set to nan. Details: \n",
      "ValueError: max_features must be in (0, n_features]\n",
      "\n",
      "  FitFailedWarning)\n",
      "C:\\Users\\ZomAdmin\\anaconda3\\lib\\site-packages\\sklearn\\model_selection\\_validation.py:536: FitFailedWarning: Estimator fit failed. The score on this train-test partition for these parameters will be set to nan. Details: \n",
      "ValueError: max_features must be in (0, n_features]\n",
      "\n",
      "  FitFailedWarning)\n"
     ]
    },
    {
     "data": {
      "text/plain": [
       "GridSearchCV(cv=10, error_score=nan,\n",
       "             estimator=DecisionTreeRegressor(ccp_alpha=0.0, criterion='mse',\n",
       "                                             max_depth=None, max_features=None,\n",
       "                                             max_leaf_nodes=None,\n",
       "                                             min_impurity_decrease=0.0,\n",
       "                                             min_impurity_split=None,\n",
       "                                             min_samples_leaf=1,\n",
       "                                             min_samples_split=2,\n",
       "                                             min_weight_fraction_leaf=0.0,\n",
       "                                             presort='deprecated',\n",
       "                                             random_state=None,\n",
       "                                             splitter='best'),\n",
       "             iid='deprecated', n_jobs=None,\n",
       "             param_grid={'criterion': ['mse'], 'max_depth': array([1, 2, 3]),\n",
       "                         'max_features': array([ 1,  2,  3,  4,  5,  6,  7,  8,  9, 10, 11, 12, 13, 14, 15, 16, 17,\n",
       "       18])},\n",
       "             pre_dispatch='2*n_jobs', refit=True, return_train_score=False,\n",
       "             scoring=None, verbose=0)"
      ]
     },
     "execution_count": 109,
     "metadata": {},
     "output_type": "execute_result"
    }
   ],
   "source": [
    "tree_reg.fit(train[feature_columns2],train.log_spending)"
   ]
  },
  {
   "cell_type": "code",
   "execution_count": 110,
   "metadata": {},
   "outputs": [
    {
     "data": {
      "text/plain": [
       "{'criterion': 'mse', 'max_depth': 3, 'max_features': 17}"
      ]
     },
     "execution_count": 110,
     "metadata": {},
     "output_type": "execute_result"
    }
   ],
   "source": [
    "tree_reg.best_params_  ## Here we are getting best parameters to build model on "
   ]
  },
  {
   "cell_type": "code",
   "execution_count": 111,
   "metadata": {},
   "outputs": [],
   "source": [
    "tree_hyped = DecisionTreeRegressor(criterion='mse',max_depth=3,max_features=17)"
   ]
  },
  {
   "cell_type": "code",
   "execution_count": 112,
   "metadata": {},
   "outputs": [
    {
     "data": {
      "text/plain": [
       "DecisionTreeRegressor(ccp_alpha=0.0, criterion='mse', max_depth=3,\n",
       "                      max_features=17, max_leaf_nodes=None,\n",
       "                      min_impurity_decrease=0.0, min_impurity_split=None,\n",
       "                      min_samples_leaf=1, min_samples_split=2,\n",
       "                      min_weight_fraction_leaf=0.0, presort='deprecated',\n",
       "                      random_state=None, splitter='best')"
      ]
     },
     "execution_count": 112,
     "metadata": {},
     "output_type": "execute_result"
    }
   ],
   "source": [
    "tree_hyped.fit(train[feature_columns2],train.log_spending)"
   ]
  },
  {
   "cell_type": "code",
   "execution_count": 113,
   "metadata": {},
   "outputs": [],
   "source": [
    "# Step 4: predict the sales on the training data\n",
    "train_decision = pd.DataFrame({'Actual':train.spending,'predicted':np.exp(tree_hyped.predict(train[feature_columns2]))})"
   ]
  },
  {
   "cell_type": "code",
   "execution_count": 114,
   "metadata": {},
   "outputs": [],
   "source": [
    "test_decision = pd.DataFrame({'Actual':test.spending,'predicted':np.exp(tree_hyped.predict(test[feature_columns2]))})"
   ]
  },
  {
   "cell_type": "code",
   "execution_count": 115,
   "metadata": {},
   "outputs": [
    {
     "data": {
      "text/html": [
       "<div>\n",
       "<style scoped>\n",
       "    .dataframe tbody tr th:only-of-type {\n",
       "        vertical-align: middle;\n",
       "    }\n",
       "\n",
       "    .dataframe tbody tr th {\n",
       "        vertical-align: top;\n",
       "    }\n",
       "\n",
       "    .dataframe thead th {\n",
       "        text-align: right;\n",
       "    }\n",
       "</style>\n",
       "<table border=\"1\" class=\"dataframe\">\n",
       "  <thead>\n",
       "    <tr style=\"text-align: right;\">\n",
       "      <th></th>\n",
       "      <th>Actual</th>\n",
       "      <th>predicted</th>\n",
       "    </tr>\n",
       "  </thead>\n",
       "  <tbody>\n",
       "    <tr>\n",
       "      <th>3566</th>\n",
       "      <td>499.15</td>\n",
       "      <td>446.147748</td>\n",
       "    </tr>\n",
       "    <tr>\n",
       "      <th>4252</th>\n",
       "      <td>407.08</td>\n",
       "      <td>446.147748</td>\n",
       "    </tr>\n",
       "    <tr>\n",
       "      <th>1918</th>\n",
       "      <td>232.08</td>\n",
       "      <td>223.203793</td>\n",
       "    </tr>\n",
       "    <tr>\n",
       "      <th>4111</th>\n",
       "      <td>231.82</td>\n",
       "      <td>223.203793</td>\n",
       "    </tr>\n",
       "    <tr>\n",
       "      <th>1471</th>\n",
       "      <td>256.02</td>\n",
       "      <td>223.203793</td>\n",
       "    </tr>\n",
       "  </tbody>\n",
       "</table>\n",
       "</div>"
      ],
      "text/plain": [
       "      Actual   predicted\n",
       "3566  499.15  446.147748\n",
       "4252  407.08  446.147748\n",
       "1918  232.08  223.203793\n",
       "4111  231.82  223.203793\n",
       "1471  256.02  223.203793"
      ]
     },
     "execution_count": 115,
     "metadata": {},
     "output_type": "execute_result"
    }
   ],
   "source": [
    "test_decision.head(5)"
   ]
  },
  {
   "cell_type": "code",
   "execution_count": 116,
   "metadata": {},
   "outputs": [
    {
     "data": {
      "text/html": [
       "<div>\n",
       "<style scoped>\n",
       "    .dataframe tbody tr th:only-of-type {\n",
       "        vertical-align: middle;\n",
       "    }\n",
       "\n",
       "    .dataframe tbody tr th {\n",
       "        vertical-align: top;\n",
       "    }\n",
       "\n",
       "    .dataframe thead th {\n",
       "        text-align: right;\n",
       "    }\n",
       "</style>\n",
       "<table border=\"1\" class=\"dataframe\">\n",
       "  <thead>\n",
       "    <tr style=\"text-align: right;\">\n",
       "      <th></th>\n",
       "      <th>Actual</th>\n",
       "      <th>predicted</th>\n",
       "    </tr>\n",
       "  </thead>\n",
       "  <tbody>\n",
       "    <tr>\n",
       "      <th>2416</th>\n",
       "      <td>600.97</td>\n",
       "      <td>606.719068</td>\n",
       "    </tr>\n",
       "    <tr>\n",
       "      <th>2417</th>\n",
       "      <td>604.09</td>\n",
       "      <td>606.719068</td>\n",
       "    </tr>\n",
       "    <tr>\n",
       "      <th>2513</th>\n",
       "      <td>517.89</td>\n",
       "      <td>446.147748</td>\n",
       "    </tr>\n",
       "    <tr>\n",
       "      <th>1698</th>\n",
       "      <td>748.64</td>\n",
       "      <td>854.880402</td>\n",
       "    </tr>\n",
       "    <tr>\n",
       "      <th>3322</th>\n",
       "      <td>431.36</td>\n",
       "      <td>446.147748</td>\n",
       "    </tr>\n",
       "  </tbody>\n",
       "</table>\n",
       "</div>"
      ],
      "text/plain": [
       "      Actual   predicted\n",
       "2416  600.97  606.719068\n",
       "2417  604.09  606.719068\n",
       "2513  517.89  446.147748\n",
       "1698  748.64  854.880402\n",
       "3322  431.36  446.147748"
      ]
     },
     "execution_count": 116,
     "metadata": {},
     "output_type": "execute_result"
    }
   ],
   "source": [
    "train_decision.head(5)"
   ]
  },
  {
   "cell_type": "markdown",
   "metadata": {},
   "source": [
    "## Decision tree model evaluation"
   ]
  },
  {
   "cell_type": "markdown",
   "metadata": {},
   "source": [
    "## Mean errors"
   ]
  },
  {
   "cell_type": "code",
   "execution_count": 117,
   "metadata": {},
   "outputs": [
    {
     "data": {
      "text/plain": [
       "Actual       494.620505\n",
       "predicted    491.220056\n",
       "dtype: float64"
      ]
     },
     "execution_count": 117,
     "metadata": {},
     "output_type": "execute_result"
    }
   ],
   "source": [
    "train_decision.mean()"
   ]
  },
  {
   "cell_type": "code",
   "execution_count": 118,
   "metadata": {},
   "outputs": [
    {
     "data": {
      "text/plain": [
       "Actual       486.637923\n",
       "predicted    484.828622\n",
       "dtype: float64"
      ]
     },
     "execution_count": 118,
     "metadata": {},
     "output_type": "execute_result"
    }
   ],
   "source": [
    "test_decision.mean()"
   ]
  },
  {
   "cell_type": "markdown",
   "metadata": {},
   "source": [
    "## MSE and RMSE"
   ]
  },
  {
   "cell_type": "code",
   "execution_count": 119,
   "metadata": {},
   "outputs": [
    {
     "name": "stdout",
     "output_type": "stream",
     "text": [
      "MSE 5921.52358719529 | RMSE 76.95143655056279\n",
      "MSE 5143.775302546279 | RMSE 71.72011783695199\n"
     ]
    }
   ],
   "source": [
    "mse_train = metrics.mean_squared_error(train_decision.Actual,train_decision.predicted)\n",
    "mse_test=metrics.mean_squared_error(test_decision.Actual,test_decision.predicted)\n",
    "#------------------------------------------------------------\n",
    "RMSE_train=np.sqrt(mse_train)\n",
    "RMSE_test=np.sqrt(mse_test)\n",
    "\n",
    "print('MSE',mse_train,'|','RMSE',RMSE_train)\n",
    "print('MSE',mse_test,'|','RMSE',RMSE_test)"
   ]
  },
  {
   "cell_type": "markdown",
   "metadata": {},
   "source": [
    "## MAE AND MAPE - Mean absolute error and Mean absolute percentage Error"
   ]
  },
  {
   "cell_type": "code",
   "execution_count": 120,
   "metadata": {},
   "outputs": [
    {
     "name": "stdout",
     "output_type": "stream",
     "text": [
      "MAPE of training data:  0.097  |  MAPE of testing data:  0.094\n",
      "MAE_TRAIN 48.15988964869077 | MAE_TEST 45.955606913767795\n"
     ]
    }
   ],
   "source": [
    "# Step 6: accuracy metrics (a. MAPE: Mean Absolute Percentage Error)\n",
    "MAE_TRAIN_dec = metrics.mean_absolute_error(train_decision.Actual,train_decision.predicted)\n",
    "MAE_TEST_dec = metrics.mean_absolute_error(test_decision.Actual,test_decision.predicted)\n",
    "\n",
    "MAPE_train = '%.3f' % np.mean(np.abs(train_decision['Actual'] - train_decision['predicted'])/train_decision['Actual'])\n",
    "MAPE_test = '%.3f' % np.mean(np.abs(test_decision['Actual'] - test_decision['predicted'])/test_decision['Actual'])\n",
    "\n",
    "# print the values of MAPE for train and test\n",
    "print('MAPE of training data: ', MAPE_train,  ' | ', 'MAPE of testing data: ', MAPE_test)\n",
    "print('MAE_TRAIN',MAE_TRAIN_dec,'|','MAE_TEST',MAE_TEST_dec)"
   ]
  },
  {
   "cell_type": "markdown",
   "metadata": {},
   "source": [
    "## Scatter plot"
   ]
  },
  {
   "cell_type": "markdown",
   "metadata": {},
   "source": [
    "### Model has less errors as compared to linear regression"
   ]
  },
  {
   "cell_type": "code",
   "execution_count": 122,
   "metadata": {},
   "outputs": [
    {
     "data": {
      "text/plain": [
       "<matplotlib.axes._subplots.AxesSubplot at 0x19874629788>"
      ]
     },
     "execution_count": 122,
     "metadata": {},
     "output_type": "execute_result"
    },
    {
     "data": {
      "image/png": "[encoded data removed]",
      "text/plain": [
       "<Figure size 432x288 with 1 Axes>"
      ]
     },
     "metadata": {
      "needs_background": "light"
     },
     "output_type": "display_data"
    }
   ],
   "source": [
    "sns.scatterplot(test_decision.Actual,test_decision.predicted)"
   ]
  },
  {
   "cell_type": "markdown",
   "metadata": {},
   "source": [
    "## Correlation matrix"
   ]
  },
  {
   "cell_type": "code",
   "execution_count": 124,
   "metadata": {},
   "outputs": [
    {
     "data": {
      "text/plain": [
       "<matplotlib.axes._subplots.AxesSubplot at 0x19874806248>"
      ]
     },
     "execution_count": 124,
     "metadata": {},
     "output_type": "execute_result"
    },
    {
     "data": {
      "image/png": "[encoded data removed]",
      "text/plain": [
       "<Figure size 432x288 with 2 Axes>"
      ]
     },
     "metadata": {
      "needs_background": "light"
     },
     "output_type": "display_data"
    }
   ],
   "source": [
    "sns.heatmap(test_decision[['Actual','predicted']].corr(),annot = True)"
   ]
  },
  {
   "cell_type": "markdown",
   "metadata": {},
   "source": [
    "## Decile analysis for testing data"
   ]
  },
  {
   "cell_type": "code",
   "execution_count": 122,
   "metadata": {},
   "outputs": [],
   "source": [
    "test_decision['deciles'] = pd.qcut(test_decision.predicted,10,labels = False,duplicates='drop')"
   ]
  },
  {
   "cell_type": "code",
   "execution_count": 123,
   "metadata": {},
   "outputs": [
    {
     "data": {
      "text/html": [
       "<div>\n",
       "<style scoped>\n",
       "    .dataframe tbody tr th:only-of-type {\n",
       "        vertical-align: middle;\n",
       "    }\n",
       "\n",
       "    .dataframe tbody tr th {\n",
       "        vertical-align: top;\n",
       "    }\n",
       "\n",
       "    .dataframe thead th {\n",
       "        text-align: right;\n",
       "    }\n",
       "</style>\n",
       "<table border=\"1\" class=\"dataframe\">\n",
       "  <thead>\n",
       "    <tr style=\"text-align: right;\">\n",
       "      <th></th>\n",
       "      <th>Actual</th>\n",
       "      <th>predicted</th>\n",
       "      <th>deciles</th>\n",
       "    </tr>\n",
       "  </thead>\n",
       "  <tbody>\n",
       "    <tr>\n",
       "      <th>3566</th>\n",
       "      <td>499.15</td>\n",
       "      <td>446.147748</td>\n",
       "      <td>2</td>\n",
       "    </tr>\n",
       "  </tbody>\n",
       "</table>\n",
       "</div>"
      ],
      "text/plain": [
       "      Actual   predicted  deciles\n",
       "3566  499.15  446.147748        2"
      ]
     },
     "execution_count": 123,
     "metadata": {},
     "output_type": "execute_result"
    }
   ],
   "source": [
    "test_decision.head(1)"
   ]
  },
  {
   "cell_type": "markdown",
   "metadata": {},
   "source": [
    "## Here we can see that output is still directionally unstable for last 5 deciles"
   ]
  },
  {
   "cell_type": "code",
   "execution_count": 126,
   "metadata": {},
   "outputs": [
    {
     "data": {
      "text/html": [
       "<div>\n",
       "<style scoped>\n",
       "    .dataframe tbody tr th:only-of-type {\n",
       "        vertical-align: middle;\n",
       "    }\n",
       "\n",
       "    .dataframe tbody tr th {\n",
       "        vertical-align: top;\n",
       "    }\n",
       "\n",
       "    .dataframe thead th {\n",
       "        text-align: right;\n",
       "    }\n",
       "</style>\n",
       "<table border=\"1\" class=\"dataframe\">\n",
       "  <thead>\n",
       "    <tr style=\"text-align: right;\">\n",
       "      <th></th>\n",
       "      <th>deciles</th>\n",
       "      <th>Actual</th>\n",
       "      <th>predicted</th>\n",
       "    </tr>\n",
       "  </thead>\n",
       "  <tbody>\n",
       "    <tr>\n",
       "      <th>0</th>\n",
       "      <td>5</td>\n",
       "      <td>1378.963918</td>\n",
       "      <td>1382.324721</td>\n",
       "    </tr>\n",
       "    <tr>\n",
       "      <th>1</th>\n",
       "      <td>4</td>\n",
       "      <td>869.799695</td>\n",
       "      <td>854.880402</td>\n",
       "    </tr>\n",
       "    <tr>\n",
       "      <th>2</th>\n",
       "      <td>3</td>\n",
       "      <td>602.930992</td>\n",
       "      <td>606.719068</td>\n",
       "    </tr>\n",
       "    <tr>\n",
       "      <th>3</th>\n",
       "      <td>2</td>\n",
       "      <td>446.530613</td>\n",
       "      <td>446.147748</td>\n",
       "    </tr>\n",
       "    <tr>\n",
       "      <th>4</th>\n",
       "      <td>1</td>\n",
       "      <td>322.248967</td>\n",
       "      <td>321.635002</td>\n",
       "    </tr>\n",
       "    <tr>\n",
       "      <th>5</th>\n",
       "      <td>0</td>\n",
       "      <td>190.411629</td>\n",
       "      <td>186.771507</td>\n",
       "    </tr>\n",
       "  </tbody>\n",
       "</table>\n",
       "</div>"
      ],
      "text/plain": [
       "   deciles       Actual    predicted\n",
       "0        5  1378.963918  1382.324721\n",
       "1        4   869.799695   854.880402\n",
       "2        3   602.930992   606.719068\n",
       "3        2   446.530613   446.147748\n",
       "4        1   322.248967   321.635002\n",
       "5        0   190.411629   186.771507"
      ]
     },
     "execution_count": 126,
     "metadata": {},
     "output_type": "execute_result"
    }
   ],
   "source": [
    "test_decision.groupby('deciles')[['Actual','predicted']].mean().sort_index(ascending = False).reset_index()"
   ]
  },
  {
   "cell_type": "code",
   "execution_count": 125,
   "metadata": {},
   "outputs": [],
   "source": [
    "deciles_decision_tree_model = test_decision.groupby('deciles')[['Actual','predicted']].mean().sort_index(ascending = False).reset_index()"
   ]
  },
  {
   "cell_type": "code",
   "execution_count": 127,
   "metadata": {},
   "outputs": [],
   "source": [
    "deciles_decision_tree_model.to_csv('deciles_decision_tree_model.csv',header = True)"
   ]
  },
  {
   "cell_type": "markdown",
   "metadata": {},
   "source": [
    "<center>\n",
    "<h1> Bagging"
   ]
  },
  {
   "cell_type": "code",
   "execution_count": 130,
   "metadata": {},
   "outputs": [],
   "source": [
    "from sklearn.ensemble import BaggingRegressor"
   ]
  },
  {
   "cell_type": "code",
   "execution_count": 131,
   "metadata": {},
   "outputs": [
    {
     "data": {
      "text/plain": [
       "BaggingRegressor(base_estimator=None, bootstrap=True, bootstrap_features=False,\n",
       "                 max_features=1.0, max_samples=1.0, n_estimators=10,\n",
       "                 n_jobs=None, oob_score=False, random_state=None, verbose=0,\n",
       "                 warm_start=False)"
      ]
     },
     "execution_count": 131,
     "metadata": {},
     "output_type": "execute_result"
    }
   ],
   "source": [
    "BaggingRegressor()"
   ]
  },
  {
   "cell_type": "code",
   "execution_count": 132,
   "metadata": {},
   "outputs": [],
   "source": [
    "param_grid={'n_estimators':[100,200,300,400],\n",
    "'max_samples':[0.9,0.8,0.7,0.6],}"
   ]
  },
  {
   "cell_type": "markdown",
   "metadata": {},
   "source": [
    "#### Running BaggingRegressor for regression, keeping warm_start = True so that our model will retain last iteration and will do incremental 100 in every next iteration"
   ]
  },
  {
   "cell_type": "code",
   "execution_count": 133,
   "metadata": {},
   "outputs": [],
   "source": [
    "bagg_reg = GridSearchCV(BaggingRegressor(warm_start=True),param_grid,cv = 5)"
   ]
  },
  {
   "cell_type": "code",
   "execution_count": 134,
   "metadata": {},
   "outputs": [
    {
     "data": {
      "text/plain": [
       "GridSearchCV(cv=5, error_score=nan,\n",
       "             estimator=BaggingRegressor(base_estimator=None, bootstrap=True,\n",
       "                                        bootstrap_features=False,\n",
       "                                        max_features=1.0, max_samples=1.0,\n",
       "                                        n_estimators=10, n_jobs=None,\n",
       "                                        oob_score=False, random_state=None,\n",
       "                                        verbose=0, warm_start=True),\n",
       "             iid='deprecated', n_jobs=None,\n",
       "             param_grid={'max_samples': [0.9, 0.8, 0.7, 0.6],\n",
       "                         'n_estimators': [100, 200, 300, 400]},\n",
       "             pre_dispatch='2*n_jobs', refit=True, return_train_score=False,\n",
       "             scoring=None, verbose=0)"
      ]
     },
     "execution_count": 134,
     "metadata": {},
     "output_type": "execute_result"
    }
   ],
   "source": [
    "bagg_reg.fit(train[feature_columns2],train.log_spending)"
   ]
  },
  {
   "cell_type": "code",
   "execution_count": 135,
   "metadata": {},
   "outputs": [
    {
     "data": {
      "text/plain": [
       "{'max_samples': 0.9, 'n_estimators': 300}"
      ]
     },
     "execution_count": 135,
     "metadata": {},
     "output_type": "execute_result"
    }
   ],
   "source": [
    "bagg_reg.best_params_ ## These are the best parameters for our bagging model:"
   ]
  },
  {
   "cell_type": "code",
   "execution_count": 136,
   "metadata": {},
   "outputs": [],
   "source": [
    "bag_reg = BaggingRegressor(max_samples = 0.9,n_estimators=200)"
   ]
  },
  {
   "cell_type": "code",
   "execution_count": 137,
   "metadata": {},
   "outputs": [
    {
     "data": {
      "text/plain": [
       "BaggingRegressor(base_estimator=None, bootstrap=True, bootstrap_features=False,\n",
       "                 max_features=1.0, max_samples=0.9, n_estimators=200,\n",
       "                 n_jobs=None, oob_score=False, random_state=None, verbose=0,\n",
       "                 warm_start=False)"
      ]
     },
     "execution_count": 137,
     "metadata": {},
     "output_type": "execute_result"
    }
   ],
   "source": [
    "bag_reg.fit(train[feature_columns2],train.log_spending)"
   ]
  },
  {
   "cell_type": "markdown",
   "metadata": {},
   "source": [
    "### Predictions "
   ]
  },
  {
   "cell_type": "code",
   "execution_count": 138,
   "metadata": {},
   "outputs": [],
   "source": [
    "train_bagging = pd.DataFrame({'Actual':train.spending,'predicted':np.exp(bag_reg.predict(train[feature_columns2]))})\n",
    "test_bagging = pd.DataFrame({'Actual':test.spending,'predicted':np.exp(bag_reg.predict(test[feature_columns2]))})"
   ]
  },
  {
   "cell_type": "code",
   "execution_count": 139,
   "metadata": {},
   "outputs": [
    {
     "data": {
      "text/html": [
       "<div>\n",
       "<style scoped>\n",
       "    .dataframe tbody tr th:only-of-type {\n",
       "        vertical-align: middle;\n",
       "    }\n",
       "\n",
       "    .dataframe tbody tr th {\n",
       "        vertical-align: top;\n",
       "    }\n",
       "\n",
       "    .dataframe thead th {\n",
       "        text-align: right;\n",
       "    }\n",
       "</style>\n",
       "<table border=\"1\" class=\"dataframe\">\n",
       "  <thead>\n",
       "    <tr style=\"text-align: right;\">\n",
       "      <th></th>\n",
       "      <th>Actual</th>\n",
       "      <th>predicted</th>\n",
       "    </tr>\n",
       "  </thead>\n",
       "  <tbody>\n",
       "    <tr>\n",
       "      <th>3566</th>\n",
       "      <td>499.15</td>\n",
       "      <td>499.247355</td>\n",
       "    </tr>\n",
       "    <tr>\n",
       "      <th>4252</th>\n",
       "      <td>407.08</td>\n",
       "      <td>406.994148</td>\n",
       "    </tr>\n",
       "    <tr>\n",
       "      <th>1918</th>\n",
       "      <td>232.08</td>\n",
       "      <td>232.294068</td>\n",
       "    </tr>\n",
       "    <tr>\n",
       "      <th>4111</th>\n",
       "      <td>231.82</td>\n",
       "      <td>232.038684</td>\n",
       "    </tr>\n",
       "    <tr>\n",
       "      <th>1471</th>\n",
       "      <td>256.02</td>\n",
       "      <td>255.934625</td>\n",
       "    </tr>\n",
       "    <tr>\n",
       "      <th>929</th>\n",
       "      <td>194.58</td>\n",
       "      <td>194.415638</td>\n",
       "    </tr>\n",
       "    <tr>\n",
       "      <th>1916</th>\n",
       "      <td>229.03</td>\n",
       "      <td>229.076237</td>\n",
       "    </tr>\n",
       "    <tr>\n",
       "      <th>3995</th>\n",
       "      <td>310.54</td>\n",
       "      <td>310.566468</td>\n",
       "    </tr>\n",
       "    <tr>\n",
       "      <th>1130</th>\n",
       "      <td>135.92</td>\n",
       "      <td>135.932734</td>\n",
       "    </tr>\n",
       "    <tr>\n",
       "      <th>1723</th>\n",
       "      <td>339.72</td>\n",
       "      <td>339.971425</td>\n",
       "    </tr>\n",
       "  </tbody>\n",
       "</table>\n",
       "</div>"
      ],
      "text/plain": [
       "      Actual   predicted\n",
       "3566  499.15  499.247355\n",
       "4252  407.08  406.994148\n",
       "1918  232.08  232.294068\n",
       "4111  231.82  232.038684\n",
       "1471  256.02  255.934625\n",
       "929   194.58  194.415638\n",
       "1916  229.03  229.076237\n",
       "3995  310.54  310.566468\n",
       "1130  135.92  135.932734\n",
       "1723  339.72  339.971425"
      ]
     },
     "execution_count": 139,
     "metadata": {},
     "output_type": "execute_result"
    }
   ],
   "source": [
    "test_bagging.head(10)"
   ]
  },
  {
   "cell_type": "code",
   "execution_count": 140,
   "metadata": {},
   "outputs": [
    {
     "data": {
      "text/html": [
       "<div>\n",
       "<style scoped>\n",
       "    .dataframe tbody tr th:only-of-type {\n",
       "        vertical-align: middle;\n",
       "    }\n",
       "\n",
       "    .dataframe tbody tr th {\n",
       "        vertical-align: top;\n",
       "    }\n",
       "\n",
       "    .dataframe thead th {\n",
       "        text-align: right;\n",
       "    }\n",
       "</style>\n",
       "<table border=\"1\" class=\"dataframe\">\n",
       "  <thead>\n",
       "    <tr style=\"text-align: right;\">\n",
       "      <th></th>\n",
       "      <th>Actual</th>\n",
       "      <th>predicted</th>\n",
       "    </tr>\n",
       "  </thead>\n",
       "  <tbody>\n",
       "    <tr>\n",
       "      <th>2416</th>\n",
       "      <td>600.97</td>\n",
       "      <td>600.993867</td>\n",
       "    </tr>\n",
       "    <tr>\n",
       "      <th>2417</th>\n",
       "      <td>604.09</td>\n",
       "      <td>604.240815</td>\n",
       "    </tr>\n",
       "    <tr>\n",
       "      <th>2513</th>\n",
       "      <td>517.89</td>\n",
       "      <td>517.718584</td>\n",
       "    </tr>\n",
       "    <tr>\n",
       "      <th>1698</th>\n",
       "      <td>748.64</td>\n",
       "      <td>748.438306</td>\n",
       "    </tr>\n",
       "    <tr>\n",
       "      <th>3322</th>\n",
       "      <td>431.36</td>\n",
       "      <td>431.360947</td>\n",
       "    </tr>\n",
       "    <tr>\n",
       "      <th>4133</th>\n",
       "      <td>539.05</td>\n",
       "      <td>539.156791</td>\n",
       "    </tr>\n",
       "    <tr>\n",
       "      <th>3116</th>\n",
       "      <td>927.19</td>\n",
       "      <td>926.874538</td>\n",
       "    </tr>\n",
       "    <tr>\n",
       "      <th>614</th>\n",
       "      <td>237.93</td>\n",
       "      <td>237.878888</td>\n",
       "    </tr>\n",
       "    <tr>\n",
       "      <th>2342</th>\n",
       "      <td>214.36</td>\n",
       "      <td>214.307156</td>\n",
       "    </tr>\n",
       "    <tr>\n",
       "      <th>1161</th>\n",
       "      <td>595.96</td>\n",
       "      <td>595.951745</td>\n",
       "    </tr>\n",
       "  </tbody>\n",
       "</table>\n",
       "</div>"
      ],
      "text/plain": [
       "      Actual   predicted\n",
       "2416  600.97  600.993867\n",
       "2417  604.09  604.240815\n",
       "2513  517.89  517.718584\n",
       "1698  748.64  748.438306\n",
       "3322  431.36  431.360947\n",
       "4133  539.05  539.156791\n",
       "3116  927.19  926.874538\n",
       "614   237.93  237.878888\n",
       "2342  214.36  214.307156\n",
       "1161  595.96  595.951745"
      ]
     },
     "execution_count": 140,
     "metadata": {},
     "output_type": "execute_result"
    }
   ],
   "source": [
    "train_bagging.head(10)"
   ]
  },
  {
   "cell_type": "markdown",
   "metadata": {},
   "source": [
    "## Bagging model evaluation"
   ]
  },
  {
   "cell_type": "code",
   "execution_count": 145,
   "metadata": {},
   "outputs": [
    {
     "data": {
      "text/plain": [
       "Actual       494.620755\n",
       "predicted    494.616875\n",
       "dtype: float64"
      ]
     },
     "execution_count": 145,
     "metadata": {},
     "output_type": "execute_result"
    }
   ],
   "source": [
    "train_bagging.mean() ## Not much difference among the mean values hence errors are stable "
   ]
  },
  {
   "cell_type": "code",
   "execution_count": 146,
   "metadata": {},
   "outputs": [
    {
     "data": {
      "text/plain": [
       "Actual       486.638215\n",
       "predicted    486.642564\n",
       "dtype: float64"
      ]
     },
     "execution_count": 146,
     "metadata": {},
     "output_type": "execute_result"
    }
   ],
   "source": [
    "test_bagging.mean()"
   ]
  },
  {
   "cell_type": "markdown",
   "metadata": {},
   "source": [
    "## MSE AND RMSE - Mean Squared Errors and Root Mean Squared Errors"
   ]
  },
  {
   "cell_type": "code",
   "execution_count": 147,
   "metadata": {},
   "outputs": [
    {
     "name": "stdout",
     "output_type": "stream",
     "text": [
      "MSE 0.1913981150613063 | RMSE 0.4374907028284216\n",
      "MSE 0.5066013590910696 | RMSE 0.7117593407122028\n"
     ]
    }
   ],
   "source": [
    "mse_train = metrics.mean_squared_error(train_bagging.Actual,train_bagging.predicted)\n",
    "mse_test=metrics.mean_squared_error(test_bagging.Actual,test_bagging.predicted)\n",
    "#------------------------------------------------------------\n",
    "RMSE_train=np.sqrt(mse_train)\n",
    "RMSE_test=np.sqrt(mse_test)\n",
    "\n",
    "print('MSE',mse_train,'|','RMSE',RMSE_train)\n",
    "print('MSE',mse_test,'|','RMSE',RMSE_test)"
   ]
  },
  {
   "cell_type": "markdown",
   "metadata": {},
   "source": [
    "## Mae and Mape - Mean absolute error and Mean absolute percentage error"
   ]
  },
  {
   "cell_type": "markdown",
   "metadata": {},
   "source": [
    "### We can see that MAPE value for training and testing are very low hence we can say that our model is explaining(reducing) high number of errors"
   ]
  },
  {
   "cell_type": "code",
   "execution_count": 150,
   "metadata": {},
   "outputs": [
    {
     "name": "stdout",
     "output_type": "stream",
     "text": [
      "MAPE of training data:  0.000  |  MAPE of testing data:  0.001\n",
      "MAE_TRAIN 0.16703977331617442 | MAE_TEST 0.29406432171834296\n"
     ]
    }
   ],
   "source": [
    "# Step 6: accuracy metrics (a. MAPE: Mean Absolute Percentage Error)\n",
    "MAE_TRAIN_bag = metrics.mean_absolute_error(train_bagging.Actual,train_bagging.predicted)\n",
    "MAE_TEST_bag = metrics.mean_absolute_error(test_bagging.Actual,test_bagging.predicted)\n",
    "\n",
    "MAPE_train = '%.3f' % np.mean(np.abs(train_bagging['Actual'] - train_bagging['predicted'])/train_bagging['Actual'])\n",
    "MAPE_test = '%.3f' % np.mean(np.abs(test_bagging['Actual'] - test_bagging['predicted'])/test_bagging['Actual'])\n",
    "\n",
    "# print the values of MAPE for train and test\n",
    "print('MAPE of training data: ', MAPE_train,  ' | ', 'MAPE of testing data: ', MAPE_test)\n",
    "print('MAE_TRAIN',MAE_TRAIN_bag,'|','MAE_TEST',MAE_TEST_bag)"
   ]
  },
  {
   "cell_type": "markdown",
   "metadata": {},
   "source": [
    "## Correlation "
   ]
  },
  {
   "cell_type": "code",
   "execution_count": 151,
   "metadata": {},
   "outputs": [
    {
     "data": {
      "text/plain": [
       "<matplotlib.axes._subplots.AxesSubplot at 0x19876f0cd48>"
      ]
     },
     "execution_count": 151,
     "metadata": {},
     "output_type": "execute_result"
    },
    {
     "data": {
      "image/png": "[encoded data removed]",
      "text/plain": [
       "<Figure size 432x288 with 2 Axes>"
      ]
     },
     "metadata": {
      "needs_background": "light"
     },
     "output_type": "display_data"
    }
   ],
   "source": [
    "sns.heatmap(test_bagging[['Actual','predicted']].corr(),annot = True)"
   ]
  },
  {
   "cell_type": "markdown",
   "metadata": {},
   "source": [
    "## Scatter plot"
   ]
  },
  {
   "cell_type": "markdown",
   "metadata": {},
   "source": [
    "### Model is showing high accuracy as we are getting straight line with our actual and predicted values"
   ]
  },
  {
   "cell_type": "code",
   "execution_count": 152,
   "metadata": {},
   "outputs": [
    {
     "data": {
      "text/plain": [
       "<matplotlib.axes._subplots.AxesSubplot at 0x19879e72848>"
      ]
     },
     "execution_count": 152,
     "metadata": {},
     "output_type": "execute_result"
    },
    {
     "data": {
      "image/png": "[encoded data removed]",
      "text/plain": [
       "<Figure size 432x288 with 1 Axes>"
      ]
     },
     "metadata": {
      "needs_background": "light"
     },
     "output_type": "display_data"
    }
   ],
   "source": [
    "sns.scatterplot(test_bagging.Actual,test_bagging.predicted)"
   ]
  },
  {
   "cell_type": "markdown",
   "metadata": {},
   "source": [
    "## Decile analysis"
   ]
  },
  {
   "cell_type": "markdown",
   "metadata": {},
   "source": [
    "### We can see that outputs are good for almost every observation"
   ]
  },
  {
   "cell_type": "code",
   "execution_count": 153,
   "metadata": {},
   "outputs": [],
   "source": [
    "test_bagging['Deciles'] = pd.qcut(test_bagging.predicted,10,labels = False)"
   ]
  },
  {
   "cell_type": "code",
   "execution_count": 156,
   "metadata": {},
   "outputs": [
    {
     "data": {
      "text/html": [
       "<div>\n",
       "<style scoped>\n",
       "    .dataframe tbody tr th:only-of-type {\n",
       "        vertical-align: middle;\n",
       "    }\n",
       "\n",
       "    .dataframe tbody tr th {\n",
       "        vertical-align: top;\n",
       "    }\n",
       "\n",
       "    .dataframe thead th {\n",
       "        text-align: right;\n",
       "    }\n",
       "</style>\n",
       "<table border=\"1\" class=\"dataframe\">\n",
       "  <thead>\n",
       "    <tr style=\"text-align: right;\">\n",
       "      <th></th>\n",
       "      <th>Deciles</th>\n",
       "      <th>Actual</th>\n",
       "      <th>predicted</th>\n",
       "    </tr>\n",
       "  </thead>\n",
       "  <tbody>\n",
       "    <tr>\n",
       "      <th>0</th>\n",
       "      <td>9</td>\n",
       "      <td>1195.178312</td>\n",
       "      <td>1195.312463</td>\n",
       "    </tr>\n",
       "    <tr>\n",
       "      <th>1</th>\n",
       "      <td>8</td>\n",
       "      <td>759.957067</td>\n",
       "      <td>759.842366</td>\n",
       "    </tr>\n",
       "    <tr>\n",
       "      <th>2</th>\n",
       "      <td>7</td>\n",
       "      <td>598.900467</td>\n",
       "      <td>598.893306</td>\n",
       "    </tr>\n",
       "    <tr>\n",
       "      <th>3</th>\n",
       "      <td>6</td>\n",
       "      <td>513.904333</td>\n",
       "      <td>513.897232</td>\n",
       "    </tr>\n",
       "    <tr>\n",
       "      <th>4</th>\n",
       "      <td>5</td>\n",
       "      <td>441.837933</td>\n",
       "      <td>441.843824</td>\n",
       "    </tr>\n",
       "    <tr>\n",
       "      <th>5</th>\n",
       "      <td>4</td>\n",
       "      <td>383.339733</td>\n",
       "      <td>383.343169</td>\n",
       "    </tr>\n",
       "    <tr>\n",
       "      <th>6</th>\n",
       "      <td>3</td>\n",
       "      <td>328.121200</td>\n",
       "      <td>328.097775</td>\n",
       "    </tr>\n",
       "    <tr>\n",
       "      <th>7</th>\n",
       "      <td>2</td>\n",
       "      <td>282.074667</td>\n",
       "      <td>282.067781</td>\n",
       "    </tr>\n",
       "    <tr>\n",
       "      <th>8</th>\n",
       "      <td>1</td>\n",
       "      <td>227.530200</td>\n",
       "      <td>227.535589</td>\n",
       "    </tr>\n",
       "    <tr>\n",
       "      <th>9</th>\n",
       "      <td>0</td>\n",
       "      <td>135.538233</td>\n",
       "      <td>135.592135</td>\n",
       "    </tr>\n",
       "  </tbody>\n",
       "</table>\n",
       "</div>"
      ],
      "text/plain": [
       "   Deciles       Actual    predicted\n",
       "0        9  1195.178312  1195.312463\n",
       "1        8   759.957067   759.842366\n",
       "2        7   598.900467   598.893306\n",
       "3        6   513.904333   513.897232\n",
       "4        5   441.837933   441.843824\n",
       "5        4   383.339733   383.343169\n",
       "6        3   328.121200   328.097775\n",
       "7        2   282.074667   282.067781\n",
       "8        1   227.530200   227.535589\n",
       "9        0   135.538233   135.592135"
      ]
     },
     "execution_count": 156,
     "metadata": {},
     "output_type": "execute_result"
    }
   ],
   "source": [
    "test_bagging.groupby('Deciles')[['Actual','predicted']].mean().sort_index(ascending = False).reset_index()"
   ]
  },
  {
   "cell_type": "markdown",
   "metadata": {},
   "source": [
    "<center>\n",
    "<h1>Random Forest"
   ]
  },
  {
   "cell_type": "code",
   "execution_count": 157,
   "metadata": {},
   "outputs": [],
   "source": [
    "from sklearn.ensemble import RandomForestRegressor"
   ]
  },
  {
   "cell_type": "code",
   "execution_count": 158,
   "metadata": {},
   "outputs": [],
   "source": [
    "param_grid1={'n_estimators':[100,200,300,400],\n",
    "'max_depth':np.arange(1,15),}"
   ]
  },
  {
   "cell_type": "code",
   "execution_count": 159,
   "metadata": {},
   "outputs": [],
   "source": [
    "rndm_frst_reg = GridSearchCV(RandomForestRegressor(warm_start = True),param_grid1 , cv = 5)"
   ]
  },
  {
   "cell_type": "code",
   "execution_count": 160,
   "metadata": {},
   "outputs": [
    {
     "data": {
      "text/plain": [
       "GridSearchCV(cv=5, error_score=nan,\n",
       "             estimator=RandomForestRegressor(bootstrap=True, ccp_alpha=0.0,\n",
       "                                             criterion='mse', max_depth=None,\n",
       "                                             max_features='auto',\n",
       "                                             max_leaf_nodes=None,\n",
       "                                             max_samples=None,\n",
       "                                             min_impurity_decrease=0.0,\n",
       "                                             min_impurity_split=None,\n",
       "                                             min_samples_leaf=1,\n",
       "                                             min_samples_split=2,\n",
       "                                             min_weight_fraction_leaf=0.0,\n",
       "                                             n_estimators=100, n_jobs=None,\n",
       "                                             oob_score=False, random_state=None,\n",
       "                                             verbose=0, warm_start=True),\n",
       "             iid='deprecated', n_jobs=None,\n",
       "             param_grid={'max_depth': array([ 1,  2,  3,  4,  5,  6,  7,  8,  9, 10, 11, 12, 13, 14]),\n",
       "                         'n_estimators': [100, 200, 300, 400]},\n",
       "             pre_dispatch='2*n_jobs', refit=True, return_train_score=False,\n",
       "             scoring=None, verbose=0)"
      ]
     },
     "execution_count": 160,
     "metadata": {},
     "output_type": "execute_result"
    }
   ],
   "source": [
    "rndm_frst_reg.fit(train[feature_columns2],train.log_spending)"
   ]
  },
  {
   "cell_type": "code",
   "execution_count": 161,
   "metadata": {},
   "outputs": [
    {
     "data": {
      "text/plain": [
       "{'mean_fit_time': array([0.34309697, 0.66403952, 0.96741285, 1.27398601, 0.41668591,\n",
       "        0.8236052 , 1.29234529, 1.63383217, 0.51282191, 1.03442583,\n",
       "        1.52951918, 2.58288841, 0.61535497, 1.24288535, 1.86700907,\n",
       "        2.54060826, 0.75199633, 1.4313673 , 2.28270431, 3.29239149,\n",
       "        0.82379708, 1.63103957, 2.4769794 , 3.26666946, 0.94741917,\n",
       "        2.37545872, 2.75785198, 3.84813914, 1.0424232 , 2.08143892,\n",
       "        3.6460566 , 4.5049612 , 1.25863776, 2.51748061, 4.93131084,\n",
       "        4.88754315, 1.38868804, 2.78038397, 4.76606226, 5.82223873,\n",
       "        1.98587198, 3.64205718, 4.71818976, 6.62230606, 1.69666562,\n",
       "        3.14059844, 5.22542644, 6.55487952, 1.50588417, 2.9994133 ,\n",
       "        4.92006755, 6.04486375, 1.49922361, 3.06621957, 5.02798181,\n",
       "        5.97965417]),\n",
       " 'std_fit_time': array([0.04061388, 0.02560294, 0.07828578, 0.11089489, 0.00984144,\n",
       "        0.00318585, 0.12111203, 0.00895179, 0.00614757, 0.00646188,\n",
       "        0.00994526, 0.48934445, 0.00340209, 0.0170148 , 0.03336772,\n",
       "        0.07703833, 0.03339961, 0.00761363, 0.22817967, 0.62189143,\n",
       "        0.0049264 , 0.00936845, 0.04194307, 0.01626174, 0.03634295,\n",
       "        0.45626705, 0.00968761, 0.33849655, 0.00617365, 0.00778054,\n",
       "        0.64872302, 0.26669501, 0.08449471, 0.10357981, 1.24728538,\n",
       "        0.02050035, 0.01395748, 0.01684082, 0.61506717, 0.23291472,\n",
       "        0.28393178, 0.63523261, 0.08296922, 1.00006701, 0.24322275,\n",
       "        0.08091635, 0.47256778, 0.70406654, 0.01671851, 0.03493167,\n",
       "        0.79765112, 0.151809  , 0.00720383, 0.0815388 , 0.76224038,\n",
       "        0.02676584]),\n",
       " 'mean_score_time': array([0.01315522, 0.02333012, 0.03212891, 0.04208698, 0.01356401,\n",
       "        0.02453599, 0.03669472, 0.04408255, 0.01436911, 0.02633891,\n",
       "        0.04028511, 0.05605879, 0.01575737, 0.02751865, 0.04208779,\n",
       "        0.05325847, 0.01674881, 0.0305254 , 0.04447565, 0.07002087,\n",
       "        0.01775317, 0.03371067, 0.04986696, 0.06542459, 0.02233334,\n",
       "        0.04069881, 0.05445614, 0.07139568, 0.02134085, 0.03989053,\n",
       "        0.07142582, 0.07980957, 0.02293549, 0.04488125, 0.07320228,\n",
       "        0.08956356, 0.02573981, 0.05045004, 0.07938747, 0.10213451,\n",
       "        0.03413062, 0.05326633, 0.09078202, 0.121276  , 0.03052502,\n",
       "        0.05345721, 0.08618674, 0.10332403, 0.02831707, 0.0502728 ,\n",
       "        0.08458772, 0.1017457 , 0.02671962, 0.0546679 , 0.08557553,\n",
       "        0.10012646]),\n",
       " 'std_score_time': array([0.00146619, 0.00101937, 0.00213391, 0.0019337 , 0.00079812,\n",
       "        0.00232592, 0.00183082, 0.00097691, 0.00080473, 0.00136221,\n",
       "        0.00462396, 0.01244326, 0.0009772 , 0.00080326, 0.00330176,\n",
       "        0.00101738, 0.00074534, 0.00119267, 0.00048357, 0.01569307,\n",
       "        0.00039914, 0.00159671, 0.00209112, 0.0027197 , 0.0043543 ,\n",
       "        0.00622081, 0.00272116, 0.00224268, 0.00079334, 0.00062662,\n",
       "        0.01567159, 0.00326589, 0.00109137, 0.00288938, 0.01186082,\n",
       "        0.00333686, 0.00038452, 0.00136346, 0.00830946, 0.00638995,\n",
       "        0.00926234, 0.00135113, 0.01679311, 0.03811212, 0.00420791,\n",
       "        0.00135221, 0.00634584, 0.0013531 , 0.00224122, 0.00049723,\n",
       "        0.01243224, 0.00568365, 0.00116746, 0.00576733, 0.01821553,\n",
       "        0.00270809]),\n",
       " 'param_max_depth': masked_array(data=[1, 1, 1, 1, 2, 2, 2, 2, 3, 3, 3, 3, 4, 4, 4, 4, 5, 5,\n",
       "                    5, 5, 6, 6, 6, 6, 7, 7, 7, 7, 8, 8, 8, 8, 9, 9, 9, 9,\n",
       "                    10, 10, 10, 10, 11, 11, 11, 11, 12, 12, 12, 12, 13, 13,\n",
       "                    13, 13, 14, 14, 14, 14],\n",
       "              mask=[False, False, False, False, False, False, False, False,\n",
       "                    False, False, False, False, False, False, False, False,\n",
       "                    False, False, False, False, False, False, False, False,\n",
       "                    False, False, False, False, False, False, False, False,\n",
       "                    False, False, False, False, False, False, False, False,\n",
       "                    False, False, False, False, False, False, False, False,\n",
       "                    False, False, False, False, False, False, False, False],\n",
       "        fill_value='?',\n",
       "             dtype=object),\n",
       " 'param_n_estimators': masked_array(data=[100, 200, 300, 400, 100, 200, 300, 400, 100, 200, 300,\n",
       "                    400, 100, 200, 300, 400, 100, 200, 300, 400, 100, 200,\n",
       "                    300, 400, 100, 200, 300, 400, 100, 200, 300, 400, 100,\n",
       "                    200, 300, 400, 100, 200, 300, 400, 100, 200, 300, 400,\n",
       "                    100, 200, 300, 400, 100, 200, 300, 400, 100, 200, 300,\n",
       "                    400],\n",
       "              mask=[False, False, False, False, False, False, False, False,\n",
       "                    False, False, False, False, False, False, False, False,\n",
       "                    False, False, False, False, False, False, False, False,\n",
       "                    False, False, False, False, False, False, False, False,\n",
       "                    False, False, False, False, False, False, False, False,\n",
       "                    False, False, False, False, False, False, False, False,\n",
       "                    False, False, False, False, False, False, False, False],\n",
       "        fill_value='?',\n",
       "             dtype=object),\n",
       " 'params': [{'max_depth': 1, 'n_estimators': 100},\n",
       "  {'max_depth': 1, 'n_estimators': 200},\n",
       "  {'max_depth': 1, 'n_estimators': 300},\n",
       "  {'max_depth': 1, 'n_estimators': 400},\n",
       "  {'max_depth': 2, 'n_estimators': 100},\n",
       "  {'max_depth': 2, 'n_estimators': 200},\n",
       "  {'max_depth': 2, 'n_estimators': 300},\n",
       "  {'max_depth': 2, 'n_estimators': 400},\n",
       "  {'max_depth': 3, 'n_estimators': 100},\n",
       "  {'max_depth': 3, 'n_estimators': 200},\n",
       "  {'max_depth': 3, 'n_estimators': 300},\n",
       "  {'max_depth': 3, 'n_estimators': 400},\n",
       "  {'max_depth': 4, 'n_estimators': 100},\n",
       "  {'max_depth': 4, 'n_estimators': 200},\n",
       "  {'max_depth': 4, 'n_estimators': 300},\n",
       "  {'max_depth': 4, 'n_estimators': 400},\n",
       "  {'max_depth': 5, 'n_estimators': 100},\n",
       "  {'max_depth': 5, 'n_estimators': 200},\n",
       "  {'max_depth': 5, 'n_estimators': 300},\n",
       "  {'max_depth': 5, 'n_estimators': 400},\n",
       "  {'max_depth': 6, 'n_estimators': 100},\n",
       "  {'max_depth': 6, 'n_estimators': 200},\n",
       "  {'max_depth': 6, 'n_estimators': 300},\n",
       "  {'max_depth': 6, 'n_estimators': 400},\n",
       "  {'max_depth': 7, 'n_estimators': 100},\n",
       "  {'max_depth': 7, 'n_estimators': 200},\n",
       "  {'max_depth': 7, 'n_estimators': 300},\n",
       "  {'max_depth': 7, 'n_estimators': 400},\n",
       "  {'max_depth': 8, 'n_estimators': 100},\n",
       "  {'max_depth': 8, 'n_estimators': 200},\n",
       "  {'max_depth': 8, 'n_estimators': 300},\n",
       "  {'max_depth': 8, 'n_estimators': 400},\n",
       "  {'max_depth': 9, 'n_estimators': 100},\n",
       "  {'max_depth': 9, 'n_estimators': 200},\n",
       "  {'max_depth': 9, 'n_estimators': 300},\n",
       "  {'max_depth': 9, 'n_estimators': 400},\n",
       "  {'max_depth': 10, 'n_estimators': 100},\n",
       "  {'max_depth': 10, 'n_estimators': 200},\n",
       "  {'max_depth': 10, 'n_estimators': 300},\n",
       "  {'max_depth': 10, 'n_estimators': 400},\n",
       "  {'max_depth': 11, 'n_estimators': 100},\n",
       "  {'max_depth': 11, 'n_estimators': 200},\n",
       "  {'max_depth': 11, 'n_estimators': 300},\n",
       "  {'max_depth': 11, 'n_estimators': 400},\n",
       "  {'max_depth': 12, 'n_estimators': 100},\n",
       "  {'max_depth': 12, 'n_estimators': 200},\n",
       "  {'max_depth': 12, 'n_estimators': 300},\n",
       "  {'max_depth': 12, 'n_estimators': 400},\n",
       "  {'max_depth': 13, 'n_estimators': 100},\n",
       "  {'max_depth': 13, 'n_estimators': 200},\n",
       "  {'max_depth': 13, 'n_estimators': 300},\n",
       "  {'max_depth': 13, 'n_estimators': 400},\n",
       "  {'max_depth': 14, 'n_estimators': 100},\n",
       "  {'max_depth': 14, 'n_estimators': 200},\n",
       "  {'max_depth': 14, 'n_estimators': 300},\n",
       "  {'max_depth': 14, 'n_estimators': 400}],\n",
       " 'split0_test_score': array([0.62638738, 0.62567121, 0.62545108, 0.62532054, 0.89063318,\n",
       "        0.89019631, 0.89123065, 0.89220218, 0.97757432, 0.97836708,\n",
       "        0.97834054, 0.97796475, 0.99541116, 0.99580799, 0.99582312,\n",
       "        0.99580332, 0.99952138, 0.99959676, 0.99957667, 0.99962351,\n",
       "        0.99993453, 0.99994398, 0.9999435 , 0.99994973, 0.99997619,\n",
       "        0.99997769, 0.99997791, 0.99997991, 0.99998398, 0.99998446,\n",
       "        0.99998285, 0.99998553, 0.99998752, 0.99998676, 0.99998747,\n",
       "        0.99998682, 0.99998672, 0.99998896, 0.99998782, 0.99998706,\n",
       "        0.99998927, 0.99998877, 0.99998868, 0.99998838, 0.99998725,\n",
       "        0.99998716, 0.9999899 , 0.99998688, 0.9999849 , 0.9999877 ,\n",
       "        0.99998853, 0.99998765, 0.99998597, 0.99998902, 0.9999857 ,\n",
       "        0.99998765]),\n",
       " 'split1_test_score': array([0.6162261 , 0.619149  , 0.61878256, 0.61966056, 0.89030276,\n",
       "        0.89106428, 0.89073995, 0.89013233, 0.98000203, 0.97926202,\n",
       "        0.97915745, 0.97987745, 0.99690758, 0.99690219, 0.99682734,\n",
       "        0.99684916, 0.99975634, 0.99976493, 0.99978297, 0.99977036,\n",
       "        0.99995255, 0.99996559, 0.99996507, 0.99996166, 0.9999811 ,\n",
       "        0.9999845 , 0.99998425, 0.99998372, 0.9999908 , 0.99999082,\n",
       "        0.99999114, 0.99999134, 0.99999348, 0.99999409, 0.99999403,\n",
       "        0.99999388, 0.99999394, 0.99999439, 0.99999511, 0.99999486,\n",
       "        0.99999464, 0.9999948 , 0.99999476, 0.99999439, 0.99999358,\n",
       "        0.99999461, 0.99999476, 0.99999516, 0.99999456, 0.99999368,\n",
       "        0.99999519, 0.99999499, 0.99999454, 0.99999448, 0.99999459,\n",
       "        0.99999492]),\n",
       " 'split2_test_score': array([0.61331165, 0.61161802, 0.61284487, 0.61387041, 0.89264945,\n",
       "        0.8934501 , 0.89362535, 0.89248744, 0.97579483, 0.97701349,\n",
       "        0.97690946, 0.97670096, 0.99633098, 0.9964594 , 0.9963725 ,\n",
       "        0.99626746, 0.99966384, 0.99963684, 0.9996749 , 0.99967087,\n",
       "        0.99991257, 0.99991803, 0.99991773, 0.9999184 , 0.99995919,\n",
       "        0.99996297, 0.99995881, 0.99996352, 0.99997172, 0.99997036,\n",
       "        0.99997397, 0.99997499, 0.99997983, 0.99997111, 0.99997728,\n",
       "        0.99997596, 0.99998153, 0.99997913, 0.99997775, 0.99997944,\n",
       "        0.99997581, 0.99997665, 0.99997828, 0.99997629, 0.99997181,\n",
       "        0.99997242, 0.99997852, 0.99997517, 0.99997735, 0.99997697,\n",
       "        0.99997619, 0.99997292, 0.99997766, 0.99997668, 0.99997672,\n",
       "        0.99997671]),\n",
       " 'split3_test_score': array([0.63722444, 0.63653778, 0.63679952, 0.63725649, 0.88997572,\n",
       "        0.89230884, 0.89026761, 0.89111027, 0.97747288, 0.9777523 ,\n",
       "        0.97768313, 0.97785094, 0.99674759, 0.99656896, 0.99664894,\n",
       "        0.99658665, 0.99969627, 0.99970388, 0.99972654, 0.99971593,\n",
       "        0.9999537 , 0.99995431, 0.99995566, 0.99995537, 0.99998118,\n",
       "        0.99997975, 0.99998064, 0.9999803 , 0.99998424, 0.99998705,\n",
       "        0.99998602, 0.99998539, 0.99998776, 0.99998817, 0.99998969,\n",
       "        0.99998868, 0.99999032, 0.99998908, 0.99999014, 0.99999011,\n",
       "        0.99998968, 0.99998979, 0.99999002, 0.99998973, 0.99998803,\n",
       "        0.99998972, 0.99998982, 0.99999073, 0.99998922, 0.99998887,\n",
       "        0.99998915, 0.99999046, 0.99998964, 0.99998927, 0.99999001,\n",
       "        0.99998965]),\n",
       " 'split4_test_score': array([0.63815324, 0.63776304, 0.63557176, 0.63674854, 0.89964304,\n",
       "        0.89931277, 0.89846103, 0.89918702, 0.97876951, 0.97826238,\n",
       "        0.97855308, 0.97845804, 0.99642625, 0.99640342, 0.99657762,\n",
       "        0.99654592, 0.99970409, 0.99968669, 0.99969604, 0.99969826,\n",
       "        0.99995287, 0.99995469, 0.99995764, 0.99995408, 0.99998332,\n",
       "        0.99998446, 0.99998367, 0.99998465, 0.99998933, 0.99998945,\n",
       "        0.99999053, 0.99999024, 0.99999273, 0.99999121, 0.99999271,\n",
       "        0.99999259, 0.99999194, 0.99999271, 0.99999288, 0.99999357,\n",
       "        0.99999231, 0.99999188, 0.9999931 , 0.99999351, 0.99999294,\n",
       "        0.99999369, 0.99999346, 0.99999401, 0.99999348, 0.9999926 ,\n",
       "        0.99999403, 0.9999928 , 0.9999918 , 0.99999338, 0.99999419,\n",
       "        0.99999406]),\n",
       " 'mean_test_score': array([0.62626056, 0.62614781, 0.62588996, 0.62657131, 0.89264083,\n",
       "        0.89326646, 0.89286492, 0.89302385, 0.97792271, 0.97813145,\n",
       "        0.97812873, 0.97817043, 0.99636471, 0.99642839, 0.99644991,\n",
       "        0.9964105 , 0.99966839, 0.99967782, 0.99969143, 0.99969579,\n",
       "        0.99994124, 0.99994732, 0.99994792, 0.99994785, 0.9999762 ,\n",
       "        0.99997787, 0.99997706, 0.99997842, 0.99998401, 0.99998443,\n",
       "        0.9999849 , 0.9999855 , 0.99998826, 0.99998627, 0.99998824,\n",
       "        0.99998759, 0.99998889, 0.99998885, 0.99998874, 0.99998901,\n",
       "        0.99998834, 0.99998838, 0.99998897, 0.99998846, 0.99998672,\n",
       "        0.99998752, 0.99998929, 0.99998839, 0.9999879 , 0.99998796,\n",
       "        0.99998862, 0.99998777, 0.99998792, 0.99998857, 0.99998824,\n",
       "        0.9999886 ]),\n",
       " 'std_test_score': array([1.02958547e-02, 1.00318504e-02, 9.31276582e-03, 9.25618436e-03,\n",
       "        3.62301252e-03, 3.21820216e-03, 3.02744303e-03, 3.19281192e-03,\n",
       "        1.40657397e-03, 7.40872002e-04, 7.70501980e-04, 1.02959806e-03,\n",
       "        5.20672112e-04, 3.55170993e-04, 3.45610594e-04, 3.55223520e-04,\n",
       "        7.92693566e-05, 5.76125664e-05, 6.79365130e-05, 4.86148221e-05,\n",
       "        1.60349415e-05, 1.61633984e-05, 1.66106476e-05, 1.52106025e-05,\n",
       "        8.81724852e-06, 7.91188255e-06, 9.40082883e-06, 7.67520818e-06,\n",
       "        6.71533206e-06, 7.36155001e-06, 6.25505066e-06, 5.78083107e-06,\n",
       "        4.88143904e-06, 7.98901881e-06, 5.94002084e-06, 6.34880255e-06,\n",
       "        4.37606164e-06, 5.29663814e-06, 6.01888495e-06, 5.50480393e-06,\n",
       "        6.55981945e-06, 6.21502167e-06, 5.76305854e-06, 6.48482071e-06,\n",
       "        7.87323336e-06, 8.01627328e-06, 5.72544548e-06, 7.20827684e-06,\n",
       "        6.28479300e-06, 5.93080891e-06, 6.74287445e-06, 7.81341607e-06,\n",
       "        5.84790822e-06, 6.32588964e-06, 6.60203299e-06, 6.52619571e-06]),\n",
       " 'rank_test_score': array([54, 55, 56, 53, 52, 49, 51, 50, 48, 46, 47, 45, 44, 42, 41, 43, 40,\n",
       "        39, 38, 37, 36, 35, 33, 34, 32, 30, 31, 29, 28, 27, 26, 25, 14, 24,\n",
       "        16, 21,  4,  5,  6,  2, 13, 12,  3, 10, 23, 22,  1, 11, 19, 17,  7,\n",
       "        20, 18,  9, 15,  8])}"
      ]
     },
     "execution_count": 161,
     "metadata": {},
     "output_type": "execute_result"
    }
   ],
   "source": [
    "rndm_frst_reg.cv_results_"
   ]
  },
  {
   "cell_type": "code",
   "execution_count": 162,
   "metadata": {},
   "outputs": [
    {
     "data": {
      "text/plain": [
       "{'max_depth': 12, 'n_estimators': 300}"
      ]
     },
     "execution_count": 162,
     "metadata": {},
     "output_type": "execute_result"
    }
   ],
   "source": [
    "rndm_frst_reg.best_params_"
   ]
  },
  {
   "cell_type": "code",
   "execution_count": 163,
   "metadata": {},
   "outputs": [],
   "source": [
    "rndm_frst_reg= RandomForestRegressor(max_depth=12,n_estimators=300)"
   ]
  },
  {
   "cell_type": "code",
   "execution_count": 164,
   "metadata": {},
   "outputs": [
    {
     "data": {
      "text/plain": [
       "RandomForestRegressor(bootstrap=True, ccp_alpha=0.0, criterion='mse',\n",
       "                      max_depth=12, max_features='auto', max_leaf_nodes=None,\n",
       "                      max_samples=None, min_impurity_decrease=0.0,\n",
       "                      min_impurity_split=None, min_samples_leaf=1,\n",
       "                      min_samples_split=2, min_weight_fraction_leaf=0.0,\n",
       "                      n_estimators=300, n_jobs=None, oob_score=False,\n",
       "                      random_state=None, verbose=0, warm_start=False)"
      ]
     },
     "execution_count": 164,
     "metadata": {},
     "output_type": "execute_result"
    }
   ],
   "source": [
    "rndm_frst_reg.fit(train[feature_columns2],train.log_spending)"
   ]
  },
  {
   "cell_type": "markdown",
   "metadata": {},
   "source": [
    "## Predictions"
   ]
  },
  {
   "cell_type": "code",
   "execution_count": 165,
   "metadata": {},
   "outputs": [],
   "source": [
    "train_random = pd.DataFrame({'Actual':train.spending,'predicted':np.exp(rndm_frst_reg.predict(train[feature_columns2]))})\n",
    "test_random = pd.DataFrame({'Actual':test.spending,'predicted':np.exp(rndm_frst_reg.predict(test[feature_columns2]))})"
   ]
  },
  {
   "cell_type": "code",
   "execution_count": 168,
   "metadata": {},
   "outputs": [
    {
     "data": {
      "text/html": [
       "<div>\n",
       "<style scoped>\n",
       "    .dataframe tbody tr th:only-of-type {\n",
       "        vertical-align: middle;\n",
       "    }\n",
       "\n",
       "    .dataframe tbody tr th {\n",
       "        vertical-align: top;\n",
       "    }\n",
       "\n",
       "    .dataframe thead th {\n",
       "        text-align: right;\n",
       "    }\n",
       "</style>\n",
       "<table border=\"1\" class=\"dataframe\">\n",
       "  <thead>\n",
       "    <tr style=\"text-align: right;\">\n",
       "      <th></th>\n",
       "      <th>Actual</th>\n",
       "      <th>predicted</th>\n",
       "    </tr>\n",
       "  </thead>\n",
       "  <tbody>\n",
       "    <tr>\n",
       "      <th>3566</th>\n",
       "      <td>499.15</td>\n",
       "      <td>499.243530</td>\n",
       "    </tr>\n",
       "    <tr>\n",
       "      <th>4252</th>\n",
       "      <td>407.08</td>\n",
       "      <td>407.021773</td>\n",
       "    </tr>\n",
       "    <tr>\n",
       "      <th>1918</th>\n",
       "      <td>232.08</td>\n",
       "      <td>232.143007</td>\n",
       "    </tr>\n",
       "    <tr>\n",
       "      <th>4111</th>\n",
       "      <td>231.82</td>\n",
       "      <td>232.086617</td>\n",
       "    </tr>\n",
       "    <tr>\n",
       "      <th>1471</th>\n",
       "      <td>256.02</td>\n",
       "      <td>256.011727</td>\n",
       "    </tr>\n",
       "  </tbody>\n",
       "</table>\n",
       "</div>"
      ],
      "text/plain": [
       "      Actual   predicted\n",
       "3566  499.15  499.243530\n",
       "4252  407.08  407.021773\n",
       "1918  232.08  232.143007\n",
       "4111  231.82  232.086617\n",
       "1471  256.02  256.011727"
      ]
     },
     "execution_count": 168,
     "metadata": {},
     "output_type": "execute_result"
    }
   ],
   "source": [
    "test_random.head(5)"
   ]
  },
  {
   "cell_type": "code",
   "execution_count": 169,
   "metadata": {},
   "outputs": [
    {
     "data": {
      "text/html": [
       "<div>\n",
       "<style scoped>\n",
       "    .dataframe tbody tr th:only-of-type {\n",
       "        vertical-align: middle;\n",
       "    }\n",
       "\n",
       "    .dataframe tbody tr th {\n",
       "        vertical-align: top;\n",
       "    }\n",
       "\n",
       "    .dataframe thead th {\n",
       "        text-align: right;\n",
       "    }\n",
       "</style>\n",
       "<table border=\"1\" class=\"dataframe\">\n",
       "  <thead>\n",
       "    <tr style=\"text-align: right;\">\n",
       "      <th></th>\n",
       "      <th>Actual</th>\n",
       "      <th>predicted</th>\n",
       "    </tr>\n",
       "  </thead>\n",
       "  <tbody>\n",
       "    <tr>\n",
       "      <th>2416</th>\n",
       "      <td>600.97</td>\n",
       "      <td>601.012374</td>\n",
       "    </tr>\n",
       "    <tr>\n",
       "      <th>2417</th>\n",
       "      <td>604.09</td>\n",
       "      <td>604.239822</td>\n",
       "    </tr>\n",
       "    <tr>\n",
       "      <th>2513</th>\n",
       "      <td>517.89</td>\n",
       "      <td>517.756272</td>\n",
       "    </tr>\n",
       "    <tr>\n",
       "      <th>1698</th>\n",
       "      <td>748.64</td>\n",
       "      <td>748.433470</td>\n",
       "    </tr>\n",
       "    <tr>\n",
       "      <th>3322</th>\n",
       "      <td>431.36</td>\n",
       "      <td>431.350194</td>\n",
       "    </tr>\n",
       "  </tbody>\n",
       "</table>\n",
       "</div>"
      ],
      "text/plain": [
       "      Actual   predicted\n",
       "2416  600.97  601.012374\n",
       "2417  604.09  604.239822\n",
       "2513  517.89  517.756272\n",
       "1698  748.64  748.433470\n",
       "3322  431.36  431.350194"
      ]
     },
     "execution_count": 169,
     "metadata": {},
     "output_type": "execute_result"
    }
   ],
   "source": [
    "train_random.head(5)"
   ]
  },
  {
   "cell_type": "markdown",
   "metadata": {},
   "source": [
    "## Mean errors"
   ]
  },
  {
   "cell_type": "code",
   "execution_count": 170,
   "metadata": {},
   "outputs": [
    {
     "data": {
      "text/plain": [
       "Actual       494.620755\n",
       "predicted    494.620113\n",
       "dtype: float64"
      ]
     },
     "execution_count": 170,
     "metadata": {},
     "output_type": "execute_result"
    }
   ],
   "source": [
    "train_random[['Actual','predicted']].mean() ## No errors have been found "
   ]
  },
  {
   "cell_type": "code",
   "execution_count": 171,
   "metadata": {},
   "outputs": [
    {
     "data": {
      "text/plain": [
       "Actual       486.638215\n",
       "predicted    486.652013\n",
       "dtype: float64"
      ]
     },
     "execution_count": 171,
     "metadata": {},
     "output_type": "execute_result"
    }
   ],
   "source": [
    "test_random[['Actual','predicted']].mean()"
   ]
  },
  {
   "cell_type": "markdown",
   "metadata": {},
   "source": [
    "## MSE AND RMSE"
   ]
  },
  {
   "cell_type": "code",
   "execution_count": 172,
   "metadata": {},
   "outputs": [
    {
     "name": "stdout",
     "output_type": "stream",
     "text": [
      "MSE_TRAIN 0.13118034314992724 | MSE_TEST 0.537449686510516\n",
      "RMSE_TRAIN 0.362188270309693 | RMSE_TEST 0.7331096006127024\n"
     ]
    }
   ],
   "source": [
    "MSE_TRAIN_random = metrics.mean_squared_error(train_random.Actual,train_random.predicted)\n",
    "MSE_TREST_random = metrics.mean_squared_error(test_random.Actual,test_random.predicted)\n",
    "\n",
    "RMSE_TRAIN = np.sqrt(MSE_TRAIN_random)\n",
    "RMSE_TEST= np.sqrt(MSE_TREST_random)\n",
    "\n",
    "print('MSE_TRAIN',MSE_TRAIN_random,'|','MSE_TEST',MSE_TREST_random)\n",
    "print('RMSE_TRAIN',RMSE_TRAIN,'|','RMSE_TEST',RMSE_TEST) ## Errors are high "
   ]
  },
  {
   "cell_type": "code",
   "execution_count": null,
   "metadata": {},
   "outputs": [],
   "source": []
  },
  {
   "cell_type": "code",
   "execution_count": null,
   "metadata": {},
   "outputs": [],
   "source": []
  }
 ],
 "metadata": {
  "kernelspec": {
   "display_name": "Python 3",
   "language": "python",
   "name": "python3"
  },
  "language_info": {
   "codemirror_mode": {
    "name": "ipython",
    "version": 3
   },
   "file_extension": ".py",
   "mimetype": "text/x-python",
   "name": "python",
   "nbconvert_exporter": "python",
   "pygments_lexer": "ipython3",
   "version": "3.7.6"
  }
 },
 "nbformat": 4,
 "nbformat_minor": 4
}
